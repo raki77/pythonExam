{
 "cells": [
  {
   "cell_type": "code",
   "execution_count": 2,
   "metadata": {},
   "outputs": [],
   "source": [
    "import cv2"
   ]
  },
  {
   "cell_type": "code",
   "execution_count": 1,
   "metadata": {},
   "outputs": [],
   "source": [
    "import cv2\n",
    "\n",
    "img_file = './img/girl.jpg'\n",
    "# save_file = './img/girl_gray.jpg'\n",
    "\n",
    "img = cv2.imread(img_file, cv2.IMREAD_GRAYSCALE)\n",
    "cv2.imshow(img_file, img)\n",
    "# cv2.imwrite(save_file, img) #파일로 저장, 포맷은 확장에 따름\n",
    "cv2.waitKey()\n",
    "cv2.destroyAllWindows()\n"
   ]
  },
  {
   "cell_type": "code",
   "execution_count": 3,
   "metadata": {},
   "outputs": [
    {
     "ename": "error",
     "evalue": "OpenCV(4.10.0) D:\\a\\opencv-python\\opencv-python\\opencv\\modules\\highgui\\src\\window_w32.cpp:1473: error: (-27:Null pointer) NULL window: 'origin' in function 'cvResizeWindow'\n",
     "output_type": "error",
     "traceback": [
      "\u001b[1;31m---------------------------------------------------------------------------\u001b[0m",
      "\u001b[1;31merror\u001b[0m                                     Traceback (most recent call last)",
      "Cell \u001b[1;32mIn[3], line 16\u001b[0m\n\u001b[0;32m     13\u001b[0m cv2\u001b[38;5;241m.\u001b[39mmoveWindow(\u001b[38;5;124m'\u001b[39m\u001b[38;5;124mgray\u001b[39m\u001b[38;5;124m'\u001b[39m, \u001b[38;5;241m100\u001b[39m, \u001b[38;5;241m100\u001b[39m)                        \u001b[38;5;66;03m# 창 위치 변경\u001b[39;00m\n\u001b[0;32m     15\u001b[0m cv2\u001b[38;5;241m.\u001b[39mwaitKey(\u001b[38;5;241m0\u001b[39m)                                          \u001b[38;5;66;03m# 아무키나 누르면\u001b[39;00m\n\u001b[1;32m---> 16\u001b[0m \u001b[43mcv2\u001b[49m\u001b[38;5;241;43m.\u001b[39;49m\u001b[43mresizeWindow\u001b[49m\u001b[43m(\u001b[49m\u001b[38;5;124;43m'\u001b[39;49m\u001b[38;5;124;43morigin\u001b[39;49m\u001b[38;5;124;43m'\u001b[39;49m\u001b[43m,\u001b[49m\u001b[43m \u001b[49m\u001b[38;5;241;43m200\u001b[39;49m\u001b[43m,\u001b[49m\u001b[43m \u001b[49m\u001b[38;5;241;43m200\u001b[39;49m\u001b[43m)\u001b[49m                    \u001b[38;5;66;03m# 창 크기 변경 (변경 안됨)\u001b[39;00m\n\u001b[0;32m     17\u001b[0m cv2\u001b[38;5;241m.\u001b[39mresizeWindow(\u001b[38;5;124m'\u001b[39m\u001b[38;5;124mgray\u001b[39m\u001b[38;5;124m'\u001b[39m, \u001b[38;5;241m100\u001b[39m, \u001b[38;5;241m100\u001b[39m)                      \u001b[38;5;66;03m# 창 크기 변경 (변경 됨))\u001b[39;00m\n\u001b[0;32m     19\u001b[0m cv2\u001b[38;5;241m.\u001b[39mwaitKey(\u001b[38;5;241m0\u001b[39m)                                          \u001b[38;5;66;03m# 아무키나 누르면\u001b[39;00m\n",
      "\u001b[1;31merror\u001b[0m: OpenCV(4.10.0) D:\\a\\opencv-python\\opencv-python\\opencv\\modules\\highgui\\src\\window_w32.cpp:1473: error: (-27:Null pointer) NULL window: 'origin' in function 'cvResizeWindow'\n"
     ]
    }
   ],
   "source": [
    "import cv2\n",
    "\n",
    "file_path = './img/girl.jpg'\n",
    "img = cv2.imread(file_path)                            # 이미지를 기본 값으로 읽기\n",
    "img_gray = cv2.imread(file_path, cv2.IMREAD_GRAYSCALE) # 이미지를 그레이 스케일로 읽기\n",
    "\n",
    "cv2.namedWindow('origin')                               # origin 이름으로 창 생성\n",
    "cv2.namedWindow('gray', cv2.WINDOW_NORMAL)              # gray 이름으로 창 생성\n",
    "cv2.imshow('origin', img)                               # origin 창에 이미지 표시\n",
    "cv2.imshow('gray', img_gray)                            # gray 창에 이미지 표시\n",
    "\n",
    "cv2.moveWindow('origin', 0, 0)                          # 창 위치 변경\n",
    "cv2.moveWindow('gray', 100, 100)                        # 창 위치 변경\n",
    "\n",
    "cv2.waitKey(0)                                          # 아무키나 누르면\n",
    "cv2.resizeWindow('origin', 200, 200)                    # 창 크기 변경 (변경 안됨)\n",
    "cv2.resizeWindow('gray', 100, 100)                      # 창 크기 변경 (변경 됨))\n",
    "\n",
    "cv2.waitKey(0)                                          # 아무키나 누르면\n",
    "cv2.destroyWindow(\"gray\")                               # gray 창 닫기\n",
    "\n",
    "cv2.waitKey(0)                                          # 아무키나 누르면\n",
    "cv2.destroyAllWindows()                                 # 모든 창 닫기"
   ]
  },
  {
   "cell_type": "code",
   "execution_count": 3,
   "metadata": {},
   "outputs": [],
   "source": [
    "from tkinter import *\n",
    "\n",
    "window = Tk()\n",
    "window.title(\"연습 문제\")\n",
    "window.geometry(\"400x100\")\n",
    "window.resizable(width = FALSE, height = FALSE)\n",
    "label1 = Label(window, text = \"COOKBOOK~~ Python을 학습중...\", font = (\"궁서체\", 15), fg = \"red\")\n",
    "label1.pack()\n",
    "window.mainloop()\n"
   ]
  }
 ],
 "metadata": {
  "kernelspec": {
   "display_name": "mldltest1",
   "language": "python",
   "name": "python3"
  },
  "language_info": {
   "codemirror_mode": {
    "name": "ipython",
    "version": 3
   },
   "file_extension": ".py",
   "mimetype": "text/x-python",
   "name": "python",
   "nbconvert_exporter": "python",
   "pygments_lexer": "ipython3",
   "version": "3.8.19"
  }
 },
 "nbformat": 4,
 "nbformat_minor": 2
}
