{
 "cells": [
  {
   "cell_type": "code",
   "execution_count": 1,
   "metadata": {},
   "outputs": [],
   "source": [
    "from tkinter import *\n",
    "\n",
    "window = Tk()\n",
    "window.title(\"연습 문제\")\n",
    "window.geometry(\"400x100\")\n",
    "window.resizable(width = FALSE, height = FALSE)\n",
    "label1 = Label(window, text = \"COOKBOOK~~ Python을 학습중...\", font = (\"궁서체\", 15), fg = \"red\")\n",
    "label1.pack()\n",
    "window.mainloop()\n"
   ]
  },
  {
   "cell_type": "code",
   "execution_count": 3,
   "metadata": {},
   "outputs": [
    {
     "ename": "NameError",
     "evalue": "name 'window' is not defined",
     "output_type": "error",
     "traceback": [
      "\u001b[1;31m---------------------------------------------------------------------------\u001b[0m",
      "\u001b[1;31mNameError\u001b[0m                                 Traceback (most recent call last)",
      "Cell \u001b[1;32mIn[3], line 10\u001b[0m\n\u001b[0;32m      7\u001b[0m     button1 \u001b[38;5;241m=\u001b[39m Button(window, text\u001b[38;5;241m=\u001b[39m\u001b[38;5;124m'\u001b[39m\u001b[38;5;124m여기를 클릭\u001b[39m\u001b[38;5;124m'\u001b[39m, )\n\u001b[0;32m      8\u001b[0m     button1\u001b[38;5;241m.\u001b[39mpack()\n\u001b[1;32m---> 10\u001b[0m \u001b[43mwindow\u001b[49m\u001b[38;5;241m.\u001b[39mmainloop()\n",
      "\u001b[1;31mNameError\u001b[0m: name 'window' is not defined"
     ]
    }
   ],
   "source": [
    "# from tkinter import *\n",
    "# from tkinter import messagebox\n",
    "\n",
    "# def click_button() :\n",
    "#     messagebox.showinfo(\"버튼\", \"버튼을 눌렀어요.\")\n",
    "\n",
    "# window = Tk()\n",
    "# button1 = Button(window, text='여기를 클릭', )\n",
    "# button1.pack()\n",
    "\n",
    "# window.mainloop()\n"
   ]
  },
  {
   "cell_type": "code",
   "execution_count": 15,
   "metadata": {},
   "outputs": [
    {
     "name": "stdout",
     "output_type": "stream",
     "text": [
      "Help on method grid_size in module tkinter:\n",
      "\n",
      "grid_size() method of tkinter.Tk instance\n",
      "    Return a tuple of the number of column and rows in the grid.\n",
      "\n"
     ]
    }
   ],
   "source": [
    "from tkinter import *\n",
    "window = Tk()\n",
    "help(window.size)\n",
    "window.title(\"불량 검출 프로젝트\")\n",
    "totalMenu = Menu(window)\n",
    "window.config(menu = totalMenu)\n",
    "upMenu = Menu(totalMenu)\n",
    "\n",
    "totalMenu.add_cascade(label = \"order\", menu = upMenu)\n",
    "upMenu.add_separator()\n",
    "upMenu.add_command(label = \"RUNNING\")\n",
    "upMenu.add_separator()\n",
    "upMenu.add_command(label = \"INFO\")\n",
    "upMenu.add_separator()\n",
    "upMenu.add_command(label = \"EXIT\")\n",
    "window.mainloop()\n"
   ]
  },
  {
   "cell_type": "code",
   "execution_count": null,
   "metadata": {},
   "outputs": [],
   "source": []
  }
 ],
 "metadata": {
  "kernelspec": {
   "display_name": "mldltest1",
   "language": "python",
   "name": "python3"
  },
  "language_info": {
   "codemirror_mode": {
    "name": "ipython",
    "version": 3
   },
   "file_extension": ".py",
   "mimetype": "text/x-python",
   "name": "python",
   "nbconvert_exporter": "python",
   "pygments_lexer": "ipython3",
   "version": "3.8.19"
  }
 },
 "nbformat": 4,
 "nbformat_minor": 2
}
