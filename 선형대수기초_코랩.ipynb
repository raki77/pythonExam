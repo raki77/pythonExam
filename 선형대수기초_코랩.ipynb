{
  "nbformat": 4,
  "nbformat_minor": 0,
  "metadata": {
    "colab": {
      "provenance": [],
      "gpuType": "V28",
      "authorship_tag": "ABX9TyPkRO5bWCLVuwVKbp9akAty",
      "include_colab_link": true
    },
    "kernelspec": {
      "name": "python3",
      "display_name": "Python 3"
    },
    "language_info": {
      "name": "python"
    },
    "accelerator": "TPU"
  },
  "cells": [
    {
      "cell_type": "markdown",
      "metadata": {
        "id": "view-in-github",
        "colab_type": "text"
      },
      "source": [
        "<a href=\"https://colab.research.google.com/github/raki77/pythonExam/blob/main/%EC%84%A0%ED%98%95%EB%8C%80%EC%88%98%EA%B8%B0%EC%B4%88_%EC%BD%94%EB%9E%A9.ipynb\" target=\"_parent\"><img src=\"https://colab.research.google.com/assets/colab-badge.svg\" alt=\"Open In Colab\"/></a>"
      ]
    },
    {
      "cell_type": "code",
      "execution_count": 7,
      "metadata": {
        "id": "2fOSiXc3JjsM"
      },
      "outputs": [],
      "source": [
        "import numpy"
      ]
    },
    {
      "cell_type": "code",
      "source": [
        "import numpy as np"
      ],
      "metadata": {
        "id": "gXRVkBLRMsCP"
      },
      "execution_count": 6,
      "outputs": []
    },
    {
      "cell_type": "code",
      "source": [
        "# array(...)\n",
        "#     array(object, dtype=None, *, copy=True, order='K', subok=False, ndmin=0,\n",
        "#           like=None)\n",
        "#     Create an array.\n",
        "\n",
        "help(np.array)"
      ],
      "metadata": {
        "colab": {
          "base_uri": "https://localhost:8080/"
        },
        "id": "UOmiKVocM1LG",
        "outputId": "6550ad69-5fd9-421f-e662-7a6716d2224d"
      },
      "execution_count": 9,
      "outputs": [
        {
          "output_type": "stream",
          "name": "stdout",
          "text": [
            "Help on built-in function array in module numpy:\n",
            "\n",
            "array(...)\n",
            "    array(object, dtype=None, *, copy=True, order='K', subok=False, ndmin=0,\n",
            "          like=None)\n",
            "    \n",
            "    Create an array.\n",
            "    \n",
            "    Parameters\n",
            "    ----------\n",
            "    object : array_like\n",
            "        An array, any object exposing the array interface, an object whose\n",
            "        ``__array__`` method returns an array, or any (nested) sequence.\n",
            "        If object is a scalar, a 0-dimensional array containing object is\n",
            "        returned.\n",
            "    dtype : data-type, optional\n",
            "        The desired data-type for the array. If not given, NumPy will try to use\n",
            "        a default ``dtype`` that can represent the values (by applying promotion\n",
            "        rules when necessary.)\n",
            "    copy : bool, optional\n",
            "        If true (default), then the object is copied.  Otherwise, a copy will\n",
            "        only be made if ``__array__`` returns a copy, if obj is a nested\n",
            "        sequence, or if a copy is needed to satisfy any of the other\n",
            "        requirements (``dtype``, ``order``, etc.).\n",
            "    order : {'K', 'A', 'C', 'F'}, optional\n",
            "        Specify the memory layout of the array. If object is not an array, the\n",
            "        newly created array will be in C order (row major) unless 'F' is\n",
            "        specified, in which case it will be in Fortran order (column major).\n",
            "        If object is an array the following holds.\n",
            "    \n",
            "        ===== ========= ===================================================\n",
            "        order  no copy                     copy=True\n",
            "        ===== ========= ===================================================\n",
            "        'K'   unchanged F & C order preserved, otherwise most similar order\n",
            "        'A'   unchanged F order if input is F and not C, otherwise C order\n",
            "        'C'   C order   C order\n",
            "        'F'   F order   F order\n",
            "        ===== ========= ===================================================\n",
            "    \n",
            "        When ``copy=False`` and a copy is made for other reasons, the result is\n",
            "        the same as if ``copy=True``, with some exceptions for 'A', see the\n",
            "        Notes section. The default order is 'K'.\n",
            "    subok : bool, optional\n",
            "        If True, then sub-classes will be passed-through, otherwise\n",
            "        the returned array will be forced to be a base-class array (default).\n",
            "    ndmin : int, optional\n",
            "        Specifies the minimum number of dimensions that the resulting\n",
            "        array should have.  Ones will be prepended to the shape as\n",
            "        needed to meet this requirement.\n",
            "    like : array_like, optional\n",
            "        Reference object to allow the creation of arrays which are not\n",
            "        NumPy arrays. If an array-like passed in as ``like`` supports\n",
            "        the ``__array_function__`` protocol, the result will be defined\n",
            "        by it. In this case, it ensures the creation of an array object\n",
            "        compatible with that passed in via this argument.\n",
            "    \n",
            "        .. versionadded:: 1.20.0\n",
            "    \n",
            "    Returns\n",
            "    -------\n",
            "    out : ndarray\n",
            "        An array object satisfying the specified requirements.\n",
            "    \n",
            "    See Also\n",
            "    --------\n",
            "    empty_like : Return an empty array with shape and type of input.\n",
            "    ones_like : Return an array of ones with shape and type of input.\n",
            "    zeros_like : Return an array of zeros with shape and type of input.\n",
            "    full_like : Return a new array with shape of input filled with value.\n",
            "    empty : Return a new uninitialized array.\n",
            "    ones : Return a new array setting values to one.\n",
            "    zeros : Return a new array setting values to zero.\n",
            "    full : Return a new array of given shape filled with value.\n",
            "    \n",
            "    \n",
            "    Notes\n",
            "    -----\n",
            "    When order is 'A' and ``object`` is an array in neither 'C' nor 'F' order,\n",
            "    and a copy is forced by a change in dtype, then the order of the result is\n",
            "    not necessarily 'C' as expected. This is likely a bug.\n",
            "    \n",
            "    Examples\n",
            "    --------\n",
            "    >>> np.array([1, 2, 3])\n",
            "    array([1, 2, 3])\n",
            "    \n",
            "    Upcasting:\n",
            "    \n",
            "    >>> np.array([1, 2, 3.0])\n",
            "    array([ 1.,  2.,  3.])\n",
            "    \n",
            "    More than one dimension:\n",
            "    \n",
            "    >>> np.array([[1, 2], [3, 4]])\n",
            "    array([[1, 2],\n",
            "           [3, 4]])\n",
            "    \n",
            "    Minimum dimensions 2:\n",
            "    \n",
            "    >>> np.array([1, 2, 3], ndmin=2)\n",
            "    array([[1, 2, 3]])\n",
            "    \n",
            "    Type provided:\n",
            "    \n",
            "    >>> np.array([1, 2, 3], dtype=complex)\n",
            "    array([ 1.+0.j,  2.+0.j,  3.+0.j])\n",
            "    \n",
            "    Data-type consisting of more than one element:\n",
            "    \n",
            "    >>> x = np.array([(1,2),(3,4)],dtype=[('a','<i4'),('b','<i4')])\n",
            "    >>> x['a']\n",
            "    array([1, 3])\n",
            "    \n",
            "    Creating an array from sub-classes:\n",
            "    \n",
            "    >>> np.array(np.mat('1 2; 3 4'))\n",
            "    array([[1, 2],\n",
            "           [3, 4]])\n",
            "    \n",
            "    >>> np.array(np.mat('1 2; 3 4'), subok=True)\n",
            "    matrix([[1, 2],\n",
            "            [3, 4]])\n",
            "\n"
          ]
        }
      ]
    },
    {
      "cell_type": "code",
      "source": [
        "!pwd"
      ],
      "metadata": {
        "colab": {
          "base_uri": "https://localhost:8080/"
        },
        "id": "-rYYVZ6UKjtp",
        "outputId": "8d4e7c99-2c98-4aba-da9c-aebf4b2c5966"
      },
      "execution_count": 7,
      "outputs": [
        {
          "output_type": "stream",
          "name": "stdout",
          "text": [
            "/content\n"
          ]
        }
      ]
    },
    {
      "cell_type": "code",
      "source": [
        "!find / -name 'numpy*'"
      ],
      "metadata": {
        "colab": {
          "base_uri": "https://localhost:8080/"
        },
        "id": "4obK3m5jK-o_",
        "outputId": "5959878b-984e-4e63-910a-116554764623"
      },
      "execution_count": 4,
      "outputs": [
        {
          "output_type": "stream",
          "name": "stdout",
          "text": [
            "/usr/include/boost/python/numpy\n",
            "/usr/include/boost/python/numpy/numpy_object_mgr_traits.hpp\n",
            "/usr/include/boost/python/numpy.hpp\n",
            "/usr/local/lib/python3.10/dist-packages/tensorflow/include/tsl/python/lib/core/numpy.h\n",
            "/usr/local/lib/python3.10/dist-packages/tensorflow/include/external/pybind11/include/pybind11/numpy.h\n",
            "/usr/local/lib/python3.10/dist-packages/tensorflow/include/external/pybind11/_virtual_includes/pybind11/pybind11/numpy.h\n",
            "/usr/local/lib/python3.10/dist-packages/tensorflow/include/external/local_config_python/numpy_include\n",
            "/usr/local/lib/python3.10/dist-packages/tensorflow/include/external/local_config_python/numpy_include/numpy\n",
            "/usr/local/lib/python3.10/dist-packages/tensorflow/include/external/local_config_python/numpy_include/numpy/numpyconfig.h\n",
            "/usr/local/lib/python3.10/dist-packages/tensorflow/include/tensorflow/tsl/python/lib/core/numpy.h\n",
            "/usr/local/lib/python3.10/dist-packages/tensorflow/dtensor/python/numpy_util.py\n",
            "/usr/local/lib/python3.10/dist-packages/tensorflow/dtensor/python/__pycache__/numpy_util.cpython-310.pyc\n",
            "/usr/local/lib/python3.10/dist-packages/tensorflow/python/distribute/numpy_dataset.py\n",
            "/usr/local/lib/python3.10/dist-packages/tensorflow/python/distribute/__pycache__/numpy_dataset.cpython-310.pyc\n",
            "/usr/local/lib/python3.10/dist-packages/tensorflow/python/ops/numpy_ops\n",
            "/usr/local/lib/python3.10/dist-packages/tensorflow/python/estimator/inputs/numpy_io.py\n",
            "/usr/local/lib/python3.10/dist-packages/tensorflow/python/estimator/inputs/__pycache__/numpy_io.cpython-310.pyc\n",
            "/usr/local/lib/python3.10/dist-packages/tensorflow/_api/v2/compat/v2/experimental/numpy\n",
            "/usr/local/lib/python3.10/dist-packages/tensorflow/_api/v2/experimental/numpy\n",
            "/usr/local/lib/python3.10/dist-packages/trax/fastmath/numpy.py\n",
            "/usr/local/lib/python3.10/dist-packages/trax/fastmath/__pycache__/numpy.cpython-310.pyc\n",
            "/usr/local/lib/python3.10/dist-packages/trax/tf_numpy/numpy\n",
            "/usr/local/lib/python3.10/dist-packages/trax/tf_numpy/numpy_impl\n",
            "/usr/local/lib/python3.10/dist-packages/numba/np/numpy_support.py\n",
            "/usr/local/lib/python3.10/dist-packages/numba/np/__pycache__/numpy_support.cpython-310.pyc\n",
            "/usr/local/lib/python3.10/dist-packages/numpy-1.26.4.dist-info\n",
            "/usr/local/lib/python3.10/dist-packages/numpy\n",
            "/usr/local/lib/python3.10/dist-packages/numpy/distutils/numpy_distribution.py\n",
            "/usr/local/lib/python3.10/dist-packages/numpy/distutils/__pycache__/numpy_distribution.cpython-310.pyc\n",
            "/usr/local/lib/python3.10/dist-packages/numpy/core/include/numpy\n",
            "/usr/local/lib/python3.10/dist-packages/numpy/core/include/numpy/numpyconfig.h\n",
            "/usr/local/lib/python3.10/dist-packages/numpy/core/tests/data/numpy_2_0_array.pkl\n",
            "/usr/local/lib/python3.10/dist-packages/sympy/codegen/__pycache__/numpy_nodes.cpython-310.pyc\n",
            "/usr/local/lib/python3.10/dist-packages/sympy/codegen/numpy_nodes.py\n",
            "/usr/local/lib/python3.10/dist-packages/sympy/printing/numpy.py\n",
            "/usr/local/lib/python3.10/dist-packages/sympy/printing/__pycache__/numpy.cpython-310.pyc\n",
            "/usr/local/lib/python3.10/dist-packages/torch/include/pybind11/numpy.h\n",
            "/usr/local/lib/python3.10/dist-packages/torch/include/torch/csrc/utils/numpy_stub.h\n",
            "/usr/local/lib/python3.10/dist-packages/torch/include/ATen/ops/numpy_T_compositeimplicitautograd_dispatch.h\n",
            "/usr/local/lib/python3.10/dist-packages/torch/include/ATen/ops/numpy_T.h\n",
            "/usr/local/lib/python3.10/dist-packages/torch/include/ATen/ops/numpy_T_ops.h\n",
            "/usr/local/lib/python3.10/dist-packages/torch/include/ATen/ops/numpy_T_native.h\n",
            "/usr/local/lib/python3.10/dist-packages/rpy2/robjects/numpy2ri.py\n",
            "/usr/local/lib/python3.10/dist-packages/rpy2/robjects/__pycache__/numpy2ri.cpython-310.pyc\n",
            "/usr/local/lib/python3.10/dist-packages/jax/numpy\n",
            "/usr/local/lib/python3.10/dist-packages/jax/_src/third_party/numpy\n",
            "/usr/local/lib/python3.10/dist-packages/jax/_src/numpy\n",
            "/usr/local/lib/python3.10/dist-packages/tensorflow_estimator/python/estimator/inputs/numpy_io.py\n",
            "/usr/local/lib/python3.10/dist-packages/tensorflow_estimator/python/estimator/inputs/__pycache__/numpy_io.cpython-310.pyc\n",
            "/usr/local/lib/python3.10/dist-packages/joblib/numpy_pickle_utils.py\n",
            "/usr/local/lib/python3.10/dist-packages/joblib/numpy_pickle.py\n",
            "/usr/local/lib/python3.10/dist-packages/joblib/__pycache__/numpy_pickle_utils.cpython-310.pyc\n",
            "/usr/local/lib/python3.10/dist-packages/joblib/__pycache__/numpy_pickle_compat.cpython-310.pyc\n",
            "/usr/local/lib/python3.10/dist-packages/joblib/__pycache__/numpy_pickle.cpython-310.pyc\n",
            "/usr/local/lib/python3.10/dist-packages/joblib/numpy_pickle_compat.py\n",
            "/usr/local/lib/python3.10/dist-packages/pyarrow/include/arrow/python/numpy_to_arrow.h\n",
            "/usr/local/lib/python3.10/dist-packages/pyarrow/include/arrow/python/numpy_convert.h\n",
            "/usr/local/lib/python3.10/dist-packages/pyarrow/include/arrow/python/numpy_interop.h\n",
            "/usr/local/lib/python3.10/dist-packages/pyarrow/src/arrow/python/numpy_internal.h\n",
            "/usr/local/lib/python3.10/dist-packages/pyarrow/src/arrow/python/numpy_convert.cc\n",
            "/usr/local/lib/python3.10/dist-packages/pyarrow/src/arrow/python/numpy_to_arrow.h\n",
            "/usr/local/lib/python3.10/dist-packages/pyarrow/src/arrow/python/numpy_to_arrow.cc\n",
            "/usr/local/lib/python3.10/dist-packages/pyarrow/src/arrow/python/numpy_convert.h\n",
            "/usr/local/lib/python3.10/dist-packages/pyarrow/src/arrow/python/numpy_interop.h\n",
            "/usr/local/lib/python3.10/dist-packages/tensorflow_probability/substrates/numpy\n",
            "/usr/local/lib/python3.10/dist-packages/tensorflow_probability/python/internal/backend/numpy\n",
            "/usr/local/lib/python3.10/dist-packages/tensorflow_probability/python/internal/backend/numpy/numpy_math.py\n",
            "/usr/local/lib/python3.10/dist-packages/tensorflow_probability/python/internal/backend/numpy/numpy_signal.py\n",
            "/usr/local/lib/python3.10/dist-packages/tensorflow_probability/python/internal/backend/numpy/numpy_keras.py\n",
            "/usr/local/lib/python3.10/dist-packages/tensorflow_probability/python/internal/backend/numpy/numpy_logging.py\n",
            "/usr/local/lib/python3.10/dist-packages/tensorflow_probability/python/internal/backend/numpy/numpy_array.py\n",
            "/usr/local/lib/python3.10/dist-packages/tensorflow_probability/python/internal/backend/numpy/__pycache__/numpy_signal.cpython-310.pyc\n",
            "/usr/local/lib/python3.10/dist-packages/tensorflow_probability/python/internal/backend/numpy/__pycache__/numpy_math.cpython-310.pyc\n",
            "/usr/local/lib/python3.10/dist-packages/tensorflow_probability/python/internal/backend/numpy/__pycache__/numpy_logging.cpython-310.pyc\n",
            "/usr/local/lib/python3.10/dist-packages/tensorflow_probability/python/internal/backend/numpy/__pycache__/numpy_array.cpython-310.pyc\n",
            "/usr/local/lib/python3.10/dist-packages/tensorflow_probability/python/internal/backend/numpy/__pycache__/numpy_keras.cpython-310.pyc\n",
            "/usr/local/lib/python3.10/dist-packages/tensorflow_probability/python/internal/backend/jax/numpy_math.py\n",
            "/usr/local/lib/python3.10/dist-packages/tensorflow_probability/python/internal/backend/jax/numpy_signal.py\n",
            "/usr/local/lib/python3.10/dist-packages/tensorflow_probability/python/internal/backend/jax/numpy_keras.py\n",
            "/usr/local/lib/python3.10/dist-packages/tensorflow_probability/python/internal/backend/jax/numpy_logging.py\n",
            "/usr/local/lib/python3.10/dist-packages/tensorflow_probability/python/internal/backend/jax/numpy_array.py\n",
            "/usr/local/lib/python3.10/dist-packages/tensorflow_probability/python/internal/backend/jax/__pycache__/numpy_signal.cpython-310.pyc\n",
            "/usr/local/lib/python3.10/dist-packages/tensorflow_probability/python/internal/backend/jax/__pycache__/numpy_math.cpython-310.pyc\n",
            "/usr/local/lib/python3.10/dist-packages/tensorflow_probability/python/internal/backend/jax/__pycache__/numpy_logging.cpython-310.pyc\n",
            "/usr/local/lib/python3.10/dist-packages/tensorflow_probability/python/internal/backend/jax/__pycache__/numpy_array.cpython-310.pyc\n",
            "/usr/local/lib/python3.10/dist-packages/tensorflow_probability/python/internal/backend/jax/__pycache__/numpy_keras.cpython-310.pyc\n",
            "/usr/local/lib/python3.10/dist-packages/tensorflow_probability/python/experimental/auto_batching/numpy_backend.py\n",
            "/usr/local/lib/python3.10/dist-packages/tensorflow_probability/python/experimental/auto_batching/__pycache__/numpy_backend.cpython-310.pyc\n",
            "/usr/local/lib/python3.10/dist-packages/pandas/compat/numpy\n",
            "/usr/local/lib/python3.10/dist-packages/pandas/tests/arrays/numpy_\n",
            "/usr/local/lib/python3.10/dist-packages/pandas/core/arrays/numpy_.py\n",
            "/usr/local/lib/python3.10/dist-packages/pandas/core/arrays/__pycache__/numpy_.cpython-310.pyc\n",
            "/usr/local/lib/python3.10/dist-packages/skimage/_vendored/numpy_lookfor.py\n",
            "/usr/local/lib/python3.10/dist-packages/skimage/_vendored/__pycache__/numpy_lookfor.cpython-310.pyc\n",
            "/usr/local/lib/python3.10/dist-packages/ml_dtypes/_src/numpy.h\n",
            "/usr/local/lib/python3.10/dist-packages/ml_dtypes/_src/numpy.cc\n",
            "/usr/local/lib/python3.10/dist-packages/numpy.libs\n",
            "/usr/local/lib/python3.10/dist-packages/scipy/_lib/array_api_compat/numpy\n",
            "/usr/local/lib/python3.10/dist-packages/gym/vector/utils/numpy_utils.py\n",
            "/usr/local/lib/python3.10/dist-packages/gym/vector/utils/__pycache__/numpy_utils.cpython-310.pyc\n",
            "/usr/local/lib/python3.10/dist-packages/docstring_parser/numpydoc.py\n",
            "/usr/local/lib/python3.10/dist-packages/docstring_parser/__pycache__/numpydoc.cpython-310.pyc\n",
            "/usr/local/lib/python3.10/dist-packages/etils/enp/numpy_utils.py\n",
            "/usr/local/lib/python3.10/dist-packages/etils/enp/__pycache__/numpy_utils.cpython-310.pyc\n",
            "/usr/local/lib/python3.10/dist-packages/safetensors/numpy.py\n",
            "/usr/local/lib/python3.10/dist-packages/safetensors/__pycache__/numpy.cpython-310.pyc\n",
            "/usr/local/lib/python3.10/dist-packages/osgeo_utils/auxiliary/numpy_util.py\n",
            "/usr/local/lib/python3.10/dist-packages/osgeo_utils/auxiliary/__pycache__/numpy_util.cpython-310.pyc\n",
            "/usr/local/lib/python3.10/dist-packages/thinc/backends/numpy_ops.pyx\n",
            "/usr/local/lib/python3.10/dist-packages/thinc/backends/numpy_ops.pxd\n",
            "/usr/local/lib/python3.10/dist-packages/thinc/backends/numpy_ops.cpython-310-x86_64-linux-gnu.so\n",
            "/usr/local/lib/python3.10/dist-packages/tensorflow_text/python/numpy\n",
            "/usr/local/lib/python3.10/dist-packages/pandas-stubs/core/arrays/numpy_.pyi\n"
          ]
        }
      ]
    },
    {
      "cell_type": "code",
      "source": [
        "# !pip install 패키지명"
      ],
      "metadata": {
        "id": "gZBqUEkBLEP6"
      },
      "execution_count": null,
      "outputs": []
    },
    {
      "cell_type": "code",
      "source": [
        "# np.array(1,2,3) #error\n",
        "\n",
        "arr1 = np.array([1,2,3])\n",
        "type(arr1)\n",
        "\n",
        "# numpy.ndarray : n차원 배열\n",
        "# nd : dimension (차원)\n",
        "# 머신러닝 : 차원축소\n",
        "\n"
      ],
      "metadata": {
        "colab": {
          "base_uri": "https://localhost:8080/"
        },
        "id": "DUI7I1xML3RO",
        "outputId": "2044288b-df16-478b-c329-803c33e29a09"
      },
      "execution_count": 10,
      "outputs": [
        {
          "output_type": "execute_result",
          "data": {
            "text/plain": [
              "numpy.ndarray"
            ]
          },
          "metadata": {},
          "execution_count": 10
        }
      ]
    },
    {
      "cell_type": "code",
      "source": [
        "arr1.shape"
      ],
      "metadata": {
        "colab": {
          "base_uri": "https://localhost:8080/"
        },
        "id": "34RgZAqWbkt9",
        "outputId": "e9b21d64-c423-4ad7-8aea-cb0cc94db8b8"
      },
      "execution_count": 11,
      "outputs": [
        {
          "output_type": "execute_result",
          "data": {
            "text/plain": [
              "(3,)"
            ]
          },
          "metadata": {},
          "execution_count": 11
        }
      ]
    },
    {
      "cell_type": "code",
      "source": [
        "arr1.size"
      ],
      "metadata": {
        "colab": {
          "base_uri": "https://localhost:8080/"
        },
        "id": "Go1j7drtblaE",
        "outputId": "161df4d5-09c5-4e8e-8f23-6da2609e8b0d"
      },
      "execution_count": 20,
      "outputs": [
        {
          "output_type": "execute_result",
          "data": {
            "text/plain": [
              "6"
            ]
          },
          "metadata": {},
          "execution_count": 20
        }
      ]
    },
    {
      "cell_type": "code",
      "source": [
        "arr1.ndim"
      ],
      "metadata": {
        "colab": {
          "base_uri": "https://localhost:8080/"
        },
        "id": "JhYqVL5acOf9",
        "outputId": "cbc5fbab-7ad5-404a-8d81-6a23f70d160f"
      },
      "execution_count": 21,
      "outputs": [
        {
          "output_type": "execute_result",
          "data": {
            "text/plain": [
              "2"
            ]
          },
          "metadata": {},
          "execution_count": 21
        }
      ]
    },
    {
      "cell_type": "code",
      "source": [
        "arr2 = np.array([[1,2,3],\n",
        "                 [4,5,6]])\n",
        "arr2.shape"
      ],
      "metadata": {
        "colab": {
          "base_uri": "https://localhost:8080/"
        },
        "id": "N6sawpfObl6k",
        "outputId": "56da83b0-e4f4-4dc4-e901-5acd3be4bc60"
      },
      "execution_count": 15,
      "outputs": [
        {
          "output_type": "execute_result",
          "data": {
            "text/plain": [
              "(2, 3)"
            ]
          },
          "metadata": {},
          "execution_count": 15
        }
      ]
    },
    {
      "cell_type": "code",
      "source": [
        "arr2.size"
      ],
      "metadata": {
        "colab": {
          "base_uri": "https://localhost:8080/"
        },
        "id": "z-MerVvPb1YW",
        "outputId": "6a444e6e-0314-4413-995b-c7c005b9797b"
      },
      "execution_count": 16,
      "outputs": [
        {
          "output_type": "execute_result",
          "data": {
            "text/plain": [
              "6"
            ]
          },
          "metadata": {},
          "execution_count": 16
        }
      ]
    },
    {
      "cell_type": "code",
      "source": [
        "arr2.transpose"
      ],
      "metadata": {
        "colab": {
          "base_uri": "https://localhost:8080/"
        },
        "id": "Wk9yraoDb-ct",
        "outputId": "f0554d83-5690-403a-dd75-cc9dce360e5c"
      },
      "execution_count": 18,
      "outputs": [
        {
          "output_type": "execute_result",
          "data": {
            "text/plain": [
              "<function ndarray.transpose>"
            ]
          },
          "metadata": {},
          "execution_count": 18
        }
      ]
    },
    {
      "cell_type": "code",
      "source": [
        "arr2.ndim"
      ],
      "metadata": {
        "colab": {
          "base_uri": "https://localhost:8080/"
        },
        "id": "aDLiTUv9cHF1",
        "outputId": "b3155fb7-1f0a-499f-e4da-508b7bd49d37"
      },
      "execution_count": 22,
      "outputs": [
        {
          "output_type": "execute_result",
          "data": {
            "text/plain": [
              "2"
            ]
          },
          "metadata": {},
          "execution_count": 22
        }
      ]
    },
    {
      "cell_type": "code",
      "source": [
        "arr3 = np.array([[[1,2,3],\n",
        "                 [4,5,6]],\n",
        "                  [[1,2,3],\n",
        "                 [4,5,6]]])"
      ],
      "metadata": {
        "id": "fJ8_KtFOcxTQ"
      },
      "execution_count": 24,
      "outputs": []
    },
    {
      "cell_type": "code",
      "source": [
        "arr3.size"
      ],
      "metadata": {
        "colab": {
          "base_uri": "https://localhost:8080/"
        },
        "id": "GM75Ev96c5eu",
        "outputId": "6d948801-1f93-453c-f7dd-4acc84535670"
      },
      "execution_count": 26,
      "outputs": [
        {
          "output_type": "execute_result",
          "data": {
            "text/plain": [
              "12"
            ]
          },
          "metadata": {},
          "execution_count": 26
        }
      ]
    },
    {
      "cell_type": "code",
      "source": [
        "arr3.shape"
      ],
      "metadata": {
        "colab": {
          "base_uri": "https://localhost:8080/"
        },
        "id": "gMWyCRktdBEv",
        "outputId": "1301f329-47f3-460b-de81-320a0ea6eb24"
      },
      "execution_count": 27,
      "outputs": [
        {
          "output_type": "execute_result",
          "data": {
            "text/plain": [
              "(2, 2, 3)"
            ]
          },
          "metadata": {},
          "execution_count": 27
        }
      ]
    },
    {
      "cell_type": "code",
      "source": [
        "arr4 = np.array(\n",
        "                [[1],\n",
        "                [2],\n",
        "                [-1.0],\n",
        "                [3.14]]\n",
        "                )"
      ],
      "metadata": {
        "id": "HZTAmMWRdT9m"
      },
      "execution_count": 28,
      "outputs": []
    },
    {
      "cell_type": "code",
      "source": [
        "arr4.shape"
      ],
      "metadata": {
        "colab": {
          "base_uri": "https://localhost:8080/"
        },
        "id": "7jEaUIAqdCNf",
        "outputId": "54d7d851-333b-4aef-a407-7fdcc71c89fe"
      },
      "execution_count": 31,
      "outputs": [
        {
          "output_type": "execute_result",
          "data": {
            "text/plain": [
              "(4, 1)"
            ]
          },
          "metadata": {},
          "execution_count": 31
        }
      ]
    },
    {
      "cell_type": "code",
      "source": [
        "arr4.ndim"
      ],
      "metadata": {
        "colab": {
          "base_uri": "https://localhost:8080/"
        },
        "id": "ipeUVRQqd4fW",
        "outputId": "c330ef8a-f3e1-4fa8-9f15-279c9446a414"
      },
      "execution_count": 33,
      "outputs": [
        {
          "output_type": "execute_result",
          "data": {
            "text/plain": [
              "2"
            ]
          },
          "metadata": {},
          "execution_count": 33
        }
      ]
    },
    {
      "cell_type": "code",
      "source": [
        "arr5 = np.array([[[[1,2,-1,3.14]]]])\n"
      ],
      "metadata": {
        "id": "6ax1PKl9d-dw"
      },
      "execution_count": 36,
      "outputs": []
    },
    {
      "cell_type": "code",
      "source": [
        "arr5.ndim"
      ],
      "metadata": {
        "colab": {
          "base_uri": "https://localhost:8080/"
        },
        "id": "-JCnyvCaeKSo",
        "outputId": "61866e63-ce90-4758-f53a-d32ddd70c464"
      },
      "execution_count": 38,
      "outputs": [
        {
          "output_type": "execute_result",
          "data": {
            "text/plain": [
              "4"
            ]
          },
          "metadata": {},
          "execution_count": 38
        }
      ]
    },
    {
      "cell_type": "code",
      "source": [
        "arr5.shape"
      ],
      "metadata": {
        "colab": {
          "base_uri": "https://localhost:8080/"
        },
        "id": "9SVT8kzaem_X",
        "outputId": "208fb02e-0579-4d0c-c667-a5ff6e4252d9"
      },
      "execution_count": 40,
      "outputs": [
        {
          "output_type": "execute_result",
          "data": {
            "text/plain": [
              "(1, 1, 1, 4)"
            ]
          },
          "metadata": {},
          "execution_count": 40
        }
      ]
    },
    {
      "cell_type": "code",
      "source": [
        "mu = np.array([1,2,3])"
      ],
      "metadata": {
        "id": "9Fdf7DJweshR"
      },
      "execution_count": 41,
      "outputs": []
    },
    {
      "cell_type": "code",
      "source": [
        "nu = np.array([4,4,4])"
      ],
      "metadata": {
        "id": "WIm44xNgexjZ"
      },
      "execution_count": 43,
      "outputs": []
    },
    {
      "cell_type": "code",
      "source": [
        "# 스칼라 한 개의 상수 개념, 벡터 여러개 개념\n",
        "# 유니버셜 계산\n",
        "2 * mu"
      ],
      "metadata": {
        "colab": {
          "base_uri": "https://localhost:8080/"
        },
        "id": "jGfp0xIXe0nQ",
        "outputId": "8402bb65-c823-4de1-95b4-4df2bc70bfd0"
      },
      "execution_count": 45,
      "outputs": [
        {
          "output_type": "execute_result",
          "data": {
            "text/plain": [
              "array([2, 4, 6])"
            ]
          },
          "metadata": {},
          "execution_count": 45
        }
      ]
    },
    {
      "cell_type": "code",
      "source": [
        "mu + nu"
      ],
      "metadata": {
        "colab": {
          "base_uri": "https://localhost:8080/"
        },
        "id": "qZt5yASXfAEW",
        "outputId": "386dfcb8-86dd-4517-c71b-a329bb159c65"
      },
      "execution_count": 47,
      "outputs": [
        {
          "output_type": "execute_result",
          "data": {
            "text/plain": [
              "array([5, 6, 7])"
            ]
          },
          "metadata": {},
          "execution_count": 47
        }
      ]
    },
    {
      "cell_type": "code",
      "source": [
        "# 스칼라 연산의 덧셈\n",
        "2 * (mu + nu)"
      ],
      "metadata": {
        "colab": {
          "base_uri": "https://localhost:8080/"
        },
        "id": "W9h_dKhLfKs-",
        "outputId": "9d939a27-fd19-4199-9729-73e9d21e1945"
      },
      "execution_count": 49,
      "outputs": [
        {
          "output_type": "execute_result",
          "data": {
            "text/plain": [
              "array([10, 12, 14])"
            ]
          },
          "metadata": {},
          "execution_count": 49
        }
      ]
    },
    {
      "cell_type": "code",
      "source": [
        "# 행렬의 연산 (대문자)\n",
        "A = np.array([[3,6],[4,5]])\n",
        "A\n"
      ],
      "metadata": {
        "colab": {
          "base_uri": "https://localhost:8080/"
        },
        "id": "rT_FP_2EfRpu",
        "outputId": "a9765d02-06d8-4ebb-d573-b52d04f1c7a2"
      },
      "execution_count": 55,
      "outputs": [
        {
          "output_type": "execute_result",
          "data": {
            "text/plain": [
              "array([[3, 6],\n",
              "       [4, 5]])"
            ]
          },
          "metadata": {},
          "execution_count": 55
        }
      ]
    },
    {
      "cell_type": "code",
      "source": [
        "B = np.array([[5,6],[7,8]])\n",
        "A - B"
      ],
      "metadata": {
        "colab": {
          "base_uri": "https://localhost:8080/"
        },
        "id": "-pWHrYPWfbX3",
        "outputId": "b30f1476-bf55-4d9b-b6dd-e398d93b862e"
      },
      "execution_count": 57,
      "outputs": [
        {
          "output_type": "execute_result",
          "data": {
            "text/plain": [
              "array([[-2,  0],\n",
              "       [-3, -3]])"
            ]
          },
          "metadata": {},
          "execution_count": 57
        }
      ]
    },
    {
      "cell_type": "code",
      "source": [
        "C = np.array([[5,8,9],[6,7,3]])\n",
        "A + C\n"
      ],
      "metadata": {
        "colab": {
          "base_uri": "https://localhost:8080/",
          "height": 184
        },
        "id": "Y8javR1SgCzx",
        "outputId": "6158e94e-f04c-4f71-c90c-55679d706563"
      },
      "execution_count": 77,
      "outputs": [
        {
          "output_type": "error",
          "ename": "ValueError",
          "evalue": "operands could not be broadcast together with shapes (2,2) (2,3) ",
          "traceback": [
            "\u001b[0;31m---------------------------------------------------------------------------\u001b[0m",
            "\u001b[0;31mValueError\u001b[0m                                Traceback (most recent call last)",
            "\u001b[0;32m<ipython-input-77-da4cd41ff3a0>\u001b[0m in \u001b[0;36m<cell line: 3>\u001b[0;34m()\u001b[0m\n\u001b[1;32m      1\u001b[0m \u001b[0mC\u001b[0m \u001b[0;34m=\u001b[0m \u001b[0mnp\u001b[0m\u001b[0;34m.\u001b[0m\u001b[0marray\u001b[0m\u001b[0;34m(\u001b[0m\u001b[0;34m[\u001b[0m\u001b[0;34m[\u001b[0m\u001b[0;36m5\u001b[0m\u001b[0;34m,\u001b[0m\u001b[0;36m8\u001b[0m\u001b[0;34m,\u001b[0m\u001b[0;36m9\u001b[0m\u001b[0;34m]\u001b[0m\u001b[0;34m,\u001b[0m\u001b[0;34m[\u001b[0m\u001b[0;36m6\u001b[0m\u001b[0;34m,\u001b[0m\u001b[0;36m7\u001b[0m\u001b[0;34m,\u001b[0m\u001b[0;36m3\u001b[0m\u001b[0;34m]\u001b[0m\u001b[0;34m]\u001b[0m\u001b[0;34m)\u001b[0m\u001b[0;34m\u001b[0m\u001b[0;34m\u001b[0m\u001b[0m\n\u001b[1;32m      2\u001b[0m \u001b[0;34m\u001b[0m\u001b[0m\n\u001b[0;32m----> 3\u001b[0;31m \u001b[0mA\u001b[0m \u001b[0;34m+\u001b[0m \u001b[0mC\u001b[0m\u001b[0;34m\u001b[0m\u001b[0;34m\u001b[0m\u001b[0m\n\u001b[0m",
            "\u001b[0;31mValueError\u001b[0m: operands could not be broadcast together with shapes (2,2) (2,3) "
          ]
        }
      ]
    },
    {
      "cell_type": "code",
      "source": [
        "D = np.array([[5,8,9],[6,7]])\n",
        "\n",
        "A - D\n"
      ],
      "metadata": {
        "colab": {
          "base_uri": "https://localhost:8080/",
          "height": 202
        },
        "id": "Hj-Pdfb-gmLe",
        "outputId": "fb4c0492-e4e3-4aca-a9d5-8713e3befe84"
      },
      "execution_count": 84,
      "outputs": [
        {
          "output_type": "error",
          "ename": "ValueError",
          "evalue": "setting an array element with a sequence. The requested array has an inhomogeneous shape after 1 dimensions. The detected shape was (2,) + inhomogeneous part.",
          "traceback": [
            "\u001b[0;31m---------------------------------------------------------------------------\u001b[0m",
            "\u001b[0;31mValueError\u001b[0m                                Traceback (most recent call last)",
            "\u001b[0;32m<ipython-input-84-0aa9beeefe26>\u001b[0m in \u001b[0;36m<cell line: 1>\u001b[0;34m()\u001b[0m\n\u001b[0;32m----> 1\u001b[0;31m \u001b[0mD\u001b[0m \u001b[0;34m=\u001b[0m \u001b[0mnp\u001b[0m\u001b[0;34m.\u001b[0m\u001b[0marray\u001b[0m\u001b[0;34m(\u001b[0m\u001b[0;34m[\u001b[0m\u001b[0;34m[\u001b[0m\u001b[0;36m5\u001b[0m\u001b[0;34m,\u001b[0m\u001b[0;36m8\u001b[0m\u001b[0;34m,\u001b[0m\u001b[0;36m9\u001b[0m\u001b[0;34m]\u001b[0m\u001b[0;34m,\u001b[0m\u001b[0;34m[\u001b[0m\u001b[0;36m6\u001b[0m\u001b[0;34m,\u001b[0m\u001b[0;36m7\u001b[0m\u001b[0;34m]\u001b[0m\u001b[0;34m]\u001b[0m\u001b[0;34m)\u001b[0m\u001b[0;34m\u001b[0m\u001b[0;34m\u001b[0m\u001b[0m\n\u001b[0m\u001b[1;32m      2\u001b[0m \u001b[0;34m\u001b[0m\u001b[0m\n\u001b[1;32m      3\u001b[0m \u001b[0mA\u001b[0m \u001b[0;34m-\u001b[0m \u001b[0mD\u001b[0m\u001b[0;34m\u001b[0m\u001b[0;34m\u001b[0m\u001b[0m\n",
            "\u001b[0;31mValueError\u001b[0m: setting an array element with a sequence. The requested array has an inhomogeneous shape after 1 dimensions. The detected shape was (2,) + inhomogeneous part."
          ]
        }
      ]
    },
    {
      "cell_type": "code",
      "source": [
        "np.all([True, True, True])"
      ],
      "metadata": {
        "colab": {
          "base_uri": "https://localhost:8080/"
        },
        "id": "XfTlrSRpgqFe",
        "outputId": "7e7a0c9b-6210-4833-d696-26e5b0c03b2b"
      },
      "execution_count": 65,
      "outputs": [
        {
          "output_type": "execute_result",
          "data": {
            "text/plain": [
              "True"
            ]
          },
          "metadata": {},
          "execution_count": 65
        }
      ]
    },
    {
      "cell_type": "code",
      "source": [
        "np.all([True, True, False])"
      ],
      "metadata": {
        "colab": {
          "base_uri": "https://localhost:8080/"
        },
        "id": "2VfZ5b8-hsxK",
        "outputId": "41139848-dbd9-48e6-b486-d8a40246ea47"
      },
      "execution_count": 66,
      "outputs": [
        {
          "output_type": "execute_result",
          "data": {
            "text/plain": [
              "False"
            ]
          },
          "metadata": {},
          "execution_count": 66
        }
      ]
    },
    {
      "cell_type": "code",
      "source": [
        "np.any([False,False,False])"
      ],
      "metadata": {
        "colab": {
          "base_uri": "https://localhost:8080/"
        },
        "id": "Zr_-qyk3hyCC",
        "outputId": "ba2869d5-09ce-48b2-a7e7-1bedde379b1a"
      },
      "execution_count": 67,
      "outputs": [
        {
          "output_type": "execute_result",
          "data": {
            "text/plain": [
              "False"
            ]
          },
          "metadata": {},
          "execution_count": 67
        }
      ]
    },
    {
      "cell_type": "code",
      "source": [
        "np.any([True,False,False])"
      ],
      "metadata": {
        "colab": {
          "base_uri": "https://localhost:8080/"
        },
        "id": "d9yd1OLph3QQ",
        "outputId": "8d9e9477-c994-4c1f-9709-0dedd43ff5b1"
      },
      "execution_count": 69,
      "outputs": [
        {
          "output_type": "execute_result",
          "data": {
            "text/plain": [
              "True"
            ]
          },
          "metadata": {},
          "execution_count": 69
        }
      ]
    },
    {
      "cell_type": "code",
      "source": [
        "A = np.array([[1,2,3],[4,5,6]])"
      ],
      "metadata": {
        "id": "yCrQ5Hd8h6cw"
      },
      "execution_count": 86,
      "outputs": []
    },
    {
      "cell_type": "code",
      "source": [
        "A.transpose()"
      ],
      "metadata": {
        "colab": {
          "base_uri": "https://localhost:8080/"
        },
        "id": "XuQi225_l-qB",
        "outputId": "2c565558-5738-4126-b90c-3443c5281c35"
      },
      "execution_count": 87,
      "outputs": [
        {
          "output_type": "execute_result",
          "data": {
            "text/plain": [
              "array([[1, 4],\n",
              "       [2, 5],\n",
              "       [3, 6]])"
            ]
          },
          "metadata": {},
          "execution_count": 87
        }
      ]
    },
    {
      "cell_type": "code",
      "source": [
        "A.transpose().transpose()"
      ],
      "metadata": {
        "colab": {
          "base_uri": "https://localhost:8080/"
        },
        "id": "KhmcAJsXmCx8",
        "outputId": "70534901-3f5e-4775-e00b-f1350b524b3a"
      },
      "execution_count": 90,
      "outputs": [
        {
          "output_type": "execute_result",
          "data": {
            "text/plain": [
              "array([[1, 2, 3],\n",
              "       [4, 5, 6]])"
            ]
          },
          "metadata": {},
          "execution_count": 90
        }
      ]
    },
    {
      "cell_type": "code",
      "source": [
        "A.T"
      ],
      "metadata": {
        "colab": {
          "base_uri": "https://localhost:8080/"
        },
        "id": "_mcDEYXdmR-x",
        "outputId": "6ca2f9ed-9441-492b-e574-bfc147126748"
      },
      "execution_count": 92,
      "outputs": [
        {
          "output_type": "execute_result",
          "data": {
            "text/plain": [
              "array([[1, 4],\n",
              "       [2, 5],\n",
              "       [3, 6]])"
            ]
          },
          "metadata": {},
          "execution_count": 92
        }
      ]
    },
    {
      "cell_type": "code",
      "source": [
        "A"
      ],
      "metadata": {
        "colab": {
          "base_uri": "https://localhost:8080/"
        },
        "id": "jNkFaoARmYIg",
        "outputId": "32cc226c-e874-402a-9226-7f444f6a4140"
      },
      "execution_count": 93,
      "outputs": [
        {
          "output_type": "execute_result",
          "data": {
            "text/plain": [
              "array([[1, 2, 3],\n",
              "       [4, 5, 6]])"
            ]
          },
          "metadata": {},
          "execution_count": 93
        }
      ]
    },
    {
      "cell_type": "code",
      "source": [
        "B = np.array([[3,4],[5,6]])\n",
        "B.shape"
      ],
      "metadata": {
        "colab": {
          "base_uri": "https://localhost:8080/"
        },
        "id": "xHac3dTcmYmK",
        "outputId": "9804a55c-af20-4c82-bcd2-29337b3e7803"
      },
      "execution_count": 98,
      "outputs": [
        {
          "output_type": "execute_result",
          "data": {
            "text/plain": [
              "(2, 2)"
            ]
          },
          "metadata": {},
          "execution_count": 98
        }
      ]
    },
    {
      "cell_type": "code",
      "source": [
        "B.transpose()"
      ],
      "metadata": {
        "colab": {
          "base_uri": "https://localhost:8080/"
        },
        "id": "TYGc5qMwmhaw",
        "outputId": "bcf748e0-3e08-43e4-cf60-204217ed96f0"
      },
      "execution_count": 96,
      "outputs": [
        {
          "output_type": "execute_result",
          "data": {
            "text/plain": [
              "array([[3, 5],\n",
              "       [4, 6]])"
            ]
          },
          "metadata": {},
          "execution_count": 96
        }
      ]
    },
    {
      "cell_type": "code",
      "source": [
        "A = np.array([[3,7],\n",
        "             [2,4]])"
      ],
      "metadata": {
        "id": "zq9w71fimmO4"
      },
      "execution_count": 101,
      "outputs": []
    },
    {
      "cell_type": "code",
      "source": [
        "B = np.array([[1,5],\n",
        "             [3,2]])\n",
        "\n",
        "A * B"
      ],
      "metadata": {
        "colab": {
          "base_uri": "https://localhost:8080/"
        },
        "id": "pxnkaz26nYPb",
        "outputId": "3dae1414-8911-447d-fc43-f870bce7413a"
      },
      "execution_count": 103,
      "outputs": [
        {
          "output_type": "execute_result",
          "data": {
            "text/plain": [
              "array([[ 3, 35],\n",
              "       [ 6,  8]])"
            ]
          },
          "metadata": {},
          "execution_count": 103
        }
      ]
    },
    {
      "cell_type": "code",
      "source": [
        "print(3/1)\n",
        "print(7/5)\n",
        "print(2/3)\n",
        "print(4/2)\n",
        "\n",
        "A / B"
      ],
      "metadata": {
        "colab": {
          "base_uri": "https://localhost:8080/"
        },
        "id": "LfJyNAcIn55y",
        "outputId": "49c590c3-b958-4599-a414-8165ec0049d1"
      },
      "execution_count": 108,
      "outputs": [
        {
          "output_type": "stream",
          "name": "stdout",
          "text": [
            "3.0\n",
            "1.4\n",
            "0.6666666666666666\n",
            "2.0\n"
          ]
        },
        {
          "output_type": "execute_result",
          "data": {
            "text/plain": [
              "array([[3.        , 1.4       ],\n",
              "       [0.66666667, 2.        ]])"
            ]
          },
          "metadata": {},
          "execution_count": 108
        }
      ]
    },
    {
      "cell_type": "code",
      "source": [
        "A + B"
      ],
      "metadata": {
        "colab": {
          "base_uri": "https://localhost:8080/"
        },
        "id": "x-1aVi2FoWwR",
        "outputId": "0302e248-7373-4078-d658-59746f40fae8"
      },
      "execution_count": 109,
      "outputs": [
        {
          "output_type": "execute_result",
          "data": {
            "text/plain": [
              "array([[ 4, 12],\n",
              "       [ 5,  6]])"
            ]
          },
          "metadata": {},
          "execution_count": 109
        }
      ]
    },
    {
      "cell_type": "code",
      "source": [
        "B + A"
      ],
      "metadata": {
        "colab": {
          "base_uri": "https://localhost:8080/"
        },
        "id": "T5Ql0wB8oeap",
        "outputId": "fdee6ab3-de4f-4ee1-9249-12f611dfc9ee"
      },
      "execution_count": 110,
      "outputs": [
        {
          "output_type": "execute_result",
          "data": {
            "text/plain": [
              "array([[ 4, 12],\n",
              "       [ 5,  6]])"
            ]
          },
          "metadata": {},
          "execution_count": 110
        }
      ]
    },
    {
      "cell_type": "code",
      "source": [
        "A - B"
      ],
      "metadata": {
        "colab": {
          "base_uri": "https://localhost:8080/"
        },
        "id": "Rascxej-oiqK",
        "outputId": "63a7aa20-171a-4e97-f1dd-37203b4471f6"
      },
      "execution_count": 112,
      "outputs": [
        {
          "output_type": "execute_result",
          "data": {
            "text/plain": [
              "array([[ 2,  2],\n",
              "       [-1,  2]])"
            ]
          },
          "metadata": {},
          "execution_count": 112
        }
      ]
    },
    {
      "cell_type": "code",
      "source": [
        "B - A"
      ],
      "metadata": {
        "colab": {
          "base_uri": "https://localhost:8080/"
        },
        "id": "9gIMHqjWomRT",
        "outputId": "3045af37-2835-4cb8-eeb9-1bada261b018"
      },
      "execution_count": 113,
      "outputs": [
        {
          "output_type": "execute_result",
          "data": {
            "text/plain": [
              "array([[-2, -2],\n",
              "       [ 1, -2]])"
            ]
          },
          "metadata": {},
          "execution_count": 113
        }
      ]
    },
    {
      "cell_type": "code",
      "source": [
        "B * A"
      ],
      "metadata": {
        "colab": {
          "base_uri": "https://localhost:8080/"
        },
        "id": "wh4SfDBTonOS",
        "outputId": "4ce1f94c-0013-4cf9-cc21-b736d6caf608"
      },
      "execution_count": 115,
      "outputs": [
        {
          "output_type": "execute_result",
          "data": {
            "text/plain": [
              "array([[ 3, 35],\n",
              "       [ 6,  8]])"
            ]
          },
          "metadata": {},
          "execution_count": 115
        }
      ]
    },
    {
      "cell_type": "code",
      "source": [
        "B / A"
      ],
      "metadata": {
        "colab": {
          "base_uri": "https://localhost:8080/"
        },
        "id": "CKyfjYyHotTy",
        "outputId": "341c6aa0-1226-4abd-8249-76505d76797e"
      },
      "execution_count": 117,
      "outputs": [
        {
          "output_type": "execute_result",
          "data": {
            "text/plain": [
              "array([[0.33333333, 0.71428571],\n",
              "       [1.5       , 0.5       ]])"
            ]
          },
          "metadata": {},
          "execution_count": 117
        }
      ]
    },
    {
      "cell_type": "code",
      "source": [
        "# 내적\n",
        "# dot product\n",
        "A = np.array([[1,2,3],\n",
        "             [4,5,6]])\n",
        "B = np.array([[7,8],\n",
        "              [9,10],\n",
        "              [11,12]])\n",
        "\n",
        "A.dot(B)"
      ],
      "metadata": {
        "colab": {
          "base_uri": "https://localhost:8080/"
        },
        "id": "iRyDtNYFox-E",
        "outputId": "661a458d-1d7f-4125-e17a-efcdc9b41af8"
      },
      "execution_count": 119,
      "outputs": [
        {
          "output_type": "execute_result",
          "data": {
            "text/plain": [
              "array([[ 58,  64],\n",
              "       [139, 154]])"
            ]
          },
          "metadata": {},
          "execution_count": 119
        }
      ]
    },
    {
      "cell_type": "code",
      "source": [
        "# 행렬의 내적 : dot product\n",
        "Matrix_a = np.array([[1,1,2],\n",
        "                     [2,1,1]])\n",
        "Matrix_b = np.array([[1,1],\n",
        "                    [2,1],\n",
        "                    [1,3]])\n",
        "Matrix_a.dot(Matrix_b)\n"
      ],
      "metadata": {
        "colab": {
          "base_uri": "https://localhost:8080/"
        },
        "id": "H307ZfL9qBPv",
        "outputId": "ee9fd0bd-e20f-4dc6-e3f4-5628743b1c48"
      },
      "execution_count": 120,
      "outputs": [
        {
          "output_type": "execute_result",
          "data": {
            "text/plain": [
              "array([[5, 8],\n",
              "       [5, 6]])"
            ]
          },
          "metadata": {},
          "execution_count": 120
        }
      ]
    }
  ]
}