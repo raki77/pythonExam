{
 "cells": [
  {
   "cell_type": "code",
   "execution_count": 3,
   "metadata": {},
   "outputs": [],
   "source": [
    "import numpy as np\n",
    "import matplotlib.pyplot as plt \n",
    "import cv2 as cv\n",
    "import sys"
   ]
  },
  {
   "cell_type": "code",
   "execution_count": 4,
   "metadata": {},
   "outputs": [
    {
     "data": {
      "text/plain": [
       "'4.10.0'"
      ]
     },
     "execution_count": 4,
     "metadata": {},
     "output_type": "execute_result"
    }
   ],
   "source": [
    "cv.__version__"
   ]
  },
  {
   "cell_type": "code",
   "execution_count": 1,
   "metadata": {},
   "outputs": [],
   "source": [
    "# help(cv.imread)"
   ]
  },
  {
   "cell_type": "code",
   "execution_count": 14,
   "metadata": {},
   "outputs": [],
   "source": [
    "img_cat = cv.imread('./img/cat3.jpg') \n",
    "cv.imshow(\"고양이\", img_cat)\n",
    "cv.waitKey()\n",
    "cv.destroyAllWindows()"
   ]
  },
  {
   "cell_type": "code",
   "execution_count": 15,
   "metadata": {},
   "outputs": [],
   "source": [
    "# 흑백\n",
    "img_quokka = cv.imread('./img/quokka-7932461_1280.jpg', flags=cv.IMREAD_GRAYSCALE) \n",
    "cv.imshow(\"쿼카\", img_quokka)\n",
    "cv.waitKey()\n",
    "cv.destroyAllWindows()"
   ]
  },
  {
   "cell_type": "code",
   "execution_count": 4,
   "metadata": {},
   "outputs": [],
   "source": [
    "img_cat_g = cv.imread('./img/cat3.jpg', flags=cv.IMREAD_GRAYSCALE) \n",
    "\n",
    "cv.imshow(\"흑백고양이\", img_cat_g)\n",
    "cv.imwrite(\"C:/shjung/pythonExam/240816/img/gray_cat.jpg\", img_cat_g)\n",
    "cv.waitKey(3000) #3초후 종료\n",
    "cv.destroyAllWindows()"
   ]
  },
  {
   "cell_type": "code",
   "execution_count": 13,
   "metadata": {},
   "outputs": [],
   "source": [
    "img_cat_c = cv.imread('./img/gray_cat.jpg', flags=cv.IMREAD_GRAYSCALE)\n",
    "img_cat_c = cv.cvtColor(img_cat_c, cv.COLOR_GRAY2BGR)\n",
    "cv.imshow(\"칼라고양이\", img_cat_c)\n",
    "cv.imwrite(\"C:/shjung/pythonExam/240816/img/color_cat.jpg\", img_cat_c)\n",
    "cv.waitKey(3000) #3초후 종료\n",
    "cv.destroyAllWindows()"
   ]
  },
  {
   "cell_type": "code",
   "execution_count": 17,
   "metadata": {},
   "outputs": [],
   "source": [
    "import cv2 as cv\n",
    "\n",
    "# 흑백 이미지 로드\n",
    "img_cat_c = cv.imread('./img/gray_cat.jpg', flags=cv.IMREAD_GRAYSCALE)\n",
    "\n",
    "# 흑백 이미지를 BGR로 변환\n",
    "img_cat_c = cv.cvtColor(img_cat_c, cv.COLOR_GRAY2BGR)\n",
    "\n",
    "# 이미지 출력 (확인용)\n",
    "cv.imshow(\"칼라고양이\", img_cat_c)\n",
    "\n",
    "# 이미지 저장\n",
    "cv.imwrite(\"C:/shjung/pythonExam/240816/img/color_cat.jpg\", img_cat_c)\n",
    "\n",
    "# 3초 후 종료\n",
    "cv.waitKey(3000)\n",
    "cv.destroyAllWindows()"
   ]
  },
  {
   "cell_type": "code",
   "execution_count": 21,
   "metadata": {},
   "outputs": [],
   "source": [
    "import cv2\n",
    "\n",
    "video_file = \"./img/big_buck.avi\" # 동영상 파일 경로\n",
    "\n",
    "cap = cv2.VideoCapture(video_file) # 동영상 캡쳐 객체 생성  ---①\n",
    "if cap.isOpened():                 # 캡쳐 객체 초기화 확인\n",
    "    while True:\n",
    "        ret, img = cap.read()      # 다음 프레임 읽기      --- ②\n",
    "        if ret:                     # 프레임 읽기 정상\n",
    "            cv2.imshow(video_file, img) # 화면에 표시  --- ③\n",
    "            cv2.waitKey(25)            # 25ms 지연(40fps로 가정)   --- ④\n",
    "        else:                       # 다음 프레임 읽을 수 없슴,\n",
    "            break                   # 재생 완료\n",
    "else:\n",
    "    print(\"can't open video.\")      # 캡쳐 객체 초기화 실패\n",
    "cap.release()                       # 캡쳐 자원 반납\n",
    "cv2.destroyAllWindows()"
   ]
  }
 ],
 "metadata": {
  "kernelspec": {
   "display_name": "mldltest1",
   "language": "python",
   "name": "python3"
  },
  "language_info": {
   "codemirror_mode": {
    "name": "ipython",
    "version": 3
   },
   "file_extension": ".py",
   "mimetype": "text/x-python",
   "name": "python",
   "nbconvert_exporter": "python",
   "pygments_lexer": "ipython3",
   "version": "3.9.19"
  }
 },
 "nbformat": 4,
 "nbformat_minor": 2
}
