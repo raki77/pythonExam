{
 "cells": [
  {
   "cell_type": "code",
   "execution_count": 9,
   "metadata": {},
   "outputs": [],
   "source": [
    "# norm : 크기 , 노말라이징 -> 단위벡터 구하기\n",
    "# norm : 규격, 기준\n",
    "# 결국은 np.sqrt(np.sum(vec1**2)) 이런 형식이다.\n",
    "# 단위벡터는 결국 x/norm , y/norm, z/norm이다.\n",
    "\n",
    "import numpy as np\n",
    "from scipy import linalg\n"
   ]
  },
  {
   "cell_type": "code",
   "execution_count": 10,
   "metadata": {},
   "outputs": [],
   "source": [
    "vec1 = np.array([2,3,1])  "
   ]
  },
  {
   "cell_type": "code",
   "execution_count": 11,
   "metadata": {},
   "outputs": [
    {
     "data": {
      "text/plain": [
       "array([0.53452248, 0.80178373, 0.26726124])"
      ]
     },
     "execution_count": 11,
     "metadata": {},
     "output_type": "execute_result"
    }
   ],
   "source": [
    "np.sqrt(np.sum(vec1**2))\n",
    "vec1 / np.sqrt(np.sum(vec1**2))"
   ]
  },
  {
   "cell_type": "code",
   "execution_count": 12,
   "metadata": {},
   "outputs": [
    {
     "data": {
      "text/plain": [
       "array([0.53452248, 0.80178373, 0.26726124])"
      ]
     },
     "execution_count": 12,
     "metadata": {},
     "output_type": "execute_result"
    }
   ],
   "source": [
    "vec1 / np.linalg.norm(vec1)"
   ]
  },
  {
   "cell_type": "code",
   "execution_count": 15,
   "metadata": {},
   "outputs": [
    {
     "name": "stdout",
     "output_type": "stream",
     "text": [
      "[ 0.31622777 -0.9486833 ]\n",
      "[-0.6 -0.8]\n",
      "[-0.78086881 -0.62469505]\n"
     ]
    }
   ],
   "source": [
    "vec2 = np.array([1,-3])\n",
    "print(vec2 / np.linalg.norm(vec2))\n",
    "\n",
    "vec3 = np.array([-6,-8])\n",
    "print(vec3 / np.linalg.norm(vec3))\n",
    "\n",
    "vec4 = np.array([-5,-4])\n",
    "print(vec4 / np.linalg.norm(vec4))"
   ]
  },
  {
   "cell_type": "code",
   "execution_count": 16,
   "metadata": {},
   "outputs": [
    {
     "data": {
      "text/plain": [
       "-0.7808688094430304"
      ]
     },
     "execution_count": 16,
     "metadata": {},
     "output_type": "execute_result"
    }
   ],
   "source": [
    "-5 / np.sqrt(41)"
   ]
  },
  {
   "cell_type": "code",
   "execution_count": 17,
   "metadata": {},
   "outputs": [
    {
     "data": {
      "text/plain": [
       "-0.6246950475544243"
      ]
     },
     "execution_count": 17,
     "metadata": {},
     "output_type": "execute_result"
    }
   ],
   "source": [
    "-4 / np.sqrt(41)"
   ]
  },
  {
   "cell_type": "code",
   "execution_count": null,
   "metadata": {},
   "outputs": [],
   "source": []
  }
 ],
 "metadata": {
  "kernelspec": {
   "display_name": "myfirstvirtual1",
   "language": "python",
   "name": "python3"
  },
  "language_info": {
   "codemirror_mode": {
    "name": "ipython",
    "version": 3
   },
   "file_extension": ".py",
   "mimetype": "text/x-python",
   "name": "python",
   "nbconvert_exporter": "python",
   "pygments_lexer": "ipython3",
   "version": "3.9.19"
  }
 },
 "nbformat": 4,
 "nbformat_minor": 2
}
