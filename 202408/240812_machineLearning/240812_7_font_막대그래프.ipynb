{
  "cells": [
    {
      "cell_type": "code",
      "execution_count": 2,
      "metadata": {
        "colab": {
          "base_uri": "https://localhost:8080/",
          "height": 385
        },
        "id": "gqKb6TfJVlFu",
        "outputId": "9752af8b-bf1b-482b-c891-b43275ec9894"
      },
      "outputs": [
        {
          "ename": "FileNotFoundError",
          "evalue": "[Errno 2] No such file or directory: '/usr/share/fonts/NanumFont/NanumGothic.ttf'",
          "output_type": "error",
          "traceback": [
            "\u001b[1;31m---------------------------------------------------------------------------\u001b[0m",
            "\u001b[1;31mFileNotFoundError\u001b[0m                         Traceback (most recent call last)",
            "Cell \u001b[1;32mIn[2], line 16\u001b[0m\n\u001b[0;32m     13\u001b[0m font_prop \u001b[38;5;241m=\u001b[39m fm\u001b[38;5;241m.\u001b[39mFontProperties(fname\u001b[38;5;241m=\u001b[39mfont_path)\n\u001b[0;32m     15\u001b[0m \u001b[38;5;66;03m# 폰트 목록에 추가\u001b[39;00m\n\u001b[1;32m---> 16\u001b[0m \u001b[43mfm\u001b[49m\u001b[38;5;241;43m.\u001b[39;49m\u001b[43mfontManager\u001b[49m\u001b[38;5;241;43m.\u001b[39;49m\u001b[43maddfont\u001b[49m\u001b[43m(\u001b[49m\u001b[43mfont_path\u001b[49m\u001b[43m)\u001b[49m\n\u001b[0;32m     18\u001b[0m \u001b[38;5;66;03m# 폰트 패밀리 이름 가져오기\u001b[39;00m\n\u001b[0;32m     19\u001b[0m font_name \u001b[38;5;241m=\u001b[39m fm\u001b[38;5;241m.\u001b[39mFontProperties(fname\u001b[38;5;241m=\u001b[39mfont_path)\u001b[38;5;241m.\u001b[39mget_name()\n",
            "File \u001b[1;32mc:\\anaconda3\\envs\\mldltest1\\lib\\site-packages\\matplotlib\\font_manager.py:1044\u001b[0m, in \u001b[0;36mFontManager.addfont\u001b[1;34m(self, path)\u001b[0m\n\u001b[0;32m   1042\u001b[0m     \u001b[38;5;28mself\u001b[39m\u001b[38;5;241m.\u001b[39mafmlist\u001b[38;5;241m.\u001b[39mappend(prop)\n\u001b[0;32m   1043\u001b[0m \u001b[38;5;28;01melse\u001b[39;00m:\n\u001b[1;32m-> 1044\u001b[0m     font \u001b[38;5;241m=\u001b[39m \u001b[43mft2font\u001b[49m\u001b[38;5;241;43m.\u001b[39;49m\u001b[43mFT2Font\u001b[49m\u001b[43m(\u001b[49m\u001b[43mpath\u001b[49m\u001b[43m)\u001b[49m\n\u001b[0;32m   1045\u001b[0m     prop \u001b[38;5;241m=\u001b[39m ttfFontProperty(font)\n\u001b[0;32m   1046\u001b[0m     \u001b[38;5;28mself\u001b[39m\u001b[38;5;241m.\u001b[39mttflist\u001b[38;5;241m.\u001b[39mappend(prop)\n",
            "\u001b[1;31mFileNotFoundError\u001b[0m: [Errno 2] No such file or directory: '/usr/share/fonts/NanumFont/NanumGothic.ttf'"
          ]
        }
      ],
      "source": [
        "# 파이썬 시각화\n",
        "from matplotlib import font_manager, rc\n",
        "import matplotlib.font_manager as fm\n",
        "import numpy as np\n",
        "import matplotlib.pyplot as plt\n",
        "\n",
        "x = np.array(['1사분기', '2사분기', '3사분기', '4사분기'])\n",
        "y = np.array([234, 254.7, 144.6, 317.6])\n",
        "\n",
        "\n",
        "# 폰트 경로 설정\n",
        "font_path = '/usr/share/fonts/NanumFont/NanumGothic.ttf'\n",
        "font_prop = fm.FontProperties(fname=font_path)\n",
        "\n",
        "# 폰트 목록에 추가\n",
        "fm.fontManager.addfont(font_path)\n",
        "\n",
        "# 폰트 패밀리 이름 가져오기\n",
        "font_name = fm.FontProperties(fname=font_path).get_name()\n",
        "print(f\"Font name: {font_name}\")\n",
        "\n",
        "# 기본 폰트로 설정\n",
        "plt.rcParams['font.family'] = font_name\n",
        "\n",
        "# 플롯 생성\n",
        "plt.figure(figsize=(6, 4))\n",
        "\n",
        "plt.bar(x,y)\n",
        "# 그래프 보여주기\n",
        "plt.show()\n",
        "\n",
        "# 축 숨기기\n",
        "# plt.axis('off')\n",
        "\n",
        "\n"
      ]
    },
    {
      "cell_type": "code",
      "execution_count": 8,
      "metadata": {
        "colab": {
          "base_uri": "https://localhost:8080/"
        },
        "id": "Ab9Tq5b4peXQ",
        "outputId": "aabec118-3a76-4e19-e6b0-4f74167ae704"
      },
      "outputs": [
        {
          "name": "stdout",
          "output_type": "stream",
          "text": [
            "Drive already mounted at /content/drive; to attempt to forcibly remount, call drive.mount(\"/content/drive\", force_remount=True).\n"
          ]
        }
      ],
      "source": [
        "from google.colab import drive\n",
        "drive.mount('/content/drive')"
      ]
    },
    {
      "cell_type": "code",
      "execution_count": 10,
      "metadata": {
        "colab": {
          "base_uri": "https://localhost:8080/"
        },
        "id": "b8UC3domY0EN",
        "outputId": "b732a7c1-6fe5-4ff7-d668-adb6cceb42a7"
      },
      "outputs": [
        {
          "name": "stdout",
          "output_type": "stream",
          "text": [
            "--2024-08-12 08:16:14--  http://cdn.naver.com/naver/NanumFont/fontfiles/NanumFont_TTF_ALL.zip\n",
            "Resolving cdn.naver.com (cdn.naver.com)... 183.111.124.157, 211.47.29.200, 183.111.124.158\n",
            "Connecting to cdn.naver.com (cdn.naver.com)|183.111.124.157|:80... connected.\n",
            "HTTP request sent, awaiting response... 200 OK\n",
            "Length: 14946146 (14M) [application/zip]\n",
            "Saving to: ‘NanumFont_TTF_ALL.zip’\n",
            "\n",
            "NanumFont_TTF_ALL.z 100%[===================>]  14.25M  6.21MB/s    in 2.3s    \n",
            "\n",
            "2024-08-12 08:16:18 (6.21 MB/s) - ‘NanumFont_TTF_ALL.zip’ saved [14946146/14946146]\n",
            "\n"
          ]
        }
      ],
      "source": [
        "!wget http://cdn.naver.com/naver/NanumFont/fontfiles/NanumFont_TTF_ALL.zip\n"
      ]
    },
    {
      "cell_type": "code",
      "execution_count": 11,
      "metadata": {
        "colab": {
          "base_uri": "https://localhost:8080/"
        },
        "id": "NxcRfjvTZGw_",
        "outputId": "a0f6fbfb-4da8-45ca-b491-6a10c3306fd7"
      },
      "outputs": [
        {
          "name": "stdout",
          "output_type": "stream",
          "text": [
            "Archive:  NanumFont_TTF_ALL.zip\n",
            "  inflating: NanumFont/NanumBrush.ttf  \n",
            "  inflating: NanumFont/NanumGothic.ttf  \n",
            "  inflating: NanumFont/NanumGothicBold.ttf  \n",
            "  inflating: NanumFont/NanumGothicExtraBold.ttf  \n",
            "  inflating: NanumFont/NanumMyeongjo.ttf  \n",
            "  inflating: NanumFont/NanumMyeongjoBold.ttf  \n",
            "  inflating: NanumFont/NanumMyeongjoExtraBold.ttf  \n",
            "  inflating: NanumFont/NanumPen.ttf  \n"
          ]
        }
      ],
      "source": [
        "!unzip NanumFont_TTF_ALL.zip -d NanumFont"
      ]
    },
    {
      "cell_type": "code",
      "execution_count": 12,
      "metadata": {
        "id": "SAVZeG8fZHBE"
      },
      "outputs": [],
      "source": [
        "!mv NanumFont /usr/share/fonts/"
      ]
    },
    {
      "cell_type": "code",
      "execution_count": 13,
      "metadata": {
        "colab": {
          "base_uri": "https://localhost:8080/"
        },
        "id": "xnYq05TkZN5E",
        "outputId": "965c9188-08cd-4455-bab9-0a7af704ba6c"
      },
      "outputs": [
        {
          "name": "stdout",
          "output_type": "stream",
          "text": [
            "/usr/share/fonts: caching, new cache contents: 0 fonts, 2 dirs\n",
            "/usr/share/fonts/NanumFont: caching, new cache contents: 8 fonts, 0 dirs\n",
            "/usr/share/fonts/truetype: caching, new cache contents: 0 fonts, 2 dirs\n",
            "/usr/share/fonts/truetype/humor-sans: caching, new cache contents: 1 fonts, 0 dirs\n",
            "/usr/share/fonts/truetype/liberation: caching, new cache contents: 16 fonts, 0 dirs\n",
            "/usr/local/share/fonts: caching, new cache contents: 0 fonts, 0 dirs\n",
            "/root/.local/share/fonts: skipping, no such directory\n",
            "/root/.fonts: skipping, no such directory\n",
            "/usr/share/fonts/NanumFont: skipping, looped directory detected\n",
            "/usr/share/fonts/truetype: skipping, looped directory detected\n",
            "/usr/share/fonts/truetype/humor-sans: skipping, looped directory detected\n",
            "/usr/share/fonts/truetype/liberation: skipping, looped directory detected\n",
            "/var/cache/fontconfig: cleaning cache directory\n",
            "/root/.cache/fontconfig: not cleaning non-existent cache directory\n",
            "/root/.fontconfig: not cleaning non-existent cache directory\n",
            "fc-cache: succeeded\n"
          ]
        }
      ],
      "source": [
        "!fc-cache -f -v"
      ]
    },
    {
      "cell_type": "code",
      "execution_count": 14,
      "metadata": {
        "colab": {
          "base_uri": "https://localhost:8080/"
        },
        "id": "q5XmqKQHp4ZX",
        "outputId": "f3ad09f1-3873-4566-c2c1-64f837984595"
      },
      "outputs": [
        {
          "name": "stdout",
          "output_type": "stream",
          "text": [
            "/usr/share/fonts/NanumFont/NanumBrush.ttf: Nanum Brush Script,나눔손글씨 붓:style=Regular\n",
            "/usr/share/fonts/NanumFont/NanumGothic.ttf: NanumGothic,나눔고딕:style=Regular\n",
            "/usr/share/fonts/NanumFont/NanumPen.ttf: Nanum Pen Script,나눔손글씨 펜:style=Regular\n",
            "/usr/share/fonts/NanumFont/NanumMyeongjoBold.ttf: NanumMyeongjo,나눔명조:style=Bold\n",
            "/usr/share/fonts/NanumFont/NanumMyeongjoExtraBold.ttf: NanumMyeongjo,나눔명조,NanumMyeongjoExtraBold,나눔명조 ExtraBold:style=ExtraBold,Regular\n",
            "/usr/share/fonts/NanumFont/NanumGothicBold.ttf: NanumGothic,나눔고딕:style=Bold\n",
            "/usr/share/fonts/NanumFont/NanumGothicExtraBold.ttf: NanumGothic,나눔고딕,NanumGothicExtraBold,나눔고딕 ExtraBold:style=ExtraBold,Regular,Bold\n",
            "/usr/share/fonts/NanumFont/NanumMyeongjo.ttf: NanumMyeongjo,나눔명조:style=Regular\n"
          ]
        }
      ],
      "source": [
        "!fc-list | grep -i NanumFont"
      ]
    }
  ],
  "metadata": {
    "accelerator": "TPU",
    "colab": {
      "gpuType": "V28",
      "provenance": []
    },
    "kernelspec": {
      "display_name": "Python 3",
      "name": "python3"
    },
    "language_info": {
      "codemirror_mode": {
        "name": "ipython",
        "version": 3
      },
      "file_extension": ".py",
      "mimetype": "text/x-python",
      "name": "python",
      "nbconvert_exporter": "python",
      "pygments_lexer": "ipython3",
      "version": "3.8.19"
    }
  },
  "nbformat": 4,
  "nbformat_minor": 0
}
