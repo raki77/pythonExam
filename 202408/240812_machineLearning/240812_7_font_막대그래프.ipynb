{
  "nbformat": 4,
  "nbformat_minor": 0,
  "metadata": {
    "colab": {
      "provenance": [],
      "gpuType": "V28"
    },
    "kernelspec": {
      "name": "python3",
      "display_name": "Python 3"
    },
    "language_info": {
      "name": "python"
    },
    "accelerator": "TPU"
  },
  "cells": [
    {
      "cell_type": "code",
      "execution_count": 25,
      "metadata": {
        "colab": {
          "base_uri": "https://localhost:8080/",
          "height": 385
        },
        "id": "gqKb6TfJVlFu",
        "outputId": "9752af8b-bf1b-482b-c891-b43275ec9894"
      },
      "outputs": [
        {
          "output_type": "stream",
          "name": "stdout",
          "text": [
            "Font name: NanumGothic\n"
          ]
        },
        {
          "output_type": "display_data",
          "data": {
            "text/plain": [
              "<Figure size 600x400 with 1 Axes>"
            ],
            "image/png": "[encoded data removed]"
          },
          "metadata": {}
        }
      ],
      "source": [
        "# 파이썬 시각화\n",
        "from matplotlib import font_manager, rc\n",
        "import matplotlib.font_manager as fm\n",
        "import numpy as np\n",
        "import matplotlib.pyplot as plt\n",
        "\n",
        "x = np.array(['1사분기', '2사분기', '3사분기', '4사분기'])\n",
        "y = np.array([234, 254.7, 144.6, 317.6])\n",
        "\n",
        "\n",
        "# 폰트 경로 설정\n",
        "font_path = '/usr/share/fonts/NanumFont/NanumGothic.ttf'\n",
        "font_prop = fm.FontProperties(fname=font_path)\n",
        "\n",
        "# 폰트 목록에 추가\n",
        "fm.fontManager.addfont(font_path)\n",
        "\n",
        "# 폰트 패밀리 이름 가져오기\n",
        "font_name = fm.FontProperties(fname=font_path).get_name()\n",
        "print(f\"Font name: {font_name}\")\n",
        "\n",
        "# 기본 폰트로 설정\n",
        "plt.rcParams['font.family'] = font_name\n",
        "\n",
        "# 플롯 생성\n",
        "plt.figure(figsize=(6, 4))\n",
        "\n",
        "plt.bar(x,y)\n",
        "# 그래프 보여주기\n",
        "plt.show()\n",
        "\n",
        "# 축 숨기기\n",
        "# plt.axis('off')\n",
        "\n",
        "\n"
      ]
    },
    {
      "cell_type": "code",
      "source": [
        "from google.colab import drive\n",
        "drive.mount('/content/drive')"
      ],
      "metadata": {
        "id": "Ab9Tq5b4peXQ",
        "colab": {
          "base_uri": "https://localhost:8080/"
        },
        "outputId": "aabec118-3a76-4e19-e6b0-4f74167ae704"
      },
      "execution_count": 8,
      "outputs": [
        {
          "output_type": "stream",
          "name": "stdout",
          "text": [
            "Drive already mounted at /content/drive; to attempt to forcibly remount, call drive.mount(\"/content/drive\", force_remount=True).\n"
          ]
        }
      ]
    },
    {
      "cell_type": "code",
      "source": [
        "!wget http://cdn.naver.com/naver/NanumFont/fontfiles/NanumFont_TTF_ALL.zip\n"
      ],
      "metadata": {
        "colab": {
          "base_uri": "https://localhost:8080/"
        },
        "id": "b8UC3domY0EN",
        "outputId": "b732a7c1-6fe5-4ff7-d668-adb6cceb42a7"
      },
      "execution_count": 10,
      "outputs": [
        {
          "output_type": "stream",
          "name": "stdout",
          "text": [
            "--2024-08-12 08:16:14--  http://cdn.naver.com/naver/NanumFont/fontfiles/NanumFont_TTF_ALL.zip\n",
            "Resolving cdn.naver.com (cdn.naver.com)... 183.111.124.157, 211.47.29.200, 183.111.124.158\n",
            "Connecting to cdn.naver.com (cdn.naver.com)|183.111.124.157|:80... connected.\n",
            "HTTP request sent, awaiting response... 200 OK\n",
            "Length: 14946146 (14M) [application/zip]\n",
            "Saving to: ‘NanumFont_TTF_ALL.zip’\n",
            "\n",
            "NanumFont_TTF_ALL.z 100%[===================>]  14.25M  6.21MB/s    in 2.3s    \n",
            "\n",
            "2024-08-12 08:16:18 (6.21 MB/s) - ‘NanumFont_TTF_ALL.zip’ saved [14946146/14946146]\n",
            "\n"
          ]
        }
      ]
    },
    {
      "cell_type": "code",
      "source": [
        "!unzip NanumFont_TTF_ALL.zip -d NanumFont"
      ],
      "metadata": {
        "colab": {
          "base_uri": "https://localhost:8080/"
        },
        "id": "NxcRfjvTZGw_",
        "outputId": "a0f6fbfb-4da8-45ca-b491-6a10c3306fd7"
      },
      "execution_count": 11,
      "outputs": [
        {
          "output_type": "stream",
          "name": "stdout",
          "text": [
            "Archive:  NanumFont_TTF_ALL.zip\n",
            "  inflating: NanumFont/NanumBrush.ttf  \n",
            "  inflating: NanumFont/NanumGothic.ttf  \n",
            "  inflating: NanumFont/NanumGothicBold.ttf  \n",
            "  inflating: NanumFont/NanumGothicExtraBold.ttf  \n",
            "  inflating: NanumFont/NanumMyeongjo.ttf  \n",
            "  inflating: NanumFont/NanumMyeongjoBold.ttf  \n",
            "  inflating: NanumFont/NanumMyeongjoExtraBold.ttf  \n",
            "  inflating: NanumFont/NanumPen.ttf  \n"
          ]
        }
      ]
    },
    {
      "cell_type": "code",
      "source": [
        "!mv NanumFont /usr/share/fonts/"
      ],
      "metadata": {
        "id": "SAVZeG8fZHBE"
      },
      "execution_count": 12,
      "outputs": []
    },
    {
      "cell_type": "code",
      "source": [
        "!fc-cache -f -v"
      ],
      "metadata": {
        "id": "xnYq05TkZN5E",
        "outputId": "965c9188-08cd-4455-bab9-0a7af704ba6c",
        "colab": {
          "base_uri": "https://localhost:8080/"
        }
      },
      "execution_count": 13,
      "outputs": [
        {
          "output_type": "stream",
          "name": "stdout",
          "text": [
            "/usr/share/fonts: caching, new cache contents: 0 fonts, 2 dirs\n",
            "/usr/share/fonts/NanumFont: caching, new cache contents: 8 fonts, 0 dirs\n",
            "/usr/share/fonts/truetype: caching, new cache contents: 0 fonts, 2 dirs\n",
            "/usr/share/fonts/truetype/humor-sans: caching, new cache contents: 1 fonts, 0 dirs\n",
            "/usr/share/fonts/truetype/liberation: caching, new cache contents: 16 fonts, 0 dirs\n",
            "/usr/local/share/fonts: caching, new cache contents: 0 fonts, 0 dirs\n",
            "/root/.local/share/fonts: skipping, no such directory\n",
            "/root/.fonts: skipping, no such directory\n",
            "/usr/share/fonts/NanumFont: skipping, looped directory detected\n",
            "/usr/share/fonts/truetype: skipping, looped directory detected\n",
            "/usr/share/fonts/truetype/humor-sans: skipping, looped directory detected\n",
            "/usr/share/fonts/truetype/liberation: skipping, looped directory detected\n",
            "/var/cache/fontconfig: cleaning cache directory\n",
            "/root/.cache/fontconfig: not cleaning non-existent cache directory\n",
            "/root/.fontconfig: not cleaning non-existent cache directory\n",
            "fc-cache: succeeded\n"
          ]
        }
      ]
    },
    {
      "cell_type": "code",
      "source": [
        "!fc-list | grep -i NanumFont"
      ],
      "metadata": {
        "colab": {
          "base_uri": "https://localhost:8080/"
        },
        "id": "q5XmqKQHp4ZX",
        "outputId": "f3ad09f1-3873-4566-c2c1-64f837984595"
      },
      "execution_count": 14,
      "outputs": [
        {
          "output_type": "stream",
          "name": "stdout",
          "text": [
            "/usr/share/fonts/NanumFont/NanumBrush.ttf: Nanum Brush Script,나눔손글씨 붓:style=Regular\n",
            "/usr/share/fonts/NanumFont/NanumGothic.ttf: NanumGothic,나눔고딕:style=Regular\n",
            "/usr/share/fonts/NanumFont/NanumPen.ttf: Nanum Pen Script,나눔손글씨 펜:style=Regular\n",
            "/usr/share/fonts/NanumFont/NanumMyeongjoBold.ttf: NanumMyeongjo,나눔명조:style=Bold\n",
            "/usr/share/fonts/NanumFont/NanumMyeongjoExtraBold.ttf: NanumMyeongjo,나눔명조,NanumMyeongjoExtraBold,나눔명조 ExtraBold:style=ExtraBold,Regular\n",
            "/usr/share/fonts/NanumFont/NanumGothicBold.ttf: NanumGothic,나눔고딕:style=Bold\n",
            "/usr/share/fonts/NanumFont/NanumGothicExtraBold.ttf: NanumGothic,나눔고딕,NanumGothicExtraBold,나눔고딕 ExtraBold:style=ExtraBold,Regular,Bold\n",
            "/usr/share/fonts/NanumFont/NanumMyeongjo.ttf: NanumMyeongjo,나눔명조:style=Regular\n"
          ]
        }
      ]
    }
  ]
}