{
 "cells": [
  {
   "cell_type": "code",
   "execution_count": 1,
   "metadata": {},
   "outputs": [
    {
     "name": "stdout",
     "output_type": "stream",
     "text": [
      "60.0\n",
      "66.0\n"
     ]
    }
   ],
   "source": [
    "from math import sqrt\n",
    "from abc import ABC, abstractmethod\n",
    "\n",
    "\n",
    "class Shape(ABC):\n",
    "    \"\"\"도형 클래스\"\"\"\n",
    "\n",
    "    @abstractmethod\n",
    "    def area(self) -> float:\n",
    "        \"\"\"도형의 넓이를 리턴한다: 자식 클래스가 오버라이딩할 것\"\"\"\n",
    "        pass  \n",
    "\n",
    "    @abstractmethod\n",
    "    def perimeter(self) -> float:\n",
    "        \"\"\"도형의 둘레를 리턴한다: 자식 클래스가 오버라이딩할 것\"\"\"\n",
    "        pass\n",
    "\n",
    "\n",
    "class Paint:\n",
    "    \"\"\"그림판 프로그램 클래스\"\"\"\n",
    "\n",
    "    def __init__(self):\n",
    "        self.shapes = []\n",
    "\n",
    "    def add_shape(self, shape):\n",
    "        \"\"\"도형 인스턴스만 그림판에 추가한다\"\"\"\n",
    "        if isinstance(shape, Shape):\n",
    "            self.shapes.append(shape)\n",
    "        else:\n",
    "            print(\"도형 클래스가 아닌 인스턴스는 추가할 수 없습니다!\")\n",
    "\n",
    "    def total_area_of_shapes(self):\n",
    "        \"\"\"그림판에 있는 모든 도형의 넓이의 합을 구한다\"\"\"\n",
    "        return sum([shape.area() for shape in self.shapes])\n",
    "\n",
    "    def total_perimeter_of_shapes(self):\n",
    "        \"\"\"그림판에 있는 모든 도형의 둘레의 합을 구한다\"\"\"\n",
    "        return sum([shape.perimeter() for shape in self.shapes])\n",
    "\n",
    "\n",
    "class RightTriangle(Shape):\n",
    "    def __init__(self, base, height):\n",
    "        self.base = base\n",
    "        self.height = height\n",
    "\n",
    "    def area(self) -> float:\n",
    "        return self.base * self.height / 2\n",
    "\n",
    "    def perimeter(self) -> float:\n",
    "        return sqrt(self.base*self.base + self.height*self.height) + self.base + self.height\n",
    "\n",
    "\n",
    "\n",
    "# 여기에 코드를 작성하세요\n",
    "right_triangle_1 = RightTriangle(3, 4)\n",
    "right_triangle_2 = RightTriangle(5, 12)\n",
    "right_triangle_3 = RightTriangle(6, 8)\n",
    "\n",
    "paint_program = Paint()\n",
    "\n",
    "paint_program.add_shape(right_triangle_1)\n",
    "paint_program.add_shape(right_triangle_2)\n",
    "paint_program.add_shape(right_triangle_3)\n",
    "\n",
    "print(paint_program.total_area_of_shapes())\n",
    "print(paint_program.total_perimeter_of_shapes())"
   ]
  },
  {
   "cell_type": "code",
   "execution_count": null,
   "metadata": {},
   "outputs": [],
   "source": []
  }
 ],
 "metadata": {
  "kernelspec": {
   "display_name": "base",
   "language": "python",
   "name": "python3"
  },
  "language_info": {
   "codemirror_mode": {
    "name": "ipython",
    "version": 3
   },
   "file_extension": ".py",
   "mimetype": "text/x-python",
   "name": "python",
   "nbconvert_exporter": "python",
   "pygments_lexer": "ipython3",
   "version": "3.12.4"
  }
 },
 "nbformat": 4,
 "nbformat_minor": 2
}
