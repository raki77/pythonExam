{
 "cells": [
  {
   "cell_type": "code",
   "execution_count": 9,
   "id": "d895870c-fea0-491c-9290-3208e07b9075",
   "metadata": {},
   "outputs": [],
   "source": [
    "# [정승현] 학생이 [아이스 아메리카노]를 마신다.\n",
    "class Student:\n",
    "    def __init__(self, name):\n",
    "        self.name = name\n",
    "    def drink(self, coffee):\n",
    "        print(f\"{self.name} 학생이 {coffee}를 마신다.\")\n"
   ]
  },
  {
   "cell_type": "code",
   "execution_count": 11,
   "id": "a515550d-9818-4257-b8b0-d541f4c08b21",
   "metadata": {},
   "outputs": [],
   "source": [
    "class Cafeteria:\n",
    "    def __init__(self, order):\n",
    "        self.order = order"
   ]
  },
  {
   "cell_type": "code",
   "execution_count": 15,
   "id": "2e0269dc-7f80-4d47-b11e-4e336508c313",
   "metadata": {},
   "outputs": [
    {
     "data": {
      "text/plain": [
       "'정승현'"
      ]
     },
     "execution_count": 15,
     "metadata": {},
     "output_type": "execute_result"
    }
   ],
   "source": [
    "stu1 = Student(\"정승현\")\n",
    "stu1.name"
   ]
  },
  {
   "cell_type": "code",
   "execution_count": 17,
   "id": "ae717ac7-af38-4b60-8c09-f06f54c32e81",
   "metadata": {},
   "outputs": [],
   "source": [
    "mega_coffee = Cafeteria('아이스 아메리카노')"
   ]
  },
  {
   "cell_type": "code",
   "execution_count": 21,
   "id": "bffc9c60-5252-44b5-8738-20102e36fe11",
   "metadata": {},
   "outputs": [
    {
     "name": "stdout",
     "output_type": "stream",
     "text": [
      "정승현 학생이 아이스 아메리카노를 마신다.\n"
     ]
    }
   ],
   "source": [
    "stu1.drink(mega_coffee.order)"
   ]
  },
  {
   "cell_type": "code",
   "execution_count": null,
   "id": "cfd4eeb2-0c7e-461e-801a-6c0c16ac9eaf",
   "metadata": {},
   "outputs": [],
   "source": []
  }
 ],
 "metadata": {
  "kernelspec": {
   "display_name": "Python 3 (ipykernel)",
   "language": "python",
   "name": "python3"
  },
  "language_info": {
   "codemirror_mode": {
    "name": "ipython",
    "version": 3
   },
   "file_extension": ".py",
   "mimetype": "text/x-python",
   "name": "python",
   "nbconvert_exporter": "python",
   "pygments_lexer": "ipython3",
   "version": "3.12.4"
  }
 },
 "nbformat": 4,
 "nbformat_minor": 5
}
