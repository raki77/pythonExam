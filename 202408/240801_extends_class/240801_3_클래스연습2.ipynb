{
 "cells": [
  {
   "cell_type": "code",
   "execution_count": 8,
   "id": "c620a8db-51c4-44b0-9979-b52262d39e3a",
   "metadata": {},
   "outputs": [],
   "source": [
    "# 학생이 \n",
    "class Student:\n",
    "    def __init__(self, name ):\n",
    "        self.name = name \n",
    "    def study(self):\n",
    "        print(f\"{self.name} 학생의 나이는 {self.age}살이고 공부를 한다.\")\n",
    "    def eat(self, menu):\n",
    "        print(f\"{self.name} 학생이 {menu}를 먹는다.\")"
   ]
  },
  {
   "cell_type": "code",
   "execution_count": 10,
   "id": "b21d1490-3654-4bdb-aca2-e60f9c2e34fa",
   "metadata": {},
   "outputs": [],
   "source": [
    "class Restaurant:\n",
    "    def __init__(self, menu):\n",
    "        self.menu = menu"
   ]
  },
  {
   "cell_type": "code",
   "execution_count": 12,
   "id": "2a099668-4991-41b4-a187-d35ce5cba2f7",
   "metadata": {},
   "outputs": [],
   "source": [
    "hong = Student(\"홍길동\")"
   ]
  },
  {
   "cell_type": "code",
   "execution_count": 14,
   "id": "a1cb876f-d2fc-49bb-a77f-969d64f42f77",
   "metadata": {},
   "outputs": [],
   "source": [
    "chinese_rest = Restaurant('짜장면')"
   ]
  },
  {
   "cell_type": "code",
   "execution_count": 16,
   "id": "f52905d2-bcd0-421b-b998-4b0fdda40e1b",
   "metadata": {},
   "outputs": [
    {
     "data": {
      "text/plain": [
       "'짜장면'"
      ]
     },
     "execution_count": 16,
     "metadata": {},
     "output_type": "execute_result"
    }
   ],
   "source": [
    "chinese_rest.menu"
   ]
  },
  {
   "cell_type": "code",
   "execution_count": 18,
   "id": "9d12b5e6-07b3-4fc5-816a-2bf360ca6cd3",
   "metadata": {},
   "outputs": [
    {
     "name": "stdout",
     "output_type": "stream",
     "text": [
      "홍길동 학생이 짜장면를 먹는다.\n"
     ]
    }
   ],
   "source": [
    "hong.eat(chinese_rest.menu)"
   ]
  },
  {
   "cell_type": "code",
   "execution_count": null,
   "id": "96aeb608-e579-4b73-b555-c1659643b635",
   "metadata": {},
   "outputs": [],
   "source": []
  }
 ],
 "metadata": {
  "kernelspec": {
   "display_name": "Python 3 (ipykernel)",
   "language": "python",
   "name": "python3"
  },
  "language_info": {
   "codemirror_mode": {
    "name": "ipython",
    "version": 3
   },
   "file_extension": ".py",
   "mimetype": "text/x-python",
   "name": "python",
   "nbconvert_exporter": "python",
   "pygments_lexer": "ipython3",
   "version": "3.12.4"
  }
 },
 "nbformat": 4,
 "nbformat_minor": 5
}
