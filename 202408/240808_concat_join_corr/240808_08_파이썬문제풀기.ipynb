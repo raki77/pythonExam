{
 "cells": [
  {
   "cell_type": "code",
   "execution_count": 9,
   "metadata": {},
   "outputs": [
    {
     "name": "stdout",
     "output_type": "stream",
     "text": [
      "b'\\r\\n\\r\\n<!DOCTYPE html>\\r\\n<html lang=\"ko\">\\r\\n<head>\\r\\n\\t\\r\\n<meta http-equiv=\"X-UA-Compatible\" content=\"IE=Edge\" />\\r\\n<meta name=\"msapplication-starturl\" content=\"//www.nate.com/\" />\\r\\n<meta http-equiv=\"Content-Type\" content=\"text/html; charset=utf-8\" />\\r\\n<meta name=\"nate:title\" content=\"\" />\\r\\n<meta name=\"nate:description\" content=\"\\xeb\\x84\\xa4\\xec\\x9d\\xb4\\xed\\x8a\\xb8 \\xec\\x9d\\xb4\\xec\\x8a\\x88UP\" />\\r\\n<meta name=\"nate:site_name\" content=\"\\xeb\\x84\\xa4\\xec\\x9d\\xb4\\xed\\x8a\\xb8 \\xed\\x99\\x88\" />\\r\\n<meta name=\"nate:url\" content=\"https://www.nate.com/\" />\\r\\n<meta name=\"nate:image\" content=\"\" />\\r\\n<meta name=\"description\" content=\"\\xec\\x83\\x88\\xeb\\xa1\\x9c\\xec\\x9b\\x8c\\xec\\xa7\\x84 \\xeb\\x84\\xa4\\xec\\x9d\\xb4\\xed\\x8a\\xb8\\xec\\x97\\x90\\xec\\x84\\x9c \\xeb\\x8b\\xb9\\xec\\x8b\\xa0\\xec\\x9d\\x98 \\xec\\x98\\xa4\\xeb\\x8a\\x98\\xec\\x9d\\x84 \\xeb\\xa7\\x8c\\xeb\\x82\\x98\\xeb\\xb3\\xb4\\xec\\x84\\xb8\\xec\\x9a\\x94\"/>\\r\\n<meta name=\"viewport\" content=\"width=device-width, initial-scale=1\" />\\r\\n<meta property=\"og:title\" content=\"\\xeb\\x84\\xa4\\xec\\x9d\\xb4\\xed\\x8a\\xb8\" />\\r\\n<meta property=\"og:url\" content=\"https://www.nate.com/\" />\\r\\n<meta property=\"og:image\" content=\"https://main.nateimg.co.kr/img/v7/OpenGraphTag_nate_240x240.png\" />\\r\\n<meta property=\"og:description\" content=\"\\xec\\x83\\x88\\xeb\\xa1\\x9c\\xec\\x9b\\x8c\\xec\\xa7\\x84 \\xeb\\x84\\xa4\\xec\\x9d\\xb4\\xed\\x8a\\xb8\\xec\\x97\\x90\\xec\\x84\\x9c \\xeb\\x8b\\xb9\\xec\\x8b\\xa0\\xec\\x9d\\x98 \\xec\\x98\\xa4\\xeb\\x8a\\x98\\xec\\x9d\\x84 \\xeb\\xa7\\x8c\\xeb\\x82\\x98\\xeb\\xb3\\xb4\\xec\\x84\\xb8\\xec\\x9a\\x94\" />\\r\\n\\r\\n\\r\\n\\r\\n<title>\\xeb\\x84\\xa4\\xec\\x9d\\xb4\\xed\\x8a\\xb8</title>\\r\\n<link rel=\"stylesheet\" href=\"/css/common.min.css?v=202407231405_01\" type=\"text/css\">\\r\\n<link href=\"//main.nateimg.co.kr/img/v7/favicon_32.ico\"  type=\"image/x-icon\" rel=\"shortcut icon\" />\\r\\n<link rel=\"canonical\" href=\"https://www.nate.com\" />\\r\\n<script type=\"text/javascript\" src=\"/js/common/jquery-1.9.1.min.js\"></script>\\r\\n<script type=\"text/javascript\" >\\r\\n\\tvar isSvc = true; var isInfoAjax = true;\\r\\n\\tvar make = \\'t\\';\\r\\n\\tvar isMakeLogin = \\'\\';\\r\\n\\tvar host = \\'www.nate.com\\';\\r\\n\\tvar isNateLogin = (isMakeLogin == \"Y\") ? true : false;\\r\\n\\tvar myId = \"\";\\r\\n\\tvar iSvcSeq  =\\'3\\'; \\r\\n\\tvar iSvcSeqB =\\'6\\'; \\r\\n\\tvar iSvcSeqC =\\'2\\';\\r\\n\\tvar currentWeatherIndex = [0,11,8]; \\r\\n\\tvar iSvcSeqW = iSvcSeqB;\\r\\n\\tvar isCommsbarOpen = (\\'N\\' == \\'Y\\') ? true : false;\\r\\n\\tvar loginType = \\'\\';\\r\\n\\tvar isiPad = (navigator.userAgent.toUpperCase().indexOf(\"IPAD\") !== -1);\\r\\n\\tvar isGalaxyTab = (navigator.userAgent.toUpperCase().indexOf(\"SHW-M180\") !== -1); // GT-P1000\\r\\n\\tvar isGalaxyTab10 = (navigator.userAgent.toUpperCase().indexOf(\"SHW-M380\") !== -1);\\r\\n\\tvar isTablet = (isiPad == true || isGalaxyTab == true || isGalaxyTab10 == true);\\r\\n\\tif (isTablet)\\r\\n\\t{\\r\\n\\t    document.write(\\'<link rel=\"apple-touch-icon-precomposed\" href=\"//main.nateimg.co.kr/img/nate_144.png\" />\\');\\r\\n\\t}\\r\\n\\tvar loginBoxName \\t= \"\\xec\\x95\\x84\\xec\\x9d\\xb4\\xeb\\x94\\x94 or @\\xec\\x9d\\xb4\\xed\\x95\\x98 \\xeb\\xaa\\xa8\\xeb\\x91\\x90 \\xec\\x9e\\x85\\xeb\\xa0\\xa5\";\\r\\n\\tvar hostInfo \\t \\t= (host.length > 0) ? \\'//\\' + host : \\'\\';\\r\\n\\t\\r\\n\\tvar verIssue01 \\t\\t= \\'202408081801\\';\\r\\n\\tvar verIssue02 \\t\\t= \\'202408081801\\';\\r\\n\\tvar verIssue03 \\t\\t= \\'202408081801\\';\\r\\n\\tvar verIssue04 \\t\\t= \\'202408081801\\';\\r\\n\\tvar verIssue05 \\t\\t= \\'202408081801\\';\\r\\n\\tvar verIssue06 \\t\\t= \\'202408081801\\';\\r\\n\\tvar verIssue07 \\t\\t= \\'202408081801\\';\\r\\n\\t\\t\\r\\n\\tvar verNateTV\\t\\t\\t= \\'202408081813\\';\\r\\n\\tvar verIssueKeyword\\t\\t= \\'202408081815\\';\\r\\n\\tvar verToonNBook\\t\\t= \\'202408081807\\';\\r\\n\\tvar verShortFormBest\\t= \\'202408081802\\';\\r\\n\\tvar verNateQ01\\t\\t\\t= \\'202408081758\\';\\r\\n\\tvar verRanking06\\t\\t= \\'202408081803\\';\\r\\n\\r\\n\\tvar verGnbRoll\\t\\t\\t= \\'202408081801\\';\\r\\n\\tvar verNewsBox \\t\\t\\t= \\'202408081815\\';\\r\\n\\tvar verShopRecomm\\t\\t= \\'202408081810\\';\\r\\n\\tvar verNateQ02\\t\\t\\t= \\'202408081804\\';\\r\\n\\t\\r\\n\\tvar verPannTotal\\t\\t= \\'202408081814\\';\\r\\n\\tvar verPannWomanLife\\t= \\'202408081814\\';\\r\\n\\tvar verPannTeens\\t\\t= \\'202408081815\\';\\r\\n\\tvar verPannEnter\\t\\t= \\'202408081815\\';\\r\\n\\tvar verTodayKeyword \\t= \\'202408081815\\';\\r\\n\\tvar verWorkLife\\t\\t\\t= \\'202408081815\\';\\r\\n\\tvar verKeywordAd\\t\\t= \\'202408081717\\';\\r\\n\\tvar verAdFunFun\\t\\t\\t= \\'202408081805\\';\\r\\n\\tvar verBizSearch \\t\\t= \\'202407251618\\';\\r\\n\\tvar verPann01 \\t\\t\\t= \\'201907240835\\';\\r\\n\\tvar verPann02 \\t\\t\\t= \\'201907240835\\';\\r\\n\\r\\n\\tvar shoppingInspection \\t\\t= \\'N\\';\\r\\n\\tvar isEmergencyShoppingTab \\t= \\'N\\';\\r\\n\\tvar isAutoRefresh \\t\\t\\t= true;\\r\\n\\tvar isChangeTab \\t\\t\\t= false;\\r\\n\\tvar nateAwardsStat\\t\\t\\t= \\'\\';\\r\\n\\tvar isViewKeywordRank\\t\\t= \\'N\\';\\r\\n\\tvar isEmergencyToonNBookTab = \\'N\\';\\r\\n\\r\\n\\t//]]>\\r\\n\\t</script>\\r\\n\\t<script type=\"text/javascript\" src=\"/js/common/nate_general_v20170627.js?v=202408071539_15\"></script>\\r\\n\\t<script type=\"text/javascript\" src=\"/js/common/ac_v5.js?v=20221017_07\"></script>\\r\\n\\r\\n\\t\\r\\n\\t\\r\\n\\t\\r\\n\\t\\t<script type=\"text/javascript\" src=\"/js/common/nate_logout_v20170627.js?v=202001141024_01\"></script>\\r\\n\\t\\t<script type=\"text/javascript\">\\r\\n\\t\\t //<![CDATA[\\t\\t\\r\\n\\t\\t\\tvar bLogout = false;\\r\\n\\t    \\tif (isLogout()) { fillLogout(); }\\r\\n\\t\\t //]]>\\r\\n\\t\\t</script>\\r\\n\\t\\r\\n\\t<script type=\"text/javascript\" src=\"/js/common/swiper.min.js?v=1\"></script>\\r\\n\\t\\t\\r\\n</head>\\r\\n<body>\\r\\n\\t<script type=\"text/javascript\">\\r\\n\\t //<![CDATA[\\t\\t\\r\\n\\t\\tpageEnd2(\\'st\\');\\r\\n\\t //]]>\\r\\n\\t</script>\\t\\r\\n\\t<div id=\"mainContainer\">\\r\\n\\t\\t<div class=\"area_access\">\\r\\n\\t\\t\\t<h2>\\xeb\\x84\\xa4\\xec\\x9d\\xb4\\xed\\x8a\\xb8 \\xeb\\xa9\\x94\\xec\\x9d\\xb8\\xed\\x8e\\x98\\xec\\x9d\\xb4\\xec\\xa7\\x80 \\xec\\xa3\\xbc\\xec\\x9a\\x94 \\xeb\\x82\\xb4\\xec\\x9a\\xa9 \\xeb\\xb0\\x94\\xeb\\xa1\\x9c\\xea\\xb0\\x80\\xea\\xb8\\xb0</h2>\\r\\n\\t\\t\\t<ul>\\t\\t\\t\\r\\n\\t\\t\\t\\t<li><a href=\"#search\"><strong>\\xed\\x86\\xb5\\xed\\x95\\xa9\\xea\\xb2\\x80\\xec\\x83\\x89 \\xeb\\xb0\\x94\\xeb\\xa1\\x9c\\xea\\xb0\\x80\\xea\\xb8\\xb0</strong></a></li>\\r\\n\\t\\t\\t\\t\\r\\n\\t\\t\\t\\t\\r\\n\\t\\t\\t\\t\\t<li><a href=\"#UI\"><strong>\\xeb\\xa1\\x9c\\xea\\xb7\\xb8\\xec\\x9d\\xb8\\xec\\x98\\x81\\xec\\x97\\xad \\xeb\\xb0\\x94\\xeb\\xa1\\x9c\\xea\\xb0\\x80\\xea\\xb8\\xb0</strong></a></li>\\r\\n\\t\\t\\t\\t\\r\\n\\t\\t\\t\\t<li><a href=\"#news_area\"><strong>\\xeb\\xb3\\xb8\\xeb\\xac\\xb8\\xec\\x98\\x81\\xec\\x97\\xad \\xeb\\xb0\\x94\\xeb\\xa1\\x9c\\xea\\xb0\\x80\\xea\\xb8\\xb0</strong></a></li>\\r\\n\\t\\t\\t</ul>\\r\\n\\t\\t</div>\\r\\n\\t\\t<div id=\"container\">\\r\\n\\t\\t\\t<div id=\"header\">\\r\\n\\t\\t\\t\\t\\r\\n\\r\\n\\r\\n\\r\\n\\r\\n<div id=\"NateBi\" class=\"area_bi\" role=\"banner\">\\r\\n    <h1 title=\"\\xeb\\x84\\xa4\\xec\\x9d\\xb4\\xed\\x8a\\xb8\" class=\"bi\"><a href=\"//www.nate.com/?f=bi\" onmousedown=\"nc(\\'NBI01\\');\">\\xeb\\x84\\xa4\\xec\\x9d\\xb4\\xed\\x8a\\xb8</a></h1>\\r\\n</div>\\r\\n\\t\\r\\n\\t\\t\\t\\t\\r\\n\\r\\n\\r\\n\\r\\n\\r\\n<div id=\"divignb\" class=\"area_ignb\">\\r\\n<h2>\\xeb\\x8f\\x85\\xeb\\xa6\\xbdGNB</h2>\\r\\n<h3>\\xed\\x8e\\xb8\\xeb\\xa6\\xac\\xed\\x95\\x9c \\xeb\\x84\\xa4\\xec\\x9d\\xb4\\xed\\x8a\\xb8</h3>\\r\\n\\t<ul>     \\t\\t\\t\\t\\r\\n\\t\\t<li><a href=\"https://search.daum.net/nate?thr=sbma&w=tot&q=%EB%84%A4%EC%9D%B4%ED%8A%B8%EC%95%B1\" onmousedown=\"nc(\\'NBI04\\');\">\\xeb\\x84\\xa4\\xec\\x9d\\xb4\\xed\\x8a\\xb8\\xec\\x95\\xb1</a></li>\\r\\n\\t\\t<li><a href=\"//nateonweb.nate.com/\" onmousedown=\"nc(\\'NBI05\\');\">\\xeb\\x84\\xa4\\xec\\x9d\\xb4\\xed\\x8a\\xb8\\xec\\x98\\xa8</a></li>\\r\\n\\t\\t<li><a href=\"http://www.cymera.com/main/ko\" onmousedown=\"nc(\\'NBI07\\');\">\\xec\\x8b\\xb8\\xec\\x9d\\xb4\\xeb\\xa9\\x94\\xeb\\x9d\\xbc</a></li>\\r\\n\\t</ul>\\t\\r\\n</div>\\r\\n\\r\\n\\t\\t\\t\\t\\r\\n\\r\\n\\r\\n\\r\\n\\r\\n<div class=\"area_search\" role=\"search\">\\r\\n    <h2>\\xed\\x86\\xb5\\xed\\x95\\xa9\\xea\\xb2\\x80\\xec\\x83\\x89</h2>\\r\\n    <form id=\"search\" name=\"search\" action=\"https://search.daum.net/nate\" accept-charset=\"utf-8\" onsubmit=\"return checkSearchForm()\">\\r\\n\\t\\t<input type=\"hidden\" id=\"thr\" name=\"thr\" value=\"sbma\" />\\r\\n\\t\\t<input type=\"hidden\" id=\"w\" name=\"w\" value=\"tot\" />\\r\\n        <fieldset>\\r\\n            <legend>\\xed\\x86\\xb5\\xed\\x95\\xa9\\xea\\xb2\\x80\\xec\\x83\\x89 \\xec\\x9e\\x85\\xeb\\xa0\\xa5</legend>\\r\\n            <div id=\"acWrap\" class=\"home\" onmouseover=\"ac_LoadByNateMain();\">\\r\\n                <input class=\"type_text\" id=\"q\" name=\"q\" value=\"\" autocomplete=\"off\" type=\"text\" style=\"ime-mode:active\" onkeydown=\"return checkSearchQEnter(event)\" onmousedown=\"clickSearchKeywordAd()\" />\\r\\n                <input id=\"acBtn\" title=\"\\xea\\xb2\\x80\\xec\\x83\\x89\" class=\"type_btn\" type=\"submit\">\\r\\n                <div id=\"acDiv\" style=\"display:none;\"></div>\\r\\n            </div>\\r\\n        </fieldset>\\r\\n    </form>\\r\\n    <input type=\"hidden\" id=\"premiumText\" name=\"premiumText\" title=\"\" value=\"\" />\\r\\n    <input type=\"hidden\" id=\"premiumLink\" name=\"premiumLink\" title=\"\" value=\"\" />\\r\\n    <input type=\"hidden\" id=\"statCode\" name=\"statCode\" title=\"\" value=\"\" />\\r\\n\\t<div class=\"search_keyword\">\\r\\n\\t\\t<dl>\\r\\n\\t\\t\\t<dd>\\r\\n\\t\\t\\t\\t<a id=\"onclick_semantic01\" href=\"https://search.daum.net/nate?w=tot&amp;q=%ED%95%80%EB%9E%80%EB%93%9C+%EC%85%8B%EB%B0%A9%EC%82%B4%EC%9D%B4+%EC%B6%9C%EC%97%B0&amp;rtmaxcoll=TVP%2CDNS\" onmousedown=\"setNcCode(\\'NSC11|NSC21|NSC31\\',iSvcSeq-1);\">\\xec\\x9d\\xb4\\xec\\xa0\\x9c\\xed\\x9b\\x88 \\xec\\xb0\\xa8\\xec\\x9d\\x80\\xec\\x9a\\xb0 \\xed\\x99\\x95\\xec\\xa0\\x95</a>\\r\\n                <a id=\"onclick_semantic02\" href=\"https://search.daum.net/nate?w=tot&amp;DA=NAD&amp;q=%EC%95%94%EB%B3%B4%ED%97%98\" onmousedown=\"setNcCode(\\'NSC12|NSC22|NSC32\\',iSvcSeq-1);\">\\xec\\x95\\x94\\xeb\\xb3\\xb4\\xed\\x97\\x98 \\xeb\\xb9\\x84\\xea\\xb5\\x90\\xea\\xb2\\xac\\xec\\xa0\\x81</a>\\r\\n                <a id=\"onclick_semantic03\" href=\"https://search.daum.net/nate?w=tot&amp;DA=NAD&amp;q=%EC%A4%91%EA%B3%A0%EC%B0%A8%EB%A7%A4%EB%A7%A4%EC%82%AC%EC%9D%B4%ED%8A%B8\" onmousedown=\"setNcCode(\\'NSC13|NSC23|NSC33\\',iSvcSeq-1);\">\\xec\\xa4\\x91\\xea\\xb3\\xa0\\xec\\xb0\\xa8\\xeb\\xa7\\xa4\\xeb\\xa7\\xa4\\xec\\x82\\xac\\xec\\x9d\\xb4\\xed\\x8a\\xb8</a>\\r\\n                <a id=\"onclick_semantic04\" href=\"https://search.daum.net/nate?w=tot&amp;q=BTS+RM+SNS+%EA%B2%8C%EC%8B%9C%EB%AC%BC+%EC%82%AD%EC%A0%9C&amp;rtmaxcoll=DNS\" onmousedown=\"setNcCode(\\'NSC14|NSC24|NSC34\\',iSvcSeq-1);\">BTS RM \\xea\\xb2\\x8c\\xec\\x8b\\x9c\\xeb\\xac\\xbc \\xec\\x82\\xad\\xec\\xa0\\x9c</a>\\r\\n                <a id=\"onclick_semantic05\" href=\"https://search.daum.net/nate?w=tot&amp;q=%EA%B8%88%EC%AA%BD%EC%83%81%EB%8B%B4%EC%86%8C+%ED%95%98%EC%B6%98%ED%99%94&amp;rtmaxcoll=TVP%2CDNS\" onmousedown=\"setNcCode(\\'NSC15|NSC25|NSC35\\',iSvcSeq-1);\">\\xed\\x95\\x98\\xec\\xb6\\x98\\xed\\x99\\x94 \\xea\\xb8\\x88\\xec\\xaa\\xbd\\xec\\x83\\x81\\xeb\\x8b\\xb4\\xec\\x86\\x8c</a>\\r\\n\\t\\t\\t</dd>\\r\\n\\t\\t</dl>\\r\\n\\t</div>\\r\\n    <a href=\"https://m.nate.com/aichat.html\" target=\"_blank\" class=\"link-ngpt\" onmousedown=\"nc(\\'NNC01\\');\">AI\\xec\\xb1\\x97 \\xeb\\xb0\\x94\\xeb\\xa1\\x9c\\xea\\xb0\\x80\\xea\\xb8\\xb0</a>\\r\\n</div>\\r\\n\\t\\r\\n\\t\\t\\t\\t\\r\\n\\r\\n\\r\\n\\r\\n\\r\\n<div id=\"divGnb\" class=\"area_gnb\" role=\"navigation\">\\r\\n\\t<h2>GNB</h2>\\r\\n\\t<ul>\\r\\n\\t\\t<li class=\"mail\"><a href=\"https://mail3.nate.com/#index\" onmousedown=\"nc(\\'NGB01\\');\">\\xeb\\xa9\\x94\\xec\\x9d\\xbc</a></li>\\r\\n\\t\\t<li class=\"news\"><a href=\"//news.nate.com/\" onmousedown=\"nc(\\'NEV31\\');\">\\xeb\\x89\\xb4\\xec\\x8a\\xa4</a></li>\\r\\n\\t\\t<li class=\"pann\"><a href=\"https://pann.nate.com/\" onmousedown=\"nc(\\'NGB02\\');\">\\xed\\x8c\\x90</a></li>\\r\\n\\t\\t<li class=\"chat1\"><a href=\"https://m.nate.com/aichat.html\" target=\"_blank\" onmousedown=\"nc(\\'NGB51\\');\">AI\\xec\\xb1\\x97</a><em class=\"beta\">beta</em></li>\\r\\n\\t\\t<li class=\"tv\"><a href=\"https://tv.nate.com/\" onmousedown=\"nc(\\'NGB43\\');\">TV</a></li>\\r\\n\\t\\t<li class=\"comics\"><a href=\"https://toonnbook.nate.com/\" onmousedown=\"nc(\\'NGB44\\');\">\\xeb\\xa7\\x8c\\xed\\x99\\x94</a></li>\\r\\n\\t\\t<li class=\"fortune\"><a href=\"https://fortune.nate.com/home/main.nate\" onmousedown=\"nc(\\'NGB05\\');\">\\xec\\x9a\\xb4\\xec\\x84\\xb8</a></li>\\r\\n\\t\\t<li class=\"game\"><a href=\"http://game.nate.com/\" onmousedown=\"nc(\\'NGB06\\');\">\\xea\\xb2\\x8c\\xec\\x9e\\x84</a></li>\\r\\n\\t\\t<li class=\"shopping\"><a href=\"//shopping.nate.com/\" onmousedown=\"nc(\\'NGB17\\');\">\\xec\\x87\\xbc\\xed\\x95\\x91</a></li>\\r\\n\\t\\t<li class=\"teamroom\"><a href=\"https://nateonweb.nate.com/teamroom/\" title=\"\\xed\\x95\\xa8\\xea\\xbb\\x98\\xed\\x95\\x98\\xeb\\x8a\\x94 \\xec\\x9d\\xbc\\xec\\x9d\\xb4 \\xec\\x89\\xac\\xec\\x9b\\x8c\\xec\\xa7\\x84\\xeb\\x8b\\xa4\" onmousedown=\"nc(\\'NGB42\\');\">\\xed\\x8c\\x80\\xeb\\xa3\\xb8</a></li>\\r\\n\\t\\t<li class=\"\"><a href=\"https://view.nate.com/\" title=\"\\xeb\\x84\\xa4\\xec\\x9d\\xb4\\xed\\x8a\\xb8\\xeb\\xb7\\xb0\" onmousedown=\"nc(\\'NGB50\\');\">\\xeb\\x84\\xa4\\xec\\x9d\\xb4\\xed\\x8a\\xb8\\xeb\\xb7\\xb0</a></li>\\r\\n\\t\\t<li class=\"\"><a href=\"https://sports.news.nate.com/paris/\" style=\"color:#0B736C\" title=\"\\xeb\\xb4\\x89\\xec\\xa5\\xac\\xeb\\xa5\\xb4! PARIS\" onmousedown=\"nc(\\'NGB54\\');\">\\xeb\\xb4\\x89\\xec\\xa5\\xac\\xeb\\xa5\\xb4! PARIS</a></li>\\r\\n\\t\\t<li class=\"more\">\\r\\n\\t\\t\\t<a id=\"aGnbMore\" href=\"javascript:;\" title=\"\\xec\\xa0\\x84\\xec\\xb2\\xb4 \\xec\\x84\\x9c\\xeb\\xb9\\x84\\xec\\x8a\\xa4 \\xeb\\x8d\\x94\\xeb\\xb3\\xb4\\xea\\xb8\\xb0\" onmousedown=\"nc(\\'NGB31\\');\">\\xeb\\x8d\\x94\\xeb\\xb3\\xb4\\xea\\xb8\\xb0</a>\\t\\t\\t\\r\\n\\t\\t\\t<div class=\"list_svc\" style=\"display:none\">\\r\\n\\t\\t\\t\\t<ul class=\"row_first\">\\r\\n\\t\\t\\t\\t\\t<li><a href=\"//news.nate.com\" onmousedown=\"nc(\\'NSD30\\');\"><strong>\\xeb\\x89\\xb4\\xec\\x8a\\xa4</strong></a></li>\\t\\r\\n\\t\\t\\t\\t\\t<li><a href=\"//news.nate.com/Weather\" onmousedown=\"nc(\\'NSD45\\');\">\\xeb\\x82\\xa0\\xec\\x94\\xa8</a></li>\\r\\n\\t\\t\\t\\t\\t<li><a href=\"//sports.news.nate.com/\" onmousedown=\"nc(\\'NSD74\\');\">\\xec\\x8a\\xa4\\xed\\x8f\\xac\\xec\\xb8\\xa0</a></li>\\t\\t\\t\\t\\t\\r\\n\\t\\t\\t\\t\\t<li><a href=\"//news.nate.com/ent/index\" onmousedown=\"nc(\\'NSD75\\');\">\\xec\\x97\\xb0\\xec\\x98\\x88</a></li>\\r\\n\\t\\t\\t\\t\\t<li><a href=\"//news.nate.com/ent/idol24\" onmousedown=\"nc(\\'NSD02\\');\">\\xec\\x95\\x84\\xec\\x9d\\xb4\\xeb\\x8f\\x8c24</a></li>\\r\\n\\t\\t\\t\\t\\t<li><a href=\"//news.nate.com/rank/interest\" onmousedown=\"nc(\\'NSD01\\');\">\\xeb\\x9e\\xad\\xed\\x82\\xb9\\xeb\\x89\\xb4\\xec\\x8a\\xa4</a></li>\\t\\t\\t\\t\\t\\t\\t\\t\\t\\t\\t\\t\\r\\n\\t\\t\\t\\t</ul>\\r\\n\\t\\t\\t\\t<ul class=\"row_second\">\\r\\n\\t\\t\\t\\t\\t<li><a href=\"https://pann.nate.com/\" onmousedown=\"nc(\\'NSD68\\');\"><strong>\\xed\\x8c\\x90</strong></a></li>\\r\\n\\t\\t\\t\\t\\t<li><a href=\"https://pann.nate.com/talk\" onmousedown=\"nc(\\'NSD06\\');\">\\xed\\x86\\xa1\\xed\\x86\\xa1</a></li>\\r\\n\\t\\t\\t\\t\\t<li><a href=\"https://pann.nate.com/fantalk\" onmousedown=\"nc(\\'NSD76\\');\">\\xed\\x8c\\xac\\xed\\x86\\xa1</a></li>\\r\\n\\t\\t\\t\\t</ul>\\r\\n\\t\\t\\t\\t<ul class=\"row_third\">\\r\\n\\t\\t\\t\\t\\t<li><a href=\"//nateonweb.nate.com/\" onmousedown=\"nc(\\'NSD37\\');\">\\xeb\\x84\\xa4\\xec\\x9d\\xb4\\xed\\x8a\\xb8\\xec\\x98\\xa8</a></li>\\t\\t\\t\\t\\t\\r\\n\\t\\t\\t\\t\\t<li><a href=\"//cash.nate.com/center/cashMain.sc\" onmousedown=\"nc(\\'NSD38\\');\">\\xeb\\x84\\xa4\\xec\\x9d\\xb4\\xed\\x8a\\xb8\\xec\\xba\\x90\\xec\\x89\\xac</a></li>\\r\\n\\t\\t\\t\\t\\t<li><a href=\"https://sms.nate.com/\" onmousedown=\"nc(\\'NSD35\\');\">\\xeb\\xac\\xb8\\xec\\x9e\\x90\\xeb\\xa9\\x94\\xec\\x8b\\x9c\\xec\\xa7\\x80</a></li>\\t\\r\\n\\t\\t\\t\\t\\t<li><a href=\"https://mail.nate.com/pims/\" onmousedown=\"nc(\\'NSD34\\');\">\\xec\\xa3\\xbc\\xec\\x86\\x8c\\xeb\\xa1\\x9d</a></li>\\r\\n\\t\\t\\t\\t</ul>\\r\\n\\t\\t\\t\\t<ul class=\"row_fourth\">\\r\\n\\t\\t\\t\\t\\t<li><a href=\"//mobile.nate.com/\" onmousedown=\"nc(\\'NSD41\\');\">\\xec\\xbb\\xac\\xeb\\x9f\\xac\\xeb\\xa7\\x81</a></li>\\r\\n\\t\\t\\t\\t\\t<li><a href=\"//editor.nate.com/\" onmousedown=\"nc(\\'NSD42\\');\">\\xec\\x9d\\xb4\\xec\\x8a\\x88UP\\xec\\xb6\\x94\\xec\\xb2\\x9c</a></li>\\r\\n\\t\\t\\t\\t\\t<li><a href=\"//m.ssul.nate.com/\" onmousedown=\"nc(\\'NSD46\\');\">\\xec\\x8d\\xb0</a></li>\\r\\n\\t\\t\\t\\t</ul>\\r\\n\\t\\t\\t\\t<span><a href=\"https://www.nate.com/sitemap/index.html\" onmousedown=\"nc(\\'NSD91\\');\">\\xec\\x84\\x9c\\xeb\\xb9\\x84\\xec\\x8a\\xa4 \\xec\\xa0\\x84\\xec\\xb2\\xb4\\xeb\\xb3\\xb4\\xea\\xb8\\xb0</a></span>\\r\\n\\r\\n\\t\\t\\t\\t<button type=\"button\" value=\"\\xeb\\x8d\\x94\\xeb\\xb3\\xb4\\xea\\xb8\\xb0 \\xeb\\x8b\\xab\\xea\\xb8\\xb0\" title=\"\\xeb\\x8d\\x94\\xeb\\xb3\\xb4\\xea\\xb8\\xb0 \\xeb\\x8b\\xab\\xea\\xb8\\xb0\" onmousedown=\"nc(\\'NSD95\\');\">\\xeb\\x8d\\x94\\xeb\\xb3\\xb4\\xea\\xb8\\xb0 \\xeb\\x8b\\xab\\xea\\xb8\\xb0</button>\\r\\n\\t\\t\\t</div>\\r\\n\\t\\t</li>\\r\\n\\t</ul>\\r\\n</div>\\r\\n<div class=\"area_rtkwd type_alone\" id=\"keywordRank\">\\r\\n\\t<h3 class=\"nHide\"><a href=\"#\" title=\"\\xeb\\x84\\xa4\\xec\\x9d\\xb4\\xed\\x8a\\xb8 \\xec\\x9d\\xb8\\xea\\xb8\\xb0\\xea\\xb2\\x80\\xec\\x83\\x89\\xec\\x96\\xb4\\xeb\\xa1\\x9c \\xec\\x9d\\xb4\\xeb\\x8f\\x99\">\\xec\\x8b\\xa4\\xec\\x8b\\x9c\\xea\\xb0\\x84 \\xea\\xb2\\x80\\xec\\x83\\x89\\xec\\x96\\xb4</a></h3>\\r\\n\\r\\n</div>\\r\\n<div class=\"area_biz type_alone\" id=\"bizRank\">\\r\\n\\t<h3 class=\"nHide\"><a href=\"#\" title=\"\\xeb\\x84\\xa4\\xec\\x9d\\xb4\\xed\\x8a\\xb8 \\xec\\x9d\\xb8\\xea\\xb8\\xb0\\xea\\xb2\\x80\\xec\\x83\\x89\\xec\\x96\\xb4\\xeb\\xa1\\x9c \\xec\\x9d\\xb4\\xeb\\x8f\\x99\">\\xeb\\xb9\\x84\\xec\\xa6\\x88 \\xea\\xb2\\x80\\xec\\x83\\x89\\xec\\x96\\xb4</a></h3>\\r\\n\\r\\n</div>\\r\\n\\t\\t\\t\\t\\r\\n\\r\\n\\r\\n\\r\\n\\r\\n\\r\\n\\t\\r\\n\\t\\r\\n\\t\\r\\n\\t\\t<div class=\"todayBox\" id=\\'divTodayKeywordArea\\' onmouseover=\"todayKeyword.stopTodayKeyword()\" onmouseout=\"todayKeyword.startTodayKeyword()\">\\r\\n\\t\\t\\t<div id=\\'divTodayKeyword\\'>\\r\\n\\t\\t\\t\\t<a href=\"https://news.nate.com/?keyword_dtm=2024-08-08 17:47:42&keyword_sq=111281\" class=\"keyword\" title=\"\\xed\\x95\\x9c\\xea\\xb5\\xad\\xec\\xa0\\x84\\xeb\\xa0\\xa5 4\\xeb\\xb6\\x84\\xea\\xb8\\xb0 \\xec\\x97\\xb0\\xec\\x86\\x8d \\xed\\x9d\\x91\\xec\\x9e\\x90\" onmousedown=\"nc(\\'TOD56\\');\">\\xed\\x95\\x9c\\xea\\xb5\\xad\\xec\\xa0\\x84\\xeb\\xa0\\xa5 4\\xeb\\xb6\\x84\\xea\\xb8\\xb0 \\xec\\x97\\xb0\\xec\\x86\\x8d \\xed\\x9d\\x91\\xec\\x9e\\x90</a>\\r\\n\\t\\t\\t</div>\\r\\n\\t\\t\\t<div class=\"kwrd_slide\">\\r\\n\\t\\t\\t\\t<div class=\"today_tit\">\\r\\n\\t\\t\\t\\t\\t<a href=\"https://news.nate.com/\" onmousedown=\"nc(\\'TOD61\\');\">\\r\\n\\t\\t\\t\\t\\t\\t<div class=\"logoimg\">\\r\\n\\t\\t\\t\\t\\t\\t\\t<div class=\"circle step1\"></div>\\r\\n\\t\\t\\t\\t\\t\\t\\t<div class=\"circle step2\"></div>\\r\\n\\t\\t\\t\\t\\t\\t</div>\\r\\n\\t\\t\\t\\t\\t\\t<span class=\"svcname\">\\xec\\x98\\xa4\\xeb\\x8a\\x98</span>\\r\\n\\t\\t\\t\\t\\t</a>\\r\\n\\t\\t\\t\\t</div>\\r\\n\\t\\t\\t\\t<button type=\"button\" title=\"\\xec\\x9d\\xb4\\xec\\xa0\\x84\" id=\"Prev\" class=\"btn prev\" onmousedown=\"nc(\\'TOD91\\');\" onclick=\"todayKeyword.viewPreNext(\\'P\\')\"><span>\\xec\\x98\\xa4\\xeb\\x8a\\x98 \\xed\\x82\\xa4\\xec\\x9b\\x8c\\xeb\\x93\\x9c \\xec\\x9d\\xb4\\xec\\xa0\\x84 \\xeb\\x82\\xb4\\xec\\x9a\\xa9</span></button>\\r\\n\\t\\t\\t\\t<button type=\"button\" title=\"\\xeb\\x8b\\xa4\\xec\\x9d\\x8c\" id=\"Next\" class=\"btn next\" onmousedown=\"nc(\\'TOD92\\');\" onclick=\"todayKeyword.viewPreNext(\\'N\\')\"><span>\\xec\\x98\\xa4\\xeb\\x8a\\x98 \\xed\\x82\\xa4\\xec\\x9b\\x8c\\xeb\\x93\\x9c \\xeb\\x8b\\xa4\\xec\\x9d\\x8c \\xeb\\x82\\xb4\\xec\\x9a\\xa9</span></button>\\r\\n\\t\\t\\t</div>\\r\\n\\t\\t</div>\\r\\n\\t\\r\\n\\t\\r\\n\\r\\n\\t\\t\\t</div>\\r\\n\\t\\t\\t<hr />\\r\\n\\t\\t\\t<div id=\"content\">\\r\\n\\t\\t\\t\\t\\r\\n\\r\\n\\r\\n\\r\\n\\r\\n\\t\\r\\n\\r\\n\\t\\t\\t\\t<div id=\"UI\" class=\"area_auth\">\\r\\n\\t\\t\\t\\t\\t<h2>\\xed\\x9a\\x8c\\xec\\x9b\\x90 \\xeb\\xa1\\x9c\\xea\\xb7\\xb8\\xec\\x9d\\xb8 \\xec\\x98\\x81\\xec\\x97\\xad</h2>\\r\\n\\t\\t\\t\\t\\t\\r\\n                    <script type=\"text/javascript\">\\r\\n                    //<![CDATA[\\r\\n                        document.write(\\'<script type=\"text/javascript\" src=\"/common/secure/js/combine/combine_xecure_nate-secure_common.js?v=2022111801\"><\\\\/script>\\');\\r\\n                    //]]>\\r\\n                    </script>\\r\\n\\t\\t\\t\\t\\t\\r\\n                        <form id=\"f_login\" name=\"f_login\" action=\"https://xo.nate.com/LoginAuth.sk\" method=\"post\" target=\"_top\" onsubmit=\"return SubmitCheck();\">\\r\\n                        \\t<input type=\"hidden\" id=\"redirect\" name=\"redirect\" value=\"https://www.nate.com/\" />\\r\\n                            <input type=\"hidden\" id=\"PASSWD_RSA\" name=\"PASSWD_RSA\" value=\"\" />\\r\\n                            <input type=\"hidden\" id=\"domain\" name=\"domain\" value=\"nate.com\" />\\r\\n                            <input type=\"hidden\" name=\"cpurl\" value=\"www_ndr.nate.com%2Flogin%2F\" />\\r\\n                            <fieldset>\\r\\n\\t\\t\\t\\t\\t\\t\\t\\t<legend>\\xed\\x9a\\x8c\\xec\\x9b\\x90 \\xeb\\xa1\\x9c\\xea\\xb7\\xb8\\xec\\x9d\\xb8</legend>\\r\\n\\t\\t\\t\\t\\t\\t\\t\\t<label for=\"ID\" class=\"label_id nHide\">\\xec\\x95\\x84\\xec\\x9d\\xb4\\xeb\\x94\\x94 or @\\xec\\x9d\\xb4\\xed\\x95\\x98 \\xeb\\xaa\\xa8\\xeb\\x91\\x90 \\xec\\x9e\\x85\\xeb\\xa0\\xa5</label>\\r\\n\\t\\t\\t\\t\\t\\t\\t\\t<input type=\"text\" id=\"ID\" name=\"ID\" class=\"input_id\" title=\"\\xec\\x95\\x84\\xec\\x9d\\xb4\\xeb\\x94\\x94 or @\\xec\\x9d\\xb4\\xed\\x95\\x98 \\xeb\\xaa\\xa8\\xeb\\x91\\x90 \\xec\\x9e\\x85\\xeb\\xa0\\xa5\" style=\"ime-mode:disabled;\" value=\"\" />\\r\\n\\t\\t\\t\\t\\t\\t\\t\\t<label for=\"PASSDM\" class=\"label_pw nHide\">\\xeb\\xb9\\x84\\xeb\\xb0\\x80\\xeb\\xb2\\x88\\xed\\x98\\xb8</label>\\r\\n\\t\\t\\t\\t\\t\\t\\t\\t<label for=\"PASSDM\" id=\"lb_passdm\" class=\"label_pw nHide\">\\xeb\\xb9\\x84\\xeb\\xb0\\x80\\xeb\\xb2\\x88\\xed\\x98\\xb8</label>\\r\\n\\t\\t\\t\\t\\t\\t\\t\\t<input type=\"text\" name=\"PASSDM\" id=\"PASSDM\" value=\"\\xeb\\xb9\\x84\\xeb\\xb0\\x80\\xeb\\xb2\\x88\\xed\\x98\\xb8\" maxlength=\"20\" class=\"input_pw\" readonly=\"readonly\" />\\r\\n                                <label for=\"PASSWD\" id=\"lb_passwd\" class=\"label_pw nHide\">\\xeb\\xb9\\x84\\xeb\\xb0\\x80\\xeb\\xb2\\x88\\xed\\x98\\xb8</label>\\r\\n                                <input type=\"password\" name=\"PASSWD\" id=\"PASSWD\" class=\"input_pw\" maxlength=\"20\" style=\"display:none;ime-mode:disabled;\" onblur=\"vBlurPassInput();\" enc=\"on\" />\\r\\n\\t\\t\\t\\t\\t\\t\\t\\t\\r\\n\\t\\t\\t\\t\\t\\t\\t\\t<span class=\"option01\"><input type=\"checkbox\" id=\"keeplogin\" name=\"keeplogin\" class=\"chk_saveid\" onmousedown=\"nc(\\'NCM94\\');\" onclick=\"isKeepLogin(\\'on\\')\" /> <label for=\"keeplogin\" class=\"set_saveid\" onmousedown=\"nc(\\'NCM94\\');\">\\xeb\\xa1\\x9c\\xea\\xb7\\xb8\\xec\\x9d\\xb8 \\xec\\x9c\\xa0\\xec\\xa7\\x80</label> <i class=\"bar\">|</i> <a href=\"javascript:xXecurePop.openWin(3);\" class=\"ip\" onmousedown=\"nc(\\'NLI15\\');\" title=\"\\xec\\x83\\x88\\xec\\xb0\\xbd \\xec\\x97\\xb4\\xeb\\xa6\\xbc\">IP\\xeb\\xb3\\xb4\\xec\\x95\\x88 <strong id=\"ipLevelText\">ON</strong></a></span>\\r\\n\\t\\t\\t\\t\\t\\t\\t\\t<input type=\"submit\" name=\"btnLOGIN\" id=\"btnLOGIN\" value=\"\\xeb\\xa1\\x9c\\xea\\xb7\\xb8\\xec\\x9d\\xb8\" class=\"icon_login\" onkeydown=\"vkeydownSubmit(event);\" />\\r\\n\\t\\t\\t\\t\\t\\t\\t\\t<span class=\"option02\"><a href=\"javascript:onclick_Find();\" title=\"\\xec\\x95\\x84\\xec\\x9d\\xb4\\xeb\\x94\\x94 \\xec\\xb0\\xbe\\xea\\xb8\\xb0\">\\xec\\x95\\x84\\xec\\x9d\\xb4\\xeb\\x94\\x94</a> / <a href=\"javascript:onclick_FindPW();\" title=\"\\xeb\\xb9\\x84\\xeb\\xb0\\x80\\xeb\\xb2\\x88\\xed\\x98\\xb8 \\xec\\xb0\\xbe\\xea\\xb8\\xb0\">\\xeb\\xb9\\x84\\xeb\\xb0\\x80\\xeb\\xb2\\x88\\xed\\x98\\xb8 \\xec\\xb0\\xbe\\xea\\xb8\\xb0</a> <i class=\"bar\">|</i> <a href=\"javascript:onclick_Join();\" title=\"\\xed\\x9a\\x8c\\xec\\x9b\\x90\\xea\\xb0\\x80\\xec\\x9e\\x85\"><strong>\\xed\\x9a\\x8c\\xec\\x9b\\x90\\xea\\xb0\\x80\\xec\\x9e\\x85</strong></a> </span>\\r\\n\\t\\t\\t\\t\\t\\t\\t\\t\\r\\n\\t\\t\\t\\t\\t\\t\\t\\t<script type=\"text/javascript\">\\r\\n                                //<![CDATA[ \\r\\n                                    initLogin();\\r\\n                                    nateLogin = new NateLogin(\\'f_login\\', \\'btnLOGIN\\', \\'xo.nate.com/servlets/EncLoginServlet\\', loginBoxName, \\'\\xeb\\xb9\\x84\\xeb\\xb0\\x80\\xeb\\xb2\\x88\\xed\\x98\\xb8\\');\\r\\n                                //]]>\\r\\n                                </script>\\r\\n\\t\\t\\t\\t\\t\\t\\t</fieldset>\\r\\n\\t\\t\\t\\t\\t\\t</form>\\r\\n                        <div id=\"layerXKDisabled\" class=\"overlay_info type_security\" style=\"display: none\">\\r\\n                        <div class=\"layer_content\"></div>\\r\\n                        </div>\\r\\n                        \\r\\n\\t\\t\\t\\t\\t\\t<div class=\"overlay_info nHide\" id=\"divNateOn\">\\r\\n\\t\\t\\t\\t\\t\\t\\t<p>\\xec\\x9b\\xb9 \\xeb\\x84\\xa4\\xec\\x9d\\xb4\\xed\\x8a\\xb8\\xec\\x98\\xa8 \\xeb\\xa1\\x9c\\xea\\xb7\\xb8\\xec\\x9d\\xb8\\xec\\x9d\\x80 \\xec\\x84\\xa4\\xec\\xb9\\x98\\xea\\xb0\\x80 \\xed\\x95\\x84\\xec\\x9a\\x94 \\xec\\x97\\x86\\xeb\\x8a\\x94<br />\\xea\\xb0\\x80\\xeb\\xb2\\xbc\\xec\\x9a\\xb4 \\xeb\\x84\\xa4\\xec\\x9d\\xb4\\xed\\x8a\\xb8\\xec\\x98\\xa8\\xec\\x9d\\xb4 \\xeb\\x84\\xa4\\xec\\x9d\\xb4\\xed\\x8a\\xb8 \\xeb\\xa1\\x9c\\xea\\xb7\\xb8\\xec\\x9d\\xb8 \\xeb\\xa7\\x8c\\xec\\x9c\\xbc\\xeb\\xa1\\x9c<br />\\xed\\x95\\xa8\\xea\\xbb\\x98 \\xeb\\xa1\\x9c\\xea\\xb7\\xb8\\xec\\x9d\\xb8 \\xeb\\x90\\x98\\xeb\\x8a\\x94 \\xed\\x8e\\xb8\\xeb\\xa6\\xac\\xed\\x95\\x9c \\xea\\xb8\\xb0\\xeb\\x8a\\xa5\\xec\\x9e\\x85\\xeb\\x8b\\x88\\xeb\\x8b\\xa4.</p>\\r\\n\\t\\t\\t\\t\\t\\t\\t<a href=\"//nateonweb.nate.com/nateon/download_web.php\" onmousedown=\"nc(\\'NLI75\\')\" title=\"\\xec\\x9b\\xb9 \\xeb\\x84\\xa4\\xec\\x9d\\xb4\\xed\\x8a\\xb8\\xec\\x98\\xa8\\xec\\x9d\\xb4\\xeb\\x9e\\x80?\">\\xec\\x9b\\xb9 \\xeb\\x84\\xa4\\xec\\x9d\\xb4\\xed\\x8a\\xb8\\xec\\x98\\xa8\\xec\\x9d\\xb4\\xeb\\x9e\\x80?</a>\\r\\n\\t\\t\\t\\t\\t\\t\\t<button type=\"button\" value=\"\\xec\\x95\\x8c\\xeb\\xa6\\xbc \\xeb\\xa0\\x88\\xec\\x9d\\xb4\\xec\\x96\\xb4 \\xeb\\x8b\\xab\\xea\\xb8\\xb0\" title=\"\\xec\\x95\\x8c\\xeb\\xa6\\xbc \\xeb\\xa0\\x88\\xec\\x9d\\xb4\\xec\\x96\\xb4 \\xeb\\x8b\\xab\\xea\\xb8\\xb0\" class=\"close\" onclick=\"closeWebNateOnInfo()\">\\xec\\x95\\x8c\\xeb\\xa6\\xbc \\xeb\\xa0\\x88\\xec\\x9d\\xb4\\xec\\x96\\xb4 \\xeb\\x8b\\xab\\xea\\xb8\\xb0</button>\\r\\n\\t\\t\\t\\t\\t\\t</div>\\r\\n\\t\\t\\t\\t\\t\\t<div class=\"overlay_info type_saveid nHide\">\\r\\n\\t\\t\\t\\t\\t\\t\\t<p>\\xea\\xb0\\x9c\\xec\\x9d\\xb8\\xec\\xa0\\x95\\xeb\\xb3\\xb4 \\xeb\\xb3\\xb4\\xed\\x98\\xb8\\xeb\\xa5\\xbc \\xec\\x9c\\x84\\xed\\x95\\xb4<br>\\xea\\xb0\\x9c\\xec\\x9d\\xb8PC\\xec\\x97\\x90\\xec\\x84\\x9c\\xeb\\xa7\\x8c<br>\\xec\\x82\\xac\\xec\\x9a\\xa9\\xed\\x95\\xb4 \\xec\\xa3\\xbc\\xec\\x84\\xb8\\xec\\x9a\\x94. <a href=\"https://helpdesk.nate.com/web/faq-detail?faqId=KNOW0000000038&subNodeId=NODE0000000006&keyword=%EB%A1%9C%EA%B7%B8%EC%9D%B8%EC%9C%A0%EC%A7%80&pageNo=1\" onmousedown=\"nc(\\'NLI33\\');\" target=\"_blank\" title=\"\\xeb\\x8f\\x84\\xec\\x9b\\x80\\xeb\\xa7\\x90\\xeb\\xb3\\xb4\\xea\\xb8\\xb0\">\\xeb\\x8f\\x84\\xec\\x9b\\x80\\xeb\\xa7\\x90\\xeb\\xb3\\xb4\\xea\\xb8\\xb0 <i class=\"icon_arrow_right_red\"></i></a></p>\\r\\n\\t\\t\\t\\t\\t\\t\\t<button type=\"button\" value=\"\\xec\\x95\\x8c\\xeb\\xa6\\xbc \\xeb\\xa0\\x88\\xec\\x9d\\xb4\\xec\\x96\\xb4 \\xeb\\x8b\\xab\\xea\\xb8\\xb0\" title=\"\\xec\\x95\\x8c\\xeb\\xa6\\xbc \\xeb\\xa0\\x88\\xec\\x9d\\xb4\\xec\\x96\\xb4 \\xeb\\x8b\\xab\\xea\\xb8\\xb0\" class=\"icon_x_black\" onmousedown=\"nc(\\'NLI32\\');\" onclick=\"closeKeepLoginLayer()\">\\xec\\x95\\x8c\\xeb\\xa6\\xbc \\xeb\\xa0\\x88\\xec\\x9d\\xb4\\xec\\x96\\xb4 \\xeb\\x8b\\xab\\xea\\xb8\\xb0</button>\\r\\n\\t\\t\\t\\t\\t\\t</div>\\r\\n\\t\\t\\t\\t</div>\\r\\n\\t\\r\\n\\r\\n\\t\\t\\t\\t<hr />\\r\\n\\t\\t\\t\\t<h2>\\xec\\xbb\\xa8\\xed\\x85\\x90\\xec\\xb8\\xa0 \\xec\\x98\\x81\\xec\\x97\\xad</h2>\\r\\n\\t\\t\\t\\t\\r\\n\\r\\n\\r\\n\\r\\n\\r\\n<div id=\"news_area\" class=\"area_news\">\\r\\n<h3>\\xeb\\x89\\xb4\\xec\\x8a\\xa4</h3>\\r\\n<div class=\"menu\" id=\"newsTabMenu\">\\r\\n\\t<h4 id=\"newstab1\" class=\"menu01 on\"><a href=\"//news.nate.com/\" title=\"\\xeb\\x89\\xb4\\xec\\x8a\\xa4\\xed\\x83\\xad \\xec\\x97\\xb4\\xea\\xb8\\xb0\" onclick=\"newsBox.clickTabLink(\\'tab1_set1\\');return false;\">\\xeb\\x89\\xb4\\xec\\x8a\\xa4</a></h4>\\r\\n\\t<h4 id=\"newstab2\" class=\"menu02\"><a href=\"//sports.news.nate.com/\" title=\"\\xec\\x8a\\xa4\\xed\\x8f\\xac\\xec\\xb8\\xa0\\xed\\x83\\xad \\xec\\x97\\xb4\\xea\\xb8\\xb0\" onclick=\"newsBox.clickTabLink(\\'tab2_spo\\');return false;\">\\xec\\x8a\\xa4\\xed\\x8f\\xac\\xec\\xb8\\xa0</a></h4>\\r\\n\\t<h4 id=\"newstab3\" class=\"menu03\"><a href=\"//news.nate.com/ent/section?mid=e0100;\" title=\"\\xec\\x97\\xb0\\xec\\x98\\x88\\xed\\x83\\xad \\xec\\x97\\xb4\\xea\\xb8\\xb0\" onclick=\"newsBox.clickTabLink(\\'tab3_ent\\');return false;\">\\xec\\x97\\xb0\\xec\\x98\\x88</a></h4>\\r\\n\\t<h4 id=\"newstab4\" class=\"menu04\" style=\"display:block;\"><a href=\"javascript:;\" title=\"\\xed\\x8a\\xb9\\xec\\xa7\\x91\\xed\\x83\\xad \\xec\\x97\\xb4\\xea\\xb8\\xb0\" style=\"color:#0B736C\" onclick=\"newsBox.clickTabLink(\\'tab4_special\\');\" id=\"newsSpecialTabNM\">\\xeb\\xb4\\x89\\xec\\xa5\\xac\\xeb\\xa5\\xb4! \\xed\\x8c\\x8c\\xeb\\xa6\\xac</a></h4>\\r\\n\\t\\r\\n\\t<h4 id=\"newstab5\" class=\"menu05\"><a href=\"//news.nate.com/rank/?mid=n1000\" title=\"\\xeb\\x9e\\xad\\xed\\x82\\xb9\\xeb\\x89\\xb4\\xec\\x8a\\xa4\\xed\\x83\\xad \\xec\\x97\\xb4\\xea\\xb8\\xb0\" onclick=\"newsBox.clickTabLink(\\'tab5_ranking\\');return false;\">\\xeb\\x9e\\xad\\xed\\x82\\xb9\\xeb\\x89\\xb4\\xec\\x8a\\xa4</a></h4>\\r\\n</div>\\r\\n<div class=\"content type_news\" id=\"newsContType\" onfocusin=\"newsBox.rollingStop();\" onfocusout=\"newsBox.rollingStart();\">\\r\\n\\t<div class=\"tabCnt\">\\r\\n\\t\\t\\r\\n\\t\\t\\r\\n\\t\\t\\t<div class=\"rankBox\" id=\"div_rank_sisa\"></div>\\r\\n\\t\\t\\t<div class=\"rankBox\" id=\"div_rank_spo\"></div>\\r\\n\\t\\t\\t<div class=\"rankBox\" id=\"div_rank_ent\"></div>\\r\\n\\t\\t\\t<ul class=\"type_thumb type02\" id=\"newsImg_ul_1\">\\r\\n\\t\\t\\t\\t\\r\\n\\t\\t\\t\\t\\t<li id=\"newsImg0\">\\r\\n\\t\\t\\t\\t\\t\\t\\r\\n\\t\\t\\t\\t\\t\\t<a href=\"//sports.news.nate.com/paris/photoslide?cid=1070006&mid=s9815\" target=\"_self\" onclick=\"setTabInfo();ndrclick(\\'MEF09\\', \\'NH_02_01_01-20240808171900\\');\">\\r\\n\\t\\t\\t\\t\\t\\t\\t<em class=\"icon slide\">\\xec\\x8a\\xac\\xeb\\x9d\\xbc\\xec\\x9d\\xb4\\xeb\\x93\\x9c</em>\\r\\n\\t\\t\\t\\t\\t\\t\\t\\r\\n\\t\\t\\t\\t\\t\\t\\t<span class=\"thumb_img\"><img src=\"//news.nateimg.co.kr/etc/cms/2024/08/08/1723104906_726.jpg\" alt=\"\" width=\"168\" /></span>\\r\\n\\t\\t\\t\\t\\t\\t\\t<span class=\"txt\">\\xec\\x8b\\xa0\\xec\\x9c\\xa0\\xeb\\xb9\\x88, \\xec\\x82\\xbc\\xea\\xb2\\xb9\\xec\\x82\\xb4\\xeb\\xa1\\x9c \\xec\\xb2\\xb4\\xeb\\xa0\\xa5 \\xec\\xb6\\xa9\\xec\\xa0\\x84</span>\\r\\n\\t\\t\\t\\t\\t\\t</a>\\r\\n\\t\\t\\t\\t\\t</li>\\r\\n\\t\\t\\t\\t\\r\\n\\t\\t\\t\\t\\t<li id=\"newsImg1\">\\r\\n\\t\\t\\t\\t\\t\\t\\r\\n\\t\\t\\t\\t\\t\\t<a href=\"//ps.news.nate.com/photo/slideShow?cid=1069999\" target=\"_self\" onclick=\"setTabInfo();ndrclick(\\'MEF10\\', \\'NH_01_01_01-20240808165033\\');\">\\r\\n\\t\\t\\t\\t\\t\\t\\t<em class=\"icon slide\">\\xec\\x8a\\xac\\xeb\\x9d\\xbc\\xec\\x9d\\xb4\\xeb\\x93\\x9c</em>\\r\\n\\t\\t\\t\\t\\t\\t\\t\\r\\n\\t\\t\\t\\t\\t\\t\\t<span class=\"thumb_img\"><img src=\"//news.nateimg.co.kr/etc/cms/2024/08/08/1723103299_146.jpg\" alt=\"\" width=\"168\" /></span>\\r\\n\\t\\t\\t\\t\\t\\t\\t<span class=\"txt\">&quot;\\xec\\x9d\\xbc\\xed\\x95\\x98\\xeb\\x8b\\xa4 \\xeb\\xa8\\xb8\\xeb\\xa6\\xac \\xed\\x95\\x91&quot; \\xea\\xb7\\xb8\\xeb\\x9e\\x98\\xeb\\x8f\\x84 \\xeb\\xaa\\xbb \\xec\\x89\\xb0\\xeb\\x8b\\xa4\\xe2\\x80\\xa6\\xeb\\x99\\xa4\\xec\\x95\\xbd\\xeb\\xb3\\x95 \\xed\\x94\\xbc\\xed\\x95\\xa0 \\xea\\xb3\\xb3 \\xec\\x97\\x86\\xeb\\x8a\\x94 \\xeb\\xb0\\x94\\xeb\\x8b\\xa4 \\xec\\x96\\xb4\\xeb\\xaf\\xbc\\xeb\\x93\\xa4</span>\\r\\n\\t\\t\\t\\t\\t\\t</a>\\r\\n\\t\\t\\t\\t\\t</li>\\r\\n\\t\\t\\t\\t\\r\\n\\t\\t\\t\\t\\r\\n\\t\\t\\t\\t\\t\\r\\n\\t\\t\\t\\t\\t<li id=\"newsImg2\">\\r\\n\\t\\t\\t\\t\\t\\t<a href=\"//ps.news.nate.com/photo/slideShow?cid=1070022&mid=e0102\" target=\"_self\" onclick=\"setTabInfo();ndrclick(\\'MEF11\\', \\'NH_03_01_03-20240808180216\\');\">\\r\\n\\t\\t\\t\\t\\t\\t\\t<em class=\"icon slide\">\\xec\\x8a\\xac\\xeb\\x9d\\xbc\\xec\\x9d\\xb4\\xeb\\x93\\x9c</em>\\r\\n\\t\\t\\t\\t\\t\\t\\t\\r\\n\\t\\t\\t\\t\\t\\t\\t<span class=\"thumb_img\"><img src=\"//news.nateimg.co.kr/etc/cms/2024/08/08/1723107705_333.jpg\" width=\"168\" alt=\"\" /></span>\\r\\n\\t\\t\\t\\t\\t\\t\\t<span class=\"txt\">\\xec\\x9d\\xb4\\xeb\\xaf\\xb8\\xec\\xa3\\xbc, \\xec\\x9d\\xb4\\xec\\x9d\\xb4\\xea\\xb2\\xbd\\xea\\xb3\\xbc \\xeb\\x8b\\xa4\\xec\\xa0\\x95 \\xed\\x88\\xac\\xec\\x83\\xb7\\xe2\\x80\\xa6\\xe2\\x99\\xa5\\xec\\x86\\xa1\\xeb\\xb2\\x94\\xea\\xb7\\xbc \\xec\\xa7\\x88\\xed\\x88\\xac\\xed\\x95\\xa0 \\xeb\\x93\\xaf</span>\\r\\n\\t\\t\\t\\t\\t\\t</a>\\r\\n\\t\\t\\t\\t\\t</li>\\r\\n\\t\\t\\t\\t\\r\\n\\t\\t\\t</ul>\\r\\n\\t\\t\\t<ul class=\"type_text\" id=\"newsTxt_ul_1\">\\r\\n\\t\\t\\t\\t\\r\\n\\t\\t\\t\\t\\t<li id=\"newsTxt_li_0\"><strong><a href=\"//news.nate.com/hissue/clstList?mid=n0412&isq=11104&n=1038317#cid1038317\" target=\"_self\" onclick=\"setTabInfo();ndrclick(\\'MEB55\\', \\'NH_01_02_02-20240808162046\\');\">&quot;\\xeb\\x84\\x88\\xeb\\xac\\xb4 \\xec\\x95\\x84\\xed\\x8c\\x8c&quot; \\xec\\x9a\\xb8\\xeb\\xb6\\x80\\xec\\xa7\\x96\\xec\\x97\\x88\\xec\\xa7\\x80\\xeb\\xa7\\x8c \\'\\xeb\\xb3\\x91\\xec\\x9b\\x90 10\\xea\\xb3\\xb3\\' \\xed\\x87\\xb4\\xec\\xa7\\x9c\\xe2\\x80\\xa6\\xec\\xbd\\x98\\xed\\x81\\xac\\xeb\\xa6\\xac\\xed\\x8a\\xb8\\xec\\x97\\x90 \\xea\\xb9\\x94\\xeb\\xa6\\xb0 60\\xeb\\x8c\\x80 \\xec\\x82\\xac\\xeb\\xa7\\x9d</a></strong></li>\\n\\r\\n\\t\\t\\t\\t\\r\\n\\t\\t\\t\\t\\t<li id=\"newsTxt_li_1\"><a href=\"//news.nate.com/hissue/clstList?mid=n0309&isq=10477&n=881910#cid881910\" target=\"_self\" onclick=\"setTabInfo();ndrclick(\\'MEB57\\', \\'NH_01_02_01-20240808162046\\');\">\\xec\\x84\\x9c\\xec\\x9a\\xb8 \\xea\\xb7\\xb8\\xeb\\xa6\\xb0\\xeb\\xb2\\xa8\\xed\\x8a\\xb8 12\\xeb\\x85\\x84\\xeb\\xa7\\x8c\\xec\\x97\\x90 \\xec\\xa0\\x84\\xeb\\xa9\\xb4\\xed\\x95\\xb4\\xec\\xa0\\x9c\\xe2\\x80\\xa6\\xec\\x88\\x98\\xeb\\x8f\\x84\\xea\\xb6\\x8c\\xec\\x84\\x9c 8\\xeb\\xa7\\x8c\\xea\\xb0\\x80\\xea\\xb5\\xac \\xea\\xb3\\xb5\\xea\\xb8\\x89</a></li>\\n\\r\\n\\t\\t\\t\\t\\r\\n\\t\\t\\t\\t\\t<li id=\"newsTxt_li_2\"><a href=\"//news.nate.com/hissue/clstList?mid=n0508&isq=11185&n=1066174#cid1066174\" target=\"_self\" onclick=\"setTabInfo();ndrclick(\\'MEB59\\', \\'NH_01_02_12-20240808163621\\');\">\\xec\\x83\\xb4\\xed\\x8e\\x98\\xec\\x9d\\xb8 \\xeb\\x84\\x88\\xeb\\xac\\xb4 \\xec\\x9d\\xbc\\xec\\xb0\\x8d \\xed\\x84\\xb0\\xed\\x8a\\xb8\\xeb\\xa0\\xb8\\xeb\\x82\\x98\\xe2\\x80\\xa6&quot;\\xed\\x8a\\xb8\\xeb\\x9f\\xbc\\xed\\x94\\x84, \\xed\\x8c\\xa8\\xeb\\xb0\\xb0 \\xec\\x9c\\x84\\xea\\xb8\\xb0\\xea\\xb0\\x90\\xec\\x97\\x90 \\xeb\\xb6\\x88\\xeb\\xa7\\x8c \\xed\\x91\\x9c\\xec\\xb6\\x9c&quot;</a></li>\\n\\r\\n\\t\\t\\t\\t\\r\\n\\t\\t\\t\\t\\t<li id=\"newsTxt_li_3\"><a href=\"//sports.news.nate.com/paris?n=1032028\" target=\"_self\" onclick=\"setTabInfo();ndrclick(\\'MEB61\\', \\'NH_02_02_02-20240808154550\\');\">\\'\\xea\\xb2\\xbd\\xec\\x9f\\x81\\xec\\x9e\\x90 \\xec\\x99\\x80\\xeb\\xa5\\xb4\\xeb\\xa5\\xb4\\' \\xec\\x9a\\xb0\\xec\\x83\\x81\\xed\\x98\\x81 \\xeb\\xa9\\x94\\xeb\\x8b\\xac\\xea\\xb6\\x8c \\xea\\xbf\\x88\\xec\\x9d\\xb4 \\xec\\x95\\x84\\xeb\\x8b\\x88\\xeb\\x8b\\xa4, 50% \\xeb\\xb3\\xb4\\xec\\x97\\xac\\xec\\xa3\\xbc\\xea\\xb3\\xa0 \\xea\\xb2\\xb0\\xec\\x84\\xa0\\xed\\x96\\x89 &quot;\\xec\\x95\\xa0\\xea\\xb5\\xad\\xea\\xb0\\x80 \\xec\\x9a\\xb8\\xeb\\xa0\\xa4\\xeb\\xb3\\xb4\\xea\\xb2\\xa0\\xeb\\x8b\\xa4&quot;</a></li>\\n\\r\\n\\t\\t\\t\\t\\r\\n\\t\\t\\t\\t\\t<li id=\"newsTxt_li_4\"><a href=\"//news.nate.com/hissue/clstList?mid=e0100&isq=11121&n=1070011#cid1070011\" target=\"_self\" onclick=\"setTabInfo();ndrclick(\\'MEC71\\', \\'NH_03_02_03-20240808173116\\');\">\\xec\\x9e\\xa5\\xec\\x9c\\xa4\\xec\\xa3\\xbc, \\xed\\x8c\\x8c\\xeb\\xa6\\xac \\xed\\x8c\\xa8\\xec\\x85\\x98\\xec\\x9c\\x84\\xed\\x81\\xac\\xec\\x84\\x9c \\xeb\\x8b\\xb9\\xed\\x99\\xa9\\xed\\x95\\x9c \\xed\\x86\\xb1\\xeb\\xaa\\xa8\\xeb\\x8d\\xb8\\xe2\\x80\\xa6&quot;\\xec\\x82\\xac\\xeb\\x9e\\x8c\\xec\\x9d\\xb4 \\xec\\x97\\x86\\xec\\x96\\xb4, \\xeb\\x82\\x98 \\xec\\xa2\\x80 \\xec\\xb0\\x8d\\xec\\x96\\xb4\\xeb\\x8b\\xac\\xeb\\x9d\\xbc&quot;</a></li>\\n\\r\\n\\t\\t\\t\\t\\r\\n\\r\\n\\t\\t\\t</ul>\\r\\n\\t\\t\\t<ul class=\"type_text\" id=\"newsTxt_ul_2\">\\r\\n\\t\\t\\t\\t\\r\\n\\t\\t\\t\\t\\t<li id=\"newsTxt_li_5\"><a href=\"//news.nate.com/hissue/clstList?mid=n0309&isq=11002&n=1002845#cid1002845\" target=\"_self\" onclick=\"setTabInfo();ndrclick(\\'MEF22\\', \\'NH_01_02_16-20240808174910\\');\">\\'\\xec\\x88\\x9c\\xec\\x82\\xb4 \\xec\\x95\\x84\\xed\\x8c\\x8c\\xed\\x8a\\xb8\\' \\xec\\x9d\\xb4\\xec\\x9c\\xa0 \\xec\\x9e\\x88\\xec\\x97\\x88\\xeb\\x84\\xa4\\xe2\\x80\\xa6\\xec\\xa0\\x84\\xea\\xb4\\x80\\xec\\x97\\x85\\xec\\xb2\\xb4 \\xec\\x9c\\xa0\\xec\\xb0\\xa9, \\xea\\xb3\\xa8\\xed\\x94\\x84\\xec\\x97\\xac\\xed\\x96\\x89\\xc2\\xb7\\xec\\x83\\x81\\xed\\x92\\x88\\xea\\xb6\\x8c\\xec\\x9c\\xbc\\xeb\\xa1\\x9c \\xeb\\xb0\\xb0 \\xec\\xb1\\x84\\xec\\x9a\\xb4 LH</a></li>\\n\\r\\n\\t\\t\\t\\t\\r\\n\\t\\t\\t\\t\\t<li id=\"newsTxt_li_6\"><strong><a href=\"//news.nate.com/view/20240808n28695\" target=\"_self\" onclick=\"setTabInfo();ndrclick(\\'MEF24\\', \\'NH_01_02_08-20240808181532\\');\">&quot;3\\xea\\xb0\\x9c\\xec\\x9b\\x94 \\xeb\\x90\\x9c \\xed\\x85\\x8c\\xec\\x8a\\xac\\xeb\\x9d\\xbc \\xed\\x8c\\x94\\xec\\x95\\x98\\xeb\\x8b\\xa4&quot;\\xe2\\x80\\xa6\\xec\\xa3\\xbc\\xec\\xb0\\xa8\\xec\\x9e\\xa5\\xec\\x84\\x9c \\xec\\xab\\x93\\xea\\xb2\\xa8\\xeb\\x82\\x98\\xeb\\x8a\\x94 \\xec\\xa0\\x84\\xea\\xb8\\xb0\\xec\\xb0\\xa8</a></strong></li>\\n\\r\\n\\t\\t\\t\\t\\r\\n\\t\\t\\t\\t\\t<li id=\"newsTxt_li_7\"><a href=\"//sports.news.nate.com/paris/behind?news1067709\" target=\"_self\" onclick=\"setTabInfo();ndrclick(\\'MEF26\\', \\'NH_02_02_06-20240808175833\\');\">&quot;\\xec\\x9a\\xb0\\xeb\\xa6\\xb0 \\xec\\xb6\\x95\\xea\\xb5\\xac \\xeb\\xb3\\xb4\\xeb\\xa9\\xb4 \\xeb\\x88\\x88\\xeb\\xac\\xbc\\xeb\\x82\\x98&quot;\\xe2\\x80\\xa6\\xed\\x95\\x9c\\xea\\xb5\\xad \\xed\\x83\\x81\\xea\\xb5\\xac \\xeb\\x8c\\x80\\xed\\x91\\x9c\\xed\\x8c\\x80 \\xec\\x9c\\x84\\xeb\\xa1\\x9c\\xed\\x95\\x9c \\xec\\xa4\\x91\\xea\\xb5\\xad\\xec\\x9d\\xb8\\xeb\\x93\\xa4</a></li>\\n\\r\\n\\t\\t\\t\\t\\r\\n\\t\\t\\t\\t\\t<li id=\"newsTxt_li_8\"><a href=\"//sports.news.nate.com/paris?n=1068150\" target=\"_self\" onclick=\"setTabInfo();ndrclick(\\'MEF28\\', \\'NH_02_02_03-20240808154011\\');\">\\xec\\xa4\\x91\\xea\\xb5\\xad \\xec\\xa0\\x95\\xeb\\xb6\\x80\\xea\\xb9\\x8c\\xec\\xa7\\x80 \\xeb\\x82\\x98\\xec\\x84\\xb0\\xeb\\x8b\\xa4\\xe2\\x80\\xa6\\xec\\x98\\xac\\xeb\\xa6\\xbc\\xed\\x94\\xbd \\'\\xeb\\xaf\\xbc\\xed\\x8f\\x90\\' \\xea\\xb4\\x80\\xec\\xa4\\x91\\xec\\x97\\x90 &quot;\\xec\\x98\\x88\\xec\\x9d\\x98 \\xea\\xb0\\x96\\xec\\xb6\\xb0\\xeb\\x9d\\xbc&quot;</a></li>\\n\\r\\n\\t\\t\\t\\t\\r\\n\\t\\t\\t\\t\\t<li id=\"newsTxt_li_9\"><a href=\"//news.nate.com/view/20240808n32354\" target=\"_self\" onclick=\"setTabInfo();ndrclick(\\'MEF30\\', \\'NH_03_02_04-20240808174130\\');\">\\'69\\xec\\x96\\xb5 \\xeb\\xb9\\x9a \\xec\\xb2\\xad\\xec\\x82\\xb0\\' \\xec\\x9d\\xb4\\xec\\x83\\x81\\xeb\\xaf\\xbc, \\xeb\\xb9\\x84\\xec\\x8b\\xbc \\xeb\\xaf\\xb8\\xec\\x8a\\x90\\xeb\\x9e\\xad \\xeb\\xa0\\x88\\xec\\x8a\\xa4\\xed\\x86\\xa0\\xeb\\x9e\\x91\\xeb\\x8f\\x84 \\'\\xec\\xb2\\x99\\xec\\xb2\\x99\\'</a></li>\\n\\r\\n\\t\\t\\t\\t\\r\\n\\t\\t\\t</ul>\\r\\n\\r\\n\\t\\t\\t\\r\\n\\t\\t\\t\\t\\r\\n\\t\\t\\t\\t\\t<ul class=\"type_text\" id=\"newsTxt_ul_3\">\\r\\n\\t\\t\\t\\t\\t\\t\\r\\n\\t\\t\\t\\t\\t\\t\\t<li id=\"newsTxt_li_10\"><a href=\"//news.nate.com/view/20240808n24684\" target=\"_self\" onclick=\"setTabInfo();ndrclick(\\'MEB63\\', \\'NH_01_02_11-20240808151028\\');\">&quot;\\xea\\xb8\\xb0\\xec\\xb4\\x88\\xec\\x97\\xb0\\xea\\xb8\\x88\\xea\\xb9\\x8c\\xec\\xa7\\x80 \\xeb\\xb0\\x9b\\xec\\x95\\x84\\xeb\\x8f\\x84 \\xec\\xa5\\x90\\xea\\xbc\\xac\\xeb\\xa6\\xac&quot; \\xea\\xb3\\xb5\\xeb\\xac\\xb4\\xec\\x9b\\x90\\xc2\\xb7\\xec\\x82\\xac\\xed\\x95\\x99\\xec\\x97\\xb0\\xea\\xb8\\x88\\xec\\x9d\\xb4 \\xea\\xb5\\xad\\xeb\\xaf\\xbc\\xec\\x97\\xb0\\xea\\xb8\\x88\\xeb\\xb3\\xb4\\xeb\\x8b\\xa4 2.6\\xeb\\xb0\\xb0 \\xeb\\x8d\\x94 \\xec\\x88\\x98\\xeb\\xa0\\xb9</a></li>\\n\\r\\n\\t\\t\\t\\t\\t\\t\\r\\n\\t\\t\\t\\t\\t\\t\\t<li id=\"newsTxt_li_11\"><strong><a href=\"//news.nate.com/hissue/clstList?mid=n0208&isq=10081&n=806444#cid806444\" target=\"_self\" onclick=\"setTabInfo();ndrclick(\\'MEB65\\', \\'NH_01_02_06-20240808163621\\');\">\\xed\\x95\\xa9\\xec\\xb0\\xb8\\xec\\x9d\\x98\\xec\\x9e\\xa5 &quot;\\xe5\\x8c\\x97 \\xec\\x93\\xb0\\xeb\\xa0\\x88\\xea\\xb8\\xb0\\xed\\x92\\x8d\\xec\\x84\\xa0 \\xea\\xb2\\xa9\\xec\\xb6\\x94\\xec\\x8b\\x9c \\xec\\x96\\xb4\\xeb\\xa7\\x88\\xec\\x96\\xb4\\xeb\\xa7\\x88\\xed\\x95\\x9c \\xec\\xb6\\xa9\\xea\\xb2\\xa9\\xe2\\x80\\xa6\\xec\\x9a\\x94\\xea\\xb2\\xa9\\xea\\xb3\\x84\\xed\\x9a\\x8d \\xec\\x97\\x86\\xec\\x96\\xb4&quot;</a></strong></li>\\n\\r\\n\\t\\t\\t\\t\\t\\t\\r\\n\\t\\t\\t\\t\\t\\t\\t<li id=\"newsTxt_li_12\"><a href=\"//news.nate.com/hissue/clstList?mid=n0412&isq=9704\" target=\"_self\" onclick=\"setTabInfo();ndrclick(\\'MEB67\\', \\'NH_01_02_15-20240808150640\\');\">\\xeb\\xa7\\x90\\xeb\\x8b\\xa4\\xed\\x88\\xbc\\xed\\x95\\x98\\xeb\\x8b\\xa4 \\xec\\xa7\\x80\\xec\\x9d\\xb8 \\xeb\\x88\\x88 \\xec\\xa0\\x93\\xea\\xb0\\x80\\xeb\\x9d\\xbd\\xec\\x9c\\xbc\\xeb\\xa1\\x9c \\xec\\xb0\\x94\\xeb\\x9f\\xac \\xec\\x8b\\xa4\\xeb\\xaa\\x85\\xe2\\x80\\xa670\\xeb\\x8c\\x80 \\xeb\\x85\\xb8\\xec\\x9d\\xb8 \\xec\\x8b\\xa4\\xed\\x98\\x95</a></li>\\n\\r\\n\\t\\t\\t\\t\\t\\t\\r\\n\\t\\t\\t\\t\\t\\t\\t<li id=\"newsTxt_li_13\"><a href=\"//news.nate.com/view/20240808n20439\" target=\"_self\" onclick=\"setTabInfo();ndrclick(\\'MEB69\\', \\'NH_02_02_13-20240808154418\\');\">\\xeb\\x82\\xb4\\xeb\\x85\\x84 \\xec\\x83\\x88 \\xec\\x95\\xbc\\xea\\xb5\\xac\\xec\\x9e\\xa5 \\xec\\x98\\xa4\\xed\\x94\\x88\\xed\\x95\\x98\\xeb\\x8a\\x94\\xeb\\x8d\\xb0\\xe2\\x80\\xa6\\xec\\x9c\\xa0\\xec\\xb9\\x98 \\xeb\\xb6\\x88\\xeb\\xb0\\x9c\\xec\\x8b\\x9c \\xeb\\x8c\\x80\\xec\\xa0\\x84 \\xeb\\xa7\\x9d\\xec\\x8b\\xa0, \\'KBO \\xea\\xb3\\xb5\\xea\\xb0\\x9c \\xeb\\xaa\\xa8\\xec\\xa7\\x91\\' \\xec\\x99\\x9c?</a></li>\\n\\r\\n\\t\\t\\t\\t\\t\\t\\r\\n\\t\\t\\t\\t\\t\\t\\t<li id=\"newsTxt_li_14\"><a href=\"//news.nate.com/view/20240808n32535\" target=\"_self\" onclick=\"setTabInfo();ndrclick(\\'MEC73\\', \\'NH_03_02_08-20240808174203\\');\">\\'27\\xec\\x84\\xb8\\' \\xeb\\xa6\\xac\\xec\\x82\\xac, \\xe2\\x99\\xa5\\xec\\x9e\\xac\\xeb\\xb2\\x8c \\xeb\\x82\\xa8\\xec\\xb9\\x9c\\xea\\xb3\\xbc \\xea\\xb2\\xb0\\xed\\x98\\xbc\\xea\\xb9\\x8c\\xec\\xa7\\x80?\\xe2\\x80\\xa6\\xea\\xb1\\xb8\\xea\\xb7\\xb8\\xeb\\xa3\\xb9 \\xec\\x98\\x88\\xeb\\xb9\\x84 \\xeb\\xa9\\xb0\\xeb\\x8a\\x90\\xeb\\xa6\\xac\\xeb\\x8f\\x84 \\xea\\xb0\\x80\\xec\\xa1\\xb1\\xec\\x97\\xac\\xed\\x96\\x89\\xec\\x9d\\x84</a></li>\\n\\r\\n\\t\\t\\t\\t\\t\\t\\r\\n\\t\\t\\t\\t\\t</ul>\\r\\n\\t\\t\\t\\t\\t<ul class=\"type_thumb type01 nHide\" id=\"newsImg_ul_2\">\\r\\n\\t\\t\\t\\t\\t\\t\\r\\n\\t\\t\\t\\t\\t\\t\\t<li id=\"newsImg3\"></li>\\r\\n\\t\\t\\t\\t\\t\\t\\r\\n\\t\\t\\t\\t\\t\\t\\t<li id=\"newsImg4\"></li>\\r\\n\\t\\t\\t\\t\\t\\t\\r\\n\\t\\t\\t\\t\\t</ul>\\r\\n\\t\\t\\t\\t\\r\\n\\r\\n\\t\\t\\t\\t\\r\\n\\t\\t\\t\\r\\n\\r\\n\\t\\t\\t\\r\\n\\t\\t\\t<div id=\"newsPlusLayer\" class=\"overlay_plus type01\" style=\"display:none\">\\r\\n\\t\\t\\t\\t<div class=\"plus_content\">\\r\\n\\t\\t\\t\\t\\t<iframe id=\"newsIfr\" width=\"304\" height=\"470\" scrolling=\"no\" frameborder=\"0\" title=\"\\xeb\\x89\\xb4\\xec\\x8a\\xa4\\xed\\x94\\x8c\\xeb\\x9f\\xac\\xec\\x8a\\xa4 \\xec\\x95\\x84\\xec\\x9d\\xb4\\xed\\x94\\x84\\xeb\\xa0\\x88\\xec\\x9e\\x84\" src=\"about:blank\"></iframe>\\r\\n\\t\\t\\t\\t\\t<button type=\"button\" value=\"\\xeb\\x89\\xb4\\xec\\x8a\\xa4\\xed\\x94\\x8c\\xeb\\x9f\\xac\\xec\\x8a\\xa4 \\xeb\\xa0\\x88\\xec\\x9d\\xb4\\xec\\x96\\xb4 \\xeb\\x8b\\xab\\xea\\xb8\\xb0\" title=\"\\xeb\\x89\\xb4\\xec\\x8a\\xa4\\xed\\x94\\x8c\\xeb\\x9f\\xac\\xec\\x8a\\xa4 \\xeb\\xa0\\x88\\xec\\x9d\\xb4\\xec\\x96\\xb4 \\xeb\\x8b\\xab\\xea\\xb8\\xb0\" class=\"close\" onclick=\"closeNewsPlus();ndrclick(\\'MEC49\\',\\'\\');\">\\xeb\\x89\\xb4\\xec\\x8a\\xa4\\xed\\x94\\x8c\\xeb\\x9f\\xac\\xec\\x8a\\xa4 \\xeb\\xa0\\x88\\xec\\x9d\\xb4\\xec\\x96\\xb4 \\xeb\\x8b\\xab\\xea\\xb8\\xb0</button>\\r\\n\\t\\t\\t\\t</div>\\r\\n\\t\\t\\t</div>\\r\\n\\t\\t\\r\\n\\t</div>\\r\\n\\t<div class=\"bizCnt\">\\r\\n\\t\\t<div class=\"isKeyword\">\\r\\n\\t\\t\\t<h4>\\xec\\x8b\\xa4\\xec\\x8b\\x9c\\xea\\xb0\\x84 \\xec\\x9d\\xb4\\xec\\x8a\\x88 \\xed\\x82\\xa4\\xec\\x9b\\x8c\\xeb\\x93\\x9c</h4>\\r\\n\\t\\t\\t<ol class=\"isKeywordList\" id=\"olLiveIssueKeyword\">\\r\\n\\t\\t\\t\\t\\r\\n\\t\\t\\t\\t\\t\\r\\n\\t\\t\\t\\t\\t\\t\\r\\n\\t\\t\\t\\t\\t\\t\\t<li>\\r\\n\\t\\t\\t\\t\\t\\t\\t\\t<span class=\"num_rank\">6</span>\\r\\n\\t\\t\\t\\t\\t\\t\\t\\t<a href=\"https://news.nate.com/search?q=\\xec\\x84\\xb8\\xeb\\xb2\\x88\\xec\\xa7\\xb8 \\xec\\xb1\\x84\\xec\\x83\\x81\\xeb\\xb3\\x91 \\xed\\x8a\\xb9\\xea\\xb2\\x80\\xeb\\xb2\\x95\" onclick=\"newsBox.clickSearchKeyword(\\'\\xec\\x84\\xb8\\xeb\\xb2\\x88\\xec\\xa7\\xb8 \\xec\\xb1\\x84\\xec\\x83\\x81\\xeb\\xb3\\x91 \\xed\\x8a\\xb9\\xea\\xb2\\x80\\xeb\\xb2\\x95\\');return false;\" class=\"ik\" onmousedown=\"nc(\\'MEH21\\')\">\\r\\n\\t\\t\\t\\t\\t\\t\\t\\t\\t<span class=\"txt_rank\">\\xec\\x84\\xb8\\xeb\\xb2\\x88\\xec\\xa7\\xb8 \\xec\\xb1\\x84\\xec\\x83\\x81\\xeb\\xb3\\x91 \\xed\\x8a\\xb9\\xea\\xb2\\x80\\xeb\\xb2\\x95</span>\\r\\n\\t\\t\\t\\t\\t\\t\\t\\t\\t\\r\\n\\t\\t\\t\\t\\t\\t\\t\\t\\t\\t\\r\\n\\t\\t\\t\\t\\t\\t\\t\\t\\t\\t\\t<span class=\"fc up\"><span class=\"nHide\">\\xec\\x83\\x81\\xec\\x8a\\xb9</span>3</span>\\r\\n\\t\\t\\t\\t\\t\\t\\t\\t\\t\\t\\r\\n\\t\\t\\t\\t\\t\\t\\t\\t\\t\\t\\r\\n\\t\\t\\t\\t\\t\\t\\t\\t\\t\\t\\r\\n\\t\\t\\t\\t\\t\\t\\t\\t\\t\\t\\r\\n\\t\\t\\t\\t\\t\\t\\t\\t\\t\\r\\n\\t\\t\\t\\t\\t\\t\\t\\t</a>\\r\\n\\t\\t\\t\\t\\t\\t\\t</li>\\r\\n\\t\\t\\t\\t\\t\\t\\r\\n\\t\\t\\t\\t\\t\\t\\t<li>\\r\\n\\t\\t\\t\\t\\t\\t\\t\\t<span class=\"num_rank\">7</span>\\r\\n\\t\\t\\t\\t\\t\\t\\t\\t<a href=\"https://news.nate.com/search?q=\\xeb\\xb2\\x95\\xec\\x9b\\x90 \\xeb\\xb0\\xa9\\xeb\\xac\\xb8\\xec\\xa7\\x84\" onclick=\"newsBox.clickSearchKeyword(\\'\\xeb\\xb2\\x95\\xec\\x9b\\x90 \\xeb\\xb0\\xa9\\xeb\\xac\\xb8\\xec\\xa7\\x84\\');return false;\" class=\"ik\" onmousedown=\"nc(\\'MEH22\\')\">\\r\\n\\t\\t\\t\\t\\t\\t\\t\\t\\t<span class=\"txt_rank\">\\xeb\\xb2\\x95\\xec\\x9b\\x90 \\xeb\\xb0\\xa9\\xeb\\xac\\xb8\\xec\\xa7\\x84</span>\\r\\n\\t\\t\\t\\t\\t\\t\\t\\t\\t\\r\\n\\t\\t\\t\\t\\t\\t\\t\\t\\t\\t\\r\\n\\t\\t\\t\\t\\t\\t\\t\\t\\t\\t\\r\\n\\t\\t\\t\\t\\t\\t\\t\\t\\t\\t\\r\\n\\t\\t\\t\\t\\t\\t\\t\\t\\t\\t\\r\\n\\t\\t\\t\\t\\t\\t\\t\\t\\t\\t\\t<span class=\"fc new\"><span class=\"nHide\">new</span></span>\\r\\n\\t\\t\\t\\t\\t\\t\\t\\t\\t\\t\\r\\n\\t\\t\\t\\t\\t\\t\\t\\t\\t\\r\\n\\t\\t\\t\\t\\t\\t\\t\\t</a>\\r\\n\\t\\t\\t\\t\\t\\t\\t</li>\\r\\n\\t\\t\\t\\t\\t\\t\\r\\n\\t\\t\\t\\t\\t\\t\\t<li>\\r\\n\\t\\t\\t\\t\\t\\t\\t\\t<span class=\"num_rank\">8</span>\\r\\n\\t\\t\\t\\t\\t\\t\\t\\t<a href=\"https://news.nate.com/search?q=\\xea\\xb3\\xa0\\xec\\xa4\\x80\\xed\\x9d\\xac \\xec\\xba\\x90\\xec\\x8a\\xa4\\xed\\x8c\\x85 \\xea\\xb3\\xb5\\xec\\x97\\xb0\" onclick=\"newsBox.clickSearchKeyword(\\'\\xea\\xb3\\xa0\\xec\\xa4\\x80\\xed\\x9d\\xac \\xec\\xba\\x90\\xec\\x8a\\xa4\\xed\\x8c\\x85 \\xea\\xb3\\xb5\\xec\\x97\\xb0\\');return false;\" class=\"ik\" onmousedown=\"nc(\\'MEH23\\')\">\\r\\n\\t\\t\\t\\t\\t\\t\\t\\t\\t<span class=\"txt_rank\">\\xea\\xb3\\xa0\\xec\\xa4\\x80\\xed\\x9d\\xac \\xec\\xba\\x90\\xec\\x8a\\xa4\\xed\\x8c\\x85 \\xea\\xb3\\xb5\\xec\\x97\\xb0</span>\\r\\n\\t\\t\\t\\t\\t\\t\\t\\t\\t\\r\\n\\t\\t\\t\\t\\t\\t\\t\\t\\t\\t\\r\\n\\t\\t\\t\\t\\t\\t\\t\\t\\t\\t\\r\\n\\t\\t\\t\\t\\t\\t\\t\\t\\t\\t\\r\\n\\t\\t\\t\\t\\t\\t\\t\\t\\t\\t\\r\\n\\t\\t\\t\\t\\t\\t\\t\\t\\t\\t\\t<span class=\"fc new\"><span class=\"nHide\">new</span></span>\\r\\n\\t\\t\\t\\t\\t\\t\\t\\t\\t\\t\\r\\n\\t\\t\\t\\t\\t\\t\\t\\t\\t\\r\\n\\t\\t\\t\\t\\t\\t\\t\\t</a>\\r\\n\\t\\t\\t\\t\\t\\t\\t</li>\\r\\n\\t\\t\\t\\t\\t\\t\\r\\n\\t\\t\\t\\t\\t\\t\\t<li>\\r\\n\\t\\t\\t\\t\\t\\t\\t\\t<span class=\"num_rank\">9</span>\\r\\n\\t\\t\\t\\t\\t\\t\\t\\t<a href=\"https://news.nate.com/search?q=\\xec\\x83\\xb4\\xed\\x8e\\x98\\xec\\x9d\\xb8 \\xeb\\x84\\x88\\xeb\\xac\\xb4 \\xec\\x9d\\xbc\\xec\\xb0\\x8d\" onclick=\"newsBox.clickSearchKeyword(\\'\\xec\\x83\\xb4\\xed\\x8e\\x98\\xec\\x9d\\xb8 \\xeb\\x84\\x88\\xeb\\xac\\xb4 \\xec\\x9d\\xbc\\xec\\xb0\\x8d\\');return false;\" class=\"ik\" onmousedown=\"nc(\\'MEH24\\')\">\\r\\n\\t\\t\\t\\t\\t\\t\\t\\t\\t<span class=\"txt_rank\">\\xec\\x83\\xb4\\xed\\x8e\\x98\\xec\\x9d\\xb8 \\xeb\\x84\\x88\\xeb\\xac\\xb4 \\xec\\x9d\\xbc\\xec\\xb0\\x8d</span>\\r\\n\\t\\t\\t\\t\\t\\t\\t\\t\\t\\r\\n\\t\\t\\t\\t\\t\\t\\t\\t\\t\\t\\r\\n\\t\\t\\t\\t\\t\\t\\t\\t\\t\\t\\r\\n\\t\\t\\t\\t\\t\\t\\t\\t\\t\\t\\r\\n\\t\\t\\t\\t\\t\\t\\t\\t\\t\\t\\r\\n\\t\\t\\t\\t\\t\\t\\t\\t\\t\\t\\t<span class=\"fc new\"><span class=\"nHide\">new</span></span>\\r\\n\\t\\t\\t\\t\\t\\t\\t\\t\\t\\t\\r\\n\\t\\t\\t\\t\\t\\t\\t\\t\\t\\r\\n\\t\\t\\t\\t\\t\\t\\t\\t</a>\\r\\n\\t\\t\\t\\t\\t\\t\\t</li>\\r\\n\\t\\t\\t\\t\\t\\t\\r\\n\\t\\t\\t\\t\\t\\t\\t<li>\\r\\n\\t\\t\\t\\t\\t\\t\\t\\t<span class=\"num_rank\">10</span>\\r\\n\\t\\t\\t\\t\\t\\t\\t\\t<a href=\"https://news.nate.com/search?q=\\xea\\xb5\\xac\\xec\\xa0\\x9c\\xec\\x97\\xad \\xec\\x84\\xb1\\xeb\\xa7\\xa4\\xeb\\xa7\\xa4 \\xed\\x99\\x95\\xeb\\xb3\\xb4\\xed\\x96\\x88\\xeb\\x8b\\xa4\" onclick=\"newsBox.clickSearchKeyword(\\'\\xea\\xb5\\xac\\xec\\xa0\\x9c\\xec\\x97\\xad \\xec\\x84\\xb1\\xeb\\xa7\\xa4\\xeb\\xa7\\xa4 \\xed\\x99\\x95\\xeb\\xb3\\xb4\\xed\\x96\\x88\\xeb\\x8b\\xa4\\');return false;\" class=\"ik\" onmousedown=\"nc(\\'MEH25\\')\">\\r\\n\\t\\t\\t\\t\\t\\t\\t\\t\\t<span class=\"txt_rank\">\\xea\\xb5\\xac\\xec\\xa0\\x9c\\xec\\x97\\xad \\xec\\x84\\xb1\\xeb\\xa7\\xa4\\xeb\\xa7\\xa4 \\xed\\x99\\x95\\xeb\\xb3\\xb4\\xed\\x96\\x88\\xeb\\x8b\\xa4</span>\\r\\n\\t\\t\\t\\t\\t\\t\\t\\t\\t\\r\\n\\t\\t\\t\\t\\t\\t\\t\\t\\t\\t\\r\\n\\t\\t\\t\\t\\t\\t\\t\\t\\t\\t\\r\\n\\t\\t\\t\\t\\t\\t\\t\\t\\t\\t\\r\\n\\t\\t\\t\\t\\t\\t\\t\\t\\t\\t\\r\\n\\t\\t\\t\\t\\t\\t\\t\\t\\t\\t\\t<span class=\"fc new\"><span class=\"nHide\">new</span></span>\\r\\n\\t\\t\\t\\t\\t\\t\\t\\t\\t\\t\\r\\n\\t\\t\\t\\t\\t\\t\\t\\t\\t\\r\\n\\t\\t\\t\\t\\t\\t\\t\\t</a>\\r\\n\\t\\t\\t\\t\\t\\t\\t</li>\\r\\n\\t\\t\\t\\t\\t\\t\\r\\n\\t\\t\\t\\t\\t\\r\\n\\t\\t\\t\\t\\t\\r\\n\\t\\t\\t\\t\\t\\r\\n\\t\\t\\t\\t\\r\\n\\t\\t\\t</ol>\\r\\n\\t\\t\\t<form id=\"frmKeyword\" name=\"frmKeyword\" action=\"https://news.nate.com/search\" accept-charset=\"euc-kr\" onsubmit=\"return false\">\\r\\n\\t\\t\\t\\t<input type=\"hidden\" id=\"bizq\" name=\"q\" value=\"\" />\\r\\n\\t\\t\\t</form>\\r\\n\\t\\t</div>\\r\\n\\t\\t<div class=\"adBox\"></div>\\r\\n\\t\\t<div class=\"todayBox\" id=\"divBox\">\\r\\n\\t\\t\\t\\r\\n\\t\\t\\t\\t\\r\\n\\t\\t\\t\\t\\r\\n\\t\\t\\t\\t\\t<a href=\"https://pann.nate.com/\" class=\"cmBox2\" target=\"_self\">\\r\\n\\t\\t\\t\\t\\t\\t<span class=\"thumb\"><img src=\"//main.nateimg.co.kr/img/cms/content_pool/2024/07/1720509225059.png\" width=\"168\" height=\"138\" alt=\" \\xeb\\x84\\xa4\\xec\\x9d\\xb4\\xed\\x8a\\xb8\\xed\\x8c\\x90\" onmousedown=\"nc(\\'MEH15\\');\" /></span>\\r\\n\\t\\t\\t\\t\\t</a>\\r\\n\\t\\t\\t\\t\\r\\n\\t\\t\\t\\t\\r\\n\\t\\t\\t\\r\\n\\t\\t</div>\\r\\n\\t</div>\\r\\n\\t<dl class=\"content_recommend\">\\r\\n\\t\\t<dt id=\"dtNewsRecomm\"><em>\\xeb\\x89\\xb4\\xec\\x8a\\xa4</em></dt>\\r\\n\\t\\t<dd id=\"newsRecommend\">\\r\\n\\t\\t\\t\\r\\n\\t\\t\\t\\t\\r\\n\\t\\t\\t\\t\\r\\n\\t\\t\\t\\t\\t\\r\\n\\t\\t\\t\\t\\t\\t<a href=\"//news.nate.com/comment?mid=n1500\" onmousedown=\"nc(\\'MEF42\\');setTabInfo();\">\\xed\\x88\\xac\\xeb\\x8d\\xb0\\xec\\x9d\\xb4\\xeb\\xb2\\xa0\\xed\\x94\\x8c</a>\\r\\n\\t\\t\\t\\t\\t\\r\\n\\t\\t\\t\\t\\t\\t<a href=\"//news.nate.com/ent/idol24\" onmousedown=\"nc(\\'MEF43\\');setTabInfo();\">\\xec\\x95\\x84\\xec\\x9d\\xb4\\xeb\\x8f\\x8c24\\xec\\x8b\\x9c</a>\\r\\n\\t\\t\\t\\t\\t\\r\\n\\t\\t\\t\\t\\t\\t<a href=\"//news.nate.com/hissue/clstList?mid=e0103&isq=7376\" onmousedown=\"nc(\\'MEF44\\');setTabInfo();\">\\xeb\\x93\\x9c\\xeb\\x9d\\xbc\\xeb\\xa7\\x88 \\xeb\\xaa\\xa8\\xec\\x95\\x84\\xeb\\xb3\\xb4\\xea\\xb8\\xb0</a>\\r\\n\\t\\t\\t\\t\\t\\r\\n\\t\\t\\t\\t\\t\\t<a href=\"//news.nate.com/hissue/clstList?mid=e0103&isq=7377\" onmousedown=\"nc(\\'MEF45\\');setTabInfo();\">\\xec\\x98\\x88\\xeb\\x8a\\xa5 \\xeb\\xaa\\xa8\\xec\\x95\\x84\\xeb\\xb3\\xb4\\xea\\xb8\\xb0</a>\\r\\n\\t\\t\\t\\t\\t\\r\\n\\t\\t\\t\\t\\r\\n\\t\\t\\t\\r\\n\\t\\t</dd>\\r\\n\\t</dl>\\r\\n\\r\\n\\t\\r\\n\\r\\n</div>\\r\\n\\r\\n<div class=\"nav\" id=\"newsOptBtn\">\\r\\n\\t<span id=\"newsMoreArea\"><em>3</em> / 7</span>\\r\\n\\t<button id=\"newsRollingBtn\" type=\"button\" onclick=\"newsBox.changeRolling();\" value=\"\\xec\\x9e\\x90\\xeb\\x8f\\x99\\xec\\xa0\\x84\\xed\\x99\\x98\\xea\\xb8\\xb0\\xeb\\x8a\\xa5 \\xec\\xa0\\x95\\xec\\xa7\\x80\" title=\"\\xec\\x9e\\x90\\xeb\\x8f\\x99\\xec\\xa0\\x84\\xed\\x99\\x98\\xea\\xb8\\xb0\\xeb\\x8a\\xa5 \\xec\\xa0\\x95\\xec\\xa7\\x80\" class=\"pause\">\\xec\\x9e\\x90\\xeb\\x8f\\x99\\xec\\xa0\\x84\\xed\\x99\\x98\\xea\\xb8\\xb0\\xeb\\x8a\\xa5 \\xec\\xa0\\x95\\xec\\xa7\\x80</button>\\r\\n\\t<button type=\"button\" onclick=\"ndrclick(\\'MEC42\\');newsBox.showPreNext(\\'P\\');\" value=\"\\xec\\x9d\\xb4\\xec\\xa0\\x84 \\xeb\\x89\\xb4\\xec\\x8a\\xa4 \\xeb\\xb3\\xb4\\xea\\xb8\\xb0\" title=\"\\xec\\x9d\\xb4\\xec\\xa0\\x84 \\xeb\\x89\\xb4\\xec\\x8a\\xa4 \\xeb\\xb3\\xb4\\xea\\xb8\\xb0\" class=\"prev\">\\xec\\x9d\\xb4\\xec\\xa0\\x84 \\xeb\\x89\\xb4\\xec\\x8a\\xa4 \\xeb\\xb3\\xb4\\xea\\xb8\\xb0</button>\\r\\n\\t<button type=\"button\" onclick=\"ndrclick(\\'MEC43\\');newsBox.showPreNext(\\'N\\');\" value=\"\\xeb\\x8b\\xa4\\xec\\x9d\\x8c \\xeb\\x89\\xb4\\xec\\x8a\\xa4 \\xeb\\xb3\\xb4\\xea\\xb8\\xb0\" title=\"\\xeb\\x8b\\xa4\\xec\\x9d\\x8c \\xeb\\x89\\xb4\\xec\\x8a\\xa4 \\xeb\\xb3\\xb4\\xea\\xb8\\xb0\" class=\"next\">\\xeb\\x8b\\xa4\\xec\\x9d\\x8c \\xeb\\x89\\xb4\\xec\\x8a\\xa4 \\xeb\\xb3\\xb4\\xea\\xb8\\xb0</button>\\r\\n</div>\\r\\n<div id=\"newsNotice\"></div>\\r\\n\\t<div class=\"overlay_ticker\" id=\"ticker_lyr\" style=\"display:none\">\\r\\n\\t\\t<div class=\"ticker_content\">\\r\\n\\t\\t\\t<iframe id=\"ticker_ifm\" width=\"728\" scrolling=\"no\" height=\"318\" frameborder=\"0\" title=\"\\xed\\x8b\\xb0\\xec\\xbb\\xa4 \\xec\\x95\\x84\\xec\\x9d\\xb4\\xed\\x94\\x84\\xeb\\xa0\\x88\\xec\\x9e\\x84\" src=\"about:blank\"></iframe>\\r\\n\\t\\t\\t<button type=\"button\" value=\"\\xed\\x8b\\xb0\\xec\\xbb\\xa4 \\xeb\\x8b\\xab\\xea\\xb8\\xb0\" title=\"\\xed\\x8b\\xb0\\xec\\xbb\\xa4 \\xeb\\x8b\\xab\\xea\\xb8\\xb0\" class=\"close\" onclick=\"nateonTickerClose();\">\\xed\\x8b\\xb0\\xec\\xbb\\xa4 \\xeb\\x8b\\xab\\xea\\xb8\\xb0</button>\\r\\n\\t\\t</div>\\r\\n\\t</div>\\r\\n</div>\\r\\n\\r\\n\\r\\n\\t<div class=\"special_news\">\\n\\t<div class=\"paristit\"><a href=\"https://sports.news.nate.com/paris/\" onmousedown=\"nc(\\'PAR01\\');\">\\xeb\\xb4\\x89\\xec\\xa5\\xac\\xeb\\xa5\\xb4 PARIS</a></div>\\n\\t<div class=\"parisCnt swiper\">\\n\\t\\t<ul class=\"gonews swiper-wrapper\">\\n\\t\\t\\t\\t<li class=\"swiper-slide\">\\n\\t\\t\\t\\t\\t<a href=\"//news.nate.com/view/20240808n30053?mid=s9810\" onclick=\"nc(\\'PAR06\\');\"><span class=\"emph t2\">\\xec\\xa3\\xbc\\xec\\x9a\\x94\\xea\\xb2\\xbd\\xea\\xb8\\xb0</span><span>\\xed\\x83\\x9c\\xea\\xb6\\x8c\\xeb\\x8f\\x84 \\xeb\\x98\\x90 \\xef\\xa4\\x8a \\xeb\\xb3\\xb4\\xec\\x9d\\xb8\\xeb\\x8b\\xa4\\xe2\\x80\\xa6\\xea\\xb9\\x80\\xec\\x9c\\xa0\\xec\\xa7\\x84, \\xec\\x84\\xb8\\xea\\xb3\\x84 5\\xec\\x9c\\x84 \\xec\\x9d\\xbc\\xea\\xb5\\xb0 \\xea\\xba\\xbe\\xea\\xb3\\xa0 8\\xea\\xb0\\x95 \\xec\\xa7\\x84\\xec\\xb6\\x9c</span></a>\\n\\t\\t\\t\\t</li>\\n\\t\\t\\t\\t<li class=\"swiper-slide\">\\n\\t\\t\\t\\t\\t<a href=\"//news.nate.com/view/20240808n29604?mid=s9810\" onclick=\"nc(\\'PAR06\\');\"><span class=\"emph t1\">\\xec\\xa3\\xbc\\xec\\x9a\\x94\\xeb\\x89\\xb4\\xec\\x8a\\xa4</span><span>\\xec\\xa0\\x95\\xec\\xb9\\x98\\xea\\xb6\\x8c \\xea\\xb0\\x80\\xec\\x84\\xb8\\xec\\x97\\x90 10\\xec\\x9e\\xa5\\xec\\xa7\\x9c\\xeb\\xa6\\xac \\xed\\x98\\x91\\xed\\x9a\\x8c \\xed\\x95\\xb4\\xeb\\xaa\\x85\\xeb\\xac\\xb8 \\xeb\\x93\\xb1\\xec\\x9e\\xa5\\xe2\\x80\\xa6\\xec\\x95\\x88\\xec\\x84\\xb8\\xec\\x98\\x81\\xec\\x9d\\x98 \\xeb\\xb0\\x98\\xea\\xb2\\xa9\\xec\\x9d\\x80?</span></a>\\n\\t\\t\\t\\t</li>\\n\\t\\t\\t\\t<li class=\"swiper-slide\">\\n\\t\\t\\t\\t\\t<a href=\"//news.nate.com/view/20240808n30282\" onclick=\"nc(\\'PAR06\\');\"><span class=\"emph t1\">\\xec\\xa3\\xbc\\xec\\x9a\\x94\\xeb\\x89\\xb4\\xec\\x8a\\xa4</span><span>\\xec\\x98\\xac\\xeb\\xa6\\xbc\\xed\\x94\\xbd \\xea\\xb8\\x88\\xeb\\xa9\\x94\\xeb\\x8b\\xac \\xeb\\x94\\xb0\\xea\\xb3\\xa0\\xeb\\x8f\\x84 \\xec\\x95\\x85\\xed\\x94\\x8c \\xed\\x85\\x8c\\xeb\\x9f\\xac\\xe2\\x80\\xa6\\xea\\xb3\\xa0\\xed\\x86\\xb5\\xeb\\xb0\\x9b\\xeb\\x8a\\x94 \\xec\\x84\\xa0\\xec\\x88\\x98\\xeb\\x93\\xa4</span></a>\\n\\t\\t\\t\\t</li>\\n\\t\\t\\t\\t<li class=\"swiper-slide\">\\n\\t\\t\\t\\t\\t<a href=\"//news.nate.com/view/20240808n19557?mid=s9810\" onclick=\"nc(\\'PAR06\\');\"><span class=\"emph t1\">\\xec\\xa3\\xbc\\xec\\x9a\\x94\\xeb\\x89\\xb4\\xec\\x8a\\xa4</span><span>\\xec\\x9b\\x94\\xed\\x81\\xb4 \\xec\\xa0\\x90\\xed\\x8d\\xbc \\xec\\x9a\\xb0\\xec\\x83\\x81\\xed\\x98\\x81 &quot;\\xec\\x98\\x88\\xec\\x84\\xa0\\xec\\xa0\\x84 \\xec\\x98\\xac\\xed\\x95\\xb4 \\xec\\xb5\\x9c\\xea\\xb3\\xa0\\xec\\x9d\\x98 \\xec\\xa0\\x90\\xed\\x94\\x84, \\xed\\x8a\\xb8\\xeb\\x9e\\x99 \\xeb\\x84\\x88\\xeb\\xac\\xb4 \\xeb\\xa7\\x98\\xec\\x97\\x90 \\xeb\\x93\\xa4\\xec\\x96\\xb4&quot;</span></a>\\n\\t\\t\\t\\t</li>\\n\\t\\t\\t\\t<li class=\"swiper-slide\">\\n\\t\\t\\t\\t\\t<a href=\"//news.nate.com/view/20240808n21414?mid=s9810\" onclick=\"nc(\\'PAR06\\');\"><span class=\"emph t1\">\\xec\\xa3\\xbc\\xec\\x9a\\x94\\xeb\\x89\\xb4\\xec\\x8a\\xa4</span><span>\\xec\\x9d\\x8c\\xec\\xa7\\x80\\xec\\x9d\\x98 \\xec\\xb4\\x9d\\xea\\xb0\\x90\\xeb\\x8f\\x85 \\xec\\x9e\\xa5\\xec\\x98\\x81\\xec\\x88\\xa0\\xe2\\x80\\xa6&quot;\\xec\\x97\\x98\\xeb\\xa6\\xac\\xec\\x8a\\xa8 \\xed\\x99\\x94\\xec\\x82\\xb4 \\xec\\x8f\\x9c \\xec\\x88\\x9c\\xea\\xb0\\x84 \\xea\\xb9\\x80\\xec\\x9a\\xb0\\xec\\xa7\\x84 \\xec\\x8a\\xb9\\xeb\\xa6\\xac \\xed\\x99\\x95\\xec\\x8b\\xa0&quot;</span></a>\\n\\t\\t\\t\\t</li>\\n\\t\\t</ul>\\n\\t</div>\\n\\t<div class=\"medalBox\">\\n\\t\\t<a href=\"https://sports.news.nate.com/paris/medal/\" onmousedown=\"nc(\\'PAR07\\');\">\\n\\t\\t\\t<div class=\"rank\">\\xec\\xa2\\x85\\xed\\x95\\xa9 <strong>6</strong>\\xec\\x9c\\x84</div>\\n\\t\\t\\t<span class=\"gold\"><strong>12</strong></span>\\n\\t\\t\\t<span class=\"silver\"><strong>8</strong></span>\\n\\t\\t\\t<span class=\"bronze\"><strong>7</strong></span>\\n\\t\\t</a>\\n\\t</div>\\n</div>\\r\\n\\r\\n\\r\\n<script>\\r\\n\\t$(function() {\\r\\n\\t\\tvar swiper = new Swiper(\\'.parisCnt\\', {\\r\\n\\t\\t\\tdirection: \\'vertical\\',\\r\\n\\t\\t\\tautoplay: {\\r\\n\\t\\t\\t\\tdelay: 5000,\\r\\n\\t\\t\\t\\tdisableOnInteraction: true,\\r\\n\\t\\t\\t\\tpauseOnMouseEnter: true,\\r\\n\\t\\t\\t},\\r\\n\\t\\t\\tloop: true\\r\\n\\t\\t});\\r\\n\\r\\n\\t\\t$(\\'.parisCnt .swiper-slide\\').on(\\'mouseover\\', function () {\\r\\n\\t\\t\\tswiper.autoplay.stop();\\r\\n\\t\\t});\\r\\n\\t\\t$(\\'.parisCnt .swiper-slide\\').on(\\'mouseout\\', function () {\\r\\n\\t\\t\\tswiper.autoplay.start();\\r\\n\\t\\t});\\r\\n\\t});\\r\\n</script>\\r\\n\\r\\n\\t\\t\\t\\t<script type=\"text/javascript\">\\r\\n\\t\\t\\t\\t\\t//<![CDATA[\\r\\n\\t\\t\\t\\t\\tloadSpecialBiRolling();\\r\\n\\t\\t\\t\\t\\t//]]>\\r\\n\\t\\t\\t\\t</script>\\r\\n\\r\\n\\r\\n\\t\\t\\t\\t<!-- tiles:insertAttribute name=\"NateQ\" /-->\\r\\n\\t\\t\\t\\t\\r\\n\\r\\n\\r\\n\\r\\n\\r\\n<div id=\"divContentsUpper\" class=\"area_contents\">\\t\\t\\t\\t\\r\\n\\t<h3>\\xec\\xbb\\xa8\\xed\\x85\\x90\\xec\\xb8\\xa0</h3>\\r\\n\\t<div class=\"menu\">\\r\\n\\t\\t<h4 class=\"menu01\"><a href=\"//pann.nate.com/talk/ranking\" onclick=\"objPannArea.clickTab(0);return false;\" title=\"Top\\xeb\\x9e\\xad\\xed\\x82\\xb9\" onmousedown=\"nc(\\'PAN60\\')\">Top\\xeb\\x9e\\xad\\xed\\x82\\xb9</a></h4>\\r\\n\\t\\t<h4 class=\"menu02\"><a href=\"//pann.nate.com/talk/c20025\" onclick=\"objPannArea.clickTab(1);return false;\" title=\"\\xea\\xb2\\xb0\\xec\\x8b\\x9c\\xec\\xb9\\x9c\" onmousedown=\"nc(\\'PAN61\\')\">\\xea\\xb2\\xb0\\xec\\x8b\\x9c\\xec\\xb9\\x9c</a></h4>\\r\\n\\t\\t<h4 class=\"menu03\"><a href=\"//pann.nate.com/talk/c20038\" onclick=\"objPannArea.clickTab(2);return false;\" title=\"10\\xeb\\x8c\\x80\\xed\\x86\\xa1\" onmousedown=\"nc(\\'PAN62\\')\">10\\xeb\\x8c\\x80\\xed\\x86\\xa1</a></h4>\\r\\n\\t\\t<h4 class=\"menu04\"><a href=\"//pann.nate.com/talk/c20028\" onclick=\"objPannArea.clickTab(3);return false;\" title=\"\\xec\\x97\\xb0\\xec\\x98\\x88\\xed\\x86\\xa1\" onmousedown=\"nc(\\'PAN63\\')\">\\xec\\x97\\xb0\\xec\\x98\\x88\\xed\\x86\\xa1</a></h4>\\r\\n\\t\\t<h4 class=\"menu05\"><a href=\"//pann.nate.com/talk/c20019\" onclick=\"objPannArea.clickTab(4);return false;\" title=\"\\xed\\x9a\\x8c\\xec\\x82\\xac\\xed\\x86\\xa1\" onmousedown=\"nc(\\'PAN64\\')\">\\xed\\x9a\\x8c\\xec\\x82\\xac\\xed\\x86\\xa1</a></h4>\\r\\n\\t\\t<h4 class=\"menu06 on\"><a href=\"//pann.nate.com/talk/c20019\" onclick=\"objPannArea.clickTab(5);return false;\" title=\"\\xec\\x88\\x8f\\xed\\x8f\\xbc\" onmousedown=\"nc(\\'SHF50\\')\">\\xec\\x88\\x8f\\xed\\x8f\\xbc</a></h4>\\r\\n\\t</div>\\r\\n\\t<div class=\"content\" id=\"pannList\">\\r\\n\\r\\n\\t\\r\\n\\t\\r\\n\\t\\t<div class=\"best-shortform-wrap\">\\r\\n\\t\\t\\t<div class=\"best-shortform\">\\r\\n\\t\\t\\t\\t<div class=\"swiper-wrapper\">\\r\\n\\t\\t\\t\\t\\t\\r\\n\\t\\t\\t\\t\\t<div class=\"swiper-slide\">\\r\\n\\t\\t\\t\\t\\t\\t<a href=\"https://shortform.nate.com/best?videoId=fniMZrITFHU\" target=\"_blank\" onclick=\"nc(\\'SHF51\\');\">\\r\\n\\t\\t\\t\\t\\t\\t\\t<div class=\"thumb\">\\r\\n\\t\\t\\t\\t\\t\\t\\t\\t<img src=\"https://thumbshort.nateimg.co.kr/unsafe/187x1:452x476/267x475/https://i.ytimg.com/vi/fniMZrITFHU/sddefault.jpg\" onerror=\"this.onerror=null; this.src=\\'//main.nateimg.co.kr/img/v7/img_error_thumb.png\\'\" />\\r\\n\\t\\t\\t\\t\\t\\t\\t</div>\\r\\n\\t\\t\\t\\t\\t\\t\\t<div class=\"subject\">\\xec\\x88\\x99\\xec\\x86\\x8c\\xea\\xb0\\x80 \\xec\\x98\\xa4\\xed\\x94\\x88\\xed\\x98\\x95 \\xed\\x99\\x94\\xec\\x9e\\xa5\\xec\\x8b\\xa4\\xec\\x9d\\xbc\\xeb\\x95\\x8c \\xec\\x83\\x9d\\xea\\xb8\\xb0\\xeb\\x8a\\x94\\xec\\x9d\\xbc #shorts</div>\\r\\n\\t\\t\\t\\t\\t\\t</a>\\r\\n\\t\\t\\t\\t\\t</div>\\r\\n\\t\\t\\t\\t\\t\\r\\n\\t\\t\\t\\t\\t<div class=\"swiper-slide\">\\r\\n\\t\\t\\t\\t\\t\\t<a href=\"https://shortform.nate.com/best?videoId=CqBX9in3qr8\" target=\"_blank\" onclick=\"nc(\\'SHF52\\');\">\\r\\n\\t\\t\\t\\t\\t\\t\\t<div class=\"thumb\">\\r\\n\\t\\t\\t\\t\\t\\t\\t\\t<img src=\"https://thumbshort.nateimg.co.kr/unsafe/187x1:452x476/267x475/https://i.ytimg.com/vi/CqBX9in3qr8/sddefault.jpg\" onerror=\"this.onerror=null; this.src=\\'//main.nateimg.co.kr/img/v7/img_error_thumb.png\\'\" />\\r\\n\\t\\t\\t\\t\\t\\t\\t</div>\\r\\n\\t\\t\\t\\t\\t\\t\\t<div class=\"subject\">\\xec\\x93\\xb8\\xeb\\x8d\\xb0\\xec\\x97\\x86\\xec\\x9d\\xb4 \\xea\\xb0\\x96\\xea\\xb3\\xa0 \\xec\\x8b\\xb6\\xec\\x9d\\x80 \\xeb\\xac\\xbc\\xea\\xb1\\xb4\\xeb\\x93\\xa4\\xe3\\x85\\x8b\\xe3\\x85\\x8b\\xe3\\x85\\x8b</div>\\r\\n\\t\\t\\t\\t\\t\\t</a>\\r\\n\\t\\t\\t\\t\\t</div>\\r\\n\\t\\t\\t\\t\\t\\r\\n\\t\\t\\t\\t\\t<div class=\"swiper-slide\">\\r\\n\\t\\t\\t\\t\\t\\t<a href=\"https://shortform.nate.com/best?videoId=3t_mHdeW-e0\" target=\"_blank\" onclick=\"nc(\\'SHF53\\');\">\\r\\n\\t\\t\\t\\t\\t\\t\\t<div class=\"thumb\">\\r\\n\\t\\t\\t\\t\\t\\t\\t\\t<img src=\"https://thumbshort.nateimg.co.kr/unsafe/187x1:452x476/267x475/https://i.ytimg.com/vi/3t_mHdeW-e0/sddefault.jpg\" onerror=\"this.onerror=null; this.src=\\'//main.nateimg.co.kr/img/v7/img_error_thumb.png\\'\" />\\r\\n\\t\\t\\t\\t\\t\\t\\t</div>\\r\\n\\t\\t\\t\\t\\t\\t\\t<div class=\"subject\">\\xec\\x97\\xac\\xec\\x9e\\x90\\xec\\xb9\\x9c\\xea\\xb5\\xac \\xec\\xb0\\x90\\xec\\x9b\\x83\\xec\\x9d\\x8c \\xeb\\x82\\x98\\xec\\x98\\xa4\\xea\\xb2\\x8c \\xed\\x95\\x98\\xeb\\x8a\\x94 \\xeb\\xb2\\x95 #\\xec\\xbb\\xa4\\xed\\x94\\x8c\\xeb\\xb8\\x8c\\xec\\x9d\\xb4\\xeb\\xa1\\x9c\\xea\\xb7\\xb8 #couple #sorts</div>\\r\\n\\t\\t\\t\\t\\t\\t</a>\\r\\n\\t\\t\\t\\t\\t</div>\\r\\n\\t\\t\\t\\t\\t\\r\\n\\t\\t\\t\\t\\t<div class=\"swiper-slide\">\\r\\n\\t\\t\\t\\t\\t\\t<a href=\"https://shortform.nate.com/best?videoId=1zyfk5pXa94\" target=\"_blank\" onclick=\"nc(\\'SHF54\\');\">\\r\\n\\t\\t\\t\\t\\t\\t\\t<div class=\"thumb\">\\r\\n\\t\\t\\t\\t\\t\\t\\t\\t<img src=\"https://thumbshort.nateimg.co.kr/unsafe/187x1:452x476/267x475/https://i.ytimg.com/vi/1zyfk5pXa94/sddefault.jpg\" onerror=\"this.onerror=null; this.src=\\'//main.nateimg.co.kr/img/v7/img_error_thumb.png\\'\" />\\r\\n\\t\\t\\t\\t\\t\\t\\t</div>\\r\\n\\t\\t\\t\\t\\t\\t\\t<div class=\"subject\">\\xec\\x98\\xac\\xeb\\xa6\\xbc\\xed\\x94\\xbd \\xec\\x97\\xad\\xec\\x82\\xac\\xec\\x83\\x81 \\xec\\xb5\\x9c\\xec\\x95\\x85\\xec\\x9d\\x98 \\xec\\xa3\\xbc\\xec\\xb5\\x9c\\xec\\xb8\\xa1 \\xec\\x8b\\xa4\\xec\\x88\\x98</div>\\r\\n\\t\\t\\t\\t\\t\\t</a>\\r\\n\\t\\t\\t\\t\\t</div>\\r\\n\\t\\t\\t\\t\\t\\r\\n\\t\\t\\t\\t\\t<div class=\"swiper-slide\">\\r\\n\\t\\t\\t\\t\\t\\t<a href=\"https://shortform.nate.com/best?videoId=Zoc_VSioQHs\" target=\"_blank\" onclick=\"nc(\\'SHF55\\');\">\\r\\n\\t\\t\\t\\t\\t\\t\\t<div class=\"thumb\">\\r\\n\\t\\t\\t\\t\\t\\t\\t\\t<img src=\"https://thumbshort.nateimg.co.kr/unsafe/187x1:452x476/267x475/https://i.ytimg.com/vi/Zoc_VSioQHs/sddefault.jpg\" onerror=\"this.onerror=null; this.src=\\'//main.nateimg.co.kr/img/v7/img_error_thumb.png\\'\" />\\r\\n\\t\\t\\t\\t\\t\\t\\t</div>\\r\\n\\t\\t\\t\\t\\t\\t\\t<div class=\"subject\">\\xeb\\x82\\xa0 \\xec\\x99\\x95\\xeb\\x94\\xb0 \\xec\\x8b\\x9c\\xed\\x82\\xa8 \\xec\\x95\\xa0\\xeb\\x93\\xa4\\xec\\x95\\x84 \\xec\\x9e\\x98 \\xec\\x82\\xb4\\xea\\xb3\\xa0 \\xec\\x9e\\x88\\xeb\\x8b\\x88</div>\\r\\n\\t\\t\\t\\t\\t\\t</a>\\r\\n\\t\\t\\t\\t\\t</div>\\r\\n\\t\\t\\t\\t\\t\\r\\n\\t\\t\\t\\t\\t<div class=\"swiper-slide\">\\r\\n\\t\\t\\t\\t\\t\\t<a href=\"https://shortform.nate.com/best?videoId=OJp4ScTzZWM\" target=\"_blank\" onclick=\"nc(\\'SHF56\\');\">\\r\\n\\t\\t\\t\\t\\t\\t\\t<div class=\"thumb\">\\r\\n\\t\\t\\t\\t\\t\\t\\t\\t<img src=\"https://thumbshort.nateimg.co.kr/unsafe/187x1:452x476/267x475/https://i.ytimg.com/vi/OJp4ScTzZWM/sddefault.jpg\" onerror=\"this.onerror=null; this.src=\\'//main.nateimg.co.kr/img/v7/img_error_thumb.png\\'\" />\\r\\n\\t\\t\\t\\t\\t\\t\\t</div>\\r\\n\\t\\t\\t\\t\\t\\t\\t<div class=\"subject\">\\xec\\xb1\\x85\\xec\\x9e\\xa5\\xea\\xb3\\xbc \\xeb\\xb2\\xbd \\xec\\x82\\xac\\xec\\x9d\\xb4\\xeb\\xa5\\xbc \\xeb\\x8b\\xac\\xeb\\xa6\\xac\\xeb\\x8a\\x94 \\xea\\xb8\\xb0\\xec\\xb0\\xa8 \\xe3\\x84\\xb7\\xe3\\x84\\xb7 #\\xeb\\x82\\xb4\\xeb\\x8f\\x88\\xeb\\x82\\xb4\\xec\\x82\\xb0 #\\xec\\xa0\\x9c\\xed\\x92\\x88\\xeb\\xa6\\xac\\xeb\\xb7\\xb0 #anavrin</div>\\r\\n\\t\\t\\t\\t\\t\\t</a>\\r\\n\\t\\t\\t\\t\\t</div>\\r\\n\\t\\t\\t\\t\\t\\r\\n\\t\\t\\t\\t</div>\\r\\n\\t\\t\\t</div>\\r\\n\\t\\t\\t<div class=\"bc-nav\">\\r\\n\\t\\t\\t\\t<div class=\"swiper-button-next\" onmousedown=\"nc(\\'SHF60\\')\"></div>\\r\\n\\t\\t\\t\\t<div class=\"swiper-button-prev\" onmousedown=\"nc(\\'SHF59\\')\"></div>\\r\\n\\t\\t\\t</div>\\r\\n\\t\\t</div>\\r\\n\\t\\r\\n\\t\\r\\n\\r\\n\\t</div>\\r\\n\\t<!-- nav -->\\r\\n\\t<div class=\"nav\">\\r\\n\\t\\t<span id=\"pannNav\"><em>6</em> / 6</span>\\r\\n\\t\\t<button type=\"button\" value=\"\\xec\\x9d\\xb4\\xec\\xa0\\x84 \\xec\\xbb\\xa8\\xed\\x85\\x90\\xec\\xb8\\xa0 \\xeb\\xb3\\xb4\\xea\\xb8\\xb0\" title=\"\\xec\\x9d\\xb4\\xec\\xa0\\x84 \\xec\\xbb\\xa8\\xed\\x85\\x90\\xec\\xb8\\xa0 \\xeb\\xb3\\xb4\\xea\\xb8\\xb0\" class=\"prev\" onmousedown=\"nc(\\'PAN98\\')\" onclick=\"objPannArea.clickButton(\\'P\\');\">\\xec\\x9d\\xb4\\xec\\xa0\\x84 \\xec\\xbb\\xa8\\xed\\x85\\x90\\xec\\xb8\\xa0 \\xeb\\xb3\\xb4\\xea\\xb8\\xb0</button>\\r\\n\\t\\t<button type=\"button\" value=\"\\xeb\\x8b\\xa4\\xec\\x9d\\x8c \\xec\\xbb\\xa8\\xed\\x85\\x90\\xec\\xb8\\xa0 \\xeb\\xb3\\xb4\\xea\\xb8\\xb0\" title=\"\\xeb\\x8b\\xa4\\xec\\x9d\\x8c \\xec\\xbb\\xa8\\xed\\x85\\x90\\xec\\xb8\\xa0 \\xeb\\xb3\\xb4\\xea\\xb8\\xb0\" class=\"next\" onmousedown=\"nc(\\'PAN99\\')\" onclick=\"objPannArea.clickButton(\\'N\\');\">\\xeb\\x8b\\xa4\\xec\\x9d\\x8c \\xec\\xbb\\xa8\\xed\\x85\\x90\\xec\\xb8\\xa0 \\xeb\\xb3\\xb4\\xea\\xb8\\xb0</button>\\r\\n\\t</div>\\r\\n\\t<!-- //nav -->\\r\\n</div>\\r\\n\\r\\n<script>\\r\\n\\tnew Swiper(\\'.best-shortform\\', objPannArea.getShortFromSlideSetting());\\r\\n</script>\\r\\n\\r\\n\\t\\t\\t\\t<div id=\"divIssueUp\" class=\"area_issue\">\\r\\n\\t<h3>\\xed\\x82\\xa4\\xec\\x9b\\x8c\\xeb\\x93\\x9c</h3>\\r\\n\\t<div class=\"menu\">\\r\\n\\t\\t<div class=\"keyword_list\">\\r\\n\\t\\t\\t<div class=\"list_top\">\\r\\n\\t\\t\\t\\t<h4 class=\"menu01 on\"><a href=\"javascript:issueContents.clickIssueUpNateTv(0)\" onmousedown=\"nc(\\'CTG08\\')\">TV</a></h4>\\r\\n\\t\\t\\t\\t<h4 class=\"menu02\"><a href=\"javascript:issueContents.clickIssueUpCategory(1, 0)\" onmousedown=\"nc(\\'CTG01\\');\">\\xec\\x97\\xac\\xed\\x96\\x89/\\xeb\\xa7\\x9b\\xec\\xa7\\x91</a></h4>\\r\\n\\t\\t\\t\\t<h4 class=\"menu03\"><a href=\"javascript:issueContents.clickIssueUpCategory(2, 0)\" onmousedown=\"nc(\\'CTG03\\');\">\\xed\\x91\\xb8\\xeb\\x93\\x9c</a></h4>\\r\\n\\t\\t\\t\\t<h4 class=\"menu04\"><a href=\"javascript:issueContents.clickIssueUpToonNBook()\" onmousedown=\"nc(\\'CTG09\\');\">\\xeb\\xa7\\x8c\\xed\\x99\\x94/\\xec\\x9b\\xb9\\xed\\x88\\xb0</a></h4>\\r\\n\\t\\t\\t\\t<h4 class=\"menu05\"><a href=\"javascript:issueContents.clickIssueUpCategory(3, 0)\" onmousedown=\"nc(\\'CTG06\\');\">\\xeb\\x9d\\xbc\\xec\\x9d\\xb4\\xed\\x94\\x84</a></h4>\\r\\n\\t\\t\\t\\t<h4 class=\"menu06\" id=\"issueTabShopping\"><a href=\"javascript:issueContents.clickIssueUpShopping()\" onmousedown=\"nc(\\'CTG07\\');\">\\xec\\x87\\xbc\\xed\\x95\\x91</a></h4>\\r\\n\\t\\t\\t</div>\\r\\n\\t\\t<div class=\"list_tv\" id=\"divIssueKeyword\">\\r\\n\\t\\t\\t\\t<h5 class=\"favtv on\"><a href=\"javascript:issueContents.clickIssueUpNateTv(0)\" title=\"\\xec\\x9d\\xb8\\xea\\xb8\\xb0\\xec\\x98\\x81\\xec\\x83\\x81\" onmousedown=\"nc(\\'CCA51\\')\">\\xec\\x9d\\xb8\\xea\\xb8\\xb0\\xec\\x98\\x81\\xec\\x83\\x81</a></h5>\\r\\n\\t\\t\\t<h5><a href=\"javascript:issueContents.clickIssueUpNateTv(1)\" title=\"\\xec\\x86\\x8d\\xed\\x92\\x80\\xec\\x9d\\xb4\\xec\\x87\\xbc \\xeb\\x8f\\x99\\xec\\xb9\\x98\\xeb\\xaf\\xb8\" onmousedown=\"nc(\\'CCA52\\')\"><img src=\"https://tn.tv.nate.com/unsafe/58x58/http://img.mbn.co.kr/program/593/2020/06/04/159125569516.jpg\" /></a></h5>\\r\\n\\t\\t\\t<h5><a href=\"javascript:issueContents.clickIssueUpNateTv(2)\" title=\"\\xec\\x95\\x84\\xeb\\xb9\\xa0\\xed\\x95\\x98\\xea\\xb3\\xa0 \\xeb\\x82\\x98\\xed\\x95\\x98\\xea\\xb3\\xa0\" onmousedown=\"nc(\\'CCA53\\')\"><img src=\"https://tn.tv.nate.com/unsafe/58x58/http://img.tvchosun.com/upload_img/broad_image/2023112817021415976632506415241.png\" /></a></h5>\\r\\n\\t\\t\\t<h5><a href=\"javascript:issueContents.clickIssueUpNateTv(3)\" title=\"\\xeb\\x82\\xae\\xea\\xb3\\xbc \\xeb\\xb0\\xa4\\xec\\x9d\\xb4 \\xeb\\x8b\\xa4\\xeb\\xa5\\xb8 \\xea\\xb7\\xb8\\xeb\\x85\\x80\" onmousedown=\"nc(\\'CCA54\\')\"><img src=\"https://tn.tv.nate.com/unsafe/58x58/https://fs.jtbc.co.kr/joydata/CP00000001/prog/drama/missnightandday/img/20240516_101424_276.png\" /></a></h5>\\r\\n\\t\\t\\t<h5><a href=\"javascript:issueContents.clickIssueUpNateTv(4)\" title=\"\\xeb\\xac\\xb4\\xec\\x97\\x87\\xec\\x9d\\xb4\\xeb\\x93\\xa0 \\xeb\\xac\\xbc\\xec\\x96\\xb4\\xeb\\xb3\\xb4\\xec\\x82\\xb4\" onmousedown=\"nc(\\'CCA55\\')\"><img src=\"https://tn.tv.nate.com/unsafe/58x58/http://cms-kbsn.azurewebsites.net/Upfiles/temp/9353129751_ProgramThumImg.jpg\" /></a></h5>\\r\\n\\t\\t\\t<h5><a href=\"javascript:issueContents.clickIssueUpNateTv(5)\" title=\"\\xec\\x95\\x84\\xeb\\xb9\\xa0\\xeb\\x8a\\x94 \\xea\\xbd\\x83\\xec\\xa4\\x91\\xeb\\x85\\x84\" onmousedown=\"nc(\\'CCA56\\')\"><img src=\"https://tn.tv.nate.com/unsafe/58x58/http://image.ichannela.com/images/program/WPG2240021D/SMR_THUM_20240409130930924.jpg\" /></a></h5>\\r\\n\\t\\t\\t</div>\\r\\n\\t\\t</div>\\r\\n\\t</div>\\r\\n\\t<div id=\"divIssueUpContents\" class=\"content\">\\r\\n<ul>\\r\\n\\t\\t<li class=\"type_tv\">\\r\\n\\t\\t\\t\\t<a href=\"https://tv.nate.com/clip/5085041?ref=nate\" onmousedown=\"nc(\\'CBQ01\\');issueContents.setBackButtonCookie(8, 0);\">\\r\\n\\t\\t\\t\\t\\t<span class=\"thumb\"><img src=\"https://tn.tv.nate.com/unsafe/174x98/http://nbbs.tvchosun.com/data/bbs/C202300190_5/C202300190_5_202408071004015121.jpg\" width=\"174\" height=\"98\" alt=\"\\xeb\\xa9\\x80\\xea\\xb3\\xa0\\xeb\\x8f\\x84 \\xed\\x97\\x98\\xeb\\x82\\x9c\\xed\\x95\\x9c \\xec\\x8b\\x9c\\xed\\x97\\x98\\xea\\xb4\\x80 \\xec\\x8b\\x9c\\xec\\x88\\xa0\\xf0\\x9f\\x92\\xa6 \\xec\\x96\\xb4\\xeb\\x8a\\x90\\xeb\\x8d\\xa7 \\xec\\x82\\xb6\\xec\\x9d\\x98 \\xec\\xa4\\x91\\xec\\x8b\\xac\\xec\\x9d\\xb4 \\xeb\\x90\\x9c \\xe2\\x80\\x98\\xec\\x97\\x84\\xeb\\xa7\\x88 \\xeb\\x90\\x98\\xea\\xb8\\xb0\\xe2\\x80\\x99\\xf0\\x9f\\xa4\\xb0 TV CHOSUN 240807 \\xeb\\xb0\\xa9\\xec\\x86\\xa1\"><em class=\"ic_play\">\\xec\\x98\\x81\\xec\\x83\\x81</em></span>\\r\\n\\t\\t\\t\\t\\t<span class=\"title\">\\xeb\\xa9\\x80\\xea\\xb3\\xa0\\xeb\\x8f\\x84 \\xed\\x97\\x98\\xeb\\x82\\x9c\\xed\\x95\\x9c \\xec\\x8b\\x9c\\xed\\x97\\x98\\xea\\xb4\\x80 \\xec\\x8b\\x9c\\xec\\x88\\xa0\\xf0\\x9f\\x92\\xa6 \\xec\\x96\\xb4\\xeb\\x8a\\x90\\xeb\\x8d\\xa7 \\xec\\x82\\xb6\\xec\\x9d\\x98 ...</span>\\r\\n\\t\\t\\t\\t</a>\\r\\n\\t\\t\\t\\t<cite>TV <em>\\xec\\x95\\x84\\xeb\\xb9\\xa0\\xed\\x95\\x98\\xea\\xb3\\xa0 \\xeb\\x82\\x98\\xed\\x95\\x98\\xea\\xb3\\xa0</em></cite>\\r\\n\\t\\t\\t</li>\\r\\n\\t\\t<li class=\"type_tv\">\\r\\n\\t\\t\\t\\t<a href=\"https://tv.nate.com/clip/5084330?ref=nate\" onmousedown=\"nc(\\'CBQ02\\');issueContents.setBackButtonCookie(8, 0);\">\\r\\n\\t\\t\\t\\t\\t<span class=\"thumb\"><img src=\"https://tn.tv.nate.com/unsafe/174x98/http://image.ichannela.com/images/channela/2024/08/07/000002520472/00000252047220240807102549709.png\" width=\"174\" height=\"98\" alt=\"80\\xed\\x8f\\x89 \\xec\\x95\\x84\\xed\\x8c\\x8c\\xed\\x8a\\xb8 \\xed\\x98\\x84\\xea\\xb8\\x88\\xec\\x9c\\xbc\\xeb\\xa1\\x9c \\xea\\xb5\\xac\\xeb\\xa7\\xa4\\xed\\x95\\x9c \\xea\\xb9\\x80\\xed\\x9d\\xac\\xec\\xb2\\xa0! \\xea\\xb3\\xa0\\xec\\xa0\\x95 \\xed\\x94\\x84\\xeb\\xa1\\x9c\\xea\\xb7\\xb8\\xeb\\x9e\\xa8\\xec\\x9c\\xbc\\xeb\\xa1\\x9c \\xec\\xa2\\x85\\xec\\x9e\\xa3\\xeb\\x8f\\x88 \\xeb\\xa7\\x88\\xeb\\xa0\\xa8\\xed\\x96\\x88\\xeb\\x8b\\xa4!? #\\xea\\xb9\\x80\\xed\\x9d\\xac\\xec\\xb2\\xa0\\xec\\x95\\x84\\xed\\x8c\\x8c\\xed\\x8a\\xb8\"><em class=\"ic_play\">\\xec\\x98\\x81\\xec\\x83\\x81</em></span>\\r\\n\\t\\t\\t\\t\\t<span class=\"title\">80\\xed\\x8f\\x89 \\xec\\x95\\x84\\xed\\x8c\\x8c\\xed\\x8a\\xb8 \\xed\\x98\\x84\\xea\\xb8\\x88\\xec\\x9c\\xbc\\xeb\\xa1\\x9c \\xea\\xb5\\xac\\xeb\\xa7\\xa4\\xed\\x95\\x9c \\xea\\xb9\\x80\\xed\\x9d\\xac\\xec\\xb2\\xa0! \\xea\\xb3\\xa0\\xec\\xa0\\x95...</span>\\r\\n\\t\\t\\t\\t</a>\\r\\n\\t\\t\\t\\t<cite>TV <em>\\xed\\x96\\x89\\xeb\\xb3\\xb5\\xed\\x95\\x9c \\xec\\x95\\x84\\xec\\xb9\\xa8</em></cite>\\r\\n\\t\\t\\t</li>\\r\\n\\t\\t<li class=\"type_tv\">\\r\\n\\t\\t\\t\\t<a href=\"https://tv.nate.com/clip/5085056?ref=nate\" onmousedown=\"nc(\\'CBQ03\\');issueContents.setBackButtonCookie(8, 0);\">\\r\\n\\t\\t\\t\\t\\t<span class=\"thumb\"><img src=\"https://tn.tv.nate.com/unsafe/174x98/http://img2.sbs.co.kr/img/seditor/VD/2024/08/07/hEQ1723015811845-1280-0.jpg\" width=\"174\" height=\"98\" alt=\"&#039;\\xec\\xb4\\x88\\xeb\\xa1\\x9d \\xec\\x9b\\x90\\xed\\x94\\xbc\\xec\\x8a\\xa4&#039;\\xec\\x97\\x90 \\xeb\\x8c\\x80\\xed\\x99\\x98\\xec\\x9e\\xa5 \\xed\\x8c\\x8c\\xed\\x8b\\xb0\\xea\\xb0\\x80 \\xeb\\x90\\x98\\xeb\\xb2\\x84\\xeb\\xa6\\xb0 \\xec\\x98\\x81\\xec\\x88\\x98\\xec\\x99\\x80 \\xec\\xa0\\x95\\xec\\x88\\x99\\xec\\x9d\\x98 \\xeb\\x8d\\xb0\\xec\\x9d\\xb4\\xed\\x8a\\xb8?!\\xe3\\x85\\xa3\\xeb\\x82\\x98\\xeb\\x8a\\x94\\xec\\x86\\x94\\xeb\\xa1\\x9c EP.161\\xe3\\x85\\xa3SBS PLUS X ENA\\xe3\\x85\\xa3\\xec\\x88\\x98\\xec\\x9a\\x94\\xec\\x9d\\xbc \\xeb\\xb0\\xa4 10\\xec\\x8b\\x9c 30\\xeb\\xb6\\x84\"><em class=\"ic_play\">\\xec\\x98\\x81\\xec\\x83\\x81</em></span>\\r\\n\\t\\t\\t\\t\\t<span class=\"title\">&#039;\\xec\\xb4\\x88\\xeb\\xa1\\x9d \\xec\\x9b\\x90\\xed\\x94\\xbc\\xec\\x8a\\xa4&#039;\\xec\\x97\\x90 \\xeb\\x8c\\x80\\xed\\x99\\x98\\xec\\x9e\\xa5 \\xed\\x8c\\x8c\\xed\\x8b\\xb0\\xea\\xb0\\x80 \\xeb\\x90\\x98\\xeb\\xb2\\x84\\xeb\\xa6\\xb0 \\xec\\x98\\x81\\xec\\x88\\x98...</span>\\r\\n\\t\\t\\t\\t</a>\\r\\n\\t\\t\\t\\t<cite>TV <em>\\xeb\\x82\\x98\\xeb\\x8a\\x94 SOLO</em></cite>\\r\\n\\t\\t\\t</li>\\r\\n\\t\\t<li class=\"type_tv\">\\r\\n\\t\\t\\t\\t<a href=\"https://tv.nate.com/clip/5085146?ref=nate\" onmousedown=\"nc(\\'CBQ04\\');issueContents.setBackButtonCookie(8, 0);\">\\r\\n\\t\\t\\t\\t\\t<span class=\"thumb\"><img src=\"https://tn.tv.nate.com/unsafe/174x98/http://nbbs.tvchosun.com/data/bbs/C202300190_5/C202300190_5_202408071109468841.jpg\" width=\"174\" height=\"98\" alt=\"\\xec\\x9a\\xb0\\xeb\\xa6\\xac \\xec\\x95\\x84\\xeb\\x93\\xa4 \\xeb\\xa7\\x9e\\xeb\\x82\\x98...?\\xf0\\x9f\\xa4\\xa8 \\xeb\\x82\\x98\\xeb\\xa7\\x8c \\xeb\\xaa\\xb0\\xeb\\x9e\\x90\\xeb\\x8d\\x98 \\xec\\x95\\x84\\xeb\\x93\\xa4\\xec\\x9d\\x98 \\xeb\\xaa\\xa8\\xec\\x8a\\xb5\\xf0\\x9f\\x98\\x85 TV CHOSUN 240807 \\xeb\\xb0\\xa9\\xec\\x86\\xa1\"><em class=\"ic_play\">\\xec\\x98\\x81\\xec\\x83\\x81</em></span>\\r\\n\\t\\t\\t\\t\\t<span class=\"title\">\\xec\\x9a\\xb0\\xeb\\xa6\\xac \\xec\\x95\\x84\\xeb\\x93\\xa4 \\xeb\\xa7\\x9e\\xeb\\x82\\x98...?\\xf0\\x9f\\xa4\\xa8 \\xeb\\x82\\x98\\xeb\\xa7\\x8c \\xeb\\xaa\\xb0\\xeb\\x9e\\x90\\xeb\\x8d\\x98 \\xec\\x95\\x84\\xeb\\x93\\xa4...</span>\\r\\n\\t\\t\\t\\t</a>\\r\\n\\t\\t\\t\\t<cite>TV <em>\\xec\\x95\\x84\\xeb\\xb9\\xa0\\xed\\x95\\x98\\xea\\xb3\\xa0 \\xeb\\x82\\x98\\xed\\x95\\x98\\xea\\xb3\\xa0</em></cite>\\r\\n\\t\\t\\t</li>\\r\\n\\t\\t<li class=\"type_tv\">\\r\\n\\t\\t\\t\\t<a href=\"https://tv.nate.com/clip/5084591?ref=nate\" onmousedown=\"nc(\\'CBQ05\\');issueContents.setBackButtonCookie(8, 0);\">\\r\\n\\t\\t\\t\\t\\t<span class=\"thumb\"><img src=\"https://tn.tv.nate.com/unsafe/174x98/http://obs.videocast.co.kr/media/obs/202408/6999129468337053/thumbnail/6999129468337053_57653203.jpg\" width=\"174\" height=\"98\" alt=\"[08/07] \\xeb\\x82\\xb4\\xec\\x9d\\xbc \\xec\\xa4\\x91\\xeb\\xb6\\x80 \\xeb\\xb9\\x84\\xc2\\xb7\\xeb\\x82\\xa8\\xeb\\xb6\\x80 \\xec\\x86\\x8c\\xeb\\x82\\x98\\xea\\xb8\\xb0\\xe2\\x80\\xa6\\xeb\\xac\\xb4\\xeb\\x8d\\x94\\xec\\x9c\\x84 \\xec\\x9d\\xb4\\xec\\x96\\xb4\\xec\\xa0\\xb8 (\\xea\\xb6\\x8c\\xed\\x95\\x98\\xea\\xb2\\xbd \\xea\\xb8\\xb0\\xec\\x83\\x81\\xec\\xba\\x90\\xec\\x8a\\xa4\\xed\\x84\\xb0)\"><em class=\"ic_play\">\\xec\\x98\\x81\\xec\\x83\\x81</em></span>\\r\\n\\t\\t\\t\\t\\t<span class=\"title\">[08/07] \\xeb\\x82\\xb4\\xec\\x9d\\xbc \\xec\\xa4\\x91\\xeb\\xb6\\x80 \\xeb\\xb9\\x84\\xc2\\xb7\\xeb\\x82\\xa8\\xeb\\xb6\\x80 \\xec\\x86\\x8c\\xeb\\x82\\x98\\xea\\xb8\\xb0\\xe2\\x80\\xa6\\xeb\\xac\\xb4...</span>\\r\\n\\t\\t\\t\\t</a>\\r\\n\\t\\t\\t\\t<cite>TV <em>\\xec\\x98\\xa4! \\xeb\\x8a\\x98\\xec\\x9d\\x98 \\xeb\\x82\\xa0\\xec\\x94\\xa8</em></cite>\\r\\n\\t\\t\\t</li>\\r\\n\\t\\t<li class=\"type_tv\">\\r\\n\\t\\t\\t\\t<a href=\"https://tv.nate.com/clip/5085016?ref=nate\" onmousedown=\"nc(\\'CBQ06\\');issueContents.setBackButtonCookie(8, 0);\">\\r\\n\\t\\t\\t\\t\\t<span class=\"thumb\"><img src=\"https://tn.tv.nate.com/unsafe/174x98/http://image.ichannela.com/images/channela/2024/08/07/000002521069/00000252106920240807194254660.png\" width=\"174\" height=\"98\" alt=\"\\xeb\\x8b\\xa4\\xed\\x95\\xb4\\xea\\xb0\\x80 \\xed\\x9d\\x98\\xeb\\xa6\\xb0 \\xea\\xb0\\x90\\xeb\\x8f\\x99\\xec\\x9d\\x98 \\xec\\xbd\\xa7\\xeb\\xac\\xbc(?) \\xec\\x97\\xac\\xec\\xa0\\x84\\xed\\x9e\\x88 \\xec\\x97\\xb0\\xec\\x95\\xa0\\xed\\x95\\x98\\xeb\\x93\\xaf \\xeb\\x8b\\xac\\xeb\\x8b\\xac\\xed\\x95\\x9c \\xed\\x95\\xb4\\xeb\\xb8\\x90 \\xec\\xbb\\xa4\\xed\\x94\\x8c\"><em class=\"ic_play\">\\xec\\x98\\x81\\xec\\x83\\x81</em></span>\\r\\n\\t\\t\\t\\t\\t<span class=\"title\">\\xeb\\x8b\\xa4\\xed\\x95\\xb4\\xea\\xb0\\x80 \\xed\\x9d\\x98\\xeb\\xa6\\xb0 \\xea\\xb0\\x90\\xeb\\x8f\\x99\\xec\\x9d\\x98 \\xec\\xbd\\xa7\\xeb\\xac\\xbc(?) \\xec\\x97\\xac\\xec\\xa0\\x84\\xed\\x9e\\x88 \\xec\\x97\\xb0\\xec\\x95\\xa0\\xed\\x95\\x98...</span>\\r\\n\\t\\t\\t\\t</a>\\r\\n\\t\\t\\t\\t<cite>TV <em>\\xec\\x9a\\x94\\xec\\xa6\\x98\\xeb\\x82\\xa8\\xec\\x9e\\x90\\xeb\\x9d\\xbc\\xec\\x9d\\xb4\\xed\\x94\\x84 \\xec\\x8b\\xa0\\xeb\\x9e\\x91...</em></cite>\\r\\n\\t\\t\\t</li>\\r\\n\\t\\t<li class=\"type_tv\">\\r\\n\\t\\t\\t\\t<a href=\"https://tv.nate.com/clip/5085419?ref=nate\" onmousedown=\"nc(\\'CBQ07\\');issueContents.setBackButtonCookie(8, 0);\">\\r\\n\\t\\t\\t\\t\\t<span class=\"thumb\"><img src=\"https://tn.tv.nate.com/unsafe/174x98/http://image.ichannela.com/images/channela/2024/08/08/000002521359/00000252135920240808103102771.jpeg\" width=\"174\" height=\"98\" alt=\"[\\xed\\x95\\xab3]\\xed\\x97\\x88\\xeb\\xa6\\xac \\xec\\x88\\x99\\xec\\x97\\xac \\xec\\x95\\x88\\xeb\\x82\\xb4\\xed\\x95\\x9c \\xea\\xb9\\x80\\xec\\x97\\xac\\xec\\xa0\\x95\\xe2\\x80\\xa6\\xea\\xbc\\xbf\\xea\\xbc\\xbf\\xed\\x95\\x9c \\xea\\xb9\\x80\\xec\\xa3\\xbc\\xec\\x95\\xa0\"><em class=\"ic_play\">\\xec\\x98\\x81\\xec\\x83\\x81</em></span>\\r\\n\\t\\t\\t\\t\\t<span class=\"title\">[\\xed\\x95\\xab3]\\xed\\x97\\x88\\xeb\\xa6\\xac \\xec\\x88\\x99\\xec\\x97\\xac \\xec\\x95\\x88\\xeb\\x82\\xb4\\xed\\x95\\x9c \\xea\\xb9\\x80\\xec\\x97\\xac\\xec\\xa0\\x95\\xe2\\x80\\xa6\\xea\\xbc\\xbf\\xea\\xbc\\xbf\\xed\\x95\\x9c \\xea\\xb9\\x80\\xec\\xa3\\xbc...</span>\\r\\n\\t\\t\\t\\t</a>\\r\\n\\t\\t\\t\\t<cite>TV <em>\\xea\\xb9\\x80\\xec\\xa7\\x84\\xec\\x9d\\x98 \\xeb\\x8f\\x8c\\xec\\xa7\\x81\\xea\\xb5\\xac \\xec\\x87\\xbc</em></cite>\\r\\n\\t\\t\\t</li>\\r\\n\\t\\t<li class=\"type_tv\">\\r\\n\\t\\t\\t\\t<a href=\"https://tv.nate.com/clip/5084509?ref=nate\" onmousedown=\"nc(\\'CBQ08\\');issueContents.setBackButtonCookie(8, 0);\">\\r\\n\\t\\t\\t\\t\\t<span class=\"thumb\"><img src=\"https://tn.tv.nate.com/unsafe/174x98/https://cocosimage.pip.cjenm.com/CLIP/COCOS/B120212256/2132422/2132424_O_Thumbnail_B.png\" width=\"174\" height=\"98\" alt=\"[#\\xea\\xb0\\x90\\xec\\x82\\xac\\xed\\x95\\xa9\\xeb\\x8b\\x88\\xeb\\x8b\\xa4] \\xec\\xb2\\x9c\\xed\\x95\\x98\\xec\\x9d\\x98 \\xec\\x8b\\xa0\\xed\\x95\\x98\\xea\\xb7\\xa0\\xeb\\x8f\\x84 \\xeb\\x8b\\xb9\\xed\\x99\\xa9\\xed\\x95\\x9c \\xec\\xa7\\x84\\xea\\xb5\\xacX\\xec\\xa1\\xb0\\xec\\x95\\x84\\xeb\\x9e\\x8c\\xec\\x9d\\x98 \\xea\\xb9\\x8a\\xec\\x9d\\x80 \\xea\\xb4\\x80\\xea\\xb3\\x84!? \\xea\\xb7\\xb8\\xeb\\xa6\\xac\\xea\\xb3\\xa0 \\xec\\x9e\\x90\\xec\\x8b\\xa0\\xec\\x9d\\x98 \\xec\\x9e\\x98\\xeb\\xaa\\xbb\\xec\\x9d\\x84 \\xeb\\x93\\xa4\\xed\\x82\\xac\\xea\\xb9\\x8c \\xeb\\x8f\\x99\\xeb\\xa3\\x8c\\xeb\\xa5\\xbc \\xeb\\xb0\\xb0\\xec\\x8b\\xa0\\xed\\x95\\x9c \\xea\\xb0\\x90\\xec\\x82\\xac\\xed\\x8c\\x80 \\xec\\xa7\\x81\\xec\\x9b\\x90 \\xe3\\x84\\xb7\\xe3\\x84\\xb7 \\xec\\xb6\\xa9\\xea\\xb2\\xa9 \\xec\\xb1\\x84\\xec\\x9a\\xa9\\xeb\\xb9\\x84\\xeb\\xa6\\xac \\xea\\xb0\\x90\\xec\\x82\\xac\\xec\\x9d\\x98 \\xec\\xa0\\x84\\xeb\\xa7\\x90\\xf0\\x9f\\x92\\xa5\"><em class=\"ic_play\">\\xec\\x98\\x81\\xec\\x83\\x81</em></span>\\r\\n\\t\\t\\t\\t\\t<span class=\"title\">[#\\xea\\xb0\\x90\\xec\\x82\\xac\\xed\\x95\\xa9\\xeb\\x8b\\x88\\xeb\\x8b\\xa4] \\xec\\xb2\\x9c\\xed\\x95\\x98\\xec\\x9d\\x98 \\xec\\x8b\\xa0\\xed\\x95\\x98\\xea\\xb7\\xa0\\xeb\\x8f\\x84 \\xeb\\x8b\\xb9\\xed\\x99\\xa9\\xed\\x95\\x9c \\xec\\xa7\\x84\\xea\\xb5\\xac...</span>\\r\\n\\t\\t\\t\\t</a>\\r\\n\\t\\t\\t\\t<cite>TV <em>\\xeb\\x94\\x94\\xed\\x81\\xb4\\xed\\x98\\xbc\\xec\\xa2\\x85</em></cite>\\r\\n\\t\\t\\t</li>\\r\\n\\t\\t<li class=\"type_tv\">\\r\\n\\t\\t\\t\\t<a href=\"https://tv.nate.com/clip/5083465?ref=nate\" onmousedown=\"nc(\\'CBQ09\\');issueContents.setBackButtonCookie(8, 0);\">\\r\\n\\t\\t\\t\\t\\t<span class=\"thumb\"><img src=\"https://tn.tv.nate.com/unsafe/174x98/http://img.vod.mbn.co.kr/vod2/693/2024/08/06/20240806133932_22_693_1062041_1080_7.jpg\" width=\"174\" height=\"98\" alt=\"70\\xec\\x96\\xb5 \\xec\\xa7\\x91\\xc2\\xb725\\xec\\x96\\xb5 \\xea\\xb7\\xb8\\xeb\\xa6\\xbc &#039;\\xeb\\x8f\\x88\\xec\\x9e\\x90\\xeb\\x9e\\x91&#039; \\xeb\\xb9\\x84\\xed\\x8c\\x90\\xec\\x97\\x90\\xe2\\x80\\xa6\\xed\\x99\\x8d\\xed\\x98\\x9c\\xea\\xb1\\xb8 \\xef\\xbc\\x82\\xec\\x9d\\x98\\xec\\x82\\xac\\xeb\\x8a\\x94 \\xeb\\x8f\\x88 \\xeb\\xb2\\x8c\\xeb\\xa9\\xb4 \\xec\\x95\\x88 \\xeb\\x90\\x98\\xeb\\x82\\x98\\xef\\xbc\\x82 | \\xec\\x9d\\xb4\\xec\\x8a\\x88\\xed\\x94\\xbd\"><em class=\"ic_play\">\\xec\\x98\\x81\\xec\\x83\\x81</em></span>\\r\\n\\t\\t\\t\\t\\t<span class=\"title\">70\\xec\\x96\\xb5 \\xec\\xa7\\x91\\xc2\\xb725\\xec\\x96\\xb5 \\xea\\xb7\\xb8\\xeb\\xa6\\xbc &#039;\\xeb\\x8f\\x88\\xec\\x9e\\x90\\xeb\\x9e\\x91&#039; \\xeb\\xb9\\x84\\xed\\x8c\\x90\\xec\\x97\\x90\\xe2\\x80\\xa6\\xed\\x99\\x8d...</span>\\r\\n\\t\\t\\t\\t</a>\\r\\n\\t\\t\\t\\t<cite>TV <em>\\xec\\x9d\\xb4\\xec\\x8a\\x88 \\xed\\x94\\xbd(Pick)</em></cite>\\r\\n\\t\\t\\t</li>\\r\\n\\t\\t<li class=\"type_tv\">\\r\\n\\t\\t\\t\\t<a href=\"https://tv.nate.com/clip/5084533?ref=nate\" onmousedown=\"nc(\\'CBQ10\\');issueContents.setBackButtonCookie(8, 0);\">\\r\\n\\t\\t\\t\\t\\t<span class=\"thumb\"><img src=\"https://tn.tv.nate.com/unsafe/174x98/https://mediafactory.play.kbs.co.kr/clip/2024/08/07/66b32172cca9284669a52b7a/thumbnail/66b32172cca9284669a52b7a_upload_1723017314874.jpeg\" width=\"174\" height=\"98\" alt=\"[\\xed\\x95\\x84\\xeb\\xa6\\xac\\xed\\x95\\x80\\xec\\x97\\x90\\xec\\x84\\x9c \\xec\\x98\\xa8 \\xeb\\x82\\xb4 \\xec\\x95\\x84\\xeb\\x93\\xa4] (9/15) [\\xec\\x9d\\xb8\\xea\\xb0\\x84\\xea\\xb7\\xb9\\xec\\x9e\\xa5/Screening Humanity] | KBS 240807 \\xeb\\xb0\\xa9\\xec\\x86\\xa1 \"><em class=\"ic_play\">\\xec\\x98\\x81\\xec\\x83\\x81</em></span>\\r\\n\\t\\t\\t\\t\\t<span class=\"title\">[\\xed\\x95\\x84\\xeb\\xa6\\xac\\xed\\x95\\x80\\xec\\x97\\x90\\xec\\x84\\x9c \\xec\\x98\\xa8 \\xeb\\x82\\xb4 \\xec\\x95\\x84\\xeb\\x93\\xa4] (9/15) [\\xec\\x9d\\xb8...</span>\\r\\n\\t\\t\\t\\t</a>\\r\\n\\t\\t\\t\\t<cite>TV <em>\\xec\\x9d\\xb8\\xea\\xb0\\x84\\xea\\xb7\\xb9\\xec\\x9e\\xa5</em></cite>\\r\\n\\t\\t\\t</li>\\r\\n\\t\\t<li class=\"type_tv\">\\r\\n\\t\\t\\t\\t<a href=\"https://tv.nate.com/clip/5083897?ref=nate\" onmousedown=\"nc(\\'CBQ11\\');issueContents.setBackButtonCookie(8, 0);\">\\r\\n\\t\\t\\t\\t\\t<span class=\"thumb\"><img src=\"https://tn.tv.nate.com/unsafe/174x98/http://img.vod.mbn.co.kr/vod2/594/2024/08/06/20240806211004_21_594_1140492_1080_7.jpg\" width=\"174\" height=\"98\" alt=\"44kg \\xea\\xb0\\x90\\xeb\\x9f\\x89\\xed\\x95\\x9c \\xec\\x9d\\x98\\xec\\x82\\xac\\xec\\x9d\\x98 \\xeb\\xb9\\x84\\xeb\\xb2\\x95! \\xec\\xa7\\x80\\xeb\\xb0\\xa9 \\xed\\x83\\x9c\\xec\\x9a\\xb0\\xeb\\x8a\\x94\\xeb\\x8d\\xb0 \\xed\\x9a\\xa8\\xea\\xb3\\xbc\\xec\\xa0\\x81\\xec\\x9d\\xb8 \\xec\\xb4\\x88\\xeb\\xa1\\x9d\\xeb\\xac\\xbc\\xec\\x9d\\x98 \\xec\\xa0\\x95\\xec\\xb2\\xb4\\xeb\\x8a\\x94? MBN 240806 \\xeb\\xb0\\xa9\\xec\\x86\\xa1\"><em class=\"ic_play\">\\xec\\x98\\x81\\xec\\x83\\x81</em></span>\\r\\n\\t\\t\\t\\t\\t<span class=\"title\">44kg \\xea\\xb0\\x90\\xeb\\x9f\\x89\\xed\\x95\\x9c \\xec\\x9d\\x98\\xec\\x82\\xac\\xec\\x9d\\x98 \\xeb\\xb9\\x84\\xeb\\xb2\\x95! \\xec\\xa7\\x80\\xeb\\xb0\\xa9 \\xed\\x83\\x9c\\xec\\x9a\\xb0\\xeb\\x8a\\x94\\xeb\\x8d\\xb0...</span>\\r\\n\\t\\t\\t\\t</a>\\r\\n\\t\\t\\t\\t<cite>TV <em>\\xec\\x97\\x84\\xec\\xa7\\x80\\xec\\x9d\\x98 \\xec\\xa0\\x9c\\xec\\x99\\x95</em></cite>\\r\\n\\t\\t\\t</li>\\r\\n\\t\\t<li class=\"type_tv\">\\r\\n\\t\\t\\t\\t<a href=\"https://tv.nate.com/clip/5085115?ref=nate\" onmousedown=\"nc(\\'CBQ12\\');issueContents.setBackButtonCookie(8, 0);\">\\r\\n\\t\\t\\t\\t\\t<span class=\"thumb\"><img src=\"https://tn.tv.nate.com/unsafe/174x98/http://img.vod.mbn.co.kr/vod2/752/2024/08/07/20240807234729_21_752_1140539_1080_7.jpg\" width=\"174\" height=\"98\" alt=\"\\xeb\\x93\\xb1\\xea\\xb0\\x88\\xeb\\xb9\\x84\\xeb\\xa5\\xbc \\xed\\x8a\\x80\\xea\\xb2\\xbc\\xeb\\x8b\\xa4! \\xeb\\x93\\xb1\\xea\\xb0\\x88\\xeb\\xb9\\x84\\xec\\x9c\\xa0\\xec\\x82\\xb0\\xec\\x8a\\xac MBN 240807 \\xeb\\xb0\\xa9\\xec\\x86\\xa1\"><em class=\"ic_play\">\\xec\\x98\\x81\\xec\\x83\\x81</em></span>\\r\\n\\t\\t\\t\\t\\t<span class=\"title\">\\xeb\\x93\\xb1\\xea\\xb0\\x88\\xeb\\xb9\\x84\\xeb\\xa5\\xbc \\xed\\x8a\\x80\\xea\\xb2\\xbc\\xeb\\x8b\\xa4! \\xeb\\x93\\xb1\\xea\\xb0\\x88\\xeb\\xb9\\x84\\xec\\x9c\\xa0\\xec\\x82\\xb0\\xec\\x8a\\xac MBN 240...</span>\\r\\n\\t\\t\\t\\t</a>\\r\\n\\t\\t\\t\\t<cite>TV <em>\\xec\\x83\\x9d\\xec\\x83\\x9d \\xec\\xa0\\x95\\xeb\\xb3\\xb4\\xeb\\xa7\\x88\\xeb\\x8b\\xb9</em></cite>\\r\\n\\t\\t\\t</li>\\r\\n\\t\\t</ul>\\r\\n\\t</div>\\r\\n\\t<div class=\"content type_err nHide\" id=\"emergencyLayer\">\\r\\n\\t\\t<h4 class=\"\">\\xec\\x87\\xbc\\xed\\x95\\x91\\xed\\x83\\xad \\xec\\xa0\\x90\\xea\\xb2\\x80\\xec\\xa4\\x91</h4>\\r\\n\\t\\t<p>\\xeb\\xb6\\x88\\xed\\x8e\\xb8\\xec\\x9d\\x84 \\xeb\\x93\\x9c\\xeb\\xa0\\xa4 \\xec\\xa3\\x84\\xec\\x86\\xa1\\xed\\x95\\xa9\\xeb\\x8b\\x88\\xeb\\x8b\\xa4.<br />\\xeb\\x8d\\x94 \\xec\\xa2\\x8b\\xec\\x9d\\x80 \\xec\\x84\\x9c\\xeb\\xb9\\x84\\xec\\x8a\\xa4\\xeb\\xa5\\xbc \\xec\\x9c\\x84\\xed\\x95\\xb4<br /><strong>\\xec\\x87\\xbc\\xed\\x95\\x91\\xed\\x83\\xad\\xec\\x9d\\x80 \\xec\\xa7\\x80\\xea\\xb8\\x88 \\xec\\xa0\\x90\\xea\\xb2\\x80</strong> \\xec\\xa4\\x91\\xec\\x9e\\x85\\xeb\\x8b\\x88\\xeb\\x8b\\xa4.</p>\\r\\n\\t\\t<a href=\"https://shopping.nate.com/\">\\xeb\\x84\\xa4\\xec\\x9d\\xb4\\xed\\x8a\\xb8 \\xec\\x87\\xbc\\xed\\x95\\x91\\xec\\x9c\\xbc\\xeb\\xa1\\x9c \\xeb\\xb0\\x94\\xeb\\xa1\\x9c\\xea\\xb0\\x80\\xea\\xb8\\xb0</a>\\r\\n\\t</div>\\r\\n\\t<div class=\"overlay_ally\" style=\"display:none;\"></div>\\r\\n\\t<div class=\"movplay\" id=\"movieSec\">\\r\\n\\t\\t<div class=\"issuemov\">\\r\\n\\t\\t\\t<div id=\"divPlayer\"></div>\\r\\n\\t\\t\\t<a id=\"movieDetailLink\" href=\"\" class=\"btn_view_detail\" title=\"\\xea\\xb4\\x91\\xea\\xb3\\xa0 \\xec\\x9e\\x90\\xec\\x84\\xb8\\xed\\x9e\\x88\\xeb\\xb3\\xb4\\xea\\xb8\\xb0\" target=\"\" onmousedown=\"javascript:nc(\\'MVA02\\');\">\\xea\\xb4\\x91\\xea\\xb3\\xa0 \\xec\\x9e\\x90\\xec\\x84\\xb8\\xed\\x9e\\x88\\xeb\\xb3\\xb4\\xea\\xb8\\xb0</a>\\r\\n\\t\\t\\t<button type=\"button\" value=\"\\xeb\\x8f\\x99\\xec\\x98\\x81\\xec\\x83\\x81 \\xed\\x94\\x8c\\xeb\\xa0\\x88\\xec\\x9d\\xb4 \\xeb\\xa0\\x88\\xec\\x9d\\xb4\\xec\\x96\\xb4 \\xeb\\x8b\\xab\\xea\\xb8\\xb0\" title=\"\\xeb\\x8f\\x99\\xec\\x98\\x81\\xec\\x83\\x81 \\xed\\x94\\x8c\\xeb\\xa0\\x88\\xec\\x9d\\xb4 \\xeb\\xa0\\x88\\xec\\x9d\\xb4\\xec\\x96\\xb4 \\xeb\\x8b\\xab\\xea\\xb8\\xb0\" class=\"btn_x_small_white\" onclick=\"issueContents.closeMovie();\" onmousedown=\"nc(\\'CZA02\\')\">\\xeb\\x8f\\x99\\xec\\x98\\x81\\xec\\x83\\x81 \\xed\\x94\\x8c\\xeb\\xa0\\x88\\xec\\x9d\\xb4 \\xeb\\xa0\\x88\\xec\\x9d\\xb4\\xec\\x96\\xb4 \\xeb\\x8b\\xab\\xea\\xb8\\xb0</button>\\r\\n\\t\\t</div>\\r\\n\\t\\t<span class=\"shadow\"></span>\\r\\n\\t</div>\\r\\n\\t<div class=\"content type_err tbe nHide\" id=\"divToonNBookErrLayer\">\\r\\n\\t\\t<h4 class=\"\">\\xeb\\xa7\\x8c\\xed\\x99\\x94/\\xec\\x9b\\xb9\\xed\\x88\\xb0\\xed\\x83\\xad \\xec\\xa0\\x90\\xea\\xb2\\x80\\xec\\xa4\\x91</h4>\\r\\n\\t\\t<p>\\xeb\\xb6\\x88\\xed\\x8e\\xb8\\xec\\x9d\\x84 \\xeb\\x93\\x9c\\xeb\\xa0\\xa4 \\xec\\xa3\\x84\\xec\\x86\\xa1\\xed\\x95\\xa9\\xeb\\x8b\\x88\\xeb\\x8b\\xa4.<br />\\xeb\\x8d\\x94 \\xec\\xa2\\x8b\\xec\\x9d\\x80 \\xec\\x84\\x9c\\xeb\\xb9\\x84\\xec\\x8a\\xa4\\xeb\\xa5\\xbc \\xec\\x9c\\x84\\xed\\x95\\xb4<br /><strong>\\xeb\\xa7\\x8c\\xed\\x99\\x94/\\xec\\x9b\\xb9\\xed\\x88\\xb0\\xed\\x83\\xad\\xec\\x9d\\x80 \\xec\\xa7\\x80\\xea\\xb8\\x88 \\xec\\xa0\\x90\\xea\\xb2\\x80</strong> \\xec\\xa4\\x91\\xec\\x9e\\x85\\xeb\\x8b\\x88\\xeb\\x8b\\xa4.</p>\\r\\n\\t\\t<a href=\"https://toonnbook.nate.com\">\\xeb\\x84\\xa4\\xec\\x9d\\xb4\\xed\\x8a\\xb8 \\xeb\\xa7\\x8c\\xed\\x99\\x94\\xeb\\xa1\\x9c \\xeb\\xb0\\x94\\xeb\\xa1\\x9c\\xea\\xb0\\x80\\xea\\xb8\\xb0</a>\\r\\n\\t</div>\\r\\n</div>\\r\\n\\r\\n\\t\\r\\n\\t\\t\\t\\t\\r\\n\\r\\n\\r\\n\\r\\n\\r\\n<div class=\"area_best\">\\r\\n\\r\\n\\t<h3>\\xeb\\xb2\\xa0\\xec\\x8a\\xa4\\xed\\x8a\\xb8 \\xec\\xbb\\xa8\\xed\\x85\\x90\\xec\\xb8\\xa0</h3>\\r\\n    <h4>\\xeb\\x8b\\xb9\\xec\\x8b\\xa0\\xec\\x9d\\xb4 \\xeb\\x86\\x93\\xec\\xb9\\x9c \\xec\\x98\\xa4\\xeb\\x8a\\x98\\xec\\x9d\\x98<br>\\xec\\xb6\\x94\\xec\\xb2\\x9c \\xec\\xbd\\x98\\xed\\x85\\x90\\xec\\xb8\\xa0</h4>\\r\\n\\t<ul>\\r\\n\\t    \\r\\n\\t\\t\\r\\n\\t\\t\\r\\n\\t\\t\\r\\n\\t\\t\\t<li>\\r\\n\\t\\t\\t<a href=\"https://view.nate.com/travel/view/169435/\" title=\"\\xea\\xb3\\xa8\\xeb\\x9d\\xbc \\xeb\\xa8\\xb9\\xeb\\x8a\\x94 \\xea\\xb2\\x8c \\xeb\\xa7\\xa4\\xeb\\xa0\\xa5\\xec\\x9d\\xb8 \\xeb\\xa7\\x8c\\xeb\\x91\\x90\\xec\\xa0\\x84\\xea\\xb3\\xa8 Best 5\" onmousedown=\"nc(\\'RCM01\\');\">\\r\\n\\t\\t\\t\\t\\t<span class=\"thumb\">\\r\\n\\t\\t\\t\\t\\t\\t<img src=\"//main.nateimg.co.kr/img/cms/content_pool/2024/08/1722495114926.jpg\"\\r\\n\\t\\t\\t\\t\\t\\twidth=\"94\" height=\"70\" alt=\"\\xea\\xb3\\xa8\\xeb\\x9d\\xbc \\xeb\\xa8\\xb9\\xeb\\x8a\\x94 \\xea\\xb2\\x8c \\xeb\\xa7\\xa4\\xeb\\xa0\\xa5\\xec\\x9d\\xb8 \\xeb\\xa7\\x8c\\xeb\\x91\\x90\\xec\\xa0\\x84\\xea\\xb3\\xa8 Best 5\" /></span>\\r\\n\\t\\t\\t\\t\\t\\t<span class=\"title\">\\r\\n\\t\\t\\t\\t\\t\\t\\xea\\xb3\\xa8\\xeb\\x9d\\xbc \\xeb\\xa8\\xb9\\xeb\\x8a\\x94 \\xea\\xb2\\x8c \\xeb\\xa7\\xa4\\xeb\\xa0\\xa5\\xec\\x9d\\xb8 \\xeb\\xa7\\x8c\\xeb\\x91\\x90\\xec\\xa0\\x84\\xea\\xb3\\xa8 Best 5\\r\\n\\t\\t\\t\\t\\t\\t</span> \\r\\n\\t\\t\\t\\t\\t\\t<cite>\\r\\n\\t\\t\\t\\t\\t\\t \\xeb\\xa7\\x9b\\xec\\xa7\\x91\\r\\n\\t\\t\\t\\t\\t\\t</cite>\\r\\n\\t\\t\\t</a>\\r\\n\\t\\t\\t</li>\\r\\n\\t\\t\\r\\n\\t\\t\\r\\n\\t\\t\\r\\n\\t\\t\\r\\n\\t\\t\\t<li>\\r\\n\\t\\t\\t<a href=\"https://pann.nate.com/talk/372837624\" title=\"\\xec\\x9c\\xa0\\xec\\x9d\\xbc\\xed\\x95\\x98\\xea\\xb2\\x8c \\xec\\xa2\\x8b\\xec\\x95\\x84\\xed\\x96\\x88\\xeb\\x8d\\x98 &#039;\\xec\\x95\\x84\\xec\\x9c\\xa1\\xeb\\x8c\\x80&#039; \\xec\\xb9\\x9c\\xeb\\xaa\\xa9 \\xeb\\xa9\\xa4\\xeb\\xb2\\x84\" onmousedown=\"nc(\\'RCM02\\');\">\\r\\n\\t\\t\\t\\t\\t<span class=\"thumb\">\\r\\n\\t\\t\\t\\t\\t\\t<img src=\"//main.nateimg.co.kr/img/cms/content_pool/2024/08/1722495056573.jpg\"\\r\\n\\t\\t\\t\\t\\t\\twidth=\"94\" height=\"70\" alt=\"\\xec\\x9c\\xa0\\xec\\x9d\\xbc\\xed\\x95\\x98\\xea\\xb2\\x8c \\xec\\xa2\\x8b\\xec\\x95\\x84\\xed\\x96\\x88\\xeb\\x8d\\x98 &#039;\\xec\\x95\\x84\\xec\\x9c\\xa1\\xeb\\x8c\\x80&#039; \\xec\\xb9\\x9c\\xeb\\xaa\\xa9 \\xeb\\xa9\\xa4\\xeb\\xb2\\x84\" /></span>\\r\\n\\t\\t\\t\\t\\t\\t<span class=\"title\">\\r\\n\\t\\t\\t\\t\\t\\t\\xec\\x9c\\xa0\\xec\\x9d\\xbc\\xed\\x95\\x98\\xea\\xb2\\x8c \\xec\\xa2\\x8b\\xec\\x95\\x84\\xed\\x96\\x88\\xeb\\x8d\\x98 &#039;\\xec\\x95\\x84\\xec\\x9c\\xa1\\xeb\\x8c\\x80&#039; \\xec\\xb9\\x9c\\xeb\\xaa\\xa9 \\xeb\\xa9\\xa4\\xeb\\xb2\\x84\\r\\n\\t\\t\\t\\t\\t\\t</span> \\r\\n\\t\\t\\t\\t\\t\\t<cite>\\r\\n\\t\\t\\t\\t\\t\\t \\xec\\x8a\\xa4\\xed\\x83\\x80\\r\\n\\t\\t\\t\\t\\t\\t</cite>\\r\\n\\t\\t\\t</a>\\r\\n\\t\\t\\t</li>\\r\\n\\t\\t\\r\\n\\t\\t\\r\\n\\t\\t\\r\\n\\t\\t\\r\\n\\t\\t\\t<li>\\r\\n\\t\\t\\t<a href=\"https://pann.nate.com/talk/372832403\" title=\"\\xeb\\x91\\x98\\xec\\x9d\\xb4 \\xeb\\xb6\\x99\\xec\\x96\\xb4\\xec\\x84\\x9c \\xeb\\x8c\\x80\\xeb\\x86\\x93\\xea\\xb3\\xa0 &#039;\\xec\\x86\\x90 \\xed\\x95\\x98\\xed\\x8a\\xb8&#039; \\xed\\x8f\\xac\\xec\\xa6\\x88 \\xec\\xa4\\x91?\" onmousedown=\"nc(\\'RCM03\\');\">\\r\\n\\t\\t\\t\\t\\t<span class=\"thumb\">\\r\\n\\t\\t\\t\\t\\t\\t<img src=\"//main.nateimg.co.kr/img/cms/content_pool/2024/08/1722500081652.jpg\"\\r\\n\\t\\t\\t\\t\\t\\twidth=\"94\" height=\"70\" alt=\"\\xeb\\x91\\x98\\xec\\x9d\\xb4 \\xeb\\xb6\\x99\\xec\\x96\\xb4\\xec\\x84\\x9c \\xeb\\x8c\\x80\\xeb\\x86\\x93\\xea\\xb3\\xa0 &#039;\\xec\\x86\\x90 \\xed\\x95\\x98\\xed\\x8a\\xb8&#039; \\xed\\x8f\\xac\\xec\\xa6\\x88 \\xec\\xa4\\x91?\" /></span>\\r\\n\\t\\t\\t\\t\\t\\t<span class=\"title\">\\r\\n\\t\\t\\t\\t\\t\\t\\xeb\\x91\\x98\\xec\\x9d\\xb4 \\xeb\\xb6\\x99\\xec\\x96\\xb4\\xec\\x84\\x9c \\xeb\\x8c\\x80\\xeb\\x86\\x93\\xea\\xb3\\xa0 &#039;\\xec\\x86\\x90 \\xed\\x95\\x98\\xed\\x8a\\xb8&#039; \\xed\\x8f\\xac\\xec\\xa6\\x88 \\xec\\xa4\\x91?\\r\\n\\t\\t\\t\\t\\t\\t</span> \\r\\n\\t\\t\\t\\t\\t\\t<cite>\\r\\n\\t\\t\\t\\t\\t\\t \\xec\\x8a\\xa4\\xed\\x83\\x80\\r\\n\\t\\t\\t\\t\\t\\t</cite>\\r\\n\\t\\t\\t</a>\\r\\n\\t\\t\\t</li>\\r\\n\\t\\t\\r\\n\\t\\t\\r\\n\\t\\t\\r\\n\\t\\t\\r\\n\\t\\t\\t<li>\\r\\n\\t\\t\\t<a href=\"https://view.nate.com/enter/view/232117/\" title=\"\\xea\\xb0\\x99\\xec\\x9d\\x80 \\xeb\\x93\\x9c\\xeb\\x9d\\xbc\\xeb\\xa7\\x88 \\xec\\xb6\\x9c\\xec\\x97\\xb0 \\xed\\x9b\\x84 \\xec\\x97\\xb0\\xec\\x9d\\xb8\\xec\\x9d\\x84 \\xec\\xb0\\xbe\\xec\\x9d\\x80 \\xeb\\xb0\\xb0\\xec\\x9a\\xb0\" onmousedown=\"nc(\\'RCM04\\');\">\\r\\n\\t\\t\\t\\t\\t<span class=\"thumb\">\\r\\n\\t\\t\\t\\t\\t\\t<img src=\"//main.nateimg.co.kr/img/cms/content_pool/2024/08/1722499999425.jpg\"\\r\\n\\t\\t\\t\\t\\t\\twidth=\"94\" height=\"70\" alt=\"\\xea\\xb0\\x99\\xec\\x9d\\x80 \\xeb\\x93\\x9c\\xeb\\x9d\\xbc\\xeb\\xa7\\x88 \\xec\\xb6\\x9c\\xec\\x97\\xb0 \\xed\\x9b\\x84 \\xec\\x97\\xb0\\xec\\x9d\\xb8\\xec\\x9d\\x84 \\xec\\xb0\\xbe\\xec\\x9d\\x80 \\xeb\\xb0\\xb0\\xec\\x9a\\xb0\" /></span>\\r\\n\\t\\t\\t\\t\\t\\t<span class=\"title\">\\r\\n\\t\\t\\t\\t\\t\\t\\xea\\xb0\\x99\\xec\\x9d\\x80 \\xeb\\x93\\x9c\\xeb\\x9d\\xbc\\xeb\\xa7\\x88 \\xec\\xb6\\x9c\\xec\\x97\\xb0 \\xed\\x9b\\x84 \\xec\\x97\\xb0\\xec\\x9d\\xb8\\xec\\x9d\\x84 \\xec\\xb0\\xbe\\xec\\x9d\\x80 \\xeb\\xb0\\xb0\\xec\\x9a\\xb0\\r\\n\\t\\t\\t\\t\\t\\t</span> \\r\\n\\t\\t\\t\\t\\t\\t<cite>\\r\\n\\t\\t\\t\\t\\t\\t \\xec\\x8a\\xa4\\xed\\x83\\x80\\r\\n\\t\\t\\t\\t\\t\\t</cite>\\r\\n\\t\\t\\t</a>\\r\\n\\t\\t\\t</li>\\r\\n\\t\\t\\r\\n\\t\\t\\r\\n\\t\\t\\r\\n\\t\\t\\r\\n\\t\\t\\r\\n\\t\\t\\r\\n\\t\\t\\r\\n\\t\\t\\r\\n\\t\\t\\r\\n\\t\\t\\r\\n\\t\\t\\r\\n\\t\\t\\r\\n\\t\\t\\r\\n\\t\\t\\r\\n\\t</ul>\\r\\n\\r\\n</div>\\r\\n\\r\\n\\t\\t\\t\\t\\r\\n\\r\\n\\r\\n\\r\\n\\r\\n\\t\\t\\t\\t<div class=\"area_ranking\">\\r\\n\\t\\t\\t\\t\\t<h3>\\xeb\\x9e\\xad\\xed\\x82\\xb9</h3>\\r\\n\\t\\t\\t\\t\\t<div class=\"menu\">\\r\\n\\t\\t\\t\\t\\t\\t<h4 class=\"menu01\">Biz \\xec\\xb6\\x94\\xec\\xb2\\x9c\\xea\\xb2\\x80\\xec\\x83\\x89\\xec\\x96\\xb4</h4>\\r\\n\\t\\t\\t\\t\\t</div>\\r\\n\\t\\t\\t\\t\\t<div class=\"content\"  onmouseover=\"nateRanking.stopRolling()\" onmouseout=\"nateRanking.startRolling()\">\\r\\n\\t\\t\\t\\t\\t\\t\\r\\n\\t\\t\\t\\t\\t\\t\\r\\n\\t\\t\\t\\t\\t\\t\\r\\n\\t\\t\\t\\t\\t\\t\\t<ul class=\"type_thumb\">\\r\\n\\t\\t\\t\\t\\t\\t\\t\\t\\r\\n\\t\\t\\t\\t\\t\\t\\t\\t\\t<li >\\r\\n\\t\\t\\t\\t\\t\\t\\t\\t\\t\\t<a href=\"https://search.daum.net/nate?w=tot&DA=NAD&q=\\xec\\xa7\\x80\\xea\\xb2\\x8c\\xec\\xb0\\xa8\"  title=\"\\xec\\xa7\\x80\\xea\\xb2\\x8c\\xec\\xb0\\xa8, \\xeb\\xac\\xbc\\xeb\\xa5\\x98\\xec\\x9a\\xb4\\xeb\\xb0\\x98\\xec\\x9e\\xa5\\xeb\\xb9\\x84\" onmousedown=\"nc(\\'RKM41\\')\">\\r\\n\\t\\t\\t\\t\\t\\t\\t\\t\\t\\t\\t<span class=\"thumb\"><img src=\"//main.nateimg.co.kr/img/saImages/natemain_1721982803_5134.jpg\" alt=\"\"></span>\\r\\n\\t\\t\\t\\t\\t\\t\\t\\t\\t\\t\\t<span class=\"text\">\\xec\\xa7\\x80\\xea\\xb2\\x8c\\xec\\xb0\\xa8, \\xeb\\xac\\xbc\\xeb\\xa5\\x98\\xec\\x9a\\xb4\\xeb\\xb0\\x98\\xec\\x9e\\xa5\\xeb\\xb9\\x84</span>\\r\\n\\t\\t\\t\\t\\t\\t\\t\\t\\t\\t\\t<span class=\"desc\">\\xea\\xb0\\x81\\xec\\xa2\\x85 \\xec\\xa7\\x80\\xea\\xb2\\x8c\\xec\\xb0\\xa8 \\xed\\x8c\\x90\\xeb\\xa7\\xa4\\xeb\\xa0\\x8c\\xed\\x83\\x88 \\xec\\xa0\\x95\\xeb\\xb3\\xb4</span>\\r\\n\\t\\t\\t\\t\\t\\t\\t\\t\\t\\t</a>\\r\\n\\t\\t\\t\\t\\t\\t\\t\\t\\t</li>\\r\\n\\t\\t\\t\\t\\t\\t\\t\\t\\r\\n\\t\\t\\t\\t\\t\\t\\t\\t\\t<li >\\r\\n\\t\\t\\t\\t\\t\\t\\t\\t\\t\\t<a href=\"https://search.daum.net/nate?w=tot&DA=NAD&q=\\xec\\x95\\x94\\xeb\\xb3\\xb4\\xed\\x97\\x98\\xeb\\xb9\\x84\\xea\\xb0\\xb1\\xec\\x8b\\xa0\\xed\\x98\\x95\"  title=\"100\\xec\\x84\\xb8\\xeb\\xb3\\xb4\\xec\\x9e\\xa5 \\xec\\x95\\x94\\xeb\\xb3\\xb4\\xed\\x97\\x98\\xeb\\xb9\\x84\\xea\\xb0\\xb1\\xec\\x8b\\xa0\\xed\\x98\\x95\" onmousedown=\"nc(\\'RKM42\\')\">\\r\\n\\t\\t\\t\\t\\t\\t\\t\\t\\t\\t\\t<span class=\"thumb\"><img src=\"//main.nateimg.co.kr/img/saImages/natemain_1721982804_4869.jpg\" alt=\"\"></span>\\r\\n\\t\\t\\t\\t\\t\\t\\t\\t\\t\\t\\t<span class=\"text\">100\\xec\\x84\\xb8\\xeb\\xb3\\xb4\\xec\\x9e\\xa5 \\xec\\x95\\x94\\xeb\\xb3\\xb4\\xed\\x97\\x98\\xeb\\xb9\\x84\\xea\\xb0\\xb1\\xec\\x8b\\xa0\\xed\\x98\\x95</span>\\r\\n\\t\\t\\t\\t\\t\\t\\t\\t\\t\\t\\t<span class=\"desc\">\\xec\\x95\\x94\\xeb\\xb3\\xb4\\xed\\x97\\x98 \\xeb\\xb9\\x84\\xea\\xb0\\xb1\\xec\\x8b\\xa0\\xed\\x98\\x95 \\xec\\x83\\x81\\xed\\x92\\x88\\xec\\x95\\x88\\xeb\\x82\\xb4</span>\\r\\n\\t\\t\\t\\t\\t\\t\\t\\t\\t\\t</a>\\r\\n\\t\\t\\t\\t\\t\\t\\t\\t\\t</li>\\r\\n\\t\\t\\t\\t\\t\\t\\t\\t\\r\\n\\t\\t\\t\\t\\t\\t\\t\\t\\t<li >\\r\\n\\t\\t\\t\\t\\t\\t\\t\\t\\t\\t<a href=\"https://search.daum.net/nate?w=tot&DA=NAD&q=\\xec\\x82\\xac\\xeb\\xac\\xb4\\xec\\x9a\\xa9\\xea\\xb0\\x80\\xea\\xb5\\xac\\t\"  title=\"\\xec\\x82\\xac\\xeb\\xac\\xb4\\xec\\x9a\\xa9\\xea\\xb0\\x80\\xea\\xb5\\xac \\xea\\xb3\\xa0\\xeb\\xa5\\xb4\\xea\\xb8\\xb0\" onmousedown=\"nc(\\'RKM43\\')\">\\r\\n\\t\\t\\t\\t\\t\\t\\t\\t\\t\\t\\t<span class=\"thumb\"><img src=\"//main.nateimg.co.kr/img/saImages/natemain_1716855797_9156.jpg\" alt=\"\"></span>\\r\\n\\t\\t\\t\\t\\t\\t\\t\\t\\t\\t\\t<span class=\"text\">\\xec\\x82\\xac\\xeb\\xac\\xb4\\xec\\x9a\\xa9\\xea\\xb0\\x80\\xea\\xb5\\xac \\xea\\xb3\\xa0\\xeb\\xa5\\xb4\\xea\\xb8\\xb0</span>\\r\\n\\t\\t\\t\\t\\t\\t\\t\\t\\t\\t\\t<span class=\"desc\">\\xec\\x9d\\xb8\\xed\\x85\\x8c\\xeb\\xa6\\xac\\xec\\x96\\xb4\\xec\\x9d\\x98 \\xec\\x99\\x84\\xec\\x84\\xb1\\xec\\x9d\\x80 \\xea\\xb0\\x80\\xea\\xb5\\xac</span>\\r\\n\\t\\t\\t\\t\\t\\t\\t\\t\\t\\t</a>\\r\\n\\t\\t\\t\\t\\t\\t\\t\\t\\t</li>\\r\\n\\t\\t\\t\\t\\t\\t\\t\\t\\r\\n\\t\\t\\t\\t\\t\\t\\t\\t\\t<li >\\r\\n\\t\\t\\t\\t\\t\\t\\t\\t\\t\\t<a href=\"https://search.daum.net/nate?w=tot&DA=NAD&q=\\xec\\xa0\\x9c\\xec\\xa3\\xbc\\xeb\\x8f\\x84\\xeb\\x8b\\xa8\\xec\\xb2\\xb4\\xec\\x97\\xac\\xed\\x96\\x89\"  title=\"\\xec\\x97\\xac\\xeb\\xa6\\x84\\xed\\x9c\\xb4\\xea\\xb0\\x80 \\xea\\xb0\\x80\\xea\\xb8\\xb0 \\xec\\xa2\\x8b\\xec\\x9d\\x80\\xea\\xb3\\xb3\" onmousedown=\"nc(\\'RKM44\\')\">\\r\\n\\t\\t\\t\\t\\t\\t\\t\\t\\t\\t\\t<span class=\"thumb\"><img src=\"//main.nateimg.co.kr/img/saImages/natemain_1721982803_8581.jpg\" alt=\"\"></span>\\r\\n\\t\\t\\t\\t\\t\\t\\t\\t\\t\\t\\t<span class=\"text\">\\xec\\x97\\xac\\xeb\\xa6\\x84\\xed\\x9c\\xb4\\xea\\xb0\\x80 \\xea\\xb0\\x80\\xea\\xb8\\xb0 \\xec\\xa2\\x8b\\xec\\x9d\\x80\\xea\\xb3\\xb3</span>\\r\\n\\t\\t\\t\\t\\t\\t\\t\\t\\t\\t\\t<span class=\"desc\">\\xec\\x84\\xb1\\xec\\x88\\x98\\xea\\xb8\\xb0 \\xec\\xa0\\x9c\\xec\\xa3\\xbc\\xeb\\x8f\\x84 \\xed\\x8c\\xa8\\xed\\x82\\xa4\\xec\\xa7\\x80</span>\\r\\n\\t\\t\\t\\t\\t\\t\\t\\t\\t\\t</a>\\r\\n\\t\\t\\t\\t\\t\\t\\t\\t\\t</li>\\r\\n\\t\\t\\t\\t\\t\\t\\t\\t\\r\\n\\t\\t\\t\\t\\t\\t\\t\\t\\t<li class=\"commercial\">\\r\\n\\t\\t\\t\\t\\t\\t\\t\\t\\t\\t<a href=\"https://dbinsure.co.kr/new/driver?JEHUSA_CD=C5204&utm_medium=cpc&utm_source=nate_pc&utm_campaign=biz&utm_content=newdriver&utm_term=%EC%9A%B4%EC%A0%84%EC%9E%90%EB%B3%B4%ED%97%98\" target=\"_blank\" title=\"DB\\xec\\x86\\x90\\xed\\x95\\xb4\\xeb\\xb3\\xb4\\xed\\x97\\x98 \\xec\\x9a\\xb4\\xec\\xa0\\x84\\xec\\x9e\\x90\\xeb\\xb3\\xb4\\xed\\x97\\x98\" onmousedown=\"nc(\\'RKM45\\')\">\\r\\n\\t\\t\\t\\t\\t\\t\\t\\t\\t\\t\\t<span class=\"thumb\"><img src=\"//main.nateimg.co.kr/img/saImages/natemain_1709813338_4607.jpg\" alt=\"\"></span>\\r\\n\\t\\t\\t\\t\\t\\t\\t\\t\\t\\t\\t<span class=\"text\">DB\\xec\\x86\\x90\\xed\\x95\\xb4\\xeb\\xb3\\xb4\\xed\\x97\\x98 \\xec\\x9a\\xb4\\xec\\xa0\\x84\\xec\\x9e\\x90\\xeb\\xb3\\xb4\\xed\\x97\\x98</span>\\r\\n\\t\\t\\t\\t\\t\\t\\t\\t\\t\\t\\t<span class=\"desc\">\\xeb\\xb3\\xb4\\xed\\x97\\x98\\xeb\\xa3\\x8c \\xea\\xb0\\x84\\xed\\x8e\\xb8 \\xea\\xb3\\x84\\xec\\x82\\xb0\\xed\\x95\\xb4\\xeb\\xb3\\xb4\\xec\\x84\\xb8\\xec\\x9a\\x94</span>\\r\\n\\t\\t\\t\\t\\t\\t\\t\\t\\t\\t</a>\\r\\n\\t\\t\\t\\t\\t\\t\\t\\t\\t</li>\\r\\n\\t\\t\\t\\t\\t\\t\\t\\t\\r\\n\\t\\t\\t\\t\\t\\t\\t</ul>\\r\\n\\t\\t\\t\\t\\t\\t\\r\\n\\t\\t\\t\\t\\t</div>\\r\\n\\t\\t\\t\\t\\t<div class=\"paging_slide\">\\r\\n\\t\\t\\t\\t\\t\\t<span class=\"num_count_1\"><em>2</em> / 2</span>\\r\\n\\t\\t\\t\\t\\t\\t<button type=\"button\" class=\"btn prev\" title=\"\\xec\\x9d\\xb4\\xec\\xa0\\x84\" onmousedown=\"nc(\\'RKN98\\');\" onclick=\"nateRanking.clickRankingBtn(\\'P\\');\">\\xec\\x9d\\xb4\\xec\\xa0\\x84</button>\\r\\n\\t\\t\\t\\t\\t\\t<button type=\"button\" class=\"btn next\" title=\"\\xeb\\x8b\\xa4\\xec\\x9d\\x8c\" onmousedown=\"nc(\\'RKN99\\');\" onclick=\"nateRanking.clickRankingBtn(\\'N\\');\">\\xeb\\x8b\\xa4\\xec\\x9d\\x8c</button>\\r\\n\\t\\t\\t\\t\\t</div>\\r\\n\\t\\t\\t\\t</div>\\r\\n\\t\\t\\t\\t\\r\\n\\t\\t\\t\\t<hr />\\r\\n\\t\\t\\t\\t<h2>\\xec\\x87\\xbc\\xed\\x95\\x91&amp; \\xea\\xb4\\x91\\xea\\xb3\\xa0 \\xec\\x98\\x81\\xec\\x97\\xad</h2>\\r\\n\\t\\t\\t\\t\\r\\n\\t\\t\\t\\t<div class=\"area_shopping\" id=\"shopping\" style=\"display:none\">\\r\\n\\t\\t\\t\\t\\t<h3>\\xec\\x87\\xbc\\xed\\x95\\x91</h3>\\t\\t\\t\\t\\t                    \\r\\n\\t                \\r\\n\\r\\n\\r\\n\\r\\n\\r\\n<div id=\"shopitemMall\" class=\"mall1shop\">\\r\\n\\t<h3 id=\"mall1Title\" class=\"tab\"><a href=\"http://shopping.nate.com\" class=\"link\" onmousedown=\"ndrclick2(\\'NFA01\\')\" target=\"_top\">\\xec\\x87\\xbc\\xed\\x95\\x91\\xed\\x99\\x88</a></h3>\\r\\n\\t<div id=\"mall1Box\" class=\"shopmall\"></div>\\r\\n\\t<h3 id=\"mall2Title\" class=\"tab\"><a href=\"#\" class=\"link\" onmousedown=\"ndrclick2(\\'NFC01\\')\" target=\"_blank\"></a></h3>\\r\\n\\t<div id=\"mall2Box\" class=\"shopmall nHide\"></div>\\r\\n\\t<h3 id=\"mall3Title\" class=\"tab\"><a href=\"#\" class=\"link\" onmousedown=\"ndrclick2(\\'NFE01\\')\" target=\"_blank\"></a></h3>\\r\\n\\t<div id=\"mall3Box\" class=\"shopmall nHide\"></div>\\r\\n\\t <h3 id=\"mall4Title\" class=\"tab\"><a href=\"#\" class=\"link\" onmousedown=\"ndrclick2(\\'NFG01\\')\" target=\"_blank\"></a></h3>\\r\\n\\t<div id=\"mall4Box\" class=\"shopmall nHide\"></div>\\r\\n\\t<div id=\"relShopping\">\\r\\n\\t\\t<strong class=\"nHide\">\\xec\\x87\\xbc\\xed\\x95\\x91 \\xea\\xb4\\x80\\xeb\\xa0\\xa8 \\xeb\\xa6\\xac\\xec\\x8a\\xa4\\xed\\x8a\\xb8</strong>\\r\\n\\t\\t<div class=\"paging_slide\">\\r\\n\\t\\t\\t<button type=\"button\" title=\"\\xec\\x9d\\xb4\\xec\\xa0\\x84\" id=\"shoppingPrev\" class=\"btn prev\" onmousedown=\"ndrclick2(\\'NFZ01\\')\">\\xec\\x87\\xbc\\xed\\x95\\x91 \\xec\\x9d\\xb4\\xec\\xa0\\x84 \\xeb\\x82\\xb4\\xec\\x9a\\xa9</button>\\r\\n\\t\\t\\t<button type=\"button\" title=\"\\xeb\\x8b\\xa4\\xec\\x9d\\x8c\" id=\"shoppingNext\" class=\"btn next\" onmousedown=\"ndrclick2(\\'NFZ02\\')\">\\xec\\x87\\xbc\\xed\\x95\\x91 \\xeb\\x8b\\xa4\\xec\\x9d\\x8c \\xeb\\x82\\xb4\\xec\\x9a\\xa9</button>\\r\\n\\t\\t</div>\\r\\n\\t</div>\\r\\n</div>\\r\\n\\r\\n<script type=\"text/javascript\">\\r\\n//<![CDATA[    \\r\\n    var nDt = new Date();\\r\\n    var verShop = \\'\\' + (nDt.getMonth()+1) + nDt.getDate() + nDt.getHours() + nDt.getMinutes();\\r\\n//]]>\\r\\n</script>\\r\\n\\r\\n\\r\\n\\t\\t                    \\r\\n                </div>\\r\\n\\t\\t\\t\\t\\r\\n\\t\\t\\t\\t<div class=\"area_shopping type_err\" id=\"shopping_err\" style=\"display:none\">\\r\\n\\t\\t\\t\\t\\t<h4 class=\"\">\\xec\\x87\\xbc\\xed\\x95\\x91\\xeb\\xb0\\x95\\xec\\x8a\\xa4 \\xec\\xa0\\x90\\xea\\xb2\\x80\\xec\\xa4\\x91</h4>\\r\\n\\t\\t\\t\\t\\t<p>\\xeb\\xb6\\x88\\xed\\x8e\\xb8\\xec\\x9d\\x84 \\xeb\\x93\\x9c\\xeb\\xa0\\xa4 \\xec\\xa3\\x84\\xec\\x86\\xa1\\xed\\x95\\xa9\\xeb\\x8b\\x88\\xeb\\x8b\\xa4.<br />\\xeb\\x8d\\x94 \\xec\\xa2\\x8b\\xec\\x9d\\x80 \\xec\\x84\\x9c\\xeb\\xb9\\x84\\xec\\x8a\\xa4\\xeb\\xa5\\xbc \\xec\\x9c\\x84\\xed\\x95\\xb4<br /><strong>\\xec\\x87\\xbc\\xed\\x95\\x91\\xeb\\xb0\\x95\\xec\\x8a\\xa4\\xeb\\x8a\\x94 \\xec\\xa7\\x80\\xea\\xb8\\x88 \\xec\\xa0\\x90\\xea\\xb2\\x80</strong> \\xec\\xa4\\x91\\xec\\x9e\\x85\\xeb\\x8b\\x88\\xeb\\x8b\\xa4.</p>\\r\\n\\t\\t\\t\\t\\t<a href=\"http://shopping.nate.com\">\\xeb\\x84\\xa4\\xec\\x9d\\xb4\\xed\\x8a\\xb8 \\xec\\x87\\xbc\\xed\\x95\\x91\\xec\\x9c\\xbc\\xeb\\xa1\\x9c \\xeb\\xb0\\x94\\xeb\\xa1\\x9c\\xea\\xb0\\x80\\xea\\xb8\\xb0</a>\\r\\n\\t\\t\\t\\t</div>\\r\\n\\t\\t\\t\\t\\r\\n\\t\\t\\t\\t<div class=\"area_shopping_today\">\\r\\n\\t\\t\\t\\t\\t<!-- tiles:insertAttribute name=\"shopRecommendation\" /-->\\r\\n\\t\\t\\t\\t</div>\\r\\n\\t\\t\\t\\t\\r\\n\\t\\t\\t\\t\\r\\n\\r\\n\\r\\n\\r\\n\\r\\n\\t<div id=\"divQuickMenu\" class=\"area_quick\">\\r\\n\\t<h3>\\xed\\x80\\xb5\\xeb\\xa7\\x81\\xed\\x81\\xac</h3>\\r\\n\\t<div class=\"area_sktad01\"></div>\\r\\n\\t<ul>\\r\\n\\t\\t<li class=\"totop\"><a href=\"javascript:;\" onmousedown=\"nc(\\'RAB15\\');\"><span>\\xeb\\xa7\\xa8\\xec\\x9c\\x84\\xeb\\xa1\\x9c</span></a></li>\\r\\n\\t\\t\\r\\n\\t\\t\\t\\t\\r\\n\\t\\t\\t\\t<li> \\t\\t\\t\\r\\n\\t\\t\\t\\t\\t\\r\\n\\t\\t\\t\\t\\t\\r\\n\\t\\t\\t\\t\\t<a href=\"https://tv.nate.com/\" title=\"\\xeb\\x84\\xa4\\xec\\x9d\\xb4\\xed\\x8a\\xb8TV \\xec\\x84\\x9c\\xeb\\xb9\\x84\\xec\\x8a\\xa4 \\xea\\xb0\\x80\\xea\\xb8\\xb0\"  onmousedown=\"nc(\\'RAB25\\');\">\\xeb\\x84\\xa4\\xec\\x9d\\xb4\\xed\\x8a\\xb8TV</a>\\r\\n\\t\\t\\t\\t</li>\\r\\n\\t\\t\\t\\t\\t\\t\\r\\n\\t\\t\\r\\n\\t\\t\\t\\t\\r\\n\\t\\t\\t\\t<li> \\t\\t\\t\\r\\n\\t\\t\\t\\t\\t\\r\\n\\t\\t\\t\\t\\t\\r\\n\\t\\t\\t\\t\\t<a href=\"https://m.ssul.nate.com/\" title=\"\\xeb\\x84\\xa4\\xec\\x9d\\xb4\\xed\\x8a\\xb8\\xec\\x8d\\xb0 \\xec\\x84\\x9c\\xeb\\xb9\\x84\\xec\\x8a\\xa4 \\xea\\xb0\\x80\\xea\\xb8\\xb0\"  onmousedown=\"nc(\\'RAB26\\');\">\\xeb\\x84\\xa4\\xec\\x9d\\xb4\\xed\\x8a\\xb8\\xec\\x8d\\xb0</a>\\r\\n\\t\\t\\t\\t</li>\\r\\n\\t\\t\\t\\t\\t\\t\\r\\n\\t\\t\\r\\n\\t\\t\\t\\t\\r\\n\\t\\t\\t\\t<li> \\t\\t\\t\\r\\n\\t\\t\\t\\t\\t\\r\\n\\t\\t\\t\\t\\t\\r\\n\\t\\t\\t\\t\\t<a href=\"https://mobile.nate.com/decorate/mvno/top\" title=\"\\xec\\xbb\\xac\\xeb\\x9f\\xac\\xeb\\xa7\\x81 \\xec\\x84\\x9c\\xeb\\xb9\\x84\\xec\\x8a\\xa4 \\xea\\xb0\\x80\\xea\\xb8\\xb0\"  onmousedown=\"nc(\\'RAB19\\');\">\\xec\\xbb\\xac\\xeb\\x9f\\xac\\xeb\\xa7\\x81</a>\\r\\n\\t\\t\\t\\t</li>\\r\\n\\t\\t\\t\\t\\t\\t\\r\\n\\t\\t\\r\\n\\t\\t\\t\\t\\r\\n\\t\\t\\t\\t<li> \\t\\t\\t\\r\\n\\t\\t\\t\\t\\t\\r\\n\\t\\t\\t\\t\\t\\r\\n\\t\\t\\t\\t\\t<a href=\"http://editor.nate.com/\" title=\"\\xec\\x9d\\xb4\\xec\\x8a\\x88UP\\xec\\xb6\\x94\\xec\\xb2\\x9c \\xec\\x84\\x9c\\xeb\\xb9\\x84\\xec\\x8a\\xa4 \\xea\\xb0\\x80\\xea\\xb8\\xb0\"  onmousedown=\"nc(\\'RAB23\\');\">\\xec\\x9d\\xb4\\xec\\x8a\\x88UP\\xec\\xb6\\x94\\xec\\xb2\\x9c</a>\\r\\n\\t\\t\\t\\t</li>\\r\\n\\t\\t\\t\\t\\t\\t\\r\\n\\t\\t\\r\\n\\t\\t<li class=\"issue\"><a href=\"javascript:;\" onmousedown=\"nc(\\'RAB08\\');\">\\xec\\x9d\\xb4\\xec\\x8a\\x88<em class=\"issueup\">UP</em></a></li>\\r\\n\\t</ul>\\t\\t\\t\\t\\t\\t\\t\\t\\t\\t\\r\\n</div>\\r\\n\\t\\r\\n\\r\\n\\t\\t\\t\\t<div id=\"divMallMenu\" class=\"area_mallAd\"></div>\\r\\n\\t\\t\\t\\t\\r\\n\\t\\t\\t</div>\\r\\n\\t\\t\\t<hr />\\r\\n\\t\\t\\t\\r\\n\\r\\n\\r\\n\\r\\n\\r\\n <div id=\"footer\">\\r\\n\\t<h2>\\xed\\x91\\xb8\\xed\\x84\\xb0 \\xec\\x98\\x81\\xec\\x97\\xad</h2>\\r\\n\\t<div class=\"notice\">\\r\\n\\t\\t<h3><a href=\"https://helpdesk.nate.com/web/notice/main\" onmousedown=\"nc(\\'NFT01\\');\">\\xea\\xb3\\xb5\\xec\\xa7\\x80\\xec\\x82\\xac\\xed\\x95\\xad</a></h3>\\r\\n\\t\\t<a href=\"https://helpdesk.nate.com/web/notice/main-detail?id=8825\" onmousedown=\"nc(\\'NFT02\\');\">\\xeb\\x84\\xa4\\xec\\x9d\\xb4\\xed\\x8a\\xb8 \\xed\\x8c\\x90 \\xed\\x8c\\x90\\xed\\x8f\\xac\\xed\\x86\\xa0 \\xec\\x84\\x9c\\xeb\\xb9\\x84\\xec\\x8a\\xa4 \\xec\\xa2\\x85\\xeb\\xa3\\x8c \\xec\\x95\\x88\\xeb\\x82\\xb4 (7/24)</a>\\r\\n\\t</div>\\t\\r\\n\\t<dl>\\r\\n\\t\\t<dt>\\xeb\\x84\\xa4\\xec\\x9d\\xb4\\xed\\x8a\\xb8 \\xea\\xb3\\xb5\\xec\\x9a\\xa9 \\xed\\x91\\xb8\\xed\\x84\\xb0</dt>\\r\\n\\t\\t<dd>\\r\\n\\t\\t\\t<a href=\"http://www.skcomms.co.kr/\" onmousedown=\"nc(\\'NFT21\\');\">\\xed\\x9a\\x8c\\xec\\x82\\xac\\xec\\x86\\x8c\\xea\\xb0\\x9c</a> <span>|</span>\\r\\n\\t\\t\\t<a href=\"http://business.nate.com/\" onmousedown=\"nc(\\'NFT29\\');\">\\xea\\xb4\\x91\\xea\\xb3\\xa0\\xeb\\xac\\xb8\\xec\\x9d\\x98</a> <span>|</span>\\r\\n\\t\\t\\t<a href=\"/policy/legal.html\" onmousedown=\"nc(\\'NFT24\\');\">\\xec\\x84\\x9c\\xeb\\xb9\\x84\\xec\\x8a\\xa4 \\xec\\x95\\xbd\\xea\\xb4\\x80</a> <span>|</span>\\r\\n\\t\\t\\t<a href=\"/policy/privacy.html\" onmousedown=\"nc(\\'NFT25\\');\"><strong>\\xea\\xb0\\x9c\\xec\\x9d\\xb8\\xec\\xa0\\x95\\xeb\\xb3\\xb4\\xec\\xb2\\x98\\xeb\\xa6\\xac\\xeb\\xb0\\xa9\\xec\\xb9\\xa8</strong></a> <span>|</span>\\r\\n\\t\\t\\t<a href=\"/policy/youthpolicy.html\" onmousedown=\"nc(\\'NFT26\\');\">\\xec\\xb2\\xad\\xec\\x86\\x8c\\xeb\\x85\\x84\\xeb\\xb3\\xb4\\xed\\x98\\xb8\\xec\\xa0\\x95\\xec\\xb1\\x85</a> <span>|</span>\\r\\n\\t\\t\\t<a href=\"http://helpdesk.nate.com/\" onmousedown=\"nc(\\'NFT11\\');\">\\xea\\xb3\\xa0\\xea\\xb0\\x9d\\xec\\x84\\xbc\\xed\\x84\\xb0</a> <span>|</span>\\r\\n\\t\\t\\t<span class=\"copyright\">&copy; <a href=\"http://www.skcomms.co.kr/\" target=\"_blank\" onmousedown=\"nc(\\'NFT41\\');\"><strong><span class=\"sk\">SK</span> Communications.</strong></a></span>\\r\\n\\t\\t</dd>\\r\\n\\t</dl>\\r\\n\\t<a href=\"/sitemap/index.html\" class=\"view_all\" onmousedown=\"nc(\\'NFT12\\');\">\\xec\\x84\\x9c\\xeb\\xb9\\x84\\xec\\x8a\\xa4 \\xec\\xa0\\x84\\xec\\xb2\\xb4\\xeb\\xb3\\xb4\\xea\\xb8\\xb0</a>\\r\\n</div>\\r\\n\\t\\t\\t<hr />\\r\\n\\t\\t\\t<div id=\"adContainer\">\\r\\n\\t\\t\\t\\t<h2>\\xea\\xb4\\x91\\xea\\xb3\\xa0 \\xec\\x98\\x81\\xec\\x97\\xad</h2>\\r\\n\\t\\t\\t\\t<div id=\"ad_layer1\"  class=\"area_ad01\"></div>\\r\\n\\t\\t\\t\\t<div id=\"ad_layer2\" class=\"area_ad02\">\\t\\t\\t\\t\\t\\r\\n\\t\\t\\t\\t</div>\\r\\n\\t\\t\\t\\t<div class=\"area_adual\">\\r\\n\\t\\t\\t\\t\\t<div class=\"area_ad03\">\\t\\t\\t\\t\\t\\t\\r\\n\\t\\t\\t\\t\\t</div>\\r\\n\\t\\t\\t\\t\\t<div class=\"area_ad04\">\\t\\t\\t\\t\\t\\t\\r\\n\\t\\t\\t\\t\\t</div>\\r\\n\\t\\t\\t\\t</div>\\t\\r\\n\\t\\t\\t\\t\\r\\n\\r\\n\\r\\n\\r\\n\\r\\n\\r\\n<div class=\"area_ad05 nHide\" id=\"leftAd05Cj\">\\r\\n\\t<a href=\"http://talkon.nate.com/service.html\" onmousedown=\"nc(\\'NBI11\\');\" target=\"_blank\"><img src=\"//main.nateimg.co.kr/img/v6/talkon_55x110.gif\" width=\"55\" height=\"110\" alt=\"\\xea\\xb2\\x8c\\xec\\x9e\\x84\\xed\\x95\\xa0\\xeb\\x95\\x90 \\xed\\x86\\xa0\\xed\\x81\\xac\\xec\\x98\\xa8!\" /></a>\\r\\n</div>\\r\\n\\t\\r\\n\\t\\t\\t\\t<div class=\"area_ad06\"></div>\\r\\n\\t\\t\\t\\t<div class=\"area_sktad02\"></div>\\r\\n\\t\\t\\t\\t<div class=\"area_ad09\" style=\"top:2224px;\">\\r\\n\\t\\t\\t\\t\\t<!-- iframe id=\"ifrm_ad09\" name=\"ifrm_ad09\" frameborder=\"0\" width=\"728\" height=\"90\" scrolling=\"no\" src=\"about:blank\" title=\"\\xea\\xb4\\x91\\xea\\xb3\\xa0\"></iframe -->\\r\\n\\t\\t\\t\\t</div>\\r\\n\\t\\t\\t\\t\\r\\n\\t\\t\\t\\t\\r\\n\\r\\n\\r\\n\\r\\n\\r\\n<div class=\"area_ad10\" style=\"top:2224px;\">\\r\\n\\t<a href=\"https://m.ssul.nate.com/\" onmousedown=\"setNcCode(\\'NAA21|NAA22\\',iSvcSeqC-1);\"><img src=\"//main.nateimg.co.kr/img/cms/content_pool/2024/07/1720509558479.png\" width=\"332\" height=\"90\" alt=\" \\xeb\\x84\\xa4\\xec\\x9d\\xb4\\xed\\x8a\\xb8\\xec\\x8d\\xb0\" /></a>\\r\\n</div>\\r\\n\\t\\t\\t\\t\\r\\n\\t\\t\\t\\t\\r\\n\\t\\t\\t    <div id=\"ad_layer3\"></div>\\r\\n\\t\\t\\t    <div id=\"ad_layer4\" style=\"display:none;\"></div>\\r\\n\\t\\t\\t</div>\\r\\n\\t\\t</div>\\r\\n\\t\\t\\r\\n\\t\\t\\r\\n\\r\\n\\r\\n\\r\\n\\r\\n<div id=\"cbContainer\">\\r\\n\\t<div id=\"cbLayer\" class=\"area_ad08\" style=\"display: none\">\\r\\n\\t\\r\\n\\t\\t<span class=\"commTxt\">\\xed\\x95\\x9c\\xeb\\x88\\x88\\xec\\x97\\x90 \\xeb\\xb3\\xb4\\xeb\\x8a\\x94 \\xec\\x98\\xa4\\xeb\\x8a\\x98 <em>NATE</em>\\xec\\x99\\x80 \\xed\\x95\\xa8\\xea\\xbb\\x98 \\xed\\x95\\x98\\xeb\\xa3\\xa8\\xeb\\xa5\\xbc \\xec\\x8b\\x9c\\xec\\x9e\\x91\\xed\\x95\\x98\\xec\\x84\\xb8\\xec\\x9a\\x94.</span>\\r\\n\\t\\t<a href=\"javascript:;\" title=\"NATE\\xeb\\xa5\\xbc \\xec\\x8b\\x9c\\xec\\x9e\\x91\\xed\\x8e\\x98\\xec\\x9d\\xb4\\xec\\xa7\\x80\\xeb\\xa1\\x9c\" id=\"cbLayerLink\">NATE\\xeb\\xa5\\xbc \\xec\\x8b\\x9c\\xec\\x9e\\x91\\xed\\x8e\\x98\\xec\\x9d\\xb4\\xec\\xa7\\x80\\xeb\\xa1\\x9c</a>\\r\\n\\t\\r\\n\\t\\r\\n\\t</div>\\r\\n</div>\\r\\n\\t\\t\\r\\n\\t</div>\\r\\n\\t\\r\\n<div id=\"plus_footer\" class=\"setting_moblie\" style=\"display: none\"></div>\\t\\r\\n<span id=\"layerTemp\"></span>\\r\\n<script type=\"text/javascript\" src=\"/js/common/natead_081.js?v=20200206_02\"></script>\\r\\n\\r\\n<script type=\"text/javascript\">\\r\\n\\t\\r\\n\\tif (isiPad) {\\r\\n\\t\\tdocument.write(\\'<img src=\"//stat.nate.com/stat/stat.tiff?cp_url=[www_ndr.nate.com/ipad/]\" width=\"0\"  height=\"0\" border=\"0\" alt=\"\" />\\');\\r\\n\\t}\\r\\n\\r\\n</script>\\r\\n\\r\\n\\r\\n\\r\\n\\r\\n\\r\\n\\r\\n\\r\\n\\r\\n\\r\\n\\r\\n\\r\\n\\r\\n<script type=\"text/javascript\">\\r\\n//<![CDATA[\\r\\ntry{\\t\\r\\n\\t\\r\\n\\tvar contentsUpperTabMenu = [\"null\", \"http://pann.news.nate.com/info\", \"//main.nateimg.co.kr/img/cms/content_pool/2015/05/trend_gray.gif\", \"//main.nateimg.co.kr/img/cms/content_pool/2015/05/trend_black.gif\" ];\\t\\r\\n\\tvar contentsUpperTopLink = [[\"null\", \"http://www.nate.com/?f=bi\"],[\"null\", \"http://www.nate.com/?f=bi\"],[\"null\", \"http://www.nate.com/?f=bi\"],[\"null\", \"http://www.nate.com/?f=bi\"]];\\r\\n\\tvar contentsUpperSecondPannTitle = [\"\\xed\\x86\\xa1\\xec\\xbb\\xa4\\xeb\\x93\\xa4\\xec\\x9d\\x98 \\xec\\x84\\xa0\\xed\\x83\\x9d\"];\\r\\n\\r\\n}catch (e) { }\\r\\n//]]>\\r\\n</script>\\r\\n\\r\\n<!--natemain-->\\r\\n\\r\\n\\r\\n\\n<script type=\"text/javascript\">//<![CDATA[\\n CFN_type = \\'\\'; CFN_id = \\'\\'; CFN_cn = \\'\\'; CFN_cmn = \\'\\'; CFN_link = \\'\\'; CFN_link_id = \\'\\'; id = (CFN_type == \\'N\\') ? CFN_id : CFN_link_id; cyid = (CFN_type == \\'C\\') ? CFN_id : CFN_link_id; name = CFN_cn; isEmpas = (\\'\\' == \\'1\\'); refererDomain = \\'\\'; CFN_cust_tp_cd = \\'\\'; CFN_sex_cd = \\'\\'; loginType = \\'\\'; isMobile = \\'F\\'; CFN_link_cust_tp_cd = \\'\\'; CFN_link_stat_cd = \\'\\'; var ndrLoginStatus = (isNateLogin) ? \\'login\\' : ((bLogout) ? \\'byebye\\' : \\'logout\\'); try { divReferer(refererDomain); } catch (e) { } try { if (isNateLogin) fillPersonInfo();} catch (e) { } pageEnd(\\'\\', \\'/\\');//]]>\\n</script></body></html>'\n"
     ]
    }
   ],
   "source": [
    "import urllib.request\n",
    "\n",
    "nateUrl = \"https://www.nate.com\"\n",
    "htmlObject = urllib.request.urlopen(nateUrl)\n",
    "html = htmlObject.read()\n",
    "\n",
    "print(html)\n"
   ]
  },
  {
   "cell_type": "code",
   "execution_count": 5,
   "metadata": {},
   "outputs": [
    {
     "ename": "AttributeError",
     "evalue": "type object 'BeautifulSoup' has no attribute 'BeautifulSoup'",
     "output_type": "error",
     "traceback": [
      "\u001b[1;31m---------------------------------------------------------------------------\u001b[0m",
      "\u001b[1;31mAttributeError\u001b[0m                            Traceback (most recent call last)",
      "Cell \u001b[1;32mIn[5], line 1\u001b[0m\n\u001b[1;32m----> 1\u001b[0m help(BeautifulSoup\u001b[38;5;241m.\u001b[39mBeautifulSoup)\n",
      "\u001b[1;31mAttributeError\u001b[0m: type object 'BeautifulSoup' has no attribute 'BeautifulSoup'"
     ]
    }
   ],
   "source": []
  },
  {
   "cell_type": "code",
   "execution_count": 4,
   "metadata": {},
   "outputs": [
    {
     "name": "stdout",
     "output_type": "stream",
     "text": [
      "None\n"
     ]
    }
   ],
   "source": [
    "from bs4 import BeautifulSoup \n",
    "\n",
    "webPage = open('./index.html', 'rt', encoding='utf-8').read()\n",
    "bsObject = BeautifulSoup(webPage, 'html.parser')\n",
    "tag_div = bsObject.find('div')\n",
    " \n",
    "print(tag_div) \n",
    "\n"
   ]
  },
  {
   "cell_type": "code",
   "execution_count": 11,
   "metadata": {},
   "outputs": [
    {
     "name": "stdout",
     "output_type": "stream",
     "text": [
      "<div class=\"myClass\">\n",
      "        test2\n",
      "    </div>\n"
     ]
    }
   ],
   "source": [
    "# 'div', {'class':'myClass'}\n",
    "\n",
    "webPage = open('./index.html', 'rt', encoding='utf-8').read()\n",
    "bsObject = BeautifulSoup(webPage, 'html.parser')\n",
    "tag = bsObject.find(\"div\", {\"class\":\"myClass\"})\n",
    "print(tag)\n"
   ]
  },
  {
   "cell_type": "code",
   "execution_count": 23,
   "metadata": {},
   "outputs": [
    {
     "data": {
      "text/plain": [
       "'18:33:39'"
      ]
     },
     "execution_count": 23,
     "metadata": {},
     "output_type": "execute_result"
    }
   ],
   "source": [
    "import datetime\n",
    "\n",
    "# current = datetime.datetime.    1    ()\n",
    "# yymmdd = current.    2    ('%Y-%m-%d')\n",
    "# hhmmss = current.    2    ('%H:%M:%S')\n",
    "\n",
    "current = datetime.datetime.now()\n",
    "yymmdd = current.strftime('%Y-%m-%d')\n",
    "hhmmss = current.strftime('%H:%M:%S')\n",
    " \n"
   ]
  },
  {
   "cell_type": "code",
   "execution_count": 30,
   "metadata": {},
   "outputs": [
    {
     "data": {
      "text/plain": [
       "array([155, 173, 109,  57, 206])"
      ]
     },
     "execution_count": 30,
     "metadata": {},
     "output_type": "execute_result"
    }
   ],
   "source": [
    "import numpy as np\n",
    "np.random.randint(0, 255, size=(5, 5))\n",
    "np.random.randint(0, 255, size=5)"
   ]
  },
  {
   "cell_type": "code",
   "execution_count": 44,
   "metadata": {},
   "outputs": [
    {
     "data": {
      "text/plain": [
       "array([[  1,  22,   3],\n",
       "       [ 12,   3, 123]])"
      ]
     },
     "execution_count": 44,
     "metadata": {},
     "output_type": "execute_result"
    }
   ],
   "source": [
    "# 파이썬의 range() 함수와 유사하지만 넘파이 배열용으로 주로 사용된다\n",
    "np.arange(1, 5+1)   \n",
    "# 배열을 생성하지만 초기화하지 않는다. 즉, 쓰레기 값이 들어 있을 수 있다\n",
    "np.empty(5)\n",
    "# 대각선은 1로, 나머지는 0으로 채워진 2차원 넘파이 배열을 생성한다.\n",
    "np.identity(5)\n",
    "# 파이썬 리스트를 넘파이 배열로 변환한다. \n",
    "np.array([[1,22,3],[12,3,123]])"
   ]
  },
  {
   "cell_type": "code",
   "execution_count": 46,
   "metadata": {},
   "outputs": [],
   "source": [
    "# 배열의 데이터 형식은 (1)dtype  속성으로, \n",
    "# 배열의 차원은 (2)ndim  속성으로, \n",
    "# 배열의 크기는 (3)shape 속성으로 확인할 수 있다."
   ]
  },
  {
   "cell_type": "code",
   "execution_count": 49,
   "metadata": {},
   "outputs": [
    {
     "data": {
      "text/plain": [
       "array([[12, 12],\n",
       "       [14, 14]])"
      ]
     },
     "execution_count": 49,
     "metadata": {},
     "output_type": "execute_result"
    }
   ],
   "source": [
    "ary = np.array( [[ 1, 1 ] , [ 2 , 2 ] ])\n",
    "ary += ary\n",
    "ary += 10\n",
    "ary\n"
   ]
  },
  {
   "cell_type": "code",
   "execution_count": 73,
   "metadata": {},
   "outputs": [
    {
     "data": {
      "text/plain": [
       "array([[10., 20.],\n",
       "       [ 5., 10.]])"
      ]
     },
     "execution_count": 73,
     "metadata": {},
     "output_type": "execute_result"
    }
   ],
   "source": [
    "ary1 = np.array( [[ 1, 1 ] , [ 2 , 2 ] ])\n",
    "ary2 = np.array( [ 10, 20 ] )\n",
    "# ary2-ary1\n",
    "# ary2+ary1\n",
    "# ary2*ary1\n",
    "ary2/ary1\n"
   ]
  },
  {
   "cell_type": "code",
   "execution_count": 55,
   "metadata": {},
   "outputs": [
    {
     "data": {
      "text/plain": [
       "array([88, 88,  2,  3,  4])"
      ]
     },
     "execution_count": 55,
     "metadata": {},
     "output_type": "execute_result"
    }
   ],
   "source": [
    "ary = np.array( [ 0 , 1, 2 , 3, 4 ] )\n",
    "ary2 = ary[0:2]\n",
    "ary2[:] = 88\n",
    "ary"
   ]
  },
  {
   "cell_type": "code",
   "execution_count": 61,
   "metadata": {},
   "outputs": [],
   "source": [
    "ary = np.array([[  1,  2,  3,  4],\n",
    "                [  5,  6,  7,  8],\n",
    "                [  9, 10, 11,  12],\n",
    "                [13, 14, 15, 16]]\n",
    ") \n",
    "# array([ 9, 10, 11, 12])\n",
    "# ary[2]\n",
    "\n",
    "# array([[1, 2, 3, 4], [5, 6, 7, 8]])\n",
    "# ary[0:2, :]  \n",
    "\n",
    "# SyntaxError: invalid syntax\n",
    "# ary[ , 2] \n",
    "\n",
    "# array([[11, 12],[15, 16]])\n",
    "# ary[2:4, 2:4]  "
   ]
  },
  {
   "cell_type": "code",
   "execution_count": 69,
   "metadata": {},
   "outputs": [],
   "source": [
    "# abs()   add()   sign()   sqrt()   multiply()   divide()\n",
    "# square()   maximum()   log()   ceil()   floor()   subtract()\n",
    "# rint()   cos()   sin()   minimum()   tan()   logical_not()\n",
    "\n",
    "# param 2개 필요\n",
    "# add(), subtract(), multiply(), divide(), maximum(), minimum()"
   ]
  },
  {
   "cell_type": "code",
   "execution_count": 70,
   "metadata": {},
   "outputs": [],
   "source": [
    "# np.unique()   np.divide()   np.sort()   mean()   min()\n",
    "# np.intersect1d()   np.log()   np.ceil()   np.sin()\n",
    "\n",
    "# (1) 배열의 평균을 구함 \n",
    "# mean()\n",
    "# (2) 배열에서 최솟값을 찾음 \n",
    "# min()\n",
    "# (3) 배열을 정렬함 \n",
    "# np.sort()\n",
    "# (4) 배열에서 중복된 값을 제거함 \n",
    "# np.unique()\n"
   ]
  },
  {
   "cell_type": "code",
   "execution_count": 74,
   "metadata": {},
   "outputs": [],
   "source": [
    "# 시리즈 : \n",
    "#       행 또는 열을 한 줄만 추출한 결과로 별도의 컬럼은 없는 1차원 구조  \n",
    "\n",
    "# 하나의 행을 추출하는 방법 : \n",
    "# df.loc['인덱스이름']\n",
    "\n",
    "# 하나의 열을 추출하는 방법 :\n",
    "# df['열이름']\n",
    "\n",
    "# 데이터프레임의 가장 첫 번째 열이며, 각 행의 이름을 의미  ???\n",
    "# 인덱스\n"
   ]
  },
  {
   "cell_type": "code",
   "execution_count": 75,
   "metadata": {},
   "outputs": [],
   "source": [
    "# 맷플롯립\n"
   ]
  },
  {
   "cell_type": "code",
   "execution_count": 80,
   "metadata": {},
   "outputs": [
    {
     "data": {
      "text/html": [
       "<div>\n",
       "<style scoped>\n",
       "    .dataframe tbody tr th:only-of-type {\n",
       "        vertical-align: middle;\n",
       "    }\n",
       "\n",
       "    .dataframe tbody tr th {\n",
       "        vertical-align: top;\n",
       "    }\n",
       "\n",
       "    .dataframe thead th {\n",
       "        text-align: right;\n",
       "    }\n",
       "</style>\n",
       "<table border=\"1\" class=\"dataframe\">\n",
       "  <thead>\n",
       "    <tr style=\"text-align: right;\">\n",
       "      <th></th>\n",
       "      <th>이름</th>\n",
       "      <th>나이</th>\n",
       "      <th>생일</th>\n",
       "    </tr>\n",
       "  </thead>\n",
       "  <tbody>\n",
       "    <tr>\n",
       "      <th>하나</th>\n",
       "      <td>유정</td>\n",
       "      <td>30</td>\n",
       "      <td>1991.5.2</td>\n",
       "    </tr>\n",
       "    <tr>\n",
       "      <th>둘</th>\n",
       "      <td>유나</td>\n",
       "      <td>28</td>\n",
       "      <td>1993.4.6</td>\n",
       "    </tr>\n",
       "    <tr>\n",
       "      <th>셋</th>\n",
       "      <td>민영</td>\n",
       "      <td>31</td>\n",
       "      <td>1990.9.12</td>\n",
       "    </tr>\n",
       "    <tr>\n",
       "      <th>넷</th>\n",
       "      <td>은지</td>\n",
       "      <td>29</td>\n",
       "      <td>1992.7.19</td>\n",
       "    </tr>\n",
       "  </tbody>\n",
       "</table>\n",
       "</div>"
      ],
      "text/plain": [
       "    이름  나이         생일\n",
       "하나  유정  30   1991.5.2\n",
       "둘   유나  28   1993.4.6\n",
       "셋   민영  31  1990.9.12\n",
       "넷   은지  29  1992.7.19"
      ]
     },
     "execution_count": 80,
     "metadata": {},
     "output_type": "execute_result"
    }
   ],
   "source": [
    "import pandas as pd\n",
    "\n",
    "data = { '이름' : ['유정', '유나', '민영', '은지'],\n",
    "    '나이' : [30, 28, 31, 29],\n",
    "    '생일' : ['1991.5.2', '1993.4.6', '1990.9.12', '1992.7.19'] }\n",
    "index_data = ['하나', '둘', '셋', '넷']\n",
    "df = pd.DataFrame(data=data, index=index_data)\n",
    "df\n"
   ]
  },
  {
   "cell_type": "code",
   "execution_count": 100,
   "metadata": {},
   "outputs": [
    {
     "ename": "ValueError",
     "evalue": "Location based indexing can only have [integer, integer slice (START point is INCLUDED, END point is EXCLUDED), listlike of integers, boolean array] types",
     "output_type": "error",
     "traceback": [
      "\u001b[1;31m---------------------------------------------------------------------------\u001b[0m",
      "\u001b[1;31mValueError\u001b[0m                                Traceback (most recent call last)",
      "File \u001b[1;32mc:\\anaconda3\\Lib\\site-packages\\pandas\\core\\indexing.py:966\u001b[0m, in \u001b[0;36m_LocationIndexer._validate_tuple_indexer\u001b[1;34m(self, key)\u001b[0m\n\u001b[0;32m    965\u001b[0m \u001b[38;5;28;01mtry\u001b[39;00m:\n\u001b[1;32m--> 966\u001b[0m     \u001b[38;5;28mself\u001b[39m\u001b[38;5;241m.\u001b[39m_validate_key(k, i)\n\u001b[0;32m    967\u001b[0m \u001b[38;5;28;01mexcept\u001b[39;00m \u001b[38;5;167;01mValueError\u001b[39;00m \u001b[38;5;28;01mas\u001b[39;00m err:\n",
      "File \u001b[1;32mc:\\anaconda3\\Lib\\site-packages\\pandas\\core\\indexing.py:1614\u001b[0m, in \u001b[0;36m_iLocIndexer._validate_key\u001b[1;34m(self, key, axis)\u001b[0m\n\u001b[0;32m   1613\u001b[0m \u001b[38;5;28;01melse\u001b[39;00m:\n\u001b[1;32m-> 1614\u001b[0m     \u001b[38;5;28;01mraise\u001b[39;00m \u001b[38;5;167;01mValueError\u001b[39;00m(\u001b[38;5;124mf\u001b[39m\u001b[38;5;124m\"\u001b[39m\u001b[38;5;124mCan only index by location with a [\u001b[39m\u001b[38;5;132;01m{\u001b[39;00m\u001b[38;5;28mself\u001b[39m\u001b[38;5;241m.\u001b[39m_valid_types\u001b[38;5;132;01m}\u001b[39;00m\u001b[38;5;124m]\u001b[39m\u001b[38;5;124m\"\u001b[39m)\n",
      "\u001b[1;31mValueError\u001b[0m: Can only index by location with a [integer, integer slice (START point is INCLUDED, END point is EXCLUDED), listlike of integers, boolean array]",
      "\nThe above exception was the direct cause of the following exception:\n",
      "\u001b[1;31mValueError\u001b[0m                                Traceback (most recent call last)",
      "Cell \u001b[1;32mIn[100], line 2\u001b[0m\n\u001b[0;32m      1\u001b[0m df\u001b[38;5;241m.\u001b[39mloc[\u001b[38;5;124m'\u001b[39m\u001b[38;5;124m셋\u001b[39m\u001b[38;5;124m'\u001b[39m, \u001b[38;5;124m'\u001b[39m\u001b[38;5;124m이름\u001b[39m\u001b[38;5;124m'\u001b[39m]\n\u001b[1;32m----> 2\u001b[0m df\u001b[38;5;241m.\u001b[39miloc[\u001b[38;5;124m'\u001b[39m\u001b[38;5;124m셋\u001b[39m\u001b[38;5;124m'\u001b[39m, \u001b[38;5;124m'\u001b[39m\u001b[38;5;124m이름\u001b[39m\u001b[38;5;124m'\u001b[39m]\n",
      "File \u001b[1;32mc:\\anaconda3\\Lib\\site-packages\\pandas\\core\\indexing.py:1184\u001b[0m, in \u001b[0;36m_LocationIndexer.__getitem__\u001b[1;34m(self, key)\u001b[0m\n\u001b[0;32m   1182\u001b[0m     \u001b[38;5;28;01mif\u001b[39;00m \u001b[38;5;28mself\u001b[39m\u001b[38;5;241m.\u001b[39m_is_scalar_access(key):\n\u001b[0;32m   1183\u001b[0m         \u001b[38;5;28;01mreturn\u001b[39;00m \u001b[38;5;28mself\u001b[39m\u001b[38;5;241m.\u001b[39mobj\u001b[38;5;241m.\u001b[39m_get_value(\u001b[38;5;241m*\u001b[39mkey, takeable\u001b[38;5;241m=\u001b[39m\u001b[38;5;28mself\u001b[39m\u001b[38;5;241m.\u001b[39m_takeable)\n\u001b[1;32m-> 1184\u001b[0m     \u001b[38;5;28;01mreturn\u001b[39;00m \u001b[38;5;28mself\u001b[39m\u001b[38;5;241m.\u001b[39m_getitem_tuple(key)\n\u001b[0;32m   1185\u001b[0m \u001b[38;5;28;01melse\u001b[39;00m:\n\u001b[0;32m   1186\u001b[0m     \u001b[38;5;66;03m# we by definition only have the 0th axis\u001b[39;00m\n\u001b[0;32m   1187\u001b[0m     axis \u001b[38;5;241m=\u001b[39m \u001b[38;5;28mself\u001b[39m\u001b[38;5;241m.\u001b[39maxis \u001b[38;5;129;01mor\u001b[39;00m \u001b[38;5;241m0\u001b[39m\n",
      "File \u001b[1;32mc:\\anaconda3\\Lib\\site-packages\\pandas\\core\\indexing.py:1690\u001b[0m, in \u001b[0;36m_iLocIndexer._getitem_tuple\u001b[1;34m(self, tup)\u001b[0m\n\u001b[0;32m   1689\u001b[0m \u001b[38;5;28;01mdef\u001b[39;00m \u001b[38;5;21m_getitem_tuple\u001b[39m(\u001b[38;5;28mself\u001b[39m, tup: \u001b[38;5;28mtuple\u001b[39m):\n\u001b[1;32m-> 1690\u001b[0m     tup \u001b[38;5;241m=\u001b[39m \u001b[38;5;28mself\u001b[39m\u001b[38;5;241m.\u001b[39m_validate_tuple_indexer(tup)\n\u001b[0;32m   1691\u001b[0m     \u001b[38;5;28;01mwith\u001b[39;00m suppress(IndexingError):\n\u001b[0;32m   1692\u001b[0m         \u001b[38;5;28;01mreturn\u001b[39;00m \u001b[38;5;28mself\u001b[39m\u001b[38;5;241m.\u001b[39m_getitem_lowerdim(tup)\n",
      "File \u001b[1;32mc:\\anaconda3\\Lib\\site-packages\\pandas\\core\\indexing.py:968\u001b[0m, in \u001b[0;36m_LocationIndexer._validate_tuple_indexer\u001b[1;34m(self, key)\u001b[0m\n\u001b[0;32m    966\u001b[0m         \u001b[38;5;28mself\u001b[39m\u001b[38;5;241m.\u001b[39m_validate_key(k, i)\n\u001b[0;32m    967\u001b[0m     \u001b[38;5;28;01mexcept\u001b[39;00m \u001b[38;5;167;01mValueError\u001b[39;00m \u001b[38;5;28;01mas\u001b[39;00m err:\n\u001b[1;32m--> 968\u001b[0m         \u001b[38;5;28;01mraise\u001b[39;00m \u001b[38;5;167;01mValueError\u001b[39;00m(\n\u001b[0;32m    969\u001b[0m             \u001b[38;5;124m\"\u001b[39m\u001b[38;5;124mLocation based indexing can only have \u001b[39m\u001b[38;5;124m\"\u001b[39m\n\u001b[0;32m    970\u001b[0m             \u001b[38;5;124mf\u001b[39m\u001b[38;5;124m\"\u001b[39m\u001b[38;5;124m[\u001b[39m\u001b[38;5;132;01m{\u001b[39;00m\u001b[38;5;28mself\u001b[39m\u001b[38;5;241m.\u001b[39m_valid_types\u001b[38;5;132;01m}\u001b[39;00m\u001b[38;5;124m] types\u001b[39m\u001b[38;5;124m\"\u001b[39m\n\u001b[0;32m    971\u001b[0m         ) \u001b[38;5;28;01mfrom\u001b[39;00m \u001b[38;5;21;01merr\u001b[39;00m\n\u001b[0;32m    972\u001b[0m \u001b[38;5;28;01mreturn\u001b[39;00m key\n",
      "\u001b[1;31mValueError\u001b[0m: Location based indexing can only have [integer, integer slice (START point is INCLUDED, END point is EXCLUDED), listlike of integers, boolean array] types"
     ]
    }
   ],
   "source": [
    "df.loc['셋', '이름']\n",
    "df.iloc['셋', '이름']"
   ]
  },
  {
   "cell_type": "code",
   "execution_count": 89,
   "metadata": {},
   "outputs": [
    {
     "data": {
      "text/plain": [
       "[<matplotlib.lines.Line2D at 0x19647706540>]"
      ]
     },
     "execution_count": 89,
     "metadata": {},
     "output_type": "execute_result"
    },
    {
     "data": {
      "image/png": "[encoded data removed]",
      "text/plain": [
       "<Figure size 640x480 with 1 Axes>"
      ]
     },
     "metadata": {},
     "output_type": "display_data"
    }
   ],
   "source": [
    "import matplotlib.pyplot as plt\n",
    "# plt.plot( 10, 10000, linecolor='green', linestyle=':', dottype='o')\n",
    "\n",
    "plt.plot( 10, 10000, color='green', linestyle=':', marker='o')\n",
    "# plt.plot( 10, 10000, linecolor='green', linestyle=':', dottype='o')"
   ]
  },
  {
   "cell_type": "code",
   "execution_count": 96,
   "metadata": {},
   "outputs": [
    {
     "data": {
      "text/html": [
       "<div>\n",
       "<style scoped>\n",
       "    .dataframe tbody tr th:only-of-type {\n",
       "        vertical-align: middle;\n",
       "    }\n",
       "\n",
       "    .dataframe tbody tr th {\n",
       "        vertical-align: top;\n",
       "    }\n",
       "\n",
       "    .dataframe thead th {\n",
       "        text-align: right;\n",
       "    }\n",
       "</style>\n",
       "<table border=\"1\" class=\"dataframe\">\n",
       "  <thead>\n",
       "    <tr style=\"text-align: right;\">\n",
       "      <th></th>\n",
       "      <th>0</th>\n",
       "      <th>1</th>\n",
       "      <th>2</th>\n",
       "      <th>3</th>\n",
       "    </tr>\n",
       "  </thead>\n",
       "  <tbody>\n",
       "    <tr>\n",
       "      <th></th>\n",
       "      <td>하나</td>\n",
       "      <td>유정</td>\n",
       "      <td>30</td>\n",
       "      <td>1991.5.2</td>\n",
       "    </tr>\n",
       "    <tr>\n",
       "      <th>이름</th>\n",
       "      <td>둘</td>\n",
       "      <td>유나</td>\n",
       "      <td>28</td>\n",
       "      <td>1993.4.6</td>\n",
       "    </tr>\n",
       "    <tr>\n",
       "      <th>나이</th>\n",
       "      <td>셋</td>\n",
       "      <td>민영</td>\n",
       "      <td>31</td>\n",
       "      <td>1990.9.12</td>\n",
       "    </tr>\n",
       "    <tr>\n",
       "      <th>생일</th>\n",
       "      <td>넷</td>\n",
       "      <td>은지</td>\n",
       "      <td>29</td>\n",
       "      <td>1992.7.19</td>\n",
       "    </tr>\n",
       "  </tbody>\n",
       "</table>\n",
       "</div>"
      ],
      "text/plain": [
       "     0   1   2          3\n",
       "    하나  유정  30   1991.5.2\n",
       "이름   둘  유나  28   1993.4.6\n",
       "나이   셋  민영  31  1990.9.12\n",
       "생일   넷  은지  29  1992.7.19"
      ]
     },
     "execution_count": 96,
     "metadata": {},
     "output_type": "execute_result"
    }
   ],
   "source": [
    "    #  이름 나이 생일\n",
    "arr1 = np.array([\n",
    "    ['하나', '유정', 30 ,  '1991.5.2'],\n",
    "    ['둘',   '유나', 28 ,  '1993.4.6'],\n",
    "    ['셋',   '민영', 31 ,  '1990.9.12'],\n",
    "    ['넷',   '은지', 29 ,  '1992.7.19']\n",
    "])\n",
    "idx = ['','이름', '나이', '생일']\n",
    "pd.DataFrame(arr1, index=idx)"
   ]
  },
  {
   "cell_type": "code",
   "execution_count": null,
   "metadata": {},
   "outputs": [],
   "source": [
    "import turtle\n",
    "import random\n",
    "\n",
    "## 함수 선언 부분 ##\n",
    "def  screenRightClick(x,y):\n",
    "    tSize = random.randrange(2,10)\n",
    "    turtle.shapesize(tSize)\n",
    "    r = random.random()\n",
    "    g = random.random()\n",
    "    b = random.random()\n",
    "    turtle.color((r, g, b))\n",
    "    tAngle = random.randrange(0, 360)\n",
    "    turtle.pendown()\n",
    "    turtle.goto(x,y)\n",
    "    turtle.left(tAngle)\n",
    "    turtle.stamp()\n",
    "\n",
    "## 변수 선언 부분 ##\n",
    "tSize, tAngle = 0, 0\n",
    "r, g, b = 0.0, 0.0, 0.0\n",
    "\n",
    "## 메인 코드 부분 ##\n",
    "turtle.title('거북이 도장 찍기')\n",
    "turtle.shape('turtle')\n",
    "turtle.onscreenclick(screenRightClick,3)\n",
    "turtle.done() "
   ]
  },
  {
   "cell_type": "code",
   "execution_count": 3,
   "metadata": {},
   "outputs": [],
   "source": [
    "# (1) 대입 연산자   =\n",
    "# (2) 나누기(몫)    //\n",
    "# (3) 나머지 값    %\n",
    "# (4) 제곱        ** "
   ]
  },
  {
   "cell_type": "code",
   "execution_count": 5,
   "metadata": {},
   "outputs": [
    {
     "name": "stdout",
     "output_type": "stream",
     "text": [
      "100\n"
     ]
    }
   ],
   "source": [
    "num = 100\n",
    "num += 1\n",
    "num -= 1\n",
    "num *= 1\n",
    "num /= 1\n",
    "num = int(num)\n",
    "print(num)\n"
   ]
  },
  {
   "cell_type": "code",
   "execution_count": 11,
   "metadata": {},
   "outputs": [
    {
     "name": "stdout",
     "output_type": "stream",
     "text": [
      "True\n",
      "True\n",
      "True\n",
      "False\n"
     ]
    }
   ],
   "source": [
    "num1, num2 = 100, 100\n",
    "\n",
    "print(num1==num2)\n",
    "print(num1>=num2)\n",
    "print(num1<=num2)\n",
    "print(num1!=num2)"
   ]
  },
  {
   "cell_type": "code",
   "execution_count": 16,
   "metadata": {},
   "outputs": [
    {
     "name": "stdout",
     "output_type": "stream",
     "text": [
      "False True True True\n"
     ]
    }
   ],
   "source": [
    "num1, num2 = 100, 100\n",
    "\n",
    "print((num1==num2) and (num1 !=num2), \n",
    "(num1==num2) or (num1 !=num2),\n",
    "(num1>=num2) and (num1<=num2),\n",
    "(num1>=num2) or (num1<=num2))"
   ]
  },
  {
   "cell_type": "code",
   "execution_count": 18,
   "metadata": {},
   "outputs": [
    {
     "name": "stdout",
     "output_type": "stream",
     "text": [
      "케이스2 케이스3 "
     ]
    }
   ],
   "source": [
    "num = 0\n",
    "if num > 0 :\n",
    "    print(\"케이스1\", end = ' ')\n",
    "else :\n",
    "    print(\"케이스2\", end = ' ')\n",
    "print(\"케이스3\", end = ' ')\n"
   ]
  },
  {
   "cell_type": "code",
   "execution_count": 19,
   "metadata": {},
   "outputs": [
    {
     "name": "stdout",
     "output_type": "stream",
     "text": [
      "합격입니다. ^^\n"
     ]
    }
   ],
   "source": [
    "score = int(input(\"점수를 입력하세요 : \"))\n",
    "\n",
    "if score >= 90 :\n",
    "    print(\"장학생\", end='')\n",
    "elif score >= 60 :\n",
    "    print(\"합격\", end='')\n",
    "else :\n",
    "    print(\"불합격\", end='')\n",
    "\n",
    "print(\"입니다. ^^\")"
   ]
  },
  {
   "cell_type": "code",
   "execution_count": 20,
   "metadata": {},
   "outputs": [
    {
     "name": "stdout",
     "output_type": "stream",
     "text": [
      "101\n"
     ]
    }
   ],
   "source": [
    "sum = 0\n",
    "for i in range(0, 101, 1):\n",
    "    sum += 1\n",
    "print(sum)"
   ]
  },
  {
   "cell_type": "code",
   "execution_count": 23,
   "metadata": {},
   "outputs": [
    {
     "name": "stdout",
     "output_type": "stream",
     "text": [
      "5\n",
      "4\n",
      "3\n",
      "2\n",
      "1\n",
      "0\n"
     ]
    }
   ],
   "source": [
    "for i in range(5, -1, -1) :\n",
    "    print(\"%d\" %i)\n"
   ]
  },
  {
   "cell_type": "code",
   "execution_count": 25,
   "metadata": {},
   "outputs": [
    {
     "name": "stdout",
     "output_type": "stream",
     "text": [
      "100500\n"
     ]
    }
   ],
   "source": [
    "hap = 0\n",
    "for i in range(0, 1001, 5) :\n",
    "    hap += i\n",
    "print(hap)\n"
   ]
  },
  {
   "cell_type": "code",
   "execution_count": 27,
   "metadata": {},
   "outputs": [
    {
     "name": "stdout",
     "output_type": "stream",
     "text": [
      "97063\n"
     ]
    }
   ],
   "source": [
    "hap = 0\n",
    "for i in range(3333, 9999, 1) :\n",
    "    if i%1234 == 0 :\n",
    "        continue\n",
    "    if hap+i > 100000 :\n",
    "        break\n",
    "    hap += i\n",
    "print (hap)\n"
   ]
  },
  {
   "cell_type": "code",
   "execution_count": 29,
   "metadata": {},
   "outputs": [
    {
     "name": "stdout",
     "output_type": "stream",
     "text": [
      "3  5  7  11  13  17  19  23  29  31  37  41  43  47  53  59  61  67  71  73  79  83  89  97  "
     ]
    }
   ],
   "source": [
    "# 3부터 100까지의 숫자 중 소수(Prime Number)를 출력하는 코드\n",
    "hap = 0\n",
    "for n in range(3, 101, 1) :\n",
    "    sosuYN = True\n",
    "    for i in range(2, n, 1 ) :\n",
    "        if n%i == 0 :\n",
    "            sosuYN = False\n",
    "    if sosuYN :\n",
    "        print(n, end='  ')\n"
   ]
  },
  {
   "cell_type": "code",
   "execution_count": 33,
   "metadata": {},
   "outputs": [
    {
     "name": "stdout",
     "output_type": "stream",
     "text": [
      "397\n"
     ]
    }
   ],
   "source": [
    "import random\n",
    "nn = []\n",
    "for _ in range(10) :\n",
    "    num = random.randrange(1, 100)\n",
    "    nn.append(num)\n",
    "hap = 0\n",
    "for i in range(10):\n",
    "    num = nn[i]\n",
    "    hap += num\n",
    "print(hap)"
   ]
  },
  {
   "cell_type": "code",
   "execution_count": 52,
   "metadata": {},
   "outputs": [
    {
     "name": "stdout",
     "output_type": "stream",
     "text": [
      "[1, 2, 3, 4]\n",
      "[4, 3, 2, 1]\n"
     ]
    }
   ],
   "source": [
    "ary1 = [ 1, 2, 3, 4 ]\n",
    "ary2 = []\n",
    "\n",
    "\n",
    "for i in range(len(ary1)-1, -1, -1) :\n",
    "    ary2.append(ary1[i])\n",
    "\n",
    "print(ary1)\n",
    "print(ary2)\n"
   ]
  },
  {
   "cell_type": "code",
   "execution_count": 53,
   "metadata": {},
   "outputs": [],
   "source": [
    "# (1) 리스트의 전체 개수를 센다. len()\n",
    "# (2) 두 리스트를 연결한다. extend()\n",
    "# (3) 리스트 맨 뒤의 항목을 추출한다. pop()\n",
    "# (4) 지정한 값을 찾아서 위치를 알아낸다. index()\n",
    "# (5) 리스트에서 특정 값의 개수를 센다. count()"
   ]
  },
  {
   "cell_type": "code",
   "execution_count": 58,
   "metadata": {},
   "outputs": [
    {
     "ename": "AttributeError",
     "evalue": "'tuple' object has no attribute 'insert'",
     "output_type": "error",
     "traceback": [
      "\u001b[1;31m---------------------------------------------------------------------------\u001b[0m",
      "\u001b[1;31mAttributeError\u001b[0m                            Traceback (most recent call last)",
      "Cell \u001b[1;32mIn[58], line 2\u001b[0m\n\u001b[0;32m      1\u001b[0m tu1 \u001b[38;5;241m=\u001b[39m (\u001b[38;5;241m1\u001b[39m, \u001b[38;5;241m2\u001b[39m)\n\u001b[1;32m----> 2\u001b[0m tu1\u001b[38;5;241m.\u001b[39minsert(\u001b[38;5;241m2\u001b[39m, \u001b[38;5;241m4\u001b[39m)\n",
      "\u001b[1;31mAttributeError\u001b[0m: 'tuple' object has no attribute 'insert'"
     ]
    }
   ],
   "source": [
    "tu1 = (1, 2)\n",
    "tu1.insert(2, 4)"
   ]
  },
  {
   "cell_type": "code",
   "execution_count": 63,
   "metadata": {},
   "outputs": [
    {
     "data": {
      "text/plain": [
       "{'a': 1, 'b': 2, 'c': 3, 'd': 4, 'e': 5}"
      ]
     },
     "execution_count": 63,
     "metadata": {},
     "output_type": "execute_result"
    }
   ],
   "source": [
    "dic1 = {\n",
    "    'a':1,\n",
    "    'b':2,\n",
    "    'c':3,\n",
    "    'd':4\n",
    "}\n",
    "\n",
    "# dic1.append({'e': 5})\n",
    "dic1['e'] = 5\n",
    "dic1"
   ]
  },
  {
   "cell_type": "code",
   "execution_count": 74,
   "metadata": {},
   "outputs": [
    {
     "data": {
      "text/plain": [
       "8"
      ]
     },
     "execution_count": 74,
     "metadata": {},
     "output_type": "execute_result"
    }
   ],
   "source": [
    "import numpy as np\n",
    "# myData = [ [ n * m for n in range(1, 3) ] for m in range(2, 4)]\n",
    "myData = [ m for m in range(2, 4)]\n",
    "myData \n",
    "\n",
    "# [ n for n in range(1, 3)] \n",
    "a= [1, 2]\n",
    "b= [2, 3]\n",
    "a1 = np.array(a)\n",
    "b1 = np.array(b)\n",
    "a1.dot(b1)"
   ]
  },
  {
   "cell_type": "code",
   "execution_count": 76,
   "metadata": {},
   "outputs": [],
   "source": [
    "# (1) 리스트의 뒤에 리스트를 추가한다.  extend()\n",
    "# (2) 리스트에서 지정한 값을 제거한다.  remove()\n",
    "# (3) 리스트 항목의 순서를 역순으로 만든다.  reverse()\n",
    "# (4) 리스트 맨 뒤의 항목을 빼내고, 빼낸 항목은 삭제한다.  pop()\n"
   ]
  },
  {
   "cell_type": "code",
   "execution_count": 78,
   "metadata": {},
   "outputs": [],
   "source": [
    "# myList = [ [1,  2,  3,  4]\n",
    "#           [5,  6,  7,  8]\n",
    "#           [9, 10, 11, 12] ]\n",
    "\n",
    "# myList[0][1]    2\n",
    "# myList[1][3]    8\n",
    "# myList[2]       [9, 10, 11, 12]\n",
    "\n"
   ]
  },
  {
   "cell_type": "code",
   "execution_count": 83,
   "metadata": {},
   "outputs": [
    {
     "name": "stdout",
     "output_type": "stream",
     "text": [
      "I\n",
      "T\n",
      "IT_CookBoo\n",
      "IT_C\n"
     ]
    }
   ],
   "source": [
    "ss='IT_CookBook'\n",
    "print(ss[0] )\n",
    "print(ss[1:2])\n",
    "print(ss[0:-1])\n",
    "print(ss[:4])\n"
   ]
  },
  {
   "cell_type": "code",
   "execution_count": 87,
   "metadata": {},
   "outputs": [
    {
     "name": "stdout",
     "output_type": "stream",
     "text": [
      "원본 내용 --> IT_CookBook_Python\n",
      "변경 내용 --> n#h#y#_#o#B#o#C#T#\n"
     ]
    }
   ],
   "source": [
    "inStr ='IT_CookBook_Python'\n",
    "outStr = ''\n",
    "for i in range(0, len(inStr)) :\n",
    "    if i%2 == 0 :\n",
    "        outStr += inStr[len(inStr) - (i + 1)] \n",
    "    else :\n",
    "        outStr += '#'\n",
    "print(\"원본 내용 -->\", inStr)\n",
    "print(\"변경 내용 -->\", outStr)\n"
   ]
  },
  {
   "cell_type": "code",
   "execution_count": 88,
   "metadata": {},
   "outputs": [],
   "source": [
    "# (1) 각 단어의 첫 글자를 대문자로 변경 title()\n",
    "# (2) 모두 영문 대문자로 변경           upper()\n",
    "# (3) 영문 대소문자를 상호 변경         swapcase()\n",
    "# (4) 모두 영문 소문자로 변경           lower()\n"
   ]
  },
  {
   "cell_type": "code",
   "execution_count": 90,
   "metadata": {},
   "outputs": [
    {
     "name": "stdout",
     "output_type": "stream",
     "text": [
      "3\n",
      "22\n",
      "True\n",
      "7\n"
     ]
    }
   ],
   "source": [
    "str1 = \"코딩 중에서 파이썬 코딩이 가장 즐거운 코딩\" # 총 24글자\n",
    "print(str1.count('코딩')      )\n",
    "print(str1.rfind('코딩')      )\n",
    "print(str1.startswith('코딩') )\n",
    "print(str1.find('파이썬')     )\n"
   ]
  },
  {
   "cell_type": "code",
   "execution_count": 92,
   "metadata": {},
   "outputs": [
    {
     "name": "stdout",
     "output_type": "stream",
     "text": [
      "대문자 : \n",
      "소문자: \n",
      "숫자: 4\n",
      "한글: \n",
      "기타: \n"
     ]
    }
   ],
   "source": [
    "## 변수 선언 부분 ##\n",
    "numStr, lowerStr, upperStr, hanStr, etcStr = [''] * 5\n",
    "ch = \"\"\n",
    "\n",
    "## 메인 코드 부분\n",
    "inStr = input(\"문자열을 입력하세요 : \")\n",
    "\n",
    "for ch in inStr :\n",
    "    if ( ord(ch) >= ord(\"A\") and ord(ch) <= ord(\"Z\")) :\n",
    "        upperStr += ch\n",
    "    elif ( ord(ch) >= ord(\"a\") and ord(ch) <= ord(\"z\")) :\n",
    "        lowerStr += ch\n",
    "    elif ( ord(ch) >= ord(\"0\") and ord(ch) <= ord(\"9\")) :\n",
    "        numStr += ch\n",
    "    elif ( ord(ch) >= ord(\"가\") and ord(ch) <= ord(\"힣\")) :\n",
    "        hanStr += ch\n",
    "    else :\n",
    "        etcStr += ch\n",
    "\n",
    "print(\"대문자 :\", upperStr)\n",
    "print(\"소문자:\", lowerStr)\n",
    "print(\"숫자:\", numStr)\n",
    "print(\"한글:\", hanStr)\n",
    "print(\"기타:\", etcStr)\n"
   ]
  },
  {
   "cell_type": "code",
   "execution_count": 94,
   "metadata": {},
   "outputs": [
    {
     "name": "stdout",
     "output_type": "stream",
     "text": [
      "600\n"
     ]
    }
   ],
   "source": [
    "def plus ( v1, v2, v3  ) :\n",
    "    result = 0\n",
    "    result = v1 + v2 + v3\n",
    "    return result\n",
    "hap = plus(100, 200, 300)\n",
    "print(hap)\n"
   ]
  },
  {
   "cell_type": "code",
   "execution_count": 99,
   "metadata": {},
   "outputs": [
    {
     "name": "stdout",
     "output_type": "stream",
     "text": [
      "100\n",
      "10\n"
     ]
    }
   ],
   "source": [
    "def f1() :\n",
    "    print(var)\n",
    "\n",
    "def f2() : \n",
    "    var = 10\n",
    "    print(var)\n",
    "\n",
    "var = 100\n",
    "f1()\n",
    "f2()\n"
   ]
  },
  {
   "cell_type": "code",
   "execution_count": 100,
   "metadata": {},
   "outputs": [],
   "source": [
    "# pass 예약어"
   ]
  },
  {
   "cell_type": "code",
   "execution_count": 105,
   "metadata": {},
   "outputs": [
    {
     "data": {
      "text/plain": [
       "0"
      ]
     },
     "execution_count": 105,
     "metadata": {},
     "output_type": "execute_result"
    }
   ],
   "source": [
    "def func(v1, v2 = 0, v3 = 0) :\n",
    "    result = 0\n",
    "    result = v1 + v2 + v3\n",
    "    return result\n",
    "\n",
    "func(0,0,0)\n"
   ]
  },
  {
   "cell_type": "code",
   "execution_count": 1,
   "metadata": {},
   "outputs": [
    {
     "ename": "SyntaxError",
     "evalue": "invalid syntax (2854996963.py, line 4)",
     "output_type": "error",
     "traceback": [
      "\u001b[1;36m  Cell \u001b[1;32mIn[1], line 4\u001b[1;36m\u001b[0m\n\u001b[1;33m    window.     1     (\"연습 문제\")\u001b[0m\n\u001b[1;37m                ^\u001b[0m\n\u001b[1;31mSyntaxError\u001b[0m\u001b[1;31m:\u001b[0m invalid syntax\n"
     ]
    }
   ],
   "source": [
    "from tkinter import *\n",
    "\n",
    "window = Tk()\n",
    "window.     1     (\"연습 문제\")\n",
    "window.     2     (\"400x100\")\n",
    "window.     3     (width = FALSE, height = FALSE)\n",
    "\n",
    "label1 = Label(window, text = \"COOKBOOK~~ Python을 학습중...\", font = (\"궁서체\", 15), fg = \"red\")\n",
    "\n",
    "label1.     4     ();\n",
    "\n",
    "window.     5     ()\n"
   ]
  },
  {
   "cell_type": "code",
   "execution_count": 3,
   "metadata": {},
   "outputs": [
    {
     "name": "stdout",
     "output_type": "stream",
     "text": [
      "[[210, 210], [200, 200]]\n"
     ]
    }
   ],
   "source": [
    "matrix_a = [[1,2,3,5],\n",
    "            [1,2,3,4]]\n",
    "matrix_b = [[40,40], \n",
    "            [30,30], \n",
    "            [20,20], \n",
    "            [10,10]]\n",
    "\n",
    "matrix_a = [[1,2,3,5], [1,2,3,4]]\n",
    "matrix_b = [[40,40], [30,30], [20,20], [10,10]]\n",
    "print([[sum([t[0]*t[1] for t in zip(i,j)]) for j in zip(*matrix_b)] for i in matrix_a])\n",
    "# for i in matrix_a: \n",
    "#     print(\n",
    "#         [\n",
    "#             [\n",
    "#                 sum(\n",
    "#                     [t[0] * t[1] for t in zip( i , j )]\n",
    "#                 ) \n",
    "#                 for j in zip( *matrix_b )             \n",
    "#             ] \n",
    "#             for i in matrix_a\n",
    "#         ]\n",
    "#     )"
   ]
  },
  {
   "cell_type": "code",
   "execution_count": 9,
   "metadata": {},
   "outputs": [
    {
     "name": "stdout",
     "output_type": "stream",
     "text": [
      "[[12, 3], [15, 3], [18, 3]]\n"
     ]
    }
   ],
   "source": [
    "a = [1, 2, 3]\n",
    "b = [4, 5, 6]\n",
    "c = [7, 8, 9]\n",
    "print([[sum(k), len(k)] for k in zip(a, b, c)])"
   ]
  },
  {
   "cell_type": "code",
   "execution_count": 5,
   "metadata": {},
   "outputs": [
    {
     "data": {
      "text/plain": [
       "[(1, 2, 3), (4, 5, 6), (7, 8, 9)]"
      ]
     },
     "execution_count": 5,
     "metadata": {},
     "output_type": "execute_result"
    }
   ],
   "source": [
    "def transpose_list(two_dimensional_list):\n",
    "    return [row for row in zip(*two_dimensional_list)]\n",
    "transpose_list([[1, 4, 7], [2, 5, 8], [3, 6, 9]])\n"
   ]
  },
  {
   "cell_type": "code",
   "execution_count": 6,
   "metadata": {},
   "outputs": [
    {
     "data": {
      "text/plain": [
       "'2019-9-6'"
      ]
     },
     "execution_count": 6,
     "metadata": {},
     "output_type": "execute_result"
    }
   ],
   "source": [
    "date_info = {'year': \"2019\", 'month': \"9\", 'day': \"6\"}\n",
    "result = \"{year}-{month}-{day}\".format(**date_info)\n",
    "result "
   ]
  },
  {
   "cell_type": "code",
   "execution_count": 7,
   "metadata": {},
   "outputs": [],
   "source": [
    "# n개의 벡터의 크기가 동일한지 확인하는 함수를 한 줄의 코드로 작성하시오.\n",
    "def vector_size_check(*vector_variables):\n",
    "    return len( set([ len(i) for i in vector_variables])) == 1"
   ]
  },
  {
   "cell_type": "code",
   "execution_count": 17,
   "metadata": {},
   "outputs": [
    {
     "data": {
      "text/plain": [
       "[5, 10, 15, 20]"
      ]
     },
     "execution_count": 17,
     "metadata": {},
     "output_type": "execute_result"
    }
   ],
   "source": [
    "# 07. 다음과 같은 결과를 얻기 위해 하나의 스칼라값을 벡터에 곱하는 코드를 작성하시\n",
    "# 오.(단 입력되는 벡터의 크기는 일정하지 않음)\n",
    "\n",
    "def scalar_vector_product(prm1, prm2):\n",
    "    result = []\n",
    "    for i in prm2:\n",
    "        result.append(prm1 * i)\n",
    "    return result\n",
    "\n",
    "# >>> scalar_vector_product(5, [1, 2, 3, 4])\n",
    "# [5, 10, 15, 20]\n",
    "scalar_vector_product(5, [1, 2, 3, 4])"
   ]
  },
  {
   "cell_type": "code",
   "execution_count": null,
   "metadata": {},
   "outputs": [],
   "source": []
  }
 ],
 "metadata": {
  "kernelspec": {
   "display_name": "base",
   "language": "python",
   "name": "python3"
  },
  "language_info": {
   "codemirror_mode": {
    "name": "ipython",
    "version": 3
   },
   "file_extension": ".py",
   "mimetype": "text/x-python",
   "name": "python",
   "nbconvert_exporter": "python",
   "pygments_lexer": "ipython3",
   "version": "3.12.4"
  }
 },
 "nbformat": 4,
 "nbformat_minor": 2
}
