{
 "cells": [
  {
   "cell_type": "code",
   "execution_count": 1,
   "metadata": {},
   "outputs": [
    {
     "name": "stdout",
     "output_type": "stream",
     "text": [
      "Testing on /CPU:0\n"
     ]
    },
    {
     "name": "stderr",
     "output_type": "stream",
     "text": [
      "c:\\anaconda3\\envs\\nlpdl\\Lib\\site-packages\\keras\\src\\layers\\core\\dense.py:87: UserWarning: Do not pass an `input_shape`/`input_dim` argument to a layer. When using Sequential models, prefer using an `Input(shape)` object as the first layer in the model instead.\n",
      "  super().__init__(activity_regularizer=activity_regularizer, **kwargs)\n"
     ]
    },
    {
     "name": "stdout",
     "output_type": "stream",
     "text": [
      "Epoch 1/5\n",
      "469/469 - 3s - 7ms/step - accuracy: 0.9342 - loss: 0.2216\n",
      "Epoch 2/5\n",
      "469/469 - 2s - 5ms/step - accuracy: 0.9760 - loss: 0.0793\n",
      "Epoch 3/5\n",
      "469/469 - 2s - 5ms/step - accuracy: 0.9842 - loss: 0.0510\n",
      "Epoch 4/5\n",
      "469/469 - 2s - 5ms/step - accuracy: 0.9884 - loss: 0.0351\n",
      "Epoch 5/5\n",
      "469/469 - 2s - 4ms/step - accuracy: 0.9919 - loss: 0.0261\n",
      "/CPU:0 training time: 12.12 seconds\n",
      "No GPU found, skipping GPU test.\n"
     ]
    }
   ],
   "source": [
    "import tensorflow as tf\n",
    "import time\n",
    "\n",
    "# 간단한 모델 정의 함수\n",
    "def build_model():\n",
    "    model = tf.keras.Sequential([\n",
    "        tf.keras.layers.Dense(512, activation='relu', input_shape=(784,)),\n",
    "        tf.keras.layers.Dense(512, activation='relu'),\n",
    "        tf.keras.layers.Dense(10, activation='softmax')\n",
    "    ])\n",
    "    model.compile(optimizer='adam',\n",
    "                  loss='sparse_categorical_crossentropy',\n",
    "                  metrics=['accuracy'])\n",
    "    return model\n",
    "\n",
    "# MNIST 데이터셋 로드\n",
    "def load_data():\n",
    "    (x_train, y_train), (x_test, y_test) = tf.keras.datasets.mnist.load_data()\n",
    "    x_train = x_train.reshape(-1, 784).astype('float32') / 255.0\n",
    "    x_test = x_test.reshape(-1, 784).astype('float32') / 255.0\n",
    "    return x_train, y_train, x_test, y_test\n",
    "\n",
    "# 속도 테스트 함수\n",
    "def test_device(device_name):\n",
    "    print(f\"Testing on {device_name}\")\n",
    "    \n",
    "    # 장치 할당\n",
    "    with tf.device(device_name):\n",
    "        # 데이터 로드\n",
    "        x_train, y_train, x_test, y_test = load_data()\n",
    "\n",
    "        # 모델 빌드\n",
    "        model = build_model()\n",
    "\n",
    "        # 훈련 시간 측정\n",
    "        start_time = time.time()\n",
    "        model.fit(x_train, y_train, epochs=5, batch_size=128, verbose=2)\n",
    "        end_time = time.time()\n",
    "\n",
    "        # 훈련 시간 출력\n",
    "        print(f\"{device_name} training time: {end_time - start_time:.2f} seconds\")\n",
    "\n",
    "# CPU와 GPU에서 속도 테스트\n",
    "if __name__ == \"__main__\":\n",
    "    # CPU 속도 테스트\n",
    "    test_device(\"/CPU:0\")\n",
    "    \n",
    "    # GPU 속도 테스트 (만약 GPU가 없다면 자동으로 CPU로 돌아갑니다)\n",
    "    if tf.config.list_physical_devices('GPU'):\n",
    "        test_device(\"/GPU:0\")\n",
    "    else:\n",
    "        print(\"No GPU found, skipping GPU test.\")\n"
   ]
  },
  {
   "cell_type": "code",
   "execution_count": 1,
   "metadata": {},
   "outputs": [
    {
     "name": "stdout",
     "output_type": "stream",
     "text": [
      "No GPUs found. Check your installation.\n"
     ]
    }
   ],
   "source": [
    "import tensorflow as tf\n",
    "\n",
    "# GPU 장치 목록 확인\n",
    "gpus = tf.config.list_physical_devices('GPU')\n",
    "if gpus:\n",
    "    print(\"GPUs found:\")\n",
    "    for gpu in gpus: \n",
    "        print(gpu)\n",
    "else:\n",
    "    print(\"No GPUs found. Check your installation.\")"
   ]
  },
  {
   "cell_type": "code",
   "execution_count": null,
   "metadata": {},
   "outputs": [],
   "source": []
  }
 ],
 "metadata": {
  "kernelspec": {
   "display_name": "nlpdl",
   "language": "python",
   "name": "python3"
  },
  "language_info": {
   "codemirror_mode": {
    "name": "ipython",
    "version": 3
   },
   "file_extension": ".py",
   "mimetype": "text/x-python",
   "name": "python",
   "nbconvert_exporter": "python",
   "pygments_lexer": "ipython3",
   "version": "3.11.9"
  }
 },
 "nbformat": 4,
 "nbformat_minor": 2
}
