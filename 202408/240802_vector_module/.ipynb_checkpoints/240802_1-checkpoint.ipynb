{
 "cells": [
  {
   "cell_type": "code",
   "execution_count": 1,
   "metadata": {},
   "outputs": [],
   "source": [
    "# 이름 : John\n",
    "# 나이 : 22\n",
    "# 직위 : 연구원\n",
    "# 저는 한빛대학교 연구원 John입니다.나이는 22입니다.\n",
    "# 저는 학사 입니다.\n",
    "# ==========================================\n",
    "# 이름 : Tedd\n",
    "# 나이 : 40\n",
    "# 직위 : 소장\n",
    "# 저는 한빛대학교 소장 Tedd입니다.나이는 40입니다.\n",
    "# 저는 박사 입니다."
   ]
  },
  {
   "cell_type": "code",
   "execution_count": 1,
   "id": "6cd0d223",
   "metadata": {},
   "outputs": [
    {
     "name": "stdout",
     "output_type": "stream",
     "text": [
      "111234\n"
     ]
    }
   ],
   "source": [
    "import re \n",
    "\n",
    "text = '111234'\n",
    "com = re.compile(r'\\d\\w\\S...').search(text).group()\n",
    "print(com)  # 111234\n"
   ]
  },
  {
   "cell_type": "code",
   "execution_count": 2,
   "id": "9cd333c8",
   "metadata": {},
   "outputs": [
    {
     "name": "stdout",
     "output_type": "stream",
     "text": [
      "<li><a href=\"https://news.v.daum.net/v/20181126211257847\" class=\"link_txt\">&#39;\n",
      "판사 블랙리스트&#39; 없다던 법원 곤혹...&#39;고의 부실조사&#39; 의혹</a>\n",
      "</li>\n",
      "<li><a href=\"https://news.v.daum.net/v/20181126193835503\" class=\"link_txt\">中군\n",
      "용기, 3차례 KADIZ 진입후 이탈...정부, 엄중 항의</a>\n",
      "</li>\n",
      "<li><a href=\"https://news.v.daum.net/v/20181126201817082\" class=\"link_txt\n",
      "“>&#39;수수료 인하&#39; 자영업자 부담 줄고 소비자 & #39;혜택&#39;도 줄어드나</a>\n",
      "</li>\n",
      "<li><a href=\"https://news.v.daum.net/v/20181126201503029\" class=\"link_txt\">KT 화\n",
      "재 후 첫 평일...복구됐다지만 먹통 피해 여전</a>\n",
      "</li>\n",
      "<li><a href=\"https://news.v.daum.net/v/20181126203723330\" class=\"link_txt\">내일\n",
      "도 초미세먼지 &#39;나쁨&#39;...낮동안 온화</a>\n",
      "</li>\n"
     ]
    }
   ],
   "source": [
    "str = '''<li><a href=\"https://news.v.daum.net/v/20181126211257847\" class=\"link_txt\">&#39;\n",
    "판사 블랙리스트&#39; 없다던 법원 곤혹...&#39;고의 부실조사&#39; 의혹</a>\n",
    "</li>\n",
    "<li><a href=\"https://news.v.daum.net/v/20181126193835503\" class=\"link_txt\">中군\n",
    "용기, 3차례 KADIZ 진입후 이탈...정부, 엄중 항의</a>\n",
    "</li>\n",
    "<li><a href=\"https://news.v.daum.net/v/20181126201817082\" class=\"link_txt\n",
    "“>&#39;수수료 인하&#39; 자영업자 부담 줄고 소비자 & #39;혜택&#39;도 줄어드나</a>\n",
    "</li>\n",
    "<li><a href=\"https://news.v.daum.net/v/20181126201503029\" class=\"link_txt\">KT 화\n",
    "재 후 첫 평일...복구됐다지만 먹통 피해 여전</a>\n",
    "</li>\n",
    "<li><a href=\"https://news.v.daum.net/v/20181126203723330\" class=\"link_txt\">내일\n",
    "도 초미세먼지 &#39;나쁨&#39;...낮동안 온화</a>\n",
    "</li>'''\n",
    "\n",
    "print(str)"
   ]
  },
  {
   "cell_type": "code",
   "execution_count": 16,
   "id": "1f8128bf",
   "metadata": {},
   "outputs": [
    {
     "data": {
      "text/plain": [
       "\"'\\n판사 블랙리스트' 없다던 법원 곤혹...'고의 부실조사' 의혹\\n\\n中군\\n용기, 3차례 KADIZ 진입후 이탈...정부, 엄중 항의\\n\\nKT 화\\n재 후 첫 평일...복구됐다지만 먹통 피해 여전\\n\\n내일\\n도 초미세먼지 '나쁨'...낮동안 온화\\n\""
      ]
     },
     "execution_count": 16,
     "metadata": {},
     "output_type": "execute_result"
    }
   ],
   "source": [
    "\n",
    "\n",
    "# def cleanhtml(raw_html):\n",
    "#   cleanr = re.compile('<.*?>')\n",
    "#   cleantext = re.sub(cleanr, '', raw_html)\n",
    "#   return cleantext\n",
    "\n",
    "# def cleanhtml2(raw_html):\n",
    "#   cleanr = re.compile('<.*?>|&([a-z0-9]+|#[0-9]{1,6}|#x[0-9a-f]{1,6});')\n",
    "#   cleantext = re.sub(cleanr, '', raw_html)\n",
    "#   return cleantext\n",
    "\n",
    "\n",
    "# str2= cleanhtml2(str)\n",
    "# cleanhtml(str2)\n",
    "from bs4 import BeautifulSoup\n",
    "# from bs4 import SoupStrainer\n",
    "import re \n",
    "\n",
    "cleantext = BeautifulSoup(str, \"lxml\").text\n",
    "cleantext"
   ]
  },
  {
   "cell_type": "code",
   "execution_count": 21,
   "id": "cdb8eaf0",
   "metadata": {},
   "outputs": [
    {
     "ename": "JSONDecodeError",
     "evalue": "Expecting property name enclosed in double quotes: line 3 column 47 (char 137)",
     "output_type": "error",
     "traceback": [
      "\u001b[1;31m---------------------------------------------------------------------------\u001b[0m",
      "\u001b[1;31mJSONDecodeError\u001b[0m                           Traceback (most recent call last)",
      "Cell \u001b[1;32mIn[21], line 6\u001b[0m\n\u001b[0;32m      1\u001b[0m \u001b[38;5;28;01mimport\u001b[39;00m \u001b[38;5;21;01mjson\u001b[39;00m\n\u001b[0;32m      2\u001b[0m json_data \u001b[38;5;241m=\u001b[39m \u001b[38;5;124m'''\u001b[39m\u001b[38;5;124m{\u001b[39m\n\u001b[0;32m      3\u001b[0m \u001b[38;5;124m    \u001b[39m\u001b[38;5;124m\"\u001b[39m\u001b[38;5;124mid\u001b[39m\u001b[38;5;124m\"\u001b[39m\u001b[38;5;124m: 1, \u001b[39m\u001b[38;5;124m\"\u001b[39m\u001b[38;5;124mname\u001b[39m\u001b[38;5;124m\"\u001b[39m\u001b[38;5;124m: \u001b[39m\u001b[38;5;124m\"\u001b[39m\u001b[38;5;124mSungchul Choi\u001b[39m\u001b[38;5;124m\"\u001b[39m\u001b[38;5;124m, \u001b[39m\u001b[38;5;124m\"\u001b[39m\u001b[38;5;124muser_email\u001b[39m\u001b[38;5;124m\"\u001b[39m\u001b[38;5;124m: \u001b[39m\u001b[38;5;124m\"\u001b[39m\u001b[38;5;124msc82.choi@pknu.ac.kr\u001b[39m\u001b[38;5;124m\"\u001b[39m\u001b[38;5;124m, \u001b[39m\u001b[38;5;124m\"\u001b[39m\u001b[38;5;124maddress\u001b[39m\u001b[38;5;124m\"\u001b[39m\u001b[38;5;124m: \u001b[39m\u001b[38;5;124m{\u001b[39m\n\u001b[0;32m      4\u001b[0m \u001b[38;5;124m    \u001b[39m\u001b[38;5;124m\"\u001b[39m\u001b[38;5;124mstreet\u001b[39m\u001b[38;5;124m\"\u001b[39m\u001b[38;5;124m: \u001b[39m\u001b[38;5;124m\"\u001b[39m\u001b[38;5;124mHaeundae 35\u001b[39m\u001b[38;5;124m\"\u001b[39m\u001b[38;5;124m, \u001b[39m\u001b[38;5;124m\"\u001b[39m\u001b[38;5;124mcity\u001b[39m\u001b[38;5;124m\"\u001b[39m\u001b[38;5;124m: \u001b[39m\u001b[38;5;124m\"\u001b[39m\u001b[38;5;124mBusan\u001b[39m\u001b[38;5;124m\"\u001b[39m\u001b[38;5;124m, }\u001b[39m\n\u001b[0;32m      5\u001b[0m \u001b[38;5;124m}\u001b[39m\u001b[38;5;124m'''\u001b[39m\n\u001b[1;32m----> 6\u001b[0m json_object \u001b[38;5;241m=\u001b[39m json\u001b[38;5;241m.\u001b[39mloads(json_data )\n",
      "File \u001b[1;32mc:\\anaconda3\\Lib\\json\\__init__.py:346\u001b[0m, in \u001b[0;36mloads\u001b[1;34m(s, cls, object_hook, parse_float, parse_int, parse_constant, object_pairs_hook, **kw)\u001b[0m\n\u001b[0;32m    341\u001b[0m     s \u001b[38;5;241m=\u001b[39m s\u001b[38;5;241m.\u001b[39mdecode(detect_encoding(s), \u001b[38;5;124m'\u001b[39m\u001b[38;5;124msurrogatepass\u001b[39m\u001b[38;5;124m'\u001b[39m)\n\u001b[0;32m    343\u001b[0m \u001b[38;5;28;01mif\u001b[39;00m (\u001b[38;5;28mcls\u001b[39m \u001b[38;5;129;01mis\u001b[39;00m \u001b[38;5;28;01mNone\u001b[39;00m \u001b[38;5;129;01mand\u001b[39;00m object_hook \u001b[38;5;129;01mis\u001b[39;00m \u001b[38;5;28;01mNone\u001b[39;00m \u001b[38;5;129;01mand\u001b[39;00m\n\u001b[0;32m    344\u001b[0m         parse_int \u001b[38;5;129;01mis\u001b[39;00m \u001b[38;5;28;01mNone\u001b[39;00m \u001b[38;5;129;01mand\u001b[39;00m parse_float \u001b[38;5;129;01mis\u001b[39;00m \u001b[38;5;28;01mNone\u001b[39;00m \u001b[38;5;129;01mand\u001b[39;00m\n\u001b[0;32m    345\u001b[0m         parse_constant \u001b[38;5;129;01mis\u001b[39;00m \u001b[38;5;28;01mNone\u001b[39;00m \u001b[38;5;129;01mand\u001b[39;00m object_pairs_hook \u001b[38;5;129;01mis\u001b[39;00m \u001b[38;5;28;01mNone\u001b[39;00m \u001b[38;5;129;01mand\u001b[39;00m \u001b[38;5;129;01mnot\u001b[39;00m kw):\n\u001b[1;32m--> 346\u001b[0m     \u001b[38;5;28;01mreturn\u001b[39;00m _default_decoder\u001b[38;5;241m.\u001b[39mdecode(s)\n\u001b[0;32m    347\u001b[0m \u001b[38;5;28;01mif\u001b[39;00m \u001b[38;5;28mcls\u001b[39m \u001b[38;5;129;01mis\u001b[39;00m \u001b[38;5;28;01mNone\u001b[39;00m:\n\u001b[0;32m    348\u001b[0m     \u001b[38;5;28mcls\u001b[39m \u001b[38;5;241m=\u001b[39m JSONDecoder\n",
      "File \u001b[1;32mc:\\anaconda3\\Lib\\json\\decoder.py:337\u001b[0m, in \u001b[0;36mJSONDecoder.decode\u001b[1;34m(self, s, _w)\u001b[0m\n\u001b[0;32m    332\u001b[0m \u001b[38;5;28;01mdef\u001b[39;00m \u001b[38;5;21mdecode\u001b[39m(\u001b[38;5;28mself\u001b[39m, s, _w\u001b[38;5;241m=\u001b[39mWHITESPACE\u001b[38;5;241m.\u001b[39mmatch):\n\u001b[0;32m    333\u001b[0m \u001b[38;5;250m    \u001b[39m\u001b[38;5;124;03m\"\"\"Return the Python representation of ``s`` (a ``str`` instance\u001b[39;00m\n\u001b[0;32m    334\u001b[0m \u001b[38;5;124;03m    containing a JSON document).\u001b[39;00m\n\u001b[0;32m    335\u001b[0m \n\u001b[0;32m    336\u001b[0m \u001b[38;5;124;03m    \"\"\"\u001b[39;00m\n\u001b[1;32m--> 337\u001b[0m     obj, end \u001b[38;5;241m=\u001b[39m \u001b[38;5;28mself\u001b[39m\u001b[38;5;241m.\u001b[39mraw_decode(s, idx\u001b[38;5;241m=\u001b[39m_w(s, \u001b[38;5;241m0\u001b[39m)\u001b[38;5;241m.\u001b[39mend())\n\u001b[0;32m    338\u001b[0m     end \u001b[38;5;241m=\u001b[39m _w(s, end)\u001b[38;5;241m.\u001b[39mend()\n\u001b[0;32m    339\u001b[0m     \u001b[38;5;28;01mif\u001b[39;00m end \u001b[38;5;241m!=\u001b[39m \u001b[38;5;28mlen\u001b[39m(s):\n",
      "File \u001b[1;32mc:\\anaconda3\\Lib\\json\\decoder.py:353\u001b[0m, in \u001b[0;36mJSONDecoder.raw_decode\u001b[1;34m(self, s, idx)\u001b[0m\n\u001b[0;32m    344\u001b[0m \u001b[38;5;250m\u001b[39m\u001b[38;5;124;03m\"\"\"Decode a JSON document from ``s`` (a ``str`` beginning with\u001b[39;00m\n\u001b[0;32m    345\u001b[0m \u001b[38;5;124;03ma JSON document) and return a 2-tuple of the Python\u001b[39;00m\n\u001b[0;32m    346\u001b[0m \u001b[38;5;124;03mrepresentation and the index in ``s`` where the document ended.\u001b[39;00m\n\u001b[1;32m   (...)\u001b[0m\n\u001b[0;32m    350\u001b[0m \n\u001b[0;32m    351\u001b[0m \u001b[38;5;124;03m\"\"\"\u001b[39;00m\n\u001b[0;32m    352\u001b[0m \u001b[38;5;28;01mtry\u001b[39;00m:\n\u001b[1;32m--> 353\u001b[0m     obj, end \u001b[38;5;241m=\u001b[39m \u001b[38;5;28mself\u001b[39m\u001b[38;5;241m.\u001b[39mscan_once(s, idx)\n\u001b[0;32m    354\u001b[0m \u001b[38;5;28;01mexcept\u001b[39;00m \u001b[38;5;167;01mStopIteration\u001b[39;00m \u001b[38;5;28;01mas\u001b[39;00m err:\n\u001b[0;32m    355\u001b[0m     \u001b[38;5;28;01mraise\u001b[39;00m JSONDecodeError(\u001b[38;5;124m\"\u001b[39m\u001b[38;5;124mExpecting value\u001b[39m\u001b[38;5;124m\"\u001b[39m, s, err\u001b[38;5;241m.\u001b[39mvalue) \u001b[38;5;28;01mfrom\u001b[39;00m \u001b[38;5;28;01mNone\u001b[39;00m\n",
      "\u001b[1;31mJSONDecodeError\u001b[0m: Expecting property name enclosed in double quotes: line 3 column 47 (char 137)"
     ]
    }
   ],
   "source": [
    "import json\n",
    "json_data = '''{\n",
    "    \"id\": 1, \"name\": \"Sungchul Choi\", \"user_email\": \"sc82.choi@pknu.ac.kr\", \"address\": {\n",
    "    \"street\": \"Haeundae 35\", \"city\": \"Busan\", }\n",
    "}'''\n",
    "json_object = json.loads(json_data )\n",
    "\n",
    "# print(json_object [\"name\"][\"street\"])"
   ]
  },
  {
   "cell_type": "code",
   "execution_count": null,
   "id": "3b244b23",
   "metadata": {},
   "outputs": [],
   "source": []
  }
 ],
 "metadata": {
  "kernelspec": {
   "display_name": "myfirstvirtual1",
   "language": "python",
   "name": "python3"
  },
  "language_info": {
   "codemirror_mode": {
    "name": "ipython",
    "version": 3
   },
   "file_extension": ".py",
   "mimetype": "text/x-python",
   "name": "python",
   "nbconvert_exporter": "python",
   "pygments_lexer": "ipython3",
   "version": "3.12.4"
  }
 },
 "nbformat": 4,
 "nbformat_minor": 5
}
