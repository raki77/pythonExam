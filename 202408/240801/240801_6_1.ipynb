{
 "cells": [
  {
   "cell_type": "code",
   "execution_count": 2,
   "id": "29eefc54-c842-45ff-81a7-979c54cf4f6a",
   "metadata": {},
   "outputs": [],
   "source": [
    "# 3. 상속관계 (is관계), 자식클래스는 부모클래스 이다.\n",
    "# 부모(상위) 클래스\n",
    "# 자식(하위) 클래스\n",
    "# 고양이는 동물이다.\n",
    "# 강아지는 동물이다."
   ]
  },
  {
   "cell_type": "code",
   "execution_count": 84,
   "id": "3d80f178-03c3-4c1c-afa7-0b1d339aa602",
   "metadata": {},
   "outputs": [],
   "source": [
    "class Animal:\n",
    "    def __init__(self, color):\n",
    "        self.color = color\n",
    "    def breathe(self):\n",
    "        print(\"숨쉰다.\")"
   ]
  },
  {
   "cell_type": "code",
   "execution_count": 86,
   "id": "ee8997d9-a4e9-4285-9478-54b6afaf9427",
   "metadata": {},
   "outputs": [],
   "source": [
    "class Cat(Animal):\n",
    "    pass"
   ]
  },
  {
   "cell_type": "code",
   "execution_count": 88,
   "id": "dacea909-0cb8-4fc1-9577-2e198b0dc6ec",
   "metadata": {},
   "outputs": [
    {
     "data": {
      "text/plain": [
       "'black'"
      ]
     },
     "execution_count": 88,
     "metadata": {},
     "output_type": "execute_result"
    }
   ],
   "source": [
    "bumbee = Cat(\"black\")\n",
    "bumbee.color"
   ]
  },
  {
   "cell_type": "code",
   "execution_count": 82,
   "id": "af7154b1-ddac-4866-afec-6368fe290c34",
   "metadata": {},
   "outputs": [],
   "source": [
    "per_cat = Cat(\"white\")"
   ]
  },
  {
   "cell_type": "code",
   "execution_count": 90,
   "id": "ab784f62-4a9a-43dd-973a-6c585bd2ae59",
   "metadata": {},
   "outputs": [
    {
     "name": "stdout",
     "output_type": "stream",
     "text": [
      "숨쉰다.\n"
     ]
    }
   ],
   "source": [
    "per_cat.color\n",
    "per_cat.breathe()"
   ]
  },
  {
   "cell_type": "code",
   "execution_count": 66,
   "id": "032147f1-009d-42f2-babe-8d4e48113f6c",
   "metadata": {},
   "outputs": [],
   "source": [
    "class Dog(Animal):\n",
    "    pass"
   ]
  },
  {
   "cell_type": "code",
   "execution_count": 92,
   "id": "f7ecc8c3-b3c2-460f-8f51-9830c8499709",
   "metadata": {},
   "outputs": [],
   "source": [
    "Maltese  = Dog(\"white\")"
   ]
  },
  {
   "cell_type": "code",
   "execution_count": 94,
   "id": "4e39aa53-2e8c-446c-b570-91c74bfbd4b9",
   "metadata": {},
   "outputs": [
    {
     "name": "stdout",
     "output_type": "stream",
     "text": [
      "숨쉰다.\n"
     ]
    }
   ],
   "source": [
    "Maltese.breathe()"
   ]
  },
  {
   "cell_type": "code",
   "execution_count": 96,
   "id": "cebd748a-26ba-4a00-998a-491ae240ef7b",
   "metadata": {},
   "outputs": [
    {
     "data": {
      "text/plain": [
       "'white'"
      ]
     },
     "execution_count": 96,
     "metadata": {},
     "output_type": "execute_result"
    }
   ],
   "source": [
    "Maltese.color"
   ]
  },
  {
   "cell_type": "code",
   "execution_count": 146,
   "id": "1eb50b5b-e1dc-4d95-9d3c-51396583efd6",
   "metadata": {},
   "outputs": [],
   "source": [
    "# version 2 \n",
    "class Caculator:\n",
    "    # 객체를 초기화 한다.\n",
    "    # 예약어\n",
    "    # self : Caculator 있는 애로 초기화하겠다.\n",
    "    def __init__(self, num1, num2):\n",
    "        self.num1 = num1    # 인스턴스(=객체) 변수\n",
    "        self.num2 = num2    # 인스턴스(=객체) 변수\n",
    "    def add(self): \n",
    "        return self.num1 + self.num2\n",
    "    def subtract(self): \n",
    "        return self.num1 - self.num2\n",
    "    def multiply(self): \n",
    "        return self.num1 * self.num2\n",
    "    def division(self): \n",
    "        return self.num1 / self.num2\n",
    "        \n",
    "    def setNum1(self, prm1):\n",
    "        self.num1= prm1\n",
    "    def setNum2(self, prm2):\n",
    "        self.num2= prm2\n",
    "    def getNum1(self):\n",
    "        return self.num1\n",
    "    def getNum2(self):\n",
    "        return self.num2"
   ]
  },
  {
   "cell_type": "code",
   "execution_count": 148,
   "id": "011ede3f-02c1-4616-a955-f8932a7d8b74",
   "metadata": {},
   "outputs": [],
   "source": [
    "mycalc2 = Caculator(4, 8)"
   ]
  },
  {
   "cell_type": "code",
   "execution_count": 152,
   "id": "33d090f4-fe06-466a-ac57-e8728f30e202",
   "metadata": {},
   "outputs": [
    {
     "name": "stdout",
     "output_type": "stream",
     "text": [
      "덧셈 결과는 12\n",
      "뺄셈 결과는 -4\n",
      "곱셈 결과는 32\n",
      "나눗셈 결과는 0.5\n",
      "덧셈 결과는 15\n",
      "뺄셈 결과는 -5\n",
      "곱셈 결과는 50\n",
      "나눗셈 결과는 0.5\n"
     ]
    }
   ],
   "source": [
    "print(f\"덧셈 결과는 {mycalc2.add()}\")\n",
    "print(f\"뺄셈 결과는 {mycalc2.subtract()}\")\n",
    "print(f\"곱셈 결과는 {mycalc2.multiply()}\")\n",
    "print(f\"나눗셈 결과는 {mycalc2.division()}\")\n",
    "\n",
    "mycalc2.setNum1(5)\n",
    "mycalc2.setNum2(10)\n",
    "\n",
    "print(f\"덧셈 결과는 {mycalc2.add()}\")\n",
    "print(f\"뺄셈 결과는 {mycalc2.subtract()}\")\n",
    "print(f\"곱셈 결과는 {mycalc2.multiply()}\")\n",
    "print(f\"나눗셈 결과는 {mycalc2.division()}\")"
   ]
  },
  {
   "cell_type": "code",
   "execution_count": 154,
   "id": "c2a43382-f384-455c-b8db-07aec03e491d",
   "metadata": {},
   "outputs": [
    {
     "ename": "ZeroDivisionError",
     "evalue": "division by zero",
     "output_type": "error",
     "traceback": [
      "\u001b[1;31m---------------------------------------------------------------------------\u001b[0m",
      "\u001b[1;31mZeroDivisionError\u001b[0m                         Traceback (most recent call last)",
      "Cell \u001b[1;32mIn[154], line 1\u001b[0m\n\u001b[1;32m----> 1\u001b[0m \u001b[38;5;241m3\u001b[39m\u001b[38;5;241m/\u001b[39m\u001b[38;5;241m0\u001b[39m\n",
      "\u001b[1;31mZeroDivisionError\u001b[0m: division by zero"
     ]
    }
   ],
   "source": [
    "3/0"
   ]
  },
  {
   "cell_type": "code",
   "execution_count": 156,
   "id": "0a416363-98fe-48b9-8ef6-03ce4075d956",
   "metadata": {},
   "outputs": [
    {
     "data": {
      "text/plain": [
       "0.0"
      ]
     },
     "execution_count": 156,
     "metadata": {},
     "output_type": "execute_result"
    }
   ],
   "source": [
    "0/3"
   ]
  },
  {
   "cell_type": "code",
   "execution_count": 158,
   "id": "13549666-a420-4dba-b730-3e63c489ae0f",
   "metadata": {},
   "outputs": [],
   "source": [
    "mycalc3 = Caculator(4, 0)"
   ]
  },
  {
   "cell_type": "code",
   "execution_count": 160,
   "id": "f6538ccd-3d50-47f0-9547-be1b5ab23ac1",
   "metadata": {},
   "outputs": [
    {
     "ename": "ZeroDivisionError",
     "evalue": "division by zero",
     "output_type": "error",
     "traceback": [
      "\u001b[1;31m---------------------------------------------------------------------------\u001b[0m",
      "\u001b[1;31mZeroDivisionError\u001b[0m                         Traceback (most recent call last)",
      "Cell \u001b[1;32mIn[160], line 1\u001b[0m\n\u001b[1;32m----> 1\u001b[0m mycalc3\u001b[38;5;241m.\u001b[39mdivision()\n",
      "Cell \u001b[1;32mIn[146], line 15\u001b[0m, in \u001b[0;36mCaculator.division\u001b[1;34m(self)\u001b[0m\n\u001b[0;32m     14\u001b[0m \u001b[38;5;28;01mdef\u001b[39;00m \u001b[38;5;21mdivision\u001b[39m(\u001b[38;5;28mself\u001b[39m): \n\u001b[1;32m---> 15\u001b[0m     \u001b[38;5;28;01mreturn\u001b[39;00m \u001b[38;5;28mself\u001b[39m\u001b[38;5;241m.\u001b[39mnum1 \u001b[38;5;241m/\u001b[39m \u001b[38;5;28mself\u001b[39m\u001b[38;5;241m.\u001b[39mnum2\n",
      "\u001b[1;31mZeroDivisionError\u001b[0m: division by zero"
     ]
    }
   ],
   "source": [
    "mycalc3.division()"
   ]
  },
  {
   "cell_type": "code",
   "execution_count": 162,
   "id": "675412bf-3c81-4b1f-9cbb-51aad5d6eb18",
   "metadata": {},
   "outputs": [],
   "source": [
    "# version 3\n",
    "class Caculator:\n",
    "    # 객체를 초기화 한다.\n",
    "    # 예약어\n",
    "    # self : Caculator 있는 애로 초기화하겠다.\n",
    "    def __init__(self, num1, num2):\n",
    "        self.num1 = num1    # 인스턴스(=객체) 변수\n",
    "        self.num2 = num2    # 인스턴스(=객체) 변수\n",
    "    def add(self): \n",
    "        return self.num1 + self.num2\n",
    "    def subtract(self): \n",
    "        return self.num1 - self.num2\n",
    "    def multiply(self): \n",
    "        return self.num1 * self.num2\n",
    "    def division(self): \n",
    "        return self.num1 / self.num2\n",
    "        \n",
    "    def setNum1(self, prm1):\n",
    "        self.num1= prm1\n",
    "    def setNum2(self, prm2):\n",
    "        self.num2= prm2\n",
    "    def getNum1(self):\n",
    "        return self.num1\n",
    "    def getNum2(self):\n",
    "        return self.num2\n",
    "        "
   ]
  },
  {
   "cell_type": "code",
   "execution_count": 168,
   "id": "adbf410b-a5fb-4929-88b9-66edbc35910d",
   "metadata": {},
   "outputs": [],
   "source": [
    "# ------------------------------------------------------\n",
    "# 계산기 child class 만들기\n",
    "# ------------------------------------------------------"
   ]
  },
  {
   "cell_type": "code",
   "execution_count": 174,
   "id": "58b4cac6-c7e9-441b-9fe7-9fbf7e5e7fdc",
   "metadata": {},
   "outputs": [],
   "source": [
    "# 자식클래스 (부모 클래스 )"
   ]
  },
  {
   "cell_type": "code",
   "execution_count": 176,
   "id": "970df07f-e555-4ab6-81a2-79e05f43d611",
   "metadata": {},
   "outputs": [],
   "source": [
    "class SafeCaculator(Caculator):\n",
    "    pass"
   ]
  },
  {
   "cell_type": "code",
   "execution_count": 184,
   "id": "a2873a41-35fa-4b16-a35a-a005fbc3d85f",
   "metadata": {},
   "outputs": [],
   "source": [
    "my_safe_calc = SafeCaculator(3, 0)"
   ]
  },
  {
   "cell_type": "code",
   "execution_count": 186,
   "id": "56bde2e6-c511-40ed-8688-ddf42afe6bcb",
   "metadata": {},
   "outputs": [
    {
     "data": {
      "text/plain": [
       "3"
      ]
     },
     "execution_count": 186,
     "metadata": {},
     "output_type": "execute_result"
    }
   ],
   "source": [
    "my_safe_calc.num1"
   ]
  },
  {
   "cell_type": "code",
   "execution_count": 188,
   "id": "1bbace6d-f046-47c9-9de9-61a8c45ca92d",
   "metadata": {},
   "outputs": [
    {
     "data": {
      "text/plain": [
       "0"
      ]
     },
     "execution_count": 188,
     "metadata": {},
     "output_type": "execute_result"
    }
   ],
   "source": [
    "my_safe_calc.num2"
   ]
  },
  {
   "cell_type": "code",
   "execution_count": 192,
   "id": "beb23500-d4b9-448a-ad75-35c997383493",
   "metadata": {},
   "outputs": [
    {
     "data": {
      "text/plain": [
       "3"
      ]
     },
     "execution_count": 192,
     "metadata": {},
     "output_type": "execute_result"
    }
   ],
   "source": [
    "my_safe_calc.add()"
   ]
  },
  {
   "cell_type": "code",
   "execution_count": 194,
   "id": "eacd400f-a574-452c-b25b-662e63371b5b",
   "metadata": {},
   "outputs": [
    {
     "data": {
      "text/plain": [
       "3"
      ]
     },
     "execution_count": 194,
     "metadata": {},
     "output_type": "execute_result"
    }
   ],
   "source": [
    "my_safe_calc.subtract()"
   ]
  },
  {
   "cell_type": "code",
   "execution_count": 196,
   "id": "2deb35a4-990c-4dd3-a3e2-9f677b110331",
   "metadata": {},
   "outputs": [
    {
     "data": {
      "text/plain": [
       "0"
      ]
     },
     "execution_count": 196,
     "metadata": {},
     "output_type": "execute_result"
    }
   ],
   "source": [
    "my_safe_calc.multiply()"
   ]
  },
  {
   "cell_type": "code",
   "execution_count": 198,
   "id": "8bfba8f0-2ed9-4f00-b623-af702311af7e",
   "metadata": {},
   "outputs": [
    {
     "ename": "ZeroDivisionError",
     "evalue": "division by zero",
     "output_type": "error",
     "traceback": [
      "\u001b[1;31m---------------------------------------------------------------------------\u001b[0m",
      "\u001b[1;31mZeroDivisionError\u001b[0m                         Traceback (most recent call last)",
      "Cell \u001b[1;32mIn[198], line 1\u001b[0m\n\u001b[1;32m----> 1\u001b[0m my_safe_calc\u001b[38;5;241m.\u001b[39mdivision()\n",
      "Cell \u001b[1;32mIn[162], line 16\u001b[0m, in \u001b[0;36mCaculator.division\u001b[1;34m(self)\u001b[0m\n\u001b[0;32m     15\u001b[0m \u001b[38;5;28;01mdef\u001b[39;00m \u001b[38;5;21mdivision\u001b[39m(\u001b[38;5;28mself\u001b[39m): \n\u001b[1;32m---> 16\u001b[0m     \u001b[38;5;28;01mreturn\u001b[39;00m \u001b[38;5;28mself\u001b[39m\u001b[38;5;241m.\u001b[39mnum1 \u001b[38;5;241m/\u001b[39m \u001b[38;5;28mself\u001b[39m\u001b[38;5;241m.\u001b[39mnum2\n",
      "\u001b[1;31mZeroDivisionError\u001b[0m: division by zero"
     ]
    }
   ],
   "source": [
    "my_safe_calc.division()"
   ]
  },
  {
   "cell_type": "code",
   "execution_count": 200,
   "id": "68ae9922-804b-47f2-ae1a-50cf0b38aaf2",
   "metadata": {},
   "outputs": [],
   "source": [
    "# 부모가 정의한 divide()를 재정의(overrid) 해야하는 상황"
   ]
  },
  {
   "cell_type": "code",
   "execution_count": 222,
   "id": "accb3817-5916-462c-b605-3da3cc130c88",
   "metadata": {},
   "outputs": [],
   "source": [
    "class SafeCaculator(Caculator):\n",
    "    def divide(self):\n",
    "        if self.num2 == 0:\n",
    "            print(\"0으로 나누지 마세요\")\n",
    "        else :\n",
    "            return self.num1 / self.num2"
   ]
  },
  {
   "cell_type": "code",
   "execution_count": 224,
   "id": "86c772a9-57c9-4976-9231-49bd6f204230",
   "metadata": {},
   "outputs": [],
   "source": [
    "my_safe_calc2 = SafeCaculator(3,0)"
   ]
  },
  {
   "cell_type": "code",
   "execution_count": 226,
   "id": "ca271230-822c-4d63-a248-d15d7d6606a3",
   "metadata": {},
   "outputs": [
    {
     "data": {
      "text/plain": [
       "3"
      ]
     },
     "execution_count": 226,
     "metadata": {},
     "output_type": "execute_result"
    }
   ],
   "source": [
    "my_safe_calc2.num1"
   ]
  },
  {
   "cell_type": "code",
   "execution_count": 228,
   "id": "4328cc2a-0410-44a4-8e6b-7e80657953fc",
   "metadata": {},
   "outputs": [
    {
     "data": {
      "text/plain": [
       "0"
      ]
     },
     "execution_count": 228,
     "metadata": {},
     "output_type": "execute_result"
    }
   ],
   "source": [
    "my_safe_calc2.num2"
   ]
  },
  {
   "cell_type": "code",
   "execution_count": 230,
   "id": "6b86d446-7d16-49fc-aa9a-bc1f1ee79fde",
   "metadata": {},
   "outputs": [
    {
     "name": "stdout",
     "output_type": "stream",
     "text": [
      "0으로 나누지 마세요\n"
     ]
    }
   ],
   "source": [
    "my_safe_calc2.divide()"
   ]
  },
  {
   "cell_type": "code",
   "execution_count": 235,
   "id": "3b69aff7-e77b-4d96-bf0f-c0e4fe16e6ae",
   "metadata": {},
   "outputs": [
    {
     "name": "stdout",
     "output_type": "stream",
     "text": [
      "Help on built-in function print in module builtins:\n",
      "\n",
      "print(*args, sep=' ', end='\\n', file=None, flush=False)\n",
      "    Prints the values to a stream, or to sys.stdout by default.\n",
      "\n",
      "    sep\n",
      "      string inserted between values, default a space.\n",
      "    end\n",
      "      string appended after the last value, default a newline.\n",
      "    file\n",
      "      a file-like object (stream); defaults to the current sys.stdout.\n",
      "    flush\n",
      "      whether to forcibly flush the stream.\n",
      "\n"
     ]
    }
   ],
   "source": [
    "help(print)"
   ]
  },
  {
   "cell_type": "code",
   "execution_count": 237,
   "id": "b7bd5934-2b57-45c5-ab7c-5e2825190d3a",
   "metadata": {},
   "outputs": [
    {
     "name": "stdout",
     "output_type": "stream",
     "text": [
      "Help on list object:\n",
      "\n",
      "class list(object)\n",
      " |  list(iterable=(), /)\n",
      " |\n",
      " |  Built-in mutable sequence.\n",
      " |\n",
      " |  If no argument is given, the constructor creates a new empty list.\n",
      " |  The argument must be an iterable if specified.\n",
      " |\n",
      " |  Methods defined here:\n",
      " |\n",
      " |  __add__(self, value, /)\n",
      " |      Return self+value.\n",
      " |\n",
      " |  __contains__(self, key, /)\n",
      " |      Return bool(key in self).\n",
      " |\n",
      " |  __delitem__(self, key, /)\n",
      " |      Delete self[key].\n",
      " |\n",
      " |  __eq__(self, value, /)\n",
      " |      Return self==value.\n",
      " |\n",
      " |  __ge__(self, value, /)\n",
      " |      Return self>=value.\n",
      " |\n",
      " |  __getattribute__(self, name, /)\n",
      " |      Return getattr(self, name).\n",
      " |\n",
      " |  __getitem__(self, index, /)\n",
      " |      Return self[index].\n",
      " |\n",
      " |  __gt__(self, value, /)\n",
      " |      Return self>value.\n",
      " |\n",
      " |  __iadd__(self, value, /)\n",
      " |      Implement self+=value.\n",
      " |\n",
      " |  __imul__(self, value, /)\n",
      " |      Implement self*=value.\n",
      " |\n",
      " |  __init__(self, /, *args, **kwargs)\n",
      " |      Initialize self.  See help(type(self)) for accurate signature.\n",
      " |\n",
      " |  __iter__(self, /)\n",
      " |      Implement iter(self).\n",
      " |\n",
      " |  __le__(self, value, /)\n",
      " |      Return self<=value.\n",
      " |\n",
      " |  __len__(self, /)\n",
      " |      Return len(self).\n",
      " |\n",
      " |  __lt__(self, value, /)\n",
      " |      Return self<value.\n",
      " |\n",
      " |  __mul__(self, value, /)\n",
      " |      Return self*value.\n",
      " |\n",
      " |  __ne__(self, value, /)\n",
      " |      Return self!=value.\n",
      " |\n",
      " |  __repr__(self, /)\n",
      " |      Return repr(self).\n",
      " |\n",
      " |  __reversed__(self, /)\n",
      " |      Return a reverse iterator over the list.\n",
      " |\n",
      " |  __rmul__(self, value, /)\n",
      " |      Return value*self.\n",
      " |\n",
      " |  __setitem__(self, key, value, /)\n",
      " |      Set self[key] to value.\n",
      " |\n",
      " |  __sizeof__(self, /)\n",
      " |      Return the size of the list in memory, in bytes.\n",
      " |\n",
      " |  append(self, object, /)\n",
      " |      Append object to the end of the list.\n",
      " |\n",
      " |  clear(self, /)\n",
      " |      Remove all items from list.\n",
      " |\n",
      " |  copy(self, /)\n",
      " |      Return a shallow copy of the list.\n",
      " |\n",
      " |  count(self, value, /)\n",
      " |      Return number of occurrences of value.\n",
      " |\n",
      " |  extend(self, iterable, /)\n",
      " |      Extend list by appending elements from the iterable.\n",
      " |\n",
      " |  index(self, value, start=0, stop=9223372036854775807, /)\n",
      " |      Return first index of value.\n",
      " |\n",
      " |      Raises ValueError if the value is not present.\n",
      " |\n",
      " |  insert(self, index, object, /)\n",
      " |      Insert object before index.\n",
      " |\n",
      " |  pop(self, index=-1, /)\n",
      " |      Remove and return item at index (default last).\n",
      " |\n",
      " |      Raises IndexError if list is empty or index is out of range.\n",
      " |\n",
      " |  remove(self, value, /)\n",
      " |      Remove first occurrence of value.\n",
      " |\n",
      " |      Raises ValueError if the value is not present.\n",
      " |\n",
      " |  reverse(self, /)\n",
      " |      Reverse *IN PLACE*.\n",
      " |\n",
      " |  sort(self, /, *, key=None, reverse=False)\n",
      " |      Sort the list in ascending order and return None.\n",
      " |\n",
      " |      The sort is in-place (i.e. the list itself is modified) and stable (i.e. the\n",
      " |      order of two equal elements is maintained).\n",
      " |\n",
      " |      If a key function is given, apply it once to each list item and sort them,\n",
      " |      ascending or descending, according to their function values.\n",
      " |\n",
      " |      The reverse flag can be set to sort in descending order.\n",
      " |\n",
      " |  ----------------------------------------------------------------------\n",
      " |  Class methods defined here:\n",
      " |\n",
      " |  __class_getitem__(...)\n",
      " |      See PEP 585\n",
      " |\n",
      " |  ----------------------------------------------------------------------\n",
      " |  Static methods defined here:\n",
      " |\n",
      " |  __new__(*args, **kwargs)\n",
      " |      Create and return a new object.  See help(type) for accurate signature.\n",
      " |\n",
      " |  ----------------------------------------------------------------------\n",
      " |  Data and other attributes defined here:\n",
      " |\n",
      " |  __hash__ = None\n",
      "\n"
     ]
    }
   ],
   "source": [
    "help([])"
   ]
  },
  {
   "cell_type": "code",
   "execution_count": null,
   "id": "9a5e6ab9-55cf-4efc-a8ec-cd4a690d10a2",
   "metadata": {},
   "outputs": [],
   "source": []
  }
 ],
 "metadata": {
  "kernelspec": {
   "display_name": "Python 3 (ipykernel)",
   "language": "python",
   "name": "python3"
  },
  "language_info": {
   "codemirror_mode": {
    "name": "ipython",
    "version": 3
   },
   "file_extension": ".py",
   "mimetype": "text/x-python",
   "name": "python",
   "nbconvert_exporter": "python",
   "pygments_lexer": "ipython3",
   "version": "3.12.4"
  }
 },
 "nbformat": 4,
 "nbformat_minor": 5
}
