{
 "cells": [
  {
   "cell_type": "code",
   "execution_count": 12,
   "id": "9ca53d1f-dc61-4bc6-b84f-6729c44c4870",
   "metadata": {},
   "outputs": [],
   "source": [
    "class Car():\n",
    "    def __init__(self):\n",
    "        self.engine = Engine()\n",
    "    def drive(self):\n",
    "        print(\"차가 달린다.\")"
   ]
  },
  {
   "cell_type": "code",
   "execution_count": 14,
   "id": "ab8e18e1-c354-4913-8629-64fffd498f6e",
   "metadata": {},
   "outputs": [],
   "source": [
    "class Engine():\n",
    "    def start(self):\n",
    "        print(\"엔진이 시작함\")"
   ]
  },
  {
   "cell_type": "code",
   "execution_count": 16,
   "id": "5f92ee7a-5e24-4eee-80ba-f3f02b04e4ef",
   "metadata": {},
   "outputs": [],
   "source": [
    "mycar = Car()"
   ]
  },
  {
   "cell_type": "code",
   "execution_count": 20,
   "id": "ad492cbc-abbb-46a6-814d-3274de657c99",
   "metadata": {},
   "outputs": [
    {
     "data": {
      "text/plain": [
       "<__main__.Engine at 0x283a7585ca0>"
      ]
     },
     "execution_count": 20,
     "metadata": {},
     "output_type": "execute_result"
    }
   ],
   "source": [
    "mycar.engine"
   ]
  },
  {
   "cell_type": "code",
   "execution_count": 22,
   "id": "cfff2184-f65d-43ee-96a0-228402d38e68",
   "metadata": {},
   "outputs": [
    {
     "name": "stdout",
     "output_type": "stream",
     "text": [
      "차가 달린다.\n"
     ]
    }
   ],
   "source": [
    "mycar.drive()"
   ]
  },
  {
   "cell_type": "code",
   "execution_count": 24,
   "id": "2bc48c72-26b4-4c36-8606-41d6e35feb05",
   "metadata": {},
   "outputs": [],
   "source": [
    "four_engine = Engine()"
   ]
  },
  {
   "cell_type": "code",
   "execution_count": 26,
   "id": "41b211c6-a3aa-43e7-8b8c-b1dd6729443b",
   "metadata": {},
   "outputs": [
    {
     "name": "stdout",
     "output_type": "stream",
     "text": [
      "엔진이 시작함\n"
     ]
    }
   ],
   "source": [
    "four_engine.start()"
   ]
  },
  {
   "cell_type": "code",
   "execution_count": 30,
   "id": "48f8ee40-bdad-41de-8580-89e317fa4fc5",
   "metadata": {},
   "outputs": [
    {
     "name": "stdout",
     "output_type": "stream",
     "text": [
      "엔진이 시작함\n"
     ]
    }
   ],
   "source": [
    "mycar.engine.start()"
   ]
  },
  {
   "cell_type": "code",
   "execution_count": null,
   "id": "dd2538fb-695d-4387-a5e7-24e85ff39123",
   "metadata": {},
   "outputs": [],
   "source": []
  }
 ],
 "metadata": {
  "kernelspec": {
   "display_name": "Python 3 (ipykernel)",
   "language": "python",
   "name": "python3"
  },
  "language_info": {
   "codemirror_mode": {
    "name": "ipython",
    "version": 3
   },
   "file_extension": ".py",
   "mimetype": "text/x-python",
   "name": "python",
   "nbconvert_exporter": "python",
   "pygments_lexer": "ipython3",
   "version": "3.12.4"
  }
 },
 "nbformat": 4,
 "nbformat_minor": 5
}
