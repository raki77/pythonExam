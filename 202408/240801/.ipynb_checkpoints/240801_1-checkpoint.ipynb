{
 "cells": [
  {
   "cell_type": "code",
   "execution_count": 3,
   "id": "b992df50-0296-42bd-a33c-035be402286e",
   "metadata": {},
   "outputs": [],
   "source": [
    "class Car: \n",
    "    pass"
   ]
  },
  {
   "cell_type": "code",
   "execution_count": 9,
   "id": "98167a8c-188a-4e5f-ab0f-dffcee8cb810",
   "metadata": {},
   "outputs": [],
   "source": [
    "my_car_obj1 = Car()"
   ]
  },
  {
   "cell_type": "code",
   "execution_count": 11,
   "id": "3af3a965-2b08-43fe-9413-ac3cc65eb192",
   "metadata": {},
   "outputs": [],
   "source": [
    "my_car_obj2 = Car()"
   ]
  },
  {
   "cell_type": "code",
   "execution_count": 13,
   "id": "da89a662-c52b-4cb4-8900-80ff9846a179",
   "metadata": {},
   "outputs": [
    {
     "data": {
      "text/plain": [
       "2146455557888"
      ]
     },
     "execution_count": 13,
     "metadata": {},
     "output_type": "execute_result"
    }
   ],
   "source": [
    "id(my_car_obj1)"
   ]
  },
  {
   "cell_type": "code",
   "execution_count": 15,
   "id": "5397be41-e58f-4c16-8deb-a6cd5cc4ea6f",
   "metadata": {},
   "outputs": [
    {
     "data": {
      "text/plain": [
       "2146452696496"
      ]
     },
     "execution_count": 15,
     "metadata": {},
     "output_type": "execute_result"
    }
   ],
   "source": [
    "id(my_car_obj2)"
   ]
  },
  {
   "cell_type": "code",
   "execution_count": 93,
   "id": "f152c675-3d9a-4d28-8b75-0fe8ad6b20e0",
   "metadata": {},
   "outputs": [],
   "source": [
    "# 명수 ( 변수 )\n",
    "# 동사 ( 메서드 )\n",
    "# 계산기 만드는 과정 : 클래스\n",
    "\n",
    "class Caculator:\n",
    "    # 객체를 초기화 한다.\n",
    "    # 예약어\n",
    "    # self : Caculator 있는 애로 초기화하겠다.\n",
    "    def __init__(self):\n",
    "        self.num1=0    # 인스턴스(=객체) 변수\n",
    "        self.num2=0    # 인스턴스(=객체) 변수\n",
    "    def add(self, num1, num2):\n",
    "        self.num1 = num1\n",
    "        self.num2 = num2        \n",
    "        return self.num1 + self.num2\n",
    "   "
   ]
  },
  {
   "cell_type": "code",
   "execution_count": 95,
   "id": "e872eb28-aa03-4cf6-b2de-1eeb12bbf712",
   "metadata": {},
   "outputs": [],
   "source": [
    "mycalc = Caculator()     #Caculator() 생성자"
   ]
  },
  {
   "cell_type": "code",
   "execution_count": 97,
   "id": "95d8b824-fdf9-4a60-8819-6bfd05d63ec3",
   "metadata": {},
   "outputs": [
    {
     "data": {
      "text/plain": [
       "0"
      ]
     },
     "execution_count": 97,
     "metadata": {},
     "output_type": "execute_result"
    }
   ],
   "source": [
    "mycalc.num1"
   ]
  },
  {
   "cell_type": "code",
   "execution_count": 99,
   "id": "02605ee5-7d5f-43dc-bb20-2b31e7a96a2b",
   "metadata": {},
   "outputs": [
    {
     "data": {
      "text/plain": [
       "0"
      ]
     },
     "execution_count": 99,
     "metadata": {},
     "output_type": "execute_result"
    }
   ],
   "source": [
    "mycalc.num2"
   ]
  },
  {
   "cell_type": "code",
   "execution_count": 104,
   "id": "6ffbf5f0-8400-461f-aa4c-8991dd02c333",
   "metadata": {},
   "outputs": [
    {
     "data": {
      "text/plain": [
       "11"
      ]
     },
     "execution_count": 104,
     "metadata": {},
     "output_type": "execute_result"
    }
   ],
   "source": [
    "result = mycalc.add(5,6)\n",
    "result"
   ]
  },
  {
   "cell_type": "code",
   "execution_count": 108,
   "id": "e3123273-dded-4e22-95ee-40fc35977509",
   "metadata": {},
   "outputs": [
    {
     "data": {
      "text/plain": [
       "5"
      ]
     },
     "execution_count": 108,
     "metadata": {},
     "output_type": "execute_result"
    }
   ],
   "source": [
    "mycalc.num1"
   ]
  },
  {
   "cell_type": "code",
   "execution_count": 110,
   "id": "feb394bf-dde6-4fad-9d94-58cfc636c793",
   "metadata": {},
   "outputs": [
    {
     "data": {
      "text/plain": [
       "6"
      ]
     },
     "execution_count": 110,
     "metadata": {},
     "output_type": "execute_result"
    }
   ],
   "source": [
    "mycalc.num2"
   ]
  },
  {
   "cell_type": "code",
   "execution_count": null,
   "id": "96359a22-bbe2-4bff-bda8-3ba4d2051e43",
   "metadata": {},
   "outputs": [],
   "source": []
  }
 ],
 "metadata": {
  "kernelspec": {
   "display_name": "Python 3 (ipykernel)",
   "language": "python",
   "name": "python3"
  },
  "language_info": {
   "codemirror_mode": {
    "name": "ipython",
    "version": 3
   },
   "file_extension": ".py",
   "mimetype": "text/x-python",
   "name": "python",
   "nbconvert_exporter": "python",
   "pygments_lexer": "ipython3",
   "version": "3.12.4"
  }
 },
 "nbformat": 4,
 "nbformat_minor": 5
}
