{
 "cells": [
  {
   "cell_type": "code",
   "execution_count": 434,
   "id": "8197dde6-c848-40fe-a0e0-83a829ca63f7",
   "metadata": {},
   "outputs": [],
   "source": [
    "# 클래스는 틀이자 설계도이다.\n",
    "# 1. 사용관계 : \n",
    "# 2. 포함관계 : have\n",
    "# 3. 상속관계 : is\n",
    "\n",
    "class Knight:\n",
    "    def __init__(self, name):\n",
    "        self.name = name\n",
    "        self.strength = 0\n",
    "        self.dex = 0\n",
    "        self.vitality = 0\n",
    "        self.wisdom = 0\n",
    "        self.knowledge = 0\n",
    "        self.Charisma = 0\n",
    "        self.damage = 0\n",
    "        self.depense = 0\n",
    "        self.emo = Emotion(name)\n",
    "    def setDamage(self, strength, weapon):\n",
    "        self.damage = self.strength + weapon        \n",
    "    def getDamage(self):\n",
    "        return self.damage\n",
    "    def setDepense(self, strength, amor):\n",
    "        self.depense = self.dex + amor        \n",
    "    def getDepense(self):\n",
    "        return self.depense\n",
    "    def getStatus(self):\n",
    "        print(f'---------------------------')\n",
    "        print(f'strength: {self.strength}')\n",
    "        print(f'dex: {self.dex}')\n",
    "        print(f'vitality: {self.vitality}')\n",
    "        print(f'wisdom: {self.wisdom}')\n",
    "        print(f'knowledge: {self.knowledge}')\n",
    "        print(f'Charisma: {self.Charisma}')\n",
    "        print(f'---------------------------')\n",
    "        print(f'damage: {self.damage}')\n",
    "        print(f'depense: {self.depense}')\n",
    "        print(f'---------------------------')\n",
    "    def attack(self, damage):\n",
    "        print(f'{self.name}님이 공격[{damage}] 하였습니다.')\n",
    "    def setEmotion(self, emotion):\n",
    "        self.emo = emotion\n",
    "    def getEmotion(self) :\n",
    "        self.emo\n",
    "\n",
    "class Weapon :\n",
    "    def __init__(self, id, sword):\n",
    "        self.id = id\n",
    "        self.sword = sword\n",
    "        self.damage = 0\n",
    "        self.limit = []\n",
    "\n",
    "class Emotion :\n",
    "    def __init__(self, name):\n",
    "        self.name = name\n",
    "    def move(self):\n",
    "        print(f'{self.name}님이 [이동] 하였습니다.')\n",
    "    def stop(self):\n",
    "        print(f'{self.name}님이 [정지] 하였습니다.')\n",
    "    def sayHello(self):\n",
    "        print(f'{self.name}님이 [인사] 하였습니다.')\n",
    "        "
   ]
  },
  {
   "cell_type": "code",
   "execution_count": 436,
   "id": "4e3ca9aa-a816-4fb4-bfd2-052187d6e174",
   "metadata": {},
   "outputs": [],
   "source": [
    "user1 = Knight('집행기사')\n",
    "katana = Weapon('000001', 'katana') \n",
    "katana.damage = 70\n",
    "katana.limit = ['기사', '요정']"
   ]
  },
  {
   "cell_type": "code",
   "execution_count": 438,
   "id": "da6fa13d-8061-4d96-9d36-42468b6127bb",
   "metadata": {},
   "outputs": [],
   "source": [
    "user1.strength = 18\n",
    "user1.dex = 12\n",
    "user1.vitality = 16\n",
    "user1.Charisma = 8\n",
    "user1.wisdom = 11\n",
    "user1.knowledge = 6"
   ]
  },
  {
   "cell_type": "code",
   "execution_count": 440,
   "id": "fdf9452a-d4af-49f5-8362-eb8a5b7b4245",
   "metadata": {},
   "outputs": [
    {
     "data": {
      "text/plain": [
       "88"
      ]
     },
     "execution_count": 440,
     "metadata": {},
     "output_type": "execute_result"
    }
   ],
   "source": [
    "user1.setDamage(user1.strength, katana.damage)\n",
    "user1.damage"
   ]
  },
  {
   "cell_type": "code",
   "execution_count": 442,
   "id": "48bc95c3-56e3-4c1f-ab8b-0bd9f27ec46c",
   "metadata": {},
   "outputs": [
    {
     "data": {
      "text/plain": [
       "88"
      ]
     },
     "execution_count": 442,
     "metadata": {},
     "output_type": "execute_result"
    }
   ],
   "source": [
    "user1.getDamage()"
   ]
  },
  {
   "cell_type": "code",
   "execution_count": 444,
   "id": "9a02c33d-6a2a-4150-80c9-917b691b9d70",
   "metadata": {},
   "outputs": [
    {
     "data": {
      "text/plain": [
       "62"
      ]
     },
     "execution_count": 444,
     "metadata": {},
     "output_type": "execute_result"
    }
   ],
   "source": [
    "user1.setDepense(user1.dex, 50)\n",
    "user1.depense"
   ]
  },
  {
   "cell_type": "code",
   "execution_count": 446,
   "id": "8ced8794-5db8-45fc-8510-75bd96fc59a0",
   "metadata": {},
   "outputs": [
    {
     "data": {
      "text/plain": [
       "62"
      ]
     },
     "execution_count": 446,
     "metadata": {},
     "output_type": "execute_result"
    }
   ],
   "source": [
    "user1.getDepense()"
   ]
  },
  {
   "cell_type": "code",
   "execution_count": 448,
   "id": "605f0f02-0cb2-49dc-87da-bfaa5b1fc062",
   "metadata": {},
   "outputs": [
    {
     "name": "stdout",
     "output_type": "stream",
     "text": [
      "집행기사님이 공격[88] 하였습니다.\n"
     ]
    }
   ],
   "source": [
    "user1.attack(user1.getDamage())"
   ]
  },
  {
   "cell_type": "code",
   "execution_count": 450,
   "id": "bb27b887-a349-4507-ad3d-a0e5b2dbe008",
   "metadata": {},
   "outputs": [
    {
     "name": "stdout",
     "output_type": "stream",
     "text": [
      "---------------------------\n",
      "strength: 18\n",
      "dex: 12\n",
      "vitality: 16\n",
      "wisdom: 11\n",
      "knowledge: 6\n",
      "Charisma: 8\n",
      "---------------------------\n",
      "damage: 88\n",
      "depense: 62\n",
      "---------------------------\n"
     ]
    }
   ],
   "source": [
    "user1.getStatus()"
   ]
  },
  {
   "cell_type": "code",
   "execution_count": 456,
   "id": "19d5642e-a03d-457f-ad38-60d4bb616602",
   "metadata": {},
   "outputs": [
    {
     "name": "stdout",
     "output_type": "stream",
     "text": [
      "집행기사님이 이동 하였습니다.\n",
      "집행기사님이 정지 하였습니다.\n",
      "집행기사님이 인사 하였습니다.\n"
     ]
    }
   ],
   "source": [
    "user1.emo.move()\n",
    "user1.emo.stop()\n",
    "user1.emo.sayHello()"
   ]
  },
  {
   "cell_type": "code",
   "execution_count": 432,
   "id": "5ab4ebdd-1dec-446d-9693-763cc377e1fa",
   "metadata": {},
   "outputs": [],
   "source": [
    "# 클래스 간에는 3가지 관계(사용, 포함, 상속)가 있다."
   ]
  },
  {
   "cell_type": "code",
   "execution_count": 109,
   "id": "0888bc64-0c56-4787-be15-e68609df8952",
   "metadata": {},
   "outputs": [],
   "source": [
    "# 1) 사용 관계\n",
    "# 홍길동이라는 회사원이 (결산 보고서) 문서(를) 프린터를 [사용해서 출력한다]."
   ]
  },
  {
   "cell_type": "code",
   "execution_count": 111,
   "id": "a634aaf4-dccf-4cec-9dd8-31d8c60edb94",
   "metadata": {},
   "outputs": [],
   "source": [
    "# 회사원이라는 틀에서 홍길동 객체를 찍어내보자.\n",
    "# 프린터라는 틀에서 레이져 프린터를 (만들어보자, 찍어내보자)."
   ]
  },
  {
   "cell_type": "code",
   "execution_count": 173,
   "id": "90ca3dc1-7258-40d8-953a-d6a58bbd946d",
   "metadata": {},
   "outputs": [],
   "source": [
    "class OfficeWorker:\n",
    "    def __init__(self, name):\n",
    "        self.name = name\n",
    "    def work(self):\n",
    "        print(f\"{self.name}이 일한다.\")\n",
    "    def use_printer(self, printer):\n",
    "        print(f\"프린터를 사용해서 문서를 출력한다.\")"
   ]
  },
  {
   "cell_type": "code",
   "execution_count": 175,
   "id": "b5d8d79e-cd11-4996-9af8-4355ac639a4a",
   "metadata": {},
   "outputs": [],
   "source": [
    "class Printer:\n",
    "    def print_document(self, document):\n",
    "        print(f\"{document}를 인쇄한다.\") "
   ]
  },
  {
   "cell_type": "code",
   "execution_count": 177,
   "id": "faf97456-80f9-47da-9e4a-00c18489c918",
   "metadata": {},
   "outputs": [],
   "source": [
    "hong = OfficeWorker(\"홍길동\")"
   ]
  },
  {
   "cell_type": "code",
   "execution_count": 179,
   "id": "db623a9a-56b4-4bab-9af0-d2d55dbf9078",
   "metadata": {},
   "outputs": [
    {
     "data": {
      "text/plain": [
       "'홍길동'"
      ]
     },
     "execution_count": 179,
     "metadata": {},
     "output_type": "execute_result"
    }
   ],
   "source": [
    "hong.name"
   ]
  },
  {
   "cell_type": "code",
   "execution_count": 181,
   "id": "dcba76f9-7b09-4e68-bdc9-a8e5d3eccede",
   "metadata": {},
   "outputs": [
    {
     "name": "stdout",
     "output_type": "stream",
     "text": [
      "홍길동이 일한다.\n"
     ]
    }
   ],
   "source": [
    "hong.work()"
   ]
  },
  {
   "cell_type": "code",
   "execution_count": 183,
   "id": "14d66422-0135-4a62-add8-2aedd9dc7d7d",
   "metadata": {},
   "outputs": [
    {
     "name": "stdout",
     "output_type": "stream",
     "text": [
      "결산 보고서를 인쇄한다.\n"
     ]
    }
   ],
   "source": [
    "laser_print = Printer()\n",
    "laser_print.print_document('결산 보고서')                           "
   ]
  },
  {
   "cell_type": "code",
   "execution_count": 185,
   "id": "2e97d2da-f8b2-4cdc-a930-56e99a4537bf",
   "metadata": {},
   "outputs": [
    {
     "name": "stdout",
     "output_type": "stream",
     "text": [
      "프린터를 사용해서 문서를 출력한다.\n"
     ]
    }
   ],
   "source": [
    "hong.use_printer(laser_print)"
   ]
  },
  {
   "cell_type": "code",
   "execution_count": null,
   "id": "6601f35e-444c-440c-af44-12b1cda41f6c",
   "metadata": {},
   "outputs": [],
   "source": []
  }
 ],
 "metadata": {
  "kernelspec": {
   "display_name": "Python 3 (ipykernel)",
   "language": "python",
   "name": "python3"
  },
  "language_info": {
   "codemirror_mode": {
    "name": "ipython",
    "version": 3
   },
   "file_extension": ".py",
   "mimetype": "text/x-python",
   "name": "python",
   "nbconvert_exporter": "python",
   "pygments_lexer": "ipython3",
   "version": "3.12.4"
  }
 },
 "nbformat": 4,
 "nbformat_minor": 5
}
