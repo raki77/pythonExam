{
 "cells": [
  {
   "cell_type": "code",
   "execution_count": 1,
   "metadata": {},
   "outputs": [
    {
     "name": "stdout",
     "output_type": "stream",
     "text": [
      "[1, 3, 4, 5]\n"
     ]
    }
   ],
   "source": [
    "def quiz_2(list_data):\n",
    "    a = set(list_data)\n",
    "    return (list(a)[1:5])\n",
    "\n",
    "list_1 = [0, 3, 1, 7, 5, 0, 5, 8, 0, 4]\n",
    "print(quiz_2(list_1))"
   ]
  },
  {
   "cell_type": "code",
   "execution_count": 3,
   "metadata": {},
   "outputs": [
    {
     "data": {
      "text/plain": [
       "str"
      ]
     },
     "execution_count": 3,
     "metadata": {},
     "output_type": "execute_result"
    }
   ],
   "source": [
    "type('1')"
   ]
  },
  {
   "cell_type": "code",
   "execution_count": 4,
   "metadata": {},
   "outputs": [
    {
     "data": {
      "text/plain": [
       "[1, 3, 4, 5]"
      ]
     },
     "execution_count": 4,
     "metadata": {},
     "output_type": "execute_result"
    }
   ],
   "source": [
    "list_1 = [0, 3, 1, 7, 5, 0, 5, 8, 0, 4]\n",
    "\n",
    "def quiz_2(list_data):\n",
    "    a = set(list_data)\n",
    "    return (list(a)[1:5])\n",
    "quiz_2(list_1)"
   ]
  },
  {
   "cell_type": "code",
   "execution_count": 5,
   "metadata": {},
   "outputs": [],
   "source": [
    "country_code={\"America\":1,\"Korea\":82,\"China\":86,\"Japan\":81}\n"
   ]
  },
  {
   "cell_type": "code",
   "execution_count": 6,
   "metadata": {},
   "outputs": [
    {
     "data": {
      "text/plain": [
       "dict_values([1, 82, 86, 81])"
      ]
     },
     "execution_count": 6,
     "metadata": {},
     "output_type": "execute_result"
    }
   ],
   "source": [
    "country_code.values()"
   ]
  },
  {
   "cell_type": "code",
   "execution_count": 7,
   "metadata": {},
   "outputs": [
    {
     "data": {
      "text/plain": [
       "{'America': 1, 'Korea': 82, 'China': 86, 'Japan': 81}"
      ]
     },
     "execution_count": 7,
     "metadata": {},
     "output_type": "execute_result"
    }
   ],
   "source": [
    "country_code"
   ]
  },
  {
   "cell_type": "code",
   "execution_count": 8,
   "metadata": {},
   "outputs": [
    {
     "data": {
      "text/plain": [
       "dict_keys(['America', 'Korea', 'China', 'Japan'])"
      ]
     },
     "execution_count": 8,
     "metadata": {},
     "output_type": "execute_result"
    }
   ],
   "source": [
    "country_code.keys()"
   ]
  },
  {
   "cell_type": "code",
   "execution_count": 9,
   "metadata": {},
   "outputs": [
    {
     "data": {
      "text/plain": [
       "False"
      ]
     },
     "execution_count": 9,
     "metadata": {},
     "output_type": "execute_result"
    }
   ],
   "source": [
    "85 in country_code.values()"
   ]
  },
  {
   "cell_type": "code",
   "execution_count": 12,
   "metadata": {},
   "outputs": [
    {
     "name": "stdout",
     "output_type": "stream",
     "text": [
      "22\n"
     ]
    }
   ],
   "source": [
    "a = 0\n",
    "midterm_set = set([1, 5, 7, 4, 3, 2, 1, 1, 2, 3])\n",
    "for i in midterm_set:\n",
    "    a = a+i\n",
    "print(a)"
   ]
  },
  {
   "cell_type": "code",
   "execution_count": 15,
   "metadata": {},
   "outputs": [
    {
     "name": "stdout",
     "output_type": "stream",
     "text": [
      "False\n"
     ]
    }
   ],
   "source": [
    "def delete_a_list_element(list_data, element_value):\n",
    "    if element_value in list_data:\n",
    "        list_data.remove(element_value)\n",
    "        return list_data\n",
    "    else:\n",
    "        return \"False\"\n",
    "list_data = ['a', 1, 'gachon', '2016.0']\n",
    "element = float(2016)\n",
    "result = delete_a_list_element(list_data, element)\n",
    "print(result)"
   ]
  },
  {
   "cell_type": "code",
   "execution_count": 17,
   "metadata": {},
   "outputs": [
    {
     "name": "stdout",
     "output_type": "stream",
     "text": [
      "{1, 2, 3, 4}\n"
     ]
    }
   ],
   "source": [
    "def add_number(original_list):\n",
    "    original_list += [1]\n",
    "    mylist = [1, 2, 3, 4]\n",
    "    add_number(mylist)\n",
    "print(set(mylist))"
   ]
  },
  {
   "cell_type": "code",
   "execution_count": 22,
   "metadata": {},
   "outputs": [
    {
     "data": {
      "text/plain": [
       "2016"
      ]
     },
     "execution_count": 22,
     "metadata": {},
     "output_type": "execute_result"
    }
   ],
   "source": [
    "a = [3, \"apple\", 2016, 4]\n",
    "b = a.pop(0)\n",
    "c = a.pop(1)\n",
    "#print(b + c)\n",
    "c"
   ]
  },
  {
   "cell_type": "code",
   "execution_count": 24,
   "metadata": {},
   "outputs": [
    {
     "name": "stdout",
     "output_type": "stream",
     "text": [
      "19\n"
     ]
    }
   ],
   "source": [
    "def week_seven(sentence1):\n",
    "    cells = set(sentence1.replace(' ','').lower())\n",
    "    return cells\n",
    "sentence_a = \"The quick brown fox jumps over the lazy dog\"\n",
    "sentence_b = \"I love you\"\n",
    "print(len(week_seven(sentence_a)-week_seven(sentence_b)))"
   ]
  },
  {
   "cell_type": "code",
   "execution_count": 26,
   "metadata": {},
   "outputs": [
    {
     "name": "stdout",
     "output_type": "stream",
     "text": [
      "[1, 2, 3, 4, 5, 6]\n"
     ]
    }
   ],
   "source": [
    "tuple_1 = (1, 2, 3)\n",
    "tuple_2 = (4, 5, 6)\n",
    "def quiz_1(data_1, data_2):\n",
    "    result = []\n",
    "    for i in (tuple_1 + tuple_2):\n",
    "        result.append(i)\n",
    "    return (result)\n",
    "print(quiz_1(tuple_1, tuple_2))"
   ]
  },
  {
   "cell_type": "code",
   "execution_count": 28,
   "metadata": {},
   "outputs": [
    {
     "name": "stdout",
     "output_type": "stream",
     "text": [
      "4\n"
     ]
    }
   ],
   "source": [
    "dict_1 = {2:1, 4:2, 6:3, 8:4, 10:6}\n",
    "dict_keys = list(dict_1.keys())\n",
    "dict_values = list(dict_1.values())\n",
    "\n",
    "dict_2 = dict()\n",
    "for i in range(len(dict_keys)):\n",
    "    dict_2[dict_values[i]] = dict_keys[i]\n",
    "\n",
    "print(dict_2[2])"
   ]
  },
  {
   "cell_type": "code",
   "execution_count": 32,
   "metadata": {},
   "outputs": [
    {
     "ename": "UnboundLocalError",
     "evalue": "cannot access local variable 'name' where it is not associated with a value",
     "output_type": "error",
     "traceback": [
      "\u001b[1;31m---------------------------------------------------------------------------\u001b[0m",
      "\u001b[1;31mUnboundLocalError\u001b[0m                         Traceback (most recent call last)",
      "Cell \u001b[1;32mIn[32], line 5\u001b[0m\n\u001b[0;32m      3\u001b[0m     \u001b[38;5;28mprint\u001b[39m(name)\n\u001b[0;32m      4\u001b[0m     name \u001b[38;5;241m=\u001b[39m \u001b[38;5;124m'\u001b[39m\u001b[38;5;124msehoon\u001b[39m\u001b[38;5;124m'\u001b[39m    \n\u001b[1;32m----> 5\u001b[0m call_my_name()\n",
      "Cell \u001b[1;32mIn[32], line 3\u001b[0m, in \u001b[0;36mcall_my_name\u001b[1;34m()\u001b[0m\n\u001b[0;32m      2\u001b[0m \u001b[38;5;28;01mdef\u001b[39;00m \u001b[38;5;21mcall_my_name\u001b[39m():\n\u001b[1;32m----> 3\u001b[0m     \u001b[38;5;28mprint\u001b[39m(name)\n\u001b[0;32m      4\u001b[0m     name \u001b[38;5;241m=\u001b[39m \u001b[38;5;124m'\u001b[39m\u001b[38;5;124msehoon\u001b[39m\u001b[38;5;124m'\u001b[39m\n",
      "\u001b[1;31mUnboundLocalError\u001b[0m: cannot access local variable 'name' where it is not associated with a value"
     ]
    }
   ],
   "source": [
    "name = 'jiho'\n",
    "def call_my_name():\n",
    "    print(name)\n",
    "    name = 'sehoon'    \n",
    "call_my_name()\n"
   ]
  },
  {
   "cell_type": "code",
   "execution_count": 34,
   "metadata": {},
   "outputs": [
    {
     "name": "stdout",
     "output_type": "stream",
     "text": [
      "None\n"
     ]
    }
   ],
   "source": [
    "def sotring_function(list_value):\n",
    "    return list_value.sort()\n",
    "print(sotring_function([5,4,3,2,1]))"
   ]
  },
  {
   "cell_type": "code",
   "execution_count": 35,
   "metadata": {},
   "outputs": [
    {
     "name": "stdout",
     "output_type": "stream",
     "text": [
      "None\n"
     ]
    }
   ],
   "source": [
    "country = [\"Korea\", \"Japan\", \"China\"]\n",
    "country.append(\"Remove\")\n",
    "print(country.remove(\"Remove\"))"
   ]
  },
  {
   "cell_type": "code",
   "execution_count": 36,
   "metadata": {},
   "outputs": [
    {
     "name": "stdout",
     "output_type": "stream",
     "text": [
      "orange&pink&brown&black&white&yellow\n"
     ]
    }
   ],
   "source": [
    "colors = ['orange', 'pink', 'brown', 'black', 'white', 'yellow']\n",
    "result = '&'.join(colors)\n",
    "print(result)\n"
   ]
  },
  {
   "cell_type": "code",
   "execution_count": 40,
   "metadata": {},
   "outputs": [
    {
     "data": {
      "text/plain": [
       "['a0',\n",
       " 'a2',\n",
       " 'a4',\n",
       " 'a6',\n",
       " 'a8',\n",
       " 'a10',\n",
       " 'a12',\n",
       " 'a14',\n",
       " 'a16',\n",
       " 'a18',\n",
       " 'b0',\n",
       " 'b2',\n",
       " 'b4',\n",
       " 'b6',\n",
       " 'b8',\n",
       " 'b10',\n",
       " 'b12',\n",
       " 'b14',\n",
       " 'b16',\n",
       " 'b18',\n",
       " 'c0',\n",
       " 'c2',\n",
       " 'c4',\n",
       " 'c6',\n",
       " 'c8',\n",
       " 'c10',\n",
       " 'c12',\n",
       " 'c14',\n",
       " 'c16',\n",
       " 'c18',\n",
       " 'd0',\n",
       " 'd2',\n",
       " 'd4',\n",
       " 'd6',\n",
       " 'd8',\n",
       " 'd10',\n",
       " 'd12',\n",
       " 'd14',\n",
       " 'd16',\n",
       " 'd18',\n",
       " 'e0',\n",
       " 'e2',\n",
       " 'e4',\n",
       " 'e6',\n",
       " 'e8',\n",
       " 'e10',\n",
       " 'e12',\n",
       " 'e14',\n",
       " 'e16',\n",
       " 'e18',\n",
       " 'f0',\n",
       " 'f2',\n",
       " 'f4',\n",
       " 'f6',\n",
       " 'f8',\n",
       " 'f10',\n",
       " 'f12',\n",
       " 'f14',\n",
       " 'f16',\n",
       " 'f18',\n",
       " 'g0',\n",
       " 'g2',\n",
       " 'g4',\n",
       " 'g6',\n",
       " 'g8',\n",
       " 'g10',\n",
       " 'g12',\n",
       " 'g14',\n",
       " 'g16',\n",
       " 'g18',\n",
       " 'h0',\n",
       " 'h2',\n",
       " 'h4',\n",
       " 'h6',\n",
       " 'h8',\n",
       " 'h10',\n",
       " 'h12',\n",
       " 'h14',\n",
       " 'h16',\n",
       " 'h18']"
      ]
     },
     "execution_count": 40,
     "metadata": {},
     "output_type": "execute_result"
    }
   ],
   "source": [
    "alphabet = [\"a\", \"b\", \"c\", \"d\", \"e\", \"f\", \"g\", \"h\"]\n",
    "nums = [i for i in range(20)]\n",
    "answer = [alpha+str(num) for alpha in alphabet for num in nums if num%2 == 0]\n",
    "print(len(answer))\n"
   ]
  }
 ],
 "metadata": {
  "kernelspec": {
   "display_name": "base",
   "language": "python",
   "name": "python3"
  },
  "language_info": {
   "codemirror_mode": {
    "name": "ipython",
    "version": 3
   },
   "file_extension": ".py",
   "mimetype": "text/x-python",
   "name": "python",
   "nbconvert_exporter": "python",
   "pygments_lexer": "ipython3",
   "version": "3.12.4"
  }
 },
 "nbformat": 4,
 "nbformat_minor": 2
}
