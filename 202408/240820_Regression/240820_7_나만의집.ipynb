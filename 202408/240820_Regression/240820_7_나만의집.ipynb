{
 "cells": [
  {
   "cell_type": "code",
   "execution_count": 89,
   "metadata": {},
   "outputs": [],
   "source": [
    "import cv2"
   ]
  },
  {
   "cell_type": "code",
   "execution_count": 90,
   "metadata": {},
   "outputs": [],
   "source": [
    "img = cv2.imread('./img/blank_500.jpg') "
   ]
  },
  {
   "cell_type": "code",
   "execution_count": 91,
   "metadata": {},
   "outputs": [
    {
     "data": {
      "text/plain": [
       "(500, 500, 3)"
      ]
     },
     "execution_count": 91,
     "metadata": {},
     "output_type": "execute_result"
    }
   ],
   "source": [
    "img.shape"
   ]
  },
  {
   "cell_type": "code",
   "execution_count": 92,
   "metadata": {},
   "outputs": [
    {
     "data": {
      "text/plain": [
       "3"
      ]
     },
     "execution_count": 92,
     "metadata": {},
     "output_type": "execute_result"
    }
   ],
   "source": [
    "img.ndim"
   ]
  },
  {
   "cell_type": "code",
   "execution_count": 94,
   "metadata": {},
   "outputs": [],
   "source": [
    "import numpy as np\n",
    "\n",
    "cv2.rectangle(img, (100, 200), (400, 450), (0, 200 ,200), -1)\n",
    "triangle_cnt = np.array( [(50, 200), (250, 0), (450, 200)] )\n",
    "cv2.drawContours(img, [triangle_cnt], 0, (0, 255, 0), -1)\n",
    "cv2.rectangle(img, (150, 250), (300, 350), (150, 0 ,0), -1)\n",
    "\n",
    "cv2.rectangle(img, (20, 70), (40, 600), (20, 20 ,0), -1)\n",
    "\n",
    "\n",
    "# 원 그리기\n",
    "center_coordinates = (30, 40)  # 원의 중심 좌표\n",
    "radius = 30  # 원의 반지름\n",
    "color = (0, 0, 255)  # 원의 색상 (BGR 형식 - 빨간색)\n",
    "thickness = -1  # 두께 (-1은 내부를 채우는 옵션)\n",
    "\n",
    "cv2.circle(img, center_coordinates, radius, color, thickness) \n",
    "\n",
    "cv2.imshow(\"Home\", img)  \n",
    "cv2.waitKey(0)\n",
    "cv2.destroyAllWindows()"
   ]
  },
  {
   "cell_type": "markdown",
   "metadata": {},
   "source": []
  },
  {
   "cell_type": "code",
   "execution_count": null,
   "metadata": {},
   "outputs": [],
   "source": []
  }
 ],
 "metadata": {
  "kernelspec": {
   "display_name": "mldltest1",
   "language": "python",
   "name": "python3"
  },
  "language_info": {
   "codemirror_mode": {
    "name": "ipython",
    "version": 3
   },
   "file_extension": ".py",
   "mimetype": "text/x-python",
   "name": "python",
   "nbconvert_exporter": "python",
   "pygments_lexer": "ipython3",
   "version": "3.8.19"
  }
 },
 "nbformat": 4,
 "nbformat_minor": 2
}
