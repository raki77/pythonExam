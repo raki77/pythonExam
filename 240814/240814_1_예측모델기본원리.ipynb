{
 "cells": [
  {
   "cell_type": "code",
   "execution_count": 70,
   "metadata": {},
   "outputs": [],
   "source": [
    "import tensorflow as tf"
   ]
  },
  {
   "cell_type": "code",
   "execution_count": 71,
   "metadata": {},
   "outputs": [
    {
     "data": {
      "text/plain": [
       "'2.13.0'"
      ]
     },
     "execution_count": 71,
     "metadata": {},
     "output_type": "execute_result"
    }
   ],
   "source": [
    "tf.__version__"
   ]
  },
  {
   "cell_type": "code",
   "execution_count": 72,
   "metadata": {},
   "outputs": [],
   "source": [
    "import pandas as pd\n",
    "df_ori = pd.read_csv(\"C:/shjung/pythonExam/240813/ThoraricSurgery3_copy.csv\", header=None)"
   ]
  },
  {
   "cell_type": "code",
   "execution_count": 73,
   "metadata": {},
   "outputs": [
    {
     "data": {
      "text/html": [
       "<div>\n",
       "<style scoped>\n",
       "    .dataframe tbody tr th:only-of-type {\n",
       "        vertical-align: middle;\n",
       "    }\n",
       "\n",
       "    .dataframe tbody tr th {\n",
       "        vertical-align: top;\n",
       "    }\n",
       "\n",
       "    .dataframe thead th {\n",
       "        text-align: right;\n",
       "    }\n",
       "</style>\n",
       "<table border=\"1\" class=\"dataframe\">\n",
       "  <thead>\n",
       "    <tr style=\"text-align: right;\">\n",
       "      <th></th>\n",
       "      <th>0</th>\n",
       "      <th>1</th>\n",
       "      <th>2</th>\n",
       "      <th>3</th>\n",
       "      <th>4</th>\n",
       "      <th>5</th>\n",
       "      <th>6</th>\n",
       "      <th>7</th>\n",
       "      <th>8</th>\n",
       "      <th>9</th>\n",
       "      <th>10</th>\n",
       "      <th>11</th>\n",
       "      <th>12</th>\n",
       "      <th>13</th>\n",
       "      <th>14</th>\n",
       "      <th>15</th>\n",
       "      <th>16</th>\n",
       "    </tr>\n",
       "  </thead>\n",
       "  <tbody>\n",
       "    <tr>\n",
       "      <th>0</th>\n",
       "      <td>1</td>\n",
       "      <td>2.88</td>\n",
       "      <td>2.16</td>\n",
       "      <td>1</td>\n",
       "      <td>0</td>\n",
       "      <td>0</td>\n",
       "      <td>0</td>\n",
       "      <td>1</td>\n",
       "      <td>1</td>\n",
       "      <td>3</td>\n",
       "      <td>0</td>\n",
       "      <td>0</td>\n",
       "      <td>0</td>\n",
       "      <td>1</td>\n",
       "      <td>0</td>\n",
       "      <td>60</td>\n",
       "      <td>0</td>\n",
       "    </tr>\n",
       "    <tr>\n",
       "      <th>1</th>\n",
       "      <td>2</td>\n",
       "      <td>3.40</td>\n",
       "      <td>1.88</td>\n",
       "      <td>0</td>\n",
       "      <td>0</td>\n",
       "      <td>0</td>\n",
       "      <td>0</td>\n",
       "      <td>0</td>\n",
       "      <td>0</td>\n",
       "      <td>1</td>\n",
       "      <td>0</td>\n",
       "      <td>0</td>\n",
       "      <td>0</td>\n",
       "      <td>1</td>\n",
       "      <td>0</td>\n",
       "      <td>51</td>\n",
       "      <td>0</td>\n",
       "    </tr>\n",
       "    <tr>\n",
       "      <th>2</th>\n",
       "      <td>2</td>\n",
       "      <td>2.76</td>\n",
       "      <td>2.08</td>\n",
       "      <td>1</td>\n",
       "      <td>0</td>\n",
       "      <td>0</td>\n",
       "      <td>0</td>\n",
       "      <td>1</td>\n",
       "      <td>0</td>\n",
       "      <td>0</td>\n",
       "      <td>0</td>\n",
       "      <td>0</td>\n",
       "      <td>0</td>\n",
       "      <td>1</td>\n",
       "      <td>0</td>\n",
       "      <td>59</td>\n",
       "      <td>0</td>\n",
       "    </tr>\n",
       "    <tr>\n",
       "      <th>3</th>\n",
       "      <td>2</td>\n",
       "      <td>3.68</td>\n",
       "      <td>3.04</td>\n",
       "      <td>0</td>\n",
       "      <td>0</td>\n",
       "      <td>0</td>\n",
       "      <td>0</td>\n",
       "      <td>0</td>\n",
       "      <td>0</td>\n",
       "      <td>0</td>\n",
       "      <td>0</td>\n",
       "      <td>0</td>\n",
       "      <td>0</td>\n",
       "      <td>0</td>\n",
       "      <td>0</td>\n",
       "      <td>54</td>\n",
       "      <td>0</td>\n",
       "    </tr>\n",
       "    <tr>\n",
       "      <th>4</th>\n",
       "      <td>2</td>\n",
       "      <td>2.44</td>\n",
       "      <td>0.96</td>\n",
       "      <td>2</td>\n",
       "      <td>0</td>\n",
       "      <td>1</td>\n",
       "      <td>0</td>\n",
       "      <td>1</td>\n",
       "      <td>1</td>\n",
       "      <td>0</td>\n",
       "      <td>0</td>\n",
       "      <td>0</td>\n",
       "      <td>0</td>\n",
       "      <td>1</td>\n",
       "      <td>0</td>\n",
       "      <td>73</td>\n",
       "      <td>1</td>\n",
       "    </tr>\n",
       "    <tr>\n",
       "      <th>...</th>\n",
       "      <td>...</td>\n",
       "      <td>...</td>\n",
       "      <td>...</td>\n",
       "      <td>...</td>\n",
       "      <td>...</td>\n",
       "      <td>...</td>\n",
       "      <td>...</td>\n",
       "      <td>...</td>\n",
       "      <td>...</td>\n",
       "      <td>...</td>\n",
       "      <td>...</td>\n",
       "      <td>...</td>\n",
       "      <td>...</td>\n",
       "      <td>...</td>\n",
       "      <td>...</td>\n",
       "      <td>...</td>\n",
       "      <td>...</td>\n",
       "    </tr>\n",
       "    <tr>\n",
       "      <th>465</th>\n",
       "      <td>1</td>\n",
       "      <td>3.88</td>\n",
       "      <td>2.12</td>\n",
       "      <td>1</td>\n",
       "      <td>0</td>\n",
       "      <td>0</td>\n",
       "      <td>0</td>\n",
       "      <td>1</td>\n",
       "      <td>0</td>\n",
       "      <td>2</td>\n",
       "      <td>0</td>\n",
       "      <td>0</td>\n",
       "      <td>0</td>\n",
       "      <td>1</td>\n",
       "      <td>0</td>\n",
       "      <td>63</td>\n",
       "      <td>0</td>\n",
       "    </tr>\n",
       "    <tr>\n",
       "      <th>466</th>\n",
       "      <td>2</td>\n",
       "      <td>3.76</td>\n",
       "      <td>3.12</td>\n",
       "      <td>0</td>\n",
       "      <td>0</td>\n",
       "      <td>0</td>\n",
       "      <td>0</td>\n",
       "      <td>0</td>\n",
       "      <td>0</td>\n",
       "      <td>0</td>\n",
       "      <td>0</td>\n",
       "      <td>0</td>\n",
       "      <td>0</td>\n",
       "      <td>1</td>\n",
       "      <td>0</td>\n",
       "      <td>61</td>\n",
       "      <td>0</td>\n",
       "    </tr>\n",
       "    <tr>\n",
       "      <th>467</th>\n",
       "      <td>2</td>\n",
       "      <td>3.04</td>\n",
       "      <td>2.08</td>\n",
       "      <td>1</td>\n",
       "      <td>0</td>\n",
       "      <td>0</td>\n",
       "      <td>0</td>\n",
       "      <td>1</td>\n",
       "      <td>0</td>\n",
       "      <td>2</td>\n",
       "      <td>0</td>\n",
       "      <td>0</td>\n",
       "      <td>0</td>\n",
       "      <td>0</td>\n",
       "      <td>0</td>\n",
       "      <td>52</td>\n",
       "      <td>0</td>\n",
       "    </tr>\n",
       "    <tr>\n",
       "      <th>468</th>\n",
       "      <td>2</td>\n",
       "      <td>1.96</td>\n",
       "      <td>1.68</td>\n",
       "      <td>1</td>\n",
       "      <td>0</td>\n",
       "      <td>0</td>\n",
       "      <td>0</td>\n",
       "      <td>1</td>\n",
       "      <td>1</td>\n",
       "      <td>1</td>\n",
       "      <td>0</td>\n",
       "      <td>0</td>\n",
       "      <td>0</td>\n",
       "      <td>1</td>\n",
       "      <td>0</td>\n",
       "      <td>79</td>\n",
       "      <td>0</td>\n",
       "    </tr>\n",
       "    <tr>\n",
       "      <th>469</th>\n",
       "      <td>2</td>\n",
       "      <td>4.72</td>\n",
       "      <td>3.56</td>\n",
       "      <td>0</td>\n",
       "      <td>0</td>\n",
       "      <td>0</td>\n",
       "      <td>0</td>\n",
       "      <td>0</td>\n",
       "      <td>0</td>\n",
       "      <td>1</td>\n",
       "      <td>0</td>\n",
       "      <td>0</td>\n",
       "      <td>0</td>\n",
       "      <td>1</td>\n",
       "      <td>0</td>\n",
       "      <td>51</td>\n",
       "      <td>0</td>\n",
       "    </tr>\n",
       "  </tbody>\n",
       "</table>\n",
       "<p>470 rows × 17 columns</p>\n",
       "</div>"
      ],
      "text/plain": [
       "     0     1     2   3   4   5   6   7   8   9   10  11  12  13  14  15  16\n",
       "0     1  2.88  2.16   1   0   0   0   1   1   3   0   0   0   1   0  60   0\n",
       "1     2  3.40  1.88   0   0   0   0   0   0   1   0   0   0   1   0  51   0\n",
       "2     2  2.76  2.08   1   0   0   0   1   0   0   0   0   0   1   0  59   0\n",
       "3     2  3.68  3.04   0   0   0   0   0   0   0   0   0   0   0   0  54   0\n",
       "4     2  2.44  0.96   2   0   1   0   1   1   0   0   0   0   1   0  73   1\n",
       "..   ..   ...   ...  ..  ..  ..  ..  ..  ..  ..  ..  ..  ..  ..  ..  ..  ..\n",
       "465   1  3.88  2.12   1   0   0   0   1   0   2   0   0   0   1   0  63   0\n",
       "466   2  3.76  3.12   0   0   0   0   0   0   0   0   0   0   1   0  61   0\n",
       "467   2  3.04  2.08   1   0   0   0   1   0   2   0   0   0   0   0  52   0\n",
       "468   2  1.96  1.68   1   0   0   0   1   1   1   0   0   0   1   0  79   0\n",
       "469   2  4.72  3.56   0   0   0   0   0   0   1   0   0   0   1   0  51   0\n",
       "\n",
       "[470 rows x 17 columns]"
      ]
     },
     "execution_count": 73,
     "metadata": {},
     "output_type": "execute_result"
    }
   ],
   "source": [
    "df = df_ori\n",
    "df\n",
    "# 470x17"
   ]
  },
  {
   "cell_type": "code",
   "execution_count": 74,
   "metadata": {},
   "outputs": [
    {
     "data": {
      "text/plain": [
       "0     0\n",
       "1     0\n",
       "2     0\n",
       "3     0\n",
       "4     0\n",
       "5     0\n",
       "6     0\n",
       "7     0\n",
       "8     0\n",
       "9     0\n",
       "10    0\n",
       "11    0\n",
       "12    0\n",
       "13    0\n",
       "14    0\n",
       "15    0\n",
       "16    0\n",
       "dtype: int64"
      ]
     },
     "execution_count": 74,
     "metadata": {},
     "output_type": "execute_result"
    }
   ],
   "source": [
    "df.isna().sum()"
   ]
  },
  {
   "cell_type": "code",
   "execution_count": 75,
   "metadata": {},
   "outputs": [
    {
     "data": {
      "text/html": [
       "<div>\n",
       "<style scoped>\n",
       "    .dataframe tbody tr th:only-of-type {\n",
       "        vertical-align: middle;\n",
       "    }\n",
       "\n",
       "    .dataframe tbody tr th {\n",
       "        vertical-align: top;\n",
       "    }\n",
       "\n",
       "    .dataframe thead th {\n",
       "        text-align: right;\n",
       "    }\n",
       "</style>\n",
       "<table border=\"1\" class=\"dataframe\">\n",
       "  <thead>\n",
       "    <tr style=\"text-align: right;\">\n",
       "      <th></th>\n",
       "      <th>0</th>\n",
       "      <th>1</th>\n",
       "      <th>2</th>\n",
       "      <th>3</th>\n",
       "      <th>4</th>\n",
       "      <th>5</th>\n",
       "      <th>6</th>\n",
       "      <th>7</th>\n",
       "      <th>8</th>\n",
       "      <th>9</th>\n",
       "      <th>10</th>\n",
       "      <th>11</th>\n",
       "      <th>12</th>\n",
       "      <th>13</th>\n",
       "      <th>14</th>\n",
       "      <th>15</th>\n",
       "      <th>16</th>\n",
       "    </tr>\n",
       "  </thead>\n",
       "  <tbody>\n",
       "    <tr>\n",
       "      <th>0</th>\n",
       "      <td>1</td>\n",
       "      <td>2.88</td>\n",
       "      <td>2.16</td>\n",
       "      <td>1</td>\n",
       "      <td>0</td>\n",
       "      <td>0</td>\n",
       "      <td>0</td>\n",
       "      <td>1</td>\n",
       "      <td>1</td>\n",
       "      <td>3</td>\n",
       "      <td>0</td>\n",
       "      <td>0</td>\n",
       "      <td>0</td>\n",
       "      <td>1</td>\n",
       "      <td>0</td>\n",
       "      <td>60</td>\n",
       "      <td>0</td>\n",
       "    </tr>\n",
       "    <tr>\n",
       "      <th>1</th>\n",
       "      <td>2</td>\n",
       "      <td>3.40</td>\n",
       "      <td>1.88</td>\n",
       "      <td>0</td>\n",
       "      <td>0</td>\n",
       "      <td>0</td>\n",
       "      <td>0</td>\n",
       "      <td>0</td>\n",
       "      <td>0</td>\n",
       "      <td>1</td>\n",
       "      <td>0</td>\n",
       "      <td>0</td>\n",
       "      <td>0</td>\n",
       "      <td>1</td>\n",
       "      <td>0</td>\n",
       "      <td>51</td>\n",
       "      <td>0</td>\n",
       "    </tr>\n",
       "    <tr>\n",
       "      <th>2</th>\n",
       "      <td>2</td>\n",
       "      <td>2.76</td>\n",
       "      <td>2.08</td>\n",
       "      <td>1</td>\n",
       "      <td>0</td>\n",
       "      <td>0</td>\n",
       "      <td>0</td>\n",
       "      <td>1</td>\n",
       "      <td>0</td>\n",
       "      <td>0</td>\n",
       "      <td>0</td>\n",
       "      <td>0</td>\n",
       "      <td>0</td>\n",
       "      <td>1</td>\n",
       "      <td>0</td>\n",
       "      <td>59</td>\n",
       "      <td>0</td>\n",
       "    </tr>\n",
       "    <tr>\n",
       "      <th>3</th>\n",
       "      <td>2</td>\n",
       "      <td>3.68</td>\n",
       "      <td>3.04</td>\n",
       "      <td>0</td>\n",
       "      <td>0</td>\n",
       "      <td>0</td>\n",
       "      <td>0</td>\n",
       "      <td>0</td>\n",
       "      <td>0</td>\n",
       "      <td>0</td>\n",
       "      <td>0</td>\n",
       "      <td>0</td>\n",
       "      <td>0</td>\n",
       "      <td>0</td>\n",
       "      <td>0</td>\n",
       "      <td>54</td>\n",
       "      <td>0</td>\n",
       "    </tr>\n",
       "    <tr>\n",
       "      <th>4</th>\n",
       "      <td>2</td>\n",
       "      <td>2.44</td>\n",
       "      <td>0.96</td>\n",
       "      <td>2</td>\n",
       "      <td>0</td>\n",
       "      <td>1</td>\n",
       "      <td>0</td>\n",
       "      <td>1</td>\n",
       "      <td>1</td>\n",
       "      <td>0</td>\n",
       "      <td>0</td>\n",
       "      <td>0</td>\n",
       "      <td>0</td>\n",
       "      <td>1</td>\n",
       "      <td>0</td>\n",
       "      <td>73</td>\n",
       "      <td>1</td>\n",
       "    </tr>\n",
       "  </tbody>\n",
       "</table>\n",
       "</div>"
      ],
      "text/plain": [
       "   0     1     2   3   4   5   6   7   8   9   10  11  12  13  14  15  16\n",
       "0   1  2.88  2.16   1   0   0   0   1   1   3   0   0   0   1   0  60   0\n",
       "1   2  3.40  1.88   0   0   0   0   0   0   1   0   0   0   1   0  51   0\n",
       "2   2  2.76  2.08   1   0   0   0   1   0   0   0   0   0   1   0  59   0\n",
       "3   2  3.68  3.04   0   0   0   0   0   0   0   0   0   0   0   0  54   0\n",
       "4   2  2.44  0.96   2   0   1   0   1   1   0   0   0   0   1   0  73   1"
      ]
     },
     "execution_count": 75,
     "metadata": {},
     "output_type": "execute_result"
    }
   ],
   "source": [
    "df.head()"
   ]
  },
  {
   "attachments": {
    "image.png": {
     "image/png": "[encoded data removed]"
    }
   },
   "cell_type": "markdown",
   "metadata": {},
   "source": [
    "![image.png](attachment:image.png)"
   ]
  },
  {
   "cell_type": "code",
   "execution_count": 76,
   "metadata": {},
   "outputs": [],
   "source": [
    "# x = df_1[1]\n",
    "# y = df_1[16]\n",
    "# import matplotlib.pyplot as plt\n",
    "\n",
    "# plt.figure(figsize=(6, 4))\n",
    "\n",
    "# plt.bar(x,y)\n",
    "# # 그래프 보여주기\n",
    "# plt.show()"
   ]
  },
  {
   "cell_type": "code",
   "execution_count": 77,
   "metadata": {},
   "outputs": [],
   "source": [
    "# 지도 = 분류\n",
    "# SVC, 로지스틱 회귀\n",
    "model = tf.keras.models.Sequential()\n"
   ]
  },
  {
   "cell_type": "code",
   "execution_count": 78,
   "metadata": {},
   "outputs": [
    {
     "data": {
      "text/plain": [
       "<keras.src.engine.sequential.Sequential at 0x262899e94c0>"
      ]
     },
     "execution_count": 78,
     "metadata": {},
     "output_type": "execute_result"
    }
   ],
   "source": [
    "model"
   ]
  },
  {
   "cell_type": "code",
   "execution_count": 79,
   "metadata": {},
   "outputs": [],
   "source": [
    "from tensorflow.keras.models import Sequential\n",
    "from tensorflow.keras.layers import Dense\n",
    "\n"
   ]
  },
  {
   "cell_type": "code",
   "execution_count": 80,
   "metadata": {},
   "outputs": [
    {
     "data": {
      "text/plain": [
       "(470, 17)"
      ]
     },
     "execution_count": 80,
     "metadata": {},
     "output_type": "execute_result"
    }
   ],
   "source": [
    "df.values.shape"
   ]
  },
  {
   "cell_type": "code",
   "execution_count": 81,
   "metadata": {},
   "outputs": [
    {
     "data": {
      "text/plain": [
       "array([0., 0., 0., 0., 1., 0., 1., 1., 0., 0., 0., 0., 0., 1., 0., 0., 0.,\n",
       "       0., 0., 0., 0., 0., 0., 0., 1., 0., 0., 1., 0., 0., 1., 0., 0., 0.,\n",
       "       0., 0., 0., 0., 0., 0., 1., 1., 0., 1., 0., 0., 0., 1., 0., 0., 0.,\n",
       "       0., 0., 0., 0., 0., 0., 1., 0., 0., 1., 0., 0., 0., 0., 0., 0., 1.,\n",
       "       0., 0., 0., 0., 0., 0., 0., 1., 0., 1., 0., 0., 0., 0., 0., 0., 0.,\n",
       "       0., 0., 0., 0., 0., 0., 0., 1., 0., 0., 0., 1., 0., 0., 1., 0., 0.,\n",
       "       0., 0., 0., 0., 0., 0., 0., 0., 0., 0., 0., 0., 0., 1., 0., 0., 0.,\n",
       "       0., 0., 0., 0., 0., 0., 0., 0., 1., 1., 0., 0., 0., 1., 0., 0., 0.,\n",
       "       0., 1., 0., 0., 0., 0., 0., 1., 0., 0., 0., 0., 0., 0., 0., 1., 1.,\n",
       "       0., 0., 0., 0., 0., 0., 0., 0., 0., 0., 0., 0., 0., 0., 0., 0., 1.,\n",
       "       0., 0., 0., 1., 0., 1., 0., 0., 0., 0., 0., 0., 0., 0., 0., 1., 0.,\n",
       "       0., 0., 0., 0., 1., 0., 0., 0., 1., 1., 0., 0., 0., 0., 0., 0., 0.,\n",
       "       0., 0., 0., 0., 0., 1., 0., 1., 0., 1., 0., 0., 0., 0., 0., 0., 1.,\n",
       "       0., 0., 0., 0., 0., 0., 1., 0., 1., 0., 0., 0., 0., 0., 0., 0., 0.,\n",
       "       1., 1., 0., 0., 1., 0., 0., 0., 0., 0., 0., 0., 0., 1., 0., 0., 0.,\n",
       "       0., 0., 0., 0., 0., 1., 0., 0., 0., 0., 0., 0., 0., 1., 0., 1., 0.,\n",
       "       0., 0., 1., 0., 0., 0., 0., 0., 0., 0., 0., 0., 0., 0., 0., 0., 0.,\n",
       "       0., 0., 0., 0., 0., 0., 0., 1., 1., 0., 0., 0., 0., 1., 0., 0., 1.,\n",
       "       0., 0., 0., 0., 0., 0., 1., 0., 0., 0., 0., 0., 0., 0., 0., 1., 0.,\n",
       "       0., 0., 0., 0., 0., 0., 0., 0., 0., 0., 0., 1., 0., 0., 0., 0., 0.,\n",
       "       1., 0., 0., 0., 0., 0., 0., 0., 1., 0., 1., 0., 0., 0., 0., 0., 0.,\n",
       "       1., 0., 0., 0., 0., 1., 0., 0., 0., 0., 1., 0., 0., 0., 0., 0., 0.,\n",
       "       0., 0., 0., 0., 0., 0., 0., 0., 0., 0., 0., 0., 1., 0., 0., 0., 0.,\n",
       "       0., 0., 0., 0., 0., 0., 0., 0., 0., 0., 0., 0., 0., 1., 0., 0., 0.,\n",
       "       0., 0., 1., 0., 0., 0., 0., 0., 0., 0., 0., 1., 1., 1., 0., 0., 0.,\n",
       "       0., 1., 0., 0., 0., 0., 0., 0., 0., 0., 0., 0., 0., 0., 0., 0., 0.,\n",
       "       0., 0., 0., 0., 0., 0., 0., 1., 0., 0., 0., 0., 0., 0., 0., 0., 0.,\n",
       "       0., 0., 0., 0., 1., 0., 0., 0., 0., 0., 0.])"
      ]
     },
     "execution_count": 81,
     "metadata": {},
     "output_type": "execute_result"
    }
   ],
   "source": [
    "X = df.values[:, :16]\n",
    "y = df.values[:,16]\n",
    "y"
   ]
  },
  {
   "cell_type": "code",
   "execution_count": 82,
   "metadata": {},
   "outputs": [
    {
     "data": {
      "text/plain": [
       "(470, 16)"
      ]
     },
     "execution_count": 82,
     "metadata": {},
     "output_type": "execute_result"
    }
   ],
   "source": [
    "X.shape # 행렬\n",
    " "
   ]
  },
  {
   "cell_type": "code",
   "execution_count": 83,
   "metadata": {},
   "outputs": [],
   "source": [
    "# layer 안에 특징을 넣기\n",
    "# add(layer) method of keras.src.engine.sequential.Sequential instance\n",
    "#   Adds a layer instance on top of the layer stack.\n",
    "# help(model.add)\n",
    "\n",
    "# v 2.13 api document tf.keras.dense\n",
    "# tf.keras.layers.Dense(\n",
    "#     units,\n",
    "#     activation=None,\n",
    "#     use_bias=True,\n",
    "#     kernel_initializer='glorot_uniform',\n",
    "#     bias_initializer='zeros',\n",
    "#     kernel_regularizer=None,\n",
    "#     bias_regularizer=None,\n",
    "#     activity_regularizer=None,\n",
    "#     kernel_constraint=None,\n",
    "#     bias_constraint=None,\n",
    "#     lora_rank=None,\n",
    "#     **kwargs\n",
    "# )"
   ]
  },
  {
   "cell_type": "code",
   "execution_count": 84,
   "metadata": {},
   "outputs": [],
   "source": [
    "\n",
    "# 층을 하나 만들었다.\n",
    "model.add(Dense(30 , input_dim=16, activation='relu'))\n",
    "# 출력층 생성\n",
    "model.add(Dense(1, activation='sigmoid'))"
   ]
  },
  {
   "cell_type": "code",
   "execution_count": 93,
   "metadata": {},
   "outputs": [
    {
     "name": "stdout",
     "output_type": "stream",
     "text": [
      "Epoch 1/5\n",
      "15/15 [==============================] - 0s 1ms/step - loss: 1.3879 - accuracy: 0.8468\n",
      "Epoch 2/5\n",
      "15/15 [==============================] - 0s 1ms/step - loss: 0.6416 - accuracy: 0.8340\n",
      "Epoch 3/5\n",
      "15/15 [==============================] - 0s 928us/step - loss: 0.4891 - accuracy: 0.8319\n",
      "Epoch 4/5\n",
      "15/15 [==============================] - 0s 929us/step - loss: 0.4514 - accuracy: 0.8468\n",
      "Epoch 5/5\n",
      "15/15 [==============================] - 0s 1ms/step - loss: 0.4442 - accuracy: 0.8489\n"
     ]
    },
    {
     "data": {
      "text/plain": [
       "<keras.src.callbacks.History at 0x2628e7a1640>"
      ]
     },
     "execution_count": 93,
     "metadata": {},
     "output_type": "execute_result"
    }
   ],
   "source": [
    "# 손실함수, 최적화 adam, 확률적 경사하강법\n",
    "model.compile(loss='binary_crossentropy',\n",
    "              optimizer='adam', metrics=['accuracy']) \n",
    "# metrics : 측정항목\n",
    "model.fit(X, y, epochs=5, batch_size=32)"
   ]
  },
  {
   "cell_type": "code",
   "execution_count": null,
   "metadata": {},
   "outputs": [],
   "source": [
    "model"
   ]
  },
  {
   "cell_type": "markdown",
   "metadata": {},
   "source": [
    "#  다중 선형 회귀"
   ]
  },
  {
   "cell_type": "code",
   "execution_count": 7,
   "metadata": {},
   "outputs": [],
   "source": [
    "import numpy as np"
   ]
  },
  {
   "cell_type": "code",
   "execution_count": 8,
   "metadata": {},
   "outputs": [],
   "source": [
    "x1 = np.array([2,4,6,8]) # 공부 시간\n",
    "x2 = np.array([0,4,2,3]) # 과외 횟수\n",
    "y= np.array([81,93,91,97])"
   ]
  },
  {
   "cell_type": "code",
   "execution_count": 9,
   "metadata": {},
   "outputs": [],
   "source": [
    "import matplotlib.pyplot as plt\n",
    "from matplotlib import font_manager, rc\n",
    "import matplotlib.font_manager as fm\n",
    "\n",
    "plt.rcParams['font.family'] = 'Malgun Gothic'\n",
    "plt.rcParams['axes.unicode_minus'] = False"
   ]
  },
  {
   "cell_type": "code",
   "execution_count": 10,
   "metadata": {},
   "outputs": [
    {
     "data": {
      "image/png": "[encoded data removed]",
      "text/plain": [
       "<Figure size 500x500 with 1 Axes>"
      ]
     },
     "metadata": {},
     "output_type": "display_data"
    }
   ],
   "source": [
    "fig = plt.figure(figsize=(5,5))\n",
    "ax = fig.add_subplot(111, projection='3d')\n",
    "ax.scatter3D(x1, x2, y)\n",
    "ax.set_xlabel('공부한시간')\n",
    "ax.set_ylabel('과외수업횟수')\n",
    "ax.set_zlabel('점수')\n",
    "plt.show()"
   ]
  },
  {
   "cell_type": "code",
   "execution_count": 11,
   "metadata": {},
   "outputs": [],
   "source": [
    "a1, a2, b = 0 , 0, 0"
   ]
  },
  {
   "cell_type": "code",
   "execution_count": 14,
   "metadata": {},
   "outputs": [],
   "source": [
    "y_pred = a1 * x1 + a2 * x2 + b"
   ]
  },
  {
   "cell_type": "code",
   "execution_count": 15,
   "metadata": {},
   "outputs": [],
   "source": [
    "error = y - y_pred"
   ]
  },
  {
   "cell_type": "code",
   "execution_count": 17,
   "metadata": {},
   "outputs": [],
   "source": [
    "n = len(x1)\n",
    "a1_diff = (2/n) * sum( -x1 * (error))\n",
    "a2_diff = (2/n) * sum( -x2 * (error))\n",
    "b_diff =  (2/n) * sum( -(error))"
   ]
  },
  {
   "cell_type": "code",
   "execution_count": 19,
   "metadata": {},
   "outputs": [],
   "source": [
    "learning_rate = 0.03    # 에타 : 학습률"
   ]
  },
  {
   "cell_type": "code",
   "execution_count": 20,
   "metadata": {},
   "outputs": [],
   "source": [
    "# a1 = a1 - learning_rate * a1_diff\n",
    "# a2 = a2 - learning_rate * a2_diff\n",
    "# b = b - learning_rate * b_diff"
   ]
  },
  {
   "cell_type": "code",
   "execution_count": 22,
   "metadata": {},
   "outputs": [],
   "source": [
    "# 조기 멈춤 stop_array\n",
    "epochs = 2001"
   ]
  },
  {
   "cell_type": "code",
   "execution_count": 30,
   "metadata": {},
   "outputs": [
    {
     "name": "stdout",
     "output_type": "stream",
     "text": [
      "epoches=0, 기울기1=9.2800, 기울기2=4.2250, 절편=1.8100\n",
      "epoches=100, 기울기1=9.5110, 기울기2=5.0270, 절편=22.9205\n",
      "epoches=200, 기울기1=7.3238, 기울기2=4.2950, 절편=37.8751\n",
      "epoches=300, 기울기1=5.7381, 기울기2=3.7489, 절편=48.7589\n",
      "epoches=400, 기울기1=4.5844, 기울기2=3.3507, 절편=56.6800\n",
      "epoches=500, 기울기1=3.7447, 기울기2=3.0608, 절편=62.4448\n",
      "epoches=600, 기울기1=3.1337, 기울기2=2.8498, 절편=66.6404\n",
      "epoches=700, 기울기1=2.6890, 기울기2=2.6962, 절편=69.6938\n",
      "epoches=800, 기울기1=2.3653, 기울기2=2.5845, 절편=71.9160\n",
      "epoches=900, 기울기1=2.1297, 기울기2=2.5032, 절편=73.5333\n",
      "epoches=1000, 기울기1=1.9583, 기울기2=2.4440, 절편=74.7103\n",
      "epoches=1100, 기울기1=1.8336, 기울기2=2.4009, 절편=75.5670\n",
      "epoches=1200, 기울기1=1.7428, 기울기2=2.3695, 절편=76.1904\n",
      "epoches=1300, 기울기1=1.6767, 기울기2=2.3467, 절편=76.6441\n",
      "epoches=1400, 기울기1=1.6286, 기울기2=2.3301, 절편=76.9743\n",
      "epoches=1500, 기울기1=1.5936, 기울기2=2.3180, 절편=77.2146\n",
      "epoches=1600, 기울기1=1.5681, 기울기2=2.3092, 절편=77.3895\n",
      "epoches=1700, 기울기1=1.5496, 기울기2=2.3028, 절편=77.5168\n",
      "epoches=1800, 기울기1=1.5361, 기울기2=2.2982, 절편=77.6095\n",
      "epoches=1900, 기울기1=1.5263, 기울기2=2.2948, 절편=77.6769\n",
      "epoches=2000, 기울기1=1.5191, 기울기2=2.2923, 절편=77.7260\n"
     ]
    }
   ],
   "source": [
    "x1 = np.array([2,4,6,8]) # 공부 시간\n",
    "x2 = np.array([0,4,2,3]) # 과외 횟수\n",
    "y= np.array([81,93,91,97])\n",
    "\n",
    "a1, a2, b = 0 , 0, 0\n",
    "epochs = 2001\n",
    "learning_rate = 0.01    # 에타 : 학습률 , 조절값이다. 하이퍼 파라미터\n",
    "n = len(x1)\n",
    "\n",
    "for i in range(epochs):\n",
    "    y_pred = a1 * x1 + a2 * x2 + b\n",
    "    error = y - y_pred\n",
    "    a1_diff = (2/n) * sum( -x1 * (error))\n",
    "    a2_diff = (2/n) * sum( -x2 * (error))\n",
    "    b_diff =  (2/n) * sum( -(error))\n",
    "    \n",
    "    a1 = a1 - learning_rate * a1_diff\n",
    "    a2 = a2 - learning_rate * a2_diff\n",
    "    b = b - learning_rate * b_diff\n",
    "    \n",
    "    if i % 100 == 0:\n",
    "        print(f\"epoches={i:d}, 기울기1={a1:.4f}, 기울기2={a2:.4f}, 절편={b:.4f}\")"
   ]
  },
  {
   "cell_type": "code",
   "execution_count": 33,
   "metadata": {},
   "outputs": [
    {
     "name": "stdout",
     "output_type": "stream",
     "text": [
      "epoches=0, 기울기1=9.2800, 기울기2=4.2250, 절편=1.8100\n",
      "epoches=100, 기울기1=9.5110, 기울기2=5.0270, 절편=22.9205\n",
      "epoches=200, 기울기1=7.3238, 기울기2=4.2950, 절편=37.8751\n",
      "epoches=300, 기울기1=5.7381, 기울기2=3.7489, 절편=48.7589\n",
      "epoches=400, 기울기1=4.5844, 기울기2=3.3507, 절편=56.6800\n",
      "epoches=500, 기울기1=3.7447, 기울기2=3.0608, 절편=62.4448\n",
      "epoches=600, 기울기1=3.1337, 기울기2=2.8498, 절편=66.6404\n",
      "epoches=700, 기울기1=2.6890, 기울기2=2.6962, 절편=69.6938\n",
      "epoches=800, 기울기1=2.3653, 기울기2=2.5845, 절편=71.9160\n",
      "epoches=900, 기울기1=2.1297, 기울기2=2.5032, 절편=73.5333\n",
      "epoches=1000, 기울기1=1.9583, 기울기2=2.4440, 절편=74.7103\n",
      "epoches=1100, 기울기1=1.8336, 기울기2=2.4009, 절편=75.5670\n",
      "epoches=1200, 기울기1=1.7428, 기울기2=2.3695, 절편=76.1904\n",
      "epoches=1300, 기울기1=1.6767, 기울기2=2.3467, 절편=76.6441\n",
      "epoches=1400, 기울기1=1.6286, 기울기2=2.3301, 절편=76.9743\n",
      "epoches=1500, 기울기1=1.5936, 기울기2=2.3180, 절편=77.2146\n",
      "epoches=1600, 기울기1=1.5681, 기울기2=2.3092, 절편=77.3895\n",
      "epoches=1700, 기울기1=1.5496, 기울기2=2.3028, 절편=77.5168\n",
      "epoches=1800, 기울기1=1.5361, 기울기2=2.2982, 절편=77.6095\n",
      "epoches=1900, 기울기1=1.5263, 기울기2=2.2948, 절편=77.6769\n",
      "epoches=2000, 기울기1=1.5191, 기울기2=2.2923, 절편=77.7260\n",
      "epoches=2100, 기울기1=1.5139, 기울기2=2.2905, 절편=77.7617\n",
      "epoches=2200, 기울기1=1.5101, 기울기2=2.2892, 절편=77.7877\n",
      "epoches=2300, 기울기1=1.5074, 기울기2=2.2883, 절편=77.8066\n",
      "epoches=2400, 기울기1=1.5054, 기울기2=2.2876, 절편=77.8203\n",
      "epoches=2500, 기울기1=1.5039, 기울기2=2.2871, 절편=77.8304\n",
      "epoches=2600, 기울기1=1.5028, 기울기2=2.2867, 절편=77.8376\n",
      "epoches=2700, 기울기1=1.5021, 기울기2=2.2864, 절편=77.8430\n",
      "epoches=2800, 기울기1=1.5015, 기울기2=2.2862, 절편=77.8468\n",
      "epoches=2900, 기울기1=1.5011, 기울기2=2.2861, 절편=77.8496\n",
      "epoches=3000, 기울기1=1.5008, 기울기2=2.2860, 절편=77.8517\n",
      "epoches=3100, 기울기1=1.5006, 기울기2=2.2859, 절편=77.8532\n",
      "epoches=3200, 기울기1=1.5004, 기울기2=2.2859, 절편=77.8542\n",
      "epoches=3300, 기울기1=1.5003, 기울기2=2.2858, 절편=77.8550\n",
      "epoches=3400, 기울기1=1.5002, 기울기2=2.2858, 절편=77.8556\n",
      "epoches=3500, 기울기1=1.5002, 기울기2=2.2858, 절편=77.8560\n",
      "epoches=3600, 기울기1=1.5001, 기울기2=2.2858, 절편=77.8563\n",
      "epoches=3700, 기울기1=1.5001, 기울기2=2.2857, 절편=77.8566\n",
      "epoches=3800, 기울기1=1.5001, 기울기2=2.2857, 절편=77.8567\n",
      "epoches=3900, 기울기1=1.5000, 기울기2=2.2857, 절편=77.8568\n",
      "epoches=4000, 기울기1=1.5000, 기울기2=2.2857, 절편=77.8569\n",
      "epoches=4100, 기울기1=1.5000, 기울기2=2.2857, 절편=77.8570\n",
      "epoches=4200, 기울기1=1.5000, 기울기2=2.2857, 절편=77.8570\n",
      "epoches=4300, 기울기1=1.5000, 기울기2=2.2857, 절편=77.8571\n",
      "epoches=4400, 기울기1=1.5000, 기울기2=2.2857, 절편=77.8571\n",
      "epoches=4500, 기울기1=1.5000, 기울기2=2.2857, 절편=77.8571\n",
      "epoches=4600, 기울기1=1.5000, 기울기2=2.2857, 절편=77.8571\n",
      "epoches=4700, 기울기1=1.5000, 기울기2=2.2857, 절편=77.8571\n",
      "epoches=4800, 기울기1=1.5000, 기울기2=2.2857, 절편=77.8571\n",
      "epoches=4900, 기울기1=1.5000, 기울기2=2.2857, 절편=77.8571\n",
      "epoches=5000, 기울기1=1.5000, 기울기2=2.2857, 절편=77.8571\n"
     ]
    }
   ],
   "source": [
    "x1 = np.array([2,4,6,8]) # 공부 시간\n",
    "x2 = np.array([0,4,2,3]) # 과외 횟수\n",
    "y= np.array([81,93,91,97])\n",
    "\n",
    "a1, a2, b = 0 , 0, 0\n",
    "epochs = 5001\n",
    "learning_rate = 0.01    # 에타 : 학습률 , 조절값이다. 하이퍼 파라미터\n",
    "n = len(x1)\n",
    "\n",
    "for i in range(epochs):\n",
    "    y_pred = a1 * x1 + a2 * x2 + b\n",
    "    error = y - y_pred\n",
    "    a1_diff = (2/n) * sum( -x1 * (error))\n",
    "    a2_diff = (2/n) * sum( -x2 * (error))\n",
    "    b_diff =  (2/n) * sum( -(error))\n",
    "    \n",
    "    a1 = a1 - learning_rate * a1_diff\n",
    "    a2 = a2 - learning_rate * a2_diff\n",
    "    b = b - learning_rate * b_diff\n",
    "    \n",
    "    if i % 100 == 0:\n",
    "        print(f\"epoches={i:d}, 기울기1={a1:.4f}, 기울기2={a2:.4f}, 절편={b:.4f}\")"
   ]
  },
  {
   "cell_type": "code",
   "execution_count": null,
   "metadata": {},
   "outputs": [],
   "source": [
    "# 다중선형 회귀모델이 나왔다.\n",
    "# y = 1.5* x1 + 2.2857 * x2 + 77.8571"
   ]
  }
 ],
 "metadata": {
  "kernelspec": {
   "display_name": "base",
   "language": "python",
   "name": "python3"
  },
  "language_info": {
   "codemirror_mode": {
    "name": "ipython",
    "version": 3
   },
   "file_extension": ".py",
   "mimetype": "text/x-python",
   "name": "python",
   "nbconvert_exporter": "python",
   "pygments_lexer": "ipython3",
   "version": "3.8.19"
  }
 },
 "nbformat": 4,
 "nbformat_minor": 2
}
