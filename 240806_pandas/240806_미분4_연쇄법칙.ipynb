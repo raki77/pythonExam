{
  "cells": [
    {
      "cell_type": "code",
      "execution_count": 1,
      "metadata": {
        "id": "TKzfJVnxgn8z"
      },
      "outputs": [],
      "source": [
        "# 합성함수 (안미분*바깥미분)\n",
        "import sympy as sp\n",
        "from sympy import expand, factor, Symbol\n",
        "# 심볼 x 정의\n",
        "x = sp.symbols('x')\n"
      ]
    },
    {
      "cell_type": "markdown",
      "metadata": {},
      "source": [
        "미분의 연쇄법칙\n",
        "뮤로 치환해서, 계산 후 다시 곱셈\n",
        "$ (3x^2+ 2)^2$"
      ]
    },
    {
      "cell_type": "code",
      "execution_count": 3,
      "metadata": {},
      "outputs": [],
      "source": [
        "f6 = (3*x**2 + 2)**2"
      ]
    },
    {
      "cell_type": "code",
      "execution_count": 8,
      "metadata": {},
      "outputs": [
        {
          "data": {
            "text/latex": [
              "$\\displaystyle 12 x \\left(3 x^{2} + 2\\right)$"
            ],
            "text/plain": [
              "12*x*(3*x**2 + 2)"
            ]
          },
          "execution_count": 8,
          "metadata": {},
          "output_type": "execute_result"
        }
      ],
      "source": [
        "result = sp.diff(f6, x)\n",
        "result"
      ]
    },
    {
      "cell_type": "code",
      "execution_count": 7,
      "metadata": {},
      "outputs": [
        {
          "data": {
            "text/latex": [
              "$\\displaystyle 36 x^{3} + 24 x$"
            ],
            "text/plain": [
              "36*x**3 + 24*x"
            ]
          },
          "execution_count": 7,
          "metadata": {},
          "output_type": "execute_result"
        }
      ],
      "source": [
        "expand(result)"
      ]
    },
    {
      "cell_type": "code",
      "execution_count": 9,
      "metadata": {},
      "outputs": [],
      "source": [
        "#---------------------------------------------------------"
      ]
    },
    {
      "cell_type": "markdown",
      "metadata": {},
      "source": [
        "$\\frac{1}{(2x^2+3x-1)^3}$"
      ]
    },
    {
      "cell_type": "code",
      "execution_count": 11,
      "metadata": {},
      "outputs": [
        {
          "data": {
            "text/latex": [
              "$\\displaystyle \\frac{1}{\\left(2 x^{2} + 3 x - 1\\right)^{3}}$"
            ],
            "text/plain": [
              "(2*x**2 + 3*x - 1)**(-3)"
            ]
          },
          "execution_count": 11,
          "metadata": {},
          "output_type": "execute_result"
        }
      ],
      "source": [
        "f7 = 1/ (2*x**2 + 3*x -1)**3\n",
        "f7"
      ]
    },
    {
      "cell_type": "markdown",
      "metadata": {},
      "source": []
    },
    {
      "cell_type": "code",
      "execution_count": 15,
      "metadata": {},
      "outputs": [
        {
          "data": {
            "text/latex": [
              "$\\displaystyle \\frac{- 12 x - 9}{\\left(2 x^{2} + 3 x - 1\\right)^{4}}$"
            ],
            "text/plain": [
              "(-12*x - 9)/(2*x**2 + 3*x - 1)**4"
            ]
          },
          "execution_count": 15,
          "metadata": {},
          "output_type": "execute_result"
        }
      ],
      "source": [
        "sp.diff(f7, x)"
      ]
    },
    {
      "cell_type": "code",
      "execution_count": null,
      "metadata": {},
      "outputs": [],
      "source": []
    }
  ],
  "metadata": {
    "accelerator": "TPU",
    "colab": {
      "gpuType": "V28",
      "provenance": []
    },
    "kernelspec": {
      "display_name": "Python 3",
      "name": "python3"
    },
    "language_info": {
      "codemirror_mode": {
        "name": "ipython",
        "version": 3
      },
      "file_extension": ".py",
      "mimetype": "text/x-python",
      "name": "python",
      "nbconvert_exporter": "python",
      "pygments_lexer": "ipython3",
      "version": "3.9.19"
    }
  },
  "nbformat": 4,
  "nbformat_minor": 0
}
