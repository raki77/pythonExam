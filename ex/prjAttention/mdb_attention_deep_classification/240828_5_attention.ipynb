{
 "cells": [
  {
   "cell_type": "code",
   "execution_count": null,
   "metadata": {
    "collapsed": true,
    "pycharm": {
     "is_executing": true
    }
   },
   "outputs": [],
   "source": [
    "# 3. 어텐션을 사용한 신경망"
   ]
  },
  {
   "cell_type": "code",
   "execution_count": 2,
   "outputs": [
    {
     "name": "stdout",
     "output_type": "stream",
     "text": [
      "Requirement already satisfied: attention in c:\\anaconda3\\envs\\deepgpu\\lib\\site-packages (5.0.0)\n",
      "Requirement already satisfied: numpy>=1.18.1 in c:\\anaconda3\\envs\\deepgpu\\lib\\site-packages (from attention) (1.21.6)\n",
      "Requirement already satisfied: tensorflow>=2.1 in c:\\anaconda3\\envs\\deepgpu\\lib\\site-packages (from attention) (2.11.0)\n",
      "Requirement already satisfied: tensorflow-intel==2.11.0 in c:\\anaconda3\\envs\\deepgpu\\lib\\site-packages (from tensorflow>=2.1->attention) (2.11.0)\n",
      "Requirement already satisfied: h5py>=2.9.0 in c:\\anaconda3\\envs\\deepgpu\\lib\\site-packages (from tensorflow-intel==2.11.0->tensorflow>=2.1->attention) (3.8.0)\n",
      "Requirement already satisfied: google-pasta>=0.1.1 in c:\\anaconda3\\envs\\deepgpu\\lib\\site-packages (from tensorflow-intel==2.11.0->tensorflow>=2.1->attention) (0.2.0)\n",
      "Requirement already satisfied: grpcio<2.0,>=1.24.3 in c:\\anaconda3\\envs\\deepgpu\\lib\\site-packages (from tensorflow-intel==2.11.0->tensorflow>=2.1->attention) (1.62.3)\n",
      "Requirement already satisfied: libclang>=13.0.0 in c:\\anaconda3\\envs\\deepgpu\\lib\\site-packages (from tensorflow-intel==2.11.0->tensorflow>=2.1->attention) (18.1.1)\n",
      "Requirement already satisfied: packaging in c:\\anaconda3\\envs\\deepgpu\\lib\\site-packages (from tensorflow-intel==2.11.0->tensorflow>=2.1->attention) (24.0)\n",
      "Requirement already satisfied: absl-py>=1.0.0 in c:\\anaconda3\\envs\\deepgpu\\lib\\site-packages (from tensorflow-intel==2.11.0->tensorflow>=2.1->attention) (2.1.0)\n",
      "Requirement already satisfied: gast<=0.4.0,>=0.2.1 in c:\\anaconda3\\envs\\deepgpu\\lib\\site-packages (from tensorflow-intel==2.11.0->tensorflow>=2.1->attention) (0.4.0)\n",
      "Requirement already satisfied: protobuf<3.20,>=3.9.2 in c:\\anaconda3\\envs\\deepgpu\\lib\\site-packages (from tensorflow-intel==2.11.0->tensorflow>=2.1->attention) (3.19.6)\n",
      "Requirement already satisfied: tensorflow-estimator<2.12,>=2.11.0 in c:\\anaconda3\\envs\\deepgpu\\lib\\site-packages (from tensorflow-intel==2.11.0->tensorflow>=2.1->attention) (2.11.0)\n",
      "Requirement already satisfied: wrapt>=1.11.0 in c:\\anaconda3\\envs\\deepgpu\\lib\\site-packages (from tensorflow-intel==2.11.0->tensorflow>=2.1->attention) (1.16.0)\n",
      "Requirement already satisfied: opt-einsum>=2.3.2 in c:\\anaconda3\\envs\\deepgpu\\lib\\site-packages (from tensorflow-intel==2.11.0->tensorflow>=2.1->attention) (3.3.0)\n",
      "Requirement already satisfied: setuptools in c:\\anaconda3\\envs\\deepgpu\\lib\\site-packages (from tensorflow-intel==2.11.0->tensorflow>=2.1->attention) (65.6.3)\n",
      "Requirement already satisfied: flatbuffers>=2.0 in c:\\anaconda3\\envs\\deepgpu\\lib\\site-packages (from tensorflow-intel==2.11.0->tensorflow>=2.1->attention) (24.3.25)\n",
      "Requirement already satisfied: six>=1.12.0 in c:\\anaconda3\\envs\\deepgpu\\lib\\site-packages (from tensorflow-intel==2.11.0->tensorflow>=2.1->attention) (1.16.0)\n",
      "Requirement already satisfied: termcolor>=1.1.0 in c:\\anaconda3\\envs\\deepgpu\\lib\\site-packages (from tensorflow-intel==2.11.0->tensorflow>=2.1->attention) (2.3.0)\n",
      "Requirement already satisfied: astunparse>=1.6.0 in c:\\anaconda3\\envs\\deepgpu\\lib\\site-packages (from tensorflow-intel==2.11.0->tensorflow>=2.1->attention) (1.6.3)\n",
      "Requirement already satisfied: typing-extensions>=3.6.6 in c:\\anaconda3\\envs\\deepgpu\\lib\\site-packages (from tensorflow-intel==2.11.0->tensorflow>=2.1->attention) (4.7.1)\n",
      "Requirement already satisfied: tensorflow-io-gcs-filesystem>=0.23.1 in c:\\anaconda3\\envs\\deepgpu\\lib\\site-packages (from tensorflow-intel==2.11.0->tensorflow>=2.1->attention) (0.31.0)\n",
      "Requirement already satisfied: tensorboard<2.12,>=2.11 in c:\\anaconda3\\envs\\deepgpu\\lib\\site-packages (from tensorflow-intel==2.11.0->tensorflow>=2.1->attention) (2.11.2)\n",
      "Requirement already satisfied: keras<2.12,>=2.11.0 in c:\\anaconda3\\envs\\deepgpu\\lib\\site-packages (from tensorflow-intel==2.11.0->tensorflow>=2.1->attention) (2.11.0)\n",
      "Requirement already satisfied: wheel<1.0,>=0.23.0 in c:\\anaconda3\\envs\\deepgpu\\lib\\site-packages (from astunparse>=1.6.0->tensorflow-intel==2.11.0->tensorflow>=2.1->attention) (0.38.4)\n",
      "Requirement already satisfied: tensorboard-plugin-wit>=1.6.0 in c:\\anaconda3\\envs\\deepgpu\\lib\\site-packages (from tensorboard<2.12,>=2.11->tensorflow-intel==2.11.0->tensorflow>=2.1->attention) (1.8.1)\n",
      "Requirement already satisfied: markdown>=2.6.8 in c:\\anaconda3\\envs\\deepgpu\\lib\\site-packages (from tensorboard<2.12,>=2.11->tensorflow-intel==2.11.0->tensorflow>=2.1->attention) (3.4.4)\n",
      "Requirement already satisfied: google-auth<3,>=1.6.3 in c:\\anaconda3\\envs\\deepgpu\\lib\\site-packages (from tensorboard<2.12,>=2.11->tensorflow-intel==2.11.0->tensorflow>=2.1->attention) (2.34.0)\n",
      "Requirement already satisfied: google-auth-oauthlib<0.5,>=0.4.1 in c:\\anaconda3\\envs\\deepgpu\\lib\\site-packages (from tensorboard<2.12,>=2.11->tensorflow-intel==2.11.0->tensorflow>=2.1->attention) (0.4.6)\n",
      "Requirement already satisfied: tensorboard-data-server<0.7.0,>=0.6.0 in c:\\anaconda3\\envs\\deepgpu\\lib\\site-packages (from tensorboard<2.12,>=2.11->tensorflow-intel==2.11.0->tensorflow>=2.1->attention) (0.6.1)\n",
      "Requirement already satisfied: werkzeug>=1.0.1 in c:\\anaconda3\\envs\\deepgpu\\lib\\site-packages (from tensorboard<2.12,>=2.11->tensorflow-intel==2.11.0->tensorflow>=2.1->attention) (2.2.3)\n",
      "Requirement already satisfied: requests<3,>=2.21.0 in c:\\anaconda3\\envs\\deepgpu\\lib\\site-packages (from tensorboard<2.12,>=2.11->tensorflow-intel==2.11.0->tensorflow>=2.1->attention) (2.31.0)\n",
      "Requirement already satisfied: cachetools<6.0,>=2.0.0 in c:\\anaconda3\\envs\\deepgpu\\lib\\site-packages (from google-auth<3,>=1.6.3->tensorboard<2.12,>=2.11->tensorflow-intel==2.11.0->tensorflow>=2.1->attention) (5.5.0)\n",
      "Requirement already satisfied: pyasn1-modules>=0.2.1 in c:\\anaconda3\\envs\\deepgpu\\lib\\site-packages (from google-auth<3,>=1.6.3->tensorboard<2.12,>=2.11->tensorflow-intel==2.11.0->tensorflow>=2.1->attention) (0.3.0)\n",
      "Requirement already satisfied: rsa<5,>=3.1.4 in c:\\anaconda3\\envs\\deepgpu\\lib\\site-packages (from google-auth<3,>=1.6.3->tensorboard<2.12,>=2.11->tensorflow-intel==2.11.0->tensorflow>=2.1->attention) (4.9)\n",
      "Requirement already satisfied: requests-oauthlib>=0.7.0 in c:\\anaconda3\\envs\\deepgpu\\lib\\site-packages (from google-auth-oauthlib<0.5,>=0.4.1->tensorboard<2.12,>=2.11->tensorflow-intel==2.11.0->tensorflow>=2.1->attention) (2.0.0)\n",
      "Requirement already satisfied: importlib-metadata>=4.4 in c:\\anaconda3\\envs\\deepgpu\\lib\\site-packages (from markdown>=2.6.8->tensorboard<2.12,>=2.11->tensorflow-intel==2.11.0->tensorflow>=2.1->attention) (6.7.0)\n",
      "Requirement already satisfied: idna<4,>=2.5 in c:\\anaconda3\\envs\\deepgpu\\lib\\site-packages (from requests<3,>=2.21.0->tensorboard<2.12,>=2.11->tensorflow-intel==2.11.0->tensorflow>=2.1->attention) (3.8)\n",
      "Requirement already satisfied: urllib3<3,>=1.21.1 in c:\\anaconda3\\envs\\deepgpu\\lib\\site-packages (from requests<3,>=2.21.0->tensorboard<2.12,>=2.11->tensorflow-intel==2.11.0->tensorflow>=2.1->attention) (2.0.7)\n",
      "Requirement already satisfied: certifi>=2017.4.17 in c:\\anaconda3\\envs\\deepgpu\\lib\\site-packages (from requests<3,>=2.21.0->tensorboard<2.12,>=2.11->tensorflow-intel==2.11.0->tensorflow>=2.1->attention) (2022.12.7)\n",
      "Requirement already satisfied: charset-normalizer<4,>=2 in c:\\anaconda3\\envs\\deepgpu\\lib\\site-packages (from requests<3,>=2.21.0->tensorboard<2.12,>=2.11->tensorflow-intel==2.11.0->tensorflow>=2.1->attention) (3.3.2)\n",
      "Requirement already satisfied: MarkupSafe>=2.1.1 in c:\\anaconda3\\envs\\deepgpu\\lib\\site-packages (from werkzeug>=1.0.1->tensorboard<2.12,>=2.11->tensorflow-intel==2.11.0->tensorflow>=2.1->attention) (2.1.5)\n",
      "Requirement already satisfied: zipp>=0.5 in c:\\anaconda3\\envs\\deepgpu\\lib\\site-packages (from importlib-metadata>=4.4->markdown>=2.6.8->tensorboard<2.12,>=2.11->tensorflow-intel==2.11.0->tensorflow>=2.1->attention) (3.15.0)\n",
      "Requirement already satisfied: pyasn1<0.6.0,>=0.4.6 in c:\\anaconda3\\envs\\deepgpu\\lib\\site-packages (from pyasn1-modules>=0.2.1->google-auth<3,>=1.6.3->tensorboard<2.12,>=2.11->tensorflow-intel==2.11.0->tensorflow>=2.1->attention) (0.5.1)\n",
      "Requirement already satisfied: oauthlib>=3.0.0 in c:\\anaconda3\\envs\\deepgpu\\lib\\site-packages (from requests-oauthlib>=0.7.0->google-auth-oauthlib<0.5,>=0.4.1->tensorboard<2.12,>=2.11->tensorflow-intel==2.11.0->tensorflow>=2.1->attention) (3.2.2)\n"
     ]
    }
   ],
   "source": [
    "!pip install attention"
   ],
   "metadata": {
    "collapsed": false
   }
  },
  {
   "cell_type": "code",
   "execution_count": null,
   "outputs": [],
   "source": [],
   "metadata": {
    "collapsed": false
   }
  }
 ],
 "metadata": {
  "kernelspec": {
   "display_name": "Python 3",
   "language": "python",
   "name": "python3"
  },
  "language_info": {
   "codemirror_mode": {
    "name": "ipython",
    "version": 2
   },
   "file_extension": ".py",
   "mimetype": "text/x-python",
   "name": "python",
   "nbconvert_exporter": "python",
   "pygments_lexer": "ipython2",
   "version": "2.7.6"
  }
 },
 "nbformat": 4,
 "nbformat_minor": 0
}
