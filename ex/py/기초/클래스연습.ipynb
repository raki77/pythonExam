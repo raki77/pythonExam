{
 "cells": [
  {
   "cell_type": "code",
   "execution_count": 6,
   "id": "c37d768e-a014-4941-a261-b98a8794026b",
   "metadata": {},
   "outputs": [],
   "source": [
    "class Car:\n",
    "    pass"
   ]
  },
  {
   "cell_type": "code",
   "execution_count": 2,
   "id": "caba6bb2-718b-4b32-9f53-6a6b32283221",
   "metadata": {},
   "outputs": [],
   "source": [
    "my_car_obj1=Car() # Car() 생성자(constructor)"
   ]
  },
  {
   "cell_type": "code",
   "execution_count": 3,
   "id": "180dc5e9-63fa-4598-8259-ba53b7740894",
   "metadata": {},
   "outputs": [],
   "source": [
    "my_car_obj2=Car()"
   ]
  },
  {
   "cell_type": "code",
   "execution_count": 4,
   "id": "b89fb004-e4d8-4224-b96c-2abc3dac65d5",
   "metadata": {},
   "outputs": [
    {
     "data": {
      "text/plain": [
       "1888412213248"
      ]
     },
     "execution_count": 4,
     "metadata": {},
     "output_type": "execute_result"
    }
   ],
   "source": [
    "id(my_car_obj1)"
   ]
  },
  {
   "cell_type": "code",
   "execution_count": 5,
   "id": "d8ce7f25-dc5a-499c-82c2-0e7a09278eff",
   "metadata": {},
   "outputs": [
    {
     "data": {
      "text/plain": [
       "1888412217520"
      ]
     },
     "execution_count": 5,
     "metadata": {},
     "output_type": "execute_result"
    }
   ],
   "source": [
    "id(my_car_obj2)"
   ]
  },
  {
   "cell_type": "code",
   "execution_count": 8,
   "id": "6855ca1c-5a4c-41fe-bdde-657ce8b315c3",
   "metadata": {},
   "outputs": [],
   "source": [
    "# 계산기 만드는 과정"
   ]
  },
  {
   "cell_type": "code",
   "execution_count": 41,
   "id": "7018133e-c1b3-4233-a330-f30ed2e86451",
   "metadata": {},
   "outputs": [],
   "source": [
    "# 클래스는 틀이자 설계도이다."
   ]
  },
  {
   "cell_type": "code",
   "execution_count": 42,
   "id": "f5eec070-718b-4c60-b351-f0aebb72b248",
   "metadata": {},
   "outputs": [],
   "source": [
    "class Caculator:\n",
    "    def __init__(self):  #객체 생성시 인스턴스 변수를 초기화하는 역할을 하는 함수\n",
    "        self.num1=0     #인스턴스(객체) 변수\n",
    "        self.num2=0\n",
    "    def add(self, num1, num2):  # Caculator가 가지고 있는 기능(function)\n",
    "        self.num1=num1\n",
    "        self.num2=num2        \n",
    "        return self.num1 + self.num2"
   ]
  },
  {
   "cell_type": "code",
   "execution_count": 30,
   "id": "51bba3b1-0c5d-4801-81b4-23c6648b7acf",
   "metadata": {},
   "outputs": [],
   "source": [
    "mycalc=Caculator() #Caculator()"
   ]
  },
  {
   "cell_type": "code",
   "execution_count": 31,
   "id": "3d07d055-99ec-41f0-9bdf-ced2f441ed71",
   "metadata": {},
   "outputs": [
    {
     "data": {
      "text/plain": [
       "0"
      ]
     },
     "execution_count": 31,
     "metadata": {},
     "output_type": "execute_result"
    }
   ],
   "source": [
    "mycalc.num1"
   ]
  },
  {
   "cell_type": "code",
   "execution_count": 32,
   "id": "8a92518d-d854-4c99-b7d6-307e215dddfe",
   "metadata": {},
   "outputs": [
    {
     "data": {
      "text/plain": [
       "0"
      ]
     },
     "execution_count": 32,
     "metadata": {},
     "output_type": "execute_result"
    }
   ],
   "source": [
    "mycalc.num2"
   ]
  },
  {
   "cell_type": "code",
   "execution_count": 37,
   "id": "47650b0a-5f44-42b1-8621-06c14f5eab07",
   "metadata": {},
   "outputs": [],
   "source": [
    "result=mycalc.add(7,3)"
   ]
  },
  {
   "cell_type": "code",
   "execution_count": 38,
   "id": "1882442c-d288-4b63-b242-a69348345ebc",
   "metadata": {},
   "outputs": [
    {
     "data": {
      "text/plain": [
       "7"
      ]
     },
     "execution_count": 38,
     "metadata": {},
     "output_type": "execute_result"
    }
   ],
   "source": [
    "mycalc.num1"
   ]
  },
  {
   "cell_type": "code",
   "execution_count": 39,
   "id": "5efdfbce-5280-4144-a283-50ace04e469e",
   "metadata": {},
   "outputs": [
    {
     "data": {
      "text/plain": [
       "3"
      ]
     },
     "execution_count": 39,
     "metadata": {},
     "output_type": "execute_result"
    }
   ],
   "source": [
    "mycalc.num2"
   ]
  },
  {
   "cell_type": "code",
   "execution_count": 40,
   "id": "f5eef9d4-eaa7-447d-bd54-685fb7cba1bf",
   "metadata": {},
   "outputs": [
    {
     "data": {
      "text/plain": [
       "10"
      ]
     },
     "execution_count": 40,
     "metadata": {},
     "output_type": "execute_result"
    }
   ],
   "source": [
    "result"
   ]
  },
  {
   "cell_type": "code",
   "execution_count": 43,
   "id": "d7bc5ef0-7881-433c-b848-3d1282a37463",
   "metadata": {},
   "outputs": [],
   "source": [
    "# 학생\n",
    "# 클래스명 Student\n",
    "# 인스턴스 변수 name, age\n",
    "# 메서드  study()"
   ]
  },
  {
   "cell_type": "code",
   "execution_count": 48,
   "id": "7d17610b-47e6-4cf8-9ebd-60e9ae172745",
   "metadata": {},
   "outputs": [],
   "source": [
    "class Student:\n",
    "    def __init__(self, name, age):\n",
    "        self.name=name\n",
    "        self.age=age\n",
    "    def study(self):\n",
    "        print(f\"{self.name} 학생의 나이는 {self.age}살이고 공부를 한다.\")"
   ]
  },
  {
   "cell_type": "code",
   "execution_count": 49,
   "id": "17e7f9a9-0fa4-4320-bb91-5d7b5972baa5",
   "metadata": {},
   "outputs": [],
   "source": [
    "hong1=Student(\"홍길동\",23)"
   ]
  },
  {
   "cell_type": "code",
   "execution_count": 50,
   "id": "70045ebb-d95b-45da-a639-1fac18f4d53b",
   "metadata": {},
   "outputs": [
    {
     "data": {
      "text/plain": [
       "'홍길동'"
      ]
     },
     "execution_count": 50,
     "metadata": {},
     "output_type": "execute_result"
    }
   ],
   "source": [
    "hong1.name"
   ]
  },
  {
   "cell_type": "code",
   "execution_count": 51,
   "id": "e50bd0ad-edb0-447d-ac92-2ea681ca5775",
   "metadata": {},
   "outputs": [
    {
     "data": {
      "text/plain": [
       "23"
      ]
     },
     "execution_count": 51,
     "metadata": {},
     "output_type": "execute_result"
    }
   ],
   "source": [
    "hong1.age"
   ]
  },
  {
   "cell_type": "code",
   "execution_count": 52,
   "id": "6e804cf2-1365-4675-9c3b-313ebc199008",
   "metadata": {},
   "outputs": [
    {
     "name": "stdout",
     "output_type": "stream",
     "text": [
      "홍길동 학생의 나이는 23살이고 공부를 한다.\n"
     ]
    }
   ],
   "source": [
    "hong1.study()"
   ]
  },
  {
   "cell_type": "code",
   "execution_count": 53,
   "id": "e8430ed8-0fb2-4b04-8eec-fb33384f330d",
   "metadata": {},
   "outputs": [],
   "source": [
    "# 클래스간에는 3가지 관계(사용, 포함, 상속)가 있다. "
   ]
  },
  {
   "cell_type": "code",
   "execution_count": 54,
   "id": "cc256c25-8fb9-4761-9c6a-8dbf30447fb1",
   "metadata": {},
   "outputs": [],
   "source": [
    "# 1)사용 관계\n",
    "# 홍길동이라는 회사원이 결산 보고서 문서를 프리터를 사용해서 출력한다."
   ]
  },
  {
   "cell_type": "code",
   "execution_count": 59,
   "id": "42f43d2d-0422-457e-bfa1-f674ed636a78",
   "metadata": {},
   "outputs": [],
   "source": [
    "# 회사원이라는 틀에서 홍길동 객체를 찍어내보자.\n",
    "# 프린터라는 틀에서 레이저 프린터를 생성(만들어보자,찍어내보자)해보자"
   ]
  },
  {
   "cell_type": "code",
   "execution_count": 81,
   "id": "605b01b2-49e1-4631-b790-989323ac1563",
   "metadata": {},
   "outputs": [],
   "source": [
    "class OfficeWorker:\n",
    "    def __init__(self, name):\n",
    "        self.name=name\n",
    "    def work(self):\n",
    "        print(f\"{self.name}이 일한다.\")\n",
    "    def use_printer(self, printer):\n",
    "        print(\"프린터를 사용해서 문서를 출력한다.\")"
   ]
  },
  {
   "cell_type": "code",
   "execution_count": 78,
   "id": "6ed603a0-09cd-4f5d-8b38-709cd01ede24",
   "metadata": {},
   "outputs": [],
   "source": [
    "class Printer:    \n",
    "    def print_document(self, document):\n",
    "        print(f\"{document}를 인쇄한다.\")"
   ]
  },
  {
   "cell_type": "code",
   "execution_count": 82,
   "id": "864818ae-a8ce-47f0-80d8-d3a4db5dd424",
   "metadata": {},
   "outputs": [],
   "source": [
    "hong=OfficeWorker('홍길동')"
   ]
  },
  {
   "cell_type": "code",
   "execution_count": 83,
   "id": "f642a84f-88da-4057-8439-ad0ef642500c",
   "metadata": {},
   "outputs": [
    {
     "data": {
      "text/plain": [
       "'홍길동'"
      ]
     },
     "execution_count": 83,
     "metadata": {},
     "output_type": "execute_result"
    }
   ],
   "source": [
    "hong.name"
   ]
  },
  {
   "cell_type": "code",
   "execution_count": 84,
   "id": "9f4a4c13-500a-44bf-9653-362251a23af5",
   "metadata": {},
   "outputs": [
    {
     "name": "stdout",
     "output_type": "stream",
     "text": [
      "홍길동이 일한다.\n"
     ]
    }
   ],
   "source": [
    "hong.work()"
   ]
  },
  {
   "cell_type": "code",
   "execution_count": 71,
   "id": "f013b0ea-ddcd-4b6e-8979-1c093ebc8a73",
   "metadata": {},
   "outputs": [],
   "source": [
    "laser_print=Printer()"
   ]
  },
  {
   "cell_type": "code",
   "execution_count": 72,
   "id": "83dc178c-71d8-4217-bf38-69b50900c204",
   "metadata": {},
   "outputs": [
    {
     "name": "stdout",
     "output_type": "stream",
     "text": [
      "결산 보고서를 인쇄한다.\n"
     ]
    }
   ],
   "source": [
    "laser_print.print_document('결산 보고서')"
   ]
  },
  {
   "cell_type": "code",
   "execution_count": 85,
   "id": "38098f5c-7086-4865-a743-3b8619d89d51",
   "metadata": {},
   "outputs": [
    {
     "name": "stdout",
     "output_type": "stream",
     "text": [
      "프린터를 사용해서 문서를 출력한다.\n"
     ]
    }
   ],
   "source": [
    "hong.use_printer(laser_print)"
   ]
  }
 ],
 "metadata": {
  "kernelspec": {
   "display_name": "Python 3 (ipykernel)",
   "language": "python",
   "name": "python3"
  },
  "language_info": {
   "codemirror_mode": {
    "name": "ipython",
    "version": 3
   },
   "file_extension": ".py",
   "mimetype": "text/x-python",
   "name": "python",
   "nbconvert_exporter": "python",
   "pygments_lexer": "ipython3",
   "version": "3.12.4"
  }
 },
 "nbformat": 4,
 "nbformat_minor": 5
}
