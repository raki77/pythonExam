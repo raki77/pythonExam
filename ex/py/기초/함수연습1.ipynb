{
 "cells": [
  {
   "cell_type": "code",
   "execution_count": 9,
   "id": "5fdb27ff-7606-437c-8556-8da7bae7a905",
   "metadata": {},
   "outputs": [],
   "source": [
    "def cum_add(*num):\n",
    "    tot=0\n",
    "    for i in num:\n",
    "        tot+=i\n",
    "    return tot"
   ]
  },
  {
   "cell_type": "code",
   "execution_count": 10,
   "id": "871a88f8-eb67-41ff-8465-3410e1cb33db",
   "metadata": {},
   "outputs": [
    {
     "name": "stdout",
     "output_type": "stream",
     "text": [
      "0\n"
     ]
    }
   ],
   "source": [
    "result=cum_add()\n",
    "print(result)"
   ]
  },
  {
   "cell_type": "code",
   "execution_count": 11,
   "id": "785cee70-c16d-4b50-b44b-1b1607998550",
   "metadata": {},
   "outputs": [
    {
     "name": "stdout",
     "output_type": "stream",
     "text": [
      "5\n"
     ]
    }
   ],
   "source": [
    "result=cum_add(5)\n",
    "print(result)"
   ]
  },
  {
   "cell_type": "code",
   "execution_count": 12,
   "id": "ef133d2b-d639-4000-a4b2-35fcb45d805d",
   "metadata": {},
   "outputs": [
    {
     "name": "stdout",
     "output_type": "stream",
     "text": [
      "13\n"
     ]
    }
   ],
   "source": [
    "result=cum_add(5,8)\n",
    "print(result)"
   ]
  },
  {
   "cell_type": "code",
   "execution_count": 13,
   "id": "20bfc63b-f561-4649-9915-654d50fedde2",
   "metadata": {},
   "outputs": [
    {
     "name": "stdout",
     "output_type": "stream",
     "text": [
      "81\n"
     ]
    }
   ],
   "source": [
    "result=cum_add(5,8,6,7,7,8,8,8,8,8,8)\n",
    "print(result)"
   ]
  },
  {
   "cell_type": "code",
   "execution_count": 16,
   "id": "29518a2c-ed4c-4061-ad85-7dbf76e9ee58",
   "metadata": {},
   "outputs": [
    {
     "data": {
      "text/plain": [
       "[0, 0, 0]"
      ]
     },
     "execution_count": 16,
     "metadata": {},
     "output_type": "execute_result"
    }
   ],
   "source": [
    "tot=0\n",
    "[ tot  for i in [1,2,3]]"
   ]
  },
  {
   "cell_type": "code",
   "execution_count": 17,
   "id": "492bb976-35c8-4ef5-82b8-8805aea19f13",
   "metadata": {},
   "outputs": [
    {
     "data": {
      "text/plain": [
       "[1, 2, 3]"
      ]
     },
     "execution_count": 17,
     "metadata": {},
     "output_type": "execute_result"
    }
   ],
   "source": [
    "tot=0\n",
    "[ tot+i  for i in [1,2,3]]"
   ]
  },
  {
   "cell_type": "code",
   "execution_count": 19,
   "id": "9efe37cd-711f-4f53-beb8-fd445d03f406",
   "metadata": {},
   "outputs": [
    {
     "name": "stdout",
     "output_type": "stream",
     "text": [
      "hi\n"
     ]
    }
   ],
   "source": [
    "print(\"hi\")"
   ]
  },
  {
   "cell_type": "code",
   "execution_count": 20,
   "id": "961fcb00-9058-4ea9-93dc-5b589f26a0d0",
   "metadata": {},
   "outputs": [
    {
     "name": "stdout",
     "output_type": "stream",
     "text": [
      "hi nice\n"
     ]
    }
   ],
   "source": [
    "print(\"hi\",\"nice\")"
   ]
  },
  {
   "cell_type": "code",
   "execution_count": 21,
   "id": "2d888cf2-1a04-4dcb-9ec2-f8dc611cb102",
   "metadata": {},
   "outputs": [
    {
     "name": "stdout",
     "output_type": "stream",
     "text": [
      "Help on built-in function print in module builtins:\n",
      "\n",
      "print(*args, sep=' ', end='\\n', file=None, flush=False)\n",
      "    Prints the values to a stream, or to sys.stdout by default.\n",
      "\n",
      "    sep\n",
      "      string inserted between values, default a space.\n",
      "    end\n",
      "      string appended after the last value, default a newline.\n",
      "    file\n",
      "      a file-like object (stream); defaults to the current sys.stdout.\n",
      "    flush\n",
      "      whether to forcibly flush the stream.\n",
      "\n"
     ]
    }
   ],
   "source": [
    "help(print)"
   ]
  },
  {
   "cell_type": "code",
   "execution_count": 22,
   "id": "0a1f14cf-e402-464d-8c0d-6ccfff1f4d0c",
   "metadata": {},
   "outputs": [
    {
     "name": "stdout",
     "output_type": "stream",
     "text": [
      "hi/nice\n"
     ]
    }
   ],
   "source": [
    "print(\"hi\",\"nice\", sep=\"/\")"
   ]
  },
  {
   "cell_type": "code",
   "execution_count": 24,
   "id": "0c9a3a90-ed1f-4e16-83d0-86d81577245d",
   "metadata": {},
   "outputs": [],
   "source": [
    "# 기본 매개변수(기본값이 있는 매개변수)가 있는 함수 정의"
   ]
  },
  {
   "cell_type": "code",
   "execution_count": 25,
   "id": "2886928e-2ec2-4e33-8b7e-bf85ede133c1",
   "metadata": {},
   "outputs": [],
   "source": [
    "def hi():\n",
    "    print(\"hello\")"
   ]
  },
  {
   "cell_type": "code",
   "execution_count": 26,
   "id": "25567f0f-31d0-4b32-b59f-34b59dde55ed",
   "metadata": {},
   "outputs": [
    {
     "name": "stdout",
     "output_type": "stream",
     "text": [
      "hello\n"
     ]
    }
   ],
   "source": [
    "hi()"
   ]
  },
  {
   "cell_type": "code",
   "execution_count": 30,
   "id": "1f823ed4-b16a-435e-b33a-0cb7d74a702b",
   "metadata": {},
   "outputs": [],
   "source": [
    "def hi(menu=\"밥\"):\n",
    "    print(menu)"
   ]
  },
  {
   "cell_type": "code",
   "execution_count": 31,
   "id": "48e0f99c-bd20-4d74-aa91-de91f91de5d4",
   "metadata": {},
   "outputs": [
    {
     "name": "stdout",
     "output_type": "stream",
     "text": [
      "삼계탕\n"
     ]
    }
   ],
   "source": [
    "hi(\"삼계탕\")"
   ]
  },
  {
   "cell_type": "code",
   "execution_count": 32,
   "id": "db7e6a06-b628-4c11-b5f0-7c2f9175983f",
   "metadata": {},
   "outputs": [
    {
     "name": "stdout",
     "output_type": "stream",
     "text": [
      "밥\n"
     ]
    }
   ],
   "source": [
    "hi()"
   ]
  },
  {
   "cell_type": "code",
   "execution_count": 33,
   "id": "44481e1a-b97e-468d-ad24-a7c694ba57f2",
   "metadata": {},
   "outputs": [
    {
     "name": "stdout",
     "output_type": "stream",
     "text": [
      "냉면\n"
     ]
    }
   ],
   "source": [
    "hi(menu=\"냉면\")"
   ]
  },
  {
   "cell_type": "code",
   "execution_count": 34,
   "id": "fefa4480-4467-459d-9f59-8308eace35e3",
   "metadata": {},
   "outputs": [
    {
     "ename": "TypeError",
     "evalue": "hi() takes from 0 to 1 positional arguments but 2 were given",
     "output_type": "error",
     "traceback": [
      "\u001b[1;31m---------------------------------------------------------------------------\u001b[0m",
      "\u001b[1;31mTypeError\u001b[0m                                 Traceback (most recent call last)",
      "Cell \u001b[1;32mIn[34], line 1\u001b[0m\n\u001b[1;32m----> 1\u001b[0m hi(\u001b[38;5;124m\"\u001b[39m\u001b[38;5;124m삼계탕\u001b[39m\u001b[38;5;124m\"\u001b[39m, \u001b[38;5;124m\"\u001b[39m\u001b[38;5;124m아이스크림\u001b[39m\u001b[38;5;124m\"\u001b[39m)\n",
      "\u001b[1;31mTypeError\u001b[0m: hi() takes from 0 to 1 positional arguments but 2 were given"
     ]
    }
   ],
   "source": [
    "hi(\"삼계탕\", \"아이스크림\")"
   ]
  },
  {
   "cell_type": "code",
   "execution_count": null,
   "id": "dde1778a-dea8-47ae-8c11-78e99e274277",
   "metadata": {},
   "outputs": [],
   "source": []
  }
 ],
 "metadata": {
  "kernelspec": {
   "display_name": "Python 3 (ipykernel)",
   "language": "python",
   "name": "python3"
  },
  "language_info": {
   "codemirror_mode": {
    "name": "ipython",
    "version": 3
   },
   "file_extension": ".py",
   "mimetype": "text/x-python",
   "name": "python",
   "nbconvert_exporter": "python",
   "pygments_lexer": "ipython3",
   "version": "3.12.4"
  }
 },
 "nbformat": 4,
 "nbformat_minor": 5
}
