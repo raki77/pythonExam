{
 "cells": [
  {
   "cell_type": "code",
   "execution_count": 14,
   "id": "5972ad7c-8b4e-40b6-9d39-eba7be8ae269",
   "metadata": {},
   "outputs": [],
   "source": [
    "# 1 사용 관계 클래스 연습"
   ]
  },
  {
   "cell_type": "code",
   "execution_count": 8,
   "id": "02c16fcd-252d-47ff-bde6-2c40b369a4c0",
   "metadata": {},
   "outputs": [],
   "source": [
    "class Student:\n",
    "    def __init__(self, name):\n",
    "        self.name=name        \n",
    "    def study(self):\n",
    "        print(f\"{self.name} 학생의 나이는 {self.age}살이고 공부를 한다.\")\n",
    "    def eat(self, menu):\n",
    "        print(f\"{self.name} 학생이 {menu}를 먹는다\")"
   ]
  },
  {
   "cell_type": "code",
   "execution_count": 6,
   "id": "621e3307-4153-47e7-8cb9-96738f3008cc",
   "metadata": {},
   "outputs": [],
   "source": [
    "class Restaurant:\n",
    "    def __init__(self,menu):\n",
    "        self.menu=menu"
   ]
  },
  {
   "cell_type": "code",
   "execution_count": 10,
   "id": "022ffc96-aa48-47f3-bdd4-d8b8316f3da9",
   "metadata": {},
   "outputs": [],
   "source": [
    "hong=Student(\"홍길동\")"
   ]
  },
  {
   "cell_type": "code",
   "execution_count": 11,
   "id": "0c7e0332-a48b-4589-9825-02620db4c522",
   "metadata": {},
   "outputs": [],
   "source": [
    "chinese_rest=Restaurant(\"짜장면\")"
   ]
  },
  {
   "cell_type": "code",
   "execution_count": 12,
   "id": "dbc9fc81-173e-4e3e-8e1e-4088690fe4e2",
   "metadata": {},
   "outputs": [
    {
     "data": {
      "text/plain": [
       "'짜장면'"
      ]
     },
     "execution_count": 12,
     "metadata": {},
     "output_type": "execute_result"
    }
   ],
   "source": [
    "chinese_rest.menu"
   ]
  },
  {
   "cell_type": "code",
   "execution_count": 13,
   "id": "cae5076c-f25b-4c83-af0e-a53247a5bbf3",
   "metadata": {},
   "outputs": [
    {
     "name": "stdout",
     "output_type": "stream",
     "text": [
      "홍길동 학생이 짜장면를 먹는다\n"
     ]
    }
   ],
   "source": [
    "hong.eat(chinese_rest.menu)"
   ]
  },
  {
   "cell_type": "code",
   "execution_count": 15,
   "id": "29794afd-0fdf-4b3d-9261-d6ba14d4c93a",
   "metadata": {},
   "outputs": [],
   "source": [
    "# 2 포함 관계 클래스 연습"
   ]
  },
  {
   "cell_type": "code",
   "execution_count": 16,
   "id": "35d792c3-d249-40e1-8c98-637bfe300098",
   "metadata": {},
   "outputs": [],
   "source": [
    "# 차와 엔진의 관계"
   ]
  },
  {
   "cell_type": "code",
   "execution_count": 19,
   "id": "4be2d31e-9ba6-4a5a-835b-b9f1dded5fe8",
   "metadata": {},
   "outputs": [],
   "source": [
    "# 차가 만들어질 때(생성될 때) 엔진이 초기화 되어야 함"
   ]
  },
  {
   "cell_type": "code",
   "execution_count": 29,
   "id": "de98f09d-fd3c-4ef7-95a2-2bc1e7605c3c",
   "metadata": {},
   "outputs": [],
   "source": [
    "class Car():\n",
    "    def __init__(self):\n",
    "        self.engine=Engine()\n",
    "    def drive(self):\n",
    "        print(\"차가 달린다.\")"
   ]
  },
  {
   "cell_type": "code",
   "execution_count": 23,
   "id": "62cb3cc5-ece8-4f6f-9732-b88b5ddfd79e",
   "metadata": {},
   "outputs": [],
   "source": [
    "class Engine():\n",
    "    def start(self):\n",
    "        print(\"엔진이 시작함\")"
   ]
  },
  {
   "cell_type": "code",
   "execution_count": 30,
   "id": "1e8fc99f-ccc5-4b7b-bce1-dc3b10a5d00a",
   "metadata": {},
   "outputs": [],
   "source": [
    "mycar=Car()"
   ]
  },
  {
   "cell_type": "code",
   "execution_count": 31,
   "id": "5751fd94-a4a6-47ad-aec5-cb7c1293c1c8",
   "metadata": {},
   "outputs": [
    {
     "data": {
      "text/plain": [
       "<__main__.Engine at 0x1b51e971940>"
      ]
     },
     "execution_count": 31,
     "metadata": {},
     "output_type": "execute_result"
    }
   ],
   "source": [
    "mycar.engine"
   ]
  },
  {
   "cell_type": "code",
   "execution_count": 25,
   "id": "a2136295-4b66-4fc9-9975-939f35eb6d50",
   "metadata": {},
   "outputs": [
    {
     "name": "stdout",
     "output_type": "stream",
     "text": [
      "차가 달린다.\n"
     ]
    }
   ],
   "source": [
    "mycar.drive()"
   ]
  },
  {
   "cell_type": "code",
   "execution_count": 26,
   "id": "75b88b05-8ec0-4324-b69e-ed239f9537c6",
   "metadata": {},
   "outputs": [],
   "source": [
    "four_engine=Engine()"
   ]
  },
  {
   "cell_type": "code",
   "execution_count": 27,
   "id": "69f68ccc-4cf9-46f0-817e-0624170edf85",
   "metadata": {},
   "outputs": [
    {
     "name": "stdout",
     "output_type": "stream",
     "text": [
      "엔진이 시작함\n"
     ]
    }
   ],
   "source": [
    "four_engine.start()"
   ]
  },
  {
   "cell_type": "code",
   "execution_count": 32,
   "id": "0226d8c4-a086-40c6-8d34-d7271d1a074c",
   "metadata": {},
   "outputs": [
    {
     "name": "stdout",
     "output_type": "stream",
     "text": [
      "엔진이 시작함\n"
     ]
    }
   ],
   "source": [
    "mycar.engine.start()"
   ]
  },
  {
   "cell_type": "code",
   "execution_count": 33,
   "id": "20f8203f-0116-4b18-8759-dc4e76b144a9",
   "metadata": {},
   "outputs": [
    {
     "name": "stdout",
     "output_type": "stream",
     "text": [
      "차가 달린다.\n"
     ]
    }
   ],
   "source": [
    "mycar.drive()"
   ]
  },
  {
   "cell_type": "code",
   "execution_count": 44,
   "id": "c85853aa-4923-4e8d-b864-ebaa8bd85f9a",
   "metadata": {},
   "outputs": [],
   "source": [
    "# 필통은 연필을 가지다.(have)"
   ]
  },
  {
   "cell_type": "code",
   "execution_count": 34,
   "id": "172943d0-e5ab-47c6-a22c-7d0c898369b2",
   "metadata": {},
   "outputs": [],
   "source": [
    "# 연필이 있는 필통"
   ]
  },
  {
   "cell_type": "code",
   "execution_count": 37,
   "id": "39015189-fb37-409d-b45a-34c75bdb4cb3",
   "metadata": {},
   "outputs": [],
   "source": [
    "class PencilCase:\n",
    "    def __init__(self):\n",
    "        self.pencil=Pencil()"
   ]
  },
  {
   "cell_type": "code",
   "execution_count": 38,
   "id": "b0bef837-c44b-42e2-bbd0-dfcaa3d11b53",
   "metadata": {},
   "outputs": [],
   "source": [
    "class Pencil:\n",
    "    def write(self):\n",
    "        print(\"쓰다\")"
   ]
  },
  {
   "cell_type": "code",
   "execution_count": 39,
   "id": "49c4cc3a-3d0f-47fc-aded-c7e5b14820b3",
   "metadata": {},
   "outputs": [],
   "source": [
    "my_pencil_case=PencilCase()"
   ]
  },
  {
   "cell_type": "code",
   "execution_count": 40,
   "id": "81a54727-c18c-4146-b356-63039a1c0d33",
   "metadata": {},
   "outputs": [
    {
     "data": {
      "text/plain": [
       "<__main__.Pencil at 0x1b51e971160>"
      ]
     },
     "execution_count": 40,
     "metadata": {},
     "output_type": "execute_result"
    }
   ],
   "source": [
    "my_pencil_case.pencil"
   ]
  },
  {
   "cell_type": "code",
   "execution_count": 41,
   "id": "828be61e-c9b5-4124-a8b2-b3762bb6e5b7",
   "metadata": {},
   "outputs": [
    {
     "name": "stdout",
     "output_type": "stream",
     "text": [
      "쓰다\n"
     ]
    }
   ],
   "source": [
    "my_pencil_case.pencil.write()"
   ]
  },
  {
   "cell_type": "code",
   "execution_count": 47,
   "id": "69203ec4-eed9-4b6f-80b2-755531771cc1",
   "metadata": {},
   "outputs": [],
   "source": [
    "# 3 상속 관계 (is 관계), 자식클래스는 부모클래스이다."
   ]
  },
  {
   "cell_type": "code",
   "execution_count": 43,
   "id": "066b68a8-08ff-41e2-947a-166419d9d96c",
   "metadata": {},
   "outputs": [],
   "source": [
    "# 부모(상위) 클래스\n",
    "# 자식(하위) 클래스"
   ]
  },
  {
   "cell_type": "code",
   "execution_count": 46,
   "id": "42c6bbc1-66ed-4908-9dea-b51e769e9961",
   "metadata": {},
   "outputs": [],
   "source": [
    "# 고양이는 동물이다.\n",
    "# 강아지는 동물이다."
   ]
  },
  {
   "cell_type": "code",
   "execution_count": 62,
   "id": "d626b40f-2da1-44fa-b12b-49a71bd8c493",
   "metadata": {},
   "outputs": [],
   "source": [
    "class Animal:\n",
    "    def __init__(self, color):\n",
    "        self.color=color\n",
    "    def breathe(self):\n",
    "        print(\"숨쉰다.\")"
   ]
  },
  {
   "cell_type": "code",
   "execution_count": 63,
   "id": "414c322b-7a23-41de-a711-12f4ad14dd5e",
   "metadata": {},
   "outputs": [],
   "source": [
    "class Cat(Animal):\n",
    "    pass"
   ]
  },
  {
   "cell_type": "code",
   "execution_count": 65,
   "id": "19f17680-29b4-4a1c-a3dd-f165d194f7b3",
   "metadata": {},
   "outputs": [],
   "source": [
    "bumbee=Cat(\"black\")"
   ]
  },
  {
   "cell_type": "code",
   "execution_count": 66,
   "id": "bc9c05ce-f2c9-47f6-89ed-69c16e78f6c5",
   "metadata": {},
   "outputs": [
    {
     "data": {
      "text/plain": [
       "'black'"
      ]
     },
     "execution_count": 66,
     "metadata": {},
     "output_type": "execute_result"
    }
   ],
   "source": [
    "bumbee.color"
   ]
  },
  {
   "cell_type": "code",
   "execution_count": 55,
   "id": "82747642-93df-4f4a-b34b-3b8129f6e482",
   "metadata": {},
   "outputs": [],
   "source": [
    "per_cat=Cat()"
   ]
  },
  {
   "cell_type": "code",
   "execution_count": 56,
   "id": "9c5add85-41fb-4d9a-b83d-657e694d28ab",
   "metadata": {},
   "outputs": [
    {
     "name": "stdout",
     "output_type": "stream",
     "text": [
      "숨쉰다.\n"
     ]
    }
   ],
   "source": [
    "per_cat.breathe()"
   ]
  },
  {
   "cell_type": "code",
   "execution_count": 67,
   "id": "5c1a6e26-9e0e-43e3-87f1-26248f6d9a95",
   "metadata": {},
   "outputs": [],
   "source": [
    "class Dog(Animal):\n",
    "    pass"
   ]
  },
  {
   "cell_type": "code",
   "execution_count": 68,
   "id": "7d074210-b046-477c-a18c-d787a864dd63",
   "metadata": {},
   "outputs": [],
   "source": [
    "mal=Dog(\"white\")"
   ]
  },
  {
   "cell_type": "code",
   "execution_count": 69,
   "id": "477adab2-8a89-4c77-a85a-09ebd7629df4",
   "metadata": {},
   "outputs": [
    {
     "data": {
      "text/plain": [
       "'white'"
      ]
     },
     "execution_count": 69,
     "metadata": {},
     "output_type": "execute_result"
    }
   ],
   "source": [
    "mal.color"
   ]
  },
  {
   "cell_type": "code",
   "execution_count": 82,
   "id": "c49be542-e98c-4692-8182-1cfdac5d4078",
   "metadata": {},
   "outputs": [],
   "source": [
    "# 계산기 버전1"
   ]
  },
  {
   "cell_type": "code",
   "execution_count": 77,
   "id": "f111a425-a4a9-48ce-8df2-cc7dc77b2c41",
   "metadata": {},
   "outputs": [],
   "source": [
    "class Caculator:\n",
    "    def __init__(self):  #객체 생성시 인스턴스 변수를 초기화하는 역할을 하는 함수\n",
    "        self.num1=0     #인스턴스(객체) 변수\n",
    "        self.num2=0\n",
    "    def add(self, num1, num2):  \n",
    "        self.num1=num1\n",
    "        self.num2=num2        \n",
    "        return self.num1 + self.num2\n",
    "    def subtract(self, num1, num2):  \n",
    "        self.num1=num1\n",
    "        self.num2=num2        \n",
    "        return self.num1 - self.num2\n",
    "    def multiply(self, num1, num2):  \n",
    "        self.num1=num1\n",
    "        self.num2=num2        \n",
    "        return self.num1 * self.num2\n",
    "    def divide(self, num1, num2):\n",
    "        self.num1=num1\n",
    "        self.num2=num2\n",
    "        return self.num1 / self.num2"
   ]
  },
  {
   "cell_type": "code",
   "execution_count": 78,
   "id": "733ae6fd-70af-46c4-88a4-ed3b38a55da2",
   "metadata": {},
   "outputs": [],
   "source": [
    "mycalc=Caculator()"
   ]
  },
  {
   "cell_type": "code",
   "execution_count": 81,
   "id": "6360a674-96fe-41d0-ba1d-6882fa4aac71",
   "metadata": {},
   "outputs": [
    {
     "name": "stdout",
     "output_type": "stream",
     "text": [
      "더한 결과는 5\n",
      "뺀 결과는 -1\n",
      "곱한 결과는 6\n",
      "나눈 결과는 0.6666666666666666\n"
     ]
    }
   ],
   "source": [
    "print(f\"더한 결과는 {mycalc.add(2,3)}\")\n",
    "print(f\"뺀 결과는 {mycalc.subtract(2,3)}\")\n",
    "print(f\"곱한 결과는 {mycalc.multiply(2,3)}\")\n",
    "print(f\"나눈 결과는 {mycalc.divide(2,3)}\")"
   ]
  },
  {
   "cell_type": "code",
   "execution_count": 95,
   "id": "b6efe446-0939-4a87-893c-301f931b13d5",
   "metadata": {},
   "outputs": [],
   "source": [
    "# 계산기 버전2"
   ]
  },
  {
   "cell_type": "code",
   "execution_count": 96,
   "id": "b1d2a3e9-6dd8-4fa2-b50d-322246c03bcc",
   "metadata": {},
   "outputs": [],
   "source": [
    "class Caculator:\n",
    "    def __init__(self,num1,num2 ): \n",
    "        self.num1=num1    \n",
    "        self.num2=num2\n",
    "    def add(self):\n",
    "        return self.num1 + self.num2\n",
    "    def subtract(self):  \n",
    "        return self.num1 - self.num2\n",
    "    def multiply(self):  \n",
    "        return self.num1 * self.num2\n",
    "    def divide(self):\n",
    "        return self.num1 / self.num2"
   ]
  },
  {
   "cell_type": "code",
   "execution_count": 84,
   "id": "f0331828-c598-4edd-965f-e1636fb4ece2",
   "metadata": {},
   "outputs": [],
   "source": [
    "mycalc2=Caculator(3,6)"
   ]
  },
  {
   "cell_type": "code",
   "execution_count": 85,
   "id": "4d0dabef-9492-46b1-83c8-fb8891a5723c",
   "metadata": {},
   "outputs": [
    {
     "name": "stdout",
     "output_type": "stream",
     "text": [
      "더한 결과는 9\n",
      "뺀 결과는 -3\n",
      "곱한 결과는 18\n",
      "나눈 결과는 0.5\n"
     ]
    }
   ],
   "source": [
    "print(f\"더한 결과는 {mycalc2.add()}\")\n",
    "print(f\"뺀 결과는 {mycalc2.subtract()}\")\n",
    "print(f\"곱한 결과는 {mycalc2.multiply()}\")\n",
    "print(f\"나눈 결과는 {mycalc2.divide()}\")"
   ]
  },
  {
   "cell_type": "code",
   "execution_count": 86,
   "id": "fbb798ff-1414-48bb-bec5-accdc0391983",
   "metadata": {},
   "outputs": [
    {
     "ename": "ZeroDivisionError",
     "evalue": "division by zero",
     "output_type": "error",
     "traceback": [
      "\u001b[1;31m---------------------------------------------------------------------------\u001b[0m",
      "\u001b[1;31mZeroDivisionError\u001b[0m                         Traceback (most recent call last)",
      "Cell \u001b[1;32mIn[86], line 1\u001b[0m\n\u001b[1;32m----> 1\u001b[0m \u001b[38;5;241m3\u001b[39m \u001b[38;5;241m/\u001b[39m \u001b[38;5;241m0\u001b[39m\n",
      "\u001b[1;31mZeroDivisionError\u001b[0m: division by zero"
     ]
    }
   ],
   "source": [
    "3 / 0"
   ]
  },
  {
   "cell_type": "code",
   "execution_count": 87,
   "id": "c984a13a-456f-4d97-9a25-deb9dd1cfdcf",
   "metadata": {},
   "outputs": [
    {
     "data": {
      "text/plain": [
       "0.0"
      ]
     },
     "execution_count": 87,
     "metadata": {},
     "output_type": "execute_result"
    }
   ],
   "source": [
    "0 / 3 "
   ]
  },
  {
   "cell_type": "code",
   "execution_count": 90,
   "id": "7ff8baa7-c01f-4a94-a045-b034223ee394",
   "metadata": {},
   "outputs": [],
   "source": [
    "mycalc3=Caculator(3,0)"
   ]
  },
  {
   "cell_type": "code",
   "execution_count": 91,
   "id": "8cad2630-daa0-49b2-a332-b75a6144388e",
   "metadata": {},
   "outputs": [
    {
     "data": {
      "text/plain": [
       "3"
      ]
     },
     "execution_count": 91,
     "metadata": {},
     "output_type": "execute_result"
    }
   ],
   "source": [
    "mycalc3.num1"
   ]
  },
  {
   "cell_type": "code",
   "execution_count": 92,
   "id": "6ea19dd4-37fd-4322-a1e4-9160793776b2",
   "metadata": {},
   "outputs": [
    {
     "data": {
      "text/plain": [
       "0"
      ]
     },
     "execution_count": 92,
     "metadata": {},
     "output_type": "execute_result"
    }
   ],
   "source": [
    "mycalc3.num2"
   ]
  },
  {
   "cell_type": "code",
   "execution_count": 93,
   "id": "c278a694-4fba-4f10-98dd-ee06314805c6",
   "metadata": {},
   "outputs": [
    {
     "ename": "ZeroDivisionError",
     "evalue": "division by zero",
     "output_type": "error",
     "traceback": [
      "\u001b[1;31m---------------------------------------------------------------------------\u001b[0m",
      "\u001b[1;31mZeroDivisionError\u001b[0m                         Traceback (most recent call last)",
      "Cell \u001b[1;32mIn[93], line 1\u001b[0m\n\u001b[1;32m----> 1\u001b[0m mycalc3\u001b[38;5;241m.\u001b[39mdivide()\n",
      "Cell \u001b[1;32mIn[89], line 12\u001b[0m, in \u001b[0;36mCaculator.divide\u001b[1;34m(self)\u001b[0m\n\u001b[0;32m     11\u001b[0m \u001b[38;5;28;01mdef\u001b[39;00m \u001b[38;5;21mdivide\u001b[39m(\u001b[38;5;28mself\u001b[39m):\n\u001b[1;32m---> 12\u001b[0m     \u001b[38;5;28;01mreturn\u001b[39;00m \u001b[38;5;28mself\u001b[39m\u001b[38;5;241m.\u001b[39mnum1 \u001b[38;5;241m/\u001b[39m \u001b[38;5;28mself\u001b[39m\u001b[38;5;241m.\u001b[39mnum2\n",
      "\u001b[1;31mZeroDivisionError\u001b[0m: division by zero"
     ]
    }
   ],
   "source": [
    "mycalc3.divide()"
   ]
  },
  {
   "cell_type": "code",
   "execution_count": 97,
   "id": "bc635a1f-7421-4a4b-828f-efd8977a30cb",
   "metadata": {},
   "outputs": [],
   "source": [
    "# Caculator 계산기 자식 클래스 만들기"
   ]
  },
  {
   "cell_type": "code",
   "execution_count": 98,
   "id": "680d3641-28ba-4dc5-8633-7eabfc6610ec",
   "metadata": {},
   "outputs": [],
   "source": [
    "class SafeCaculator(Caculator):\n",
    "    pass"
   ]
  },
  {
   "cell_type": "code",
   "execution_count": 100,
   "id": "0c903756-ffbc-420f-9682-623b7de1be15",
   "metadata": {},
   "outputs": [],
   "source": [
    "my_safe_calc=SafeCaculator(3,0)"
   ]
  },
  {
   "cell_type": "code",
   "execution_count": 101,
   "id": "3c012714-3ee9-457b-9a1b-a2ef69255743",
   "metadata": {},
   "outputs": [
    {
     "data": {
      "text/plain": [
       "3"
      ]
     },
     "execution_count": 101,
     "metadata": {},
     "output_type": "execute_result"
    }
   ],
   "source": [
    "my_safe_calc.num1"
   ]
  },
  {
   "cell_type": "code",
   "execution_count": 102,
   "id": "2ff3516c-f338-4494-9f50-a8d8c7439e5e",
   "metadata": {},
   "outputs": [
    {
     "data": {
      "text/plain": [
       "0"
      ]
     },
     "execution_count": 102,
     "metadata": {},
     "output_type": "execute_result"
    }
   ],
   "source": [
    "my_safe_calc.num2"
   ]
  },
  {
   "cell_type": "code",
   "execution_count": 104,
   "id": "16cb31b4-5056-4f45-aaaf-3eabd932c53c",
   "metadata": {},
   "outputs": [
    {
     "data": {
      "text/plain": [
       "3"
      ]
     },
     "execution_count": 104,
     "metadata": {},
     "output_type": "execute_result"
    }
   ],
   "source": [
    "my_safe_calc.add()"
   ]
  },
  {
   "cell_type": "code",
   "execution_count": 106,
   "id": "051afa6c-f0dc-472d-9edb-00c04eba88bf",
   "metadata": {},
   "outputs": [
    {
     "data": {
      "text/plain": [
       "3"
      ]
     },
     "execution_count": 106,
     "metadata": {},
     "output_type": "execute_result"
    }
   ],
   "source": [
    "my_safe_calc.subtract()"
   ]
  },
  {
   "cell_type": "code",
   "execution_count": 105,
   "id": "9dcb91e6-8e50-48ec-a9d2-760bafb90b67",
   "metadata": {},
   "outputs": [
    {
     "data": {
      "text/plain": [
       "0"
      ]
     },
     "execution_count": 105,
     "metadata": {},
     "output_type": "execute_result"
    }
   ],
   "source": [
    "my_safe_calc.multiply()"
   ]
  },
  {
   "cell_type": "code",
   "execution_count": 107,
   "id": "66e6018e-75a4-4650-b896-488212b42513",
   "metadata": {},
   "outputs": [
    {
     "ename": "ZeroDivisionError",
     "evalue": "division by zero",
     "output_type": "error",
     "traceback": [
      "\u001b[1;31m---------------------------------------------------------------------------\u001b[0m",
      "\u001b[1;31mZeroDivisionError\u001b[0m                         Traceback (most recent call last)",
      "Cell \u001b[1;32mIn[107], line 1\u001b[0m\n\u001b[1;32m----> 1\u001b[0m my_safe_calc\u001b[38;5;241m.\u001b[39mdivide()\n",
      "Cell \u001b[1;32mIn[96], line 12\u001b[0m, in \u001b[0;36mCaculator.divide\u001b[1;34m(self)\u001b[0m\n\u001b[0;32m     11\u001b[0m \u001b[38;5;28;01mdef\u001b[39;00m \u001b[38;5;21mdivide\u001b[39m(\u001b[38;5;28mself\u001b[39m):\n\u001b[1;32m---> 12\u001b[0m     \u001b[38;5;28;01mreturn\u001b[39;00m \u001b[38;5;28mself\u001b[39m\u001b[38;5;241m.\u001b[39mnum1 \u001b[38;5;241m/\u001b[39m \u001b[38;5;28mself\u001b[39m\u001b[38;5;241m.\u001b[39mnum2\n",
      "\u001b[1;31mZeroDivisionError\u001b[0m: division by zero"
     ]
    }
   ],
   "source": [
    "my_safe_calc.divide()"
   ]
  },
  {
   "cell_type": "code",
   "execution_count": 108,
   "id": "18c947f4-9284-4e20-bef6-61f5c4896366",
   "metadata": {},
   "outputs": [],
   "source": [
    "# 부모가 정의한 divide()를 재정의(override)해야하는 상황"
   ]
  },
  {
   "cell_type": "code",
   "execution_count": 114,
   "id": "bd0d836e-c201-4a46-8157-7d87fc403c21",
   "metadata": {},
   "outputs": [],
   "source": [
    "class SafeCaculator(Caculator):\n",
    "    def divide(self):\n",
    "        if self.num2 == 0:\n",
    "            print(\"0으로 나누지 마세요\")\n",
    "        else:\n",
    "            return self.num1 / self.num2"
   ]
  },
  {
   "cell_type": "code",
   "execution_count": 115,
   "id": "8305ef6a-52a4-42d9-b3c3-21afed526cf3",
   "metadata": {},
   "outputs": [],
   "source": [
    "my_safe_calc2=SafeCaculator(3,0)"
   ]
  },
  {
   "cell_type": "code",
   "execution_count": 116,
   "id": "3c559078-82a2-459a-b876-9a029e5aee92",
   "metadata": {},
   "outputs": [
    {
     "data": {
      "text/plain": [
       "3"
      ]
     },
     "execution_count": 116,
     "metadata": {},
     "output_type": "execute_result"
    }
   ],
   "source": [
    "my_safe_calc2.num1"
   ]
  },
  {
   "cell_type": "code",
   "execution_count": 117,
   "id": "107dfa82-384c-4903-b55e-6d81ad28c47a",
   "metadata": {},
   "outputs": [
    {
     "data": {
      "text/plain": [
       "0"
      ]
     },
     "execution_count": 117,
     "metadata": {},
     "output_type": "execute_result"
    }
   ],
   "source": [
    "my_safe_calc2.num2"
   ]
  },
  {
   "cell_type": "code",
   "execution_count": 118,
   "id": "38dd4877-7ff8-46e6-9b85-3c3b98408768",
   "metadata": {},
   "outputs": [
    {
     "name": "stdout",
     "output_type": "stream",
     "text": [
      "0으로 나누지 마세요\n"
     ]
    }
   ],
   "source": [
    "my_safe_calc2.divide()"
   ]
  },
  {
   "cell_type": "code",
   "execution_count": 120,
   "id": "304247ce-f34a-4ce1-8f61-c1adcc8f048e",
   "metadata": {},
   "outputs": [
    {
     "name": "stdout",
     "output_type": "stream",
     "text": [
      "Help on list object:\n",
      "\n",
      "class list(object)\n",
      " |  list(iterable=(), /)\n",
      " |\n",
      " |  Built-in mutable sequence.\n",
      " |\n",
      " |  If no argument is given, the constructor creates a new empty list.\n",
      " |  The argument must be an iterable if specified.\n",
      " |\n",
      " |  Methods defined here:\n",
      " |\n",
      " |  __add__(self, value, /)\n",
      " |      Return self+value.\n",
      " |\n",
      " |  __contains__(self, key, /)\n",
      " |      Return bool(key in self).\n",
      " |\n",
      " |  __delitem__(self, key, /)\n",
      " |      Delete self[key].\n",
      " |\n",
      " |  __eq__(self, value, /)\n",
      " |      Return self==value.\n",
      " |\n",
      " |  __ge__(self, value, /)\n",
      " |      Return self>=value.\n",
      " |\n",
      " |  __getattribute__(self, name, /)\n",
      " |      Return getattr(self, name).\n",
      " |\n",
      " |  __getitem__(self, index, /)\n",
      " |      Return self[index].\n",
      " |\n",
      " |  __gt__(self, value, /)\n",
      " |      Return self>value.\n",
      " |\n",
      " |  __iadd__(self, value, /)\n",
      " |      Implement self+=value.\n",
      " |\n",
      " |  __imul__(self, value, /)\n",
      " |      Implement self*=value.\n",
      " |\n",
      " |  __init__(self, /, *args, **kwargs)\n",
      " |      Initialize self.  See help(type(self)) for accurate signature.\n",
      " |\n",
      " |  __iter__(self, /)\n",
      " |      Implement iter(self).\n",
      " |\n",
      " |  __le__(self, value, /)\n",
      " |      Return self<=value.\n",
      " |\n",
      " |  __len__(self, /)\n",
      " |      Return len(self).\n",
      " |\n",
      " |  __lt__(self, value, /)\n",
      " |      Return self<value.\n",
      " |\n",
      " |  __mul__(self, value, /)\n",
      " |      Return self*value.\n",
      " |\n",
      " |  __ne__(self, value, /)\n",
      " |      Return self!=value.\n",
      " |\n",
      " |  __repr__(self, /)\n",
      " |      Return repr(self).\n",
      " |\n",
      " |  __reversed__(self, /)\n",
      " |      Return a reverse iterator over the list.\n",
      " |\n",
      " |  __rmul__(self, value, /)\n",
      " |      Return value*self.\n",
      " |\n",
      " |  __setitem__(self, key, value, /)\n",
      " |      Set self[key] to value.\n",
      " |\n",
      " |  __sizeof__(self, /)\n",
      " |      Return the size of the list in memory, in bytes.\n",
      " |\n",
      " |  append(self, object, /)\n",
      " |      Append object to the end of the list.\n",
      " |\n",
      " |  clear(self, /)\n",
      " |      Remove all items from list.\n",
      " |\n",
      " |  copy(self, /)\n",
      " |      Return a shallow copy of the list.\n",
      " |\n",
      " |  count(self, value, /)\n",
      " |      Return number of occurrences of value.\n",
      " |\n",
      " |  extend(self, iterable, /)\n",
      " |      Extend list by appending elements from the iterable.\n",
      " |\n",
      " |  index(self, value, start=0, stop=9223372036854775807, /)\n",
      " |      Return first index of value.\n",
      " |\n",
      " |      Raises ValueError if the value is not present.\n",
      " |\n",
      " |  insert(self, index, object, /)\n",
      " |      Insert object before index.\n",
      " |\n",
      " |  pop(self, index=-1, /)\n",
      " |      Remove and return item at index (default last).\n",
      " |\n",
      " |      Raises IndexError if list is empty or index is out of range.\n",
      " |\n",
      " |  remove(self, value, /)\n",
      " |      Remove first occurrence of value.\n",
      " |\n",
      " |      Raises ValueError if the value is not present.\n",
      " |\n",
      " |  reverse(self, /)\n",
      " |      Reverse *IN PLACE*.\n",
      " |\n",
      " |  sort(self, /, *, key=None, reverse=False)\n",
      " |      Sort the list in ascending order and return None.\n",
      " |\n",
      " |      The sort is in-place (i.e. the list itself is modified) and stable (i.e. the\n",
      " |      order of two equal elements is maintained).\n",
      " |\n",
      " |      If a key function is given, apply it once to each list item and sort them,\n",
      " |      ascending or descending, according to their function values.\n",
      " |\n",
      " |      The reverse flag can be set to sort in descending order.\n",
      " |\n",
      " |  ----------------------------------------------------------------------\n",
      " |  Class methods defined here:\n",
      " |\n",
      " |  __class_getitem__(...)\n",
      " |      See PEP 585\n",
      " |\n",
      " |  ----------------------------------------------------------------------\n",
      " |  Static methods defined here:\n",
      " |\n",
      " |  __new__(*args, **kwargs)\n",
      " |      Create and return a new object.  See help(type) for accurate signature.\n",
      " |\n",
      " |  ----------------------------------------------------------------------\n",
      " |  Data and other attributes defined here:\n",
      " |\n",
      " |  __hash__ = None\n",
      "\n"
     ]
    }
   ],
   "source": [
    "help([])"
   ]
  },
  {
   "cell_type": "code",
   "execution_count": null,
   "id": "8d05e016-8902-4386-87f4-31213989553c",
   "metadata": {},
   "outputs": [],
   "source": []
  }
 ],
 "metadata": {
  "kernelspec": {
   "display_name": "Python 3 (ipykernel)",
   "language": "python",
   "name": "python3"
  },
  "language_info": {
   "codemirror_mode": {
    "name": "ipython",
    "version": 3
   },
   "file_extension": ".py",
   "mimetype": "text/x-python",
   "name": "python",
   "nbconvert_exporter": "python",
   "pygments_lexer": "ipython3",
   "version": "3.12.4"
  }
 },
 "nbformat": 4,
 "nbformat_minor": 5
}
