{
 "cells": [
  {
   "cell_type": "code",
   "execution_count": 1,
   "id": "ca87e9fa-6594-40b7-853d-5fe6de3bb768",
   "metadata": {},
   "outputs": [],
   "source": [
    "a\t=\t[1]"
   ]
  },
  {
   "cell_type": "code",
   "execution_count": 2,
   "id": "ce3c1029-09bd-4c9c-93f7-7bfc70588f1c",
   "metadata": {},
   "outputs": [],
   "source": [
    "b\t=\t['a','b','c']"
   ]
  },
  {
   "cell_type": "code",
   "execution_count": 3,
   "id": "6216e846-176a-431d-aab9-513b237792d7",
   "metadata": {},
   "outputs": [
    {
     "data": {
      "text/plain": [
       "[1]"
      ]
     },
     "execution_count": 3,
     "metadata": {},
     "output_type": "execute_result"
    }
   ],
   "source": [
    "a[0:1]"
   ]
  },
  {
   "cell_type": "code",
   "execution_count": 4,
   "id": "76c834ac-82a4-4f6a-8744-f52116baff11",
   "metadata": {},
   "outputs": [
    {
     "data": {
      "text/plain": [
       "['b']"
      ]
     },
     "execution_count": 4,
     "metadata": {},
     "output_type": "execute_result"
    }
   ],
   "source": [
    "b[1:2]"
   ]
  },
  {
   "cell_type": "code",
   "execution_count": 5,
   "id": "04ad5b93-8cba-4bc8-bd98-e62f3a706a1c",
   "metadata": {},
   "outputs": [],
   "source": [
    "b[1:2]\t=\ta[0:1]"
   ]
  },
  {
   "cell_type": "code",
   "execution_count": 6,
   "id": "db3ca220-1ddd-4be9-937a-ca8c6626d678",
   "metadata": {},
   "outputs": [
    {
     "data": {
      "text/plain": [
       "['a', 1, 'c']"
      ]
     },
     "execution_count": 6,
     "metadata": {},
     "output_type": "execute_result"
    }
   ],
   "source": [
    "b"
   ]
  },
  {
   "cell_type": "code",
   "execution_count": 7,
   "id": "6f0b387a-b3fc-4aa2-b92d-6887aa6193a2",
   "metadata": {},
   "outputs": [],
   "source": [
    "a\t=\t[1]\n",
    "b\t=\t['a','b','c']"
   ]
  },
  {
   "cell_type": "code",
   "execution_count": 8,
   "id": "c7d0a12b-44b2-453e-8371-fffcf62b7088",
   "metadata": {},
   "outputs": [
    {
     "data": {
      "text/plain": [
       "1"
      ]
     },
     "execution_count": 8,
     "metadata": {},
     "output_type": "execute_result"
    }
   ],
   "source": [
    "a[0]"
   ]
  },
  {
   "cell_type": "code",
   "execution_count": 9,
   "id": "c3e1749d-a689-47eb-bc8c-f2c28ab1b97f",
   "metadata": {},
   "outputs": [],
   "source": [
    "b[1]\t=\ta[0]"
   ]
  },
  {
   "cell_type": "code",
   "execution_count": 10,
   "id": "a48458dd-413f-43f8-a65e-5926f188bbb6",
   "metadata": {},
   "outputs": [
    {
     "data": {
      "text/plain": [
       "['a', 1, 'c']"
      ]
     },
     "execution_count": 10,
     "metadata": {},
     "output_type": "execute_result"
    }
   ],
   "source": [
    "b"
   ]
  },
  {
   "cell_type": "code",
   "execution_count": 11,
   "id": "5ae03dab-cbaf-4e4c-b426-e45571297293",
   "metadata": {},
   "outputs": [],
   "source": [
    "a\t=\t[1]\n",
    "b\t=\t['a','b','c']\n",
    "b[1]\t=\ta[0:1]"
   ]
  },
  {
   "cell_type": "code",
   "execution_count": 12,
   "id": "aba6ef4d-28da-4ed4-a6ed-cfc184233cbe",
   "metadata": {},
   "outputs": [
    {
     "data": {
      "text/plain": [
       "['a', [1], 'c']"
      ]
     },
     "execution_count": 12,
     "metadata": {},
     "output_type": "execute_result"
    }
   ],
   "source": [
    "b"
   ]
  },
  {
   "cell_type": "code",
   "execution_count": 14,
   "id": "60048ad4-342e-4565-a838-97d664ba9aa3",
   "metadata": {},
   "outputs": [],
   "source": [
    "a\t=\t[1]\n",
    "b\t=\t['a','b','c']"
   ]
  },
  {
   "cell_type": "code",
   "execution_count": 15,
   "id": "1c092573-24a8-4b8a-aff4-7814915bbcfa",
   "metadata": {},
   "outputs": [
    {
     "data": {
      "text/plain": [
       "1"
      ]
     },
     "execution_count": 15,
     "metadata": {},
     "output_type": "execute_result"
    }
   ],
   "source": [
    "a[0]"
   ]
  },
  {
   "cell_type": "code",
   "execution_count": 16,
   "id": "ae571407-592e-4723-bf59-592655efcd4c",
   "metadata": {},
   "outputs": [
    {
     "ename": "TypeError",
     "evalue": "can only assign an iterable",
     "output_type": "error",
     "traceback": [
      "\u001b[1;31m---------------------------------------------------------------------------\u001b[0m",
      "\u001b[1;31mTypeError\u001b[0m                                 Traceback (most recent call last)",
      "Cell \u001b[1;32mIn[16], line 1\u001b[0m\n\u001b[1;32m----> 1\u001b[0m b[\u001b[38;5;241m1\u001b[39m:\u001b[38;5;241m2\u001b[39m]\t\u001b[38;5;241m=\u001b[39m\ta[\u001b[38;5;241m0\u001b[39m]\n",
      "\u001b[1;31mTypeError\u001b[0m: can only assign an iterable"
     ]
    }
   ],
   "source": [
    "b[1:2]\t=\ta[0]"
   ]
  },
  {
   "cell_type": "code",
   "execution_count": 17,
   "id": "935e3a75-f655-4b74-9c34-c5ba1bbe08d0",
   "metadata": {},
   "outputs": [],
   "source": [
    "a\t=\t[1]\n",
    "b\t=\t['a','b','c']"
   ]
  },
  {
   "cell_type": "code",
   "execution_count": 18,
   "id": "bfb5c4af-caec-49c0-8a7d-d62200bedfc1",
   "metadata": {},
   "outputs": [
    {
     "ename": "IndexError",
     "evalue": "list index out of range",
     "output_type": "error",
     "traceback": [
      "\u001b[1;31m---------------------------------------------------------------------------\u001b[0m",
      "\u001b[1;31mIndexError\u001b[0m                                Traceback (most recent call last)",
      "Cell \u001b[1;32mIn[18], line 1\u001b[0m\n\u001b[1;32m----> 1\u001b[0m b[\u001b[38;5;241m0\u001b[39m]\t\u001b[38;5;241m=\u001b[39m\ta[\u001b[38;5;241m1\u001b[39m]\n",
      "\u001b[1;31mIndexError\u001b[0m: list index out of range"
     ]
    }
   ],
   "source": [
    "b[0]\t=\ta[1]"
   ]
  },
  {
   "cell_type": "code",
   "execution_count": 25,
   "id": "e3510a03-f553-401e-afc6-ce13c807d64b",
   "metadata": {},
   "outputs": [],
   "source": [
    "a\t=\t[5,\t7,\t3]\n",
    "b\t=\t[3,\t9,\t1]\n",
    "c=a+b\n",
    "c=c.sort()"
   ]
  },
  {
   "cell_type": "code",
   "execution_count": 27,
   "id": "9eb493bc-29f1-40ed-8b7f-f8c7d6d66b9b",
   "metadata": {},
   "outputs": [
    {
     "name": "stdout",
     "output_type": "stream",
     "text": [
      "None\n"
     ]
    }
   ],
   "source": [
    "print(c)"
   ]
  },
  {
   "cell_type": "code",
   "execution_count": 29,
   "id": "e9d50eaa-f186-4be9-8d21-3dd15995c31f",
   "metadata": {},
   "outputs": [
    {
     "name": "stdout",
     "output_type": "stream",
     "text": [
      "Help on built-in function sort:\n",
      "\n",
      "sort(*, key=None, reverse=False) method of builtins.list instance\n",
      "    Sort the list in ascending order and return None.\n",
      "\n",
      "    The sort is in-place (i.e. the list itself is modified) and stable (i.e. the\n",
      "    order of two equal elements is maintained).\n",
      "\n",
      "    If a key function is given, apply it once to each list item and sort them,\n",
      "    ascending or descending, according to their function values.\n",
      "\n",
      "    The reverse flag can be set to sort in descending order.\n",
      "\n"
     ]
    }
   ],
   "source": [
    "help([].sort)"
   ]
  },
  {
   "cell_type": "code",
   "execution_count": 30,
   "id": "35f67f6e-a73b-408e-9c19-945b7fbb821d",
   "metadata": {},
   "outputs": [],
   "source": [
    "_ = 5"
   ]
  },
  {
   "cell_type": "code",
   "execution_count": 31,
   "id": "5ac9ab12-55b9-403f-a9d5-4dd7fc6c6162",
   "metadata": {},
   "outputs": [
    {
     "data": {
      "text/plain": [
       "5"
      ]
     },
     "execution_count": 31,
     "metadata": {},
     "output_type": "execute_result"
    }
   ],
   "source": [
    "_"
   ]
  },
  {
   "cell_type": "code",
   "execution_count": 32,
   "id": "db3f67be-bd67-42dc-9486-35ab44596b0b",
   "metadata": {},
   "outputs": [],
   "source": [
    "num = [1, 2, 3, 4, 5, 6]"
   ]
  },
  {
   "cell_type": "code",
   "execution_count": 33,
   "id": "337b6555-07ab-4626-800d-39d16371c5f6",
   "metadata": {},
   "outputs": [],
   "source": [
    "total=1"
   ]
  },
  {
   "cell_type": "code",
   "execution_count": 34,
   "id": "6236b4be-b07e-4ce9-8283-54010b3f9225",
   "metadata": {},
   "outputs": [],
   "source": [
    "for n in num:\n",
    "    total=total*n"
   ]
  },
  {
   "cell_type": "code",
   "execution_count": 35,
   "id": "3b90eb89-f7f9-4019-be12-f9b1bc888616",
   "metadata": {},
   "outputs": [
    {
     "data": {
      "text/plain": [
       "720"
      ]
     },
     "execution_count": 35,
     "metadata": {},
     "output_type": "execute_result"
    }
   ],
   "source": [
    "total"
   ]
  },
  {
   "cell_type": "code",
   "execution_count": 38,
   "id": "9f2e6bab-19fc-4c80-8fd1-595ce78a365b",
   "metadata": {},
   "outputs": [
    {
     "name": "stdout",
     "output_type": "stream",
     "text": [
      "one 문자\n",
      "8 숫자\n",
      "twenty 문자\n",
      "40 숫자\n"
     ]
    }
   ],
   "source": [
    "ages = ['one', 8, 'twenty', 40]\n",
    "for age in ages:\n",
    "    if type(age) == int:\n",
    "        print(age,'숫자')\n",
    "    else:\n",
    "        print(age, '문자')"
   ]
  },
  {
   "cell_type": "code",
   "execution_count": 39,
   "id": "7e18e228-9efa-4775-a784-3cfbe123c305",
   "metadata": {},
   "outputs": [
    {
     "data": {
      "text/plain": [
       "False"
      ]
     },
     "execution_count": 39,
     "metadata": {},
     "output_type": "execute_result"
    }
   ],
   "source": [
    "type(8) == 'int'"
   ]
  },
  {
   "cell_type": "code",
   "execution_count": 40,
   "id": "c488d1c9-01f5-4616-aac0-24d870e869c4",
   "metadata": {},
   "outputs": [
    {
     "data": {
      "text/plain": [
       "float"
      ]
     },
     "execution_count": 40,
     "metadata": {},
     "output_type": "execute_result"
    }
   ],
   "source": [
    "type(1 / 10)"
   ]
  },
  {
   "cell_type": "code",
   "execution_count": 46,
   "id": "f6f59b20-7ded-4774-b036-b84fd889b241",
   "metadata": {},
   "outputs": [
    {
     "name": "stdin",
     "output_type": "stream",
     "text": [
      "자연수 a를 입력하세요. :  20\n"
     ]
    },
    {
     "name": "stdout",
     "output_type": "stream",
     "text": [
      "a는 10의 배수\n"
     ]
    }
   ],
   "source": [
    "a = int(input('자연수 a를 입력하세요. : '))\n",
    "if a % 10 == 0:\n",
    "    print('a는 10의 배수')\n",
    "else:\n",
    "    print('a는 10의 배수가 아님')"
   ]
  },
  {
   "cell_type": "code",
   "execution_count": 49,
   "id": "d50852d1-46d8-43af-abab-01e07161b0ea",
   "metadata": {},
   "outputs": [
    {
     "name": "stdout",
     "output_type": "stream",
     "text": [
      "***             ****\n"
     ]
    }
   ],
   "source": [
    "print(\"***    *\\b         ****\")"
   ]
  },
  {
   "cell_type": "code",
   "execution_count": 50,
   "id": "66216d20-f7a1-437d-becb-753194bd0be2",
   "metadata": {},
   "outputs": [],
   "source": [
    "course_name\t=\t'This\tis\tNew\tAI\tWorld'"
   ]
  },
  {
   "cell_type": "code",
   "execution_count": 51,
   "id": "e4dedb08-45a8-47a5-b77c-420be30b04df",
   "metadata": {},
   "outputs": [
    {
     "name": "stdout",
     "output_type": "stream",
     "text": [
      "a\n",
      "b\n",
      "c\n"
     ]
    }
   ],
   "source": [
    "for i in \"abc\":\n",
    "    print(i)"
   ]
  },
  {
   "cell_type": "code",
   "execution_count": 52,
   "id": "bc5ffb41-a916-43e4-b3ce-a7499991bdc9",
   "metadata": {},
   "outputs": [
    {
     "name": "stdout",
     "output_type": "stream",
     "text": [
      "This\tis\tNew\tAI\tWorld\n"
     ]
    }
   ],
   "source": [
    "course_name\t=\t'This\tis\tNew\tAI\tWorld'\n",
    "# for\ti\tin\tcourse_name:\n",
    "#     if\ti\t==\t'world':\n",
    "#         i\t=\tcourse_name.lower()\n",
    "# print(course_name)"
   ]
  },
  {
   "cell_type": "code",
   "execution_count": 53,
   "id": "8705a2f8-96a3-44d2-bcc7-5ccc2b1cf431",
   "metadata": {},
   "outputs": [
    {
     "name": "stdout",
     "output_type": "stream",
     "text": [
      "T\n",
      "h\n",
      "i\n",
      "s\n",
      "\t\n",
      "i\n",
      "s\n",
      "\t\n",
      "N\n",
      "e\n",
      "w\n",
      "\t\n",
      "A\n",
      "I\n",
      "\t\n",
      "W\n",
      "o\n",
      "r\n",
      "l\n",
      "d\n"
     ]
    }
   ],
   "source": [
    "for\ti\tin\tcourse_name:\n",
    "    print(i)"
   ]
  },
  {
   "cell_type": "code",
   "execution_count": 54,
   "id": "8e94bf77-6b9d-4092-9734-7e179701da9c",
   "metadata": {},
   "outputs": [],
   "source": [
    "word\t=\t'word'"
   ]
  },
  {
   "cell_type": "code",
   "execution_count": 57,
   "id": "2a37bf2e-8185-4ef6-a112-953ade71f62a",
   "metadata": {},
   "outputs": [
    {
     "name": "stdout",
     "output_type": "stream",
     "text": [
      "|word      |\n"
     ]
    }
   ],
   "source": [
    "print(f\"|{word:10}|\")"
   ]
  },
  {
   "cell_type": "code",
   "execution_count": 58,
   "id": "457d397b-c4fc-4556-808b-404ead1d0f34",
   "metadata": {},
   "outputs": [
    {
     "name": "stdout",
     "output_type": "stream",
     "text": [
      "|word      |\n"
     ]
    }
   ],
   "source": [
    "print(f\"|{word:<10}|\")"
   ]
  },
  {
   "cell_type": "code",
   "execution_count": 59,
   "id": "4694b18f-21a6-4282-bc01-10bbcc41cc6f",
   "metadata": {},
   "outputs": [
    {
     "name": "stdout",
     "output_type": "stream",
     "text": [
      "|   word   |\n"
     ]
    }
   ],
   "source": [
    "print(f\"|{word:^10}|\")"
   ]
  },
  {
   "cell_type": "code",
   "execution_count": 60,
   "id": "2182c0d4-a3f1-4cdd-99a6-90c7ed2b013d",
   "metadata": {},
   "outputs": [
    {
     "name": "stdout",
     "output_type": "stream",
     "text": [
      "|      word|\n"
     ]
    }
   ],
   "source": [
    "print(f\"|{word:>10}|\")"
   ]
  },
  {
   "cell_type": "code",
   "execution_count": 63,
   "id": "d26d2875-3fce-40e5-957b-1e11c88d76fc",
   "metadata": {},
   "outputs": [],
   "source": [
    "def f1():\n",
    "    num1=5 #num1은 지역 변수\n",
    "    print(num1)"
   ]
  },
  {
   "cell_type": "code",
   "execution_count": 62,
   "id": "703fa41f-d600-4e39-8f5f-500d1add73c2",
   "metadata": {},
   "outputs": [
    {
     "name": "stdout",
     "output_type": "stream",
     "text": [
      "5\n"
     ]
    }
   ],
   "source": [
    "f1()"
   ]
  },
  {
   "cell_type": "code",
   "execution_count": 67,
   "id": "561dd72e-395f-408a-be13-ce0632c17c5e",
   "metadata": {},
   "outputs": [],
   "source": [
    "a=3\n",
    "def f1():\n",
    "    num1=8 #num1은 지역 변수\n",
    "    print(num1)"
   ]
  },
  {
   "cell_type": "code",
   "execution_count": 65,
   "id": "cb740f12-0d7d-44c0-a9a5-87ca3673ee04",
   "metadata": {},
   "outputs": [
    {
     "data": {
      "text/plain": [
       "3"
      ]
     },
     "execution_count": 65,
     "metadata": {},
     "output_type": "execute_result"
    }
   ],
   "source": [
    "a"
   ]
  },
  {
   "cell_type": "code",
   "execution_count": 70,
   "id": "ff9cac8d-37b5-422f-8bf2-d841aac3c45d",
   "metadata": {},
   "outputs": [],
   "source": [
    "# 함수풀이"
   ]
  },
  {
   "cell_type": "code",
   "execution_count": 72,
   "id": "5bf6be22-8394-43d1-bf89-ead08cb64929",
   "metadata": {},
   "outputs": [],
   "source": [
    "# 1) 3"
   ]
  },
  {
   "cell_type": "code",
   "execution_count": 73,
   "id": "bd887d79-7725-4b88-937c-54f9824e5d9c",
   "metadata": {},
   "outputs": [],
   "source": [
    "def test(k):\n",
    "    print(\"Input is\", k)"
   ]
  },
  {
   "cell_type": "code",
   "execution_count": 74,
   "id": "5050294e-7013-47d3-aad0-aeedd7c8ed49",
   "metadata": {},
   "outputs": [
    {
     "name": "stdout",
     "output_type": "stream",
     "text": [
      "Input is uu\n"
     ]
    }
   ],
   "source": [
    "test(\"uu\")"
   ]
  },
  {
   "cell_type": "code",
   "execution_count": 75,
   "id": "99b27b88-4b0f-41a6-8596-75bae849482d",
   "metadata": {},
   "outputs": [],
   "source": [
    "k=100"
   ]
  },
  {
   "cell_type": "code",
   "execution_count": 76,
   "id": "e29cd9b2-096c-4032-9873-8e45059e4241",
   "metadata": {},
   "outputs": [
    {
     "name": "stdout",
     "output_type": "stream",
     "text": [
      "Input is 100\n"
     ]
    }
   ],
   "source": [
    "test(k)"
   ]
  },
  {
   "cell_type": "code",
   "execution_count": 77,
   "id": "78803942-802e-4cb1-acea-e11f4b92cc71",
   "metadata": {},
   "outputs": [],
   "source": [
    "def counter(*args):\n",
    "    count=len(args)\n",
    "    return count"
   ]
  },
  {
   "cell_type": "code",
   "execution_count": 78,
   "id": "bf458325-6572-4168-8a84-fa25f7829232",
   "metadata": {},
   "outputs": [
    {
     "data": {
      "text/plain": [
       "0"
      ]
     },
     "execution_count": 78,
     "metadata": {},
     "output_type": "execute_result"
    }
   ],
   "source": [
    "counter()"
   ]
  },
  {
   "cell_type": "code",
   "execution_count": 79,
   "id": "fed69609-8c19-4c0f-a4a4-86473c4e30fb",
   "metadata": {},
   "outputs": [],
   "source": [
    "result=counter()"
   ]
  },
  {
   "cell_type": "code",
   "execution_count": 80,
   "id": "5662c0e3-bed6-4967-b6dc-a0182b2db6d5",
   "metadata": {},
   "outputs": [
    {
     "data": {
      "text/plain": [
       "0"
      ]
     },
     "execution_count": 80,
     "metadata": {},
     "output_type": "execute_result"
    }
   ],
   "source": [
    "result"
   ]
  },
  {
   "cell_type": "code",
   "execution_count": 81,
   "id": "60b79850-7166-4321-b67a-9b93c3a3fdef",
   "metadata": {},
   "outputs": [],
   "source": [
    "result=counter(4,6)"
   ]
  },
  {
   "cell_type": "code",
   "execution_count": 82,
   "id": "18e08906-8da3-45cb-ac4a-38d0a0ea8edb",
   "metadata": {},
   "outputs": [
    {
     "data": {
      "text/plain": [
       "2"
      ]
     },
     "execution_count": 82,
     "metadata": {},
     "output_type": "execute_result"
    }
   ],
   "source": [
    "result"
   ]
  },
  {
   "cell_type": "code",
   "execution_count": 83,
   "id": "959c51a8-d582-4494-a598-c17bd9acab24",
   "metadata": {},
   "outputs": [
    {
     "data": {
      "text/plain": [
       "[]"
      ]
     },
     "execution_count": 83,
     "metadata": {},
     "output_type": "execute_result"
    }
   ],
   "source": [
    "([])"
   ]
  },
  {
   "cell_type": "code",
   "execution_count": 86,
   "id": "c561e201-6642-4e1a-9282-b4bdf32c8e92",
   "metadata": {},
   "outputs": [
    {
     "data": {
      "text/plain": [
       "0"
      ]
     },
     "execution_count": 86,
     "metadata": {},
     "output_type": "execute_result"
    }
   ],
   "source": [
    "len(())"
   ]
  },
  {
   "cell_type": "code",
   "execution_count": 87,
   "id": "05aa6c27-eb50-4bbb-82e2-3e2b767c9418",
   "metadata": {},
   "outputs": [
    {
     "data": {
      "text/plain": [
       "0"
      ]
     },
     "execution_count": 87,
     "metadata": {},
     "output_type": "execute_result"
    }
   ],
   "source": [
    "len(([]))"
   ]
  },
  {
   "cell_type": "code",
   "execution_count": 88,
   "id": "4df71208-4823-4312-b4ac-6c61143e854a",
   "metadata": {},
   "outputs": [],
   "source": [
    "result=counter([])"
   ]
  },
  {
   "cell_type": "code",
   "execution_count": 89,
   "id": "d516bbb1-854e-4c46-b145-b043036ddc8e",
   "metadata": {},
   "outputs": [
    {
     "data": {
      "text/plain": [
       "1"
      ]
     },
     "execution_count": 89,
     "metadata": {},
     "output_type": "execute_result"
    }
   ],
   "source": [
    "result"
   ]
  },
  {
   "cell_type": "code",
   "execution_count": 90,
   "id": "edcb9b12-3312-4658-b22b-408038ffd8da",
   "metadata": {},
   "outputs": [],
   "source": [
    "result2=counter([5])"
   ]
  },
  {
   "cell_type": "code",
   "execution_count": 91,
   "id": "3395370b-8aea-4725-9501-15ef9610c028",
   "metadata": {},
   "outputs": [
    {
     "data": {
      "text/plain": [
       "1"
      ]
     },
     "execution_count": 91,
     "metadata": {},
     "output_type": "execute_result"
    }
   ],
   "source": [
    "result2"
   ]
  },
  {
   "cell_type": "code",
   "execution_count": 93,
   "id": "5a468043-e8aa-429d-820a-56db35bb3c59",
   "metadata": {},
   "outputs": [],
   "source": [
    "result3=counter([5,4])"
   ]
  },
  {
   "cell_type": "code",
   "execution_count": 94,
   "id": "a8388ee7-7bb2-4ce4-ab24-0057255de794",
   "metadata": {},
   "outputs": [
    {
     "data": {
      "text/plain": [
       "1"
      ]
     },
     "execution_count": 94,
     "metadata": {},
     "output_type": "execute_result"
    }
   ],
   "source": [
    "result3"
   ]
  },
  {
   "cell_type": "code",
   "execution_count": 95,
   "id": "fc3ceff8-7a78-415e-94d5-025c82e53f7b",
   "metadata": {},
   "outputs": [
    {
     "name": "stdout",
     "output_type": "stream",
     "text": [
      "1\n"
     ]
    }
   ],
   "source": [
    "print(counter([\"test\", \"hello\", \"oooo\"]))"
   ]
  },
  {
   "cell_type": "code",
   "execution_count": 96,
   "id": "d2e7adeb-f9be-4caa-afff-1a920112d02f",
   "metadata": {},
   "outputs": [],
   "source": [
    "result6=counter([5,4], 9)"
   ]
  },
  {
   "cell_type": "code",
   "execution_count": 97,
   "id": "e9091c19-c318-4748-a4e3-801ebb9cd7ca",
   "metadata": {},
   "outputs": [
    {
     "data": {
      "text/plain": [
       "2"
      ]
     },
     "execution_count": 97,
     "metadata": {},
     "output_type": "execute_result"
    }
   ],
   "source": [
    "result6"
   ]
  },
  {
   "cell_type": "code",
   "execution_count": 99,
   "id": "d18d481e-001b-49bd-8486-ac0392b21e77",
   "metadata": {},
   "outputs": [],
   "source": [
    "result7=counter([5,4], [9],[5],6)"
   ]
  },
  {
   "cell_type": "code",
   "execution_count": 100,
   "id": "16b59b77-502b-4673-a9f7-631b29fa2d09",
   "metadata": {},
   "outputs": [
    {
     "data": {
      "text/plain": [
       "4"
      ]
     },
     "execution_count": 100,
     "metadata": {},
     "output_type": "execute_result"
    }
   ],
   "source": [
    "result7"
   ]
  },
  {
   "cell_type": "code",
   "execution_count": 101,
   "id": "7fb5106c-5aa7-4963-8daf-b013c716908e",
   "metadata": {},
   "outputs": [],
   "source": [
    "def f(x):\n",
    "    y=x\n",
    "    x=7\n",
    "    return y*x"
   ]
  },
  {
   "cell_type": "code",
   "execution_count": 102,
   "id": "c1e79942-a9db-4cfa-8a8b-7d97bb106b2b",
   "metadata": {},
   "outputs": [],
   "source": [
    "result=f(5)"
   ]
  },
  {
   "cell_type": "code",
   "execution_count": 103,
   "id": "e6b7651c-f075-4db2-8e95-ac720a182612",
   "metadata": {},
   "outputs": [
    {
     "data": {
      "text/plain": [
       "35"
      ]
     },
     "execution_count": 103,
     "metadata": {},
     "output_type": "execute_result"
    }
   ],
   "source": [
    "result"
   ]
  },
  {
   "cell_type": "code",
   "execution_count": 104,
   "id": "0f4427d4-0923-49fa-b591-c0884f13abc6",
   "metadata": {},
   "outputs": [
    {
     "name": "stdout",
     "output_type": "stream",
     "text": [
      "21\n"
     ]
    }
   ],
   "source": [
    "print(f(3))"
   ]
  },
  {
   "cell_type": "code",
   "execution_count": 105,
   "id": "94f91354-a327-47d3-9f69-495a70f9e7b7",
   "metadata": {},
   "outputs": [],
   "source": [
    "x=4"
   ]
  },
  {
   "cell_type": "code",
   "execution_count": 106,
   "id": "fab6b420-f87f-4b71-8dde-c0c7b5d9c673",
   "metadata": {},
   "outputs": [
    {
     "data": {
      "text/plain": [
       "4"
      ]
     },
     "execution_count": 106,
     "metadata": {},
     "output_type": "execute_result"
    }
   ],
   "source": [
    "x"
   ]
  },
  {
   "cell_type": "code",
   "execution_count": 1,
   "id": "875fe8ac-a6f4-4487-bae1-3a069e4771d0",
   "metadata": {},
   "outputs": [],
   "source": [
    "name = 'jiho'"
   ]
  },
  {
   "cell_type": "code",
   "execution_count": 2,
   "id": "8ff713d9-817d-4a0c-924f-164306b1691e",
   "metadata": {},
   "outputs": [],
   "source": [
    "def call_my_name():\n",
    "    print(name)"
   ]
  },
  {
   "cell_type": "code",
   "execution_count": 3,
   "id": "b27d014f-0640-4776-865c-051f6cd63225",
   "metadata": {},
   "outputs": [
    {
     "name": "stdout",
     "output_type": "stream",
     "text": [
      "jiho\n"
     ]
    }
   ],
   "source": [
    "call_my_name()"
   ]
  },
  {
   "cell_type": "code",
   "execution_count": 6,
   "id": "52d17773-845c-4fab-b8ac-96752422273a",
   "metadata": {},
   "outputs": [],
   "source": [
    "def call_my_name():\n",
    "    print(name)\n",
    "    name = 'sehoon'  # 지역변수"
   ]
  },
  {
   "cell_type": "code",
   "execution_count": 5,
   "id": "ffebc3e8-e0e4-4947-a62c-7a229002d254",
   "metadata": {},
   "outputs": [
    {
     "ename": "UnboundLocalError",
     "evalue": "cannot access local variable 'name' where it is not associated with a value",
     "output_type": "error",
     "traceback": [
      "\u001b[1;31m---------------------------------------------------------------------------\u001b[0m",
      "\u001b[1;31mUnboundLocalError\u001b[0m                         Traceback (most recent call last)",
      "Cell \u001b[1;32mIn[5], line 1\u001b[0m\n\u001b[1;32m----> 1\u001b[0m call_my_name()\n",
      "Cell \u001b[1;32mIn[4], line 2\u001b[0m, in \u001b[0;36mcall_my_name\u001b[1;34m()\u001b[0m\n\u001b[0;32m      1\u001b[0m \u001b[38;5;28;01mdef\u001b[39;00m \u001b[38;5;21mcall_my_name\u001b[39m():\n\u001b[1;32m----> 2\u001b[0m     \u001b[38;5;28mprint\u001b[39m(name)\n\u001b[0;32m      3\u001b[0m     name \u001b[38;5;241m=\u001b[39m \u001b[38;5;124m'\u001b[39m\u001b[38;5;124msehoon\u001b[39m\u001b[38;5;124m'\u001b[39m\n",
      "\u001b[1;31mUnboundLocalError\u001b[0m: cannot access local variable 'name' where it is not associated with a value"
     ]
    }
   ],
   "source": [
    "call_my_name()"
   ]
  },
  {
   "cell_type": "code",
   "execution_count": 14,
   "id": "427dfa01-4d75-42e4-b700-2e636a7f37f0",
   "metadata": {},
   "outputs": [],
   "source": [
    "def f(x):\n",
    "    y = x\n",
    "    print(\"#\",y)\n",
    "    x = 7\n",
    "    return y * x # 3 * 7"
   ]
  },
  {
   "cell_type": "code",
   "execution_count": 12,
   "id": "312f6833-3636-4020-bcec-2c82039c41ca",
   "metadata": {},
   "outputs": [],
   "source": [
    "x = 4"
   ]
  },
  {
   "cell_type": "code",
   "execution_count": 15,
   "id": "431040b6-3017-4e81-b904-0c5c20082da3",
   "metadata": {},
   "outputs": [
    {
     "name": "stdout",
     "output_type": "stream",
     "text": [
      "# 3\n",
      "21\n"
     ]
    }
   ],
   "source": [
    "print(f(3))"
   ]
  },
  {
   "cell_type": "code",
   "execution_count": 16,
   "id": "e5d85e27-3288-4967-a63b-f12eb94053a2",
   "metadata": {},
   "outputs": [
    {
     "name": "stdout",
     "output_type": "stream",
     "text": [
      "4\n"
     ]
    }
   ],
   "source": [
    "print(x)"
   ]
  },
  {
   "cell_type": "code",
   "execution_count": 24,
   "id": "8dcf67af-ce66-44a1-a0ef-b70006394035",
   "metadata": {},
   "outputs": [],
   "source": [
    "country = [\"Korea\", \"Japan\", \"China\"]"
   ]
  },
  {
   "cell_type": "code",
   "execution_count": 25,
   "id": "c5a5005f-0716-4252-8510-71a3bb09fac6",
   "metadata": {},
   "outputs": [],
   "source": [
    "country.append(\"Remove\")"
   ]
  },
  {
   "cell_type": "code",
   "execution_count": 26,
   "id": "cbaf2fc7-355d-442b-a10e-b64aac691f91",
   "metadata": {},
   "outputs": [
    {
     "data": {
      "text/plain": [
       "['Korea', 'Japan', 'China', 'Remove']"
      ]
     },
     "execution_count": 26,
     "metadata": {},
     "output_type": "execute_result"
    }
   ],
   "source": [
    "country"
   ]
  },
  {
   "cell_type": "code",
   "execution_count": 20,
   "id": "0ecf7627-c373-4e8a-a31c-72859c4addb2",
   "metadata": {},
   "outputs": [],
   "source": [
    "country.remove(\"Remove\")"
   ]
  },
  {
   "cell_type": "code",
   "execution_count": 21,
   "id": "f3edf000-f88d-429f-aca5-c7e72d5e7883",
   "metadata": {},
   "outputs": [
    {
     "data": {
      "text/plain": [
       "['Korea', 'Japan', 'China']"
      ]
     },
     "execution_count": 21,
     "metadata": {},
     "output_type": "execute_result"
    }
   ],
   "source": [
    "country"
   ]
  },
  {
   "cell_type": "code",
   "execution_count": 22,
   "id": "4064b480-97ab-4175-9e79-415449d3a94d",
   "metadata": {},
   "outputs": [
    {
     "name": "stdout",
     "output_type": "stream",
     "text": [
      "Help on built-in function remove:\n",
      "\n",
      "remove(value, /) method of builtins.list instance\n",
      "    Remove first occurrence of value.\n",
      "\n",
      "    Raises ValueError if the value is not present.\n",
      "\n"
     ]
    }
   ],
   "source": [
    "help(country.remove)"
   ]
  },
  {
   "cell_type": "code",
   "execution_count": 27,
   "id": "8915671c-da37-420b-88c4-ce486c6da294",
   "metadata": {},
   "outputs": [
    {
     "name": "stdout",
     "output_type": "stream",
     "text": [
      "None\n"
     ]
    }
   ],
   "source": [
    "print(country.remove(\"Remove\"))"
   ]
  },
  {
   "cell_type": "code",
   "execution_count": 29,
   "id": "6aea9b19-626c-4a87-aa44-6431e00d1161",
   "metadata": {},
   "outputs": [
    {
     "data": {
      "text/plain": [
       "{1, 2}"
      ]
     },
     "execution_count": 29,
     "metadata": {},
     "output_type": "execute_result"
    }
   ],
   "source": [
    "set({1,1,2})"
   ]
  },
  {
   "cell_type": "code",
   "execution_count": 30,
   "id": "0051658b-7404-447c-afb6-9a30c7596c5b",
   "metadata": {},
   "outputs": [
    {
     "name": "stdout",
     "output_type": "stream",
     "text": [
      "dict_values([90, 85, 83, 90])\n"
     ]
    }
   ],
   "source": [
    "score_dict = {'Kim' : 80, 'Lee' : 85, 'Ahn' : 83, 'Choi' : 90}\n",
    "first_key = list(score_dict.keys())[0]\n",
    "score_dict[first_key] = 90\n",
    "print(score_dict.values())"
   ]
  },
  {
   "cell_type": "code",
   "execution_count": 31,
   "id": "c3cfcb47-4e50-46b4-ad27-4133ba62d4e5",
   "metadata": {},
   "outputs": [],
   "source": [
    "from collections import deque"
   ]
  },
  {
   "cell_type": "code",
   "execution_count": 32,
   "id": "50ef5a46-17bc-41cc-a4db-d239c2b7c4f1",
   "metadata": {},
   "outputs": [
    {
     "name": "stdout",
     "output_type": "stream",
     "text": [
      "Help on class deque in module collections:\n",
      "\n",
      "class deque(builtins.object)\n",
      " |  deque([iterable[, maxlen]]) --> deque object\n",
      " |\n",
      " |  A list-like sequence optimized for data accesses near its endpoints.\n",
      " |\n",
      " |  Methods defined here:\n",
      " |\n",
      " |  __add__(self, value, /)\n",
      " |      Return self+value.\n",
      " |\n",
      " |  __contains__(self, key, /)\n",
      " |      Return bool(key in self).\n",
      " |\n",
      " |  __copy__(...)\n",
      " |      Return a shallow copy of a deque.\n",
      " |\n",
      " |  __delitem__(self, key, /)\n",
      " |      Delete self[key].\n",
      " |\n",
      " |  __eq__(self, value, /)\n",
      " |      Return self==value.\n",
      " |\n",
      " |  __ge__(self, value, /)\n",
      " |      Return self>=value.\n",
      " |\n",
      " |  __getattribute__(self, name, /)\n",
      " |      Return getattr(self, name).\n",
      " |\n",
      " |  __getitem__(self, key, /)\n",
      " |      Return self[key].\n",
      " |\n",
      " |  __gt__(self, value, /)\n",
      " |      Return self>value.\n",
      " |\n",
      " |  __iadd__(self, value, /)\n",
      " |      Implement self+=value.\n",
      " |\n",
      " |  __imul__(self, value, /)\n",
      " |      Implement self*=value.\n",
      " |\n",
      " |  __init__(self, /, *args, **kwargs)\n",
      " |      Initialize self.  See help(type(self)) for accurate signature.\n",
      " |\n",
      " |  __iter__(self, /)\n",
      " |      Implement iter(self).\n",
      " |\n",
      " |  __le__(self, value, /)\n",
      " |      Return self<=value.\n",
      " |\n",
      " |  __len__(self, /)\n",
      " |      Return len(self).\n",
      " |\n",
      " |  __lt__(self, value, /)\n",
      " |      Return self<value.\n",
      " |\n",
      " |  __mul__(self, value, /)\n",
      " |      Return self*value.\n",
      " |\n",
      " |  __ne__(self, value, /)\n",
      " |      Return self!=value.\n",
      " |\n",
      " |  __reduce__(...)\n",
      " |      Return state information for pickling.\n",
      " |\n",
      " |  __repr__(self, /)\n",
      " |      Return repr(self).\n",
      " |\n",
      " |  __reversed__(...)\n",
      " |      D.__reversed__() -- return a reverse iterator over the deque\n",
      " |\n",
      " |  __rmul__(self, value, /)\n",
      " |      Return value*self.\n",
      " |\n",
      " |  __setitem__(self, key, value, /)\n",
      " |      Set self[key] to value.\n",
      " |\n",
      " |  __sizeof__(...)\n",
      " |      D.__sizeof__() -- size of D in memory, in bytes\n",
      " |\n",
      " |  append(...)\n",
      " |      Add an element to the right side of the deque.\n",
      " |\n",
      " |  appendleft(...)\n",
      " |      Add an element to the left side of the deque.\n",
      " |\n",
      " |  clear(...)\n",
      " |      Remove all elements from the deque.\n",
      " |\n",
      " |  copy(...)\n",
      " |      Return a shallow copy of a deque.\n",
      " |\n",
      " |  count(...)\n",
      " |      D.count(value) -- return number of occurrences of value\n",
      " |\n",
      " |  extend(...)\n",
      " |      Extend the right side of the deque with elements from the iterable\n",
      " |\n",
      " |  extendleft(...)\n",
      " |      Extend the left side of the deque with elements from the iterable\n",
      " |\n",
      " |  index(...)\n",
      " |      D.index(value, [start, [stop]]) -- return first index of value.\n",
      " |      Raises ValueError if the value is not present.\n",
      " |\n",
      " |  insert(...)\n",
      " |      D.insert(index, object) -- insert object before index\n",
      " |\n",
      " |  pop(...)\n",
      " |      Remove and return the rightmost element.\n",
      " |\n",
      " |  popleft(...)\n",
      " |      Remove and return the leftmost element.\n",
      " |\n",
      " |  remove(...)\n",
      " |      D.remove(value) -- remove first occurrence of value.\n",
      " |\n",
      " |  reverse(...)\n",
      " |      D.reverse() -- reverse *IN PLACE*\n",
      " |\n",
      " |  rotate(...)\n",
      " |      Rotate the deque n steps to the right (default n=1).  If n is negative, rotates left.\n",
      " |\n",
      " |  ----------------------------------------------------------------------\n",
      " |  Class methods defined here:\n",
      " |\n",
      " |  __class_getitem__(...)\n",
      " |      See PEP 585\n",
      " |\n",
      " |  ----------------------------------------------------------------------\n",
      " |  Static methods defined here:\n",
      " |\n",
      " |  __new__(*args, **kwargs)\n",
      " |      Create and return a new object.  See help(type) for accurate signature.\n",
      " |\n",
      " |  ----------------------------------------------------------------------\n",
      " |  Data descriptors defined here:\n",
      " |\n",
      " |  maxlen\n",
      " |      maximum size of a deque or None if unbounded\n",
      " |\n",
      " |  ----------------------------------------------------------------------\n",
      " |  Data and other attributes defined here:\n",
      " |\n",
      " |  __hash__ = None\n",
      "\n"
     ]
    }
   ],
   "source": [
    "help(deque)"
   ]
  },
  {
   "cell_type": "code",
   "execution_count": 33,
   "id": "e5a79fd0-e787-449d-b29c-98267d490ada",
   "metadata": {},
   "outputs": [
    {
     "data": {
      "text/plain": [
       "deque(['a', 'b', 'c'])"
      ]
     },
     "execution_count": 33,
     "metadata": {},
     "output_type": "execute_result"
    }
   ],
   "source": [
    "deque(['a','b','c'])"
   ]
  },
  {
   "cell_type": "code",
   "execution_count": 34,
   "id": "715b48d5-924a-441d-9443-15ce3f797d65",
   "metadata": {},
   "outputs": [
    {
     "data": {
      "text/plain": [
       "collections.deque"
      ]
     },
     "execution_count": 34,
     "metadata": {},
     "output_type": "execute_result"
    }
   ],
   "source": [
    "type(deque(['a','b','c']))"
   ]
  },
  {
   "cell_type": "code",
   "execution_count": 35,
   "id": "fada9d4a-a603-4e05-b964-7d1b11118e03",
   "metadata": {},
   "outputs": [],
   "source": [
    "deque_list = deque(['a', 'b', 'c'])"
   ]
  },
  {
   "cell_type": "code",
   "execution_count": 36,
   "id": "775070cd-138b-4d1f-858e-f10951adf201",
   "metadata": {},
   "outputs": [
    {
     "data": {
      "text/plain": [
       "deque(['a', 'b', 'c'])"
      ]
     },
     "execution_count": 36,
     "metadata": {},
     "output_type": "execute_result"
    }
   ],
   "source": [
    "deque_list"
   ]
  },
  {
   "cell_type": "code",
   "execution_count": 37,
   "id": "33b4ff8d-f750-4c30-850c-02ffe041c111",
   "metadata": {},
   "outputs": [],
   "source": [
    "deque_list = deque(['c', 'a', 'b'])"
   ]
  },
  {
   "cell_type": "code",
   "execution_count": 38,
   "id": "8d68585c-cdeb-40bb-b762-b942c8fd20ca",
   "metadata": {},
   "outputs": [
    {
     "data": {
      "text/plain": [
       "deque(['c', 'a', 'b'])"
      ]
     },
     "execution_count": 38,
     "metadata": {},
     "output_type": "execute_result"
    }
   ],
   "source": [
    "deque_list  #4번 제"
   ]
  },
  {
   "cell_type": "code",
   "execution_count": 39,
   "id": "30a19c51-b4af-4a02-8c30-38b0f3d77575",
   "metadata": {},
   "outputs": [],
   "source": [
    "# 5번정답"
   ]
  },
  {
   "cell_type": "code",
   "execution_count": 40,
   "id": "235b1cb0-bae4-4efb-8c28-3044570f836b",
   "metadata": {},
   "outputs": [],
   "source": [
    "deque_list = deque(['a', 'b', 'c'])"
   ]
  },
  {
   "cell_type": "code",
   "execution_count": 41,
   "id": "0f34ec0f-30f8-4495-98ab-e8eccae92a48",
   "metadata": {},
   "outputs": [
    {
     "data": {
      "text/plain": [
       "deque(['a', 'b', 'c'])"
      ]
     },
     "execution_count": 41,
     "metadata": {},
     "output_type": "execute_result"
    }
   ],
   "source": [
    "deque_list"
   ]
  },
  {
   "cell_type": "code",
   "execution_count": 42,
   "id": "88ca8676-31c0-4863-9561-ad388b29336a",
   "metadata": {},
   "outputs": [
    {
     "name": "stdout",
     "output_type": "stream",
     "text": [
      "Help on built-in function rotate:\n",
      "\n",
      "rotate(...) method of collections.deque instance\n",
      "    Rotate the deque n steps to the right (default n=1).  If n is negative, rotates left.\n",
      "\n"
     ]
    }
   ],
   "source": [
    "help(deque_list.rotate)"
   ]
  },
  {
   "cell_type": "code",
   "execution_count": 43,
   "id": "19a6aa14-eefb-4909-b6e4-fe812fb8eca7",
   "metadata": {},
   "outputs": [],
   "source": [
    "deque_list.rotate(1)"
   ]
  },
  {
   "cell_type": "code",
   "execution_count": 44,
   "id": "0f49ac5f-dee3-41d2-9da9-6d4f9ca9362a",
   "metadata": {},
   "outputs": [
    {
     "data": {
      "text/plain": [
       "deque(['c', 'a', 'b'])"
      ]
     },
     "execution_count": 44,
     "metadata": {},
     "output_type": "execute_result"
    }
   ],
   "source": [
    "deque_list"
   ]
  },
  {
   "cell_type": "code",
   "execution_count": 45,
   "id": "30f53448-6504-4378-9a53-28b1af70964c",
   "metadata": {},
   "outputs": [],
   "source": [
    "deque_list = deque(['a', 'b', 'c'])"
   ]
  },
  {
   "cell_type": "code",
   "execution_count": 46,
   "id": "653755a0-f011-4634-869f-390a75a84575",
   "metadata": {},
   "outputs": [],
   "source": [
    "deque_list.rotate(-2)"
   ]
  },
  {
   "cell_type": "code",
   "execution_count": 47,
   "id": "60325394-de1c-40c9-9794-53e4bbb4916f",
   "metadata": {},
   "outputs": [
    {
     "data": {
      "text/plain": [
       "deque(['c', 'a', 'b'])"
      ]
     },
     "execution_count": 47,
     "metadata": {},
     "output_type": "execute_result"
    }
   ],
   "source": [
    "deque_list"
   ]
  },
  {
   "cell_type": "code",
   "execution_count": 48,
   "id": "1b9bb104-1543-4583-a0c3-53a41dde3827",
   "metadata": {},
   "outputs": [],
   "source": [
    "deque_list = deque(['a', 'b', 'c'])"
   ]
  },
  {
   "cell_type": "code",
   "execution_count": 49,
   "id": "6489e028-3098-4962-851c-d50cb76acb73",
   "metadata": {},
   "outputs": [],
   "source": [
    "deque_list.appendleft('c')"
   ]
  },
  {
   "cell_type": "code",
   "execution_count": 50,
   "id": "27ac920e-979c-4fce-a27a-afa2cd2852d7",
   "metadata": {},
   "outputs": [
    {
     "data": {
      "text/plain": [
       "deque(['c', 'a', 'b', 'c'])"
      ]
     },
     "execution_count": 50,
     "metadata": {},
     "output_type": "execute_result"
    }
   ],
   "source": [
    "deque_list"
   ]
  },
  {
   "cell_type": "code",
   "execution_count": 52,
   "id": "a56bdc0d-890f-487d-808b-fab3bca5f659",
   "metadata": {},
   "outputs": [],
   "source": [
    "from collections import Counter\n",
    "text = 'Hello, this is python world!'"
   ]
  },
  {
   "cell_type": "code",
   "execution_count": 53,
   "id": "9c62049e-3b8f-4159-8911-a1e36008c44e",
   "metadata": {},
   "outputs": [
    {
     "name": "stdout",
     "output_type": "stream",
     "text": [
      "Help on class Counter in module collections:\n",
      "\n",
      "class Counter(builtins.dict)\n",
      " |  Counter(iterable=None, /, **kwds)\n",
      " |\n",
      " |  Dict subclass for counting hashable items.  Sometimes called a bag\n",
      " |  or multiset.  Elements are stored as dictionary keys and their counts\n",
      " |  are stored as dictionary values.\n",
      " |\n",
      " |  >>> c = Counter('abcdeabcdabcaba')  # count elements from a string\n",
      " |\n",
      " |  >>> c.most_common(3)                # three most common elements\n",
      " |  [('a', 5), ('b', 4), ('c', 3)]\n",
      " |  >>> sorted(c)                       # list all unique elements\n",
      " |  ['a', 'b', 'c', 'd', 'e']\n",
      " |  >>> ''.join(sorted(c.elements()))   # list elements with repetitions\n",
      " |  'aaaaabbbbcccdde'\n",
      " |  >>> sum(c.values())                 # total of all counts\n",
      " |  15\n",
      " |\n",
      " |  >>> c['a']                          # count of letter 'a'\n",
      " |  5\n",
      " |  >>> for elem in 'shazam':           # update counts from an iterable\n",
      " |  ...     c[elem] += 1                # by adding 1 to each element's count\n",
      " |  >>> c['a']                          # now there are seven 'a'\n",
      " |  7\n",
      " |  >>> del c['b']                      # remove all 'b'\n",
      " |  >>> c['b']                          # now there are zero 'b'\n",
      " |  0\n",
      " |\n",
      " |  >>> d = Counter('simsalabim')       # make another counter\n",
      " |  >>> c.update(d)                     # add in the second counter\n",
      " |  >>> c['a']                          # now there are nine 'a'\n",
      " |  9\n",
      " |\n",
      " |  >>> c.clear()                       # empty the counter\n",
      " |  >>> c\n",
      " |  Counter()\n",
      " |\n",
      " |  Note:  If a count is set to zero or reduced to zero, it will remain\n",
      " |  in the counter until the entry is deleted or the counter is cleared:\n",
      " |\n",
      " |  >>> c = Counter('aaabbc')\n",
      " |  >>> c['b'] -= 2                     # reduce the count of 'b' by two\n",
      " |  >>> c.most_common()                 # 'b' is still in, but its count is zero\n",
      " |  [('a', 3), ('c', 1), ('b', 0)]\n",
      " |\n",
      " |  Method resolution order:\n",
      " |      Counter\n",
      " |      builtins.dict\n",
      " |      builtins.object\n",
      " |\n",
      " |  Methods defined here:\n",
      " |\n",
      " |  __add__(self, other)\n",
      " |      Add counts from two counters.\n",
      " |\n",
      " |      >>> Counter('abbb') + Counter('bcc')\n",
      " |      Counter({'b': 4, 'c': 2, 'a': 1})\n",
      " |\n",
      " |  __and__(self, other)\n",
      " |      Intersection is the minimum of corresponding counts.\n",
      " |\n",
      " |      >>> Counter('abbb') & Counter('bcc')\n",
      " |      Counter({'b': 1})\n",
      " |\n",
      " |  __delitem__(self, elem)\n",
      " |      Like dict.__delitem__() but does not raise KeyError for missing values.\n",
      " |\n",
      " |  __eq__(self, other)\n",
      " |      True if all counts agree. Missing counts are treated as zero.\n",
      " |\n",
      " |  __ge__(self, other)\n",
      " |      True if all counts in self are a superset of those in other.\n",
      " |\n",
      " |  __gt__(self, other)\n",
      " |      True if all counts in self are a proper superset of those in other.\n",
      " |\n",
      " |  __iadd__(self, other)\n",
      " |      Inplace add from another counter, keeping only positive counts.\n",
      " |\n",
      " |      >>> c = Counter('abbb')\n",
      " |      >>> c += Counter('bcc')\n",
      " |      >>> c\n",
      " |      Counter({'b': 4, 'c': 2, 'a': 1})\n",
      " |\n",
      " |  __iand__(self, other)\n",
      " |      Inplace intersection is the minimum of corresponding counts.\n",
      " |\n",
      " |      >>> c = Counter('abbb')\n",
      " |      >>> c &= Counter('bcc')\n",
      " |      >>> c\n",
      " |      Counter({'b': 1})\n",
      " |\n",
      " |  __init__(self, iterable=None, /, **kwds)\n",
      " |      Create a new, empty Counter object.  And if given, count elements\n",
      " |      from an input iterable.  Or, initialize the count from another mapping\n",
      " |      of elements to their counts.\n",
      " |\n",
      " |      >>> c = Counter()                           # a new, empty counter\n",
      " |      >>> c = Counter('gallahad')                 # a new counter from an iterable\n",
      " |      >>> c = Counter({'a': 4, 'b': 2})           # a new counter from a mapping\n",
      " |      >>> c = Counter(a=4, b=2)                   # a new counter from keyword args\n",
      " |\n",
      " |  __ior__(self, other)\n",
      " |      Inplace union is the maximum of value from either counter.\n",
      " |\n",
      " |      >>> c = Counter('abbb')\n",
      " |      >>> c |= Counter('bcc')\n",
      " |      >>> c\n",
      " |      Counter({'b': 3, 'c': 2, 'a': 1})\n",
      " |\n",
      " |  __isub__(self, other)\n",
      " |      Inplace subtract counter, but keep only results with positive counts.\n",
      " |\n",
      " |      >>> c = Counter('abbbc')\n",
      " |      >>> c -= Counter('bccd')\n",
      " |      >>> c\n",
      " |      Counter({'b': 2, 'a': 1})\n",
      " |\n",
      " |  __le__(self, other)\n",
      " |      True if all counts in self are a subset of those in other.\n",
      " |\n",
      " |  __lt__(self, other)\n",
      " |      True if all counts in self are a proper subset of those in other.\n",
      " |\n",
      " |  __missing__(self, key)\n",
      " |      The count of elements not in the Counter is zero.\n",
      " |\n",
      " |  __ne__(self, other)\n",
      " |      True if any counts disagree. Missing counts are treated as zero.\n",
      " |\n",
      " |  __neg__(self)\n",
      " |      Subtracts from an empty counter.  Strips positive and zero counts,\n",
      " |      and flips the sign on negative counts.\n",
      " |\n",
      " |  __or__(self, other)\n",
      " |      Union is the maximum of value in either of the input counters.\n",
      " |\n",
      " |      >>> Counter('abbb') | Counter('bcc')\n",
      " |      Counter({'b': 3, 'c': 2, 'a': 1})\n",
      " |\n",
      " |  __pos__(self)\n",
      " |      Adds an empty counter, effectively stripping negative and zero counts\n",
      " |\n",
      " |  __reduce__(self)\n",
      " |      Helper for pickle.\n",
      " |\n",
      " |  __repr__(self)\n",
      " |      Return repr(self).\n",
      " |\n",
      " |  __sub__(self, other)\n",
      " |      Subtract count, but keep only results with positive counts.\n",
      " |\n",
      " |      >>> Counter('abbbc') - Counter('bccd')\n",
      " |      Counter({'b': 2, 'a': 1})\n",
      " |\n",
      " |  copy(self)\n",
      " |      Return a shallow copy.\n",
      " |\n",
      " |  elements(self)\n",
      " |      Iterator over elements repeating each as many times as its count.\n",
      " |\n",
      " |      >>> c = Counter('ABCABC')\n",
      " |      >>> sorted(c.elements())\n",
      " |      ['A', 'A', 'B', 'B', 'C', 'C']\n",
      " |\n",
      " |      Knuth's example for prime factors of 1836:  2**2 * 3**3 * 17**1\n",
      " |\n",
      " |      >>> import math\n",
      " |      >>> prime_factors = Counter({2: 2, 3: 3, 17: 1})\n",
      " |      >>> math.prod(prime_factors.elements())\n",
      " |      1836\n",
      " |\n",
      " |      Note, if an element's count has been set to zero or is a negative\n",
      " |      number, elements() will ignore it.\n",
      " |\n",
      " |  most_common(self, n=None)\n",
      " |      List the n most common elements and their counts from the most\n",
      " |      common to the least.  If n is None, then list all element counts.\n",
      " |\n",
      " |      >>> Counter('abracadabra').most_common(3)\n",
      " |      [('a', 5), ('b', 2), ('r', 2)]\n",
      " |\n",
      " |  subtract(self, iterable=None, /, **kwds)\n",
      " |      Like dict.update() but subtracts counts instead of replacing them.\n",
      " |      Counts can be reduced below zero.  Both the inputs and outputs are\n",
      " |      allowed to contain zero and negative counts.\n",
      " |\n",
      " |      Source can be an iterable, a dictionary, or another Counter instance.\n",
      " |\n",
      " |      >>> c = Counter('which')\n",
      " |      >>> c.subtract('witch')             # subtract elements from another iterable\n",
      " |      >>> c.subtract(Counter('watch'))    # subtract elements from another counter\n",
      " |      >>> c['h']                          # 2 in which, minus 1 in witch, minus 1 in watch\n",
      " |      0\n",
      " |      >>> c['w']                          # 1 in which, minus 1 in witch, minus 1 in watch\n",
      " |      -1\n",
      " |\n",
      " |  total(self)\n",
      " |      Sum of the counts\n",
      " |\n",
      " |  update(self, iterable=None, /, **kwds)\n",
      " |      Like dict.update() but add counts instead of replacing them.\n",
      " |\n",
      " |      Source can be an iterable, a dictionary, or another Counter instance.\n",
      " |\n",
      " |      >>> c = Counter('which')\n",
      " |      >>> c.update('witch')           # add elements from another iterable\n",
      " |      >>> d = Counter('watch')\n",
      " |      >>> c.update(d)                 # add elements from another counter\n",
      " |      >>> c['h']                      # four 'h' in which, witch, and watch\n",
      " |      4\n",
      " |\n",
      " |  ----------------------------------------------------------------------\n",
      " |  Class methods defined here:\n",
      " |\n",
      " |  fromkeys(iterable, v=None)\n",
      " |      Create a new dictionary with keys from iterable and values set to value.\n",
      " |\n",
      " |  ----------------------------------------------------------------------\n",
      " |  Data descriptors defined here:\n",
      " |\n",
      " |  __dict__\n",
      " |      dictionary for instance variables\n",
      " |\n",
      " |  __weakref__\n",
      " |      list of weak references to the object\n",
      " |\n",
      " |  ----------------------------------------------------------------------\n",
      " |  Data and other attributes defined here:\n",
      " |\n",
      " |  __hash__ = None\n",
      " |\n",
      " |  ----------------------------------------------------------------------\n",
      " |  Methods inherited from builtins.dict:\n",
      " |\n",
      " |  __contains__(self, key, /)\n",
      " |      True if the dictionary has the specified key, else False.\n",
      " |\n",
      " |  __getattribute__(self, name, /)\n",
      " |      Return getattr(self, name).\n",
      " |\n",
      " |  __getitem__(self, key, /)\n",
      " |      Return self[key].\n",
      " |\n",
      " |  __iter__(self, /)\n",
      " |      Implement iter(self).\n",
      " |\n",
      " |  __len__(self, /)\n",
      " |      Return len(self).\n",
      " |\n",
      " |  __reversed__(self, /)\n",
      " |      Return a reverse iterator over the dict keys.\n",
      " |\n",
      " |  __ror__(self, value, /)\n",
      " |      Return value|self.\n",
      " |\n",
      " |  __setitem__(self, key, value, /)\n",
      " |      Set self[key] to value.\n",
      " |\n",
      " |  __sizeof__(...)\n",
      " |      D.__sizeof__() -> size of D in memory, in bytes\n",
      " |\n",
      " |  clear(...)\n",
      " |      D.clear() -> None.  Remove all items from D.\n",
      " |\n",
      " |  get(self, key, default=None, /)\n",
      " |      Return the value for key if key is in the dictionary, else default.\n",
      " |\n",
      " |  items(...)\n",
      " |      D.items() -> a set-like object providing a view on D's items\n",
      " |\n",
      " |  keys(...)\n",
      " |      D.keys() -> a set-like object providing a view on D's keys\n",
      " |\n",
      " |  pop(...)\n",
      " |      D.pop(k[,d]) -> v, remove specified key and return the corresponding value.\n",
      " |\n",
      " |      If the key is not found, return the default if given; otherwise,\n",
      " |      raise a KeyError.\n",
      " |\n",
      " |  popitem(self, /)\n",
      " |      Remove and return a (key, value) pair as a 2-tuple.\n",
      " |\n",
      " |      Pairs are returned in LIFO (last-in, first-out) order.\n",
      " |      Raises KeyError if the dict is empty.\n",
      " |\n",
      " |  setdefault(self, key, default=None, /)\n",
      " |      Insert key with a value of default if key is not in the dictionary.\n",
      " |\n",
      " |      Return the value for key if key is in the dictionary, else default.\n",
      " |\n",
      " |  values(...)\n",
      " |      D.values() -> an object providing a view on D's values\n",
      " |\n",
      " |  ----------------------------------------------------------------------\n",
      " |  Class methods inherited from builtins.dict:\n",
      " |\n",
      " |  __class_getitem__(...)\n",
      " |      See PEP 585\n",
      " |\n",
      " |  ----------------------------------------------------------------------\n",
      " |  Static methods inherited from builtins.dict:\n",
      " |\n",
      " |  __new__(*args, **kwargs) class method of builtins.dict\n",
      " |      Create and return a new object.  See help(type) for accurate signature.\n",
      "\n"
     ]
    }
   ],
   "source": [
    "help(Counter)"
   ]
  },
  {
   "cell_type": "code",
   "execution_count": 54,
   "id": "4d7b49ef-4923-4fec-943e-a9b2b0493bb1",
   "metadata": {},
   "outputs": [
    {
     "data": {
      "text/plain": [
       "Counter({' ': 4,\n",
       "         'l': 3,\n",
       "         'o': 3,\n",
       "         't': 2,\n",
       "         'h': 2,\n",
       "         'i': 2,\n",
       "         's': 2,\n",
       "         'H': 1,\n",
       "         'e': 1,\n",
       "         ',': 1,\n",
       "         'p': 1,\n",
       "         'y': 1,\n",
       "         'n': 1,\n",
       "         'w': 1,\n",
       "         'r': 1,\n",
       "         'd': 1,\n",
       "         '!': 1})"
      ]
     },
     "execution_count": 54,
     "metadata": {},
     "output_type": "execute_result"
    }
   ],
   "source": [
    "Counter(text)"
   ]
  },
  {
   "cell_type": "code",
   "execution_count": 55,
   "id": "48704046-c642-436b-8506-7c75edcdfb6c",
   "metadata": {},
   "outputs": [],
   "source": [
    "c=Counter(text)"
   ]
  },
  {
   "cell_type": "code",
   "execution_count": 57,
   "id": "73a1ee84-d873-4b7c-a7c7-ced2dbe0872e",
   "metadata": {},
   "outputs": [
    {
     "name": "stdout",
     "output_type": "stream",
     "text": [
      "3\n"
     ]
    }
   ],
   "source": [
    "print(c['l'])"
   ]
  },
  {
   "cell_type": "code",
   "execution_count": 63,
   "id": "e6b9b7f0-9473-4061-bb36-ffb0db1e3afa",
   "metadata": {},
   "outputs": [],
   "source": [
    "dictionary = {\"a\": 1, \"b\": 2, \"c\": 3}"
   ]
  },
  {
   "cell_type": "code",
   "execution_count": 59,
   "id": "0d200872-511f-44fe-a14e-25d095591fd8",
   "metadata": {},
   "outputs": [
    {
     "name": "stdout",
     "output_type": "stream",
     "text": [
      "Help on built-in function setdefault:\n",
      "\n",
      "setdefault(key, default=None, /) method of builtins.dict instance\n",
      "    Insert key with a value of default if key is not in the dictionary.\n",
      "\n",
      "    Return the value for key if key is in the dictionary, else default.\n",
      "\n"
     ]
    }
   ],
   "source": [
    "help(dictionary.setdefault)"
   ]
  },
  {
   "cell_type": "code",
   "execution_count": 64,
   "id": "7df7eb4d-ad2a-4206-a2cf-d05a1c2995ed",
   "metadata": {},
   "outputs": [
    {
     "data": {
      "text/plain": [
       "2"
      ]
     },
     "execution_count": 64,
     "metadata": {},
     "output_type": "execute_result"
    }
   ],
   "source": [
    "dictionary.setdefault('b', 4)"
   ]
  },
  {
   "cell_type": "code",
   "execution_count": 65,
   "id": "17f5a512-2d1e-408c-a2a1-f17824ca1f64",
   "metadata": {},
   "outputs": [
    {
     "data": {
      "text/plain": [
       "{'a': 1, 'b': 2, 'c': 3}"
      ]
     },
     "execution_count": 65,
     "metadata": {},
     "output_type": "execute_result"
    }
   ],
   "source": [
    "dictionary"
   ]
  },
  {
   "cell_type": "code",
   "execution_count": 67,
   "id": "4ff344d0-ca12-4c7d-b04a-cbaa9f347c6b",
   "metadata": {},
   "outputs": [
    {
     "data": {
      "text/plain": [
       "5"
      ]
     },
     "execution_count": 67,
     "metadata": {},
     "output_type": "execute_result"
    }
   ],
   "source": [
    "dictionary.setdefault( 'd', 5 ) "
   ]
  },
  {
   "cell_type": "code",
   "execution_count": 68,
   "id": "7aa11ad4-51f8-47ed-a3f8-4b243da8aece",
   "metadata": {},
   "outputs": [
    {
     "data": {
      "text/plain": [
       "{'a': 1, 'b': 2, 'c': 3, 'd': 5}"
      ]
     },
     "execution_count": 68,
     "metadata": {},
     "output_type": "execute_result"
    }
   ],
   "source": [
    "dictionary"
   ]
  },
  {
   "cell_type": "code",
   "execution_count": 69,
   "id": "702fcb3a-855b-4c64-b47c-2ea47d8cce55",
   "metadata": {},
   "outputs": [],
   "source": [
    "dictionary[\"c\"] = dictionary[\"d\"]"
   ]
  },
  {
   "cell_type": "code",
   "execution_count": 70,
   "id": "6ac75028-fae6-4b37-b309-0090bdd662d7",
   "metadata": {},
   "outputs": [
    {
     "data": {
      "text/plain": [
       "{'a': 1, 'b': 2, 'c': 5, 'd': 5}"
      ]
     },
     "execution_count": 70,
     "metadata": {},
     "output_type": "execute_result"
    }
   ],
   "source": [
    "dictionary"
   ]
  },
  {
   "cell_type": "code",
   "execution_count": 71,
   "id": "35097aaa-c583-46e6-82b3-7fe145aade1f",
   "metadata": {},
   "outputs": [],
   "source": [
    "dictionary[\"b\"] = dictionary[\"c\"]"
   ]
  },
  {
   "cell_type": "code",
   "execution_count": 72,
   "id": "254ea6a1-4325-400e-a27e-5be9ded9f489",
   "metadata": {},
   "outputs": [
    {
     "data": {
      "text/plain": [
       "{'a': 1, 'b': 5, 'c': 5, 'd': 5}"
      ]
     },
     "execution_count": 72,
     "metadata": {},
     "output_type": "execute_result"
    }
   ],
   "source": [
    "dictionary"
   ]
  },
  {
   "cell_type": "code",
   "execution_count": 73,
   "id": "4a7f7420-3e5b-4885-a088-59f2b7b6d7fc",
   "metadata": {},
   "outputs": [],
   "source": [
    "dictionary[\"d\"] = dictionary[\"b\"]"
   ]
  },
  {
   "cell_type": "code",
   "execution_count": 74,
   "id": "37fc88c7-745a-43d1-9905-e42fef684477",
   "metadata": {},
   "outputs": [
    {
     "data": {
      "text/plain": [
       "{'a': 1, 'b': 5, 'c': 5, 'd': 5}"
      ]
     },
     "execution_count": 74,
     "metadata": {},
     "output_type": "execute_result"
    }
   ],
   "source": [
    "dictionary"
   ]
  },
  {
   "cell_type": "code",
   "execution_count": 75,
   "id": "1d63a340-fa66-4452-8019-08a252c883b8",
   "metadata": {},
   "outputs": [],
   "source": [
    "box = [1,'red',3,(),[ ],None]"
   ]
  },
  {
   "cell_type": "code",
   "execution_count": 76,
   "id": "252b639b-a4a8-4cac-bcc5-ca6d2e02cf04",
   "metadata": {},
   "outputs": [
    {
     "name": "stdout",
     "output_type": "stream",
     "text": [
      "6\n"
     ]
    }
   ],
   "source": [
    "print(len(box))"
   ]
  },
  {
   "cell_type": "code",
   "execution_count": 77,
   "id": "f8688218-885d-4b28-9a8e-da3f94e5adeb",
   "metadata": {},
   "outputs": [],
   "source": [
    "fruits = ('apple','banana','cherry','strawberry')"
   ]
  },
  {
   "cell_type": "code",
   "execution_count": 78,
   "id": "4df7073c-4c06-4649-86eb-85b77fbc5977",
   "metadata": {},
   "outputs": [
    {
     "ename": "TypeError",
     "evalue": "'tuple' object does not support item assignment",
     "output_type": "error",
     "traceback": [
      "\u001b[1;31m---------------------------------------------------------------------------\u001b[0m",
      "\u001b[1;31mTypeError\u001b[0m                                 Traceback (most recent call last)",
      "Cell \u001b[1;32mIn[78], line 1\u001b[0m\n\u001b[1;32m----> 1\u001b[0m fruits[\u001b[38;5;241m0\u001b[39m] \u001b[38;5;241m=\u001b[39m \u001b[38;5;124m'\u001b[39m\u001b[38;5;124morange\u001b[39m\u001b[38;5;124m'\u001b[39m\n",
      "\u001b[1;31mTypeError\u001b[0m: 'tuple' object does not support item assignment"
     ]
    }
   ],
   "source": [
    "fruits[0] = 'orange'"
   ]
  },
  {
   "cell_type": "code",
   "execution_count": 79,
   "id": "bd92fc16-de4f-4fc2-8155-affa9ea004b9",
   "metadata": {},
   "outputs": [
    {
     "data": {
      "text/plain": [
       "243"
      ]
     },
     "execution_count": 79,
     "metadata": {},
     "output_type": "execute_result"
    }
   ],
   "source": [
    "3**5"
   ]
  },
  {
   "cell_type": "code",
   "execution_count": 80,
   "id": "95e43e2c-1440-4d58-a2f5-c9f580847f3c",
   "metadata": {},
   "outputs": [],
   "source": [
    "a = 4"
   ]
  },
  {
   "cell_type": "code",
   "execution_count": 81,
   "id": "2d277b4d-ff6e-47da-852b-2936fb947bbd",
   "metadata": {},
   "outputs": [],
   "source": [
    "a -= 3 "
   ]
  },
  {
   "cell_type": "code",
   "execution_count": 82,
   "id": "c20e7ae9-0266-4545-a148-80b7b52280f7",
   "metadata": {},
   "outputs": [
    {
     "data": {
      "text/plain": [
       "1"
      ]
     },
     "execution_count": 82,
     "metadata": {},
     "output_type": "execute_result"
    }
   ],
   "source": [
    "a"
   ]
  },
  {
   "cell_type": "code",
   "execution_count": 83,
   "id": "ba379a36-1cf6-4e6c-b299-3c57df48f037",
   "metadata": {},
   "outputs": [],
   "source": [
    "def quiz_2(list_data):\n",
    "    a=set(list_data)\n",
    "    return (list(a)[1:5])"
   ]
  },
  {
   "cell_type": "code",
   "execution_count": 84,
   "id": "c525c421-d5ce-4e4f-93e2-223160d8bc7f",
   "metadata": {},
   "outputs": [],
   "source": [
    "list_1 = [0, 3, 1, 7, 5, 0, 5, 8, 0, 4]"
   ]
  },
  {
   "cell_type": "code",
   "execution_count": 85,
   "id": "c7f907b4-d6b9-4899-8d8e-43869d310347",
   "metadata": {},
   "outputs": [
    {
     "data": {
      "text/plain": [
       "{0, 1, 3, 4, 5, 7, 8}"
      ]
     },
     "execution_count": 85,
     "metadata": {},
     "output_type": "execute_result"
    }
   ],
   "source": [
    "set(list_1)"
   ]
  },
  {
   "cell_type": "code",
   "execution_count": 86,
   "id": "e7978439-540e-4b18-9fae-c314dcaa1898",
   "metadata": {},
   "outputs": [],
   "source": [
    "a=set(list_1)"
   ]
  },
  {
   "cell_type": "code",
   "execution_count": 87,
   "id": "3cb0d4df-beb9-487c-a942-a445d7d4125d",
   "metadata": {},
   "outputs": [
    {
     "data": {
      "text/plain": [
       "[0, 1, 3, 4, 5, 7, 8]"
      ]
     },
     "execution_count": 87,
     "metadata": {},
     "output_type": "execute_result"
    }
   ],
   "source": [
    "list(a)[1:5]"
   ]
  },
  {
   "cell_type": "code",
   "execution_count": 88,
   "id": "7beb6597-9d80-45b7-9887-28ab02bc5d44",
   "metadata": {},
   "outputs": [
    {
     "name": "stdout",
     "output_type": "stream",
     "text": [
      "[1, 3, 4, 5]\n"
     ]
    }
   ],
   "source": [
    "def quiz_2(list_data):\n",
    "    a = set(list_data)\n",
    "    return (list(a)[1:5])\n",
    "list_1 = [0, 3, 1, 7, 5, 0, 5, 8, 0, 4]\n",
    "print(quiz_2(list_1))"
   ]
  },
  {
   "cell_type": "code",
   "execution_count": 89,
   "id": "ec4bb158-1747-4393-9777-37057aa66841",
   "metadata": {},
   "outputs": [
    {
     "name": "stdout",
     "output_type": "stream",
     "text": [
      "[1, 3, 4, 5]\n"
     ]
    }
   ],
   "source": [
    "def quiz_2(list_data):\n",
    "    a = set(list_data)\n",
    "    return list(a)[1:5]\n",
    "list_1 = [0, 3, 1, 7, 5, 0, 5, 8, 0, 4]\n",
    "print(quiz_2(list_1))"
   ]
  },
  {
   "cell_type": "code",
   "execution_count": 90,
   "id": "68ca8b93-a923-4c13-b104-ebc0959fdbc4",
   "metadata": {},
   "outputs": [],
   "source": [
    "list_1 = [0, 3, 1, 7, 5, 0, 5, 8, 0, 4]"
   ]
  },
  {
   "cell_type": "code",
   "execution_count": 91,
   "id": "78f8b6e1-3d9b-4ccc-a380-8168ab02bdb9",
   "metadata": {},
   "outputs": [],
   "source": [
    "def quiz_2(list_data):\n",
    "    a = set(list_data)\n",
    "    return (list(a)[1:5])"
   ]
  },
  {
   "cell_type": "code",
   "execution_count": 92,
   "id": "8bb034b1-83c0-4528-91cb-a6dc432d3536",
   "metadata": {},
   "outputs": [
    {
     "data": {
      "text/plain": [
       "{0, 1, 3, 4, 5, 7, 8}"
      ]
     },
     "execution_count": 92,
     "metadata": {},
     "output_type": "execute_result"
    }
   ],
   "source": [
    "set(list_1)"
   ]
  },
  {
   "cell_type": "code",
   "execution_count": 93,
   "id": "bbc92863-c9ec-411b-8e3d-5ab9f31f1af8",
   "metadata": {},
   "outputs": [],
   "source": [
    "a=set(list_1)"
   ]
  },
  {
   "cell_type": "code",
   "execution_count": 95,
   "id": "5519ea6f-c323-41d1-8e27-5001b1a0bddd",
   "metadata": {},
   "outputs": [
    {
     "data": {
      "text/plain": [
       "[1, 3, 4, 5]"
      ]
     },
     "execution_count": 95,
     "metadata": {},
     "output_type": "execute_result"
    }
   ],
   "source": [
    "list(a)[1:5]"
   ]
  },
  {
   "cell_type": "code",
   "execution_count": 96,
   "id": "eeab8307-24ee-4130-93c8-f78fab80953c",
   "metadata": {},
   "outputs": [
    {
     "data": {
      "text/plain": [
       "[1, 3, 4, 5]"
      ]
     },
     "execution_count": 96,
     "metadata": {},
     "output_type": "execute_result"
    }
   ],
   "source": [
    "list_1 = [0, 3, 1, 7, 5, 0, 5, 8, 0, 4]\n",
    "def quiz_2(list_data):\n",
    "    a = set(list_data)\n",
    "    return (list(a)[1:5])\n",
    "quiz_2(list_1)"
   ]
  },
  {
   "cell_type": "code",
   "execution_count": 97,
   "id": "d6847fd1-0d53-48c4-a0ff-c2bccb2c879a",
   "metadata": {},
   "outputs": [],
   "source": [
    "country_code={\"America\":1,\"Korea\":82,\"China\":86,\"Japan\":81}"
   ]
  },
  {
   "cell_type": "code",
   "execution_count": 98,
   "id": "8ffb3080-66e7-4fcd-bdd9-8f95475816fc",
   "metadata": {},
   "outputs": [
    {
     "data": {
      "text/plain": [
       "dict_values([1, 82, 86, 81])"
      ]
     },
     "execution_count": 98,
     "metadata": {},
     "output_type": "execute_result"
    }
   ],
   "source": [
    "country_code.values()"
   ]
  },
  {
   "cell_type": "code",
   "execution_count": 99,
   "id": "d4d500c5-f9c2-4bd0-b858-729adf72cef0",
   "metadata": {},
   "outputs": [
    {
     "data": {
      "text/plain": [
       "{'America': 1, 'Korea': 82, 'China': 86, 'Japan': 81}"
      ]
     },
     "execution_count": 99,
     "metadata": {},
     "output_type": "execute_result"
    }
   ],
   "source": [
    "country_code"
   ]
  },
  {
   "cell_type": "code",
   "execution_count": 100,
   "id": "42c5f630-8851-460b-8340-b50c94ae9451",
   "metadata": {},
   "outputs": [
    {
     "data": {
      "text/plain": [
       "dict_keys(['America', 'Korea', 'China', 'Japan'])"
      ]
     },
     "execution_count": 100,
     "metadata": {},
     "output_type": "execute_result"
    }
   ],
   "source": [
    "country_code.keys()"
   ]
  },
  {
   "cell_type": "code",
   "execution_count": 101,
   "id": "41864fe8-6237-4b71-bb55-659068f55c7e",
   "metadata": {},
   "outputs": [
    {
     "data": {
      "text/plain": [
       "False"
      ]
     },
     "execution_count": 101,
     "metadata": {},
     "output_type": "execute_result"
    }
   ],
   "source": [
    "85 in country_code.values()"
   ]
  },
  {
   "cell_type": "code",
   "execution_count": 102,
   "id": "156c3c59-2bbe-41fc-8b77-d89cd94adb26",
   "metadata": {},
   "outputs": [
    {
     "data": {
      "text/plain": [
       "True"
      ]
     },
     "execution_count": 102,
     "metadata": {},
     "output_type": "execute_result"
    }
   ],
   "source": [
    "\"Korea\" in country_code.keys()"
   ]
  },
  {
   "cell_type": "code",
   "execution_count": 103,
   "id": "e97b28e5-271d-40d0-b8e3-902ede94b213",
   "metadata": {},
   "outputs": [],
   "source": [
    "a = \"\" \n",
    "midterm_set = set([1, 5, 7, 4, 3, 2, 1, 1, 2, 3])"
   ]
  },
  {
   "cell_type": "code",
   "execution_count": 104,
   "id": "68b010aa-be70-4a75-8e9b-b8d4e666adb8",
   "metadata": {},
   "outputs": [
    {
     "data": {
      "text/plain": [
       "{1, 2, 3, 4, 5, 7}"
      ]
     },
     "execution_count": 104,
     "metadata": {},
     "output_type": "execute_result"
    }
   ],
   "source": [
    "midterm_set"
   ]
  },
  {
   "cell_type": "code",
   "execution_count": 105,
   "id": "7b7fd9e3-3feb-450d-8683-45b62bb4e948",
   "metadata": {},
   "outputs": [
    {
     "ename": "TypeError",
     "evalue": "'set' object is not subscriptable",
     "output_type": "error",
     "traceback": [
      "\u001b[1;31m---------------------------------------------------------------------------\u001b[0m",
      "\u001b[1;31mTypeError\u001b[0m                                 Traceback (most recent call last)",
      "Cell \u001b[1;32mIn[105], line 1\u001b[0m\n\u001b[1;32m----> 1\u001b[0m midterm_set[\u001b[38;5;241m0\u001b[39m]\n",
      "\u001b[1;31mTypeError\u001b[0m: 'set' object is not subscriptable"
     ]
    }
   ],
   "source": [
    "midterm_set[0]"
   ]
  },
  {
   "cell_type": "code",
   "execution_count": 107,
   "id": "80051ed1-bf06-4308-9ec8-957286752b55",
   "metadata": {},
   "outputs": [
    {
     "data": {
      "text/plain": [
       "''"
      ]
     },
     "execution_count": 107,
     "metadata": {},
     "output_type": "execute_result"
    }
   ],
   "source": [
    "a"
   ]
  },
  {
   "cell_type": "code",
   "execution_count": 108,
   "id": "f1a672ee-2502-4cb3-956c-0c1337e16aca",
   "metadata": {},
   "outputs": [
    {
     "ename": "TypeError",
     "evalue": "can only concatenate str (not \"int\") to str",
     "output_type": "error",
     "traceback": [
      "\u001b[1;31m---------------------------------------------------------------------------\u001b[0m",
      "\u001b[1;31mTypeError\u001b[0m                                 Traceback (most recent call last)",
      "Cell \u001b[1;32mIn[108], line 1\u001b[0m\n\u001b[1;32m----> 1\u001b[0m a \u001b[38;5;241m+\u001b[39m \u001b[38;5;241m1\u001b[39m\n",
      "\u001b[1;31mTypeError\u001b[0m: can only concatenate str (not \"int\") to str"
     ]
    }
   ],
   "source": [
    "a + 1"
   ]
  },
  {
   "cell_type": "code",
   "execution_count": 106,
   "id": "7d9d419f-8aa5-4d02-bd1b-eb4e3a18de47",
   "metadata": {},
   "outputs": [
    {
     "name": "stdout",
     "output_type": "stream",
     "text": [
      "1\n",
      "2\n",
      "3\n",
      "4\n",
      "5\n",
      "7\n"
     ]
    }
   ],
   "source": [
    "for i in midterm_set:\n",
    "    print(i)"
   ]
  },
  {
   "cell_type": "code",
   "execution_count": 110,
   "id": "8907ce0f-c2a0-4c22-a5ea-549d8b7f29dc",
   "metadata": {},
   "outputs": [],
   "source": [
    "a=\"\""
   ]
  },
  {
   "cell_type": "code",
   "execution_count": 111,
   "id": "2b882e28-0edf-41f0-9234-5a76b05d973f",
   "metadata": {},
   "outputs": [
    {
     "ename": "ValueError",
     "evalue": "invalid literal for int() with base 10: ''",
     "output_type": "error",
     "traceback": [
      "\u001b[1;31m---------------------------------------------------------------------------\u001b[0m",
      "\u001b[1;31mValueError\u001b[0m                                Traceback (most recent call last)",
      "Cell \u001b[1;32mIn[111], line 1\u001b[0m\n\u001b[1;32m----> 1\u001b[0m \u001b[38;5;28mint\u001b[39m(a)\n",
      "\u001b[1;31mValueError\u001b[0m: invalid literal for int() with base 10: ''"
     ]
    }
   ],
   "source": [
    "int(a)"
   ]
  },
  {
   "cell_type": "code",
   "execution_count": 112,
   "id": "1cb2a2e8-5b8c-4354-b206-0da624675f56",
   "metadata": {},
   "outputs": [
    {
     "name": "stdout",
     "output_type": "stream",
     "text": [
      "123457\n"
     ]
    }
   ],
   "source": [
    "a = \"\"\n",
    "midterm_set = set([1, 5, 7, 4, 3, 2, 1, 1, 2, 3])\n",
    "for i in midterm_set:\n",
    "    a = a+str(i)\n",
    "print(a)"
   ]
  },
  {
   "cell_type": "code",
   "execution_count": 113,
   "id": "5dff0b40-e222-4178-871a-59f85ef44de4",
   "metadata": {},
   "outputs": [],
   "source": [
    "def delete_a_list_element(list_data, element_value):\n",
    "    if element_value in list_data:\n",
    "        list_data.remove(element_value)\n",
    "        return list_data\n",
    "    else:\n",
    "        return \"False\""
   ]
  },
  {
   "cell_type": "code",
   "execution_count": 114,
   "id": "91b6f17a-9a3e-4a5f-a02d-87a8539bc04d",
   "metadata": {},
   "outputs": [],
   "source": [
    "list_data = ['a', 1, 'gachon', '2016.0']"
   ]
  },
  {
   "cell_type": "code",
   "execution_count": 115,
   "id": "7cb4dbc3-5305-40fe-ac51-9adc6b607843",
   "metadata": {},
   "outputs": [],
   "source": [
    "element = float(2016)"
   ]
  },
  {
   "cell_type": "code",
   "execution_count": 116,
   "id": "1751306d-67ad-4cec-a38a-0d805afee919",
   "metadata": {},
   "outputs": [
    {
     "data": {
      "text/plain": [
       "2016.0"
      ]
     },
     "execution_count": 116,
     "metadata": {},
     "output_type": "execute_result"
    }
   ],
   "source": [
    "element"
   ]
  },
  {
   "cell_type": "code",
   "execution_count": 118,
   "id": "96a32bf7-368d-4f75-90da-d4a3bf3589e5",
   "metadata": {},
   "outputs": [
    {
     "data": {
      "text/plain": [
       "float"
      ]
     },
     "execution_count": 118,
     "metadata": {},
     "output_type": "execute_result"
    }
   ],
   "source": [
    "type(element)"
   ]
  },
  {
   "cell_type": "code",
   "execution_count": 117,
   "id": "18cb8437-a43e-4839-9c86-b852746ca066",
   "metadata": {},
   "outputs": [
    {
     "data": {
      "text/plain": [
       "'False'"
      ]
     },
     "execution_count": 117,
     "metadata": {},
     "output_type": "execute_result"
    }
   ],
   "source": [
    "delete_a_list_element(list_data, element)"
   ]
  },
  {
   "cell_type": "code",
   "execution_count": 119,
   "id": "03e12ad4-d24e-486e-9796-77fab25d64c8",
   "metadata": {},
   "outputs": [],
   "source": [
    "def add_number(original_list):\n",
    "    original_list += [1]"
   ]
  },
  {
   "cell_type": "code",
   "execution_count": 120,
   "id": "d4116541-eeaa-4dab-ab1a-2af943343d33",
   "metadata": {},
   "outputs": [],
   "source": [
    "mylist = [1, 2, 3, 4]"
   ]
  },
  {
   "cell_type": "code",
   "execution_count": 121,
   "id": "24d89ccf-8092-4a9c-b3dc-d0f9154625db",
   "metadata": {},
   "outputs": [
    {
     "data": {
      "text/plain": [
       "[1, 2, 3, 4, 1]"
      ]
     },
     "execution_count": 121,
     "metadata": {},
     "output_type": "execute_result"
    }
   ],
   "source": [
    "[1, 2, 3, 4] + [1]"
   ]
  },
  {
   "cell_type": "code",
   "execution_count": 123,
   "id": "a29b29e0-4479-49ac-a6a8-50fad5a94e58",
   "metadata": {},
   "outputs": [
    {
     "name": "stdout",
     "output_type": "stream",
     "text": [
      "None\n"
     ]
    }
   ],
   "source": [
    "print(add_number(mylist))"
   ]
  },
  {
   "cell_type": "code",
   "execution_count": 124,
   "id": "ba10ee98-c2f2-4c5a-9df4-96a3e5577a04",
   "metadata": {},
   "outputs": [
    {
     "data": {
      "text/plain": [
       "[1, 2, 3, 4, 1, 1]"
      ]
     },
     "execution_count": 124,
     "metadata": {},
     "output_type": "execute_result"
    }
   ],
   "source": [
    "mylist"
   ]
  },
  {
   "cell_type": "code",
   "execution_count": 125,
   "id": "5428adcc-bdaa-41a8-b4a2-22926dbb25e8",
   "metadata": {},
   "outputs": [],
   "source": [
    "def add_number(original_list):\n",
    "    original_list += [1]"
   ]
  },
  {
   "cell_type": "code",
   "execution_count": 126,
   "id": "5921bffe-84ef-4790-8ae4-99c75cc8539a",
   "metadata": {},
   "outputs": [],
   "source": [
    "mylist = [1, 2, 3, 4]"
   ]
  },
  {
   "cell_type": "code",
   "execution_count": 127,
   "id": "fe2182e2-d4f6-4764-ad38-329a084c1aad",
   "metadata": {},
   "outputs": [],
   "source": [
    "add_number(mylist)"
   ]
  },
  {
   "cell_type": "code",
   "execution_count": 128,
   "id": "f162609b-7d46-455f-82f7-7f8fab676445",
   "metadata": {},
   "outputs": [
    {
     "data": {
      "text/plain": [
       "[1, 2, 3, 4, 1]"
      ]
     },
     "execution_count": 128,
     "metadata": {},
     "output_type": "execute_result"
    }
   ],
   "source": [
    "mylist"
   ]
  },
  {
   "cell_type": "code",
   "execution_count": 129,
   "id": "f1800670-cbed-4621-9d96-82b0607aefd3",
   "metadata": {},
   "outputs": [
    {
     "name": "stdout",
     "output_type": "stream",
     "text": [
      "{1, 2, 3, 4}\n"
     ]
    }
   ],
   "source": [
    "def add_number(original_list):\n",
    "    original_list += [1]\n",
    "mylist = [1, 2, 3, 4]\n",
    "add_number(mylist)\n",
    "print(set(mylist))"
   ]
  },
  {
   "cell_type": "code",
   "execution_count": 130,
   "id": "aa55bc2e-dd70-4d7a-b3bd-e53c9558a05a",
   "metadata": {},
   "outputs": [],
   "source": [
    "a = [3, \"apple\", 2016, 4]"
   ]
  },
  {
   "cell_type": "code",
   "execution_count": 131,
   "id": "d38f0ed8-a2a6-4bf3-97ee-dd6a39814b18",
   "metadata": {},
   "outputs": [
    {
     "name": "stdout",
     "output_type": "stream",
     "text": [
      "Help on built-in function pop:\n",
      "\n",
      "pop(index=-1, /) method of builtins.list instance\n",
      "    Remove and return item at index (default last).\n",
      "\n",
      "    Raises IndexError if list is empty or index is out of range.\n",
      "\n"
     ]
    }
   ],
   "source": [
    "help(a.pop)"
   ]
  },
  {
   "cell_type": "code",
   "execution_count": 132,
   "id": "145cf9cf-73d2-4976-a797-913030ad8676",
   "metadata": {},
   "outputs": [],
   "source": [
    "a = [3, \"apple\", 2016, 4]\n",
    "b = a.pop(0)\n"
   ]
  },
  {
   "cell_type": "code",
   "execution_count": 133,
   "id": "0a9682d5-cce2-4179-b44f-bfd86b601913",
   "metadata": {},
   "outputs": [
    {
     "data": {
      "text/plain": [
       "3"
      ]
     },
     "execution_count": 133,
     "metadata": {},
     "output_type": "execute_result"
    }
   ],
   "source": [
    "b"
   ]
  },
  {
   "cell_type": "code",
   "execution_count": 134,
   "id": "7b4157d8-11c5-46b3-878a-e858504d393e",
   "metadata": {},
   "outputs": [
    {
     "data": {
      "text/plain": [
       "['apple', 2016, 4]"
      ]
     },
     "execution_count": 134,
     "metadata": {},
     "output_type": "execute_result"
    }
   ],
   "source": [
    "a"
   ]
  },
  {
   "cell_type": "code",
   "execution_count": 135,
   "id": "eb3d2fae-0bd7-4924-bd55-6a1db6d5e05b",
   "metadata": {},
   "outputs": [],
   "source": [
    "c=a.pop(1)"
   ]
  },
  {
   "cell_type": "code",
   "execution_count": 136,
   "id": "3ad4ae47-2a5c-464c-8e5b-bbc1e2250caf",
   "metadata": {},
   "outputs": [
    {
     "data": {
      "text/plain": [
       "2016"
      ]
     },
     "execution_count": 136,
     "metadata": {},
     "output_type": "execute_result"
    }
   ],
   "source": [
    "c"
   ]
  },
  {
   "cell_type": "code",
   "execution_count": 137,
   "id": "517c933e-372d-4407-9f4d-617fdb44f854",
   "metadata": {},
   "outputs": [
    {
     "name": "stdout",
     "output_type": "stream",
     "text": [
      "2019\n"
     ]
    }
   ],
   "source": [
    "print(b+c )  # 3 + 2016"
   ]
  },
  {
   "cell_type": "code",
   "execution_count": 139,
   "id": "0cd9399f-86d5-492e-b2e4-c1a65a3aa287",
   "metadata": {},
   "outputs": [],
   "source": [
    "def week_seven(sentence1):\n",
    "    cells = set(sentence1.replace(' ','').lower())\n",
    "    return cells"
   ]
  },
  {
   "cell_type": "code",
   "execution_count": 141,
   "id": "90c0e7f8-5c98-4617-af43-18740db93502",
   "metadata": {},
   "outputs": [],
   "source": [
    "sentence_a = \"The quick brown fox jumps over the lazy dog\""
   ]
  },
  {
   "cell_type": "code",
   "execution_count": 142,
   "id": "a9f12497-4b6a-47d8-9c2a-24224af74794",
   "metadata": {},
   "outputs": [],
   "source": [
    "sentence_b = \"I love you\""
   ]
  },
  {
   "cell_type": "code",
   "execution_count": 143,
   "id": "adbbe7b9-7e64-4571-a1c8-abe348142676",
   "metadata": {},
   "outputs": [
    {
     "data": {
      "text/plain": [
       "{'a',\n",
       " 'b',\n",
       " 'c',\n",
       " 'd',\n",
       " 'e',\n",
       " 'f',\n",
       " 'g',\n",
       " 'h',\n",
       " 'i',\n",
       " 'j',\n",
       " 'k',\n",
       " 'l',\n",
       " 'm',\n",
       " 'n',\n",
       " 'o',\n",
       " 'p',\n",
       " 'q',\n",
       " 'r',\n",
       " 's',\n",
       " 't',\n",
       " 'u',\n",
       " 'v',\n",
       " 'w',\n",
       " 'x',\n",
       " 'y',\n",
       " 'z'}"
      ]
     },
     "execution_count": 143,
     "metadata": {},
     "output_type": "execute_result"
    }
   ],
   "source": [
    "week_seven(sentence_a)"
   ]
  },
  {
   "cell_type": "code",
   "execution_count": 145,
   "id": "95998655-50cc-4bf6-8f8e-aac45c942e95",
   "metadata": {},
   "outputs": [
    {
     "data": {
      "text/plain": [
       "26"
      ]
     },
     "execution_count": 145,
     "metadata": {},
     "output_type": "execute_result"
    }
   ],
   "source": [
    "len(week_seven(sentence_a))"
   ]
  },
  {
   "cell_type": "code",
   "execution_count": 144,
   "id": "a9aa0202-90ab-4f27-922b-c464d282ea1c",
   "metadata": {},
   "outputs": [
    {
     "data": {
      "text/plain": [
       "{'e', 'i', 'l', 'o', 'u', 'v', 'y'}"
      ]
     },
     "execution_count": 144,
     "metadata": {},
     "output_type": "execute_result"
    }
   ],
   "source": [
    "week_seven(sentence_b)"
   ]
  },
  {
   "cell_type": "code",
   "execution_count": 146,
   "id": "84a5c87e-945c-46a5-8edd-881abd40a97a",
   "metadata": {},
   "outputs": [
    {
     "data": {
      "text/plain": [
       "7"
      ]
     },
     "execution_count": 146,
     "metadata": {},
     "output_type": "execute_result"
    }
   ],
   "source": [
    "len(week_seven(sentence_b))"
   ]
  },
  {
   "cell_type": "code",
   "execution_count": 147,
   "id": "ec700b98-3c81-452c-a2cf-e54118f7b44b",
   "metadata": {},
   "outputs": [
    {
     "name": "stdout",
     "output_type": "stream",
     "text": [
      "19\n"
     ]
    }
   ],
   "source": [
    "def week_seven(sentence1):\n",
    "    cells = set(sentence1.replace(' ','').lower())\n",
    "    return cells\n",
    "sentence_a = \"The quick brown fox jumps over the lazy dog\"\n",
    "sentence_b = \"I love you\" \n",
    "print(len(week_seven(sentence_a)-week_seven(sentence_b)))"
   ]
  },
  {
   "cell_type": "code",
   "execution_count": 148,
   "id": "bdbe3966-ce99-4fed-9dbd-5f957545d0ed",
   "metadata": {},
   "outputs": [
    {
     "name": "stdout",
     "output_type": "stream",
     "text": [
      "[1, 2, 3, 4, 5, 6]\n"
     ]
    }
   ],
   "source": [
    "tuple_1 = (1, 2, 3)\n",
    "tuple_2 = (4, 5, 6)\n",
    "def quiz_1(data_1, data_2):\n",
    "    result = []\n",
    "    for i in (tuple_1 + tuple_2):\n",
    "        result.append(i)\n",
    "    return (result)\n",
    "print(quiz_1(tuple_1, tuple_2))"
   ]
  },
  {
   "cell_type": "code",
   "execution_count": 149,
   "id": "f886e5e3-e813-478b-83b5-795fdbc647a1",
   "metadata": {},
   "outputs": [],
   "source": [
    "# 키 [2,4,6,8,10]\n",
    "# 밸류 [1,2,3,4,6]"
   ]
  },
  {
   "cell_type": "code",
   "execution_count": 151,
   "id": "1899f2f8-abd4-4d3b-a9ec-9f9da50acc66",
   "metadata": {},
   "outputs": [],
   "source": [
    "dict_2 = dict()"
   ]
  },
  {
   "cell_type": "code",
   "execution_count": 152,
   "id": "9c21e45d-c958-43b0-9320-00c825f2239f",
   "metadata": {},
   "outputs": [
    {
     "data": {
      "text/plain": [
       "{}"
      ]
     },
     "execution_count": 152,
     "metadata": {},
     "output_type": "execute_result"
    }
   ],
   "source": [
    "dict_2"
   ]
  },
  {
   "cell_type": "code",
   "execution_count": 153,
   "id": "0f6dd870-f45e-4745-8b23-6e75f6c650aa",
   "metadata": {},
   "outputs": [
    {
     "name": "stdout",
     "output_type": "stream",
     "text": [
      "4\n"
     ]
    }
   ],
   "source": [
    "dict_1 = {2:1, 4:2, 6:3, 8:4, 10:6}\n",
    "dict_keys = list(dict_1.keys())\n",
    "dict_values = list(dict_1.values())\n",
    "dict_2 = dict()\n",
    "for i in range(len(dict_keys)):\n",
    "    dict_2[dict_values[i]] = dict_keys[i]\n",
    "print(dict_2[2])"
   ]
  },
  {
   "cell_type": "code",
   "execution_count": 154,
   "id": "8b1916fc-78ed-4409-a4a3-8a1eebf8fec6",
   "metadata": {},
   "outputs": [],
   "source": [
    "def add_number(original_list):\n",
    "    original_list += [1]"
   ]
  },
  {
   "cell_type": "code",
   "execution_count": 155,
   "id": "ac8a6cc8-06e3-4118-a843-dd2005db966d",
   "metadata": {},
   "outputs": [],
   "source": [
    "mylist = [1, 2, 3, 4]"
   ]
  },
  {
   "cell_type": "code",
   "execution_count": 157,
   "id": "7a055885-a75c-4471-aa49-513918a6e8bd",
   "metadata": {},
   "outputs": [
    {
     "data": {
      "text/plain": [
       "2509541096896"
      ]
     },
     "execution_count": 157,
     "metadata": {},
     "output_type": "execute_result"
    }
   ],
   "source": [
    "id(mylist)"
   ]
  },
  {
   "cell_type": "code",
   "execution_count": 156,
   "id": "292ed541-911f-4d6e-adb8-a2f80f693cca",
   "metadata": {},
   "outputs": [],
   "source": [
    "add_number(mylist)"
   ]
  },
  {
   "cell_type": "code",
   "execution_count": 158,
   "id": "a924ee2c-8b4b-4fe3-ad20-1b237b39fa4b",
   "metadata": {},
   "outputs": [
    {
     "name": "stdout",
     "output_type": "stream",
     "text": [
      "[(0, 'pen'), (1, 'pencil'), (2, 'sharp')]\n"
     ]
    }
   ],
   "source": [
    "mylist = ['pen' ,'pencil', 'sharp']\n",
    "result = list(enumerate(mylist)) \n",
    "print(result)"
   ]
  },
  {
   "cell_type": "code",
   "execution_count": 159,
   "id": "c4c96e10-316e-4f73-960d-0b84faa4d860",
   "metadata": {},
   "outputs": [],
   "source": [
    "dog_song = \"my dog has brown eyes, my dog is cute\""
   ]
  },
  {
   "cell_type": "code",
   "execution_count": 163,
   "id": "495cc695-85db-4e2d-9892-9af6b6542696",
   "metadata": {},
   "outputs": [
    {
     "data": {
      "text/plain": [
       "[(0, 'my'),\n",
       " (1, 'dog'),\n",
       " (2, 'has'),\n",
       " (3, 'brown'),\n",
       " (4, 'eyes,'),\n",
       " (5, 'my'),\n",
       " (6, 'dog'),\n",
       " (7, 'is'),\n",
       " (8, 'cute')]"
      ]
     },
     "execution_count": 163,
     "metadata": {},
     "output_type": "execute_result"
    }
   ],
   "source": [
    "[ i for i in enumerate(dog_song.split())]"
   ]
  },
  {
   "cell_type": "code",
   "execution_count": 164,
   "id": "da20ede9-fc27-4f11-a1d0-93ec66339bac",
   "metadata": {},
   "outputs": [
    {
     "data": {
      "text/plain": [
       "[0, 1, 2, 3, 4, 5, 6, 7, 8]"
      ]
     },
     "execution_count": 164,
     "metadata": {},
     "output_type": "execute_result"
    }
   ],
   "source": [
    "[ i for i, v in enumerate(dog_song.split())]"
   ]
  },
  {
   "cell_type": "code",
   "execution_count": 165,
   "id": "9e2ad17e-e31c-49ac-b44f-af0876cc565b",
   "metadata": {},
   "outputs": [
    {
     "data": {
      "text/plain": [
       "['my', 'dog', 'has', 'brown', 'eyes,', 'my', 'dog', 'is', 'cute']"
      ]
     },
     "execution_count": 165,
     "metadata": {},
     "output_type": "execute_result"
    }
   ],
   "source": [
    "[ v for i, v in enumerate(dog_song.split())]"
   ]
  },
  {
   "cell_type": "code",
   "execution_count": 167,
   "id": "0d2c07c3-c32f-4ad1-b403-598ed9a9d721",
   "metadata": {},
   "outputs": [],
   "source": [
    "# [ i, v for i, v in enumerate(dog_song.split())]"
   ]
  },
  {
   "cell_type": "code",
   "execution_count": 169,
   "id": "bf37ee14-ee9e-4c70-ae9c-4f1905cae8f5",
   "metadata": {},
   "outputs": [],
   "source": [
    "# 리스트 내포와 같이 딕셔너리 내포(comprehension)"
   ]
  },
  {
   "cell_type": "code",
   "execution_count": 168,
   "id": "870d2d65-4cb6-4812-b2e0-4a3f7e80fb7b",
   "metadata": {},
   "outputs": [
    {
     "data": {
      "text/plain": [
       "{0: 'my',\n",
       " 1: 'dog',\n",
       " 2: 'has',\n",
       " 3: 'brown',\n",
       " 4: 'eyes,',\n",
       " 5: 'my',\n",
       " 6: 'dog',\n",
       " 7: 'is',\n",
       " 8: 'cute'}"
      ]
     },
     "execution_count": 168,
     "metadata": {},
     "output_type": "execute_result"
    }
   ],
   "source": [
    "{i:v for i, v in enumerate(dog_song.split())}"
   ]
  },
  {
   "cell_type": "code",
   "execution_count": 170,
   "id": "6cf19b0b-5dbd-4d21-84ad-32a2af21fb15",
   "metadata": {},
   "outputs": [
    {
     "data": {
      "text/plain": [
       "{'my': 5, 'dog': 6, 'has': 2, 'brown': 3, 'eyes,': 4, 'is': 7, 'cute': 8}"
      ]
     },
     "execution_count": 170,
     "metadata": {},
     "output_type": "execute_result"
    }
   ],
   "source": [
    "{v:i for i, v in enumerate(dog_song.split())}"
   ]
  },
  {
   "cell_type": "code",
   "execution_count": null,
   "id": "290fd509-2837-47c9-b598-2f763e72ce87",
   "metadata": {},
   "outputs": [],
   "source": []
  }
 ],
 "metadata": {
  "kernelspec": {
   "display_name": "Python 3 (ipykernel)",
   "language": "python",
   "name": "python3"
  },
  "language_info": {
   "codemirror_mode": {
    "name": "ipython",
    "version": 3
   },
   "file_extension": ".py",
   "mimetype": "text/x-python",
   "name": "python",
   "nbconvert_exporter": "python",
   "pygments_lexer": "ipython3",
   "version": "3.12.4"
  }
 },
 "nbformat": 4,
 "nbformat_minor": 5
}
