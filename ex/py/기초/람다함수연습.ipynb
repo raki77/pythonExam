{
 "cells": [
  {
   "cell_type": "code",
   "execution_count": 2,
   "id": "f559ce33-8a8f-4855-a629-2ae600955087",
   "metadata": {},
   "outputs": [],
   "source": [
    "# 함수 기본"
   ]
  },
  {
   "cell_type": "code",
   "execution_count": 4,
   "id": "74d5c611-5800-4fad-8e99-f3e610d4cd66",
   "metadata": {},
   "outputs": [],
   "source": [
    "def f1():\n",
    "    print(\"hi\")\n",
    "\n",
    "def f2(gift):\n",
    "    print(gift)\n",
    "\n",
    "def f3():\n",
    "    return \"과자\"\n",
    "\n",
    "def f4(gift):\n",
    "    print(gift)\n",
    "    return \"사탕\"    "
   ]
  },
  {
   "cell_type": "code",
   "execution_count": 1,
   "id": "cec5269f-64d6-4b6d-b1a6-6ba1125f414a",
   "metadata": {},
   "outputs": [],
   "source": [
    "# 람다 함수"
   ]
  },
  {
   "cell_type": "code",
   "execution_count": 5,
   "id": "56909b2a-a18a-43b9-97d3-34ede3732fe7",
   "metadata": {},
   "outputs": [],
   "source": [
    "f1 = lambda : print(\"hi\")"
   ]
  },
  {
   "cell_type": "code",
   "execution_count": 6,
   "id": "fe5d78aa-df8f-4c1b-b5f0-ec8b2039ec97",
   "metadata": {},
   "outputs": [
    {
     "name": "stdout",
     "output_type": "stream",
     "text": [
      "hi\n"
     ]
    }
   ],
   "source": [
    "f1()"
   ]
  },
  {
   "cell_type": "code",
   "execution_count": 7,
   "id": "cb3d51d2-27ea-449e-bb3c-4262e6b1ddda",
   "metadata": {},
   "outputs": [],
   "source": [
    "f2 = lambda gift: print(gift)"
   ]
  },
  {
   "cell_type": "code",
   "execution_count": 8,
   "id": "8b729a33-81cd-43b9-af7a-6913dcd5a170",
   "metadata": {},
   "outputs": [
    {
     "name": "stdout",
     "output_type": "stream",
     "text": [
      "마라탕\n"
     ]
    }
   ],
   "source": [
    "f2(\"마라탕\")"
   ]
  },
  {
   "cell_type": "code",
   "execution_count": 9,
   "id": "0acc2c33-2b03-4df3-8898-1bb429471805",
   "metadata": {},
   "outputs": [],
   "source": [
    "f3 = lambda : \"탕후루\""
   ]
  },
  {
   "cell_type": "code",
   "execution_count": 10,
   "id": "e12aea7d-a2c6-4abe-83d4-cbd76cf984dd",
   "metadata": {},
   "outputs": [],
   "source": [
    "result1=f3()"
   ]
  },
  {
   "cell_type": "code",
   "execution_count": 11,
   "id": "7cf5c279-b0cd-4eea-93d0-3aad96f8da03",
   "metadata": {},
   "outputs": [
    {
     "data": {
      "text/plain": [
       "'탕후루'"
      ]
     },
     "execution_count": 11,
     "metadata": {},
     "output_type": "execute_result"
    }
   ],
   "source": [
    "result1"
   ]
  },
  {
   "cell_type": "code",
   "execution_count": 12,
   "id": "64135a6b-c338-4b9a-b992-6f075271e71a",
   "metadata": {},
   "outputs": [],
   "source": [
    "f4 = lambda gift : gift+\" 탕후루\""
   ]
  },
  {
   "cell_type": "code",
   "execution_count": 13,
   "id": "cb2fe6a4-d60b-471f-862c-ec8abdcafb30",
   "metadata": {},
   "outputs": [],
   "source": [
    "result2=f4('마라탕')"
   ]
  },
  {
   "cell_type": "code",
   "execution_count": 14,
   "id": "dc1d2aa6-81ee-46ad-97f0-ce010881b001",
   "metadata": {},
   "outputs": [
    {
     "data": {
      "text/plain": [
       "'마라탕 탕후루'"
      ]
     },
     "execution_count": 14,
     "metadata": {},
     "output_type": "execute_result"
    }
   ],
   "source": [
    "result2"
   ]
  },
  {
   "cell_type": "code",
   "execution_count": 15,
   "id": "0a81dcde-5d7b-44f5-a90c-c8dfb27ae74d",
   "metadata": {},
   "outputs": [],
   "source": [
    "def f1():\n",
    "    print(\"hi\")"
   ]
  },
  {
   "cell_type": "code",
   "execution_count": 16,
   "id": "b827bfcc-e528-4913-99ff-9cd538449dfb",
   "metadata": {},
   "outputs": [
    {
     "data": {
      "text/plain": [
       "<map at 0x22d1a58df90>"
      ]
     },
     "execution_count": 16,
     "metadata": {},
     "output_type": "execute_result"
    }
   ],
   "source": [
    "map(f1, [1,2,3])"
   ]
  },
  {
   "cell_type": "code",
   "execution_count": 17,
   "id": "d637ca0a-6df6-4c82-aa7c-e06d35b47bc8",
   "metadata": {},
   "outputs": [
    {
     "data": {
      "text/plain": [
       "map"
      ]
     },
     "execution_count": 17,
     "metadata": {},
     "output_type": "execute_result"
    }
   ],
   "source": [
    "type(map(f1, [1,2,3]))"
   ]
  },
  {
   "cell_type": "code",
   "execution_count": 18,
   "id": "cf730655-4488-4dac-bafe-b9cbdd71899a",
   "metadata": {},
   "outputs": [],
   "source": [
    "def f1(num):\n",
    "    return num+1"
   ]
  },
  {
   "cell_type": "code",
   "execution_count": 19,
   "id": "80d0de7c-4c3a-4303-bee6-11523a449e3c",
   "metadata": {},
   "outputs": [
    {
     "data": {
      "text/plain": [
       "<map at 0x22d1a3745b0>"
      ]
     },
     "execution_count": 19,
     "metadata": {},
     "output_type": "execute_result"
    }
   ],
   "source": [
    "map(f1, [1,2,3])"
   ]
  },
  {
   "cell_type": "code",
   "execution_count": 20,
   "id": "e9499ccd-a8b2-4e22-a79a-0a5b4f9e52c0",
   "metadata": {},
   "outputs": [
    {
     "data": {
      "text/plain": [
       "[2, 3, 4]"
      ]
     },
     "execution_count": 20,
     "metadata": {},
     "output_type": "execute_result"
    }
   ],
   "source": [
    "list(map(f1, [1,2,3]))"
   ]
  },
  {
   "cell_type": "code",
   "execution_count": 21,
   "id": "e0107456-6f1b-4482-8c1c-eb45d968961a",
   "metadata": {},
   "outputs": [
    {
     "data": {
      "text/plain": [
       "<map at 0x22d1a374af0>"
      ]
     },
     "execution_count": 21,
     "metadata": {},
     "output_type": "execute_result"
    }
   ],
   "source": [
    "map(lambda x:x+1, [1,2,3])"
   ]
  },
  {
   "cell_type": "code",
   "execution_count": 22,
   "id": "fdd78250-0cfc-4d5b-aae7-1a7bf9ab6006",
   "metadata": {},
   "outputs": [
    {
     "data": {
      "text/plain": [
       "[2, 3, 4]"
      ]
     },
     "execution_count": 22,
     "metadata": {},
     "output_type": "execute_result"
    }
   ],
   "source": [
    "list(map(lambda x:x+1, [1,2,3]))"
   ]
  },
  {
   "cell_type": "code",
   "execution_count": 23,
   "id": "353a5d52-54ec-4350-b9b3-98ba5a44c179",
   "metadata": {},
   "outputs": [],
   "source": [
    "# return    반환하고 종료한다."
   ]
  },
  {
   "cell_type": "code",
   "execution_count": 24,
   "id": "dc6e010a-106c-44c0-a3d8-a21477090187",
   "metadata": {},
   "outputs": [],
   "source": [
    "def return_func():\n",
    "    return"
   ]
  },
  {
   "cell_type": "code",
   "execution_count": 26,
   "id": "03bdb864-c622-4806-b68c-c4c415de8046",
   "metadata": {},
   "outputs": [],
   "source": [
    "result=return_func()"
   ]
  },
  {
   "cell_type": "code",
   "execution_count": 27,
   "id": "36112fdb-e695-4f83-95c9-9e07529876d7",
   "metadata": {},
   "outputs": [
    {
     "name": "stdout",
     "output_type": "stream",
     "text": [
      "None\n"
     ]
    }
   ],
   "source": [
    "print(result)"
   ]
  },
  {
   "cell_type": "code",
   "execution_count": 29,
   "id": "237dd599-1eee-4db0-8933-d96f34e4dd25",
   "metadata": {},
   "outputs": [],
   "source": [
    "def return_func(x):\n",
    "    return x\n",
    "    return \"hi\""
   ]
  },
  {
   "cell_type": "code",
   "execution_count": 30,
   "id": "0eda27b7-ecef-43e3-badf-02cf39018b33",
   "metadata": {},
   "outputs": [
    {
     "data": {
      "text/plain": [
       "5"
      ]
     },
     "execution_count": 30,
     "metadata": {},
     "output_type": "execute_result"
    }
   ],
   "source": [
    "return_func(5)"
   ]
  },
  {
   "cell_type": "code",
   "execution_count": 35,
   "id": "c1918c7d-d2a3-4038-9be3-fd3057ab8aae",
   "metadata": {},
   "outputs": [],
   "source": [
    "def return_func2(x):\n",
    "    print(\"###1###\")\n",
    "    yield x\n",
    "    print(\"###2###\")\n",
    "    x =x+1\n",
    "    yield x\n",
    "    print(\"###3###\")\n",
    "    x=x+1\n",
    "    yield x "
   ]
  },
  {
   "cell_type": "code",
   "execution_count": 36,
   "id": "8ce88285-6f4b-446d-a1aa-1c3902305ad9",
   "metadata": {},
   "outputs": [
    {
     "data": {
      "text/plain": [
       "<generator object return_func2 at 0x0000022D1912BB80>"
      ]
     },
     "execution_count": 36,
     "metadata": {},
     "output_type": "execute_result"
    }
   ],
   "source": [
    "return_func2(1)"
   ]
  },
  {
   "cell_type": "code",
   "execution_count": 37,
   "id": "51ab627c-6b56-4a5e-bede-f510b4df8082",
   "metadata": {},
   "outputs": [
    {
     "name": "stdout",
     "output_type": "stream",
     "text": [
      "###1###\n",
      "1\n",
      "###2###\n",
      "2\n",
      "###3###\n",
      "3\n"
     ]
    }
   ],
   "source": [
    "for i in return_func2(1):\n",
    "    print(i)"
   ]
  },
  {
   "cell_type": "code",
   "execution_count": 38,
   "id": "e3c731d0-6481-4dd6-b880-5ac88eed9585",
   "metadata": {},
   "outputs": [
    {
     "name": "stdout",
     "output_type": "stream",
     "text": [
      "Help on class map in module builtins:\n",
      "\n",
      "class map(object)\n",
      " |  map(func, *iterables) --> map object\n",
      " |\n",
      " |  Make an iterator that computes the function using arguments from\n",
      " |  each of the iterables.  Stops when the shortest iterable is exhausted.\n",
      " |\n",
      " |  Methods defined here:\n",
      " |\n",
      " |  __getattribute__(self, name, /)\n",
      " |      Return getattr(self, name).\n",
      " |\n",
      " |  __iter__(self, /)\n",
      " |      Implement iter(self).\n",
      " |\n",
      " |  __next__(self, /)\n",
      " |      Implement next(self).\n",
      " |\n",
      " |  __reduce__(...)\n",
      " |      Return state information for pickling.\n",
      " |\n",
      " |  ----------------------------------------------------------------------\n",
      " |  Static methods defined here:\n",
      " |\n",
      " |  __new__(*args, **kwargs)\n",
      " |      Create and return a new object.  See help(type) for accurate signature.\n",
      "\n"
     ]
    }
   ],
   "source": [
    "help(map)"
   ]
  },
  {
   "cell_type": "code",
   "execution_count": 39,
   "id": "c2999c8e-b205-4ca7-91b5-a7453d4feeaf",
   "metadata": {},
   "outputs": [
    {
     "data": {
      "text/plain": [
       "(1, 2, 3, 2, 6, 8)"
      ]
     },
     "execution_count": 39,
     "metadata": {},
     "output_type": "execute_result"
    }
   ],
   "source": [
    "(1,2,3) + (2,6,8)"
   ]
  },
  {
   "cell_type": "code",
   "execution_count": 40,
   "id": "13771e8b-1cb0-4657-a162-d24777443784",
   "metadata": {},
   "outputs": [
    {
     "data": {
      "text/plain": [
       "[3, 8, 11]"
      ]
     },
     "execution_count": 40,
     "metadata": {},
     "output_type": "execute_result"
    }
   ],
   "source": [
    "list(map(lambda tu1,tu2 : tu1+tu2 ,  (1,2,3),(2,6,8)))"
   ]
  },
  {
   "cell_type": "code",
   "execution_count": 45,
   "id": "058d93e2-ee1e-457e-9de7-35509860baef",
   "metadata": {},
   "outputs": [
    {
     "data": {
      "text/plain": [
       "[3, 8, 11]"
      ]
     },
     "execution_count": 45,
     "metadata": {},
     "output_type": "execute_result"
    }
   ],
   "source": [
    "list(map(lambda li1,li2 : li1+li2 ,  [1,2,3],[2,6,8]))"
   ]
  },
  {
   "cell_type": "code",
   "execution_count": 47,
   "id": "3ca24e09-a723-4f15-9f41-c0ca05057b52",
   "metadata": {},
   "outputs": [],
   "source": [
    "# help(filter)"
   ]
  },
  {
   "cell_type": "code",
   "execution_count": 48,
   "id": "365fe140-05ad-42cc-9fb4-2dd1af6a04e8",
   "metadata": {},
   "outputs": [],
   "source": [
    "def f5():\n",
    "    return True"
   ]
  },
  {
   "cell_type": "code",
   "execution_count": 49,
   "id": "882ed8f3-a4ee-488c-abbc-d5394434fdc0",
   "metadata": {},
   "outputs": [
    {
     "data": {
      "text/plain": [
       "True"
      ]
     },
     "execution_count": 49,
     "metadata": {},
     "output_type": "execute_result"
    }
   ],
   "source": [
    "f5()"
   ]
  },
  {
   "cell_type": "code",
   "execution_count": 52,
   "id": "7ba134c6-1ff3-461d-8f66-793c7577edbc",
   "metadata": {},
   "outputs": [
    {
     "data": {
      "text/plain": [
       "[1, 2, 3]"
      ]
     },
     "execution_count": 52,
     "metadata": {},
     "output_type": "execute_result"
    }
   ],
   "source": [
    "[i for i in [-3,-2,-1,0,1,2,3] if i>0]"
   ]
  },
  {
   "cell_type": "code",
   "execution_count": 53,
   "id": "b7149cbc-caf6-4e45-b6b1-994433cc2a60",
   "metadata": {},
   "outputs": [
    {
     "data": {
      "text/plain": [
       "<filter at 0x22d1a761b10>"
      ]
     },
     "execution_count": 53,
     "metadata": {},
     "output_type": "execute_result"
    }
   ],
   "source": [
    "filter(lambda li : li>0, [-3,-2,-1,0,1,2,3])"
   ]
  },
  {
   "cell_type": "code",
   "execution_count": 54,
   "id": "a2060259-a1a8-4f8d-aad4-485a2f987090",
   "metadata": {},
   "outputs": [
    {
     "data": {
      "text/plain": [
       "[1, 2, 3]"
      ]
     },
     "execution_count": 54,
     "metadata": {},
     "output_type": "execute_result"
    }
   ],
   "source": [
    "list(filter(lambda li : li>0, [-3,-2,-1,0,1,2,3]))"
   ]
  },
  {
   "cell_type": "code",
   "execution_count": 58,
   "id": "789f1c05-c2b1-43bc-83cf-aae22d8577c2",
   "metadata": {},
   "outputs": [],
   "source": [
    "# help(zip) # zip(*iterables, strict=False)"
   ]
  },
  {
   "cell_type": "code",
   "execution_count": 59,
   "id": "97be85fa-f8ea-4cd4-8c37-2a3969673e0f",
   "metadata": {},
   "outputs": [
    {
     "data": {
      "text/plain": [
       "<zip at 0x22d1a5e6740>"
      ]
     },
     "execution_count": 59,
     "metadata": {},
     "output_type": "execute_result"
    }
   ],
   "source": [
    "zip([1,2,3],[4,5,6])"
   ]
  },
  {
   "cell_type": "code",
   "execution_count": 60,
   "id": "22802eb1-d3dd-4e8e-87d1-8a350c450169",
   "metadata": {},
   "outputs": [
    {
     "data": {
      "text/plain": [
       "[(1, 4), (2, 5), (3, 6)]"
      ]
     },
     "execution_count": 60,
     "metadata": {},
     "output_type": "execute_result"
    }
   ],
   "source": [
    "list(zip([1,2,3],[4,5,6]))"
   ]
  },
  {
   "cell_type": "code",
   "execution_count": 61,
   "id": "65654bb5-8de5-4169-9439-20e7ab8894fa",
   "metadata": {},
   "outputs": [
    {
     "data": {
      "text/plain": [
       "[('봄', '벚꽃'), ('여름', '장미')]"
      ]
     },
     "execution_count": 61,
     "metadata": {},
     "output_type": "execute_result"
    }
   ],
   "source": [
    "list(zip(['봄','여름'],['벚꽃','장미']))"
   ]
  },
  {
   "cell_type": "code",
   "execution_count": 62,
   "id": "92d53ca4-f1dd-4bf3-8c10-ae1cf7a69e7b",
   "metadata": {},
   "outputs": [
    {
     "data": {
      "text/plain": [
       "[('봄', '벚꽃'), ('여름', '장미')]"
      ]
     },
     "execution_count": 62,
     "metadata": {},
     "output_type": "execute_result"
    }
   ],
   "source": [
    "list(zip(['봄','여름'],['벚꽃','장미','국화']))"
   ]
  },
  {
   "cell_type": "code",
   "execution_count": 63,
   "id": "3d2d6feb-344a-44dc-9bd0-e0aab8ae96b8",
   "metadata": {},
   "outputs": [
    {
     "data": {
      "text/plain": [
       "[('봄', '벚꽃'), ('여름', '장미')]"
      ]
     },
     "execution_count": 63,
     "metadata": {},
     "output_type": "execute_result"
    }
   ],
   "source": [
    "list(zip(['봄','여름','가을'],['벚꽃','장미']))"
   ]
  },
  {
   "cell_type": "code",
   "execution_count": 64,
   "id": "84e4354c-cc2b-436b-8f88-ec434d093696",
   "metadata": {},
   "outputs": [
    {
     "name": "stdout",
     "output_type": "stream",
     "text": [
      "봄에는 벚꽃이 핀다\n",
      "여름에는 장미이 핀다\n"
     ]
    }
   ],
   "source": [
    "for season,flower in zip(['봄','여름','가을'],['벚꽃','장미']):\n",
    "    print(f\"{season}에는 {flower}이 핀다\")"
   ]
  },
  {
   "cell_type": "code",
   "execution_count": null,
   "id": "f08ab0e1-b630-480d-8abd-a9704503f8bc",
   "metadata": {},
   "outputs": [],
   "source": []
  }
 ],
 "metadata": {
  "kernelspec": {
   "display_name": "Python 3 (ipykernel)",
   "language": "python",
   "name": "python3"
  },
  "language_info": {
   "codemirror_mode": {
    "name": "ipython",
    "version": 3
   },
   "file_extension": ".py",
   "mimetype": "text/x-python",
   "name": "python",
   "nbconvert_exporter": "python",
   "pygments_lexer": "ipython3",
   "version": "3.12.4"
  }
 },
 "nbformat": 4,
 "nbformat_minor": 5
}
