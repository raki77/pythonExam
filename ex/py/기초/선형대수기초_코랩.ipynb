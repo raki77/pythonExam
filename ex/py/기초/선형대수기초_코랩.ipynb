{
 "cells": [
  {
   "cell_type": "code",
   "execution_count": null,
   "metadata": {
    "id": "vtp7B6lVLP11"
   },
   "outputs": [],
   "source": [
    "# !pip install 패키지명"
   ]
  },
  {
   "cell_type": "code",
   "execution_count": 2,
   "metadata": {
    "colab": {
     "base_uri": "https://localhost:8080/"
    },
    "id": "GJwCGPD1K3nU",
    "outputId": "bef2a3f0-1724-4228-d716-213a88c34d06"
   },
   "outputs": [
    {
     "name": "stdout",
     "output_type": "stream",
     "text": [
      "/content\n"
     ]
    }
   ],
   "source": [
    "!pwd"
   ]
  },
  {
   "cell_type": "code",
   "execution_count": 3,
   "metadata": {
    "colab": {
     "base_uri": "https://localhost:8080/"
    },
    "id": "hk7B-mzjK9rN",
    "outputId": "70f19c49-ade4-4e07-eac3-d3d86e6d3163"
   },
   "outputs": [
    {
     "name": "stdout",
     "output_type": "stream",
     "text": [
      "/usr/include/boost/python/numpy\n",
      "/usr/include/boost/python/numpy/numpy_object_mgr_traits.hpp\n",
      "/usr/include/boost/python/numpy.hpp\n",
      "/usr/local/lib/python3.10/dist-packages/tensorflow/include/tsl/python/lib/core/numpy.h\n",
      "/usr/local/lib/python3.10/dist-packages/tensorflow/include/external/pybind11/include/pybind11/numpy.h\n",
      "/usr/local/lib/python3.10/dist-packages/tensorflow/include/external/pybind11/_virtual_includes/pybind11/pybind11/numpy.h\n",
      "/usr/local/lib/python3.10/dist-packages/tensorflow/include/external/local_config_python/numpy_include\n",
      "/usr/local/lib/python3.10/dist-packages/tensorflow/include/external/local_config_python/numpy_include/numpy\n",
      "/usr/local/lib/python3.10/dist-packages/tensorflow/include/external/local_config_python/numpy_include/numpy/numpyconfig.h\n",
      "/usr/local/lib/python3.10/dist-packages/tensorflow/include/tensorflow/tsl/python/lib/core/numpy.h\n",
      "/usr/local/lib/python3.10/dist-packages/tensorflow/dtensor/python/numpy_util.py\n",
      "/usr/local/lib/python3.10/dist-packages/tensorflow/dtensor/python/__pycache__/numpy_util.cpython-310.pyc\n",
      "/usr/local/lib/python3.10/dist-packages/tensorflow/python/distribute/numpy_dataset.py\n",
      "/usr/local/lib/python3.10/dist-packages/tensorflow/python/distribute/__pycache__/numpy_dataset.cpython-310.pyc\n",
      "/usr/local/lib/python3.10/dist-packages/tensorflow/python/ops/numpy_ops\n",
      "/usr/local/lib/python3.10/dist-packages/tensorflow/python/estimator/inputs/numpy_io.py\n",
      "/usr/local/lib/python3.10/dist-packages/tensorflow/python/estimator/inputs/__pycache__/numpy_io.cpython-310.pyc\n",
      "/usr/local/lib/python3.10/dist-packages/tensorflow/_api/v2/compat/v2/experimental/numpy\n",
      "/usr/local/lib/python3.10/dist-packages/tensorflow/_api/v2/experimental/numpy\n",
      "/usr/local/lib/python3.10/dist-packages/trax/fastmath/numpy.py\n",
      "/usr/local/lib/python3.10/dist-packages/trax/fastmath/__pycache__/numpy.cpython-310.pyc\n",
      "/usr/local/lib/python3.10/dist-packages/trax/tf_numpy/numpy\n",
      "/usr/local/lib/python3.10/dist-packages/trax/tf_numpy/numpy_impl\n",
      "/usr/local/lib/python3.10/dist-packages/numba/np/numpy_support.py\n",
      "/usr/local/lib/python3.10/dist-packages/numba/np/__pycache__/numpy_support.cpython-310.pyc\n",
      "/usr/local/lib/python3.10/dist-packages/numpy-1.26.4.dist-info\n",
      "/usr/local/lib/python3.10/dist-packages/numpy\n",
      "/usr/local/lib/python3.10/dist-packages/numpy/distutils/numpy_distribution.py\n",
      "/usr/local/lib/python3.10/dist-packages/numpy/distutils/__pycache__/numpy_distribution.cpython-310.pyc\n",
      "/usr/local/lib/python3.10/dist-packages/numpy/core/include/numpy\n",
      "/usr/local/lib/python3.10/dist-packages/numpy/core/include/numpy/numpyconfig.h\n",
      "/usr/local/lib/python3.10/dist-packages/numpy/core/tests/data/numpy_2_0_array.pkl\n",
      "/usr/local/lib/python3.10/dist-packages/sympy/codegen/__pycache__/numpy_nodes.cpython-310.pyc\n",
      "/usr/local/lib/python3.10/dist-packages/sympy/codegen/numpy_nodes.py\n",
      "/usr/local/lib/python3.10/dist-packages/sympy/printing/numpy.py\n",
      "/usr/local/lib/python3.10/dist-packages/sympy/printing/__pycache__/numpy.cpython-310.pyc\n",
      "/usr/local/lib/python3.10/dist-packages/torch/include/pybind11/numpy.h\n",
      "/usr/local/lib/python3.10/dist-packages/torch/include/torch/csrc/utils/numpy_stub.h\n",
      "/usr/local/lib/python3.10/dist-packages/torch/include/ATen/ops/numpy_T_compositeimplicitautograd_dispatch.h\n",
      "/usr/local/lib/python3.10/dist-packages/torch/include/ATen/ops/numpy_T.h\n",
      "/usr/local/lib/python3.10/dist-packages/torch/include/ATen/ops/numpy_T_ops.h\n",
      "/usr/local/lib/python3.10/dist-packages/torch/include/ATen/ops/numpy_T_native.h\n",
      "/usr/local/lib/python3.10/dist-packages/rpy2/robjects/numpy2ri.py\n",
      "/usr/local/lib/python3.10/dist-packages/rpy2/robjects/__pycache__/numpy2ri.cpython-310.pyc\n",
      "/usr/local/lib/python3.10/dist-packages/jax/numpy\n",
      "/usr/local/lib/python3.10/dist-packages/jax/_src/third_party/numpy\n",
      "/usr/local/lib/python3.10/dist-packages/jax/_src/numpy\n",
      "/usr/local/lib/python3.10/dist-packages/tensorflow_estimator/python/estimator/inputs/numpy_io.py\n",
      "/usr/local/lib/python3.10/dist-packages/tensorflow_estimator/python/estimator/inputs/__pycache__/numpy_io.cpython-310.pyc\n",
      "/usr/local/lib/python3.10/dist-packages/joblib/numpy_pickle_utils.py\n",
      "/usr/local/lib/python3.10/dist-packages/joblib/numpy_pickle.py\n",
      "/usr/local/lib/python3.10/dist-packages/joblib/__pycache__/numpy_pickle_utils.cpython-310.pyc\n",
      "/usr/local/lib/python3.10/dist-packages/joblib/__pycache__/numpy_pickle_compat.cpython-310.pyc\n",
      "/usr/local/lib/python3.10/dist-packages/joblib/__pycache__/numpy_pickle.cpython-310.pyc\n",
      "/usr/local/lib/python3.10/dist-packages/joblib/numpy_pickle_compat.py\n",
      "/usr/local/lib/python3.10/dist-packages/pyarrow/include/arrow/python/numpy_to_arrow.h\n",
      "/usr/local/lib/python3.10/dist-packages/pyarrow/include/arrow/python/numpy_convert.h\n",
      "/usr/local/lib/python3.10/dist-packages/pyarrow/include/arrow/python/numpy_interop.h\n",
      "/usr/local/lib/python3.10/dist-packages/pyarrow/src/arrow/python/numpy_internal.h\n",
      "/usr/local/lib/python3.10/dist-packages/pyarrow/src/arrow/python/numpy_convert.cc\n",
      "/usr/local/lib/python3.10/dist-packages/pyarrow/src/arrow/python/numpy_to_arrow.h\n",
      "/usr/local/lib/python3.10/dist-packages/pyarrow/src/arrow/python/numpy_to_arrow.cc\n",
      "/usr/local/lib/python3.10/dist-packages/pyarrow/src/arrow/python/numpy_convert.h\n",
      "/usr/local/lib/python3.10/dist-packages/pyarrow/src/arrow/python/numpy_interop.h\n",
      "/usr/local/lib/python3.10/dist-packages/tensorflow_probability/substrates/numpy\n",
      "/usr/local/lib/python3.10/dist-packages/tensorflow_probability/python/internal/backend/numpy\n",
      "/usr/local/lib/python3.10/dist-packages/tensorflow_probability/python/internal/backend/numpy/numpy_math.py\n",
      "/usr/local/lib/python3.10/dist-packages/tensorflow_probability/python/internal/backend/numpy/numpy_signal.py\n",
      "/usr/local/lib/python3.10/dist-packages/tensorflow_probability/python/internal/backend/numpy/numpy_keras.py\n",
      "/usr/local/lib/python3.10/dist-packages/tensorflow_probability/python/internal/backend/numpy/numpy_logging.py\n",
      "/usr/local/lib/python3.10/dist-packages/tensorflow_probability/python/internal/backend/numpy/numpy_array.py\n",
      "/usr/local/lib/python3.10/dist-packages/tensorflow_probability/python/internal/backend/numpy/__pycache__/numpy_signal.cpython-310.pyc\n",
      "/usr/local/lib/python3.10/dist-packages/tensorflow_probability/python/internal/backend/numpy/__pycache__/numpy_math.cpython-310.pyc\n",
      "/usr/local/lib/python3.10/dist-packages/tensorflow_probability/python/internal/backend/numpy/__pycache__/numpy_logging.cpython-310.pyc\n",
      "/usr/local/lib/python3.10/dist-packages/tensorflow_probability/python/internal/backend/numpy/__pycache__/numpy_array.cpython-310.pyc\n",
      "/usr/local/lib/python3.10/dist-packages/tensorflow_probability/python/internal/backend/numpy/__pycache__/numpy_keras.cpython-310.pyc\n",
      "/usr/local/lib/python3.10/dist-packages/tensorflow_probability/python/internal/backend/jax/numpy_math.py\n",
      "/usr/local/lib/python3.10/dist-packages/tensorflow_probability/python/internal/backend/jax/numpy_signal.py\n",
      "/usr/local/lib/python3.10/dist-packages/tensorflow_probability/python/internal/backend/jax/numpy_keras.py\n",
      "/usr/local/lib/python3.10/dist-packages/tensorflow_probability/python/internal/backend/jax/numpy_logging.py\n",
      "/usr/local/lib/python3.10/dist-packages/tensorflow_probability/python/internal/backend/jax/numpy_array.py\n",
      "/usr/local/lib/python3.10/dist-packages/tensorflow_probability/python/internal/backend/jax/__pycache__/numpy_signal.cpython-310.pyc\n",
      "/usr/local/lib/python3.10/dist-packages/tensorflow_probability/python/internal/backend/jax/__pycache__/numpy_math.cpython-310.pyc\n",
      "/usr/local/lib/python3.10/dist-packages/tensorflow_probability/python/internal/backend/jax/__pycache__/numpy_logging.cpython-310.pyc\n",
      "/usr/local/lib/python3.10/dist-packages/tensorflow_probability/python/internal/backend/jax/__pycache__/numpy_array.cpython-310.pyc\n",
      "/usr/local/lib/python3.10/dist-packages/tensorflow_probability/python/internal/backend/jax/__pycache__/numpy_keras.cpython-310.pyc\n",
      "/usr/local/lib/python3.10/dist-packages/tensorflow_probability/python/experimental/auto_batching/numpy_backend.py\n",
      "/usr/local/lib/python3.10/dist-packages/tensorflow_probability/python/experimental/auto_batching/__pycache__/numpy_backend.cpython-310.pyc\n",
      "/usr/local/lib/python3.10/dist-packages/pandas/compat/numpy\n",
      "/usr/local/lib/python3.10/dist-packages/pandas/tests/arrays/numpy_\n",
      "/usr/local/lib/python3.10/dist-packages/pandas/core/arrays/numpy_.py\n",
      "/usr/local/lib/python3.10/dist-packages/pandas/core/arrays/__pycache__/numpy_.cpython-310.pyc\n",
      "/usr/local/lib/python3.10/dist-packages/skimage/_vendored/numpy_lookfor.py\n",
      "/usr/local/lib/python3.10/dist-packages/skimage/_vendored/__pycache__/numpy_lookfor.cpython-310.pyc\n",
      "/usr/local/lib/python3.10/dist-packages/ml_dtypes/_src/numpy.h\n",
      "/usr/local/lib/python3.10/dist-packages/ml_dtypes/_src/numpy.cc\n",
      "/usr/local/lib/python3.10/dist-packages/numpy.libs\n",
      "/usr/local/lib/python3.10/dist-packages/scipy/_lib/array_api_compat/numpy\n",
      "/usr/local/lib/python3.10/dist-packages/gym/vector/utils/numpy_utils.py\n",
      "/usr/local/lib/python3.10/dist-packages/gym/vector/utils/__pycache__/numpy_utils.cpython-310.pyc\n",
      "/usr/local/lib/python3.10/dist-packages/docstring_parser/numpydoc.py\n",
      "/usr/local/lib/python3.10/dist-packages/docstring_parser/__pycache__/numpydoc.cpython-310.pyc\n",
      "/usr/local/lib/python3.10/dist-packages/etils/enp/numpy_utils.py\n",
      "/usr/local/lib/python3.10/dist-packages/etils/enp/__pycache__/numpy_utils.cpython-310.pyc\n",
      "/usr/local/lib/python3.10/dist-packages/safetensors/numpy.py\n",
      "/usr/local/lib/python3.10/dist-packages/safetensors/__pycache__/numpy.cpython-310.pyc\n",
      "/usr/local/lib/python3.10/dist-packages/osgeo_utils/auxiliary/numpy_util.py\n",
      "/usr/local/lib/python3.10/dist-packages/osgeo_utils/auxiliary/__pycache__/numpy_util.cpython-310.pyc\n",
      "/usr/local/lib/python3.10/dist-packages/thinc/backends/numpy_ops.pyx\n",
      "/usr/local/lib/python3.10/dist-packages/thinc/backends/numpy_ops.pxd\n",
      "/usr/local/lib/python3.10/dist-packages/thinc/backends/numpy_ops.cpython-310-x86_64-linux-gnu.so\n",
      "/usr/local/lib/python3.10/dist-packages/tensorflow_text/python/numpy\n",
      "/usr/local/lib/python3.10/dist-packages/pandas-stubs/core/arrays/numpy_.pyi\n"
     ]
    }
   ],
   "source": [
    "!find / -name 'numpy*'"
   ]
  },
  {
   "cell_type": "code",
   "execution_count": 1,
   "metadata": {
    "id": "mZ1VoKuhJlM5"
   },
   "outputs": [],
   "source": [
    "import numpy"
   ]
  },
  {
   "cell_type": "code",
   "execution_count": 1,
   "metadata": {
    "id": "lZ5fMfMPKi2O"
   },
   "outputs": [],
   "source": [
    "import numpy as np"
   ]
  },
  {
   "cell_type": "code",
   "execution_count": 6,
   "metadata": {
    "id": "x9m3kai9Mzb3"
   },
   "outputs": [],
   "source": [
    "# help(np.array)"
   ]
  },
  {
   "cell_type": "code",
   "execution_count": 8,
   "metadata": {
    "id": "SpFYTEtBM7DU"
   },
   "outputs": [],
   "source": [
    "# np.array(1,2,3)"
   ]
  },
  {
   "cell_type": "code",
   "execution_count": 2,
   "metadata": {
    "colab": {
     "base_uri": "https://localhost:8080/"
    },
    "id": "U_EfjMm1NdHM",
    "outputId": "5cfe387f-ab3f-4db8-e9b6-781e054424ad"
   },
   "outputs": [
    {
     "data": {
      "text/plain": [
       "array([1, 2, 3])"
      ]
     },
     "execution_count": 2,
     "metadata": {},
     "output_type": "execute_result"
    }
   ],
   "source": [
    "np.array([1,2,3])"
   ]
  },
  {
   "cell_type": "code",
   "execution_count": 16,
   "metadata": {
    "id": "A2ccU6SdNjEs"
   },
   "outputs": [],
   "source": [
    "arr1=np.array([1,2,3])"
   ]
  },
  {
   "cell_type": "code",
   "execution_count": 4,
   "metadata": {
    "colab": {
     "base_uri": "https://localhost:8080/"
    },
    "id": "nLPtSMdjNldO",
    "outputId": "1fe0a93f-f014-4d13-ca4c-b3eba52a6278"
   },
   "outputs": [
    {
     "data": {
      "text/plain": [
       "numpy.ndarray"
      ]
     },
     "execution_count": 4,
     "metadata": {},
     "output_type": "execute_result"
    }
   ],
   "source": [
    "type(arr1)"
   ]
  },
  {
   "cell_type": "code",
   "execution_count": 17,
   "metadata": {
    "colab": {
     "base_uri": "https://localhost:8080/"
    },
    "id": "Dxs4d8EWNnJU",
    "outputId": "e38f7b0b-5cd7-408c-abcc-a2d200b38e16"
   },
   "outputs": [
    {
     "data": {
      "text/plain": [
       "(3,)"
      ]
     },
     "execution_count": 17,
     "metadata": {},
     "output_type": "execute_result"
    }
   ],
   "source": [
    "arr1.shape"
   ]
  },
  {
   "cell_type": "code",
   "execution_count": 18,
   "metadata": {
    "colab": {
     "base_uri": "https://localhost:8080/"
    },
    "id": "EjHGEvP-bZmn",
    "outputId": "63c00d01-e21f-4e4b-8e7c-790610ed6a21"
   },
   "outputs": [
    {
     "data": {
      "text/plain": [
       "3"
      ]
     },
     "execution_count": 18,
     "metadata": {},
     "output_type": "execute_result"
    }
   ],
   "source": [
    "arr1.size"
   ]
  },
  {
   "cell_type": "code",
   "execution_count": 19,
   "metadata": {
    "colab": {
     "base_uri": "https://localhost:8080/"
    },
    "id": "8sePfJBCcKuB",
    "outputId": "ddd7f647-107b-4191-a7e7-f17f59855852"
   },
   "outputs": [
    {
     "data": {
      "text/plain": [
       "1"
      ]
     },
     "execution_count": 19,
     "metadata": {},
     "output_type": "execute_result"
    }
   ],
   "source": [
    "arr1.ndim"
   ]
  },
  {
   "cell_type": "code",
   "execution_count": 10,
   "metadata": {
    "id": "Lp5DJAm4bf2O"
   },
   "outputs": [],
   "source": [
    "arr2=np.array([[1,2,3], [4,5,6]])"
   ]
  },
  {
   "cell_type": "code",
   "execution_count": 11,
   "metadata": {
    "colab": {
     "base_uri": "https://localhost:8080/"
    },
    "id": "hHROvqCjbwnY",
    "outputId": "eae04593-bff0-47b6-da16-aa1da6149056"
   },
   "outputs": [
    {
     "data": {
      "text/plain": [
       "(2, 3)"
      ]
     },
     "execution_count": 11,
     "metadata": {},
     "output_type": "execute_result"
    }
   ],
   "source": [
    "arr2.shape"
   ]
  },
  {
   "cell_type": "code",
   "execution_count": 12,
   "metadata": {
    "colab": {
     "base_uri": "https://localhost:8080/"
    },
    "id": "NCHtSIHgbye_",
    "outputId": "01946013-2b7f-4a8b-8389-a6e9248ce0b8"
   },
   "outputs": [
    {
     "data": {
      "text/plain": [
       "array([[1, 2, 3],\n",
       "       [4, 5, 6]])"
      ]
     },
     "execution_count": 12,
     "metadata": {},
     "output_type": "execute_result"
    }
   ],
   "source": [
    "arr2"
   ]
  },
  {
   "cell_type": "code",
   "execution_count": 13,
   "metadata": {
    "colab": {
     "base_uri": "https://localhost:8080/"
    },
    "id": "zukJh5oCb0T4",
    "outputId": "22febd61-2ac1-43b5-c278-7db6fef0f53e"
   },
   "outputs": [
    {
     "data": {
      "text/plain": [
       "6"
      ]
     },
     "execution_count": 13,
     "metadata": {},
     "output_type": "execute_result"
    }
   ],
   "source": [
    "arr2.size"
   ]
  },
  {
   "cell_type": "code",
   "execution_count": 14,
   "metadata": {
    "colab": {
     "base_uri": "https://localhost:8080/"
    },
    "id": "exr2qn1cb-be",
    "outputId": "b37dcefb-e5ce-47b5-9de8-08619f6c769d"
   },
   "outputs": [
    {
     "data": {
      "text/plain": [
       "2"
      ]
     },
     "execution_count": 14,
     "metadata": {},
     "output_type": "execute_result"
    }
   ],
   "source": [
    "arr2.ndim"
   ]
  },
  {
   "cell_type": "code",
   "execution_count": 20,
   "metadata": {
    "id": "FaEa9rnNcJv3"
   },
   "outputs": [],
   "source": [
    "arr3=np.array([[[1,2,3], [4,5,6]], [[1,2,3], [4,5,6]]])"
   ]
  },
  {
   "cell_type": "code",
   "execution_count": 21,
   "metadata": {
    "colab": {
     "base_uri": "https://localhost:8080/"
    },
    "id": "sg2b0NMYcyBG",
    "outputId": "4bbcd57b-8bb7-47d8-eb65-657d760374fa"
   },
   "outputs": [
    {
     "data": {
      "text/plain": [
       "3"
      ]
     },
     "execution_count": 21,
     "metadata": {},
     "output_type": "execute_result"
    }
   ],
   "source": [
    "arr3.ndim"
   ]
  },
  {
   "cell_type": "code",
   "execution_count": 22,
   "metadata": {
    "colab": {
     "base_uri": "https://localhost:8080/"
    },
    "id": "PedZrBDtc0E_",
    "outputId": "13a7e1cd-cd3c-48e5-cfe4-b04aa73e6e47"
   },
   "outputs": [
    {
     "data": {
      "text/plain": [
       "array([[[1, 2, 3],\n",
       "        [4, 5, 6]],\n",
       "\n",
       "       [[1, 2, 3],\n",
       "        [4, 5, 6]]])"
      ]
     },
     "execution_count": 22,
     "metadata": {},
     "output_type": "execute_result"
    }
   ],
   "source": [
    "arr3"
   ]
  },
  {
   "cell_type": "code",
   "execution_count": 23,
   "metadata": {
    "colab": {
     "base_uri": "https://localhost:8080/"
    },
    "id": "_ltvqR1Sc1Rv",
    "outputId": "32aa4cea-6257-44dd-ec59-81d28a2a4a91"
   },
   "outputs": [
    {
     "data": {
      "text/plain": [
       "12"
      ]
     },
     "execution_count": 23,
     "metadata": {},
     "output_type": "execute_result"
    }
   ],
   "source": [
    "arr3.size"
   ]
  },
  {
   "cell_type": "code",
   "execution_count": 24,
   "metadata": {
    "colab": {
     "base_uri": "https://localhost:8080/"
    },
    "id": "X1rwxkxsc9X2",
    "outputId": "011e666d-0a86-4c36-93de-91c664211b7f"
   },
   "outputs": [
    {
     "data": {
      "text/plain": [
       "(2, 2, 3)"
      ]
     },
     "execution_count": 24,
     "metadata": {},
     "output_type": "execute_result"
    }
   ],
   "source": [
    "arr3.shape"
   ]
  },
  {
   "cell_type": "code",
   "execution_count": 25,
   "metadata": {
    "id": "IYMshK-ic_ad"
   },
   "outputs": [],
   "source": [
    "arr=np.array([[1],\n",
    "              [2],\n",
    "              [-1.0],\n",
    "              [3.14]])"
   ]
  },
  {
   "cell_type": "code",
   "execution_count": 26,
   "metadata": {
    "colab": {
     "base_uri": "https://localhost:8080/"
    },
    "id": "nYm7pY7Odwo_",
    "outputId": "2669be0a-2987-41c5-e029-ca7599c92bdb"
   },
   "outputs": [
    {
     "data": {
      "text/plain": [
       "array([[ 1.  ],\n",
       "       [ 2.  ],\n",
       "       [-1.  ],\n",
       "       [ 3.14]])"
      ]
     },
     "execution_count": 26,
     "metadata": {},
     "output_type": "execute_result"
    }
   ],
   "source": [
    "arr"
   ]
  },
  {
   "cell_type": "code",
   "execution_count": 27,
   "metadata": {
    "colab": {
     "base_uri": "https://localhost:8080/"
    },
    "id": "HELBKdzxdxuf",
    "outputId": "73c82e42-6113-472e-d44f-e621e6f0f098"
   },
   "outputs": [
    {
     "data": {
      "text/plain": [
       "(4, 1)"
      ]
     },
     "execution_count": 27,
     "metadata": {},
     "output_type": "execute_result"
    }
   ],
   "source": [
    "arr.shape"
   ]
  },
  {
   "cell_type": "code",
   "execution_count": 28,
   "metadata": {
    "colab": {
     "base_uri": "https://localhost:8080/"
    },
    "id": "ShFw7mUad153",
    "outputId": "7497c328-b635-4ddc-9879-64d4c1b248bc"
   },
   "outputs": [
    {
     "data": {
      "text/plain": [
       "2"
      ]
     },
     "execution_count": 28,
     "metadata": {},
     "output_type": "execute_result"
    }
   ],
   "source": [
    "arr.ndim"
   ]
  },
  {
   "cell_type": "code",
   "execution_count": 29,
   "metadata": {
    "id": "pAZzNAJ0d36f"
   },
   "outputs": [],
   "source": [
    "arr4=np.array([[[[1,2,-1.0,3.14]]]])"
   ]
  },
  {
   "cell_type": "code",
   "execution_count": 30,
   "metadata": {
    "colab": {
     "base_uri": "https://localhost:8080/"
    },
    "id": "wiOkobddeG7G",
    "outputId": "f6da7048-e5ec-4352-f489-ef5441be4f02"
   },
   "outputs": [
    {
     "data": {
      "text/plain": [
       "array([[[[ 1.  ,  2.  , -1.  ,  3.14]]]])"
      ]
     },
     "execution_count": 30,
     "metadata": {},
     "output_type": "execute_result"
    }
   ],
   "source": [
    "arr4"
   ]
  },
  {
   "cell_type": "code",
   "execution_count": 31,
   "metadata": {
    "colab": {
     "base_uri": "https://localhost:8080/"
    },
    "id": "ZL8LZyIbeIBO",
    "outputId": "b55e0be5-3f8d-480e-fbc0-ec6e0a090c31"
   },
   "outputs": [
    {
     "data": {
      "text/plain": [
       "4"
      ]
     },
     "execution_count": 31,
     "metadata": {},
     "output_type": "execute_result"
    }
   ],
   "source": [
    "arr4.ndim"
   ]
  },
  {
   "cell_type": "code",
   "execution_count": 32,
   "metadata": {
    "colab": {
     "base_uri": "https://localhost:8080/"
    },
    "id": "z1ylJ2CceKMw",
    "outputId": "fadcf9a6-656a-4130-9904-48d4bc714491"
   },
   "outputs": [
    {
     "data": {
      "text/plain": [
       "(1, 1, 1, 4)"
      ]
     },
     "execution_count": 32,
     "metadata": {},
     "output_type": "execute_result"
    }
   ],
   "source": [
    "arr4.shape"
   ]
  },
  {
   "cell_type": "code",
   "execution_count": 34,
   "metadata": {
    "id": "_mmcbnjCeM4n"
   },
   "outputs": [],
   "source": [
    "# 배열(넘파이 배열, np.array)  계산"
   ]
  },
  {
   "cell_type": "code",
   "execution_count": 37,
   "metadata": {
    "id": "hYvesCzVelwq"
   },
   "outputs": [],
   "source": [
    "mu=np.array([1,2,3])"
   ]
  },
  {
   "cell_type": "code",
   "execution_count": 36,
   "metadata": {
    "id": "18e7hexqetDO"
   },
   "outputs": [],
   "source": [
    "nu=np.array([4,4,4])"
   ]
  },
  {
   "cell_type": "code",
   "execution_count": 39,
   "metadata": {
    "colab": {
     "base_uri": "https://localhost:8080/"
    },
    "id": "20Baa6Xtevh6",
    "outputId": "d99e806f-8965-43a5-81ff-a0536a3e0cac"
   },
   "outputs": [
    {
     "data": {
      "text/plain": [
       "array([5, 6, 7])"
      ]
     },
     "execution_count": 39,
     "metadata": {},
     "output_type": "execute_result"
    }
   ],
   "source": [
    "mu + nu"
   ]
  },
  {
   "cell_type": "code",
   "execution_count": 40,
   "metadata": {
    "colab": {
     "base_uri": "https://localhost:8080/"
    },
    "id": "2fYCInLae_wx",
    "outputId": "0aefe941-2870-49bd-af73-d2898936a7cf"
   },
   "outputs": [
    {
     "data": {
      "text/plain": [
       "array([10, 12, 14])"
      ]
     },
     "execution_count": 40,
     "metadata": {},
     "output_type": "execute_result"
    }
   ],
   "source": [
    "2* (mu + nu)"
   ]
  },
  {
   "cell_type": "code",
   "execution_count": 41,
   "metadata": {
    "id": "0LiRKA7KfMZv"
   },
   "outputs": [],
   "source": [
    "# 행렬의 연산"
   ]
  },
  {
   "cell_type": "code",
   "execution_count": 42,
   "metadata": {
    "id": "akguhI3IfSrh"
   },
   "outputs": [],
   "source": [
    "A=np.array([[3,6], [4,5]])"
   ]
  },
  {
   "cell_type": "code",
   "execution_count": 43,
   "metadata": {
    "colab": {
     "base_uri": "https://localhost:8080/"
    },
    "id": "KsPvhRSxfWuw",
    "outputId": "a399ffcc-317e-4808-f976-2f728154d6a0"
   },
   "outputs": [
    {
     "data": {
      "text/plain": [
       "array([[3, 6],\n",
       "       [4, 5]])"
      ]
     },
     "execution_count": 43,
     "metadata": {},
     "output_type": "execute_result"
    }
   ],
   "source": [
    "A"
   ]
  },
  {
   "cell_type": "code",
   "execution_count": 44,
   "metadata": {
    "id": "4GW0Cb5DfXN4"
   },
   "outputs": [],
   "source": [
    "B=np.array([[5,8], [6,7]])"
   ]
  },
  {
   "cell_type": "code",
   "execution_count": 45,
   "metadata": {
    "colab": {
     "base_uri": "https://localhost:8080/"
    },
    "id": "eXD-fGPEfbz5",
    "outputId": "009bc7ee-814a-4f0a-996a-d872a4e0bbb3"
   },
   "outputs": [
    {
     "data": {
      "text/plain": [
       "array([[ 8, 14],\n",
       "       [10, 12]])"
      ]
     },
     "execution_count": 45,
     "metadata": {},
     "output_type": "execute_result"
    }
   ],
   "source": [
    "A + B"
   ]
  },
  {
   "cell_type": "code",
   "execution_count": 46,
   "metadata": {
    "colab": {
     "base_uri": "https://localhost:8080/"
    },
    "id": "W_4zIOO8f3xn",
    "outputId": "f97c96b1-4096-4a8a-91fd-b684684ba0e4"
   },
   "outputs": [
    {
     "data": {
      "text/plain": [
       "array([[-2, -2],\n",
       "       [-2, -2]])"
      ]
     },
     "execution_count": 46,
     "metadata": {},
     "output_type": "execute_result"
    }
   ],
   "source": [
    "A - B"
   ]
  },
  {
   "cell_type": "code",
   "execution_count": 50,
   "metadata": {
    "colab": {
     "base_uri": "https://localhost:8080/",
     "height": 187
    },
    "id": "DKveucaFgil_",
    "outputId": "50b33690-d112-4e7f-f66c-1ab83afeb48d"
   },
   "outputs": [
    {
     "ename": "ValueError",
     "evalue": "setting an array element with a sequence. The requested array has an inhomogeneous shape after 1 dimensions. The detected shape was (2,) + inhomogeneous part.",
     "output_type": "error",
     "traceback": [
      "\u001b[0;31m---------------------------------------------------------------------------\u001b[0m",
      "\u001b[0;31mValueError\u001b[0m                                Traceback (most recent call last)",
      "\u001b[0;32m<ipython-input-50-1d36435b7f91>\u001b[0m in \u001b[0;36m<cell line: 1>\u001b[0;34m()\u001b[0m\n\u001b[0;32m----> 1\u001b[0;31m \u001b[0mD\u001b[0m\u001b[0;34m=\u001b[0m\u001b[0mnp\u001b[0m\u001b[0;34m.\u001b[0m\u001b[0marray\u001b[0m\u001b[0;34m(\u001b[0m\u001b[0;34m[\u001b[0m\u001b[0;34m[\u001b[0m\u001b[0;36m5\u001b[0m\u001b[0;34m,\u001b[0m\u001b[0;36m8\u001b[0m\u001b[0;34m,\u001b[0m\u001b[0;36m9\u001b[0m\u001b[0;34m]\u001b[0m\u001b[0;34m,\u001b[0m \u001b[0;34m[\u001b[0m\u001b[0;36m6\u001b[0m\u001b[0;34m,\u001b[0m\u001b[0;36m7\u001b[0m\u001b[0;34m]\u001b[0m\u001b[0;34m]\u001b[0m\u001b[0;34m)\u001b[0m\u001b[0;34m\u001b[0m\u001b[0;34m\u001b[0m\u001b[0m\n\u001b[0m",
      "\u001b[0;31mValueError\u001b[0m: setting an array element with a sequence. The requested array has an inhomogeneous shape after 1 dimensions. The detected shape was (2,) + inhomogeneous part."
     ]
    }
   ],
   "source": [
    "D=np.array([[5,8,9], [6,7]])"
   ]
  },
  {
   "cell_type": "code",
   "execution_count": 48,
   "metadata": {
    "id": "AVVfuirLf76R"
   },
   "outputs": [],
   "source": [
    "C=np.array([[5,8,9], [6,7,3]])"
   ]
  },
  {
   "cell_type": "code",
   "execution_count": 49,
   "metadata": {
    "colab": {
     "base_uri": "https://localhost:8080/",
     "height": 149
    },
    "id": "UxeFrIVrgDWf",
    "outputId": "8bf5cbb4-239d-4bb2-a0b7-4a56525591a4"
   },
   "outputs": [
    {
     "ename": "ValueError",
     "evalue": "operands could not be broadcast together with shapes (2,2) (2,3) ",
     "output_type": "error",
     "traceback": [
      "\u001b[0;31m---------------------------------------------------------------------------\u001b[0m",
      "\u001b[0;31mValueError\u001b[0m                                Traceback (most recent call last)",
      "\u001b[0;32m<ipython-input-49-c3cb66996588>\u001b[0m in \u001b[0;36m<cell line: 1>\u001b[0;34m()\u001b[0m\n\u001b[0;32m----> 1\u001b[0;31m \u001b[0mA\u001b[0m \u001b[0;34m+\u001b[0m \u001b[0mC\u001b[0m\u001b[0;34m\u001b[0m\u001b[0;34m\u001b[0m\u001b[0m\n\u001b[0m",
      "\u001b[0;31mValueError\u001b[0m: operands could not be broadcast together with shapes (2,2) (2,3) "
     ]
    }
   ],
   "source": [
    "A + C"
   ]
  },
  {
   "cell_type": "code",
   "execution_count": 51,
   "metadata": {
    "colab": {
     "base_uri": "https://localhost:8080/"
    },
    "id": "yGZaD4h7gc9f",
    "outputId": "9aeca343-ee14-462c-fd86-e8e8c5fb1f6b"
   },
   "outputs": [
    {
     "data": {
      "text/plain": [
       "True"
      ]
     },
     "execution_count": 51,
     "metadata": {},
     "output_type": "execute_result"
    }
   ],
   "source": [
    "np.all([True,True,True])"
   ]
  },
  {
   "cell_type": "code",
   "execution_count": 52,
   "metadata": {
    "colab": {
     "base_uri": "https://localhost:8080/"
    },
    "id": "lQ0SYhOLhrIn",
    "outputId": "7b74675f-2ef6-4099-e237-a5fccc2b042c"
   },
   "outputs": [
    {
     "data": {
      "text/plain": [
       "False"
      ]
     },
     "execution_count": 52,
     "metadata": {},
     "output_type": "execute_result"
    }
   ],
   "source": [
    "np.all([True,True,False])"
   ]
  },
  {
   "cell_type": "code",
   "execution_count": 53,
   "metadata": {
    "colab": {
     "base_uri": "https://localhost:8080/"
    },
    "id": "PqvphkiIhtEi",
    "outputId": "71f78bdf-9846-4770-ceb9-8832804dd4fe"
   },
   "outputs": [
    {
     "data": {
      "text/plain": [
       "False"
      ]
     },
     "execution_count": 53,
     "metadata": {},
     "output_type": "execute_result"
    }
   ],
   "source": [
    "np.any([False,False,False])"
   ]
  },
  {
   "cell_type": "code",
   "execution_count": 54,
   "metadata": {
    "colab": {
     "base_uri": "https://localhost:8080/"
    },
    "id": "EM7wjdBshxmH",
    "outputId": "99bffe80-d3fc-4e08-93f2-3bdd627a0cfa"
   },
   "outputs": [
    {
     "data": {
      "text/plain": [
       "True"
      ]
     },
     "execution_count": 54,
     "metadata": {},
     "output_type": "execute_result"
    }
   ],
   "source": [
    "np.any([True,False,False])"
   ]
  },
  {
   "cell_type": "code",
   "execution_count": null,
   "metadata": {
    "id": "FCfGylAthzeQ"
   },
   "outputs": [],
   "source": []
  }
 ],
 "metadata": {
  "accelerator": "TPU",
  "colab": {
   "gpuType": "V28",
   "provenance": []
  },
  "kernelspec": {
   "display_name": "Python 3 (ipykernel)",
   "language": "python",
   "name": "python3"
  },
  "language_info": {
   "codemirror_mode": {
    "name": "ipython",
    "version": 3
   },
   "file_extension": ".py",
   "mimetype": "text/x-python",
   "name": "python",
   "nbconvert_exporter": "python",
   "pygments_lexer": "ipython3",
   "version": "3.12.4"
  }
 },
 "nbformat": 4,
 "nbformat_minor": 4
}
