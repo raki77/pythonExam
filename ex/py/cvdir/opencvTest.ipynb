{
 "cells": [
  {
   "cell_type": "code",
   "execution_count": 2,
   "metadata": {},
   "outputs": [],
   "source": [
    "import cv2 as cv"
   ]
  },
  {
   "cell_type": "code",
   "execution_count": 2,
   "metadata": {},
   "outputs": [],
   "source": [
    "import tensorflow as tf"
   ]
  },
  {
   "cell_type": "code",
   "execution_count": 3,
   "metadata": {},
   "outputs": [],
   "source": [
    "import numpy as np"
   ]
  },
  {
   "cell_type": "code",
   "execution_count": 4,
   "metadata": {},
   "outputs": [
    {
     "data": {
      "text/plain": [
       "'4.10.0'"
      ]
     },
     "execution_count": 4,
     "metadata": {},
     "output_type": "execute_result"
    }
   ],
   "source": [
    "cv.__version__"
   ]
  },
  {
   "cell_type": "code",
   "execution_count": 3,
   "metadata": {},
   "outputs": [],
   "source": [
    "img = cv.imread('C:/ex/data/cat1.jpg')"
   ]
  },
  {
   "cell_type": "code",
   "execution_count": 6,
   "metadata": {},
   "outputs": [
    {
     "data": {
      "text/plain": [
       "array([[[107,  63,  50],\n",
       "        [107,  63,  50],\n",
       "        [106,  62,  49],\n",
       "        ...,\n",
       "        [128,  76,  60],\n",
       "        [127,  75,  59],\n",
       "        [126,  74,  58]],\n",
       "\n",
       "       [[106,  62,  49],\n",
       "        [106,  62,  49],\n",
       "        [106,  62,  49],\n",
       "        ...,\n",
       "        [128,  76,  60],\n",
       "        [127,  75,  59],\n",
       "        [126,  74,  58]],\n",
       "\n",
       "       [[107,  63,  50],\n",
       "        [107,  63,  50],\n",
       "        [106,  62,  49],\n",
       "        ...,\n",
       "        [127,  75,  59],\n",
       "        [127,  75,  59],\n",
       "        [126,  74,  58]],\n",
       "\n",
       "       ...,\n",
       "\n",
       "       [[ 88,  44,  31],\n",
       "        [ 88,  44,  31],\n",
       "        [ 88,  43,  30],\n",
       "        ...,\n",
       "        [116,  56,  44],\n",
       "        [118,  58,  46],\n",
       "        [117,  57,  45]],\n",
       "\n",
       "       [[ 85,  40,  29],\n",
       "        [ 86,  41,  30],\n",
       "        [ 88,  42,  31],\n",
       "        ...,\n",
       "        [115,  55,  43],\n",
       "        [116,  56,  44],\n",
       "        [118,  58,  46]],\n",
       "\n",
       "       [[ 86,  41,  30],\n",
       "        [ 87,  42,  31],\n",
       "        [ 90,  44,  33],\n",
       "        ...,\n",
       "        [118,  58,  46],\n",
       "        [118,  58,  46],\n",
       "        [116,  56,  44]]], dtype=uint8)"
      ]
     },
     "execution_count": 6,
     "metadata": {},
     "output_type": "execute_result"
    }
   ],
   "source": [
    "img"
   ]
  },
  {
   "cell_type": "code",
   "execution_count": 7,
   "metadata": {},
   "outputs": [
    {
     "data": {
      "text/plain": [
       "(640, 425, 3)"
      ]
     },
     "execution_count": 7,
     "metadata": {},
     "output_type": "execute_result"
    }
   ],
   "source": [
    "img.shape"
   ]
  },
  {
   "cell_type": "code",
   "execution_count": 4,
   "metadata": {},
   "outputs": [],
   "source": [
    "cv.imshow(\"cat\", img)\n",
    "cv.waitKey()\n",
    "cv.destroyAllWindows()"
   ]
  },
  {
   "cell_type": "code",
   "execution_count": 5,
   "metadata": {},
   "outputs": [],
   "source": [
    "grayimg = cv.cvtColor(img, cv.COLOR_BGR2GRAY)"
   ]
  },
  {
   "cell_type": "code",
   "execution_count": 6,
   "metadata": {},
   "outputs": [],
   "source": [
    "cv.imshow(\"cat\", grayimg)\n",
    "cv.waitKey()\n",
    "cv.destroyAllWindows()"
   ]
  },
  {
   "cell_type": "code",
   "execution_count": null,
   "metadata": {},
   "outputs": [],
   "source": []
  }
 ],
 "metadata": {
  "kernelspec": {
   "display_name": "cv",
   "language": "python",
   "name": "python3"
  },
  "language_info": {
   "codemirror_mode": {
    "name": "ipython",
    "version": 3
   },
   "file_extension": ".py",
   "mimetype": "text/x-python",
   "name": "python",
   "nbconvert_exporter": "python",
   "pygments_lexer": "ipython3",
   "version": "3.9.16"
  }
 },
 "nbformat": 4,
 "nbformat_minor": 2
}
