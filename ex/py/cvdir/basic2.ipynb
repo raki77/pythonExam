{
 "cells": [
  {
   "cell_type": "code",
   "execution_count": 1,
   "metadata": {},
   "outputs": [],
   "source": [
    "import cv2"
   ]
  },
  {
   "cell_type": "code",
   "execution_count": 2,
   "metadata": {},
   "outputs": [
    {
     "ename": "error",
     "evalue": "OpenCV(4.10.0) D:\\a\\opencv-python\\opencv-python\\opencv\\modules\\highgui\\src\\window_w32.cpp:1261: error: (-27:Null pointer) NULL window: 'gray' in function 'cvDestroyWindow'\n",
     "output_type": "error",
     "traceback": [
      "\u001b[1;31m---------------------------------------------------------------------------\u001b[0m",
      "\u001b[1;31merror\u001b[0m                                     Traceback (most recent call last)",
      "Cell \u001b[1;32mIn[2], line 11\u001b[0m\n\u001b[0;32m      8\u001b[0m cv2\u001b[38;5;241m.\u001b[39mimshow(\u001b[38;5;124m'\u001b[39m\u001b[38;5;124mgray\u001b[39m\u001b[38;5;124m'\u001b[39m, img_gray)                            \u001b[38;5;66;03m# gray 창에 이미지 표시\u001b[39;00m\n\u001b[0;32m     10\u001b[0m cv2\u001b[38;5;241m.\u001b[39mwaitKey(\u001b[38;5;241m0\u001b[39m)                                          \u001b[38;5;66;03m# 아무키나 누르면\u001b[39;00m\n\u001b[1;32m---> 11\u001b[0m \u001b[43mcv2\u001b[49m\u001b[38;5;241;43m.\u001b[39;49m\u001b[43mdestroyWindow\u001b[49m\u001b[43m(\u001b[49m\u001b[38;5;124;43m\"\u001b[39;49m\u001b[38;5;124;43mgray\u001b[39;49m\u001b[38;5;124;43m\"\u001b[39;49m\u001b[43m)\u001b[49m                               \u001b[38;5;66;03m# gray 창 닫기\u001b[39;00m\n",
      "\u001b[1;31merror\u001b[0m: OpenCV(4.10.0) D:\\a\\opencv-python\\opencv-python\\opencv\\modules\\highgui\\src\\window_w32.cpp:1261: error: (-27:Null pointer) NULL window: 'gray' in function 'cvDestroyWindow'\n"
     ]
    }
   ],
   "source": [
    "file_path = './img/quakwa.webp'\n",
    "img = cv2.imread(file_path)                            # 이미지를 기본 값으로 읽기\n",
    "img_gray = cv2.imread(file_path, cv2.IMREAD_GRAYSCALE)  # 이미지를 그레이 스케일로 읽기\n",
    "\n",
    "cv2.namedWindow('origin')                               # origin 이름으로 창 생성\n",
    "cv2.namedWindow('gray', cv2.WINDOW_NORMAL)              # gray 이름으로 창 생성\n",
    "cv2.imshow('origin', img)                               # origin 창에 이미지 표시\n",
    "cv2.imshow('gray', img_gray)                            # gray 창에 이미지 표시\n",
    "\n",
    "cv2.waitKey(0)                                          # 아무키나 누르면\n",
    "cv2.destroyWindow(\"gray\")                               # gray 창 닫기"
   ]
  },
  {
   "cell_type": "code",
   "execution_count": 3,
   "metadata": {},
   "outputs": [],
   "source": [
    "import cv2\n",
    "import numpy as np\n",
    "from PIL import ImageFont, ImageDraw, Image\n",
    "# 빈 이미지 생성 (배경은 흰색)\n",
    "image = np.zeros((500, 500, 3), dtype=\"uint8\")\n",
    "image.fill(255)  # 흰색 배경\n",
    "# OpenCV 이미지를 Pillow 이미지로 변환\n",
    "pil_image = Image.fromarray(image)\n",
    "# 폰트 설정 (폰트 파일 경로와 크기 설정)\n",
    "fontpath = \"./malgun.ttf\"  # TTF 폰트 파일 경로를 지정\n",
    "font = ImageFont.truetype(fontpath, 40)  # 폰트 크기를 40으로 설정\n",
    "# ImageDraw 객체 생성\n",
    "draw = ImageDraw.Draw(pil_image)\n",
    "# 한글 텍스트 그리기\n",
    "text = \"한글 텍스트\"\n",
    "draw.text((50, 200), text, font=font, fill=(0, 0, 0, 0))  # (x, y) 좌표에 텍스트 그리기\n",
    "# Pillow 이미지를 다시 OpenCV 이미지로 변환\n",
    "image = np.array(pil_image)\n",
    "# 이미지 출력\n",
    "cv2.imshow(\"Image with Korean Text\", image)\n",
    "cv2.waitKey(0)\n",
    "cv2.destroyAllWindows()"
   ]
  }
 ],
 "metadata": {
  "kernelspec": {
   "display_name": "cv",
   "language": "python",
   "name": "python3"
  },
  "language_info": {
   "codemirror_mode": {
    "name": "ipython",
    "version": 3
   },
   "file_extension": ".py",
   "mimetype": "text/x-python",
   "name": "python",
   "nbconvert_exporter": "python",
   "pygments_lexer": "ipython3",
   "version": "3.9.16"
  }
 },
 "nbformat": 4,
 "nbformat_minor": 2
}
