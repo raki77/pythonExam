{
 "cells": [
  {
   "cell_type": "code",
   "execution_count": 1,
   "id": "ca87e9fa-6594-40b7-853d-5fe6de3bb768",
   "metadata": {},
   "outputs": [],
   "source": [
    "a\t=\t[1]"
   ]
  },
  {
   "cell_type": "code",
   "execution_count": 2,
   "id": "ce3c1029-09bd-4c9c-93f7-7bfc70588f1c",
   "metadata": {},
   "outputs": [],
   "source": [
    "b\t=\t['a','b','c']"
   ]
  },
  {
   "cell_type": "code",
   "execution_count": 3,
   "id": "6216e846-176a-431d-aab9-513b237792d7",
   "metadata": {},
   "outputs": [
    {
     "data": {
      "text/plain": [
       "[1]"
      ]
     },
     "execution_count": 3,
     "metadata": {},
     "output_type": "execute_result"
    }
   ],
   "source": [
    "a[0:1]"
   ]
  },
  {
   "cell_type": "code",
   "execution_count": 4,
   "id": "76c834ac-82a4-4f6a-8744-f52116baff11",
   "metadata": {},
   "outputs": [
    {
     "data": {
      "text/plain": [
       "['b']"
      ]
     },
     "execution_count": 4,
     "metadata": {},
     "output_type": "execute_result"
    }
   ],
   "source": [
    "b[1:2]"
   ]
  },
  {
   "cell_type": "code",
   "execution_count": 5,
   "id": "04ad5b93-8cba-4bc8-bd98-e62f3a706a1c",
   "metadata": {},
   "outputs": [],
   "source": [
    "b[1:2]\t=\ta[0:1]"
   ]
  },
  {
   "cell_type": "code",
   "execution_count": 6,
   "id": "db3ca220-1ddd-4be9-937a-ca8c6626d678",
   "metadata": {},
   "outputs": [
    {
     "data": {
      "text/plain": [
       "['a', 1, 'c']"
      ]
     },
     "execution_count": 6,
     "metadata": {},
     "output_type": "execute_result"
    }
   ],
   "source": [
    "b"
   ]
  },
  {
   "cell_type": "code",
   "execution_count": 7,
   "id": "6f0b387a-b3fc-4aa2-b92d-6887aa6193a2",
   "metadata": {},
   "outputs": [],
   "source": [
    "a\t=\t[1]\n",
    "b\t=\t['a','b','c']"
   ]
  },
  {
   "cell_type": "code",
   "execution_count": 8,
   "id": "c7d0a12b-44b2-453e-8371-fffcf62b7088",
   "metadata": {},
   "outputs": [
    {
     "data": {
      "text/plain": [
       "1"
      ]
     },
     "execution_count": 8,
     "metadata": {},
     "output_type": "execute_result"
    }
   ],
   "source": [
    "a[0]"
   ]
  },
  {
   "cell_type": "code",
   "execution_count": 9,
   "id": "c3e1749d-a689-47eb-bc8c-f2c28ab1b97f",
   "metadata": {},
   "outputs": [],
   "source": [
    "b[1]\t=\ta[0]"
   ]
  },
  {
   "cell_type": "code",
   "execution_count": 10,
   "id": "a48458dd-413f-43f8-a65e-5926f188bbb6",
   "metadata": {},
   "outputs": [
    {
     "data": {
      "text/plain": [
       "['a', 1, 'c']"
      ]
     },
     "execution_count": 10,
     "metadata": {},
     "output_type": "execute_result"
    }
   ],
   "source": [
    "b"
   ]
  },
  {
   "cell_type": "code",
   "execution_count": 11,
   "id": "5ae03dab-cbaf-4e4c-b426-e45571297293",
   "metadata": {},
   "outputs": [],
   "source": [
    "a\t=\t[1]\n",
    "b\t=\t['a','b','c']\n",
    "b[1]\t=\ta[0:1]"
   ]
  },
  {
   "cell_type": "code",
   "execution_count": 12,
   "id": "aba6ef4d-28da-4ed4-a6ed-cfc184233cbe",
   "metadata": {},
   "outputs": [
    {
     "data": {
      "text/plain": [
       "['a', [1], 'c']"
      ]
     },
     "execution_count": 12,
     "metadata": {},
     "output_type": "execute_result"
    }
   ],
   "source": [
    "b"
   ]
  },
  {
   "cell_type": "code",
   "execution_count": 14,
   "id": "60048ad4-342e-4565-a838-97d664ba9aa3",
   "metadata": {},
   "outputs": [],
   "source": [
    "a\t=\t[1]\n",
    "b\t=\t['a','b','c']"
   ]
  },
  {
   "cell_type": "code",
   "execution_count": 15,
   "id": "1c092573-24a8-4b8a-aff4-7814915bbcfa",
   "metadata": {},
   "outputs": [
    {
     "data": {
      "text/plain": [
       "1"
      ]
     },
     "execution_count": 15,
     "metadata": {},
     "output_type": "execute_result"
    }
   ],
   "source": [
    "a[0]"
   ]
  },
  {
   "cell_type": "code",
   "execution_count": 16,
   "id": "ae571407-592e-4723-bf59-592655efcd4c",
   "metadata": {},
   "outputs": [
    {
     "ename": "TypeError",
     "evalue": "can only assign an iterable",
     "output_type": "error",
     "traceback": [
      "\u001b[1;31m---------------------------------------------------------------------------\u001b[0m",
      "\u001b[1;31mTypeError\u001b[0m                                 Traceback (most recent call last)",
      "Cell \u001b[1;32mIn[16], line 1\u001b[0m\n\u001b[1;32m----> 1\u001b[0m b[\u001b[38;5;241m1\u001b[39m:\u001b[38;5;241m2\u001b[39m]\t\u001b[38;5;241m=\u001b[39m\ta[\u001b[38;5;241m0\u001b[39m]\n",
      "\u001b[1;31mTypeError\u001b[0m: can only assign an iterable"
     ]
    }
   ],
   "source": [
    "b[1:2]\t=\ta[0]"
   ]
  },
  {
   "cell_type": "code",
   "execution_count": 17,
   "id": "935e3a75-f655-4b74-9c34-c5ba1bbe08d0",
   "metadata": {},
   "outputs": [],
   "source": [
    "a\t=\t[1]\n",
    "b\t=\t['a','b','c']"
   ]
  },
  {
   "cell_type": "code",
   "execution_count": 18,
   "id": "bfb5c4af-caec-49c0-8a7d-d62200bedfc1",
   "metadata": {},
   "outputs": [
    {
     "ename": "IndexError",
     "evalue": "list index out of range",
     "output_type": "error",
     "traceback": [
      "\u001b[1;31m---------------------------------------------------------------------------\u001b[0m",
      "\u001b[1;31mIndexError\u001b[0m                                Traceback (most recent call last)",
      "Cell \u001b[1;32mIn[18], line 1\u001b[0m\n\u001b[1;32m----> 1\u001b[0m b[\u001b[38;5;241m0\u001b[39m]\t\u001b[38;5;241m=\u001b[39m\ta[\u001b[38;5;241m1\u001b[39m]\n",
      "\u001b[1;31mIndexError\u001b[0m: list index out of range"
     ]
    }
   ],
   "source": [
    "b[0]\t=\ta[1]"
   ]
  },
  {
   "cell_type": "code",
   "execution_count": 25,
   "id": "e3510a03-f553-401e-afc6-ce13c807d64b",
   "metadata": {},
   "outputs": [],
   "source": [
    "a\t=\t[5,\t7,\t3]\n",
    "b\t=\t[3,\t9,\t1]\n",
    "c=a+b\n",
    "c=c.sort()"
   ]
  },
  {
   "cell_type": "code",
   "execution_count": 27,
   "id": "9eb493bc-29f1-40ed-8b7f-f8c7d6d66b9b",
   "metadata": {},
   "outputs": [
    {
     "name": "stdout",
     "output_type": "stream",
     "text": [
      "None\n"
     ]
    }
   ],
   "source": [
    "print(c)"
   ]
  },
  {
   "cell_type": "code",
   "execution_count": 29,
   "id": "e9d50eaa-f186-4be9-8d21-3dd15995c31f",
   "metadata": {},
   "outputs": [
    {
     "name": "stdout",
     "output_type": "stream",
     "text": [
      "Help on built-in function sort:\n",
      "\n",
      "sort(*, key=None, reverse=False) method of builtins.list instance\n",
      "    Sort the list in ascending order and return None.\n",
      "\n",
      "    The sort is in-place (i.e. the list itself is modified) and stable (i.e. the\n",
      "    order of two equal elements is maintained).\n",
      "\n",
      "    If a key function is given, apply it once to each list item and sort them,\n",
      "    ascending or descending, according to their function values.\n",
      "\n",
      "    The reverse flag can be set to sort in descending order.\n",
      "\n"
     ]
    }
   ],
   "source": [
    "help([].sort)"
   ]
  },
  {
   "cell_type": "code",
   "execution_count": 30,
   "id": "35f67f6e-a73b-408e-9c19-945b7fbb821d",
   "metadata": {},
   "outputs": [],
   "source": [
    "_ = 5"
   ]
  },
  {
   "cell_type": "code",
   "execution_count": 31,
   "id": "5ac9ab12-55b9-403f-a9d5-4dd7fc6c6162",
   "metadata": {},
   "outputs": [
    {
     "data": {
      "text/plain": [
       "5"
      ]
     },
     "execution_count": 31,
     "metadata": {},
     "output_type": "execute_result"
    }
   ],
   "source": [
    "_"
   ]
  },
  {
   "cell_type": "code",
   "execution_count": 32,
   "id": "db3f67be-bd67-42dc-9486-35ab44596b0b",
   "metadata": {},
   "outputs": [],
   "source": [
    "num = [1, 2, 3, 4, 5, 6]"
   ]
  },
  {
   "cell_type": "code",
   "execution_count": 33,
   "id": "337b6555-07ab-4626-800d-39d16371c5f6",
   "metadata": {},
   "outputs": [],
   "source": [
    "total=1"
   ]
  },
  {
   "cell_type": "code",
   "execution_count": 34,
   "id": "6236b4be-b07e-4ce9-8283-54010b3f9225",
   "metadata": {},
   "outputs": [],
   "source": [
    "for n in num:\n",
    "    total=total*n"
   ]
  },
  {
   "cell_type": "code",
   "execution_count": 35,
   "id": "3b90eb89-f7f9-4019-be12-f9b1bc888616",
   "metadata": {},
   "outputs": [
    {
     "data": {
      "text/plain": [
       "720"
      ]
     },
     "execution_count": 35,
     "metadata": {},
     "output_type": "execute_result"
    }
   ],
   "source": [
    "total"
   ]
  },
  {
   "cell_type": "code",
   "execution_count": 38,
   "id": "9f2e6bab-19fc-4c80-8fd1-595ce78a365b",
   "metadata": {},
   "outputs": [
    {
     "name": "stdout",
     "output_type": "stream",
     "text": [
      "one 문자\n",
      "8 숫자\n",
      "twenty 문자\n",
      "40 숫자\n"
     ]
    }
   ],
   "source": [
    "ages = ['one', 8, 'twenty', 40]\n",
    "for age in ages:\n",
    "    if type(age) == int:\n",
    "        print(age,'숫자')\n",
    "    else:\n",
    "        print(age, '문자')"
   ]
  },
  {
   "cell_type": "code",
   "execution_count": 39,
   "id": "7e18e228-9efa-4775-a784-3cfbe123c305",
   "metadata": {},
   "outputs": [
    {
     "data": {
      "text/plain": [
       "False"
      ]
     },
     "execution_count": 39,
     "metadata": {},
     "output_type": "execute_result"
    }
   ],
   "source": [
    "type(8) == 'int'"
   ]
  },
  {
   "cell_type": "code",
   "execution_count": 40,
   "id": "c488d1c9-01f5-4616-aac0-24d870e869c4",
   "metadata": {},
   "outputs": [
    {
     "data": {
      "text/plain": [
       "float"
      ]
     },
     "execution_count": 40,
     "metadata": {},
     "output_type": "execute_result"
    }
   ],
   "source": [
    "type(1 / 10)"
   ]
  },
  {
   "cell_type": "code",
   "execution_count": 46,
   "id": "f6f59b20-7ded-4774-b036-b84fd889b241",
   "metadata": {},
   "outputs": [
    {
     "name": "stdin",
     "output_type": "stream",
     "text": [
      "자연수 a를 입력하세요. :  20\n"
     ]
    },
    {
     "name": "stdout",
     "output_type": "stream",
     "text": [
      "a는 10의 배수\n"
     ]
    }
   ],
   "source": [
    "a = int(input('자연수 a를 입력하세요. : '))\n",
    "if a % 10 == 0:\n",
    "    print('a는 10의 배수')\n",
    "else:\n",
    "    print('a는 10의 배수가 아님')"
   ]
  },
  {
   "cell_type": "code",
   "execution_count": 49,
   "id": "d50852d1-46d8-43af-abab-01e07161b0ea",
   "metadata": {},
   "outputs": [
    {
     "name": "stdout",
     "output_type": "stream",
     "text": [
      "***             ****\n"
     ]
    }
   ],
   "source": [
    "print(\"***    *\\b         ****\")"
   ]
  },
  {
   "cell_type": "code",
   "execution_count": 50,
   "id": "66216d20-f7a1-437d-becb-753194bd0be2",
   "metadata": {},
   "outputs": [],
   "source": [
    "course_name\t=\t'This\tis\tNew\tAI\tWorld'"
   ]
  },
  {
   "cell_type": "code",
   "execution_count": 51,
   "id": "e4dedb08-45a8-47a5-b77c-420be30b04df",
   "metadata": {},
   "outputs": [
    {
     "name": "stdout",
     "output_type": "stream",
     "text": [
      "a\n",
      "b\n",
      "c\n"
     ]
    }
   ],
   "source": [
    "for i in \"abc\":\n",
    "    print(i)"
   ]
  },
  {
   "cell_type": "code",
   "execution_count": 52,
   "id": "bc5ffb41-a916-43e4-b3ce-a7499991bdc9",
   "metadata": {},
   "outputs": [
    {
     "name": "stdout",
     "output_type": "stream",
     "text": [
      "This\tis\tNew\tAI\tWorld\n"
     ]
    }
   ],
   "source": [
    "course_name\t=\t'This\tis\tNew\tAI\tWorld'\n",
    "# for\ti\tin\tcourse_name:\n",
    "#     if\ti\t==\t'world':\n",
    "#         i\t=\tcourse_name.lower()\n",
    "# print(course_name)"
   ]
  },
  {
   "cell_type": "code",
   "execution_count": 53,
   "id": "8705a2f8-96a3-44d2-bcc7-5ccc2b1cf431",
   "metadata": {},
   "outputs": [
    {
     "name": "stdout",
     "output_type": "stream",
     "text": [
      "T\n",
      "h\n",
      "i\n",
      "s\n",
      "\t\n",
      "i\n",
      "s\n",
      "\t\n",
      "N\n",
      "e\n",
      "w\n",
      "\t\n",
      "A\n",
      "I\n",
      "\t\n",
      "W\n",
      "o\n",
      "r\n",
      "l\n",
      "d\n"
     ]
    }
   ],
   "source": [
    "for\ti\tin\tcourse_name:\n",
    "    print(i)"
   ]
  },
  {
   "cell_type": "code",
   "execution_count": 54,
   "id": "8e94bf77-6b9d-4092-9734-7e179701da9c",
   "metadata": {},
   "outputs": [],
   "source": [
    "word\t=\t'word'"
   ]
  },
  {
   "cell_type": "code",
   "execution_count": 57,
   "id": "2a37bf2e-8185-4ef6-a112-953ade71f62a",
   "metadata": {},
   "outputs": [
    {
     "name": "stdout",
     "output_type": "stream",
     "text": [
      "|word      |\n"
     ]
    }
   ],
   "source": [
    "print(f\"|{word:10}|\")"
   ]
  },
  {
   "cell_type": "code",
   "execution_count": 58,
   "id": "457d397b-c4fc-4556-808b-404ead1d0f34",
   "metadata": {},
   "outputs": [
    {
     "name": "stdout",
     "output_type": "stream",
     "text": [
      "|word      |\n"
     ]
    }
   ],
   "source": [
    "print(f\"|{word:<10}|\")"
   ]
  },
  {
   "cell_type": "code",
   "execution_count": 59,
   "id": "4694b18f-21a6-4282-bc01-10bbcc41cc6f",
   "metadata": {},
   "outputs": [
    {
     "name": "stdout",
     "output_type": "stream",
     "text": [
      "|   word   |\n"
     ]
    }
   ],
   "source": [
    "print(f\"|{word:^10}|\")"
   ]
  },
  {
   "cell_type": "code",
   "execution_count": 60,
   "id": "2182c0d4-a3f1-4cdd-99a6-90c7ed2b013d",
   "metadata": {},
   "outputs": [
    {
     "name": "stdout",
     "output_type": "stream",
     "text": [
      "|      word|\n"
     ]
    }
   ],
   "source": [
    "print(f\"|{word:>10}|\")"
   ]
  },
  {
   "cell_type": "code",
   "execution_count": 63,
   "id": "d26d2875-3fce-40e5-957b-1e11c88d76fc",
   "metadata": {},
   "outputs": [],
   "source": [
    "def f1():\n",
    "    num1=5 #num1은 지역 변수\n",
    "    print(num1)"
   ]
  },
  {
   "cell_type": "code",
   "execution_count": 62,
   "id": "703fa41f-d600-4e39-8f5f-500d1add73c2",
   "metadata": {},
   "outputs": [
    {
     "name": "stdout",
     "output_type": "stream",
     "text": [
      "5\n"
     ]
    }
   ],
   "source": [
    "f1()"
   ]
  },
  {
   "cell_type": "code",
   "execution_count": 67,
   "id": "561dd72e-395f-408a-be13-ce0632c17c5e",
   "metadata": {},
   "outputs": [],
   "source": [
    "a=3\n",
    "def f1():\n",
    "    num1=8 #num1은 지역 변수\n",
    "    print(num1)"
   ]
  },
  {
   "cell_type": "code",
   "execution_count": 65,
   "id": "cb740f12-0d7d-44c0-a9a5-87ca3673ee04",
   "metadata": {},
   "outputs": [
    {
     "data": {
      "text/plain": [
       "3"
      ]
     },
     "execution_count": 65,
     "metadata": {},
     "output_type": "execute_result"
    }
   ],
   "source": [
    "a"
   ]
  },
  {
   "cell_type": "code",
   "execution_count": 70,
   "id": "ff9cac8d-37b5-422f-8bf2-d841aac3c45d",
   "metadata": {},
   "outputs": [],
   "source": [
    "# 함수풀이"
   ]
  },
  {
   "cell_type": "code",
   "execution_count": 72,
   "id": "5bf6be22-8394-43d1-bf89-ead08cb64929",
   "metadata": {},
   "outputs": [],
   "source": [
    "# 1) 3"
   ]
  },
  {
   "cell_type": "code",
   "execution_count": 73,
   "id": "bd887d79-7725-4b88-937c-54f9824e5d9c",
   "metadata": {},
   "outputs": [],
   "source": [
    "def test(k):\n",
    "    print(\"Input is\", k)"
   ]
  },
  {
   "cell_type": "code",
   "execution_count": 74,
   "id": "5050294e-7013-47d3-aad0-aeedd7c8ed49",
   "metadata": {},
   "outputs": [
    {
     "name": "stdout",
     "output_type": "stream",
     "text": [
      "Input is uu\n"
     ]
    }
   ],
   "source": [
    "test(\"uu\")"
   ]
  },
  {
   "cell_type": "code",
   "execution_count": 75,
   "id": "99b27b88-4b0f-41a6-8596-75bae849482d",
   "metadata": {},
   "outputs": [],
   "source": [
    "k=100"
   ]
  },
  {
   "cell_type": "code",
   "execution_count": 76,
   "id": "e29cd9b2-096c-4032-9873-8e45059e4241",
   "metadata": {},
   "outputs": [
    {
     "name": "stdout",
     "output_type": "stream",
     "text": [
      "Input is 100\n"
     ]
    }
   ],
   "source": [
    "test(k)"
   ]
  },
  {
   "cell_type": "code",
   "execution_count": 77,
   "id": "78803942-802e-4cb1-acea-e11f4b92cc71",
   "metadata": {},
   "outputs": [],
   "source": [
    "def counter(*args):\n",
    "    count=len(args)\n",
    "    return count"
   ]
  },
  {
   "cell_type": "code",
   "execution_count": 78,
   "id": "bf458325-6572-4168-8a84-fa25f7829232",
   "metadata": {},
   "outputs": [
    {
     "data": {
      "text/plain": [
       "0"
      ]
     },
     "execution_count": 78,
     "metadata": {},
     "output_type": "execute_result"
    }
   ],
   "source": [
    "counter()"
   ]
  },
  {
   "cell_type": "code",
   "execution_count": 79,
   "id": "fed69609-8c19-4c0f-a4a4-86473c4e30fb",
   "metadata": {},
   "outputs": [],
   "source": [
    "result=counter()"
   ]
  },
  {
   "cell_type": "code",
   "execution_count": 80,
   "id": "5662c0e3-bed6-4967-b6dc-a0182b2db6d5",
   "metadata": {},
   "outputs": [
    {
     "data": {
      "text/plain": [
       "0"
      ]
     },
     "execution_count": 80,
     "metadata": {},
     "output_type": "execute_result"
    }
   ],
   "source": [
    "result"
   ]
  },
  {
   "cell_type": "code",
   "execution_count": 81,
   "id": "60b79850-7166-4321-b67a-9b93c3a3fdef",
   "metadata": {},
   "outputs": [],
   "source": [
    "result=counter(4,6)"
   ]
  },
  {
   "cell_type": "code",
   "execution_count": 82,
   "id": "18e08906-8da3-45cb-ac4a-38d0a0ea8edb",
   "metadata": {},
   "outputs": [
    {
     "data": {
      "text/plain": [
       "2"
      ]
     },
     "execution_count": 82,
     "metadata": {},
     "output_type": "execute_result"
    }
   ],
   "source": [
    "result"
   ]
  },
  {
   "cell_type": "code",
   "execution_count": 83,
   "id": "959c51a8-d582-4494-a598-c17bd9acab24",
   "metadata": {},
   "outputs": [
    {
     "data": {
      "text/plain": [
       "[]"
      ]
     },
     "execution_count": 83,
     "metadata": {},
     "output_type": "execute_result"
    }
   ],
   "source": [
    "([])"
   ]
  },
  {
   "cell_type": "code",
   "execution_count": 86,
   "id": "c561e201-6642-4e1a-9282-b4bdf32c8e92",
   "metadata": {},
   "outputs": [
    {
     "data": {
      "text/plain": [
       "0"
      ]
     },
     "execution_count": 86,
     "metadata": {},
     "output_type": "execute_result"
    }
   ],
   "source": [
    "len(())"
   ]
  },
  {
   "cell_type": "code",
   "execution_count": 87,
   "id": "05aa6c27-eb50-4bbb-82e2-3e2b767c9418",
   "metadata": {},
   "outputs": [
    {
     "data": {
      "text/plain": [
       "0"
      ]
     },
     "execution_count": 87,
     "metadata": {},
     "output_type": "execute_result"
    }
   ],
   "source": [
    "len(([]))"
   ]
  },
  {
   "cell_type": "code",
   "execution_count": 88,
   "id": "4df71208-4823-4312-b4ac-6c61143e854a",
   "metadata": {},
   "outputs": [],
   "source": [
    "result=counter([])"
   ]
  },
  {
   "cell_type": "code",
   "execution_count": 89,
   "id": "d516bbb1-854e-4c46-b145-b043036ddc8e",
   "metadata": {},
   "outputs": [
    {
     "data": {
      "text/plain": [
       "1"
      ]
     },
     "execution_count": 89,
     "metadata": {},
     "output_type": "execute_result"
    }
   ],
   "source": [
    "result"
   ]
  },
  {
   "cell_type": "code",
   "execution_count": 90,
   "id": "edcb9b12-3312-4658-b22b-408038ffd8da",
   "metadata": {},
   "outputs": [],
   "source": [
    "result2=counter([5])"
   ]
  },
  {
   "cell_type": "code",
   "execution_count": 91,
   "id": "3395370b-8aea-4725-9501-15ef9610c028",
   "metadata": {},
   "outputs": [
    {
     "data": {
      "text/plain": [
       "1"
      ]
     },
     "execution_count": 91,
     "metadata": {},
     "output_type": "execute_result"
    }
   ],
   "source": [
    "result2"
   ]
  },
  {
   "cell_type": "code",
   "execution_count": 93,
   "id": "5a468043-e8aa-429d-820a-56db35bb3c59",
   "metadata": {},
   "outputs": [],
   "source": [
    "result3=counter([5,4])"
   ]
  },
  {
   "cell_type": "code",
   "execution_count": 94,
   "id": "a8388ee7-7bb2-4ce4-ab24-0057255de794",
   "metadata": {},
   "outputs": [
    {
     "data": {
      "text/plain": [
       "1"
      ]
     },
     "execution_count": 94,
     "metadata": {},
     "output_type": "execute_result"
    }
   ],
   "source": [
    "result3"
   ]
  },
  {
   "cell_type": "code",
   "execution_count": 95,
   "id": "fc3ceff8-7a78-415e-94d5-025c82e53f7b",
   "metadata": {},
   "outputs": [
    {
     "name": "stdout",
     "output_type": "stream",
     "text": [
      "1\n"
     ]
    }
   ],
   "source": [
    "print(counter([\"test\", \"hello\", \"oooo\"]))"
   ]
  },
  {
   "cell_type": "code",
   "execution_count": 96,
   "id": "d2e7adeb-f9be-4caa-afff-1a920112d02f",
   "metadata": {},
   "outputs": [],
   "source": [
    "result6=counter([5,4], 9)"
   ]
  },
  {
   "cell_type": "code",
   "execution_count": 97,
   "id": "e9091c19-c318-4748-a4e3-801ebb9cd7ca",
   "metadata": {},
   "outputs": [
    {
     "data": {
      "text/plain": [
       "2"
      ]
     },
     "execution_count": 97,
     "metadata": {},
     "output_type": "execute_result"
    }
   ],
   "source": [
    "result6"
   ]
  },
  {
   "cell_type": "code",
   "execution_count": 99,
   "id": "d18d481e-001b-49bd-8486-ac0392b21e77",
   "metadata": {},
   "outputs": [],
   "source": [
    "result7=counter([5,4], [9],[5],6)"
   ]
  },
  {
   "cell_type": "code",
   "execution_count": 100,
   "id": "16b59b77-502b-4673-a9f7-631b29fa2d09",
   "metadata": {},
   "outputs": [
    {
     "data": {
      "text/plain": [
       "4"
      ]
     },
     "execution_count": 100,
     "metadata": {},
     "output_type": "execute_result"
    }
   ],
   "source": [
    "result7"
   ]
  },
  {
   "cell_type": "code",
   "execution_count": 101,
   "id": "7fb5106c-5aa7-4963-8daf-b013c716908e",
   "metadata": {},
   "outputs": [],
   "source": [
    "def f(x):\n",
    "    y=x\n",
    "    x=7\n",
    "    return y*x"
   ]
  },
  {
   "cell_type": "code",
   "execution_count": 102,
   "id": "c1e79942-a9db-4cfa-8a8b-7d97bb106b2b",
   "metadata": {},
   "outputs": [],
   "source": [
    "result=f(5)"
   ]
  },
  {
   "cell_type": "code",
   "execution_count": 103,
   "id": "e6b7651c-f075-4db2-8e95-ac720a182612",
   "metadata": {},
   "outputs": [
    {
     "data": {
      "text/plain": [
       "35"
      ]
     },
     "execution_count": 103,
     "metadata": {},
     "output_type": "execute_result"
    }
   ],
   "source": [
    "result"
   ]
  },
  {
   "cell_type": "code",
   "execution_count": 104,
   "id": "0f4427d4-0923-49fa-b591-c0884f13abc6",
   "metadata": {},
   "outputs": [
    {
     "name": "stdout",
     "output_type": "stream",
     "text": [
      "21\n"
     ]
    }
   ],
   "source": [
    "print(f(3))"
   ]
  },
  {
   "cell_type": "code",
   "execution_count": 105,
   "id": "94f91354-a327-47d3-9f69-495a70f9e7b7",
   "metadata": {},
   "outputs": [],
   "source": [
    "x=4"
   ]
  },
  {
   "cell_type": "code",
   "execution_count": 106,
   "id": "fab6b420-f87f-4b71-8dde-c0c7b5d9c673",
   "metadata": {},
   "outputs": [
    {
     "data": {
      "text/plain": [
       "4"
      ]
     },
     "execution_count": 106,
     "metadata": {},
     "output_type": "execute_result"
    }
   ],
   "source": [
    "x"
   ]
  },
  {
   "cell_type": "code",
   "execution_count": null,
   "id": "875fe8ac-a6f4-4487-bae1-3a069e4771d0",
   "metadata": {},
   "outputs": [],
   "source": []
  }
 ],
 "metadata": {
  "kernelspec": {
   "display_name": "Python 3 (ipykernel)",
   "language": "python",
   "name": "python3"
  },
  "language_info": {
   "codemirror_mode": {
    "name": "ipython",
    "version": 3
   },
   "file_extension": ".py",
   "mimetype": "text/x-python",
   "name": "python",
   "nbconvert_exporter": "python",
   "pygments_lexer": "ipython3",
   "version": "3.12.4"
  }
 },
 "nbformat": 4,
 "nbformat_minor": 5
}
