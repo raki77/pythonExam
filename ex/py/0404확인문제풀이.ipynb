{
 "cells": [
  {
   "cell_type": "code",
   "execution_count": 1,
   "id": "447b74de-81bb-410b-a0ad-c5b3b0d238d5",
   "metadata": {},
   "outputs": [],
   "source": [
    "# 1"
   ]
  },
  {
   "cell_type": "code",
   "execution_count": 3,
   "id": "11d01772-f708-4646-b827-9fc9df57e322",
   "metadata": {},
   "outputs": [],
   "source": [
    "# help(enumerate)"
   ]
  },
  {
   "cell_type": "code",
   "execution_count": 4,
   "id": "f1510933-459f-49b2-9103-e743758bf6a3",
   "metadata": {},
   "outputs": [
    {
     "data": {
      "text/plain": [
       "<enumerate at 0x226933778d0>"
      ]
     },
     "execution_count": 4,
     "metadata": {},
     "output_type": "execute_result"
    }
   ],
   "source": [
    "enumerate(['a','b','c'])"
   ]
  },
  {
   "cell_type": "code",
   "execution_count": 5,
   "id": "d1fb69e5-1a23-4fdd-936d-473a0b3d9f86",
   "metadata": {},
   "outputs": [
    {
     "data": {
      "text/plain": [
       "[(0, 'a'), (1, 'b'), (2, 'c')]"
      ]
     },
     "execution_count": 5,
     "metadata": {},
     "output_type": "execute_result"
    }
   ],
   "source": [
    "list(enumerate(['a','b','c']))"
   ]
  },
  {
   "cell_type": "code",
   "execution_count": 6,
   "id": "5a9b3cca-7497-4c3c-bdc4-f27dff92f0b5",
   "metadata": {},
   "outputs": [
    {
     "name": "stdout",
     "output_type": "stream",
     "text": [
      "Help on built-in function items:\n",
      "\n",
      "items(...) method of builtins.dict instance\n",
      "    D.items() -> a set-like object providing a view on D's items\n",
      "\n"
     ]
    }
   ],
   "source": [
    "help({}.items)"
   ]
  },
  {
   "cell_type": "code",
   "execution_count": 7,
   "id": "a67ed133-96e3-493b-91ab-c037049df47b",
   "metadata": {},
   "outputs": [
    {
     "name": "stdout",
     "output_type": "stream",
     "text": [
      "Help on built-in function bin in module builtins:\n",
      "\n",
      "bin(number, /)\n",
      "    Return the binary representation of an integer.\n",
      "\n",
      "    >>> bin(2796202)\n",
      "    '0b1010101010101010101010'\n",
      "\n"
     ]
    }
   ],
   "source": [
    "help(bin)"
   ]
  },
  {
   "cell_type": "code",
   "execution_count": 8,
   "id": "a2ac64a7-0885-43c2-831b-f3c25afc1b33",
   "metadata": {},
   "outputs": [
    {
     "data": {
      "text/plain": [
       "'0b1010'"
      ]
     },
     "execution_count": 8,
     "metadata": {},
     "output_type": "execute_result"
    }
   ],
   "source": [
    "bin(10)"
   ]
  },
  {
   "cell_type": "code",
   "execution_count": 9,
   "id": "5ef7c2cb-3ddd-4c14-b4de-12c4349d693b",
   "metadata": {},
   "outputs": [
    {
     "name": "stdout",
     "output_type": "stream",
     "text": [
      "Help on built-in function oct in module builtins:\n",
      "\n",
      "oct(number, /)\n",
      "    Return the octal representation of an integer.\n",
      "\n",
      "    >>> oct(342391)\n",
      "    '0o1234567'\n",
      "\n"
     ]
    }
   ],
   "source": [
    "help(oct)"
   ]
  },
  {
   "cell_type": "code",
   "execution_count": 10,
   "id": "9216c51e-28b0-4343-9148-d4f0ed41e9b2",
   "metadata": {},
   "outputs": [
    {
     "data": {
      "text/plain": [
       "'0o12'"
      ]
     },
     "execution_count": 10,
     "metadata": {},
     "output_type": "execute_result"
    }
   ],
   "source": [
    "oct(10)"
   ]
  },
  {
   "cell_type": "code",
   "execution_count": 11,
   "id": "74ec01d8-74a7-441b-956a-13fded8f4e48",
   "metadata": {},
   "outputs": [
    {
     "data": {
      "text/plain": [
       "'5'"
      ]
     },
     "execution_count": 11,
     "metadata": {},
     "output_type": "execute_result"
    }
   ],
   "source": [
    "\"{}\".format(5)"
   ]
  },
  {
   "cell_type": "code",
   "execution_count": 12,
   "id": "08811758-4757-46f1-8f0e-2490394c836d",
   "metadata": {},
   "outputs": [
    {
     "data": {
      "text/plain": [
       "'5'"
      ]
     },
     "execution_count": 12,
     "metadata": {},
     "output_type": "execute_result"
    }
   ],
   "source": [
    "f\"{5}\""
   ]
  },
  {
   "cell_type": "code",
   "execution_count": 13,
   "id": "69e3734a-6b20-4b51-ad9e-4c98a9de3d1f",
   "metadata": {},
   "outputs": [
    {
     "data": {
      "text/plain": [
       "' 5'"
      ]
     },
     "execution_count": 13,
     "metadata": {},
     "output_type": "execute_result"
    }
   ],
   "source": [
    "\"{:2}\".format(5)"
   ]
  },
  {
   "cell_type": "code",
   "execution_count": 14,
   "id": "c2e96765-4564-49ac-96ac-e606d1be5d97",
   "metadata": {},
   "outputs": [
    {
     "data": {
      "text/plain": [
       "'  5'"
      ]
     },
     "execution_count": 14,
     "metadata": {},
     "output_type": "execute_result"
    }
   ],
   "source": [
    "\"{:3}\".format(5)"
   ]
  },
  {
   "cell_type": "code",
   "execution_count": 15,
   "id": "aa174fb1-933f-48e8-9564-df1ab6a8026b",
   "metadata": {},
   "outputs": [
    {
     "data": {
      "text/plain": [
       "'5.000000'"
      ]
     },
     "execution_count": 15,
     "metadata": {},
     "output_type": "execute_result"
    }
   ],
   "source": [
    "\"{:f}\".format(5)"
   ]
  },
  {
   "cell_type": "code",
   "execution_count": 16,
   "id": "852c15da-f04d-4b76-9113-a46b55bc58a7",
   "metadata": {},
   "outputs": [
    {
     "data": {
      "text/plain": [
       "'1010'"
      ]
     },
     "execution_count": 16,
     "metadata": {},
     "output_type": "execute_result"
    }
   ],
   "source": [
    "\"{:b}\".format(10)"
   ]
  },
  {
   "cell_type": "code",
   "execution_count": 17,
   "id": "af342604-e9ca-4d70-9d6b-c02e41855ec0",
   "metadata": {},
   "outputs": [
    {
     "data": {
      "text/plain": [
       "4"
      ]
     },
     "execution_count": 17,
     "metadata": {},
     "output_type": "execute_result"
    }
   ],
   "source": [
    "int(4.5)"
   ]
  },
  {
   "cell_type": "code",
   "execution_count": 20,
   "id": "44512cce-7937-45c9-aa19-afc99525f8fc",
   "metadata": {},
   "outputs": [],
   "source": [
    "# help(int)"
   ]
  },
  {
   "cell_type": "code",
   "execution_count": 19,
   "id": "7df0aa18-fb6d-45dd-bb6b-1a2842be9358",
   "metadata": {},
   "outputs": [
    {
     "data": {
      "text/plain": [
       "10"
      ]
     },
     "execution_count": 19,
     "metadata": {},
     "output_type": "execute_result"
    }
   ],
   "source": [
    "int(\"1010\", base=2)"
   ]
  },
  {
   "cell_type": "code",
   "execution_count": 21,
   "id": "529f9a3b-b61d-4642-a6cc-f862232deaef",
   "metadata": {},
   "outputs": [
    {
     "data": {
      "text/plain": [
       "'12'"
      ]
     },
     "execution_count": 21,
     "metadata": {},
     "output_type": "execute_result"
    }
   ],
   "source": [
    "\"{:o}\".format(10)"
   ]
  },
  {
   "cell_type": "code",
   "execution_count": 22,
   "id": "75c895c8-c2af-4459-937d-314f9b9fb0ec",
   "metadata": {},
   "outputs": [
    {
     "data": {
      "text/plain": [
       "'a'"
      ]
     },
     "execution_count": 22,
     "metadata": {},
     "output_type": "execute_result"
    }
   ],
   "source": [
    "\"{:x}\".format(10)"
   ]
  },
  {
   "cell_type": "code",
   "execution_count": 23,
   "id": "40bf54f7-cd05-4a46-b694-96cff6f36b41",
   "metadata": {},
   "outputs": [
    {
     "data": {
      "text/plain": [
       "10"
      ]
     },
     "execution_count": 23,
     "metadata": {},
     "output_type": "execute_result"
    }
   ],
   "source": [
    "int(\"12\", base=8)"
   ]
  },
  {
   "cell_type": "code",
   "execution_count": 24,
   "id": "1c26b91d-13c1-4064-93dd-72874720eb41",
   "metadata": {},
   "outputs": [
    {
     "data": {
      "text/plain": [
       "10"
      ]
     },
     "execution_count": 24,
     "metadata": {},
     "output_type": "execute_result"
    }
   ],
   "source": [
    "int(\"a\", base=16)"
   ]
  },
  {
   "cell_type": "code",
   "execution_count": 25,
   "id": "65e7306b-de31-41f9-972e-2a2dcec3e97b",
   "metadata": {},
   "outputs": [
    {
     "name": "stdout",
     "output_type": "stream",
     "text": [
      "Help on built-in function count:\n",
      "\n",
      "count(...) method of builtins.str instance\n",
      "    S.count(sub[, start[, end]]) -> int\n",
      "\n",
      "    Return the number of non-overlapping occurrences of substring sub in\n",
      "    string S[start:end].  Optional arguments start and end are\n",
      "    interpreted as in slice notation.\n",
      "\n"
     ]
    }
   ],
   "source": [
    "help(\"\".count)"
   ]
  },
  {
   "cell_type": "code",
   "execution_count": 26,
   "id": "08721e13-f098-45e7-b7ce-c6088d17b3d2",
   "metadata": {},
   "outputs": [
    {
     "data": {
      "text/plain": [
       "2"
      ]
     },
     "execution_count": 26,
     "metadata": {},
     "output_type": "execute_result"
    }
   ],
   "source": [
    "\"안녕안녕하세요\".count(\"안\")"
   ]
  },
  {
   "cell_type": "code",
   "execution_count": 27,
   "id": "585cf87d-739e-4646-ab09-1d68c770792a",
   "metadata": {},
   "outputs": [],
   "source": [
    "# 4가지 문제\n",
    "# 1) 1 ~ 100까지 찍어라 -> 리스트 내포 \n",
    "# 2) 이진수 변환\n",
    "# 3) 0이 하나만 포함된 숫자를 찾기\n",
    "# 4) 누적합"
   ]
  },
  {
   "cell_type": "code",
   "execution_count": 29,
   "id": "8369dd97-ae2a-43d2-8cbf-bf2b445048f2",
   "metadata": {},
   "outputs": [
    {
     "data": {
      "text/plain": [
       "[1,\n",
       " 2,\n",
       " 3,\n",
       " 4,\n",
       " 5,\n",
       " 6,\n",
       " 7,\n",
       " 8,\n",
       " 9,\n",
       " 10,\n",
       " 11,\n",
       " 12,\n",
       " 13,\n",
       " 14,\n",
       " 15,\n",
       " 16,\n",
       " 17,\n",
       " 18,\n",
       " 19,\n",
       " 20,\n",
       " 21,\n",
       " 22,\n",
       " 23,\n",
       " 24,\n",
       " 25,\n",
       " 26,\n",
       " 27,\n",
       " 28,\n",
       " 29,\n",
       " 30,\n",
       " 31,\n",
       " 32,\n",
       " 33,\n",
       " 34,\n",
       " 35,\n",
       " 36,\n",
       " 37,\n",
       " 38,\n",
       " 39,\n",
       " 40,\n",
       " 41,\n",
       " 42,\n",
       " 43,\n",
       " 44,\n",
       " 45,\n",
       " 46,\n",
       " 47,\n",
       " 48,\n",
       " 49,\n",
       " 50,\n",
       " 51,\n",
       " 52,\n",
       " 53,\n",
       " 54,\n",
       " 55,\n",
       " 56,\n",
       " 57,\n",
       " 58,\n",
       " 59,\n",
       " 60,\n",
       " 61,\n",
       " 62,\n",
       " 63,\n",
       " 64,\n",
       " 65,\n",
       " 66,\n",
       " 67,\n",
       " 68,\n",
       " 69,\n",
       " 70,\n",
       " 71,\n",
       " 72,\n",
       " 73,\n",
       " 74,\n",
       " 75,\n",
       " 76,\n",
       " 77,\n",
       " 78,\n",
       " 79,\n",
       " 80,\n",
       " 81,\n",
       " 82,\n",
       " 83,\n",
       " 84,\n",
       " 85,\n",
       " 86,\n",
       " 87,\n",
       " 88,\n",
       " 89,\n",
       " 90,\n",
       " 91,\n",
       " 92,\n",
       " 93,\n",
       " 94,\n",
       " 95,\n",
       " 96,\n",
       " 97,\n",
       " 98,\n",
       " 99,\n",
       " 100]"
      ]
     },
     "execution_count": 29,
     "metadata": {},
     "output_type": "execute_result"
    }
   ],
   "source": [
    "[i for i in range(1,100+1)]"
   ]
  },
  {
   "cell_type": "code",
   "execution_count": 37,
   "id": "02c63041-4a93-4398-8609-8190d53090df",
   "metadata": {},
   "outputs": [
    {
     "data": {
      "text/plain": [
       "[2, 5, 6, 11, 13, 14, 23, 27, 29, 30, 47, 55, 59, 61, 62, 95]"
      ]
     },
     "execution_count": 37,
     "metadata": {},
     "output_type": "execute_result"
    }
   ],
   "source": [
    "[i for i in range(1,100+1) if \"{:b}\".format(i).count(\"0\") == 1]"
   ]
  },
  {
   "cell_type": "code",
   "execution_count": 31,
   "id": "c905fff4-3a8d-44d4-9481-067484be1b44",
   "metadata": {},
   "outputs": [
    {
     "data": {
      "text/plain": [
       "'10'"
      ]
     },
     "execution_count": 31,
     "metadata": {},
     "output_type": "execute_result"
    }
   ],
   "source": [
    "\"{:b}\".format(2)"
   ]
  },
  {
   "cell_type": "code",
   "execution_count": 32,
   "id": "b8a42725-a920-43cb-80ef-dacecaf431f9",
   "metadata": {},
   "outputs": [
    {
     "data": {
      "text/plain": [
       "'1100100'"
      ]
     },
     "execution_count": 32,
     "metadata": {},
     "output_type": "execute_result"
    }
   ],
   "source": [
    "\"{:b}\".format(100)"
   ]
  },
  {
   "cell_type": "code",
   "execution_count": 33,
   "id": "8c6999dd-d37f-4d1a-a565-d34e2ca17a4a",
   "metadata": {},
   "outputs": [
    {
     "data": {
      "text/plain": [
       "1"
      ]
     },
     "execution_count": 33,
     "metadata": {},
     "output_type": "execute_result"
    }
   ],
   "source": [
    "\"{:b}\".format(2).count(\"0\") "
   ]
  },
  {
   "cell_type": "code",
   "execution_count": 34,
   "id": "0b906f0d-e600-4e77-adfe-306d911143e4",
   "metadata": {},
   "outputs": [
    {
     "data": {
      "text/plain": [
       "4"
      ]
     },
     "execution_count": 34,
     "metadata": {},
     "output_type": "execute_result"
    }
   ],
   "source": [
    "\"{:b}\".format(100).count(\"0\")"
   ]
  },
  {
   "cell_type": "code",
   "execution_count": 35,
   "id": "84e31d86-24d7-45fe-9294-b2bc8f5bbc8f",
   "metadata": {},
   "outputs": [
    {
     "data": {
      "text/plain": [
       "True"
      ]
     },
     "execution_count": 35,
     "metadata": {},
     "output_type": "execute_result"
    }
   ],
   "source": [
    "\"{:b}\".format(2).count(\"0\") == 1"
   ]
  },
  {
   "cell_type": "code",
   "execution_count": 36,
   "id": "6ba4a124-49a8-4753-857e-39ecf7dcaa81",
   "metadata": {},
   "outputs": [
    {
     "data": {
      "text/plain": [
       "False"
      ]
     },
     "execution_count": 36,
     "metadata": {},
     "output_type": "execute_result"
    }
   ],
   "source": [
    "\"{:b}\".format(100).count(\"0\") == 1"
   ]
  },
  {
   "cell_type": "code",
   "execution_count": 39,
   "id": "c3510ff3-66b8-4bca-bebf-461faf007b67",
   "metadata": {},
   "outputs": [],
   "source": [
    "li=[i for i in range(1,100+1) if \"{:b}\".format(i).count(\"0\") == 1]"
   ]
  },
  {
   "cell_type": "code",
   "execution_count": 40,
   "id": "d5cbe33b-28ed-4a02-9f26-5a8dc232d14b",
   "metadata": {},
   "outputs": [],
   "source": [
    "tot=0\n",
    "for i in li:\n",
    "    tot+=i"
   ]
  },
  {
   "cell_type": "code",
   "execution_count": 41,
   "id": "bd698162-7567-46d3-bca0-58c02b9371a6",
   "metadata": {},
   "outputs": [
    {
     "data": {
      "text/plain": [
       "539"
      ]
     },
     "execution_count": 41,
     "metadata": {},
     "output_type": "execute_result"
    }
   ],
   "source": [
    "tot"
   ]
  },
  {
   "cell_type": "code",
   "execution_count": 42,
   "id": "20d6316a-1a10-4087-8e5b-0162393f21bd",
   "metadata": {},
   "outputs": [],
   "source": [
    "output=[i for i in range(1,100+1) if \"{:b}\".format(i).count(\"0\") == 1]"
   ]
  },
  {
   "cell_type": "code",
   "execution_count": 43,
   "id": "54ed9ec8-d71d-472c-ba89-0374ab0cf151",
   "metadata": {},
   "outputs": [
    {
     "name": "stdout",
     "output_type": "stream",
     "text": [
      "2 : 10\n",
      "5 : 101\n",
      "6 : 110\n",
      "11 : 1011\n",
      "13 : 1101\n",
      "14 : 1110\n",
      "23 : 10111\n",
      "27 : 11011\n",
      "29 : 11101\n",
      "30 : 11110\n",
      "47 : 101111\n",
      "55 : 110111\n",
      "59 : 111011\n",
      "61 : 111101\n",
      "62 : 111110\n",
      "95 : 1011111\n"
     ]
    }
   ],
   "source": [
    "for i in output:\n",
    "    print(\"{} : {}\".format(i, \"{:b}\".format(i)))"
   ]
  },
  {
   "cell_type": "code",
   "execution_count": 44,
   "id": "495d15a2-ad9b-4221-8e19-811393bea992",
   "metadata": {},
   "outputs": [
    {
     "name": "stdout",
     "output_type": "stream",
     "text": [
      "합계: 539\n"
     ]
    }
   ],
   "source": [
    "print(\"합계:\", sum(output))"
   ]
  },
  {
   "cell_type": "code",
   "execution_count": 45,
   "id": "50e6d9d2-c647-4702-ac09-985eca0d7ba1",
   "metadata": {},
   "outputs": [],
   "source": [
    "# 도전 문제"
   ]
  },
  {
   "cell_type": "code",
   "execution_count": 46,
   "id": "3bf93ec1-dfd6-4caa-8a5a-ff5f690d4bff",
   "metadata": {},
   "outputs": [],
   "source": [
    "# 1부터 100까지 수 중에서 줏자 맞추기 게임(up and down) "
   ]
  },
  {
   "cell_type": "code",
   "execution_count": 47,
   "id": "eac2da22-b986-4955-9a11-d1dd4bd29cfd",
   "metadata": {},
   "outputs": [],
   "source": [
    "# 두 개의 숫자가 필요함"
   ]
  },
  {
   "cell_type": "code",
   "execution_count": 48,
   "id": "ea1bdaad-952f-4080-bf09-469700bed5dd",
   "metadata": {},
   "outputs": [],
   "source": [
    "# 1) 정답 숫자\n",
    "# 2) 예측 하는 숫자"
   ]
  },
  {
   "cell_type": "code",
   "execution_count": 49,
   "id": "0a51852d-e577-40b5-9413-1ea400270d94",
   "metadata": {},
   "outputs": [],
   "source": [
    "# 정답 숫자 : 37"
   ]
  },
  {
   "cell_type": "code",
   "execution_count": 58,
   "id": "b0ae7e99-7496-4275-bb8c-638e7653b479",
   "metadata": {},
   "outputs": [],
   "source": [
    "secret_number=37"
   ]
  },
  {
   "cell_type": "code",
   "execution_count": 50,
   "id": "1811e73d-b633-4b03-9e27-a4cf072a1de4",
   "metadata": {},
   "outputs": [],
   "source": [
    "# 예측 하는 숫자를 입력을 받으셔야 함"
   ]
  },
  {
   "cell_type": "code",
   "execution_count": 59,
   "id": "a066117e-65aa-46b0-97f4-7bf248869343",
   "metadata": {},
   "outputs": [
    {
     "name": "stdin",
     "output_type": "stream",
     "text": [
      "당신이 1부터 100까지 수 중에서 예측하는 숫자는? 50\n"
     ]
    }
   ],
   "source": [
    "guess_number=int(input(\"당신이 1부터 100까지 수 중에서 예측하는 숫자는?\"))"
   ]
  },
  {
   "cell_type": "code",
   "execution_count": 54,
   "id": "726bdc74-c701-4c1c-8056-7ef0529202b1",
   "metadata": {},
   "outputs": [
    {
     "data": {
      "text/plain": [
       "50"
      ]
     },
     "execution_count": 54,
     "metadata": {},
     "output_type": "execute_result"
    }
   ],
   "source": [
    "guess"
   ]
  },
  {
   "cell_type": "code",
   "execution_count": 55,
   "id": "44cd80dd-fba8-4468-986e-957de607b0b0",
   "metadata": {},
   "outputs": [
    {
     "data": {
      "text/plain": [
       "False"
      ]
     },
     "execution_count": 55,
     "metadata": {},
     "output_type": "execute_result"
    }
   ],
   "source": [
    "37 > 50"
   ]
  },
  {
   "cell_type": "code",
   "execution_count": 60,
   "id": "9981aa0a-2f51-455a-9446-943b7fdbce3d",
   "metadata": {},
   "outputs": [
    {
     "name": "stdout",
     "output_type": "stream",
     "text": [
      "당신이 입력한 숫자는 비밀의 키보다 큽니다.\n"
     ]
    }
   ],
   "source": [
    "if secret_number > guess_number:\n",
    "    print(\"당신이 입력한 숫자는 비밀의 키보다 작습니다.\")\n",
    "elif secret_number < guess_number:\n",
    "    print(\"당신이 입력한 숫자는 비밀의 키보다 큽니다.\")\n",
    "else:\n",
    "    print(\"정답입니다\")"
   ]
  },
  {
   "cell_type": "code",
   "execution_count": 65,
   "id": "4e0c5f08-bd6e-44b7-aaf8-c442a5e92972",
   "metadata": {},
   "outputs": [
    {
     "name": "stdin",
     "output_type": "stream",
     "text": [
      "당신이 1부터 100까지 수 중에서 예측하는 숫자는? 50\n"
     ]
    },
    {
     "name": "stdout",
     "output_type": "stream",
     "text": [
      "당신이 입력한 숫자는 비밀의 키보다 큽니다.\n"
     ]
    },
    {
     "name": "stdin",
     "output_type": "stream",
     "text": [
      "당신이 1부터 100까지 수 중에서 예측하는 숫자는? 25\n"
     ]
    },
    {
     "name": "stdout",
     "output_type": "stream",
     "text": [
      "당신이 입력한 숫자는 비밀의 키보다 작습니다.\n"
     ]
    },
    {
     "name": "stdin",
     "output_type": "stream",
     "text": [
      "당신이 1부터 100까지 수 중에서 예측하는 숫자는? 37\n"
     ]
    },
    {
     "name": "stdout",
     "output_type": "stream",
     "text": [
      "정답입니다\n",
      "게임 끝\n"
     ]
    }
   ],
   "source": [
    "secret_number=37\n",
    "i=1\n",
    "while i<=5:\n",
    "    guess_number=int(input(\"당신이 1부터 100까지 수 중에서 예측하는 숫자는?\"))\n",
    "    if secret_number > guess_number:\n",
    "        print(\"당신이 입력한 숫자는 비밀의 키보다 작습니다.\")\n",
    "    elif secret_number < guess_number:\n",
    "        print(\"당신이 입력한 숫자는 비밀의 키보다 큽니다.\")\n",
    "    else:\n",
    "        print(\"정답입니다\")\n",
    "        break\n",
    "    i=i+1\n",
    "print(\"게임 끝\")"
   ]
  },
  {
   "cell_type": "code",
   "execution_count": 66,
   "id": "dedadf8e-5d51-4827-9f32-b95e305567b6",
   "metadata": {},
   "outputs": [],
   "source": [
    "import random"
   ]
  },
  {
   "cell_type": "code",
   "execution_count": 67,
   "id": "c0ce60fe-bda3-49fa-9283-367a0e292998",
   "metadata": {},
   "outputs": [
    {
     "name": "stdout",
     "output_type": "stream",
     "text": [
      "Help on method randint in module random:\n",
      "\n",
      "randint(a, b) method of random.Random instance\n",
      "    Return random integer in range [a, b], including both end points.\n",
      "\n"
     ]
    }
   ],
   "source": [
    "help(random.randint)"
   ]
  },
  {
   "cell_type": "code",
   "execution_count": 73,
   "id": "3ae174dd-fbad-427c-9fae-db8610b888b6",
   "metadata": {},
   "outputs": [
    {
     "data": {
      "text/plain": [
       "97"
      ]
     },
     "execution_count": 73,
     "metadata": {},
     "output_type": "execute_result"
    }
   ],
   "source": [
    "random.randint(1,100)"
   ]
  },
  {
   "cell_type": "code",
   "execution_count": 74,
   "id": "913394d3-1a30-428e-85d6-1af815708ecd",
   "metadata": {},
   "outputs": [
    {
     "name": "stdout",
     "output_type": "stream",
     "text": [
      "정답: 27\n"
     ]
    },
    {
     "name": "stdin",
     "output_type": "stream",
     "text": [
      "당신이 1부터 100까지 수 중에서 예측하는 숫자는? 50\n"
     ]
    },
    {
     "name": "stdout",
     "output_type": "stream",
     "text": [
      "당신이 입력한 숫자는 비밀의 키보다 큽니다.\n"
     ]
    },
    {
     "name": "stdin",
     "output_type": "stream",
     "text": [
      "당신이 1부터 100까지 수 중에서 예측하는 숫자는? 25\n"
     ]
    },
    {
     "name": "stdout",
     "output_type": "stream",
     "text": [
      "당신이 입력한 숫자는 비밀의 키보다 작습니다.\n"
     ]
    },
    {
     "name": "stdin",
     "output_type": "stream",
     "text": [
      "당신이 1부터 100까지 수 중에서 예측하는 숫자는? 37\n"
     ]
    },
    {
     "name": "stdout",
     "output_type": "stream",
     "text": [
      "당신이 입력한 숫자는 비밀의 키보다 큽니다.\n"
     ]
    },
    {
     "name": "stdin",
     "output_type": "stream",
     "text": [
      "당신이 1부터 100까지 수 중에서 예측하는 숫자는? 31\n"
     ]
    },
    {
     "name": "stdout",
     "output_type": "stream",
     "text": [
      "당신이 입력한 숫자는 비밀의 키보다 큽니다.\n"
     ]
    },
    {
     "name": "stdin",
     "output_type": "stream",
     "text": [
      "당신이 1부터 100까지 수 중에서 예측하는 숫자는? 27\n"
     ]
    },
    {
     "name": "stdout",
     "output_type": "stream",
     "text": [
      "정답입니다\n",
      "게임 끝\n"
     ]
    }
   ],
   "source": [
    "secret_number=random.randint(1,100)\n",
    "print(\"정답:\", secret_number)\n",
    "i=1\n",
    "while i<=5:\n",
    "    guess_number=int(input(\"당신이 1부터 100까지 수 중에서 예측하는 숫자는?\"))\n",
    "    if secret_number > guess_number:\n",
    "        print(\"당신이 입력한 숫자는 비밀의 키보다 작습니다.\")\n",
    "    elif secret_number < guess_number:\n",
    "        print(\"당신이 입력한 숫자는 비밀의 키보다 큽니다.\")\n",
    "    else:\n",
    "        print(\"정답입니다\")\n",
    "        break\n",
    "    i=i+1\n",
    "print(\"게임 끝\")"
   ]
  },
  {
   "cell_type": "code",
   "execution_count": 75,
   "id": "c98d84f4-6782-4b0b-b019-2892fa756918",
   "metadata": {},
   "outputs": [],
   "source": [
    "li=[1,2,3,4,1,2,3,1,4,1,2,3]"
   ]
  },
  {
   "cell_type": "code",
   "execution_count": 76,
   "id": "ea18eb51-df9e-4bc5-bbc5-91bcb9aaafcf",
   "metadata": {},
   "outputs": [],
   "source": [
    "# 갯수 구하는 문제"
   ]
  },
  {
   "cell_type": "code",
   "execution_count": 77,
   "id": "13773c38-aa6c-48b4-bc05-4c6a34228c3e",
   "metadata": {},
   "outputs": [],
   "source": [
    "cnt={}"
   ]
  },
  {
   "cell_type": "code",
   "execution_count": 78,
   "id": "62d93269-0c8a-4427-8f8d-f35c6ab78481",
   "metadata": {},
   "outputs": [],
   "source": [
    "# cnt[키]=cnt[키]+1"
   ]
  },
  {
   "cell_type": "code",
   "execution_count": 79,
   "id": "2fb1e8a0-c89c-48d4-8a8f-00625fa46a76",
   "metadata": {},
   "outputs": [],
   "source": [
    "# 있냐 없냐라는 판단"
   ]
  },
  {
   "cell_type": "code",
   "execution_count": 80,
   "id": "4a235c0a-4a58-4fee-9e21-ec5f9e091d87",
   "metadata": {},
   "outputs": [],
   "source": [
    "# if "
   ]
  },
  {
   "cell_type": "code",
   "execution_count": 81,
   "id": "c60a1530-0c0a-4862-85b0-386749e22382",
   "metadata": {},
   "outputs": [
    {
     "data": {
      "text/plain": [
       "True"
      ]
     },
     "execution_count": 81,
     "metadata": {},
     "output_type": "execute_result"
    }
   ],
   "source": [
    "1 in li"
   ]
  },
  {
   "cell_type": "code",
   "execution_count": 85,
   "id": "55f4b6c7-8d63-4bba-ae43-27029de9e022",
   "metadata": {},
   "outputs": [],
   "source": [
    "for i in li:\n",
    "    if i in cnt:\n",
    "        cnt[i]=cnt[i]+1\n",
    "    else:\n",
    "        cnt[i]=1"
   ]
  },
  {
   "cell_type": "code",
   "execution_count": 86,
   "id": "43459603-b937-4662-8a98-d117fd109ac3",
   "metadata": {},
   "outputs": [
    {
     "data": {
      "text/plain": [
       "{1: 4, 2: 3, 3: 3, 4: 2}"
      ]
     },
     "execution_count": 86,
     "metadata": {},
     "output_type": "execute_result"
    }
   ],
   "source": [
    "cnt"
   ]
  },
  {
   "cell_type": "code",
   "execution_count": 94,
   "id": "1eb29e55-badd-42f9-891a-367a44cba980",
   "metadata": {},
   "outputs": [
    {
     "data": {
      "text/plain": [
       "4"
      ]
     },
     "execution_count": 94,
     "metadata": {},
     "output_type": "execute_result"
    }
   ],
   "source": [
    "len(cnt)"
   ]
  },
  {
   "cell_type": "code",
   "execution_count": 87,
   "id": "4cc9fa3d-8b62-455a-af13-515b57bdc82b",
   "metadata": {},
   "outputs": [],
   "source": [
    "# 딕셔너리 복습"
   ]
  },
  {
   "cell_type": "code",
   "execution_count": 88,
   "id": "704a2a8c-d670-4bb8-a61c-f299632a0113",
   "metadata": {},
   "outputs": [
    {
     "data": {
      "text/plain": [
       "dict"
      ]
     },
     "execution_count": 88,
     "metadata": {},
     "output_type": "execute_result"
    }
   ],
   "source": [
    "type({})"
   ]
  },
  {
   "cell_type": "code",
   "execution_count": 89,
   "id": "0befdcc4-adc4-432d-8984-c4dd29a7dca7",
   "metadata": {},
   "outputs": [],
   "source": [
    "di={'a':'apple'}"
   ]
  },
  {
   "cell_type": "code",
   "execution_count": 90,
   "id": "36c3d93e-2a1b-48e4-91aa-e6da31c34ac0",
   "metadata": {},
   "outputs": [],
   "source": [
    "di['b']='banana'"
   ]
  },
  {
   "cell_type": "code",
   "execution_count": 91,
   "id": "90e33248-f266-42b8-89eb-5b83530dbfff",
   "metadata": {},
   "outputs": [
    {
     "data": {
      "text/plain": [
       "{'a': 'apple', 'b': 'banana'}"
      ]
     },
     "execution_count": 91,
     "metadata": {},
     "output_type": "execute_result"
    }
   ],
   "source": [
    "di"
   ]
  },
  {
   "cell_type": "code",
   "execution_count": 93,
   "id": "f91f5227-3a56-4274-95b9-33ec3aa6a1a7",
   "metadata": {},
   "outputs": [],
   "source": [
    "# 간결한 코드"
   ]
  },
  {
   "cell_type": "code",
   "execution_count": 92,
   "id": "0e361e6f-39c8-48c7-a1d0-fa40d7c39c5b",
   "metadata": {},
   "outputs": [
    {
     "data": {
      "text/plain": [
       "[1, 2, 3, 4, 1, 2, 3, 1, 4, 1, 2, 3]"
      ]
     },
     "execution_count": 92,
     "metadata": {},
     "output_type": "execute_result"
    }
   ],
   "source": [
    "li"
   ]
  },
  {
   "cell_type": "code",
   "execution_count": 97,
   "id": "a03f578c-1b33-44fe-996b-11627320b2d7",
   "metadata": {},
   "outputs": [],
   "source": [
    "# help(set) 집합(수학에서 집합은 중복이 되지 않게하고, 순서가 없다)"
   ]
  },
  {
   "cell_type": "code",
   "execution_count": 98,
   "id": "e99d9147-f7f9-4775-a3df-f592f7bb296b",
   "metadata": {},
   "outputs": [
    {
     "data": {
      "text/plain": [
       "{1, 2, 3, 4}"
      ]
     },
     "execution_count": 98,
     "metadata": {},
     "output_type": "execute_result"
    }
   ],
   "source": [
    "set(li)"
   ]
  },
  {
   "cell_type": "code",
   "execution_count": 99,
   "id": "5b85a612-98e1-45ac-9bdb-99c46deb5fdb",
   "metadata": {},
   "outputs": [
    {
     "data": {
      "text/plain": [
       "{'apple', 'banana'}"
      ]
     },
     "execution_count": 99,
     "metadata": {},
     "output_type": "execute_result"
    }
   ],
   "source": [
    "set(['apple','apple','banana'])"
   ]
  },
  {
   "cell_type": "code",
   "execution_count": 100,
   "id": "0afb6fc6-0d7b-4e24-a7de-d95b24007467",
   "metadata": {},
   "outputs": [
    {
     "data": {
      "text/plain": [
       "4"
      ]
     },
     "execution_count": 100,
     "metadata": {},
     "output_type": "execute_result"
    }
   ],
   "source": [
    "len(set(li))"
   ]
  },
  {
   "cell_type": "code",
   "execution_count": 101,
   "id": "97d1b3c2-8c09-4ef9-bf70-ca7fdcf38ef1",
   "metadata": {},
   "outputs": [
    {
     "name": "stdout",
     "output_type": "stream",
     "text": [
      "[1, 2, 3, 4, 1, 2, 3, 1, 4, 1, 2, 3]\n"
     ]
    }
   ],
   "source": [
    "print(li)"
   ]
  },
  {
   "cell_type": "code",
   "execution_count": 102,
   "id": "6c561db1-f109-4d7e-ad46-838a382d38dc",
   "metadata": {},
   "outputs": [
    {
     "name": "stdout",
     "output_type": "stream",
     "text": [
      "[1, 2, 3, 4, 1, 2, 3, 1, 4, 1, 2, 3]\n"
     ]
    }
   ],
   "source": [
    "print(f\"{li}\")"
   ]
  },
  {
   "cell_type": "code",
   "execution_count": 105,
   "id": "eb2ffa87-2a77-47b2-a0c5-30b4bd6befc9",
   "metadata": {},
   "outputs": [],
   "source": [
    "li2=['apple','apple','banana']"
   ]
  },
  {
   "cell_type": "code",
   "execution_count": 103,
   "id": "76dc7eb4-3766-4773-b3a2-7a9bcfc6228e",
   "metadata": {},
   "outputs": [
    {
     "name": "stdout",
     "output_type": "stream",
     "text": [
      "[1, 2, 3, 4, 1, 2, 3, 1, 4, 1, 2, 3]에서 사용된 숫자의 종류는 4개입니다.\n"
     ]
    }
   ],
   "source": [
    "print(f\"{li}에서 사용된 숫자의 종류는 {len(set(li))}개입니다.\")"
   ]
  },
  {
   "cell_type": "code",
   "execution_count": 106,
   "id": "34daf698-aafd-4550-915e-a7182a3a006b",
   "metadata": {},
   "outputs": [
    {
     "name": "stdout",
     "output_type": "stream",
     "text": [
      "['apple', 'apple', 'banana']에서 사용된 중복된 단어 제거 후 사용된 단어의 갯수 는 2개입니다.\n"
     ]
    }
   ],
   "source": [
    "print(f\"{li2}에서 사용된 중복된 단어 제거 후 사용된 단어의 갯수 는 {len(set(li2))}개입니다.\")"
   ]
  },
  {
   "cell_type": "code",
   "execution_count": 107,
   "id": "21230425-e27a-4d64-93d4-8c489b227f44",
   "metadata": {},
   "outputs": [
    {
     "name": "stdin",
     "output_type": "stream",
     "text": [
      "염기 서열을 입력해주세요 ctacaatgtcagtatacccattgcattagccgg\n"
     ]
    }
   ],
   "source": [
    "st1=input(\"염기 서열을 입력해주세요\")\n",
    "cnt={}\n",
    "for i in st1:\n",
    "    if i in cnt:\n",
    "        cnt[i]=cnt[i]+1\n",
    "    else:\n",
    "        cnt[i]=1"
   ]
  },
  {
   "cell_type": "code",
   "execution_count": 108,
   "id": "92e030ed-bbcf-4ffd-8156-4e9cfc350d1c",
   "metadata": {},
   "outputs": [
    {
     "data": {
      "text/plain": [
       "{'c': 9, 't': 9, 'a': 9, 'g': 6}"
      ]
     },
     "execution_count": 108,
     "metadata": {},
     "output_type": "execute_result"
    }
   ],
   "source": [
    "cnt"
   ]
  },
  {
   "cell_type": "code",
   "execution_count": 109,
   "id": "9ca9a090-211d-4ae6-9e4f-1662cb35b797",
   "metadata": {},
   "outputs": [],
   "source": [
    "# 도전문제"
   ]
  },
  {
   "cell_type": "code",
   "execution_count": 110,
   "id": "50b5b8f8-61a9-4376-844f-53933d1dfe3a",
   "metadata": {},
   "outputs": [
    {
     "name": "stdin",
     "output_type": "stream",
     "text": [
      "염기 서열을 입력해주세요 ctacaatgtcagtatacccattgcattagccgg\n"
     ]
    }
   ],
   "source": [
    "dna=input(\"염기 서열을 입력해주세요\");"
   ]
  },
  {
   "cell_type": "code",
   "execution_count": 111,
   "id": "c7a48a20-868e-4b00-9266-5d4089411187",
   "metadata": {},
   "outputs": [
    {
     "data": {
      "text/plain": [
       "'ctacaatgtcagtatacccattgcattagccgg'"
      ]
     },
     "execution_count": 111,
     "metadata": {},
     "output_type": "execute_result"
    }
   ],
   "source": [
    "dna"
   ]
  },
  {
   "cell_type": "code",
   "execution_count": 112,
   "id": "90964a9a-be33-4990-9ede-e8f5af72ea14",
   "metadata": {},
   "outputs": [
    {
     "data": {
      "text/plain": [
       "33"
      ]
     },
     "execution_count": 112,
     "metadata": {},
     "output_type": "execute_result"
    }
   ],
   "source": [
    "len(dna)"
   ]
  },
  {
   "cell_type": "code",
   "execution_count": 114,
   "id": "d9187101-dac7-480c-b173-fa2a5b88c1af",
   "metadata": {},
   "outputs": [
    {
     "name": "stdout",
     "output_type": "stream",
     "text": [
      "c t a c a a t g t c a g t a t a c c c a t t g c a t t a g c c g g "
     ]
    }
   ],
   "source": [
    "for i in range(0, len(dna)):\n",
    "    print(dna[i], end=' ')"
   ]
  },
  {
   "cell_type": "code",
   "execution_count": 115,
   "id": "2d0f40fa-b303-412b-881c-32dffbd0f2ca",
   "metadata": {},
   "outputs": [
    {
     "name": "stdout",
     "output_type": "stream",
     "text": [
      "cta caa tgt cag tat acc cat tgc att agc cgg "
     ]
    }
   ],
   "source": [
    "for i in range(0, len(dna), 3):\n",
    "    print(dna[i:i+3], end=' ')"
   ]
  },
  {
   "cell_type": "code",
   "execution_count": 116,
   "id": "2c90c8b2-45c6-45c6-802c-b2973d32f4dd",
   "metadata": {},
   "outputs": [
    {
     "name": "stdin",
     "output_type": "stream",
     "text": [
      "염기 서열을 입력해주세요 ctacaatgtcagtatacccattgcattagccgg\n"
     ]
    }
   ],
   "source": [
    "dna=input(\"염기 서열을 입력해주세요\");\n",
    "cnt={}\n",
    "for i in range(0,len(dna), 3):\n",
    "    codon=dna[i:i+3]\n",
    "    if len(codon) == 3:\n",
    "        if codon in cnt:\n",
    "            cnt[codon]=cnt[codon]+1\n",
    "        else:\n",
    "            cnt[codon]=1"
   ]
  },
  {
   "cell_type": "code",
   "execution_count": 117,
   "id": "9cde9045-db73-4fbd-8139-65bc49853fa0",
   "metadata": {},
   "outputs": [
    {
     "data": {
      "text/plain": [
       "{'cta': 1,\n",
       " 'caa': 1,\n",
       " 'tgt': 1,\n",
       " 'cag': 1,\n",
       " 'tat': 1,\n",
       " 'acc': 1,\n",
       " 'cat': 1,\n",
       " 'tgc': 1,\n",
       " 'att': 1,\n",
       " 'agc': 1,\n",
       " 'cgg': 1}"
      ]
     },
     "execution_count": 117,
     "metadata": {},
     "output_type": "execute_result"
    }
   ],
   "source": [
    "cnt"
   ]
  },
  {
   "cell_type": "code",
   "execution_count": 118,
   "id": "316dc1e7-80ec-401e-bcc7-976f0b475374",
   "metadata": {},
   "outputs": [
    {
     "name": "stdin",
     "output_type": "stream",
     "text": [
      "염기 서열을 입력해주세요 ctaca\n"
     ]
    }
   ],
   "source": [
    "dna=input(\"염기 서열을 입력해주세요\");\n",
    "cnt={}\n",
    "for i in range(0,len(dna), 3):\n",
    "    codon=dna[i:i+3]\n",
    "    if len(codon) == 3:\n",
    "        if codon in cnt:\n",
    "            cnt[codon]=cnt[codon]+1\n",
    "        else:\n",
    "            cnt[codon]=1"
   ]
  },
  {
   "cell_type": "code",
   "execution_count": 119,
   "id": "5675be62-7dbf-4f98-aa8b-b18edd40bed3",
   "metadata": {},
   "outputs": [
    {
     "data": {
      "text/plain": [
       "{'cta': 1}"
      ]
     },
     "execution_count": 119,
     "metadata": {},
     "output_type": "execute_result"
    }
   ],
   "source": [
    "cnt"
   ]
  },
  {
   "cell_type": "code",
   "execution_count": 120,
   "id": "d1ff1967-f049-43c4-b547-d1afb228037d",
   "metadata": {},
   "outputs": [
    {
     "name": "stdout",
     "output_type": "stream",
     "text": [
      "[1, 2, 3, 4, 5, 6, 7, 8, 9]\n"
     ]
    }
   ],
   "source": [
    "li=[1,2,[3,4],5,[6,7],[8,9]]\n",
    "\n",
    "li_new=[]\n",
    "\n",
    "for i in li:\n",
    "    if type(i) is list:\n",
    "        for j in i:\n",
    "            li_new.append(j)\n",
    "    else:\n",
    "        li_new.append(i)\n",
    "\n",
    "print(li_new)"
   ]
  },
  {
   "cell_type": "code",
   "execution_count": 121,
   "id": "dd27fd1b-ced9-4f96-b231-3787843e49dd",
   "metadata": {},
   "outputs": [
    {
     "name": "stdout",
     "output_type": "stream",
     "text": [
      "Help on built-in function print in module builtins:\n",
      "\n",
      "print(*args, sep=' ', end='\\n', file=None, flush=False)\n",
      "    Prints the values to a stream, or to sys.stdout by default.\n",
      "\n",
      "    sep\n",
      "      string inserted between values, default a space.\n",
      "    end\n",
      "      string appended after the last value, default a newline.\n",
      "    file\n",
      "      a file-like object (stream); defaults to the current sys.stdout.\n",
      "    flush\n",
      "      whether to forcibly flush the stream.\n",
      "\n"
     ]
    }
   ],
   "source": [
    "help(print)"
   ]
  },
  {
   "cell_type": "markdown",
   "id": "4af7218e-3172-4c9b-9347-717c2e6bdbe3",
   "metadata": {},
   "source": [
    "1. $  f(x) = 2x+1 $"
   ]
  },
  {
   "cell_type": "code",
   "execution_count": 1,
   "id": "3ca7543a-227a-4a95-80a2-ff61c4cce160",
   "metadata": {},
   "outputs": [],
   "source": [
    "def f(x):\n",
    "    return 2*x +1"
   ]
  },
  {
   "cell_type": "code",
   "execution_count": 2,
   "id": "2ea220d6-3a17-4c1f-b673-fb00c5728f96",
   "metadata": {},
   "outputs": [
    {
     "data": {
      "text/plain": [
       "21"
      ]
     },
     "execution_count": 2,
     "metadata": {},
     "output_type": "execute_result"
    }
   ],
   "source": [
    "f(10)"
   ]
  },
  {
   "cell_type": "code",
   "execution_count": 3,
   "id": "1ca8b924-f228-4266-82ed-a04c10c82da9",
   "metadata": {},
   "outputs": [
    {
     "name": "stdout",
     "output_type": "stream",
     "text": [
      "21\n"
     ]
    }
   ],
   "source": [
    "print(f(10))"
   ]
  },
  {
   "cell_type": "code",
   "execution_count": 4,
   "id": "2125d25d-f25e-4321-84f1-9538f0e764bc",
   "metadata": {},
   "outputs": [],
   "source": [
    "def f2(x):\n",
    "    return x**2 + 2*x + 1"
   ]
  },
  {
   "cell_type": "code",
   "execution_count": 5,
   "id": "21c068e2-d502-427c-ba61-1ea10517c18c",
   "metadata": {},
   "outputs": [
    {
     "name": "stdout",
     "output_type": "stream",
     "text": [
      "121\n"
     ]
    }
   ],
   "source": [
    "print(f2(10))"
   ]
  },
  {
   "cell_type": "code",
   "execution_count": 6,
   "id": "29ca82c5-6b77-4003-b9eb-9cf19b0fb2a9",
   "metadata": {},
   "outputs": [],
   "source": [
    "def mul(*values):\n",
    "    tot=1\n",
    "    for i in values:\n",
    "        tot = tot *i\n",
    "    return tot"
   ]
  },
  {
   "cell_type": "code",
   "execution_count": 8,
   "id": "51b5d0ea-ed05-443b-ab45-65a445520415",
   "metadata": {},
   "outputs": [
    {
     "name": "stdout",
     "output_type": "stream",
     "text": [
      "3150\n"
     ]
    }
   ],
   "source": [
    "print(mul(5,7,9,10))"
   ]
  },
  {
   "cell_type": "code",
   "execution_count": 9,
   "id": "5e69733b-3c2a-460a-8e28-24816a017053",
   "metadata": {},
   "outputs": [],
   "source": [
    "def fun1(*values, valuesA=10, valuesB=20):\n",
    "    pass"
   ]
  },
  {
   "cell_type": "code",
   "execution_count": 10,
   "id": "b3f1523c-14e2-4d27-b28d-24aa326d44e3",
   "metadata": {},
   "outputs": [],
   "source": [
    "fun1(1,2,3,4,5)"
   ]
  },
  {
   "cell_type": "code",
   "execution_count": 11,
   "id": "2e148590-9d7d-4efa-815d-e79fdc680ea2",
   "metadata": {},
   "outputs": [],
   "source": [
    "fun1(1,2,3,4,5,valuesA=15 )"
   ]
  },
  {
   "cell_type": "code",
   "execution_count": 12,
   "id": "e66f154f-0c8a-4c2b-b109-f9533d402ff7",
   "metadata": {},
   "outputs": [],
   "source": [
    "fun1(1,2,3,4,5,valuesA=15, valuesB=25)"
   ]
  },
  {
   "cell_type": "code",
   "execution_count": 13,
   "id": "d3e2f60e-7db7-4b54-be9f-ec2e8e361bdf",
   "metadata": {},
   "outputs": [],
   "source": [
    "def fun2(*values, valueA, valueB):\n",
    "    pass"
   ]
  },
  {
   "cell_type": "code",
   "execution_count": 14,
   "id": "0190da31-8cff-4122-8c79-dbb9f5c3b22c",
   "metadata": {},
   "outputs": [
    {
     "ename": "TypeError",
     "evalue": "fun2() missing 2 required keyword-only arguments: 'valueA' and 'valueB'",
     "output_type": "error",
     "traceback": [
      "\u001b[1;31m---------------------------------------------------------------------------\u001b[0m",
      "\u001b[1;31mTypeError\u001b[0m                                 Traceback (most recent call last)",
      "Cell \u001b[1;32mIn[14], line 1\u001b[0m\n\u001b[1;32m----> 1\u001b[0m fun2(\u001b[38;5;241m1\u001b[39m,\u001b[38;5;241m2\u001b[39m,\u001b[38;5;241m3\u001b[39m,\u001b[38;5;241m4\u001b[39m,\u001b[38;5;241m5\u001b[39m)\n",
      "\u001b[1;31mTypeError\u001b[0m: fun2() missing 2 required keyword-only arguments: 'valueA' and 'valueB'"
     ]
    }
   ],
   "source": [
    "fun2(1,2,3,4,5)"
   ]
  },
  {
   "cell_type": "code",
   "execution_count": null,
   "id": "850daff4-9152-4986-9aaf-53619f0432f6",
   "metadata": {},
   "outputs": [],
   "source": []
  }
 ],
 "metadata": {
  "kernelspec": {
   "display_name": "Python 3 (ipykernel)",
   "language": "python",
   "name": "python3"
  },
  "language_info": {
   "codemirror_mode": {
    "name": "ipython",
    "version": 3
   },
   "file_extension": ".py",
   "mimetype": "text/x-python",
   "name": "python",
   "nbconvert_exporter": "python",
   "pygments_lexer": "ipython3",
   "version": "3.12.4"
  }
 },
 "nbformat": 4,
 "nbformat_minor": 5
}
