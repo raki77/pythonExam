{
 "cells": [
  {
   "cell_type": "code",
   "execution_count": 2,
   "id": "081b192d-13d9-4904-b586-4865518fb0c9",
   "metadata": {},
   "outputs": [],
   "source": [
    "# 1) 매개변수 X  리턴값 X"
   ]
  },
  {
   "cell_type": "code",
   "execution_count": 3,
   "id": "99f623a5-b6f1-46dc-9c2f-a6f087f0c1af",
   "metadata": {},
   "outputs": [],
   "source": [
    "def f1():\n",
    "    print(\"hi\")"
   ]
  },
  {
   "cell_type": "code",
   "execution_count": 4,
   "id": "1d2c2107-9053-41d3-b26a-a9be458f4bd1",
   "metadata": {},
   "outputs": [
    {
     "name": "stdout",
     "output_type": "stream",
     "text": [
      "hi\n"
     ]
    }
   ],
   "source": [
    "f1()"
   ]
  },
  {
   "cell_type": "code",
   "execution_count": 5,
   "id": "003b610f-b873-4f32-81bf-0104d0aea80d",
   "metadata": {},
   "outputs": [],
   "source": [
    "# 2) 매개변수 O  리턴값 X\n",
    "def f2(gift):\n",
    "    print(gift)"
   ]
  },
  {
   "cell_type": "code",
   "execution_count": 6,
   "id": "ce93382b-df8e-46f9-9502-178e503615ad",
   "metadata": {},
   "outputs": [
    {
     "name": "stdout",
     "output_type": "stream",
     "text": [
      "사탕\n"
     ]
    }
   ],
   "source": [
    "f2(\"사탕\")"
   ]
  },
  {
   "cell_type": "code",
   "execution_count": 7,
   "id": "f585fc21-f76b-4b6e-9da4-299b3c7fde9f",
   "metadata": {},
   "outputs": [],
   "source": [
    "# 3) 매개변수 X  리턴값 O\n",
    "def f3():\n",
    "    return \"과자\""
   ]
  },
  {
   "cell_type": "code",
   "execution_count": 8,
   "id": "a7783132-6aee-4c0d-ade0-9f77174e4b41",
   "metadata": {},
   "outputs": [],
   "source": [
    "result=f3()"
   ]
  },
  {
   "cell_type": "code",
   "execution_count": 9,
   "id": "7125d5f5-5fbe-47b9-9030-4a0a8ad39785",
   "metadata": {},
   "outputs": [
    {
     "data": {
      "text/plain": [
       "'과자'"
      ]
     },
     "execution_count": 9,
     "metadata": {},
     "output_type": "execute_result"
    }
   ],
   "source": [
    "result"
   ]
  },
  {
   "cell_type": "code",
   "execution_count": 10,
   "id": "f666a16c-0226-4490-aee6-cd7692809d7e",
   "metadata": {},
   "outputs": [],
   "source": [
    "# 3) 매개변수 O 리턴값 O\n",
    "def f4(gift):\n",
    "    print(gift+\" 받음\")\n",
    "    return \"딸기\""
   ]
  },
  {
   "cell_type": "code",
   "execution_count": 11,
   "id": "90657ea4-0a1b-4e2f-bb93-3eeefdcf94d7",
   "metadata": {},
   "outputs": [
    {
     "name": "stdout",
     "output_type": "stream",
     "text": [
      "새우깡 받음\n"
     ]
    }
   ],
   "source": [
    "result2=f4(\"새우깡\")"
   ]
  },
  {
   "cell_type": "code",
   "execution_count": 12,
   "id": "8077c552-c700-45f5-9b17-a02c448b3d51",
   "metadata": {},
   "outputs": [
    {
     "data": {
      "text/plain": [
       "'딸기'"
      ]
     },
     "execution_count": 12,
     "metadata": {},
     "output_type": "execute_result"
    }
   ],
   "source": [
    "result2"
   ]
  },
  {
   "cell_type": "code",
   "execution_count": 18,
   "id": "760d5d1e-235f-4dc0-8b2f-0dc1b9672561",
   "metadata": {},
   "outputs": [],
   "source": [
    "# 가변 매개변수 : 매개변수를 원하는 만큼 받을 수 있는 함수"
   ]
  },
  {
   "cell_type": "code",
   "execution_count": 14,
   "id": "58bfd54d-a44d-45f3-b71c-8e8ed69db5ee",
   "metadata": {},
   "outputs": [],
   "source": [
    "def f5(*values):\n",
    "    print(values)"
   ]
  },
  {
   "cell_type": "code",
   "execution_count": 15,
   "id": "cb163dd7-6205-41e0-8720-bb1dae09941e",
   "metadata": {},
   "outputs": [
    {
     "name": "stdout",
     "output_type": "stream",
     "text": [
      "()\n"
     ]
    }
   ],
   "source": [
    "f5()"
   ]
  },
  {
   "cell_type": "code",
   "execution_count": 16,
   "id": "3f623f5a-3242-4c13-8768-b3b80e64b5c6",
   "metadata": {},
   "outputs": [
    {
     "name": "stdout",
     "output_type": "stream",
     "text": [
      "(1,)\n"
     ]
    }
   ],
   "source": [
    "f5(1)"
   ]
  },
  {
   "cell_type": "code",
   "execution_count": 17,
   "id": "1bc377f2-c239-4612-9018-78d0f7043ae1",
   "metadata": {},
   "outputs": [
    {
     "name": "stdout",
     "output_type": "stream",
     "text": [
      "(1, 8)\n"
     ]
    }
   ],
   "source": [
    "f5(1,8)"
   ]
  },
  {
   "cell_type": "code",
   "execution_count": 19,
   "id": "2ea01413-23bf-4114-a256-f34cd2ff93a9",
   "metadata": {},
   "outputs": [],
   "source": [
    "def f6(gift, *values):\n",
    "    print(gift, values)"
   ]
  },
  {
   "cell_type": "code",
   "execution_count": 20,
   "id": "e5c3f362-a7b8-40ea-8b94-d1655dd20783",
   "metadata": {},
   "outputs": [
    {
     "ename": "TypeError",
     "evalue": "f6() missing 1 required positional argument: 'gift'",
     "output_type": "error",
     "traceback": [
      "\u001b[1;31m---------------------------------------------------------------------------\u001b[0m",
      "\u001b[1;31mTypeError\u001b[0m                                 Traceback (most recent call last)",
      "Cell \u001b[1;32mIn[20], line 1\u001b[0m\n\u001b[1;32m----> 1\u001b[0m f6()\n",
      "\u001b[1;31mTypeError\u001b[0m: f6() missing 1 required positional argument: 'gift'"
     ]
    }
   ],
   "source": [
    "f6()"
   ]
  },
  {
   "cell_type": "code",
   "execution_count": 21,
   "id": "929bc3ca-0042-477f-8d13-dcaf8d965f11",
   "metadata": {},
   "outputs": [
    {
     "name": "stdout",
     "output_type": "stream",
     "text": [
      "수박 ()\n"
     ]
    }
   ],
   "source": [
    "f6(\"수박\")"
   ]
  },
  {
   "cell_type": "code",
   "execution_count": 22,
   "id": "286e9188-cf00-4202-9189-89ba4546a4e4",
   "metadata": {},
   "outputs": [
    {
     "name": "stdout",
     "output_type": "stream",
     "text": [
      "수박 (1,)\n"
     ]
    }
   ],
   "source": [
    "f6(\"수박\", 1)"
   ]
  },
  {
   "cell_type": "code",
   "execution_count": 23,
   "id": "dca104d3-9303-460a-82ff-634517a649cd",
   "metadata": {},
   "outputs": [
    {
     "name": "stdout",
     "output_type": "stream",
     "text": [
      "수박 (1, 8)\n"
     ]
    }
   ],
   "source": [
    "f6(\"수박\", 1,8)"
   ]
  },
  {
   "cell_type": "code",
   "execution_count": 24,
   "id": "732d9f5c-9539-41ec-8b15-f6f30fd84718",
   "metadata": {},
   "outputs": [],
   "source": [
    "def f7(*values, gift):\n",
    "    pass    "
   ]
  },
  {
   "cell_type": "markdown",
   "id": "2904b503-a24d-4d88-b217-3fb997235133",
   "metadata": {},
   "source": [
    "### 제약  \n",
    "가변 매개변수 뒤에는 일반 매개변수 올 수 없음  \n",
    "가변 매개변수는 하나만 사용할 수 있음"
   ]
  },
  {
   "cell_type": "code",
   "execution_count": 27,
   "id": "3ec0b6cc-2a2e-4298-8e9d-c6a13c59a18e",
   "metadata": {},
   "outputs": [],
   "source": [
    "# 제약\n",
    "# 가변 매개변수 뒤에는 일반 매개변수 올 수 없음\n",
    "# 가변 매개변수는 하나만 사용할 수 있음\n"
   ]
  },
  {
   "cell_type": "code",
   "execution_count": 25,
   "id": "720f89a9-d764-47de-a8d5-6ab346fb2e2a",
   "metadata": {},
   "outputs": [],
   "source": [
    "def f7(*values, gift):\n",
    "    print(values, gift)  "
   ]
  },
  {
   "cell_type": "code",
   "execution_count": 26,
   "id": "f08862d5-9a30-4309-8647-5fdc20f6caff",
   "metadata": {},
   "outputs": [
    {
     "ename": "TypeError",
     "evalue": "f7() missing 1 required keyword-only argument: 'gift'",
     "output_type": "error",
     "traceback": [
      "\u001b[1;31m---------------------------------------------------------------------------\u001b[0m",
      "\u001b[1;31mTypeError\u001b[0m                                 Traceback (most recent call last)",
      "Cell \u001b[1;32mIn[26], line 1\u001b[0m\n\u001b[1;32m----> 1\u001b[0m f7(\u001b[38;5;124m\"\u001b[39m\u001b[38;5;124m빵\u001b[39m\u001b[38;5;124m\"\u001b[39m)\n",
      "\u001b[1;31mTypeError\u001b[0m: f7() missing 1 required keyword-only argument: 'gift'"
     ]
    }
   ],
   "source": [
    "f7(\"빵\")"
   ]
  },
  {
   "cell_type": "code",
   "execution_count": 30,
   "id": "a0a9b6a4-43fa-411e-b243-77a058d9494a",
   "metadata": {},
   "outputs": [
    {
     "ename": "SyntaxError",
     "evalue": "* argument may appear only once (583299259.py, line 1)",
     "output_type": "error",
     "traceback": [
      "\u001b[1;36m  Cell \u001b[1;32mIn[30], line 1\u001b[1;36m\u001b[0m\n\u001b[1;33m    def f8(*values1, *values2):\u001b[0m\n\u001b[1;37m                     ^\u001b[0m\n\u001b[1;31mSyntaxError\u001b[0m\u001b[1;31m:\u001b[0m * argument may appear only once\n"
     ]
    }
   ],
   "source": [
    "def f8(*values1, *values2):\n",
    "    pass"
   ]
  },
  {
   "cell_type": "code",
   "execution_count": 34,
   "id": "53e50122-e549-412b-b08e-989223c296f0",
   "metadata": {},
   "outputs": [],
   "source": [
    "# 기본 매개변수(기본값이 있는 매개변수 이므로 그 해당되는 매개변수자리에 실제값을 넣어도 에러가 안나고\n",
    "# 기본값이 출력)"
   ]
  },
  {
   "cell_type": "code",
   "execution_count": 31,
   "id": "e60a9555-adc1-4137-a8e9-a9bbcd7a0025",
   "metadata": {},
   "outputs": [],
   "source": [
    "def f9(menu=\"빵\"):\n",
    "    print(menu)"
   ]
  },
  {
   "cell_type": "code",
   "execution_count": 32,
   "id": "75452d40-2f61-4fa6-9312-6c8a7b935171",
   "metadata": {},
   "outputs": [
    {
     "name": "stdout",
     "output_type": "stream",
     "text": [
      "빵\n"
     ]
    }
   ],
   "source": [
    "f9()"
   ]
  },
  {
   "cell_type": "code",
   "execution_count": 35,
   "id": "65ae6630-b6a1-4259-877d-38af243da943",
   "metadata": {},
   "outputs": [
    {
     "name": "stdout",
     "output_type": "stream",
     "text": [
      "밥\n"
     ]
    }
   ],
   "source": [
    "f9(\"밥\")"
   ]
  },
  {
   "cell_type": "code",
   "execution_count": 36,
   "id": "74e7fe96-3644-48d8-a10d-bf4061182333",
   "metadata": {},
   "outputs": [
    {
     "name": "stdout",
     "output_type": "stream",
     "text": [
      "비빔밥\n"
     ]
    }
   ],
   "source": [
    "f9(menu=\"비빔밥\")"
   ]
  },
  {
   "cell_type": "code",
   "execution_count": 37,
   "id": "ef64d996-33a0-441a-862a-0f94a0424049",
   "metadata": {},
   "outputs": [
    {
     "ename": "TypeError",
     "evalue": "f9() takes from 0 to 1 positional arguments but 2 were given",
     "output_type": "error",
     "traceback": [
      "\u001b[1;31m---------------------------------------------------------------------------\u001b[0m",
      "\u001b[1;31mTypeError\u001b[0m                                 Traceback (most recent call last)",
      "Cell \u001b[1;32mIn[37], line 1\u001b[0m\n\u001b[1;32m----> 1\u001b[0m f9(\u001b[38;5;124m\"\u001b[39m\u001b[38;5;124m밥\u001b[39m\u001b[38;5;124m\"\u001b[39m,\u001b[38;5;124m\"\u001b[39m\u001b[38;5;124m두부\u001b[39m\u001b[38;5;124m\"\u001b[39m)\n",
      "\u001b[1;31mTypeError\u001b[0m: f9() takes from 0 to 1 positional arguments but 2 were given"
     ]
    }
   ],
   "source": [
    "f9(\"밥\",\"두부\")"
   ]
  },
  {
   "cell_type": "code",
   "execution_count": 38,
   "id": "085e4425-97c1-4414-a37f-9cf7eed9e115",
   "metadata": {},
   "outputs": [],
   "source": [
    "def f10(gift, menu=\"밥\"):\n",
    "    print(gift, menu)"
   ]
  },
  {
   "cell_type": "code",
   "execution_count": 39,
   "id": "afa27333-11d1-414c-9db8-9d3a5478db7d",
   "metadata": {},
   "outputs": [
    {
     "name": "stdout",
     "output_type": "stream",
     "text": [
      "초콜렛 밥\n"
     ]
    }
   ],
   "source": [
    "f10(\"초콜렛\")"
   ]
  },
  {
   "cell_type": "code",
   "execution_count": 42,
   "id": "48da9d28-dcae-45fd-9324-96640b34147c",
   "metadata": {},
   "outputs": [
    {
     "ename": "SyntaxError",
     "evalue": "parameter without a default follows parameter with a default (1016018677.py, line 1)",
     "output_type": "error",
     "traceback": [
      "\u001b[1;36m  Cell \u001b[1;32mIn[42], line 1\u001b[1;36m\u001b[0m\n\u001b[1;33m    def f11(menu=\"밥\", gift):\u001b[0m\n\u001b[1;37m                      ^\u001b[0m\n\u001b[1;31mSyntaxError\u001b[0m\u001b[1;31m:\u001b[0m parameter without a default follows parameter with a default\n"
     ]
    }
   ],
   "source": [
    "def f11(menu=\"밥\", gift):\n",
    "    pass"
   ]
  },
  {
   "cell_type": "code",
   "execution_count": 46,
   "id": "7b72691e-4e88-4667-913d-144c713929a3",
   "metadata": {},
   "outputs": [],
   "source": [
    "def f12(*values, menu=\"밥\"):\n",
    "    print(values, menu)"
   ]
  },
  {
   "cell_type": "code",
   "execution_count": 47,
   "id": "f00d777f-7b60-48f6-88bb-4dcca1573a49",
   "metadata": {},
   "outputs": [
    {
     "name": "stdout",
     "output_type": "stream",
     "text": [
      "() 밥\n"
     ]
    }
   ],
   "source": [
    "f12()"
   ]
  },
  {
   "cell_type": "code",
   "execution_count": 50,
   "id": "26886249-baf2-49cb-8c01-be820717e2cc",
   "metadata": {},
   "outputs": [
    {
     "name": "stdout",
     "output_type": "stream",
     "text": [
      "('삼겹살',) 밥\n"
     ]
    }
   ],
   "source": [
    "f12(\"삼겹살\")"
   ]
  },
  {
   "cell_type": "code",
   "execution_count": 51,
   "id": "7c18d305-19e5-4c4e-8d5b-59f6120c8fde",
   "metadata": {},
   "outputs": [
    {
     "name": "stdout",
     "output_type": "stream",
     "text": [
      "('삼겹살', '상추') 밥\n"
     ]
    }
   ],
   "source": [
    "f12(\"삼겹살\", \"상추\")"
   ]
  },
  {
   "cell_type": "code",
   "execution_count": null,
   "id": "a39b7fdd-b948-4396-9f7c-9f35d2800f19",
   "metadata": {},
   "outputs": [],
   "source": []
  },
  {
   "cell_type": "code",
   "execution_count": 48,
   "id": "e89c617a-b95d-4c30-9a2b-140ad041f0d9",
   "metadata": {},
   "outputs": [],
   "source": [
    "def f13(*values, menu=\"밥\"):\n",
    "    print(menu, values)"
   ]
  },
  {
   "cell_type": "code",
   "execution_count": 49,
   "id": "06a7db41-b068-4d90-98f4-81236295bf7e",
   "metadata": {},
   "outputs": [
    {
     "name": "stdout",
     "output_type": "stream",
     "text": [
      "밥 ()\n"
     ]
    }
   ],
   "source": [
    "f13()"
   ]
  },
  {
   "cell_type": "code",
   "execution_count": 52,
   "id": "de6b4f6f-9a61-41ec-811e-b1d48d2d5cf4",
   "metadata": {},
   "outputs": [
    {
     "name": "stdout",
     "output_type": "stream",
     "text": [
      "냉면 ('삼겹살', '상추')\n"
     ]
    }
   ],
   "source": [
    "f13(\"삼겹살\", \"상추\", menu=\"냉면\")"
   ]
  },
  {
   "cell_type": "code",
   "execution_count": 55,
   "id": "7a33caa1-eb75-4ff6-a09a-9aa185c99642",
   "metadata": {},
   "outputs": [],
   "source": [
    "def f14(menu=\"밥\", *values):\n",
    "    print(menu, values)"
   ]
  },
  {
   "cell_type": "code",
   "execution_count": 56,
   "id": "2a1f648f-43fb-4735-9c96-4934be56d61a",
   "metadata": {},
   "outputs": [
    {
     "name": "stdout",
     "output_type": "stream",
     "text": [
      "밥 ()\n"
     ]
    }
   ],
   "source": [
    "f14()"
   ]
  },
  {
   "cell_type": "code",
   "execution_count": 57,
   "id": "0324f5e7-95c1-43ce-bb9f-eba2a90c7ad6",
   "metadata": {},
   "outputs": [
    {
     "name": "stdout",
     "output_type": "stream",
     "text": [
      "삼겹살 ()\n"
     ]
    }
   ],
   "source": [
    "f14(\"삼겹살\")"
   ]
  },
  {
   "cell_type": "code",
   "execution_count": 58,
   "id": "5e620a2b-a1e6-4a9a-baf6-d17669fcbf0f",
   "metadata": {},
   "outputs": [
    {
     "name": "stdout",
     "output_type": "stream",
     "text": [
      "삼겹살 ('냉면',)\n"
     ]
    }
   ],
   "source": [
    "f14(\"삼겹살\",\"냉면\")"
   ]
  },
  {
   "cell_type": "code",
   "execution_count": 59,
   "id": "5b075fbd-b1bc-47ab-b529-86882947cf40",
   "metadata": {},
   "outputs": [
    {
     "name": "stdout",
     "output_type": "stream",
     "text": [
      "삼겹살 ('냉면', '된장')\n"
     ]
    }
   ],
   "source": [
    "f14(\"삼겹살\",\"냉면\", \"된장\")"
   ]
  },
  {
   "cell_type": "code",
   "execution_count": null,
   "id": "02432632-386a-421a-b7e9-386a68e58304",
   "metadata": {},
   "outputs": [],
   "source": [
    "# 매개변수 앞에 *는 튜플, **는 딕셔너리"
   ]
  },
  {
   "cell_type": "code",
   "execution_count": 61,
   "id": "e47776bb-364e-4a0d-9caf-058bc4e90501",
   "metadata": {},
   "outputs": [],
   "source": [
    "def f15(**values):\n",
    "    print(values)"
   ]
  },
  {
   "cell_type": "code",
   "execution_count": 62,
   "id": "5e51fcf9-fa70-48c0-8ae8-59cad0f921bd",
   "metadata": {},
   "outputs": [
    {
     "name": "stdout",
     "output_type": "stream",
     "text": [
      "{}\n"
     ]
    }
   ],
   "source": [
    "f15()"
   ]
  },
  {
   "cell_type": "code",
   "execution_count": 63,
   "id": "1404e3c4-3085-45cc-85ce-2debedbe7288",
   "metadata": {},
   "outputs": [
    {
     "data": {
      "text/plain": [
       "dict"
      ]
     },
     "execution_count": 63,
     "metadata": {},
     "output_type": "execute_result"
    }
   ],
   "source": [
    "type({})"
   ]
  },
  {
   "cell_type": "code",
   "execution_count": 65,
   "id": "e996a25e-58ef-4849-bb37-f3da9bea790a",
   "metadata": {},
   "outputs": [],
   "source": [
    "# 집합 set(), 집합은 순서 없고, 중복을 제거"
   ]
  },
  {
   "cell_type": "code",
   "execution_count": 64,
   "id": "9ea12945-c195-454e-a7ba-d2c866c30e50",
   "metadata": {},
   "outputs": [
    {
     "data": {
      "text/plain": [
       "set"
      ]
     },
     "execution_count": 64,
     "metadata": {},
     "output_type": "execute_result"
    }
   ],
   "source": [
    "type({1,2,3})"
   ]
  },
  {
   "cell_type": "code",
   "execution_count": 66,
   "id": "fd30c8d7-ea65-4fa8-b27f-3c27577d3ddc",
   "metadata": {},
   "outputs": [
    {
     "data": {
      "text/plain": [
       "{1, 2, 3}"
      ]
     },
     "execution_count": 66,
     "metadata": {},
     "output_type": "execute_result"
    }
   ],
   "source": [
    "{1,2,3,3,3,3,3,3}"
   ]
  },
  {
   "cell_type": "code",
   "execution_count": 67,
   "id": "69d1f832-2bd9-43e0-bfde-bef5bda78b95",
   "metadata": {},
   "outputs": [
    {
     "ename": "TypeError",
     "evalue": "unhashable type: 'list'",
     "output_type": "error",
     "traceback": [
      "\u001b[1;31m---------------------------------------------------------------------------\u001b[0m",
      "\u001b[1;31mTypeError\u001b[0m                                 Traceback (most recent call last)",
      "Cell \u001b[1;32mIn[67], line 1\u001b[0m\n\u001b[1;32m----> 1\u001b[0m {\u001b[38;5;241m1\u001b[39m,\u001b[38;5;241m2\u001b[39m,[\u001b[38;5;124m'\u001b[39m\u001b[38;5;124mhi\u001b[39m\u001b[38;5;124m'\u001b[39m,\u001b[38;5;241m5\u001b[39m]}\n",
      "\u001b[1;31mTypeError\u001b[0m: unhashable type: 'list'"
     ]
    }
   ],
   "source": [
    "{1,2,['hi',5]}"
   ]
  },
  {
   "cell_type": "code",
   "execution_count": 68,
   "id": "70f3f2aa-915f-449d-ba37-e2e5ce06cbdc",
   "metadata": {},
   "outputs": [
    {
     "ename": "TypeError",
     "evalue": "unhashable type: 'dict'",
     "output_type": "error",
     "traceback": [
      "\u001b[1;31m---------------------------------------------------------------------------\u001b[0m",
      "\u001b[1;31mTypeError\u001b[0m                                 Traceback (most recent call last)",
      "Cell \u001b[1;32mIn[68], line 1\u001b[0m\n\u001b[1;32m----> 1\u001b[0m {\u001b[38;5;241m1\u001b[39m,\u001b[38;5;241m2\u001b[39m,{}}\n",
      "\u001b[1;31mTypeError\u001b[0m: unhashable type: 'dict'"
     ]
    }
   ],
   "source": [
    "{1,2,{}}"
   ]
  },
  {
   "cell_type": "code",
   "execution_count": 69,
   "id": "f2756206-e7df-4807-9246-31fa3763582c",
   "metadata": {},
   "outputs": [
    {
     "ename": "TypeError",
     "evalue": "unhashable type: 'dict'",
     "output_type": "error",
     "traceback": [
      "\u001b[1;31m---------------------------------------------------------------------------\u001b[0m",
      "\u001b[1;31mTypeError\u001b[0m                                 Traceback (most recent call last)",
      "Cell \u001b[1;32mIn[69], line 1\u001b[0m\n\u001b[1;32m----> 1\u001b[0m {\u001b[38;5;241m1\u001b[39m,\u001b[38;5;241m2\u001b[39m,{\u001b[38;5;124m'\u001b[39m\u001b[38;5;124ma\u001b[39m\u001b[38;5;124m'\u001b[39m:\u001b[38;5;124m'\u001b[39m\u001b[38;5;124mapple\u001b[39m\u001b[38;5;124m'\u001b[39m}}\n",
      "\u001b[1;31mTypeError\u001b[0m: unhashable type: 'dict'"
     ]
    }
   ],
   "source": [
    "{1,2,{'a':'apple'}}"
   ]
  },
  {
   "cell_type": "code",
   "execution_count": 70,
   "id": "1e009eeb-80a2-4a5f-918c-e5a94be5f812",
   "metadata": {},
   "outputs": [
    {
     "name": "stdout",
     "output_type": "stream",
     "text": [
      "1\n",
      "2\n",
      "3\n"
     ]
    }
   ],
   "source": [
    "for i in {1,2,3,3,3,3,3,3}:\n",
    "    print(i)"
   ]
  },
  {
   "cell_type": "code",
   "execution_count": 83,
   "id": "d7444655-6793-4f15-9a8a-c11dd23e1ff2",
   "metadata": {},
   "outputs": [],
   "source": [
    "def f15(**dic):\n",
    "    print(dic)"
   ]
  },
  {
   "cell_type": "code",
   "execution_count": 84,
   "id": "acdcfc4b-3dac-4cb6-b39c-f21092ea4ec0",
   "metadata": {},
   "outputs": [
    {
     "name": "stdout",
     "output_type": "stream",
     "text": [
      "{}\n"
     ]
    }
   ],
   "source": [
    "f15()"
   ]
  },
  {
   "cell_type": "code",
   "execution_count": 73,
   "id": "8be7b36b-3ea9-4f8d-9b29-b0f893126f65",
   "metadata": {},
   "outputs": [
    {
     "data": {
      "text/plain": [
       "dict"
      ]
     },
     "execution_count": 73,
     "metadata": {},
     "output_type": "execute_result"
    }
   ],
   "source": [
    "type({})"
   ]
  },
  {
   "cell_type": "code",
   "execution_count": 85,
   "id": "4371fd59-7355-4ae1-b1bc-7ce0fd3010e2",
   "metadata": {},
   "outputs": [
    {
     "ename": "SyntaxError",
     "evalue": "invalid syntax (2861557803.py, line 1)",
     "output_type": "error",
     "traceback": [
      "\u001b[1;36m  Cell \u001b[1;32mIn[85], line 1\u001b[1;36m\u001b[0m\n\u001b[1;33m    f15('a':'apple')\u001b[0m\n\u001b[1;37m           ^\u001b[0m\n\u001b[1;31mSyntaxError\u001b[0m\u001b[1;31m:\u001b[0m invalid syntax\n"
     ]
    }
   ],
   "source": [
    "f15('a':'apple')"
   ]
  },
  {
   "cell_type": "code",
   "execution_count": 86,
   "id": "2750616e-40da-4d83-a40c-5d0c56b1ee68",
   "metadata": {},
   "outputs": [
    {
     "ename": "TypeError",
     "evalue": "f15() takes 0 positional arguments but 1 was given",
     "output_type": "error",
     "traceback": [
      "\u001b[1;31m---------------------------------------------------------------------------\u001b[0m",
      "\u001b[1;31mTypeError\u001b[0m                                 Traceback (most recent call last)",
      "Cell \u001b[1;32mIn[86], line 1\u001b[0m\n\u001b[1;32m----> 1\u001b[0m f15({\u001b[38;5;124m'\u001b[39m\u001b[38;5;124ma\u001b[39m\u001b[38;5;124m'\u001b[39m:\u001b[38;5;124m'\u001b[39m\u001b[38;5;124mapple\u001b[39m\u001b[38;5;124m'\u001b[39m})\n",
      "\u001b[1;31mTypeError\u001b[0m: f15() takes 0 positional arguments but 1 was given"
     ]
    }
   ],
   "source": [
    "f15({'a':'apple'})"
   ]
  },
  {
   "cell_type": "code",
   "execution_count": 87,
   "id": "21c43d8f-bdf6-48bf-a08f-6ca7e48260da",
   "metadata": {},
   "outputs": [
    {
     "ename": "SyntaxError",
     "evalue": "expression cannot contain assignment, perhaps you meant \"==\"? (3455366398.py, line 1)",
     "output_type": "error",
     "traceback": [
      "\u001b[1;36m  Cell \u001b[1;32mIn[87], line 1\u001b[1;36m\u001b[0m\n\u001b[1;33m    f15('a'='apple')\u001b[0m\n\u001b[1;37m        ^\u001b[0m\n\u001b[1;31mSyntaxError\u001b[0m\u001b[1;31m:\u001b[0m expression cannot contain assignment, perhaps you meant \"==\"?\n"
     ]
    }
   ],
   "source": [
    "f15('a'='apple')"
   ]
  },
  {
   "cell_type": "code",
   "execution_count": 88,
   "id": "5c9b48ea-02d3-4fa3-b101-2487a85e9561",
   "metadata": {},
   "outputs": [
    {
     "name": "stdout",
     "output_type": "stream",
     "text": [
      "{'a': 'apple'}\n"
     ]
    }
   ],
   "source": [
    "f15(a='apple')"
   ]
  },
  {
   "cell_type": "code",
   "execution_count": 89,
   "id": "56cbcba7-d25b-40c4-8e34-ab41faeb8273",
   "metadata": {},
   "outputs": [
    {
     "name": "stdout",
     "output_type": "stream",
     "text": [
      "{'a': 'apple', 'b': 'banana'}\n"
     ]
    }
   ],
   "source": [
    "f15(a='apple', b='banana')"
   ]
  },
  {
   "cell_type": "code",
   "execution_count": 90,
   "id": "4c564476-48e7-40da-ac08-367e021a8575",
   "metadata": {},
   "outputs": [],
   "source": [
    "def f16(gift, **dic):\n",
    "    print(gift, dic)"
   ]
  },
  {
   "cell_type": "code",
   "execution_count": 91,
   "id": "3f193531-dcbd-4c2f-9563-2d8da00a9bbb",
   "metadata": {},
   "outputs": [
    {
     "name": "stdout",
     "output_type": "stream",
     "text": [
      "홍삼 {}\n"
     ]
    }
   ],
   "source": [
    "f16(\"홍삼\")"
   ]
  },
  {
   "cell_type": "code",
   "execution_count": 93,
   "id": "68342cff-c285-4817-818a-78cee7f4e050",
   "metadata": {},
   "outputs": [
    {
     "ename": "SyntaxError",
     "evalue": "arguments cannot follow var-keyword argument (390194584.py, line 1)",
     "output_type": "error",
     "traceback": [
      "\u001b[1;36m  Cell \u001b[1;32mIn[93], line 1\u001b[1;36m\u001b[0m\n\u001b[1;33m    def f17(**dic, gift):\u001b[0m\n\u001b[1;37m                   ^\u001b[0m\n\u001b[1;31mSyntaxError\u001b[0m\u001b[1;31m:\u001b[0m arguments cannot follow var-keyword argument\n"
     ]
    }
   ],
   "source": [
    "def f17(**dic, gift):\n",
    "    print(dic, gift)"
   ]
  },
  {
   "cell_type": "code",
   "execution_count": 94,
   "id": "71911244-bf8a-4c68-bc8b-ee8484d52607",
   "metadata": {},
   "outputs": [],
   "source": [
    "def f18(menu=\"밥\", **dic):\n",
    "    print(menu, dic)"
   ]
  },
  {
   "cell_type": "code",
   "execution_count": 95,
   "id": "7d94d8cf-1930-4fb5-a3c5-639ef8be850e",
   "metadata": {},
   "outputs": [
    {
     "name": "stdout",
     "output_type": "stream",
     "text": [
      "밥 {}\n"
     ]
    }
   ],
   "source": [
    "f18()"
   ]
  },
  {
   "cell_type": "code",
   "execution_count": 96,
   "id": "e9e0bc13-3fda-4b31-9ae0-162cc84a5e9c",
   "metadata": {},
   "outputs": [
    {
     "name": "stdout",
     "output_type": "stream",
     "text": [
      "면 {}\n"
     ]
    }
   ],
   "source": [
    "f18(\"면\")"
   ]
  },
  {
   "cell_type": "code",
   "execution_count": 97,
   "id": "5f78ec11-d4f1-4f1a-8c80-9527bd589ee0",
   "metadata": {},
   "outputs": [
    {
     "ename": "TypeError",
     "evalue": "f18() takes from 0 to 1 positional arguments but 2 were given",
     "output_type": "error",
     "traceback": [
      "\u001b[1;31m---------------------------------------------------------------------------\u001b[0m",
      "\u001b[1;31mTypeError\u001b[0m                                 Traceback (most recent call last)",
      "Cell \u001b[1;32mIn[97], line 1\u001b[0m\n\u001b[1;32m----> 1\u001b[0m f18(\u001b[38;5;124m\"\u001b[39m\u001b[38;5;124m면\u001b[39m\u001b[38;5;124m\"\u001b[39m, \u001b[38;5;124m\"\u001b[39m\u001b[38;5;124m탕수육\u001b[39m\u001b[38;5;124m\"\u001b[39m)\n",
      "\u001b[1;31mTypeError\u001b[0m: f18() takes from 0 to 1 positional arguments but 2 were given"
     ]
    }
   ],
   "source": [
    "f18(\"면\", \"탕수육\")"
   ]
  },
  {
   "cell_type": "code",
   "execution_count": 98,
   "id": "b89b9128-8675-4a11-ac2e-1836ba7403c8",
   "metadata": {},
   "outputs": [
    {
     "name": "stdout",
     "output_type": "stream",
     "text": [
      "면 {'sub': '탕수육'}\n"
     ]
    }
   ],
   "source": [
    "f18(\"면\", sub=\"탕수육\")"
   ]
  },
  {
   "cell_type": "code",
   "execution_count": 99,
   "id": "571ddb58-e887-4524-a8cf-19f0fe671402",
   "metadata": {},
   "outputs": [
    {
     "name": "stdout",
     "output_type": "stream",
     "text": [
      "면 {'sub': '탕수육', 'source': '간장'}\n"
     ]
    }
   ],
   "source": [
    "f18(\"면\", sub=\"탕수육\", source=\"간장\")"
   ]
  },
  {
   "cell_type": "code",
   "execution_count": 100,
   "id": "b6ec23ea-cc72-4b53-b98d-1dbed9b26678",
   "metadata": {},
   "outputs": [
    {
     "name": "stdout",
     "output_type": "stream",
     "text": [
      "면 {'sub': '탕수육', 'source': '간장'}\n"
     ]
    }
   ],
   "source": [
    "f18(menu=\"면\", sub=\"탕수육\", source=\"간장\")"
   ]
  },
  {
   "cell_type": "code",
   "execution_count": 101,
   "id": "90557497-6936-4fa5-96bd-7b001f184982",
   "metadata": {},
   "outputs": [],
   "source": [
    "def f19(gift, menu=\"밥\", **dic):\n",
    "    print(gift, menu, dic)"
   ]
  },
  {
   "cell_type": "code",
   "execution_count": 102,
   "id": "af1fcd13-1858-41e6-806d-43668cab64a2",
   "metadata": {},
   "outputs": [
    {
     "name": "stdout",
     "output_type": "stream",
     "text": [
      "파인애플 밥 {}\n"
     ]
    }
   ],
   "source": [
    "f19(\"파인애플\")"
   ]
  },
  {
   "cell_type": "code",
   "execution_count": 103,
   "id": "7482d164-6153-4ece-81c5-f90fdae5cd97",
   "metadata": {},
   "outputs": [
    {
     "name": "stdout",
     "output_type": "stream",
     "text": [
      "파인애플 면 {}\n"
     ]
    }
   ],
   "source": [
    "f19(\"파인애플\", \"면\")"
   ]
  },
  {
   "cell_type": "code",
   "execution_count": 105,
   "id": "0fa62162-1dda-407b-8cd7-9b66e92296be",
   "metadata": {},
   "outputs": [
    {
     "name": "stdout",
     "output_type": "stream",
     "text": [
      "파인애플 면 {'plus': '짬'}\n"
     ]
    }
   ],
   "source": [
    "f19(\"파인애플\", \"면\", plus=\"짬\")"
   ]
  },
  {
   "cell_type": "code",
   "execution_count": 106,
   "id": "6ca3a8c0-8c14-4811-94aa-a88d8e8c3698",
   "metadata": {},
   "outputs": [],
   "source": [
    "def f20(gift, menu=\"밥\", *values, **dic):\n",
    "    print(gift, menu, values, dic)"
   ]
  },
  {
   "cell_type": "code",
   "execution_count": 107,
   "id": "c6c9f3a2-e151-4c9c-b930-a452a4d6c1ce",
   "metadata": {},
   "outputs": [
    {
     "ename": "TypeError",
     "evalue": "f20() missing 1 required positional argument: 'gift'",
     "output_type": "error",
     "traceback": [
      "\u001b[1;31m---------------------------------------------------------------------------\u001b[0m",
      "\u001b[1;31mTypeError\u001b[0m                                 Traceback (most recent call last)",
      "Cell \u001b[1;32mIn[107], line 1\u001b[0m\n\u001b[1;32m----> 1\u001b[0m f20()\n",
      "\u001b[1;31mTypeError\u001b[0m: f20() missing 1 required positional argument: 'gift'"
     ]
    }
   ],
   "source": [
    "f20()"
   ]
  },
  {
   "cell_type": "code",
   "execution_count": 108,
   "id": "049ec31e-fba5-4a40-856a-93ee1a91f387",
   "metadata": {},
   "outputs": [
    {
     "name": "stdout",
     "output_type": "stream",
     "text": [
      "꽃 밥 () {}\n"
     ]
    }
   ],
   "source": [
    "f20(\"꽃\")"
   ]
  },
  {
   "cell_type": "code",
   "execution_count": 109,
   "id": "354f1cde-a293-48a2-a707-54ced00c9cc5",
   "metadata": {},
   "outputs": [
    {
     "name": "stdout",
     "output_type": "stream",
     "text": [
      "꽃 면 () {}\n"
     ]
    }
   ],
   "source": [
    "f20(\"꽃\", \"면\")"
   ]
  },
  {
   "cell_type": "code",
   "execution_count": 110,
   "id": "16240dc0-b07c-42c1-ab92-ca658f528631",
   "metadata": {},
   "outputs": [
    {
     "name": "stdout",
     "output_type": "stream",
     "text": [
      "꽃 면 (1, 2, 3) {}\n"
     ]
    }
   ],
   "source": [
    "f20(\"꽃\", \"면\", 1,2,3)"
   ]
  },
  {
   "cell_type": "code",
   "execution_count": 111,
   "id": "651d3d59-2cef-4c63-8d89-48403fe9890a",
   "metadata": {},
   "outputs": [
    {
     "name": "stdout",
     "output_type": "stream",
     "text": [
      "꽃 면 (1, 2, 3) {'a': 'apple'}\n"
     ]
    }
   ],
   "source": [
    "f20(\"꽃\", \"면\", 1,2,3, a='apple')"
   ]
  },
  {
   "cell_type": "code",
   "execution_count": 112,
   "id": "16471ea9-2809-43ff-9818-77b13353f903",
   "metadata": {},
   "outputs": [
    {
     "name": "stdout",
     "output_type": "stream",
     "text": [
      "꽃 면 (1, 2, 3) {'a': 'apple', 'b': 'banana'}\n"
     ]
    }
   ],
   "source": [
    "f20(\"꽃\", \"면\", 1,2,3, a='apple', b='banana')"
   ]
  },
  {
   "cell_type": "code",
   "execution_count": null,
   "id": "8e6ab571-6ab1-49de-bc25-f1567b156d25",
   "metadata": {},
   "outputs": [],
   "source": []
  }
 ],
 "metadata": {
  "kernelspec": {
   "display_name": "Python 3 (ipykernel)",
   "language": "python",
   "name": "python3"
  },
  "language_info": {
   "codemirror_mode": {
    "name": "ipython",
    "version": 3
   },
   "file_extension": ".py",
   "mimetype": "text/x-python",
   "name": "python",
   "nbconvert_exporter": "python",
   "pygments_lexer": "ipython3",
   "version": "3.12.4"
  }
 },
 "nbformat": 4,
 "nbformat_minor": 5
}
