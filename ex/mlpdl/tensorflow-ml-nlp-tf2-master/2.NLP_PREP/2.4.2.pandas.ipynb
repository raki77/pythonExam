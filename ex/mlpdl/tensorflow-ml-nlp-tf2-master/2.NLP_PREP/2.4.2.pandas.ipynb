{
 "cells": [
  {
   "cell_type": "markdown",
   "metadata": {},
   "source": [
    "## 2.4.2 판다스(Pandas)  \n",
    "\n",
    "판다스에는 세 가지 데이터 타입이 존재한다.\n",
    "\n",
    "* 시리즈(Series)\n",
    "* 데이터프레임(DataFrame)\n",
    "* 판넬(Panel)"
   ]
  },
  {
   "cell_type": "code",
   "execution_count": null,
   "metadata": {},
   "outputs": [],
   "source": [
    "import pandas as pd\n",
    "import numpy as np"
   ]
  },
  {
   "cell_type": "markdown",
   "metadata": {},
   "source": [
    "### 시리즈 생성"
   ]
  },
  {
   "cell_type": "code",
   "execution_count": null,
   "metadata": {},
   "outputs": [],
   "source": [
    "a = pd.Series([1, 3, 5, 7, 10]) # 리스트를 이용한 시리즈 데이터 생성 \n",
    "print(a) # a를 확인해보면 index와 함께 값이 나온다.\n",
    "# 0    1\n",
    "# 1    3\n",
    "# 2    5\n",
    "# 3    7\n",
    "# 4   10\n",
    "# dtype: int64\n",
    "\n",
    "data = np.array(['a', 'b', 'c', 'd']) # 넘파이 배열 생성\n",
    "b = pd.Series(data) #넘파이 배열을 이용한 시리즈 데이터 생성\n",
    "print(b)\n",
    "# 0    a\n",
    "# 1    b\n",
    "# 2    c\n",
    "# 3    d\n",
    "#  dtype: object\n",
    "\n",
    "c = pd.Series(np.arange(10,30,5)) # 넘파이 arange함수로 생성한 배열로 시리즈 생성\n",
    "print(c)\n",
    "# 0    10\n",
    "# 1    15\n",
    "# 2    20\n",
    "# 3    25\n",
    "# dtype: int32"
   ]
  },
  {
   "cell_type": "code",
   "execution_count": null,
   "metadata": {},
   "outputs": [],
   "source": [
    "a = pd.Series(['a', 'b', 'c'], index=[10, 20, 30]) # 인덱스를 직접 지정한다.\n",
    "print(a)\n",
    "# 10    a\n",
    "# 20    b\n",
    "# 30    c\n",
    "# dtype: object\n",
    "\n",
    "dict = {'a' : 10, 'b' : 20, 'c' : 30} # 파이썬 딕셔너리를 활용한 시리즈 생성\n",
    "d = pd.Series(dict) # 인덱스가 a,b,c로 된 것을 확인 할 수 있다.\n",
    "print(d)\n",
    "# a    10\n",
    "# b    20\n",
    "# c    30"
   ]
  },
  {
   "cell_type": "markdown",
   "metadata": {},
   "source": [
    "### 데이터 프레임 생성"
   ]
  },
  {
   "cell_type": "code",
   "execution_count": null,
   "metadata": {},
   "outputs": [],
   "source": [
    "a = pd.DataFrame([1,3,5,7,9]) # 리스트를 이용한 생성\n",
    "print(a)\n",
    "#      0\n",
    "# 0    1\n",
    "# 1    3\n",
    "# 2    5\n",
    "# 3    7\n",
    "# 4    9\n",
    "\n",
    "dict = { 'Name' : [ 'Cho', 'Kim', 'Lee' ], 'Age' : [ 28, 31, 38] }\n",
    "b = pd.DataFrame(dict) # 딕셔너리를 이용한 생성\n",
    "print(b)\n",
    "#      Age    Name\n",
    "# 0     28     Cho\n",
    "# 1     31     Kim\n",
    "# 2     38     Lee\n",
    "\n",
    "c = pd.DataFrame([['apple', 7000], ['banana', 5000], ['orange', 4000]]) #리스트의 중첩에 의한 생성\n",
    "print(c)\n",
    "#          0      1\n",
    "# 0    apple   7000\n",
    "# 1   banana   5000\n",
    "# 2   orange   4000"
   ]
  },
  {
   "cell_type": "code",
   "execution_count": null,
   "metadata": {},
   "outputs": [],
   "source": [
    "a = pd.DataFrame([['apple', 7000], ['banana', 5000], ['orange', 4000]], columns = ['name', 'price'])\n",
    "print(a)\n",
    "#       name  price\n",
    "# 0    apple   7000\n",
    "# 1   banana   5000\n",
    "# 2   orange   4000"
   ]
  },
  {
   "cell_type": "markdown",
   "metadata": {},
   "source": [
    "### 판다스 데이터 불러오기 및 쓰기"
   ]
  },
  {
   "cell_type": "code",
   "execution_count": null,
   "metadata": {},
   "outputs": [],
   "source": [
    "data_frame = pd.read_csv( './data_in/datafile.csv')\n",
    "\n",
    "print(data_frame['A']) # A열의 데이터만 확인\n",
    "# 2018-02-03    0.076547\n",
    "# 2018-02-04    0.810574\n",
    "#                 ...   \n",
    "# 2018-11-28    0.072067\n",
    "# 2018-11-29    0.705263\n",
    "# Freq: D, Name: A, Length: 300, dtype: float64\n",
    "\n",
    "print(data_frame['A'][:3]) # A열의 데이터 중 앞의 10개만 확인\n",
    "# 2018-02-03    0.076547\n",
    "# 2018-02-04    0.810574\n",
    "# 2018-02-05    0.071555\n",
    "# Freq: D, Name: A, dtype: float64\n",
    "\n",
    "data_frame['D'] = data_frame['A'] + data_frame['B'] # A열과 B열을 더한 새로운 C열 생성\n",
    "print(data_frame ['D'])\n",
    "# 2018-02-03   -0.334412\n",
    "# 2018-02-04    1.799571\n",
    "# 2018-02-05    0.843764\n",
    "# 2018-02-06    1.079784\n",
    "# 2018-02-07    0.734765\n",
    "# Freq: D, Name: D, dtype: float64"
   ]
  },
  {
   "cell_type": "code",
   "execution_count": null,
   "metadata": {},
   "outputs": [],
   "source": [
    "data_frame.describe()"
   ]
  }
 ],
 "metadata": {
  "kernelspec": {
   "display_name": "Python 3",
   "language": "python",
   "name": "python3"
  },
  "language_info": {
   "codemirror_mode": {
    "name": "ipython",
    "version": 3
   },
   "file_extension": ".py",
   "mimetype": "text/x-python",
   "name": "python",
   "nbconvert_exporter": "python",
   "pygments_lexer": "ipython3",
   "version": "3.6.9"
  }
 },
 "nbformat": 4,
 "nbformat_minor": 2
}
