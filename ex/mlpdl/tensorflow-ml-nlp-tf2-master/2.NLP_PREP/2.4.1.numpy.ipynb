{
 "cells": [
  {
   "cell_type": "markdown",
   "metadata": {},
   "source": [
    "## 2.4.1 넘파이"
   ]
  },
  {
   "cell_type": "markdown",
   "metadata": {},
   "source": [
    "### 넘파이 배열"
   ]
  },
  {
   "cell_type": "code",
   "execution_count": null,
   "metadata": {},
   "outputs": [],
   "source": [
    "import numpy as np"
   ]
  },
  {
   "cell_type": "code",
   "execution_count": null,
   "metadata": {},
   "outputs": [],
   "source": [
    "a = np.array([[1,2,3], [1,5,9], [3,5,7]])\n",
    "\n",
    "print(a.ndim)  \n",
    "# 2 \n",
    "\n",
    "print(a.shape) \n",
    "# (3,3)\n",
    "\n",
    "\n",
    "print(a.size) \n",
    "# 9\n",
    "\n",
    "\n",
    "print(a.dtype) \n",
    "# dtype('int32')"
   ]
  },
  {
   "cell_type": "code",
   "execution_count": null,
   "metadata": {},
   "outputs": [],
   "source": [
    "a = np.zeros((2,3)) #원소가 모두 0인 배열 생성\n",
    "print(a)      \n",
    "# array([[0., 0., 0.],\n",
    "#        [0., 0., 0.]])\n",
    "\n",
    "b = np.ones((2,1)) #원소가 모두 1인 배열 생성\n",
    "print(b)      \n",
    "# array([[1.],\n",
    "#        [1.]])\n",
    "\n",
    "c = np.empty((2,2)) #원소값을 초기화하지 않은 배열 생성\n",
    "print(c)      \n",
    "# array([[1.96088859e+243, 5.22864540e-067],\n",
    "#        [1.47173270e-052, 1.47214053e-052]])\n",
    "\n",
    "\n",
    "d = np.arange(10, 30, 5) # 10부터 30전 까지 5단위로 배열 생성\n",
    "print(d)      \n",
    "# array([10, 15, 20, 25])\n",
    "\n",
    "\n",
    "e = np.full((2, 2), 4) #원소가 모두 4인 배열 생성\n",
    "print(e)      \n",
    "# array([[4, 4],\n",
    "#        [4, 4]])\n",
    "\n",
    "\n",
    "f = np.eye(3) # 3x3 크기의 단위행렬 생성\n",
    "print(f)      \n",
    "# array([[1., 0., 0.],\n",
    "#        [0., 1., 0.]\n",
    "#        [0., 0., 1.]))\n",
    "\n",
    "\n",
    "g = np.random.random((2, 2)) # 임의값을 가지는 배열 생성\n",
    "print(g)      \n",
    "# array([[0.94039485, 0.18284953],\n",
    "#        [0.59283818, 0.48592838]])"
   ]
  },
  {
   "cell_type": "markdown",
   "metadata": {},
   "source": [
    "### 넘파이 기본연산"
   ]
  },
  {
   "cell_type": "code",
   "execution_count": null,
   "metadata": {},
   "outputs": [],
   "source": [
    "a = np.array([1, 2, 3])\n",
    "b = np.array([10, 20, 30])\n",
    "\n",
    "print(a+b)                     \n",
    "# array([11, 22, 33])\n",
    "\n",
    "print(np.add(a,b)) # 위의 연산과 같다.        \n",
    "# array([11, 22, 33]) \n",
    "\n",
    "print(b-a)                      \n",
    "# array([9, 18, 27])\n",
    "\n",
    "print(np.subtract(b,a)) # 위의 연산과 같다.\n",
    "# array([9, 18, 27])\n",
    "\n",
    "print(a**2)                   \n",
    "# array([1, 4, 9])\n",
    "\n",
    "\n",
    "print(b<15)                   \n",
    "# array([True, False, False])\n",
    "\n",
    "\n",
    "C = np.array([[1, 2],\n",
    "              [3, 4]])\n",
    "D = np.array([[10, 20],\n",
    "              [30, 10]])\n",
    "print(C*D)  # 원소별 곱셈\n",
    "# array([[10, 40],\n",
    "#        [90, 40]])\n",
    "\n",
    "\n",
    "print(np.dot(C,D)) # 내적(dot product) 계산\n",
    "# array([[ 70,  40],\n",
    "#        [150, 100]])\n",
    "\n",
    "\n",
    "print(C.dot(D)) #내적의 또 다른 사용법\n",
    "# array([[ 70,  40],\n",
    "#        [150, 100]])"
   ]
  },
  {
   "cell_type": "code",
   "execution_count": null,
   "metadata": {},
   "outputs": [],
   "source": [
    "a = np.array([[ 1, 2, 3, 4],\n",
    "              [ 5, 6, 7, 8],\n",
    "              [ 1, 3, 5, 7]])\n",
    "\n",
    "print(a.sum(axis=0)) # 0축, 즉 열을 기준으로한 덧셈\n",
    "# array([7, 11, 15, 19])\n",
    "\n",
    "print(a.sum(axis=1)) # 1축, 즉 행을 기준으로한 덧셈\n",
    "# array([10, 26, 16])\n",
    "\n",
    "\n",
    "print(a.max(axis=1)) # 각 행에서의 최대값\n",
    "# array([4, 8, 7])"
   ]
  },
  {
   "cell_type": "markdown",
   "metadata": {},
   "source": [
    "### 넘파이 배열 인덱싱, 슬라이싱"
   ]
  },
  {
   "cell_type": "code",
   "execution_count": null,
   "metadata": {},
   "outputs": [],
   "source": [
    "a = np.array([1, 2, 3, 4, 5, 6, 7])\n",
    "\n",
    "print(a[3]) \n",
    "# 4\n",
    "\n",
    "\n",
    "print(a[-1]) # 마지막 원소\n",
    "# 7\n",
    "\n",
    "\n",
    "print(a[2: 5]) # 인덱스값 5를 가지는 원소 전까지\n",
    "# array([3, 4, 5])\n",
    "\n",
    "\n",
    "print(a[2: ])\n",
    "# array([3, 4, 5, 6, 7])\n",
    "\n",
    "\n",
    "print(a[ :4])\n",
    "# array([1, 2, 3, 4])"
   ]
  },
  {
   "cell_type": "code",
   "execution_count": null,
   "metadata": {},
   "outputs": [],
   "source": [
    "a = np.array([[ 1, 2, 3],\n",
    "              [ 4, 5, 6],\n",
    "              [ 7, 8, 9]])\n",
    "\n",
    "\n",
    "print(a[1, 2])\n",
    "# 6\n",
    "\n",
    "\n",
    "print(a[ : , 1]) # 1열의 모든 원소\n",
    "# array([2, 5, 8])\n",
    "\n",
    "\n",
    "print(a[-1]) # 마지막 행\n",
    "# array([7, 8, 9])"
   ]
  },
  {
   "cell_type": "markdown",
   "metadata": {},
   "source": [
    "### 넘파이 배열 형태 변환"
   ]
  },
  {
   "cell_type": "code",
   "execution_count": null,
   "metadata": {},
   "outputs": [],
   "source": [
    "a = np.array([[1, 2, 3, 4],\n",
    "              [5, 6, 7, 8],\n",
    "              [9,10,11,12]])\n",
    "\n",
    "print(a.ravel()) # 1차원 배열(벡터)로 만들어준다.\n",
    "# array([1, 2, 3, 4, 5, 6, 7, 8, 9, 10, 11, 12])\n",
    "\n",
    "print(a.reshape(2, 6))\n",
    "# array([[  1,  2,  3,  4,  5,  6],\n",
    "#        [  7,  8,  9, 10, 11, 12]])\n",
    "\n",
    "\n",
    "print(a.T)\n",
    "# array([[  1,  5,  9],\n",
    "#        [  2,  6, 10],\n",
    "#        [  3,  7, 11],\n",
    "#        [  4,  8, 12]])"
   ]
  },
  {
   "cell_type": "code",
   "execution_count": null,
   "metadata": {},
   "outputs": [],
   "source": [
    "print(a.reshape(3, -1)) # 3행만 지정해주고 열에 -1을 넣으면 자동으로 배열을 reshape한다.\n",
    "# array([[  1,  2,  3,  4],\n",
    "#        [  5,  6,  7,  8],\n",
    "#        [  9, 10, 11, 12]]) "
   ]
  },
  {
   "cell_type": "markdown",
   "metadata": {},
   "source": [
    "### 넘파이 브로드캐스팅"
   ]
  },
  {
   "cell_type": "code",
   "execution_count": null,
   "metadata": {},
   "outputs": [],
   "source": [
    "a = np.array([[1,2,3], [4,5,6], [7,8,9]])\n",
    "b = np.array([1,0,1])\n",
    "y = np.empty_like(a) # 배열 a와 크기가 같은 원소가 비어있는 배열 생성\n",
    "\n",
    "# 배열 b를 a의 각 행에 더해주기 위해 반복문을 사용한다.\n",
    "for i in range(3):\n",
    "    y[i, : ] = a[i, : ] + b\n",
    "\n",
    "\n",
    "print(y)\n",
    "# array([[  2,  2,  4],\n",
    "#        [  5,  5,  7],\n",
    "#        [  8,  8, 10]])"
   ]
  },
  {
   "cell_type": "code",
   "execution_count": null,
   "metadata": {},
   "outputs": [],
   "source": [
    "a = np.array([[1,2,3], [4,5,6], [7,8,9]])\n",
    "b = np.array([1,0,1])\n",
    "\n",
    "c = a + b # c를 따로 선언 할 필요 없이 만들 수 있다.\n",
    "print(c)\n",
    "# array([[  2,  2,  4],\n",
    "#        [  5,  5,  7],\n",
    "#        [  8,  8, 10]])"
   ]
  }
 ],
 "metadata": {
  "kernelspec": {
   "display_name": "Python 3",
   "language": "python",
   "name": "python3"
  },
  "language_info": {
   "codemirror_mode": {
    "name": "ipython",
    "version": 3
   },
   "file_extension": ".py",
   "mimetype": "text/x-python",
   "name": "python",
   "nbconvert_exporter": "python",
   "pygments_lexer": "ipython3",
   "version": "3.6.9"
  }
 },
 "nbformat": 4,
 "nbformat_minor": 2
}
