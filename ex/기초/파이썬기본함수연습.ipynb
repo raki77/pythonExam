{
 "cells": [
  {
   "cell_type": "code",
   "execution_count": 2,
   "id": "1c2d12f2-6c4f-407b-8156-1eb04950de0c",
   "metadata": {},
   "outputs": [
    {
     "data": {
      "text/plain": [
       "1"
      ]
     },
     "execution_count": 2,
     "metadata": {},
     "output_type": "execute_result"
    }
   ],
   "source": [
    "min([50,1,100,300,2,7,55])"
   ]
  },
  {
   "cell_type": "code",
   "execution_count": 3,
   "id": "30ce11c1-b2cf-4430-93d1-601e8af9bbb0",
   "metadata": {},
   "outputs": [
    {
     "data": {
      "text/plain": [
       "300"
      ]
     },
     "execution_count": 3,
     "metadata": {},
     "output_type": "execute_result"
    }
   ],
   "source": [
    "max([50,1,100,300,2,7,55])"
   ]
  },
  {
   "cell_type": "code",
   "execution_count": 4,
   "id": "02235def-2e5d-4c2d-8125-03076c241170",
   "metadata": {},
   "outputs": [
    {
     "data": {
      "text/plain": [
       "14"
      ]
     },
     "execution_count": 4,
     "metadata": {},
     "output_type": "execute_result"
    }
   ],
   "source": [
    "sum([3,4,7])"
   ]
  },
  {
   "cell_type": "code",
   "execution_count": 5,
   "id": "e47221fd-b967-423b-af30-f2a03af4cfde",
   "metadata": {},
   "outputs": [
    {
     "data": {
      "text/plain": [
       "[1, 2, 7, 50, 55, 100, 300]"
      ]
     },
     "execution_count": 5,
     "metadata": {},
     "output_type": "execute_result"
    }
   ],
   "source": [
    "sorted([50,1,100,300,2,7,55])"
   ]
  },
  {
   "cell_type": "code",
   "execution_count": 6,
   "id": "14179fa3-1e03-4101-8baa-5ce254c7898a",
   "metadata": {},
   "outputs": [],
   "source": [
    "li1=[50,1,100,300,2,7,55]"
   ]
  },
  {
   "cell_type": "code",
   "execution_count": 7,
   "id": "35fabc53-f191-465d-95e7-69075c99b608",
   "metadata": {},
   "outputs": [
    {
     "data": {
      "text/plain": [
       "list"
      ]
     },
     "execution_count": 7,
     "metadata": {},
     "output_type": "execute_result"
    }
   ],
   "source": [
    "type(li1)"
   ]
  },
  {
   "cell_type": "code",
   "execution_count": 8,
   "id": "e2f8bfbd-a910-492b-82db-1c2be41fe19b",
   "metadata": {},
   "outputs": [],
   "source": [
    "li1.sort()"
   ]
  },
  {
   "cell_type": "code",
   "execution_count": 9,
   "id": "0e9e4d3f-fe30-407f-a66f-f99f0bbc1eb0",
   "metadata": {},
   "outputs": [
    {
     "data": {
      "text/plain": [
       "[1, 2, 7, 50, 55, 100, 300]"
      ]
     },
     "execution_count": 9,
     "metadata": {},
     "output_type": "execute_result"
    }
   ],
   "source": [
    "li1"
   ]
  },
  {
   "cell_type": "code",
   "execution_count": 13,
   "id": "3d7623ff-7182-4230-b353-e7bb517d9a00",
   "metadata": {},
   "outputs": [
    {
     "data": {
      "text/plain": [
       "<list_reverseiterator at 0x2b7d9607190>"
      ]
     },
     "execution_count": 13,
     "metadata": {},
     "output_type": "execute_result"
    }
   ],
   "source": [
    "reversed([1,2,3,4,5])"
   ]
  },
  {
   "cell_type": "code",
   "execution_count": 14,
   "id": "06e6bd24-bebc-4648-b664-1b8314f68843",
   "metadata": {},
   "outputs": [
    {
     "data": {
      "text/plain": [
       "[5, 4, 3, 2, 1]"
      ]
     },
     "execution_count": 14,
     "metadata": {},
     "output_type": "execute_result"
    }
   ],
   "source": [
    "list(reversed([1,2,3,4,5]))"
   ]
  },
  {
   "cell_type": "code",
   "execution_count": 15,
   "id": "9434932b-767a-4b74-bf7d-68f11ab65fa2",
   "metadata": {},
   "outputs": [],
   "source": [
    "li2=list(reversed([1,2,3,4,5]))"
   ]
  },
  {
   "cell_type": "code",
   "execution_count": 16,
   "id": "318a02b7-b1ee-4a38-9f40-f3088af1f200",
   "metadata": {},
   "outputs": [
    {
     "name": "stdout",
     "output_type": "stream",
     "text": [
      "5\n",
      "4\n",
      "3\n",
      "2\n",
      "1\n"
     ]
    }
   ],
   "source": [
    "for i in li2:\n",
    "    print(i)"
   ]
  },
  {
   "cell_type": "code",
   "execution_count": null,
   "id": "36813c27-8355-4ed6-b6b5-f0419b650c20",
   "metadata": {},
   "outputs": [],
   "source": [
    "# enumerate 열거하다, 열거하면 순서(인덱스) 개념이 생김"
   ]
  },
  {
   "cell_type": "code",
   "execution_count": 17,
   "id": "d1b9cdb0-9cf7-46b2-ac8b-7f76a1ccbffe",
   "metadata": {},
   "outputs": [
    {
     "data": {
      "text/plain": [
       "<enumerate at 0x2b7d9623830>"
      ]
     },
     "execution_count": 17,
     "metadata": {},
     "output_type": "execute_result"
    }
   ],
   "source": [
    "enumerate([\"apple\",\"banana\",\"candy\"])"
   ]
  },
  {
   "cell_type": "code",
   "execution_count": 18,
   "id": "6e152df7-17f9-4f4c-8fa0-5e5039aff725",
   "metadata": {},
   "outputs": [
    {
     "data": {
      "text/plain": [
       "enumerate"
      ]
     },
     "execution_count": 18,
     "metadata": {},
     "output_type": "execute_result"
    }
   ],
   "source": [
    "type(enumerate([\"apple\",\"banana\",\"candy\"]))"
   ]
  },
  {
   "cell_type": "code",
   "execution_count": 19,
   "id": "c6feb9bc-adf5-4af2-b488-ccbcaaa44926",
   "metadata": {},
   "outputs": [
    {
     "name": "stdout",
     "output_type": "stream",
     "text": [
      "(0, 'apple')\n",
      "(1, 'banana')\n",
      "(2, 'candy')\n"
     ]
    }
   ],
   "source": [
    "for i in enumerate([\"apple\",\"banana\",\"candy\"]):\n",
    "    print(i)"
   ]
  },
  {
   "cell_type": "code",
   "execution_count": 20,
   "id": "01b141fa-e41d-45a3-9a57-00196c479939",
   "metadata": {},
   "outputs": [
    {
     "name": "stdout",
     "output_type": "stream",
     "text": [
      "0 apple\n",
      "1 banana\n",
      "2 candy\n"
     ]
    }
   ],
   "source": [
    "for idx,v in enumerate([\"apple\",\"banana\",\"candy\"]):\n",
    "    print(idx, v)"
   ]
  },
  {
   "cell_type": "code",
   "execution_count": 21,
   "id": "d6137287-fb18-47b2-aad8-62c80253f797",
   "metadata": {},
   "outputs": [
    {
     "name": "stdout",
     "output_type": "stream",
     "text": [
      "0번째 값이 apple(이)다\n",
      "1번째 값이 banana(이)다\n",
      "2번째 값이 candy(이)다\n"
     ]
    }
   ],
   "source": [
    "for idx,v in enumerate([\"apple\",\"banana\",\"candy\"]):\n",
    "    print(f\"{idx}번째 값이 {v}(이)다\")"
   ]
  },
  {
   "cell_type": "code",
   "execution_count": 22,
   "id": "038f0fd6-0e6e-41dc-bbe8-7a2937de2001",
   "metadata": {},
   "outputs": [
    {
     "data": {
      "text/plain": [
       "<list_reverseiterator at 0x2b7d9630a60>"
      ]
     },
     "execution_count": 22,
     "metadata": {},
     "output_type": "execute_result"
    }
   ],
   "source": [
    "reversed([1,2,3,4,5])"
   ]
  },
  {
   "cell_type": "code",
   "execution_count": 23,
   "id": "eee36a92-44af-4206-b2ae-9513ed3d9bfa",
   "metadata": {},
   "outputs": [
    {
     "data": {
      "text/plain": [
       "[5, 4, 3, 2, 1]"
      ]
     },
     "execution_count": 23,
     "metadata": {},
     "output_type": "execute_result"
    }
   ],
   "source": [
    " list(reversed([1,2,3,4,5]))"
   ]
  },
  {
   "cell_type": "code",
   "execution_count": 24,
   "id": "603358ea-22a3-438a-b132-3afb50216e0e",
   "metadata": {},
   "outputs": [],
   "source": [
    "rev=reversed([1,2,3,4,5])"
   ]
  },
  {
   "cell_type": "code",
   "execution_count": 25,
   "id": "616a8b49-6ba3-4c62-87eb-93efd0b39bed",
   "metadata": {},
   "outputs": [
    {
     "data": {
      "text/plain": [
       "5"
      ]
     },
     "execution_count": 25,
     "metadata": {},
     "output_type": "execute_result"
    }
   ],
   "source": [
    "next(rev)"
   ]
  },
  {
   "cell_type": "code",
   "execution_count": 26,
   "id": "0431ba00-1cc5-42b0-a23b-61e1be0b4df0",
   "metadata": {},
   "outputs": [
    {
     "name": "stdout",
     "output_type": "stream",
     "text": [
      "Help on built-in function next in module builtins:\n",
      "\n",
      "next(...)\n",
      "    Return the next item from the iterator.\n",
      "\n",
      "    If default is given and the iterator is exhausted,\n",
      "    it is returned instead of raising StopIteration.\n",
      "\n"
     ]
    }
   ],
   "source": [
    "help(next)"
   ]
  },
  {
   "cell_type": "code",
   "execution_count": 27,
   "id": "61d3d5cd-038d-4023-9b57-4f34bdda28eb",
   "metadata": {},
   "outputs": [],
   "source": [
    "# 리스트 내포 :  한줄에 리스트로 표현해라"
   ]
  },
  {
   "cell_type": "code",
   "execution_count": null,
   "id": "db270602-10b3-4274-98af-cfb74d260601",
   "metadata": {},
   "outputs": [],
   "source": [
    "# iterable : 문자열, 리스트, 튜블, 딕셔너리"
   ]
  },
  {
   "cell_type": "code",
   "execution_count": null,
   "id": "7fd2707d-1233-44a1-aff2-acf70d743d89",
   "metadata": {},
   "outputs": [],
   "source": [
    "# [i를 표현 형태 for i in iterable]"
   ]
  },
  {
   "cell_type": "code",
   "execution_count": 28,
   "id": "d17ebbf0-8e55-4d80-b9eb-0d46cc7aea5d",
   "metadata": {},
   "outputs": [],
   "source": [
    "# 반복문 한줄에 쳐야할 때"
   ]
  },
  {
   "cell_type": "code",
   "execution_count": 29,
   "id": "b5bd2ba0-20da-46ce-b903-d798ba6327c1",
   "metadata": {},
   "outputs": [
    {
     "name": "stdout",
     "output_type": "stream",
     "text": [
      "1\n",
      "2\n",
      "3\n"
     ]
    }
   ],
   "source": [
    "for i in [1,2,3]:\n",
    "    print(i)"
   ]
  },
  {
   "cell_type": "code",
   "execution_count": 30,
   "id": "984f6023-3799-4198-81e2-938ea9d24bfe",
   "metadata": {},
   "outputs": [
    {
     "data": {
      "text/plain": [
       "[1, 2, 3]"
      ]
     },
     "execution_count": 30,
     "metadata": {},
     "output_type": "execute_result"
    }
   ],
   "source": [
    "[i for i in [1,2,3]]"
   ]
  },
  {
   "cell_type": "code",
   "execution_count": 31,
   "id": "031cc2fe-e828-4ecb-9aff-96580498410b",
   "metadata": {},
   "outputs": [
    {
     "data": {
      "text/plain": [
       "[2, 4, 6]"
      ]
     },
     "execution_count": 31,
     "metadata": {},
     "output_type": "execute_result"
    }
   ],
   "source": [
    "[i*2 for i in [1,2,3]]"
   ]
  },
  {
   "cell_type": "code",
   "execution_count": 32,
   "id": "b6d51e4e-5888-444d-83ab-bb5b6924be28",
   "metadata": {},
   "outputs": [
    {
     "data": {
      "text/plain": [
       "[0.5, 1.0, 1.5]"
      ]
     },
     "execution_count": 32,
     "metadata": {},
     "output_type": "execute_result"
    }
   ],
   "source": [
    "[i/2 for i in [1,2,3]]"
   ]
  },
  {
   "cell_type": "code",
   "execution_count": 33,
   "id": "f6e2d02c-16db-484b-a1f3-eaa1fff6bfed",
   "metadata": {},
   "outputs": [],
   "source": [
    "li3=[i/2 for i in [1,2,3]]"
   ]
  },
  {
   "cell_type": "code",
   "execution_count": 34,
   "id": "4d8dad32-cd87-4654-8b97-9fec42e7bebc",
   "metadata": {},
   "outputs": [
    {
     "data": {
      "text/plain": [
       "[0.5, 1.0, 1.5]"
      ]
     },
     "execution_count": 34,
     "metadata": {},
     "output_type": "execute_result"
    }
   ],
   "source": [
    "li3"
   ]
  },
  {
   "cell_type": "code",
   "execution_count": 36,
   "id": "7540618f-837f-4bb1-b117-5d1f26e87359",
   "metadata": {},
   "outputs": [
    {
     "name": "stdout",
     "output_type": "stream",
     "text": [
      "2\n",
      "4\n",
      "6\n",
      "8\n",
      "10\n"
     ]
    }
   ],
   "source": [
    "for i in range(1,10+1):\n",
    "    if i % 2 == 0:\n",
    "        print(i)"
   ]
  },
  {
   "cell_type": "code",
   "execution_count": 39,
   "id": "636a3580-5917-4786-a754-ed88889553db",
   "metadata": {},
   "outputs": [
    {
     "data": {
      "text/plain": [
       "[4, 16, 36, 64, 100]"
      ]
     },
     "execution_count": 39,
     "metadata": {},
     "output_type": "execute_result"
    }
   ],
   "source": [
    "[i**2 for i in range(1,10+1) if i % 2 == 0]"
   ]
  },
  {
   "cell_type": "code",
   "execution_count": 40,
   "id": "4c9d13e5-00e2-493c-91be-7f7f01f8344a",
   "metadata": {},
   "outputs": [
    {
     "data": {
      "text/plain": [
       "'안녕\\n점심\\n맛있게\\n드셨습니까'"
      ]
     },
     "execution_count": 40,
     "metadata": {},
     "output_type": "execute_result"
    }
   ],
   "source": [
    "'''안녕\n",
    "점심\n",
    "맛있게\n",
    "드셨습니까'''"
   ]
  },
  {
   "cell_type": "code",
   "execution_count": 41,
   "id": "88b5bc17-ee9b-42ea-8960-cb7990e147cc",
   "metadata": {},
   "outputs": [
    {
     "name": "stdout",
     "output_type": "stream",
     "text": [
      "안녕\n",
      "점심\n",
      "맛있게\n",
      "드셨습니까\n"
     ]
    }
   ],
   "source": [
    "print('''안녕\n",
    "점심\n",
    "맛있게\n",
    "드셨습니까''')"
   ]
  },
  {
   "cell_type": "code",
   "execution_count": 42,
   "id": "f7fac1cb-2af8-483c-8169-cad4612428b2",
   "metadata": {},
   "outputs": [
    {
     "data": {
      "text/plain": [
       "'드셨습니까'"
      ]
     },
     "execution_count": 42,
     "metadata": {},
     "output_type": "execute_result"
    }
   ],
   "source": [
    "he=\"안녕\"\n",
    "\"점심\"\n",
    "\"맛있게\"\n",
    "\"드셨습니까\""
   ]
  },
  {
   "cell_type": "code",
   "execution_count": 43,
   "id": "37dad2b1-812b-4548-b94e-235e767c11ea",
   "metadata": {},
   "outputs": [
    {
     "data": {
      "text/plain": [
       "'안녕'"
      ]
     },
     "execution_count": 43,
     "metadata": {},
     "output_type": "execute_result"
    }
   ],
   "source": [
    "he"
   ]
  },
  {
   "cell_type": "code",
   "execution_count": 44,
   "id": "d1abf0af-2958-4c7f-b133-112bdd398a8f",
   "metadata": {},
   "outputs": [],
   "source": [
    "he2=(\"안녕\"\n",
    "\"점심\"\n",
    "\"맛있게\"\n",
    "\"드셨습니까\")"
   ]
  },
  {
   "cell_type": "code",
   "execution_count": 45,
   "id": "36858440-0caa-4eb7-b6f2-a388fc3b8f23",
   "metadata": {},
   "outputs": [
    {
     "data": {
      "text/plain": [
       "'안녕점심맛있게드셨습니까'"
      ]
     },
     "execution_count": 45,
     "metadata": {},
     "output_type": "execute_result"
    }
   ],
   "source": [
    "he2"
   ]
  },
  {
   "cell_type": "code",
   "execution_count": 46,
   "id": "1750f39b-8990-4447-853b-57fe8d540a40",
   "metadata": {},
   "outputs": [],
   "source": [
    "# 문자열 함수"
   ]
  },
  {
   "cell_type": "code",
   "execution_count": 47,
   "id": "2279b1e2-38dc-4633-af5a-b8143a226ed4",
   "metadata": {},
   "outputs": [
    {
     "data": {
      "text/plain": [
       "['안녕', '점심', '맛있게', '드셨습니까']"
      ]
     },
     "execution_count": 47,
     "metadata": {},
     "output_type": "execute_result"
    }
   ],
   "source": [
    "\"안녕 점심 맛있게 드셨습니까\".split()"
   ]
  },
  {
   "cell_type": "code",
   "execution_count": 48,
   "id": "a19cd258-926c-4188-a81a-6fc873c72870",
   "metadata": {},
   "outputs": [
    {
     "name": "stdout",
     "output_type": "stream",
     "text": [
      "안녕\n",
      "점심\n",
      "맛있게\n",
      "드셨습니까\n"
     ]
    }
   ],
   "source": [
    "for i in \"안녕 점심 맛있게 드셨습니까\".split():\n",
    "    print(i)"
   ]
  },
  {
   "cell_type": "code",
   "execution_count": 49,
   "id": "0daf7ed3-aa50-479d-b798-2b7da202017c",
   "metadata": {},
   "outputs": [
    {
     "name": "stdout",
     "output_type": "stream",
     "text": [
      "안녕\n",
      "점심\n",
      "맛있게\n",
      "드셨습니까\n"
     ]
    }
   ],
   "source": [
    "for i in \"안녕,점심,맛있게,드셨습니까\".split(','):\n",
    "    print(i)"
   ]
  },
  {
   "cell_type": "code",
   "execution_count": 50,
   "id": "69e509e7-eb48-4980-8e7a-6a353673154d",
   "metadata": {},
   "outputs": [
    {
     "name": "stdout",
     "output_type": "stream",
     "text": [
      "안녕\n",
      "점심\n",
      "맛있게\n",
      "드셨습니까\n"
     ]
    }
   ],
   "source": [
    "for i in \"안녕/점심/맛있게/드셨습니까\".split('/'):\n",
    "    print(i)"
   ]
  },
  {
   "cell_type": "code",
   "execution_count": 53,
   "id": "6c7cd81b-3954-484e-89c0-c2328aca71e1",
   "metadata": {},
   "outputs": [
    {
     "data": {
      "text/plain": [
       "['안녕', '점심', '맛있게', '드셨습니까']"
      ]
     },
     "execution_count": 53,
     "metadata": {},
     "output_type": "execute_result"
    }
   ],
   "source": [
    "[i for i in \"안녕/점심/맛있게/드셨습니까\".split('/')]"
   ]
  },
  {
   "cell_type": "code",
   "execution_count": 54,
   "id": "002449ee-f90c-4c11-a09d-4ba555c54316",
   "metadata": {},
   "outputs": [],
   "source": [
    "li5=[i for i in \"안녕/점심/맛있게/드셨습니까\".split('/')]"
   ]
  },
  {
   "cell_type": "code",
   "execution_count": 55,
   "id": "0a1b7703-fe1a-48ef-a357-123619256061",
   "metadata": {},
   "outputs": [],
   "source": [
    "# 안녕*점심*맛있게*드셨습니까"
   ]
  },
  {
   "cell_type": "code",
   "execution_count": 57,
   "id": "6b14628f-df52-46e7-a052-07152e4ecb75",
   "metadata": {},
   "outputs": [
    {
     "data": {
      "text/plain": [
       "'안녕점심맛있게드셨습니까'"
      ]
     },
     "execution_count": 57,
     "metadata": {},
     "output_type": "execute_result"
    }
   ],
   "source": [
    "\"\".join(li5)"
   ]
  },
  {
   "cell_type": "code",
   "execution_count": 58,
   "id": "60a45597-7696-496d-b9c3-f6943429bde6",
   "metadata": {},
   "outputs": [
    {
     "data": {
      "text/plain": [
       "'안녕 점심 맛있게 드셨습니까'"
      ]
     },
     "execution_count": 58,
     "metadata": {},
     "output_type": "execute_result"
    }
   ],
   "source": [
    "\" \".join(li5)"
   ]
  },
  {
   "cell_type": "code",
   "execution_count": null,
   "id": "2dc6b9f9-6b70-4e5e-aeae-ff40dd1d2f5f",
   "metadata": {},
   "outputs": [],
   "source": []
  }
 ],
 "metadata": {
  "kernelspec": {
   "display_name": "Python 3 (ipykernel)",
   "language": "python",
   "name": "python3"
  },
  "language_info": {
   "codemirror_mode": {
    "name": "ipython",
    "version": 3
   },
   "file_extension": ".py",
   "mimetype": "text/x-python",
   "name": "python",
   "nbconvert_exporter": "python",
   "pygments_lexer": "ipython3",
   "version": "3.12.4"
  }
 },
 "nbformat": 4,
 "nbformat_minor": 5
}
