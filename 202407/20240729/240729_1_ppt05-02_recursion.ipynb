{
 "cells": [
  {
   "cell_type": "code",
   "execution_count": 9,
   "metadata": {},
   "outputs": [],
   "source": [
    "# 회귀 : regression\n",
    "# 재귀 : recursion\n",
    "# basis 기저(base) 조건을 정의해라. \n",
    "# (끝에 조건을 넣어라. 넣지 않으면 무한루프 RecursionError)\n",
    "# 자연수에서 한다. 양의 정수의 곱이다. 0은 안된다.\n",
    "# 멈추는 조건이 있어야한다.\n",
    "\n",
    "\n",
    "def f1() :\n",
    "    print(\"hi\")\n",
    "    f1()"
   ]
  },
  {
   "cell_type": "code",
   "execution_count": 16,
   "metadata": {},
   "outputs": [
    {
     "data": {
      "text/plain": [
       "24"
      ]
     },
     "execution_count": 16,
     "metadata": {},
     "output_type": "execute_result"
    }
   ],
   "source": [
    "# 팩토리얼 함수 정의\n",
    "def factorial(n):\n",
    "    # 기저조건 설정\n",
    "    if n == 1:\n",
    "        return 1\n",
    "    return n* factorial(n-1)\n",
    "\n",
    "# factorial(3)\n",
    "factorial(4)"
   ]
  },
  {
   "cell_type": "code",
   "execution_count": 37,
   "metadata": {},
   "outputs": [
    {
     "name": "stdout",
     "output_type": "stream",
     "text": [
      "55\n"
     ]
    }
   ],
   "source": [
    "# 자료구조는 크게 두가지로 나뉨\t\t\t\t선형자료구조\t\t스택\t큐\n",
    "# 비선형자료구조\t\t                    그래프(점 : node), 선(edge)의 집합\t트리\n",
    "    \n",
    "# 피보나치 수열 >>> 트리구조 (위에 루트노드, 맨밑 가지)\n",
    "def fibo(n) :\n",
    "    if n == 1: \n",
    "        return 1\n",
    "    elif n == 2: \n",
    "        return 1\n",
    "    else : \n",
    "        return fibo(n-1)+fibo(n-2) \n",
    "\n",
    "print(fibo(10))"
   ]
  },
  {
   "cell_type": "code",
   "execution_count": 51,
   "metadata": {},
   "outputs": [
    {
     "name": "stdout",
     "output_type": "stream",
     "text": [
      "3\n",
      "8\n",
      "13\n",
      "34\n",
      "True\n",
      "fibonacci(10): 55\n",
      "fibonacci(20): 6765\n",
      "fibonacci(30): 832040\n",
      "fibonacci(40): 102334155\n",
      "fibonacci(50): 12586269025\n"
     ]
    }
   ],
   "source": [
    "# 피보나치 수열 >>> 트리구조 (위에 루트노드, 맨밑 가지\n",
    "\n",
    "# -------------------------------------------------\n",
    "# 메모화 \n",
    "# -------------------------------------------------\n",
    "dictionary = {\n",
    "    1:1,\n",
    "    2:1\n",
    "} \n",
    "def fibonacci(n) :\n",
    "    if n in dictionary: \n",
    "        return dictionary[n]\n",
    "    else :\n",
    "        output = fibonacci(n-1) + fibonacci(n-2)\n",
    "        dictionary[n] = output\n",
    "        return output\n",
    "    \n",
    "# 1 1 2  3  5  8  13  21 \n",
    "print(fibonacci(4))    \n",
    "print(fibonacci(6))    \n",
    "print(fibonacci(7))    \n",
    "print(fibonacci(9))    \n",
    "print(3 in dictionary) \n",
    "print(\"fibonacci(10):\" , fibonacci(10)) \n",
    "print(\"fibonacci(20):\" , fibonacci(20))\n",
    "print(\"fibonacci(30):\" , fibonacci(30))\n",
    "print(\"fibonacci(40):\" , fibonacci(40))\n",
    "print(\"fibonacci(50):\" , fibonacci(50))\n"
   ]
  },
  {
   "cell_type": "code",
   "execution_count": null,
   "metadata": {},
   "outputs": [],
   "source": [
    "    "
   ]
  }
 ],
 "metadata": {
  "kernelspec": {
   "display_name": "base",
   "language": "python",
   "name": "python3"
  },
  "language_info": {
   "codemirror_mode": {
    "name": "ipython",
    "version": 3
   },
   "file_extension": ".py",
   "mimetype": "text/x-python",
   "name": "python",
   "nbconvert_exporter": "python",
   "pygments_lexer": "ipython3",
   "version": "3.12.4"
  }
 },
 "nbformat": 4,
 "nbformat_minor": 2
}
