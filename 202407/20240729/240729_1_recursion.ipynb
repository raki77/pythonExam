{
 "cells": [
  {
   "cell_type": "code",
   "execution_count": 9,
   "metadata": {},
   "outputs": [],
   "source": [
    "# 회귀 : regression\n",
    "# 재귀 : recursion\n",
    "# basis 기저(base) 조건을 정의해라. \n",
    "# (끝에 조건을 넣어라. 넣지 않으면 무한루프 RecursionError)\n",
    "# 자연수에서 한다. 양의 정수의 곱이다. 0은 안된다.\n",
    "# 멈추는 조건이 있어야한다.\n",
    "\n",
    "\n",
    "def f1() :\n",
    "    print(\"hi\")\n",
    "    f1()"
   ]
  },
  {
   "cell_type": "code",
   "execution_count": 14,
   "metadata": {},
   "outputs": [
    {
     "data": {
      "text/plain": [
       "24"
      ]
     },
     "execution_count": 14,
     "metadata": {},
     "output_type": "execute_result"
    }
   ],
   "source": [
    "# 팩토리얼 함수 정의\n",
    "def factorial(n):\n",
    "    # 기저조건 설정\n",
    "    if n == 1:\n",
    "        return 1\n",
    "    return n* factorial(n-1)\n",
    "\n",
    "# factorial(3)\n",
    "factorial(4)"
   ]
  }
 ],
 "metadata": {
  "kernelspec": {
   "display_name": "base",
   "language": "python",
   "name": "python3"
  },
  "language_info": {
   "codemirror_mode": {
    "name": "ipython",
    "version": 3
   },
   "file_extension": ".py",
   "mimetype": "text/x-python",
   "name": "python",
   "nbconvert_exporter": "python",
   "pygments_lexer": "ipython3",
   "version": "3.12.4"
  }
 },
 "nbformat": 4,
 "nbformat_minor": 2
}
