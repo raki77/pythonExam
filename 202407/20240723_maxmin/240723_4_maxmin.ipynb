{
 "cells": [
  {
   "cell_type": "code",
   "execution_count": 18,
   "metadata": {},
   "outputs": [
    {
     "name": "stdout",
     "output_type": "stream",
     "text": [
      "[273, 878]\n",
      "max: 878\n"
     ]
    }
   ],
   "source": [
    "# 최대값, 최소값 알고리즘\n",
    "import math\n",
    "import threading\n",
    "import time\n",
    "import random\n",
    "\n",
    "# max(li)\n",
    "# min(li) \n",
    "\n",
    "li = []\n",
    "result1 = 0\n",
    "result2 = 0\n",
    "\n",
    "def FuncA(result1, result2) :\n",
    "    for i in range(len(numbers)):    \n",
    "        if i < cnt:\n",
    "            if result1 < numbers[i] :\n",
    "                result1 = numbers[i]  \n",
    "        else :\n",
    "            break \n",
    "    li.append(result1)\n",
    "    \n",
    "def FuncB(result1, result2) :\n",
    "    for i in range(len(numbers)):    \n",
    "        if i < cnt:\n",
    "            continue\n",
    "        else :\n",
    "            if result2 < numbers[i] :\n",
    "                result2 = numbers[i]  \n",
    "    li.append(result2)\n",
    "\n",
    "numbers = [103,52,273,32,77, 1,2,3,13,215,64,48,878]\n",
    "max_value = -99999\n",
    "cnt = int(len(numbers)//2)        \n",
    "        \n",
    "th1 = threading.Thread(target=FuncA, args=[result1, result2])\n",
    "th2 = threading.Thread(target=FuncB, args=[result1, result2])\n",
    "th1.start() \n",
    "th2.start()\n",
    "th1.join()\n",
    "th2.join() \n",
    " \n",
    "print(li)\n",
    "if li[0] < li[1]:\n",
    "    print(\"max:\" , li[1])\n",
    "else:\n",
    "    print(\"max:\" , li[0])\n",
    "\n",
    "\n"
   ]
  }
 ],
 "metadata": {
  "kernelspec": {
   "display_name": "Python 3",
   "language": "python",
   "name": "python3"
  },
  "language_info": {
   "codemirror_mode": {
    "name": "ipython",
    "version": 3
   },
   "file_extension": ".py",
   "mimetype": "text/x-python",
   "name": "python",
   "nbconvert_exporter": "python",
   "pygments_lexer": "ipython3",
   "version": "3.11.5"
  }
 },
 "nbformat": 4,
 "nbformat_minor": 2
}
