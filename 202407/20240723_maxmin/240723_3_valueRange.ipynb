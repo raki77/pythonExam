{
 "cells": [
  {
   "cell_type": "code",
   "execution_count": 15,
   "metadata": {},
   "outputs": [
    {
     "name": "stdout",
     "output_type": "stream",
     "text": [
      "140731028792232\n",
      "------------------------------------------------------------\n",
      "0: 140731028792072\n",
      "1: 140731028792104\n",
      "2: 140731028792136\n",
      "------------------------------------------------------------\n",
      "140731028792136\n"
     ]
    }
   ],
   "source": [
    "# 변수의 범위 테스트 코드 - 11111\n",
    "i = 5 \n",
    "print( id(i))\n",
    "print(\"-\"*60)\n",
    "for i in range(3):\n",
    "    print(f\"{i}: {id(i)}\")\n",
    "    \n",
    "print(\"-\"*60)\n",
    "print( id(i))"
   ]
  },
  {
   "cell_type": "code",
   "execution_count": 14,
   "metadata": {},
   "outputs": [
    {
     "name": "stdout",
     "output_type": "stream",
     "text": [
      "140731028792072\n",
      "0: 140731028792072\n",
      "1: 140731028792104\n",
      "2: 140731028792136\n",
      "------------------------------------------------------------\n",
      "2: 140731028792136\n"
     ]
    }
   ],
   "source": [
    "# 변수의 범위 테스트 코드 - 2222\n",
    "x = 0\n",
    "print( id(x))\n",
    "for x in range(3):\n",
    "    print(f\"{x}: {id(x)}\")\n",
    "    \n",
    "print(\"-\"*60)\n",
    "print(f\"{x}: {id(x)}\")"
   ]
  }
 ],
 "metadata": {
  "kernelspec": {
   "display_name": "Python 3",
   "language": "python",
   "name": "python3"
  },
  "language_info": {
   "codemirror_mode": {
    "name": "ipython",
    "version": 3
   },
   "file_extension": ".py",
   "mimetype": "text/x-python",
   "name": "python",
   "nbconvert_exporter": "python",
   "pygments_lexer": "ipython3",
   "version": "3.11.5"
  }
 },
 "nbformat": 4,
 "nbformat_minor": 2
}
