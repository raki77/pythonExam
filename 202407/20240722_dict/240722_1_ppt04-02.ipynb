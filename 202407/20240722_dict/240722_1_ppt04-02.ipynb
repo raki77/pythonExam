{
 "cells": [
  {
   "cell_type": "code",
   "execution_count": 1,
   "metadata": {},
   "outputs": [
    {
     "name": "stdout",
     "output_type": "stream",
     "text": [
      "1\n",
      "apple\n",
      "True\n"
     ]
    }
   ],
   "source": [
    "#지난주 복습\n",
    "li = [1, 'apple', True]\n",
    "for i in li:\n",
    "    print(i)\n",
    "\n",
    "# mutable 변경 가능한, immutable\n",
    "# 문자열 함수가 나온다. 힌트 : \"\".\n",
    "# 리스트 함수가 나온다. 힌트 : []."
   ]
  },
  {
   "cell_type": "code",
   "execution_count": 20,
   "metadata": {},
   "outputs": [
    {
     "name": "stdout",
     "output_type": "stream",
     "text": [
      "a\n",
      "b\n",
      "apple\n",
      "banana\n",
      "a apple\n",
      "b banana\n"
     ]
    }
   ],
   "source": [
    "# type({})\n",
    "# 자료구조(자료저장)\n",
    "\n",
    "di1 = {'a': 'apple'}\n",
    "type(di1)\n",
    "di1['a']\n",
    "\n",
    "\n",
    "\n",
    "# iterable\n",
    "di2 = {'a': 'apple', 'b': 'banana'}\n",
    "di2['b']\n",
    "\n",
    "for k in di2:\n",
    "    print(k)\n",
    "\n",
    "for k in di2:\n",
    "    print(di2[k])\n",
    "    \n",
    "for k in di2:\n",
    "    print(k, di2[k])\n"
   ]
  },
  {
   "cell_type": "code",
   "execution_count": 5,
   "metadata": {},
   "outputs": [
    {
     "name": "stdout",
     "output_type": "stream",
     "text": [
      "korea seoul\n",
      "japan tokyo\n",
      "china beijing\n",
      "korea seoul\n",
      "japan tokyo\n",
      "china beijing\n"
     ]
    }
   ],
   "source": [
    "di3 = {\n",
    "    'korea':'seoul',\n",
    "    'japan':'tokyo',\n",
    "    'china':'beijing'\n",
    "}\n",
    "\n",
    "for k in di3:\n",
    "    print (k, di3[k])\n",
    "\n",
    "for k, value in di3.items():\n",
    "    print (k, value)\n"
   ]
  },
  {
   "cell_type": "code",
   "execution_count": 14,
   "metadata": {},
   "outputs": [
    {
     "data": {
      "text/plain": [
       "'lucky'"
      ]
     },
     "execution_count": 14,
     "metadata": {},
     "output_type": "execute_result"
    }
   ],
   "source": [
    "# key값으로 안되는 데이터 자료형은???\n",
    "di4 = {7: 'lucky', True: 'TRUE참'}\n",
    "di4[7]\n",
    "di4[True]\n",
    "\n",
    "di4_2 = {(7, 8): 'lucky', True: 'TRUE참'}\n",
    "di4_2[(7,8)]\n",
    "# di4_3 = {[7, 8]: 'lucky', True: 'TRUE참'}\n",
    "# di4_3[[7, 8]]\n",
    "\n",
    "# hash 자료구조 : 연관구조 (if-then) \n"
   ]
  },
  {
   "cell_type": "code",
   "execution_count": 26,
   "metadata": {},
   "outputs": [
    {
     "name": "stdout",
     "output_type": "stream",
     "text": [
      "가격: 3500000 원\n",
      "지역: 오키나와\n",
      "호텔: C 급\n"
     ]
    }
   ],
   "source": [
    "computer_class = {'time': [1,2,3,4,5], 'subject':['python', 'java', 'c#/.net', 'html', 'jquery', 'reactJs', 'NodeJs', 'vue']}\n",
    "computer_class['subject'][6]\n",
    "\n",
    "tour = {\n",
    "    'cost': [500000, 500000, 1500000, 2500000, 3500000, 4500000, 5500000, 6500000, 7500000],\n",
    "    'location':['오키나와', '제주도', '상하이', '장가계', '괌', '코사무이', '사이판', '호치민', '마닐라', '북경', '도쿄', '오사카', '대마도'],\n",
    "    'hotel_class' : ['A','B','C','D','E']\n",
    "}\n",
    "print(\"가격:\" , tour['cost'][4], '원')\n",
    "print(\"지역:\" , tour['location'][0])\n",
    "print(\"호텔:\" , tour['hotel_class'][2], '급')"
   ]
  },
  {
   "cell_type": "code",
   "execution_count": 73,
   "metadata": {},
   "outputs": [
    {
     "name": "stdout",
     "output_type": "stream",
     "text": [
      "값:과일, 내용:['망고', '수박2', '복숭아']\n",
      "값:종류, 내용:['당절임', '씨 없는 수박2', '천도 복숭아']\n"
     ]
    },
    {
     "data": {
      "text/plain": [
       "dict_values([['망고', '수박2', '복숭아'], ['당절임', '씨 없는 수박2', '천도 복숭아']])"
      ]
     },
     "execution_count": 73,
     "metadata": {},
     "output_type": "execute_result"
    }
   ],
   "source": [
    "name = \"이름\"\n",
    "type = \"제품형태\"\n",
    "dict_key = {\n",
    "    name : \"7D 건조 망고\",\n",
    "    type : \"당절임\"\n",
    "}\n",
    "\n",
    "# dict_key['이름']\n",
    "# dict_key[name]\n",
    "\n",
    "dict_key['제품형태']\n",
    "dict_key[type]\n",
    "\n",
    "# 딕셔너리에 값 추가할 때\n",
    "name = \"과일\"\n",
    "type = \"종류\"\n",
    "dict_key['수박1'] = '씨 없는 수박1'\n",
    "dict_key = { \n",
    "    name : ['망고', '수박2', '복숭아'] , \n",
    "    type : ['당절임', '씨 없는 수박2', '천도 복숭아']\n",
    "} \n",
    "# items -> keys, values\n",
    "# for문에 다음에 두 개를 넣을 수 있다.\n",
    "for key, value in dict_key.items():\n",
    "    print(f\"값:{key}, 내용:{value}\")\n",
    "\n",
    "# dict_items([('과일', ['망고', '수박2', '복숭아']), ('종류', ['당절임', '씨 없는 수박2', '천도 복숭아'])])            \n",
    "dict_key.items() \n",
    "dict_key.keys()\n",
    "dict_key.values()"
   ]
  },
  {
   "cell_type": "code",
   "execution_count": 78,
   "metadata": {},
   "outputs": [
    {
     "data": {
      "text/plain": [
       "('과일', ['망고', '수박2', '복숭아'])"
      ]
     },
     "execution_count": 78,
     "metadata": {},
     "output_type": "execute_result"
    }
   ],
   "source": [
    "key, value = list(dict_key.items())[0]\n",
    "key, value"
   ]
  },
  {
   "cell_type": "code",
   "execution_count": 85,
   "metadata": {},
   "outputs": [
    {
     "data": {
      "text/plain": [
       "{'과일': '딸기', '종류': '산딸기', '생선': ['고등어', '갈치', '광어']}"
      ]
     },
     "execution_count": 85,
     "metadata": {},
     "output_type": "execute_result"
    }
   ],
   "source": [
    "dict_key[name]\n",
    "# key값 대체\n",
    "dict_key[name] = \"딸기\"\n",
    "dict_key[type] = '산딸기'\n",
    "dict_key"
   ]
  },
  {
   "cell_type": "code",
   "execution_count": 122,
   "metadata": {},
   "outputs": [
    {
     "name": "stdout",
     "output_type": "stream",
     "text": [
      "before:{'생선': ['갈치', '오징어']}\n",
      "after:{'생선': ['고등어', '갈치', '광어']}\n",
      "{'생선': ['고등어', '갈치', '광어']}\n",
      "{'고기': ['돼지고기', '소고기', '닭고기']}\n",
      "None\n",
      "Help on NoneType object:\n",
      "\n",
      "class NoneType(object)\n",
      " |  Methods defined here:\n",
      " |  \n",
      " |  __bool__(self, /)\n",
      " |      True if self else False\n",
      " |  \n",
      " |  __repr__(self, /)\n",
      " |      Return repr(self).\n",
      " |  \n",
      " |  ----------------------------------------------------------------------\n",
      " |  Static methods defined here:\n",
      " |  \n",
      " |  __new__(*args, **kwargs) from builtins.type\n",
      " |      Create and return a new object.  See help(type) for accurate signature.\n",
      "\n"
     ]
    }
   ],
   "source": [
    "fish= {'생선': ['갈치', '오징어']}\n",
    "print(f\"before:{fish}\")\n",
    "fish['생선'] = ['고등어', '갈치', '광어']\n",
    "print(f\"after:{fish}\")\n",
    "# food= {'fish': fish, 'meat':['돼지고기','소고기','닭고기']}\n",
    "meat = {'고기': ['돼지고기','소고기','닭고기']}\n",
    "food = {'fish': fish, 'meat': meat}\n",
    "# print(f\"{food['fish']}\")\n",
    "# print(f\"{food['meat']}\")\n",
    "# print('fish' in food)\n",
    "# print('meat' in food)\n",
    "\n",
    "if 'fish' in food:\n",
    "    print(food['fish'])\n",
    "else:\n",
    "    print(\"키가 없다.\")\n",
    "\n",
    "if 'meat' in food:\n",
    "    print(food['meat'])\n",
    "else:\n",
    "    print(\"키가 없다.\")\n",
    "\n",
    "food.get('fish')\n",
    "# None 타입\n",
    "print(food.get('sadlkfjas')) \n",
    "help(None)\n",
    "\n"
   ]
  },
  {
   "cell_type": "code",
   "execution_count": 130,
   "metadata": {},
   "outputs": [
    {
     "name": "stdout",
     "output_type": "stream",
     "text": [
      "[2, 3, 5]\n",
      "[5, 3, 2]\n",
      "None\n"
     ]
    }
   ],
   "source": [
    "li = [5,2,3]\n",
    "li.sort()\n",
    "print(li)\n",
    "\n",
    "result = li.reverse()\n",
    "print(li)\n",
    "print(result)\n"
   ]
  }
 ],
 "metadata": {
  "kernelspec": {
   "display_name": "Python 3",
   "language": "python",
   "name": "python3"
  },
  "language_info": {
   "codemirror_mode": {
    "name": "ipython",
    "version": 3
   },
   "file_extension": ".py",
   "mimetype": "text/x-python",
   "name": "python",
   "nbconvert_exporter": "python",
   "pygments_lexer": "ipython3",
   "version": "3.11.5"
  }
 },
 "nbformat": 4,
 "nbformat_minor": 2
}
