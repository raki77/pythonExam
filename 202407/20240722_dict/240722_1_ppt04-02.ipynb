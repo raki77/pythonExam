{
 "cells": [
  {
   "cell_type": "code",
   "execution_count": 1,
   "metadata": {},
   "outputs": [
    {
     "name": "stdout",
     "output_type": "stream",
     "text": [
      "1\n",
      "apple\n",
      "True\n"
     ]
    }
   ],
   "source": [
    "#지난주 복습\n",
    "li = [1, 'apple', True]\n",
    "for i in li:\n",
    "    print(i)\n",
    "\n",
    "# mutable 변경 가능한, immutable\n",
    "# 문자열 함수가 나온다. 힌트 : \"\".\n",
    "# 리스트 함수가 나온다. 힌트 : []."
   ]
  },
  {
   "cell_type": "code",
   "execution_count": 20,
   "metadata": {},
   "outputs": [
    {
     "name": "stdout",
     "output_type": "stream",
     "text": [
      "a\n",
      "b\n",
      "apple\n",
      "banana\n",
      "a apple\n",
      "b banana\n"
     ]
    }
   ],
   "source": [
    "# type({})\n",
    "# 자료구조(자료저장)\n",
    "\n",
    "di1 = {'a': 'apple'}\n",
    "type(di1)\n",
    "di1['a']\n",
    "\n",
    "\n",
    "\n",
    "# iterable\n",
    "di2 = {'a': 'apple', 'b': 'banana'}\n",
    "di2['b']\n",
    "\n",
    "for k in di2:\n",
    "    print(k)\n",
    "\n",
    "for k in di2:\n",
    "    print(di2[k])\n",
    "    \n",
    "for k in di2:\n",
    "    print(k, di2[k])\n"
   ]
  },
  {
   "cell_type": "code",
   "execution_count": 5,
   "metadata": {},
   "outputs": [
    {
     "name": "stdout",
     "output_type": "stream",
     "text": [
      "korea seoul\n",
      "japan tokyo\n",
      "china beijing\n",
      "korea seoul\n",
      "japan tokyo\n",
      "china beijing\n"
     ]
    }
   ],
   "source": [
    "di3 = {\n",
    "    'korea':'seoul',\n",
    "    'japan':'tokyo',\n",
    "    'china':'beijing'\n",
    "}\n",
    "\n",
    "for k in di3:\n",
    "    print (k, di3[k])\n",
    "\n",
    "for k, value in di3.items():\n",
    "    print (k, value)\n"
   ]
  },
  {
   "cell_type": "code",
   "execution_count": 14,
   "metadata": {},
   "outputs": [
    {
     "data": {
      "text/plain": [
       "'lucky'"
      ]
     },
     "execution_count": 14,
     "metadata": {},
     "output_type": "execute_result"
    }
   ],
   "source": [
    "# key값으로 안되는 데이터 자료형은???\n",
    "di4 = {7: 'lucky', True: 'TRUE참'}\n",
    "di4[7]\n",
    "di4[True]\n",
    "\n",
    "di4_2 = {(7, 8): 'lucky', True: 'TRUE참'}\n",
    "di4_2[(7,8)]\n",
    "# di4_3 = {[7, 8]: 'lucky', True: 'TRUE참'}\n",
    "# di4_3[[7, 8]]\n",
    "\n",
    "# hash 자료구조 : 연관구조 (if-then) \n"
   ]
  },
  {
   "cell_type": "code",
   "execution_count": 26,
   "metadata": {},
   "outputs": [
    {
     "name": "stdout",
     "output_type": "stream",
     "text": [
      "가격: 3500000 원\n",
      "지역: 오키나와\n",
      "호텔: C 급\n"
     ]
    }
   ],
   "source": [
    "computer_class = {'time': [1,2,3,4,5], 'subject':['python', 'java', 'c#/.net', 'html', 'jquery', 'reactJs', 'NodeJs', 'vue']}\n",
    "computer_class['subject'][6]\n",
    "\n",
    "tour = {\n",
    "    'cost': [500000, 500000, 1500000, 2500000, 3500000, 4500000, 5500000, 6500000, 7500000],\n",
    "    'location':['오키나와', '제주도', '상하이', '장가계', '괌', '코사무이', '사이판', '호치민', '마닐라', '북경', '도쿄', '오사카', '대마도'],\n",
    "    'hotel_class' : ['A','B','C','D','E']\n",
    "}\n",
    "print(\"가격:\" , tour['cost'][4], '원')\n",
    "print(\"지역:\" , tour['location'][0])\n",
    "print(\"호텔:\" , tour['hotel_class'][2], '급')"
   ]
  },
  {
   "cell_type": "code",
   "execution_count": 73,
   "metadata": {},
   "outputs": [
    {
     "name": "stdout",
     "output_type": "stream",
     "text": [
      "값:과일, 내용:['망고', '수박2', '복숭아']\n",
      "값:종류, 내용:['당절임', '씨 없는 수박2', '천도 복숭아']\n"
     ]
    },
    {
     "data": {
      "text/plain": [
       "dict_values([['망고', '수박2', '복숭아'], ['당절임', '씨 없는 수박2', '천도 복숭아']])"
      ]
     },
     "execution_count": 73,
     "metadata": {},
     "output_type": "execute_result"
    }
   ],
   "source": [
    "name = \"이름\"\n",
    "type = \"제품형태\"\n",
    "dict_key = {\n",
    "    name : \"7D 건조 망고\",\n",
    "    type : \"당절임\"\n",
    "}\n",
    "\n",
    "# dict_key['이름']\n",
    "# dict_key[name]\n",
    "\n",
    "dict_key['제품형태']\n",
    "dict_key[type]\n",
    "\n",
    "# 딕셔너리에 값 추가할 때\n",
    "name = \"과일\"\n",
    "type = \"종류\"\n",
    "dict_key['수박1'] = '씨 없는 수박1'\n",
    "dict_key = { \n",
    "    name : ['망고', '수박2', '복숭아'] , \n",
    "    type : ['당절임', '씨 없는 수박2', '천도 복숭아']\n",
    "} \n",
    "# items -> keys, values\n",
    "# for문에 다음에 두 개를 넣을 수 있다.\n",
    "for key, value in dict_key.items():\n",
    "    print(f\"값:{key}, 내용:{value}\")\n",
    "\n",
    "# dict_items([('과일', ['망고', '수박2', '복숭아']), ('종류', ['당절임', '씨 없는 수박2', '천도 복숭아'])])            \n",
    "dict_key.items() \n",
    "dict_key.keys()\n",
    "dict_key.values()"
   ]
  },
  {
   "cell_type": "code",
   "execution_count": 78,
   "metadata": {},
   "outputs": [
    {
     "data": {
      "text/plain": [
       "('과일', ['망고', '수박2', '복숭아'])"
      ]
     },
     "execution_count": 78,
     "metadata": {},
     "output_type": "execute_result"
    }
   ],
   "source": [
    "key, value = list(dict_key.items())[0]\n",
    "key, value"
   ]
  },
  {
   "cell_type": "code",
   "execution_count": 85,
   "metadata": {},
   "outputs": [
    {
     "data": {
      "text/plain": [
       "{'과일': '딸기', '종류': '산딸기', '생선': ['고등어', '갈치', '광어']}"
      ]
     },
     "execution_count": 85,
     "metadata": {},
     "output_type": "execute_result"
    }
   ],
   "source": [
    "dict_key[name]\n",
    "# key값 대체\n",
    "dict_key[name] = \"딸기\"\n",
    "dict_key[type] = '산딸기'\n",
    "dict_key"
   ]
  },
  {
   "cell_type": "code",
   "execution_count": 122,
   "metadata": {},
   "outputs": [
    {
     "name": "stdout",
     "output_type": "stream",
     "text": [
      "before:{'생선': ['갈치', '오징어']}\n",
      "after:{'생선': ['고등어', '갈치', '광어']}\n",
      "{'생선': ['고등어', '갈치', '광어']}\n",
      "{'고기': ['돼지고기', '소고기', '닭고기']}\n",
      "None\n",
      "Help on NoneType object:\n",
      "\n",
      "class NoneType(object)\n",
      " |  Methods defined here:\n",
      " |  \n",
      " |  __bool__(self, /)\n",
      " |      True if self else False\n",
      " |  \n",
      " |  __repr__(self, /)\n",
      " |      Return repr(self).\n",
      " |  \n",
      " |  ----------------------------------------------------------------------\n",
      " |  Static methods defined here:\n",
      " |  \n",
      " |  __new__(*args, **kwargs) from builtins.type\n",
      " |      Create and return a new object.  See help(type) for accurate signature.\n",
      "\n"
     ]
    }
   ],
   "source": [
    "fish= {'생선': ['갈치', '오징어']}\n",
    "print(f\"before:{fish}\")\n",
    "fish['생선'] = ['고등어', '갈치', '광어']\n",
    "print(f\"after:{fish}\")\n",
    "# food= {'fish': fish, 'meat':['돼지고기','소고기','닭고기']}\n",
    "meat = {'고기': ['돼지고기','소고기','닭고기']}\n",
    "food = {'fish': fish, 'meat': meat}\n",
    "# print(f\"{food['fish']}\")\n",
    "# print(f\"{food['meat']}\")\n",
    "# print('fish' in food)\n",
    "# print('meat' in food)\n",
    "\n",
    "if 'fish' in food:\n",
    "    print(food['fish'])\n",
    "else:\n",
    "    print(\"키가 없다.\")\n",
    "\n",
    "if 'meat' in food:\n",
    "    print(food['meat'])\n",
    "else:\n",
    "    print(\"키가 없다.\")\n",
    "\n",
    "food.get('fish')\n",
    "# None 타입\n",
    "print(food.get('sadlkfjas')) \n",
    "help(None)\n",
    "\n"
   ]
  },
  {
   "cell_type": "code",
   "execution_count": 34,
   "metadata": {},
   "outputs": [
    {
     "name": "stdout",
     "output_type": "stream",
     "text": [
      "[2, 3, 5]\n",
      "[5, 3, 2]\n",
      "None\n"
     ]
    }
   ],
   "source": [
    "li = [5,2,3]\n",
    "li.sort()\n",
    "print(li)\n",
    "\n",
    "result = li.reverse()\n",
    "print(li)\n",
    "print(result)\n"
   ]
  },
  {
   "cell_type": "code",
   "execution_count": 35,
   "metadata": {},
   "outputs": [
    {
     "name": "stdout",
     "output_type": "stream",
     "text": [
      "{'name': '구름'}\n",
      "{}\n"
     ]
    }
   ],
   "source": [
    "# -------------------------------------------------------------------------\n",
    "# 문제01. 다음 표에서 dict_a의 결과가 나오도록 빈칸을 채워보세요.\n",
    "# -------------------------------------------------------------------------\n",
    "dict_a = {}\n",
    "dict_a = {\"name\": \"구름\"}\n",
    "print(dict_a)\n",
    "del dict_a['name']\n",
    "dict_a.clear()\n",
    "print(dict_a)"
   ]
  },
  {
   "cell_type": "code",
   "execution_count": 33,
   "metadata": {},
   "outputs": [
    {
     "name": "stdout",
     "output_type": "stream",
     "text": [
      "정렬 전: {1: 3, 2: 4, 6: 1, 8: 2, 4: 3, 3: 3, 9: 3, 5: 2, 7: 2}\n",
      "정렬 후: {1: 3, 2: 4, 3: 3, 4: 3, 5: 2, 6: 1, 7: 2, 8: 2, 9: 3}\n"
     ]
    }
   ],
   "source": [
    "\n",
    "# -------------------------------------------------------------------------\n",
    "# 순서 정렬하기\n",
    "# -------------------------------------------------------------------------\n",
    "numbers = [1,2,6,8,4,3,2,1,9,5,4,9,7,2,1,3,5,4,8,9,7,2,3]\n",
    "counter = {}\n",
    "for number in numbers:\n",
    "    if bool(counter) == False :        \n",
    "        counter[number] = 1        \n",
    "    else :         \n",
    "        if number in counter.keys():                 \n",
    "            counter[number] += 1   \n",
    "        else :\n",
    "            counter[number] = 1 \n",
    "\n",
    "li = list(counter)\n",
    "li.sort() \n",
    "print(\"정렬 전:\", counter)\n",
    "result=dict(sorted(counter.items()))\n",
    "print(\"정렬 후:\", result)\n",
    "\n",
    "\n"
   ]
  },
  {
   "cell_type": "code",
   "execution_count": 2,
   "metadata": {},
   "outputs": [],
   "source": [
    "# >>> a=5\n",
    "# >>> b=5\n",
    "# >>> a == b\n",
    "# True\n",
    "# >>> id(a)\n",
    "# 140730768155560\n",
    "# >>> id(b)\n",
    "# 140730768155560\n",
    "# >>> a is b\n",
    "# True\n",
    "# >>>\n",
    "# # 주소값이 a,b가 같냐?? 256 값 넘어가면 변수 주소값이 달라진다.\n",
    "\n",
    "# >>> a is b\n",
    "# True\n",
    "# >>> type(4) is int\n",
    "# True\n",
    "# >>> type(True) is bool\n",
    "# True\n",
    "# >>> type(\"string\") is str \n",
    "# True\n",
    "# >>> type({'1':'223'}) is dict\n",
    "# True\n",
    "# >>> type((1, 455435)) is tuple\n",
    "# True\n",
    "# >>> type([1,'3434',True]) is list\n",
    "# True\n",
    "# >>>"
   ]
  },
  {
   "cell_type": "code",
   "execution_count": 11,
   "metadata": {},
   "outputs": [
    {
     "name": "stdout",
     "output_type": "stream",
     "text": [
      "다른값 시작 : 257, 257\n"
     ]
    }
   ],
   "source": [
    "a=1\n",
    "b=1\n",
    " \n",
    "while a is b :\n",
    "    a+=1\n",
    "    b+=1\n",
    "    if a is b: \n",
    "        continue\n",
    "    else:\n",
    "        print(f\"다른값 시작 : {a}, {b}\")\n",
    "        break"
   ]
  },
  {
   "cell_type": "code",
   "execution_count": 37,
   "metadata": {},
   "outputs": [
    {
     "name": "stdout",
     "output_type": "stream",
     "text": [
      "hi\n",
      "hi\n",
      "hi\n",
      "hi\n",
      "hi\n",
      "hi\n",
      "hi\n",
      "hi\n",
      "hi\n",
      "* * * \n",
      "* * * \n",
      "* * * \n"
     ]
    }
   ],
   "source": [
    "for i in [1,2,3]:\n",
    "    for j in [1,2,3]:\n",
    "        print(\"hi\")\n",
    "\n",
    "for i in range(3):\n",
    "    for j in range(3):\n",
    "        print(\"*\", end=\" \")\n",
    "    print() "
   ]
  },
  {
   "cell_type": "code",
   "execution_count": 49,
   "metadata": {},
   "outputs": [
    {
     "name": "stdout",
     "output_type": "stream",
     "text": [
      "--- 1 단 ---\n",
      "1 * 1 =  1 | 1 * 2 =  2 | 1 * 3 =  3 | \n",
      "1 * 4 =  4 | 1 * 5 =  5 | 1 * 6 =  6 | \n",
      "1 * 7 =  7 | 1 * 8 =  8 | 1 * 9 =  9 | \n",
      "\n",
      "--- 2 단 ---\n",
      "2 * 1 =  2 | 2 * 2 =  4 | 2 * 3 =  6 | \n",
      "2 * 4 =  8 | 2 * 5 = 10 | 2 * 6 = 12 | \n",
      "2 * 7 = 14 | 2 * 8 = 16 | 2 * 9 = 18 | \n",
      "\n",
      "--- 3 단 ---\n",
      "3 * 1 =  3 | 3 * 2 =  6 | 3 * 3 =  9 | \n",
      "3 * 4 = 12 | 3 * 5 = 15 | 3 * 6 = 18 | \n",
      "3 * 7 = 21 | 3 * 8 = 24 | 3 * 9 = 27 | \n",
      "\n",
      "--- 4 단 ---\n",
      "4 * 1 =  4 | 4 * 2 =  8 | 4 * 3 = 12 | \n",
      "4 * 4 = 16 | 4 * 5 = 20 | 4 * 6 = 24 | \n",
      "4 * 7 = 28 | 4 * 8 = 32 | 4 * 9 = 36 | \n",
      "\n",
      "--- 5 단 ---\n",
      "5 * 1 =  5 | 5 * 2 = 10 | 5 * 3 = 15 | \n",
      "5 * 4 = 20 | 5 * 5 = 25 | 5 * 6 = 30 | \n",
      "5 * 7 = 35 | 5 * 8 = 40 | 5 * 9 = 45 | \n",
      "\n",
      "--- 6 단 ---\n",
      "6 * 1 =  6 | 6 * 2 = 12 | 6 * 3 = 18 | \n",
      "6 * 4 = 24 | 6 * 5 = 30 | 6 * 6 = 36 | \n",
      "6 * 7 = 42 | 6 * 8 = 48 | 6 * 9 = 54 | \n",
      "\n",
      "--- 7 단 ---\n",
      "7 * 1 =  7 | 7 * 2 = 14 | 7 * 3 = 21 | \n",
      "7 * 4 = 28 | 7 * 5 = 35 | 7 * 6 = 42 | \n",
      "7 * 7 = 49 | 7 * 8 = 56 | 7 * 9 = 63 | \n",
      "\n",
      "--- 8 단 ---\n",
      "8 * 1 =  8 | 8 * 2 = 16 | 8 * 3 = 24 | \n",
      "8 * 4 = 32 | 8 * 5 = 40 | 8 * 6 = 48 | \n",
      "8 * 7 = 56 | 8 * 8 = 64 | 8 * 9 = 72 | \n",
      "\n",
      "--- 9 단 ---\n",
      "9 * 1 =  9 | 9 * 2 = 18 | 9 * 3 = 27 | \n",
      "9 * 4 = 36 | 9 * 5 = 45 | 9 * 6 = 54 | \n",
      "9 * 7 = 63 | 9 * 8 = 72 | 9 * 9 = 81 | \n",
      "\n"
     ]
    }
   ],
   "source": [
    "for i in range(1, 9+1):\n",
    "    print(\"---\", i, \"단 ---\")\n",
    "    for j in range(1, 9+1): \n",
    "        print(f\"{i} * {j} = {i*j:2}\", end=\" | \")\n",
    "        # print(\"%d*%d =%2d \" %(i,j, i*j), end=' ')\n",
    "        if j % 3 == 0:\n",
    "            print() \n",
    "    print()"
   ]
  },
  {
   "cell_type": "code",
   "execution_count": 47,
   "metadata": {},
   "outputs": [
    {
     "name": "stdout",
     "output_type": "stream",
     "text": [
      "name : 기사\n",
      "level : 12\n",
      "sword : 불꽃의 검\n",
      "armor : 풀플레이트\n",
      "skill : 베기\n",
      "skill : 세게 베기\n",
      "skill : 아주 세게 베기\n"
     ]
    }
   ],
   "source": [
    "character = {\n",
    "    \"name\"  :\"기사\",\n",
    "    \"level\" : 12,\n",
    "    \"items\"  : {\n",
    "        \"sword\" : \"불꽃의 검\",\n",
    "        \"armor\" : \"풀플레이트\"\n",
    "    },\n",
    "    \"skill\"  : [\"베기\", \"세게 베기\", \"아주 세게 베기\"]\n",
    "}\n",
    "\n",
    "for key in character: \n",
    "    if type(character[key]) is dict: \n",
    "        for i in character[key]:\n",
    "            print(f\"{i} : {character[key][i]}\") \n",
    "    elif str(type(character[key])).find('list') > -1:  \n",
    "        for i in range(len(character[key])):\n",
    "            print(f\"{key} : {character[key][i]}\")\n",
    "    else :\n",
    "        print(f\"{key} : {character[key]}\") \n"
   ]
  },
  {
   "cell_type": "code",
   "execution_count": 87,
   "metadata": {},
   "outputs": [
    {
     "name": "stdout",
     "output_type": "stream",
     "text": [
      "* \n",
      "* * \n",
      "* * * \n",
      "* * * * \n",
      "* * * * * \n"
     ]
    }
   ],
   "source": [
    "for i in range(1, 5+1):\n",
    "    for j in range(i):        \n",
    "        print(\"*\", end=\" \")\n",
    "    print()\n",
    "    "
   ]
  },
  {
   "cell_type": "code",
   "execution_count": 88,
   "metadata": {},
   "outputs": [
    {
     "name": "stdout",
     "output_type": "stream",
     "text": [
      "* \n",
      "* * \n",
      "* * * \n",
      "* * * * \n",
      "* * * * * \n"
     ]
    }
   ],
   "source": [
    "for j in range(1, 5+1):\n",
    "    print(\"* \"*j)\n",
    " "
   ]
  },
  {
   "cell_type": "code",
   "execution_count": 92,
   "metadata": {},
   "outputs": [
    {
     "name": "stdout",
     "output_type": "stream",
     "text": [
      "* * * * * \n",
      "* * * * \n",
      "* * * \n",
      "* * \n",
      "* \n"
     ]
    }
   ],
   "source": [
    "for i in range(5, 0, -1):\n",
    "    for j in range(i):        \n",
    "        print(\"*\", end=\" \")\n",
    "    print()"
   ]
  },
  {
   "cell_type": "code",
   "execution_count": 149,
   "metadata": {},
   "outputs": [
    {
     "name": "stdout",
     "output_type": "stream",
     "text": [
      "     *\n",
      "    ***\n",
      "   *****\n",
      "  *******\n",
      " *********\n",
      "***********\n",
      "    ***\n",
      "    ***\n"
     ]
    }
   ],
   "source": [
    "# final count down\n",
    "# result : 1,3,5,7,9,11\n",
    "for i in range(7):    \n",
    "    result = 2*i+1            \n",
    "    for j in range(11+1):     \n",
    "        if j == result:\n",
    "            space = int((11-result)//2)\n",
    "            print(\" \"*space + \"*\"*j)\n",
    "        else :\n",
    "            continue  \n",
    "for x in range(1, 2+1):    \n",
    "    print(\" \"*3, \"*\"*3)       \n",
    "    "
   ]
  },
  {
   "cell_type": "code",
   "execution_count": 151,
   "metadata": {},
   "outputs": [
    {
     "name": "stdout",
     "output_type": "stream",
     "text": [
      "로켓 발사 카운드 다운\n",
      "5\n",
      "4\n",
      "3\n",
      "2\n",
      "1\n",
      "0\n",
      "     *\n",
      "    ***\n",
      "   *****\n",
      "  *******\n",
      " *********\n",
      "***********\n",
      "    ***\n",
      "    ***\n",
      "로 켓 발 사 !!\n"
     ]
    }
   ],
   "source": [
    "import time\n",
    "\n",
    "print(\"로켓 발사 카운드 다운\")\n",
    "for i in range(5, -1, -1):\n",
    "    print(i)\n",
    "    time.sleep(1)\n",
    "    \n",
    "# result : 1,3,5,7,9,11\n",
    "for i in range(7):    \n",
    "    result = 2*i+1            \n",
    "    for j in range(11+1):     \n",
    "        if j == result:\n",
    "            space = int((11-result)//2)\n",
    "            print(\" \"*space + \"*\"*j)\n",
    "        else :\n",
    "            continue  \n",
    "for x in range(1, 2+1):    \n",
    "    print(\" \"*3, \"*\"*3)  \n",
    "    \n",
    "print(\"로 켓 발 사 !!\")     \n",
    "    "
   ]
  },
  {
   "cell_type": "code",
   "execution_count": null,
   "metadata": {},
   "outputs": [],
   "source": []
  },
  {
   "cell_type": "code",
   "execution_count": 152,
   "metadata": {},
   "outputs": [
    {
     "name": "stdout",
     "output_type": "stream",
     "text": [
      "     *\n",
      "    ***\n",
      "   *****\n",
      "  *******\n",
      " *********\n",
      "***********\n",
      "    ***\n",
      "    ***\n",
      "\n"
     ]
    }
   ],
   "source": [
    "str1= ''\n",
    "for i in range(1, 7):\n",
    "    for j in range(6, i, -1):\n",
    "        str1 += ' '\n",
    "    for k in range(0 , 2*i-1):\n",
    "        str1 += '*'\n",
    "    str1 += '\\n'\n",
    "    \n",
    "for i in range(2):\n",
    "    for j in range(4):\n",
    "        str1 += ' '\n",
    "    for k in range(3):\n",
    "        str1 += \"*\"\n",
    "    str1 += '\\n'\n",
    "\n",
    "print(str1)"
   ]
  },
  {
   "cell_type": "code",
   "execution_count": 161,
   "metadata": {},
   "outputs": [
    {
     "name": "stdout",
     "output_type": "stream",
     "text": [
      "{'name': '기사', 'hp': 200, 'mp': 30, 'level': 5}\n"
     ]
    }
   ],
   "source": [
    "# 1. 다음 표를 채워 보세요.\n",
    "#   코드가 여러 개 나올 수 있는 경우 가장 간단한 형태를 넣어 주세요.\n",
    "li1 = [0,1,2,3,4]\n",
    "list(range(4, 6))\n",
    "# [4, 5]\n",
    "list(range(7, 0, -1))\n",
    "# [7, 6, 5, 4, 3, 2, 1]\n",
    "# [3,6,9]\n",
    "list(range(3, 10, 3))\n",
    "\n",
    "\n",
    "# 2.빈칸을 채워 키와 값으로 이루어진 각 리스트를 조합해\n",
    "#   하나의 딕셔너리를 만들어 보세요.\n",
    "key_list = [\"name\", \"hp\", \"mp\", \"level\"]\n",
    "value_list = [\"기사\", 200, 30, 5]\n",
    "character = {}\n",
    "for i in range(len(key_list)) :\n",
    "    character[key_list[i]] = value_list[i]\n",
    "print(character)\n",
    "\n",
    " "
   ]
  },
  {
   "cell_type": "code",
   "execution_count": 163,
   "metadata": {},
   "outputs": [
    {
     "name": "stdout",
     "output_type": "stream",
     "text": [
      "142를 더할 때 10000을 넘으며 그때의 값은 10011입니다.\n"
     ]
    }
   ],
   "source": [
    "# 3. 1부터 숫자를 하나씩 증가시키면서 더하는 경우를 생각해 봅시다.\n",
    "#    몇을 더할 때 10000을 넘는지 구해 보세요. 그리고 그때의 값도\n",
    "#    출력해 보세요. 다음은 10000이 넘는 경우를 구한 예입니다.\n",
    "\n",
    "limit = 10000\n",
    "i = 1\n",
    "# sum_value 변수 사용\n",
    "sum_value = 0\n",
    "while True:    \n",
    "    if sum_value > limit:\n",
    "        break\n",
    "    else :\n",
    "        sum_value += i\n",
    "    i += 1 \n",
    "print(\"{}를 더할 때 {}을 넘으며 그때의 값은 {}입니다.\".format(i, limit, sum_value))"
   ]
  },
  {
   "cell_type": "code",
   "execution_count": 169,
   "metadata": {},
   "outputs": [
    {
     "name": "stdout",
     "output_type": "stream",
     "text": [
      "최대가 되는 경우 : 50 * 50 = 2500\n"
     ]
    }
   ],
   "source": [
    "# 1부터 100까지의 숫자가 있다고 합시다. \n",
    "# 이를 다음과 같이 계산한다고 했을 때, \n",
    "# 최대가 되는 경우는 어떤 숫자를 곱했을 때인지를 찾아 주세요. \n",
    "\n",
    "max_value = 0\n",
    "a = 0\n",
    "b = 0\n",
    "\n",
    "for i in range(1, 99+1):\n",
    "    j = 100 - i \n",
    "    \n",
    "    # 최대값 구하기\n",
    "    if max_value < (i*j) :\n",
    "        max_value = (i*j)\n",
    "        a = i\n",
    "        b = j\n",
    "\n",
    "print(\"최대가 되는 경우 : {} * {} = {}\".format(a, b, max_value))\n"
   ]
  },
  {
   "cell_type": "code",
   "execution_count": null,
   "metadata": {},
   "outputs": [],
   "source": []
  }
 ],
 "metadata": {
  "kernelspec": {
   "display_name": "Python 3",
   "language": "python",
   "name": "python3"
  },
  "language_info": {
   "codemirror_mode": {
    "name": "ipython",
    "version": 3
   },
   "file_extension": ".py",
   "mimetype": "text/x-python",
   "name": "python",
   "nbconvert_exporter": "python",
   "pygments_lexer": "ipython3",
   "version": "3.11.5"
  }
 },
 "nbformat": 4,
 "nbformat_minor": 2
}
