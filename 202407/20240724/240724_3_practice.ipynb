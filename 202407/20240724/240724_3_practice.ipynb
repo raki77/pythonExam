{
 "cells": [
  {
   "cell_type": "code",
   "execution_count": 4,
   "id": "1c3ff335-89a7-4566-b2ed-89a7f5679913",
   "metadata": {},
   "outputs": [
    {
     "data": {
      "text/plain": [
       "1"
      ]
     },
     "execution_count": 4,
     "metadata": {},
     "output_type": "execute_result"
    }
   ],
   "source": [
    "min([50,1,100,300,2,7,55])"
   ]
  },
  {
   "cell_type": "code",
   "execution_count": 8,
   "id": "c3d71087-ca83-4c0c-94d6-47e87d07f7bc",
   "metadata": {},
   "outputs": [
    {
     "data": {
      "text/plain": [
       "300"
      ]
     },
     "execution_count": 8,
     "metadata": {},
     "output_type": "execute_result"
    }
   ],
   "source": [
    "max([50,1,100,300,2,7,55])"
   ]
  },
  {
   "cell_type": "code",
   "execution_count": 12,
   "id": "a43b2ce0-ee02-47f6-96c8-d7deb2bbc09a",
   "metadata": {},
   "outputs": [
    {
     "data": {
      "text/plain": [
       "14"
      ]
     },
     "execution_count": 12,
     "metadata": {},
     "output_type": "execute_result"
    }
   ],
   "source": [
    "sum([3,4,7])"
   ]
  },
  {
   "cell_type": "code",
   "execution_count": 16,
   "id": "3fdd5847-d871-4242-890b-75badd1e6efc",
   "metadata": {},
   "outputs": [
    {
     "data": {
      "text/plain": [
       "[1, 2, 7, 50, 55, 100, 300]"
      ]
     },
     "execution_count": 16,
     "metadata": {},
     "output_type": "execute_result"
    }
   ],
   "source": [
    "sorted([50,1,100,300,2,7,55])"
   ]
  },
  {
   "cell_type": "code",
   "execution_count": 20,
   "id": "f291df2f-c37e-4b3e-9c3b-f18d719e99f6",
   "metadata": {},
   "outputs": [],
   "source": [
    "li1=[50,1,100,300,2,7,55]"
   ]
  },
  {
   "cell_type": "code",
   "execution_count": 24,
   "id": "a0388838-8e91-4721-95ac-f00325f0cbac",
   "metadata": {},
   "outputs": [
    {
     "data": {
      "text/plain": [
       "list"
      ]
     },
     "execution_count": 24,
     "metadata": {},
     "output_type": "execute_result"
    }
   ],
   "source": [
    "type(li1)"
   ]
  },
  {
   "cell_type": "code",
   "execution_count": 28,
   "id": "eb6f94ef-78ea-4250-8c42-4a0e33c80e6f",
   "metadata": {},
   "outputs": [],
   "source": [
    "li1.sort()"
   ]
  },
  {
   "cell_type": "code",
   "execution_count": 32,
   "id": "4ce93854-8751-4084-a2a0-3539e057a59d",
   "metadata": {},
   "outputs": [
    {
     "data": {
      "text/plain": [
       "[1, 2, 7, 50, 55, 100, 300]"
      ]
     },
     "execution_count": 32,
     "metadata": {},
     "output_type": "execute_result"
    }
   ],
   "source": [
    "li1"
   ]
  },
  {
   "cell_type": "code",
   "execution_count": 36,
   "id": "ce563f84-3dee-4686-9672-e0f3c9fedbcc",
   "metadata": {},
   "outputs": [],
   "source": [
    "re1=[50,1,100,300,2,7,55]"
   ]
  },
  {
   "cell_type": "code",
   "execution_count": 40,
   "id": "df6d67c8-b8d5-40e9-9145-41dfc3a7e518",
   "metadata": {},
   "outputs": [
    {
     "data": {
      "text/plain": [
       "<list_reverseiterator at 0x153b2592ad0>"
      ]
     },
     "execution_count": 40,
     "metadata": {},
     "output_type": "execute_result"
    }
   ],
   "source": [
    "reversed(re1)"
   ]
  },
  {
   "cell_type": "code",
   "execution_count": 44,
   "id": "654126ec-066f-4231-92f5-f910c8d3a4a6",
   "metadata": {},
   "outputs": [
    {
     "name": "stdout",
     "output_type": "stream",
     "text": [
      "Help on class reversed in module builtins:\n",
      "\n",
      "class reversed(object)\n",
      " |  reversed(sequence, /)\n",
      " |\n",
      " |  Return a reverse iterator over the values of the given sequence.\n",
      " |\n",
      " |  Methods defined here:\n",
      " |\n",
      " |  __getattribute__(self, name, /)\n",
      " |      Return getattr(self, name).\n",
      " |\n",
      " |  __iter__(self, /)\n",
      " |      Implement iter(self).\n",
      " |\n",
      " |  __length_hint__(...)\n",
      " |      Private method returning an estimate of len(list(it)).\n",
      " |\n",
      " |  __next__(self, /)\n",
      " |      Implement next(self).\n",
      " |\n",
      " |  __reduce__(...)\n",
      " |      Return state information for pickling.\n",
      " |\n",
      " |  __setstate__(...)\n",
      " |      Set state information for unpickling.\n",
      " |\n",
      " |  ----------------------------------------------------------------------\n",
      " |  Static methods defined here:\n",
      " |\n",
      " |  __new__(*args, **kwargs)\n",
      " |      Create and return a new object.  See help(type) for accurate signature.\n",
      "\n"
     ]
    }
   ],
   "source": [
    "help(reversed)"
   ]
  },
  {
   "cell_type": "code",
   "execution_count": 48,
   "id": "a53bdde4-96e2-4623-b27c-163b6c8f7453",
   "metadata": {},
   "outputs": [
    {
     "name": "stdout",
     "output_type": "stream",
     "text": [
      "55\n",
      "7\n",
      "2\n",
      "300\n",
      "100\n",
      "1\n",
      "50\n"
     ]
    }
   ],
   "source": [
    "for i in reversed(re1):\n",
    "    print(i)"
   ]
  },
  {
   "cell_type": "code",
   "execution_count": 52,
   "id": "953689d1-4e63-4a0f-9e64-d3e79f95f058",
   "metadata": {},
   "outputs": [
    {
     "data": {
      "text/plain": [
       "<list_reverseiterator at 0x153b25936a0>"
      ]
     },
     "execution_count": 52,
     "metadata": {},
     "output_type": "execute_result"
    }
   ],
   "source": [
    "reversed([1,2,3,4,5])   # hexadecimal 0x153b25936a0 (address value)"
   ]
  },
  {
   "cell_type": "code",
   "execution_count": 56,
   "id": "1630efee-f451-4862-a0a0-6e163d2b9509",
   "metadata": {},
   "outputs": [
    {
     "data": {
      "text/plain": [
       "[5, 4, 3, 2, 1]"
      ]
     },
     "execution_count": 56,
     "metadata": {},
     "output_type": "execute_result"
    }
   ],
   "source": [
    "list(reversed([1,2,3,4,5]))"
   ]
  },
  {
   "cell_type": "code",
   "execution_count": 62,
   "id": "b6126e55-da81-4b3c-94eb-0bc52fec5615",
   "metadata": {},
   "outputs": [
    {
     "name": "stdout",
     "output_type": "stream",
     "text": [
      "5\n",
      "4\n",
      "3\n",
      "2\n",
      "1\n"
     ]
    }
   ],
   "source": [
    "li2 = list(reversed([1,2,3,4,5]))\n",
    "for i in li2:\n",
    "    print(i)"
   ]
  },
  {
   "cell_type": "code",
   "execution_count": 70,
   "id": "5276fa09-dd3d-48fd-86d5-5c940d76861f",
   "metadata": {},
   "outputs": [
    {
     "data": {
      "text/plain": [
       "enumerate"
      ]
     },
     "execution_count": 70,
     "metadata": {},
     "output_type": "execute_result"
    }
   ],
   "source": [
    "# enumerate : 열거하다. 열거하면 순서(인덱스) 개념이 생긴다.\n",
    "type(enumerate([\"apple\", \"banana\",\"candy\"]))\n"
   ]
  },
  {
   "cell_type": "code",
   "execution_count": 80,
   "id": "b1b45193-3af0-464b-bf9b-bc5ccf7974b5",
   "metadata": {},
   "outputs": [
    {
     "name": "stdout",
     "output_type": "stream",
     "text": [
      "0 apple\n",
      "1 banana\n",
      "2 candy\n"
     ]
    }
   ],
   "source": [
    "for i in enumerate([\"apple\", \"banana\",\"candy\"]):\n",
    "    print(i[0],i[1])"
   ]
  },
  {
   "cell_type": "code",
   "execution_count": 86,
   "id": "1b8e91b4-ea1b-4237-a775-c2f7fac06fe3",
   "metadata": {},
   "outputs": [
    {
     "name": "stdout",
     "output_type": "stream",
     "text": [
      "0번째 값이 apple(이)다.\n",
      "1번째 값이 banana(이)다.\n",
      "2번째 값이 candy(이)다.\n"
     ]
    }
   ],
   "source": [
    "for idx, value in enumerate([\"apple\", \"banana\",\"candy\"]):\n",
    "    print(f\"{idx}번째 값이 {value}(이)다.\")"
   ]
  },
  {
   "cell_type": "code",
   "execution_count": 88,
   "id": "64d5214d-a460-476a-884e-60cb3ee5b0a5",
   "metadata": {},
   "outputs": [],
   "source": [
    "# min(), max(), sum(), sorted(), reversed(), enumerate()"
   ]
  },
  {
   "cell_type": "code",
   "execution_count": 120,
   "id": "59af85e6-c411-4a6c-b5a0-d12b6ec62c8d",
   "metadata": {},
   "outputs": [
    {
     "name": "stdout",
     "output_type": "stream",
     "text": [
      "min: 1\n",
      "max: 78912\n",
      "sum: 86882\n",
      "sorted: [1, 2, 3, 4, 4, 5, 6, 7, 7, 8, 64, 84, 87, 89, 251, 345, 465, 6538, 78912]\n",
      "reversed: [7, 4, 6538, 8, 7, 84, 345, 78912, 64, 251, 89, 87, 465, 5, 6, 4, 2, 3, 1]\n",
      "index =  0 : value =     1\n",
      "index =  1 : value =     3\n",
      "index =  2 : value =     2\n",
      "index =  3 : value =     4\n",
      "index =  4 : value =     6\n",
      "index =  5 : value =     5\n",
      "index =  6 : value =   465\n",
      "index =  7 : value =    87\n",
      "index =  8 : value =    89\n",
      "index =  9 : value =   251\n",
      "index = 10 : value =    64\n",
      "index = 11 : value = 78912\n",
      "index = 12 : value =   345\n",
      "index = 13 : value =    84\n",
      "index = 14 : value =     7\n",
      "index = 15 : value =     8\n",
      "index = 16 : value =  6538\n",
      "index = 17 : value =     4\n",
      "index = 18 : value =     7\n"
     ]
    }
   ],
   "source": [
    "print(\"min:\", min([1,3,2,4,6,5,465,87,89,251,64,78912,345,84,7,8,6538,4,7]))\n",
    "print(\"max:\", max([1,3,2,4,6,5,465,87,89,251,64,78912,345,84,7,8,6538,4,7]))\n",
    "print(\"sum:\", sum([1,3,2,4,6,5,465,87,89,251,64,78912,345,84,7,8,6538,4,7]))\n",
    "print(\"sorted:\", sorted([1,3,2,4,6,5,465,87,89,251,64,78912,345,84,7,8,6538,4,7]))\n",
    "print(\"reversed:\", list(reversed([1,3,2,4,6,5,465,87,89,251,64,78912,345,84,7,8,6538,4,7])))\n",
    "for idx, val in enumerate([1,3,2,4,6,5,465,87,89,251,64,78912,345,84,7,8,6538,4,7]):\n",
    "    print(f\"index = {idx:2} : value = {val:5}\")\n"
   ]
  },
  {
   "cell_type": "code",
   "execution_count": 122,
   "id": "3ca05f02-b89a-450b-b9db-afaf50c7623a",
   "metadata": {},
   "outputs": [
    {
     "name": "stdout",
     "output_type": "stream",
     "text": [
      "Help on class enumerate in module builtins:\n",
      "\n",
      "class enumerate(object)\n",
      " |  enumerate(iterable, start=0)\n",
      " |\n",
      " |  Return an enumerate object.\n",
      " |\n",
      " |    iterable\n",
      " |      an object supporting iteration\n",
      " |\n",
      " |  The enumerate object yields pairs containing a count (from start, which\n",
      " |  defaults to zero) and a value yielded by the iterable argument.\n",
      " |\n",
      " |  enumerate is useful for obtaining an indexed list:\n",
      " |      (0, seq[0]), (1, seq[1]), (2, seq[2]), ...\n",
      " |\n",
      " |  Methods defined here:\n",
      " |\n",
      " |  __getattribute__(self, name, /)\n",
      " |      Return getattr(self, name).\n",
      " |\n",
      " |  __iter__(self, /)\n",
      " |      Implement iter(self).\n",
      " |\n",
      " |  __next__(self, /)\n",
      " |      Implement next(self).\n",
      " |\n",
      " |  __reduce__(...)\n",
      " |      Return state information for pickling.\n",
      " |\n",
      " |  ----------------------------------------------------------------------\n",
      " |  Class methods defined here:\n",
      " |\n",
      " |  __class_getitem__(...)\n",
      " |      See PEP 585\n",
      " |\n",
      " |  ----------------------------------------------------------------------\n",
      " |  Static methods defined here:\n",
      " |\n",
      " |  __new__(*args, **kwargs)\n",
      " |      Create and return a new object.  See help(type) for accurate signature.\n",
      "\n"
     ]
    }
   ],
   "source": [
    "help(enumerate)\n"
   ]
  }
 ],
 "metadata": {
  "kernelspec": {
   "display_name": "Python 3 (ipykernel)",
   "language": "python",
   "name": "python3"
  },
  "language_info": {
   "codemirror_mode": {
    "name": "ipython",
    "version": 3
   },
   "file_extension": ".py",
   "mimetype": "text/x-python",
   "name": "python",
   "nbconvert_exporter": "python",
   "pygments_lexer": "ipython3",
   "version": "3.12.4"
  }
 },
 "nbformat": 4,
 "nbformat_minor": 5
}
