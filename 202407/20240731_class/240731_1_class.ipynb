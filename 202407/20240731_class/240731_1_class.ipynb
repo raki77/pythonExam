{
 "cells": [
  {
   "cell_type": "code",
   "execution_count": 1,
   "metadata": {},
   "outputs": [],
   "source": [
    "\n",
    "# >>> class Car:\n",
    "# ...     pass\n",
    "# ...\n",
    "# >>>\n",
    "# >>> Car()\n",
    "# <__main__.Car object at 0x000002831CDEF740>\n",
    "# >>> type(Car())\n",
    "# <class '__main__.Car'>\n",
    "# >>> mycar = Car()\n",
    "# >>> \n",
    "# >>> type(mycar)\n",
    "# <class '__main__.Car'>\n",
    "# >>> \n",
    "# >>>\n",
    "# >>>\n",
    "# >>> Car\n",
    "# <class '__main__.Car'>\n",
    "# >>> type(Car)\n",
    "# <class 'type'>\n",
    "# >>> id(Car)\n",
    "# 2762150393600\n",
    "# >>> mycar = Car() \n",
    "# >>> mycar\n",
    "# <__main__.Car object at 0x000002831CF9DAF0>\n",
    "# >>> yourcar = Car()\n",
    "# >>> yourcar\n",
    "# <__main__.Car object at 0x000002831CF9DB20>\n",
    "# >>> id(yourcar)\n",
    "# 2762150107936\n",
    "# >>>"
   ]
  },
  {
   "cell_type": "code",
   "execution_count": 3,
   "metadata": {},
   "outputs": [
    {
     "data": {
      "text/plain": [
       "array(['1', 'a', 'True'], dtype='<U11')"
      ]
     },
     "execution_count": 3,
     "metadata": {},
     "output_type": "execute_result"
    }
   ],
   "source": [
    "import numpy\n",
    "import numpy as np\n",
    "\n",
    "np.array([1,'a',True])"
   ]
  },
  {
   "cell_type": "code",
   "execution_count": null,
   "metadata": {},
   "outputs": [],
   "source": []
  }
 ],
 "metadata": {
  "kernelspec": {
   "display_name": "base",
   "language": "python",
   "name": "python3"
  },
  "language_info": {
   "codemirror_mode": {
    "name": "ipython",
    "version": 3
   },
   "file_extension": ".py",
   "mimetype": "text/x-python",
   "name": "python",
   "nbconvert_exporter": "python",
   "pygments_lexer": "ipython3",
   "version": "3.12.4"
  }
 },
 "nbformat": 4,
 "nbformat_minor": 2
}
