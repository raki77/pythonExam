{
 "cells": [
  {
   "cell_type": "code",
   "execution_count": null,
   "metadata": {},
   "outputs": [],
   "source": [
    "\n",
    "# >>> class Car:\n",
    "# ...     pass\n",
    "# ...\n",
    "# >>>\n",
    "# >>> Car()\n",
    "# <__main__.Car object at 0x000002831CDEF740>\n",
    "# >>> type(Car())\n",
    "# <class '__main__.Car'>\n",
    "# >>> mycar = Car()\n",
    "# >>> \n",
    "# >>> type(mycar)\n",
    "# <class '__main__.Car'>\n",
    "# >>> \n",
    "# >>>\n",
    "# >>>\n",
    "# >>> Car\n",
    "# <class '__main__.Car'>\n",
    "# >>> type(Car)\n",
    "# <class 'type'>\n",
    "# >>> id(Car)\n",
    "# 2762150393600\n",
    "# >>> mycar = Car() \n",
    "# >>> mycar\n",
    "# <__main__.Car object at 0x000002831CF9DAF0>\n",
    "# >>> yourcar = Car()\n",
    "# >>> yourcar\n",
    "# <__main__.Car object at 0x000002831CF9DB20>\n",
    "# >>> id(yourcar)\n",
    "# 2762150107936\n",
    "# >>>"
   ]
  }
 ],
 "metadata": {
  "language_info": {
   "name": "python"
  }
 },
 "nbformat": 4,
 "nbformat_minor": 2
}
