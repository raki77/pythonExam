{
 "cells": [
  {
   "cell_type": "code",
   "execution_count": 1,
   "metadata": {},
   "outputs": [
    {
     "name": "stdout",
     "output_type": "stream",
     "text": [
      "21\n"
     ]
    }
   ],
   "source": [
    "def f(x):\n",
    "    return (x*2) +1\n",
    "print(f(10))"
   ]
  },
  {
   "cell_type": "code",
   "execution_count": 2,
   "metadata": {},
   "outputs": [
    {
     "name": "stdout",
     "output_type": "stream",
     "text": [
      "121\n"
     ]
    }
   ],
   "source": [
    "def f(x):\n",
    "    return (x+1)**2 \n",
    "print(f(10))"
   ]
  },
  {
   "cell_type": "code",
   "execution_count": 5,
   "metadata": {},
   "outputs": [
    {
     "name": "stdout",
     "output_type": "stream",
     "text": [
      "3150\n"
     ]
    }
   ],
   "source": [
    "# 다음 빈칸을 채워 매개변수로 전달된 값들을 모두 곱해서 리턴하는 가변 매개변수 함수를 만들어 보세요.\n",
    "def mul(*values) :\n",
    "    tot = 1\n",
    "    for i in values:\n",
    "        tot *= i\n",
    "    return tot\n",
    "# 함수를 호출합니다.\n",
    "print(mul(5,7,9,10))\n"
   ]
  },
  {
   "cell_type": "code",
   "execution_count": 15,
   "metadata": {},
   "outputs": [],
   "source": [
    "# 다음 중 오류가 발생하는 코드를 고르세요. "
   ]
  },
  {
   "cell_type": "code",
   "execution_count": 14,
   "metadata": {},
   "outputs": [],
   "source": [
    "# 함수의 다양한 매개변수 ( 가변형 )\n",
    "# 제약\n",
    "#   1. 가변 매개변수 뒤에는 일반 매개변수 올 수 없음\n",
    "#   2. 가변 매개변수는 하나만 사용할 수 있음\n",
    "\n",
    "# 1번 에러:\n",
    "# def function(*values, valueA, valueB):\n",
    "#     pass\n",
    "# function(1,2,3,4,5) \n",
    "\n",
    "# 된다 되는 것들.\n",
    "# def function(*values, valueA=1, valueB=3):\n",
    "#     pass\n",
    "# function(1,2,3,4,5) \n",
    "# def function(valueA, valueB,*values):\n",
    "#     pass\n",
    "# function(1,2,3,4,5) \n",
    "# def function(valueA=1, valueB=2,*values):\n",
    "#     pass\n",
    "# function(1,2,3,4,5) "
   ]
  }
 ],
 "metadata": {
  "kernelspec": {
   "display_name": "base",
   "language": "python",
   "name": "python3"
  },
  "language_info": {
   "codemirror_mode": {
    "name": "ipython",
    "version": 3
   },
   "file_extension": ".py",
   "mimetype": "text/x-python",
   "name": "python",
   "nbconvert_exporter": "python",
   "pygments_lexer": "ipython3",
   "version": "3.12.4"
  }
 },
 "nbformat": 4,
 "nbformat_minor": 2
}
