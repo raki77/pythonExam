{
 "cells": [
  {
   "cell_type": "code",
   "execution_count": 3,
   "metadata": {},
   "outputs": [
    {
     "name": "stdout",
     "output_type": "stream",
     "text": [
      "<function func1 at 0x000002488DB85940>\n",
      "hello world\n",
      "<class 'function'>\n",
      "홍길동 을 파라미터로 받았습니다.\n",
      "123456-4567899 을 파라미터로 받았습니다.\n",
      "경기도 성남시 을 파라미터로 받았습니다.\n",
      "세종교육를 파라미터로 받았습니다.\n",
      "AIot 인공지능 활용한 빅데이터처리 수강를 파라미터로 받았습니다.\n",
      "24년07월부터 25년1월까지를 파라미터로 받았습니다.\n"
     ]
    },
    {
     "data": {
      "text/plain": [
       "'처리가 끝나고 리턴을 하였습니다.'"
      ]
     },
     "execution_count": 3,
     "metadata": {},
     "output_type": "execute_result"
    }
   ],
   "source": [
    "# >>> def func1():\n",
    "# ...     print(\"hello world\")\n",
    "# ... \n",
    "# >>> func1()\n",
    "# hello world\n",
    "# >>> type(func1)\n",
    "# <class 'function'>\n",
    "# >>> \n",
    "# >>>\n",
    "# >>>\n",
    "# >>> func1       \n",
    "# <function func1 at 0x00000255AF17E340>\n",
    "# >>> def func2(*prm1):\n",
    "# ...     for i in prm1:\n",
    "# ...         print(f\"{i} 을 파라미터로 받았습니다.\")\n",
    "# ...\n",
    "# >>> def func3():\n",
    "# ...     return \"리턴값 : 500,000,000 원 입니다.\"\n",
    "# ...\n",
    "# >>> def func4(*prm2):\n",
    "# ...     for j in prm2:\n",
    "# ...         print(f\"{j}를 파라미터로 받았습니다.\")\n",
    "# ...     return \"처리가 끝나고 리턴을 하였습니다.\"\n",
    "# ...\n",
    "# >>> func2(\"홍길동\", \"123456-4567899\", \"경기도 성남시\")\n",
    "# 홍길동 을 파라미터로 받았습니다.\n",
    "# 123456-4567899 을 파라미터로 받았습니다.\n",
    "# 경기도 성남시 을 파라미터로 받았습니다.\n",
    "# >>> func3()\n",
    "# '리턴값 : 500,000,000 원 입니다.'\n",
    "# >>> func4(\"세종교육\", \"AIot 인공지능 활용한 빅데이터처리 수강\", \"24년07월부터 25년1월까지\")\n",
    "# 세종교육를 파라미터로 받았습니다.\n",
    "# AIot 인공지능 활용한 빅데이터처리 수강를 파라미터로 받았습니다.\n",
    "# 24년07월부터 25년1월까지를 파라미터로 받았습니다.\n",
    "# '처리가 끝나고 리턴을 하였습니다.'\n",
    "# >>>\n",
    "\n",
    "def func1():\n",
    "    print(\"hello world\")\n",
    "    \n",
    "print(func1)\n",
    "# <function func1 at 0x00000255AF17E340>\n",
    "func1()\n",
    "# hello world\n",
    "print(type(func1))\n",
    "# <class 'function'>\n",
    "\n",
    "\n",
    "# func1       \n",
    "# <function func1 at 0x00000255AF17E340>\n",
    "def func2(*prm1):\n",
    "    for i in prm1:\n",
    "        print(f\"{i} 을 파라미터로 받았습니다.\")\n",
    "\n",
    "def func3():\n",
    "    return \"리턴값 : 500,000,000 원 입니다.\"\n",
    "\n",
    "def func4(*prm2):\n",
    "    for j in prm2:\n",
    "        print(f\"{j}를 파라미터로 받았습니다.\")\n",
    "    return \"처리가 끝나고 리턴을 하였습니다.\"\n",
    "\n",
    "func2(\"홍길동\", \"123456-4567899\", \"경기도 성남시\")\n",
    "# 홍길동 을 파라미터로 받았습니다.\n",
    "# 123456-4567899 을 파라미터로 받았습니다.\n",
    "# 경기도 성남시 을 파라미터로 받았습니다.\n",
    "\n",
    "func3()\n",
    "# '리턴값 : 500,000,000 원 입니다.'\n",
    "\n",
    "func4(\"세종교육\", \"AIot 인공지능 활용한 빅데이터처리 수강\", \"24년07월부터 25년1월까지\")\n",
    "# 세종교육를 파라미터로 받았습니다.\n",
    "# AIot 인공지능 활용한 빅데이터처리 수강를 파라미터로 받았습니다.\n",
    "# 24년07월부터 25년1월까지를 파라미터로 받았습니다.\n",
    "# '처리가 끝나고 리턴을 하였습니다.'\n"
   ]
  }
 ],
 "metadata": {
  "kernelspec": {
   "display_name": "base",
   "language": "python",
   "name": "python3"
  },
  "language_info": {
   "codemirror_mode": {
    "name": "ipython",
    "version": 3
   },
   "file_extension": ".py",
   "mimetype": "text/x-python",
   "name": "python",
   "nbconvert_exporter": "python",
   "pygments_lexer": "ipython3",
   "version": "3.12.4"
  }
 },
 "nbformat": 4,
 "nbformat_minor": 2
}
