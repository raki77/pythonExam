{
 "cells": [
  {
   "cell_type": "code",
   "execution_count": 33,
   "metadata": {},
   "outputs": [
    {
     "name": "stdout",
     "output_type": "stream",
     "text": [
      "['orange', 'strawberry', 'melon'] ['banana', 'orange']\n"
     ]
    }
   ],
   "source": [
    " \n",
    "# fruit1 = ['orange','melon','strawberry']\n",
    "# fruit2 = ['watermelon','grape']\n",
    "# fruit2.remove('grape')\n",
    "# fruit1.append(fruit2)\n",
    "# fruit1\n",
    "\n",
    "fruits = ['apple', 'banana', 'cherry', 'grape', 'orange', 'strawberry', 'melon']\n",
    "print(fruits[-3:], fruits[1::3])"
   ]
  },
  {
   "cell_type": "code",
   "execution_count": 34,
   "metadata": {},
   "outputs": [
    {
     "name": "stdout",
     "output_type": "stream",
     "text": [
      "22\n"
     ]
    }
   ],
   "source": [
    "fruit = ['orange','lemon','strawberry','cherry']\n",
    "number = ['1','2','3']\n",
    "first,second,third = number\n",
    "print(second * fruit.index('strawberry'))"
   ]
  },
  {
   "cell_type": "code",
   "execution_count": 36,
   "metadata": {},
   "outputs": [
    {
     "name": "stdout",
     "output_type": "stream",
     "text": [
      "['red', 'blue', 'orange', 'yellow', 'green']\n"
     ]
    }
   ],
   "source": [
    "color = ['red','orange','yellow','green']\n",
    "color.insert(1,'blue')\n",
    "print(color)\n",
    "# ['red','blue','orange','yellow','green']"
   ]
  },
  {
   "cell_type": "code",
   "execution_count": 37,
   "metadata": {},
   "outputs": [
    {
     "data": {
      "text/plain": [
       "'57'"
      ]
     },
     "execution_count": 37,
     "metadata": {},
     "output_type": "execute_result"
    }
   ],
   "source": [
    "user_input_a = input(\"첫 번째 값을 입력하시오 : \")\n",
    "#  첫 번째 값을 입력하시오 : 5\n",
    "user_input_b = input(\"두 번째 값을 입력하시오 : \")\n",
    "#  두 번째 값을 입력하시오 : 7\n",
    "total = user_input_a + user_input_b\n",
    "total\n",
    " \n",
    " "
   ]
  },
  {
   "cell_type": "code",
   "execution_count": 38,
   "metadata": {},
   "outputs": [
    {
     "name": "stdout",
     "output_type": "stream",
     "text": [
      "['a', 'b', 'c', 'd', 'a', 'b', 'c', 'd']\n"
     ]
    }
   ],
   "source": [
    "alphabet = ['a','b','c','d']\n",
    "print( alphabet * len(alphabet[1:3]))"
   ]
  },
  {
   "cell_type": "code",
   "execution_count": 39,
   "metadata": {},
   "outputs": [
    {
     "name": "stdout",
     "output_type": "stream",
     "text": [
      "['red', 'orange', 'yellow', 'John']\n"
     ]
    }
   ],
   "source": [
    "color = ['red','orange','yellow']\n",
    "name = ['John','Marry']\n",
    "new = color\n",
    "new.append(name[0])\n",
    "print(color)"
   ]
  },
  {
   "cell_type": "code",
   "execution_count": 45,
   "metadata": {},
   "outputs": [
    {
     "name": "stdout",
     "output_type": "stream",
     "text": [
      "[['egg', 'salad', 'bread'], ['lamb', 'chicken'], ['apple']]\n"
     ]
    }
   ],
   "source": [
    "first = [\"egg\", \"salad\", \"bread\", \"soup\", \"canafe\"]\n",
    "second = [\"fish\", \"lamb\", \"pork\", \"beef\", \"chicken\"]\n",
    "third = [\"apple\", \"banana\", \"orange\", \"grape\", \"mango\"]\n",
    "order = [first, second, third]\n",
    "john = [order[0][:-2], second[1::3], third[0]]\n",
    "del john[2]\n",
    "john.extend([order[2][0:1]])\n",
    "print(john)"
   ]
  },
  {
   "cell_type": "code",
   "execution_count": 47,
   "metadata": {},
   "outputs": [
    {
     "name": "stdout",
     "output_type": "stream",
     "text": [
      "[1, 2, 3, 4] None\n"
     ]
    }
   ],
   "source": [
    "list_a = [3, 2, 1, 4]\n",
    "list_b = list_a.sort()\n",
    "print(list_a, list_b)"
   ]
  },
  {
   "cell_type": "code",
   "execution_count": 46,
   "metadata": {},
   "outputs": [
    {
     "name": "stdout",
     "output_type": "stream",
     "text": [
      "[10, 20, 30, 40, 50, 100]\n",
      "[10, 20, 30, 40, 50, 100, 1000]\n"
     ]
    }
   ],
   "source": [
    "our_list = [10, 20, 30, 40, 50]\n",
    "our_list.append(100)\n",
    "print(our_list)\n",
    "our_list.append(1000)\n",
    "print(our_list)"
   ]
  },
  {
   "cell_type": "code",
   "execution_count": 48,
   "metadata": {},
   "outputs": [
    {
     "name": "stdout",
     "output_type": "stream",
     "text": [
      "None\n"
     ]
    }
   ],
   "source": [
    "a = [5, 7, 3]\n",
    "b = [3, 9, 1]\n",
    "c = a + b\n",
    "c = c.sort()\n",
    "print(c)"
   ]
  },
  {
   "cell_type": "code",
   "execution_count": 49,
   "metadata": {},
   "outputs": [
    {
     "name": "stdout",
     "output_type": "stream",
     "text": [
      "False 6\n"
     ]
    }
   ],
   "source": [
    "a = [1, 2, 3, 5]\n",
    "b = ['a', 'b', 'c','d','e']\n",
    "a.append('g')\n",
    "b.append(6)\n",
    "print('g' in b, len(b))"
   ]
  },
  {
   "cell_type": "code",
   "execution_count": 50,
   "metadata": {},
   "outputs": [
    {
     "ename": "ValueError",
     "evalue": "invalid literal for int() with base 10: 'abc'",
     "output_type": "error",
     "traceback": [
      "\u001b[1;31m---------------------------------------------------------------------------\u001b[0m",
      "\u001b[1;31mValueError\u001b[0m                                Traceback (most recent call last)",
      "Cell \u001b[1;32mIn[50], line 1\u001b[0m\n\u001b[1;32m----> 1\u001b[0m year \u001b[38;5;241m=\u001b[39m \u001b[38;5;28mint\u001b[39m(\u001b[38;5;28minput\u001b[39m(\u001b[38;5;124m'\u001b[39m\u001b[38;5;124m나이를 입력하세요.: \u001b[39m\u001b[38;5;124m'\u001b[39m))\n",
      "\u001b[1;31mValueError\u001b[0m: invalid literal for int() with base 10: 'abc'"
     ]
    }
   ],
   "source": [
    "year = int(input('나이를 입력하세요.: '))"
   ]
  },
  {
   "cell_type": "code",
   "execution_count": 55,
   "metadata": {},
   "outputs": [
    {
     "name": "stdout",
     "output_type": "stream",
     "text": [
      "42\n"
     ]
    }
   ],
   "source": [
    "for a in range(8):\n",
    " a *= (a-1)\n",
    "print(a)"
   ]
  },
  {
   "cell_type": "code",
   "execution_count": 62,
   "metadata": {},
   "outputs": [
    {
     "name": "stdout",
     "output_type": "stream",
     "text": [
      "one 문자\n",
      "8 문자\n",
      "twenty 문자\n",
      "40 문자\n"
     ]
    }
   ],
   "source": [
    "ages = ['one', 8, 'twenty', 40]\n",
    "for age in ages:\n",
    "    if type(age) == 'int' :\n",
    "        print(age, '숫자')\n",
    "    else:\n",
    "        print(age, '문자')"
   ]
  },
  {
   "cell_type": "code",
   "execution_count": 63,
   "metadata": {},
   "outputs": [
    {
     "name": "stdout",
     "output_type": "stream",
     "text": [
      "test\n",
      "test\n",
      "test\n",
      "test\n",
      "test\n"
     ]
    }
   ],
   "source": [
    "test = '5'\n",
    "for n in range(int(5)):\n",
    "    print('test')"
   ]
  },
  {
   "cell_type": "code",
   "execution_count": 64,
   "metadata": {},
   "outputs": [
    {
     "name": "stdout",
     "output_type": "stream",
     "text": [
      "[['i', 'studying']]\n"
     ]
    }
   ],
   "source": [
    "my_list = ['i', 'like','studying','python']\n",
    "new_list = []\n",
    "i = len(my_list )\n",
    "if i == 4:\n",
    " new_list.append(my_list[::2])\n",
    "print(new_list)"
   ]
  },
  {
   "cell_type": "code",
   "execution_count": 72,
   "metadata": {},
   "outputs": [
    {
     "name": "stdout",
     "output_type": "stream",
     "text": [
      "36\n"
     ]
    }
   ],
   "source": [
    "num = [1, 2, 3, 4, 5, 6]\n",
    "total = 1\n",
    "for n in num:\n",
    "    total = n * n\n",
    "print(total)\n"
   ]
  },
  {
   "cell_type": "code",
   "execution_count": 74,
   "metadata": {},
   "outputs": [
    {
     "name": "stdout",
     "output_type": "stream",
     "text": [
      "2\n",
      "4\n",
      "6\n",
      "8\n",
      "10\n"
     ]
    }
   ],
   "source": [
    "a = 1\n",
    "while a<11:\n",
    "    if a % 2 == 0:\n",
    "        print(a)\n",
    "        a += 1\n",
    "    else:\n",
    "        a +=1\n",
    "\n",
    "    if a == 0:\n",
    "        break"
   ]
  },
  {
   "cell_type": "code",
   "execution_count": 75,
   "metadata": {},
   "outputs": [
    {
     "name": "stdout",
     "output_type": "stream",
     "text": [
      "a는 10의 배수가 아닙니다.\n",
      "b는 음수입니다.\n"
     ]
    }
   ],
   "source": [
    "a = int(input('자연수 a를 입력하세요. : '))\n",
    "if (type(a / 10) == int) :\n",
    "    print('a는 10의 배수입니다.')\n",
    "else:\n",
    "    print('a는 10의 배수가 아닙니다.')\n",
    "b = int(input('정수 b를 입력하세요. : '))\n",
    "if (b > 0) :\n",
    "    print('b는 양수입니다.')\n",
    "else:\n",
    "    print('b는 음수입니다.')"
   ]
  },
  {
   "cell_type": "code",
   "execution_count": 88,
   "metadata": {},
   "outputs": [
    {
     "name": "stdout",
     "output_type": "stream",
     "text": [
      "one 문자\n",
      "8 문자\n",
      "twenty 문자\n",
      "40 문자\n"
     ]
    }
   ],
   "source": [
    "ages = ['one', 8, 'twenty', 40]\n",
    "for age in ages:\n",
    "    if  type(age) == 'int':\n",
    "        print(age, '숫자')\n",
    "    else:\n",
    "        print(age, '문자')"
   ]
  },
  {
   "cell_type": "code",
   "execution_count": 93,
   "metadata": {},
   "outputs": [
    {
     "name": "stdout",
     "output_type": "stream",
     "text": [
      "[1, 2, 3, 4, 5, 6]\n"
     ]
    }
   ],
   "source": [
    "list_1 = [[1, 2], [3], [4, 5, 6]]\n",
    "a,b,c = list_1\n",
    "list_2 = a + b + c\n",
    "print(list_2)"
   ]
  }
 ],
 "metadata": {
  "kernelspec": {
   "display_name": "base",
   "language": "python",
   "name": "python3"
  },
  "language_info": {
   "codemirror_mode": {
    "name": "ipython",
    "version": 3
   },
   "file_extension": ".py",
   "mimetype": "text/x-python",
   "name": "python",
   "nbconvert_exporter": "python",
   "pygments_lexer": "ipython3",
   "version": "3.12.4"
  }
 },
 "nbformat": 4,
 "nbformat_minor": 2
}
