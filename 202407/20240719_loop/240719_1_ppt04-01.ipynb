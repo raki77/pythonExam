{
 "cells": [
  {
   "cell_type": "code",
   "execution_count": 1,
   "metadata": {},
   "outputs": [],
   "source": [
    "# ------------------------------------------\n",
    "# 03-01 복습 하기\n",
    "# ------------------------------------------\n",
    "# >>> if True:\n",
    "# ...     print(\"A\")\n",
    "# ... elif True:\n",
    "# ...     print(\"B\")\n",
    "# ... else:\n",
    "# ...     print(\"C\")\n",
    "# ... \n",
    "# A\n",
    "# >>> if False:\n",
    "# ...     print(\"A\")\n",
    "# ... elif True:\n",
    "# ...     print(\"B\")\n",
    "# ... else:\n",
    "# ...     print(\"C\")\n",
    "# ...\n",
    "# B\n",
    "# >>> if False:\n",
    "# ...     print(\"A\")\n",
    "# ... elif False:\n",
    "# ...     print(\"B\")\n",
    "# ... else :\n",
    "# ...     print(\"C\")\n",
    "# ...\n",
    "# C\n",
    "# ------------------------------------------"
   ]
  },
  {
   "cell_type": "code",
   "execution_count": 3,
   "metadata": {},
   "outputs": [],
   "source": [
    "# type([])\n",
    "# len([])\n",
    "lotto_num = [6, 26, 27, 31, 36, 44]\n",
    "# id(lotto_num)   # address\n",
    "# id(lotto_num[0])\n",
    "\n",
    "# 전체와 요소\n",
    "# print(type(lotto_num), type(lotto_num[0]), sep=\":::\")\n",
    "\n",
    "japda = [1, 5, 'a', 'hello', '사자', 3.4, True]\n",
    "# type(japda[0])\n",
    "# type(japda[4])\n",
    "# type(japda[5])\n",
    "# japda[0:3]\n",
    "# japda[:6]\n",
    "# japda[-1]\n",
    "\n",
    "ban_1 = ['1반', '2반', '3반']\n",
    "ban_2 = ['1반', '2반', '3반']\n",
    "ban_3 = ['1반', '2반', '3반']\n",
    "school = [ban_1, ban_2, ban_3]\n",
    "# print(type(school[0]), type(school[0][1]), sep=\",\")\n",
    "\n",
    "# 리스트 값을 바꿀 수 있다.\n",
    "# 리스트 값 변경 가능.\n",
    "school[0] = ['1-1반', '1-2반', '1-3반']\n",
    "school[0].append('1-4반')\n",
    "# school[0]\n",
    "\n",
    "menu = [\"짜\", \"짬\"]\n",
    "menu.append(\"볶\")\n",
    "menu\n",
    "\n"
   ]
  }
 ],
 "metadata": {
  "kernelspec": {
   "display_name": "Python 3",
   "language": "python",
   "name": "python3"
  },
  "language_info": {
   "codemirror_mode": {
    "name": "ipython",
    "version": 3
   },
   "file_extension": ".py",
   "mimetype": "text/x-python",
   "name": "python",
   "nbconvert_exporter": "python",
   "pygments_lexer": "ipython3",
   "version": "3.11.5"
  }
 },
 "nbformat": 4,
 "nbformat_minor": 2
}
