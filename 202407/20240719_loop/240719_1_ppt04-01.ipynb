{
 "cells": [
  {
   "cell_type": "code",
   "execution_count": 1,
   "metadata": {},
   "outputs": [],
   "source": [
    "# ------------------------------------------\n",
    "# 03-01 복습 하기\n",
    "# ------------------------------------------\n",
    "# >>> if True:\n",
    "# ...     print(\"A\")\n",
    "# ... elif True:\n",
    "# ...     print(\"B\")\n",
    "# ... else:\n",
    "# ...     print(\"C\")\n",
    "# ... \n",
    "# A\n",
    "# >>> if False:\n",
    "# ...     print(\"A\")\n",
    "# ... elif True:\n",
    "# ...     print(\"B\")\n",
    "# ... else:\n",
    "# ...     print(\"C\")\n",
    "# ...\n",
    "# B\n",
    "# >>> if False:\n",
    "# ...     print(\"A\")\n",
    "# ... elif False:\n",
    "# ...     print(\"B\")\n",
    "# ... else :\n",
    "# ...     print(\"C\")\n",
    "# ...\n",
    "# C\n",
    "# ------------------------------------------"
   ]
  },
  {
   "cell_type": "code",
   "execution_count": 14,
   "metadata": {},
   "outputs": [
    {
     "data": {
      "text/plain": [
       "['1-1반', '1-2반', '1-3반', '1-4반']"
      ]
     },
     "execution_count": 14,
     "metadata": {},
     "output_type": "execute_result"
    }
   ],
   "source": [
    "# type([])\n",
    "# len([])\n",
    "lotto_num = [6, 26, 27, 31, 36, 44]\n",
    "# id(lotto_num)   # address\n",
    "# id(lotto_num[0])\n",
    "\n",
    "# 전체와 요소\n",
    "# print(type(lotto_num), type(lotto_num[0]), sep=\":::\")\n",
    "\n",
    "japda = [1, 5, 'a', 'hello', '사자', 3.4, True]\n",
    "# type(japda[0])\n",
    "# type(japda[4])\n",
    "# type(japda[5])\n",
    "# japda[0:3]\n",
    "# japda[:6]\n",
    "# japda[-1]\n",
    "\n",
    "ban_1 = ['1반', '2반', '3반']\n",
    "ban_2 = ['1반', '2반', '3반']\n",
    "ban_3 = ['1반', '2반', '3반']\n",
    "school = [ban_1, ban_2, ban_3]\n",
    "# print(type(school[0]), type(school[0][1]), sep=\",\")\n",
    "\n",
    "# 리스트 값을 바꿀 수 있다.\n",
    "# 리스트 값 변경 가능.\n",
    "school[0] = ['1-1반', '1-2반', '1-3반']\n",
    "school[0].append('1-4반')\n",
    "school[0]\n",
    "\n",
    "\n",
    "# *** 리스트 특징 *** 별x1만개\n",
    "# 1. 늘릴 수 있다.\n",
    "# 2. 리스트 값 변경 가능.\n",
    "# 3. 다양한 data type\n"
   ]
  },
  {
   "cell_type": "code",
   "execution_count": 15,
   "metadata": {},
   "outputs": [
    {
     "name": "stdout",
     "output_type": "stream",
     "text": [
      "짜\n",
      "짬\n",
      "볶\n",
      "0 짜\n",
      "1 짬\n",
      "2 볶\n",
      "a\n",
      "b\n",
      "c\n"
     ]
    }
   ],
   "source": [
    "menu = [\"짜\", \"짬\"]\n",
    "menu.append(\"볶\")\n",
    "menu\n",
    "\n",
    "for i in menu:\n",
    "    print(i)\n",
    "\n",
    "for i in range(len(menu)):\n",
    "    print(i, menu[i])\n",
    "\n",
    "for i in \"abc\":\n",
    "    print(i)\n",
    "\n",
    "\n",
    "# 반복문\n",
    "# 1. for 횟수 지정\n",
    "# 2. while 횟수 x\n"
   ]
  },
  {
   "cell_type": "code",
   "execution_count": 25,
   "metadata": {},
   "outputs": [
    {
     "name": "stdout",
     "output_type": "stream",
     "text": [
      "Help on tuple object:\n",
      "\n",
      "class tuple(object)\n",
      " |  tuple(iterable=(), /)\n",
      " |  \n",
      " |  Built-in immutable sequence.\n",
      " |  \n",
      " |  If no argument is given, the constructor returns an empty tuple.\n",
      " |  If iterable is specified the tuple is initialized from iterable's items.\n",
      " |  \n",
      " |  If the argument is a tuple, the return value is the same object.\n",
      " |  \n",
      " |  Built-in subclasses:\n",
      " |      asyncgen_hooks\n",
      " |      UnraisableHookArgs\n",
      " |  \n",
      " |  Methods defined here:\n",
      " |  \n",
      " |  __add__(self, value, /)\n",
      " |      Return self+value.\n",
      " |  \n",
      " |  __contains__(self, key, /)\n",
      " |      Return key in self.\n",
      " |  \n",
      " |  __eq__(self, value, /)\n",
      " |      Return self==value.\n",
      " |  \n",
      " |  __ge__(self, value, /)\n",
      " |      Return self>=value.\n",
      " |  \n",
      " |  __getattribute__(self, name, /)\n",
      " |      Return getattr(self, name).\n",
      " |  \n",
      " |  __getitem__(self, key, /)\n",
      " |      Return self[key].\n",
      " |  \n",
      " |  __getnewargs__(self, /)\n",
      " |  \n",
      " |  __gt__(self, value, /)\n",
      " |      Return self>value.\n",
      " |  \n",
      " |  __hash__(self, /)\n",
      " |      Return hash(self).\n",
      " |  \n",
      " |  __iter__(self, /)\n",
      " |      Implement iter(self).\n",
      " |  \n",
      " |  __le__(self, value, /)\n",
      " |      Return self<=value.\n",
      " |  \n",
      " |  __len__(self, /)\n",
      " |      Return len(self).\n",
      " |  \n",
      " |  __lt__(self, value, /)\n",
      " |      Return self<value.\n",
      " |  \n",
      " |  __mul__(self, value, /)\n",
      " |      Return self*value.\n",
      " |  \n",
      " |  __ne__(self, value, /)\n",
      " |      Return self!=value.\n",
      " |  \n",
      " |  __repr__(self, /)\n",
      " |      Return repr(self).\n",
      " |  \n",
      " |  __rmul__(self, value, /)\n",
      " |      Return value*self.\n",
      " |  \n",
      " |  count(self, value, /)\n",
      " |      Return number of occurrences of value.\n",
      " |  \n",
      " |  index(self, value, start=0, stop=9223372036854775807, /)\n",
      " |      Return first index of value.\n",
      " |      \n",
      " |      Raises ValueError if the value is not present.\n",
      " |  \n",
      " |  ----------------------------------------------------------------------\n",
      " |  Class methods defined here:\n",
      " |  \n",
      " |  __class_getitem__(...) from builtins.type\n",
      " |      See PEP 585\n",
      " |  \n",
      " |  ----------------------------------------------------------------------\n",
      " |  Static methods defined here:\n",
      " |  \n",
      " |  __new__(*args, **kwargs) from builtins.type\n",
      " |      Create and return a new object.  See help(type) for accurate signature.\n",
      "\n"
     ]
    }
   ],
   "source": [
    "# 값 변경 불가 : 튜플 (1,2,3,4,5 ...) [DB행]\n",
    "menu_t = (\"짜장면\", \"짬뽕\", \"볶음밥\")\n",
    "# type(menu_t)\n",
    "# type(menu_t[0])\n",
    "# menu_t[0] = \"마짜\"\n",
    "tu = (1,\"a\")\n",
    "help(tu)\n",
    "\n",
    "# mutable : 변경가능한, immutable : 변경불가능한\n",
    "# iterable : 반복할 수 있다.\n",
    "# 반복문 형식 : for i in iterable:\n"
   ]
  },
  {
   "cell_type": "code",
   "execution_count": 37,
   "metadata": {},
   "outputs": [
    {
     "name": "stdout",
     "output_type": "stream",
     "text": [
      "0\n",
      "1\n",
      "2\n",
      "3\n",
      "4\n",
      "5\n"
     ]
    }
   ],
   "source": [
    "type(range)\n",
    "range(5)\n",
    "list(range(5))\n",
    "\n",
    "# for i in range(5):\n",
    "#     print(i)\n",
    "\n",
    "list(range(0, 6))\n",
    "\n",
    "for i in range(0, 5+1):\n",
    "    print(i)"
   ]
  },
  {
   "cell_type": "code",
   "execution_count": 40,
   "metadata": {},
   "outputs": [
    {
     "data": {
      "text/plain": [
       "'문'"
      ]
     },
     "execution_count": 40,
     "metadata": {},
     "output_type": "execute_result"
    }
   ],
   "source": [
    "list_a = [273, 32, 103, \"문자열\", True, False]\n",
    "list_a[3]\n",
    "list_a[3][0]"
   ]
  },
  {
   "cell_type": "code",
   "execution_count": 43,
   "metadata": {},
   "outputs": [
    {
     "data": {
      "text/plain": [
       "5"
      ]
     },
     "execution_count": 43,
     "metadata": {},
     "output_type": "execute_result"
    }
   ],
   "source": [
    "list_a = [[1,2,3],[4,5,6], [7,8,9]]\n",
    "list_a[1]\n",
    "list_a[1][1]"
   ]
  },
  {
   "cell_type": "code",
   "execution_count": 62,
   "metadata": {},
   "outputs": [
    {
     "data": {
      "text/plain": [
       "12"
      ]
     },
     "execution_count": 62,
     "metadata": {},
     "output_type": "execute_result"
    }
   ],
   "source": [
    "\n",
    "li = [[1,2,3], [4,5,6], [7,8,[9,10,11,[12]]]]\n",
    "\n",
    "# len(li[2])\n",
    "# len(li[2][2])\n",
    "# len(li[2][2][3])\n",
    "li[2][2][3][0]\n",
    "\n",
    "\n",
    " "
   ]
  },
  {
   "cell_type": "code",
   "execution_count": 92,
   "metadata": {},
   "outputs": [],
   "source": [
    "# + 더하기가 연결하기 개념이다. 연결하다. concatenate\n",
    "li1 = [3,4,5]\n",
    "li2 = [6,7,8]\n",
    "li1 + li2\n",
    "li1 *4\n",
    "\n",
    "# append 통으로 넣는다.\n",
    "li1.append(6) \n",
    "li1.append([4,5])\n",
    "del li1[4]\n",
    "\n",
    "# extend는 하나하나 풀어서 넣는다.\n",
    "li1.extend([4,5])\n",
    "li1\n",
    "\n",
    "# help([].append)\n",
    "# append(object, /) method of builtins.list instance\n",
    "#     Append object to the end of the list.\n",
    "\n",
    "# help([].extend)\n",
    "# extend(iterable, /) method of builtins.list instance\n",
    "#     Extend list by appending elements from the iterable.\n",
    "\n",
    "# iterable : 반복가능한, 리스트, 튜플, 문자열\n",
    "\n",
    "del li1[4:]\n",
    "# li1.extend(4,5)\n",
    "# TypeError: list.extend() takes exactly one argument (2 given)\n"
   ]
  },
  {
   "cell_type": "code",
   "execution_count": 107,
   "metadata": {},
   "outputs": [
    {
     "data": {
      "text/plain": [
       "['사과', '딸기', '파인애플']"
      ]
     },
     "execution_count": 107,
     "metadata": {},
     "output_type": "execute_result"
    }
   ],
   "source": [
    "\n",
    "li2 = ['사과', '바나나']\n",
    "# help(list)\n",
    "# help([].insert)\n",
    "# help([].append)\n",
    "# help([].extend)\n",
    "# help([].remove)\n",
    "# insert(self, index, object, /)\n",
    "#  |      Insert object before index.\n",
    "# insert(index, object, /) method of builtins.list instance\n",
    "#     Insert object before index.\n",
    "\n",
    "li2.insert(1, '딸기')\n",
    "# li2.insert(\"파인애플\", 2) # error\n",
    "li2.insert(2,\"파인애플\")\n",
    "li2.pop()\n",
    "li2\n",
    "\n",
    "\n",
    "# help(\"\".join)\n",
    "# help(\"\".replace)\n",
    "# help(\"\".find)\n",
    "# help(\"\".strip)\n",
    "# help(\"\".split)\n",
    " "
   ]
  },
  {
   "cell_type": "code",
   "execution_count": 120,
   "metadata": {},
   "outputs": [
    {
     "data": {
      "text/plain": [
       "[]"
      ]
     },
     "execution_count": 120,
     "metadata": {},
     "output_type": "execute_result"
    }
   ],
   "source": [
    "list_a = []\n",
    "for i in range(0, 10):\n",
    "    list_a.append(\"a\"+str(i))    \n",
    "del list_a[1]\n",
    "list_a\n",
    "list_a.pop(4)\n",
    "list_a\n",
    "\n",
    "list_a.remove('a6')\n",
    "list_a\n",
    "list_a.clear()\n",
    "list_a\n"
   ]
  },
  {
   "cell_type": "code",
   "execution_count": 168,
   "metadata": {},
   "outputs": [
    {
     "name": "stdout",
     "output_type": "stream",
     "text": [
      "[2, 32, 43, 43, 27, 27]\n"
     ]
    }
   ],
   "source": [
    "# 알고리즘 (1.정렬, 2.검색)\n",
    "# 순서대로 해놓고 찾는 것이 쉽다.\n",
    "# 0개 부터 ~ 5억 개\n",
    "\n",
    "# *random\n",
    "# lotto\n",
    "import random \n",
    "\n",
    "# random.randint(1, 45)\n",
    "\n",
    "li = []\n",
    "for i in range(6):\n",
    "    # while \n",
    "    num = random.randint(1, 45)    \n",
    "    li.append(num)    \n",
    "print(li)\n",
    "\n",
    "# 44 not in li :"
   ]
  },
  {
   "cell_type": "code",
   "execution_count": 172,
   "metadata": {},
   "outputs": [
    {
     "data": {
      "text/plain": [
       "[275, 273, 103, 52, 32, 7, 1]"
      ]
     },
     "execution_count": 172,
     "metadata": {},
     "output_type": "execute_result"
    }
   ],
   "source": [
    "list_e = [52,273,103,32,275,1,7]\n",
    "# 오름차순 정렬\n",
    "list_e.sort() \n",
    "list_e\n",
    "\n",
    "# 내림차순 정렬\n",
    "list_e.sort(reverse=True)\n",
    "list_e \n"
   ]
  },
  {
   "cell_type": "code",
   "execution_count": 176,
   "metadata": {},
   "outputs": [
    {
     "data": {
      "text/plain": [
       "'hello'"
      ]
     },
     "execution_count": 176,
     "metadata": {},
     "output_type": "execute_result"
    }
   ],
   "source": [
    "greeting = \"helro\".replace(\"r\",\"l\")\n",
    "greeting\n",
    "\n",
    "# str 문자열도 immutable \n",
    "# result[3] = 2 이런식 변경은 안된다.\n"
   ]
  },
  {
   "cell_type": "code",
   "execution_count": 192,
   "metadata": {},
   "outputs": [
    {
     "name": "stdout",
     "output_type": "stream",
     "text": [
      "[1, 2, 3]\n",
      "[1, 2, 3]\n",
      "[1, 2, 3]\n",
      "[4, 5, 6, 7]\n",
      "[4, 5, 6, 7]\n",
      "[4, 5, 6, 7]\n",
      "[4, 5, 6, 7]\n",
      "[8, 9]\n",
      "[8, 9]\n"
     ]
    }
   ],
   "source": [
    "list_of_list = [\n",
    "    [1,2,3],\n",
    "    [4,5,6,7],\n",
    "    [8,9]\n",
    "]\n",
    "# for items in list_of_list:    \n",
    "#     print(items)\n",
    "        \n",
    "for items in list_of_list:\n",
    "    for item in items:\n",
    "        print(items)"
   ]
  },
  {
   "cell_type": "code",
   "execution_count": 184,
   "metadata": {},
   "outputs": [
    {
     "name": "stdout",
     "output_type": "stream",
     "text": [
      "1\n",
      "2\n",
      "3\n",
      "4\n",
      "5\n",
      "6\n",
      "7\n",
      "8\n",
      "9\n",
      "10\n"
     ]
    }
   ],
   "source": [
    "\n",
    "for i in range(1, 10+1):\n",
    "    print(i)"
   ]
  },
  {
   "cell_type": "code",
   "execution_count": 204,
   "metadata": {},
   "outputs": [
    {
     "name": "stdout",
     "output_type": "stream",
     "text": [
      "sum: 55\n"
     ]
    }
   ],
   "source": [
    "# 누적합\n",
    "sum = 0\n",
    "for i in range(1, 10+1):\n",
    "    # 복합 대입 연산자\n",
    "    sum += i\n",
    "print(\"sum:\",sum)"
   ]
  },
  {
   "cell_type": "code",
   "execution_count": 206,
   "metadata": {},
   "outputs": [
    {
     "data": {
      "text/plain": [
       "55"
      ]
     },
     "execution_count": 206,
     "metadata": {},
     "output_type": "execute_result"
    }
   ],
   "source": [
    "tot1 = 0\n",
    "for i in range(1, 10+1):\n",
    "    tot1 += i\n",
    "tot1"
   ]
  },
  {
   "cell_type": "code",
   "execution_count": 197,
   "metadata": {},
   "outputs": [
    {
     "data": {
      "text/plain": [
       "[1, 2, 3, 4, 1, 2, 3, 4]"
      ]
     },
     "execution_count": 197,
     "metadata": {},
     "output_type": "execute_result"
    }
   ],
   "source": [
    "a= [1,2,3,4]\n",
    "b = [*a, *a]\n",
    "b"
   ]
  },
  {
   "cell_type": "code",
   "execution_count": 199,
   "metadata": {},
   "outputs": [
    {
     "data": {
      "text/plain": [
       "[1, 2, 3, 4, 5]"
      ]
     },
     "execution_count": 199,
     "metadata": {},
     "output_type": "execute_result"
    }
   ],
   "source": [
    "a = [1,2,3,4]\n",
    "a.append(5)\n",
    "a"
   ]
  },
  {
   "cell_type": "code",
   "execution_count": 202,
   "metadata": {},
   "outputs": [
    {
     "data": {
      "text/plain": [
       "[1, 2, 3, 4, 5]"
      ]
     },
     "execution_count": 202,
     "metadata": {},
     "output_type": "execute_result"
    }
   ],
   "source": [
    "b = [1,2,3,4]\n",
    "c = [*b,5]\n",
    "b\n",
    "c"
   ]
  },
  {
   "cell_type": "code",
   "execution_count": 207,
   "metadata": {},
   "outputs": [
    {
     "name": "stdout",
     "output_type": "stream",
     "text": [
      "1 2 3 4\n"
     ]
    }
   ],
   "source": [
    "# 함수 매개변수 위치에 사용\n",
    "a = [1,2,3,4]\n",
    "print(*a)"
   ]
  },
  {
   "cell_type": "code",
   "execution_count": 227,
   "metadata": {},
   "outputs": [
    {
     "name": "stdout",
     "output_type": "stream",
     "text": [
      "[[1, 4, 7], [2, 5, 8], [3, 6, 9]]\n"
     ]
    }
   ],
   "source": [
    "    \n",
    "numbers = [1,2,3,4,5,6,7,8,9]\n",
    "output = [[],[],[]]\n",
    "\n",
    "for number in numbers: \n",
    "    output[(number-1)%3].append(number)        \n",
    "print(output)"
   ]
  },
  {
   "cell_type": "code",
   "execution_count": 226,
   "metadata": {},
   "outputs": [
    {
     "name": "stdout",
     "output_type": "stream",
     "text": [
      "i = 0, j = 1\n",
      "i = 1, j = 3\n",
      "i = 2, j = 5\n",
      "i = 3, j = 7\n",
      "[1, 4, 3, 16, 5, 36, 7, 64, 9]\n"
     ]
    }
   ],
   "source": [
    "# 다음 코드의 빈칸을 채워서 실행 결과처럼 출력되도록 완성해 보세요. 짝수 번째 요소를 제곱하는 것입니다. \n",
    "numbers = [1,2,3,4,5,6,7,8,9]\n",
    "for i in range(0, len(numbers)// 2):\n",
    "    j = i*2+1\n",
    "    print(f\"i = {i}, j = {j}\")\n",
    "    numbers[j] = numbers[j]**2\n",
    "print(numbers)\n"
   ]
  }
 ],
 "metadata": {
  "kernelspec": {
   "display_name": "Python 3",
   "language": "python",
   "name": "python3"
  },
  "language_info": {
   "codemirror_mode": {
    "name": "ipython",
    "version": 3
   },
   "file_extension": ".py",
   "mimetype": "text/x-python",
   "name": "python",
   "nbconvert_exporter": "python",
   "pygments_lexer": "ipython3",
   "version": "3.11.5"
  }
 },
 "nbformat": 4,
 "nbformat_minor": 2
}
