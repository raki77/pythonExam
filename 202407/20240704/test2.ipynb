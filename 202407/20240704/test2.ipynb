{
 "cells": [
  {
   "cell_type": "code",
   "execution_count": 2,
   "metadata": {},
   "outputs": [
    {
     "ename": "AttributeError",
     "evalue": "'Book' object has no attribute 'add_sheet'",
     "output_type": "error",
     "traceback": [
      "\u001b[1;31m---------------------------------------------------------------------------\u001b[0m",
      "\u001b[1;31mAttributeError\u001b[0m                            Traceback (most recent call last)",
      "Cell \u001b[1;32mIn[2], line 7\u001b[0m\n\u001b[0;32m      4\u001b[0m wsheetList \u001b[38;5;241m=\u001b[39m workbook\u001b[38;5;241m.\u001b[39msheets() \n\u001b[0;32m      6\u001b[0m \u001b[38;5;28;01mfor\u001b[39;00m worksheet \u001b[38;5;129;01min\u001b[39;00m wsheetList :     \n\u001b[1;32m----> 7\u001b[0m      outSheet \u001b[38;5;241m=\u001b[39m workbook\u001b[38;5;241m.\u001b[39madd_sheet(worksheet\u001b[38;5;241m.\u001b[39mname)\n\u001b[0;32m      8\u001b[0m      \u001b[38;5;28;01mfor\u001b[39;00m row \u001b[38;5;129;01min\u001b[39;00m \u001b[38;5;28mrange\u001b[39m(worksheet\u001b[38;5;241m.\u001b[39mnrows) :\n\u001b[0;32m      9\u001b[0m           \u001b[38;5;28;01mfor\u001b[39;00m col \u001b[38;5;129;01min\u001b[39;00m \u001b[38;5;28mrange\u001b[39m(worksheet\u001b[38;5;241m.\u001b[39mncols): \n",
      "\u001b[1;31mAttributeError\u001b[0m: 'Book' object has no attribute 'add_sheet'"
     ]
    }
   ],
   "source": [
    "import xlrd\n",
    "\n",
    "workbook  = xlrd.open_workbook(\"C:/shjung/pythonExam/202407/20240704/수강생_리스트.xls\")\n",
    "wsheetList = workbook.sheets() \n",
    "\n",
    "for worksheet in wsheetList :          \n",
    "     outSheet = workbook.add_sheet(worksheet.name)\n",
    "     for row in range(worksheet.nrows) :\n",
    "          for col in range(worksheet.ncols): \n",
    "               outSheet.writeline(row, col, worksheet.cell_value(row, col))\n"
   ]
  },
  {
   "cell_type": "code",
   "execution_count": null,
   "metadata": {},
   "outputs": [],
   "source": []
  }
 ],
 "metadata": {
  "kernelspec": {
   "display_name": "base",
   "language": "python",
   "name": "python3"
  },
  "language_info": {
   "codemirror_mode": {
    "name": "ipython",
    "version": 3
   },
   "file_extension": ".py",
   "mimetype": "text/x-python",
   "name": "python",
   "nbconvert_exporter": "python",
   "pygments_lexer": "ipython3",
   "version": "3.12.4"
  }
 },
 "nbformat": 4,
 "nbformat_minor": 2
}
