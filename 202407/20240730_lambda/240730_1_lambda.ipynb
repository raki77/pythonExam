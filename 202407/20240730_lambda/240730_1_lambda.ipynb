{
 "cells": [
  {
   "cell_type": "code",
   "execution_count": 10,
   "id": "01d5557c-85ff-49c4-afac-3b00ba21c84b",
   "metadata": {},
   "outputs": [
    {
     "name": "stdout",
     "output_type": "stream",
     "text": [
      "test1\n",
      "test2->prm:test2\n",
      "test3\n",
      "test4->prm:test4\n",
      "test4\n"
     ]
    }
   ],
   "source": [
    "# 01 람다함수의 사용\n",
    "# 람다 함수 : 함수의 이름 없이 함수처럼 사용할 수 있는 익명의 함수...\n",
    "\n",
    "def func1():\n",
    "    print(\"test1\")\n",
    "\n",
    "def func2(prm1):    \n",
    "    print(f\"test2->prm:{prm1}\")\n",
    "\n",
    "def func3():\n",
    "    return \"test3\"\n",
    "\n",
    "def func4(prm1):\n",
    "    print(f\"test4->prm:{prm1}\")\n",
    "    return \"test4\"\n",
    "\n",
    "func1()\n",
    "func2(\"test2\")\n",
    "print(func3())\n",
    "print(func4(\"test4\")) "
   ]
  },
  {
   "cell_type": "code",
   "execution_count": 1,
   "id": "24f36d95-ebeb-4a37-879a-bfb8aefa5062",
   "metadata": {},
   "outputs": [
    {
     "name": "stdout",
     "output_type": "stream",
     "text": [
      "5\n"
     ]
    }
   ],
   "source": [
    "f = lambda x, y : x + y\n",
    "print(f(1,4))"
   ]
  },
  {
   "cell_type": "code",
   "execution_count": 2,
   "id": "4f9909d5",
   "metadata": {},
   "outputs": [],
   "source": [
    "# >>> lambda ():pass\n",
    "#   File \"<stdin>\", line 1\n",
    "#     lambda ():pass\n",
    "#            ^\n",
    "# SyntaxError: invalid syntax\n",
    "# >>>\n",
    "\n",
    "\n",
    "# >>> lambda : print(\"hi\")\n",
    "# <function <lambda> at 0x00000203205328E0>\n",
    "\n",
    "\n",
    "# >>> lambda (): print(\"h2\")\n",
    "#   File \"<stdin>\", line 1\n",
    "#     lambda (): print(\"h2\")\n",
    "#            ^\n",
    "# SyntaxError: invalid syntax\n",
    "\n",
    "\n",
    "# >>> lambda : print(\"hi\")\n",
    "# <function <lambda> at 0x0000020320532700>\n",
    "\n",
    "\n",
    "# >>> type(lambda : print(\"hi\"))\n",
    "# <class 'function'>\n",
    "# >>>\n",
    "# >>>\n",
    "# >>>\n",
    "\n",
    "# >>> f1 = lambda : print('hi')\n",
    "\n",
    "# >>> id(f1)\n",
    "# 2212450478304\n",
    "# >>> type(f1)\n",
    "\n",
    "# 람다 콜백 형태\n",
    "# >>> def hamsu(f1):\n",
    "# ...     f1()\n",
    "# ...\n",
    "# >>>\n",
    "\n",
    "# >>> hamsu(f1)\n",
    "# hi"
   ]
  },
  {
   "cell_type": "code",
   "execution_count": 3,
   "id": "4edbd54e",
   "metadata": {},
   "outputs": [],
   "source": [
    "# >>> lambda gift : print(gift)\n",
    "# <function <lambda> at 0x0000020320532840>\n",
    "\n",
    "\n",
    "# >>> lambda (gift) : print(gift) \n",
    "#   File \"<stdin>\", line 1\n",
    "#     lambda (gift) : print(gift)\n",
    "#            ^^^^^^\n",
    "# SyntaxError: Lambda expression parameters cannot be parenthesized\n",
    "\n",
    "\n",
    "# >>> f2 = lambda gift : print(gift) \n",
    "# >>> f2\n",
    "# <function <lambda> at 0x0000020320532700>\n",
    "\n",
    "\n",
    "# >>> type(f2)\n",
    "# <class 'function'>\n",
    "\n",
    "\n",
    "# >>> id(f2)\n",
    "# 2212450477824\n",
    "\n",
    "\n",
    "# >>> f2()\n",
    "# Traceback (most recent call last):\n",
    "#   File \"<stdin>\", line 1, in <module>\n",
    "# TypeError: <lambda>() missing 1 required positional argument: 'gift'\n",
    "\n",
    "\n",
    "# >>> f2('사탕') \n",
    "# 사탕\n"
   ]
  },
  {
   "cell_type": "code",
   "execution_count": 6,
   "id": "475f1a30",
   "metadata": {},
   "outputs": [],
   "source": [
    "# >>>\n",
    "# >>> lambda : \"쵸콜릿\"\n",
    "# <function <lambda> at 0x0000020320532AC0>\n",
    "\n",
    "# >>> f3 = lambda : \"쵸콜릿\"\n",
    "\n",
    "# >>> f3() \n",
    "# '쵸콜릿'\n",
    "\n",
    "# >>> result = f3()\n",
    "# >>>\n",
    "\n",
    "# >>> result\n",
    "# '쵸콜릿'\n"
   ]
  },
  {
   "cell_type": "code",
   "execution_count": null,
   "id": "a75f9159",
   "metadata": {},
   "outputs": [],
   "source": [
    "# >>> f4 = lambda prm1 : prm1 + \"바나나\" \n",
    "\n",
    "# >>> result = f4(\"사과\")\n",
    "\n",
    "# >>> result\n",
    "# '바나나'"
   ]
  }
 ],
 "metadata": {
  "kernelspec": {
   "display_name": "Python 3 (ipykernel)",
   "language": "python",
   "name": "python3"
  },
  "language_info": {
   "codemirror_mode": {
    "name": "ipython",
    "version": 3
   },
   "file_extension": ".py",
   "mimetype": "text/x-python",
   "name": "python",
   "nbconvert_exporter": "python",
   "pygments_lexer": "ipython3",
   "version": "3.12.4"
  }
 },
 "nbformat": 4,
 "nbformat_minor": 5
}
