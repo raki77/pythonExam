{
 "cells": [
  {
   "cell_type": "code",
   "execution_count": 1,
   "metadata": {},
   "outputs": [],
   "source": [
    "# >>> add=lambda x, y : x+y \n",
    "# >>> add(1,2)\n",
    "# 3"
   ]
  },
  {
   "cell_type": "code",
   "execution_count": 9,
   "metadata": {},
   "outputs": [
    {
     "data": {
      "text/plain": [
       "[1, 4, 9]"
      ]
     },
     "execution_count": 9,
     "metadata": {},
     "output_type": "execute_result"
    }
   ],
   "source": [
    "# 맵리듀스 = 하둡의 핵심 (빅데이터)\n",
    "# aggregation : 집계 (줄이다.) -> sampling 해서 특징을 본다. (insight 도출)\n",
    "# 집계함수 : min(), max(), mean(), sum(), count()\n",
    "# word counting\n",
    " \n",
    "# help(map)\n",
    "#  class map(object)\n",
    "#  |  map(func, *iterables) --> map object\n",
    "\n",
    "# >>> def f1(): \n",
    "# ...     print(\"hi\")\n",
    "# ...\n",
    "# >>>\n",
    "# >>> map(f1, [1,2,3]) \n",
    "# <map object at 0x00000203208855A0>\n",
    "# >>> type(map(f1, [1,2,3]))\n",
    "# <class 'map'>\n",
    "def f1(num): \n",
    "    return num + 1\n",
    "map(f1, [1,2,3]) \n",
    "\n",
    "#[]을 사상해서, map해서 f1으로 나간다.\n",
    "list (map(f1, [1,2,3]))   \n",
    "\n",
    "list(map(lambda x: x+1, [1,2,3]))\n",
    "list(map(lambda x: x**2, [1,2,3]))\n",
    "\n"
   ]
  },
  {
   "cell_type": "code",
   "execution_count": 14,
   "metadata": {},
   "outputs": [
    {
     "name": "stdout",
     "output_type": "stream",
     "text": [
      "None\n"
     ]
    }
   ],
   "source": [
    "# yield는 return 대신에 쓴다.\n",
    "# return 반환하고 종료 한다.\n",
    "# return의 단점 해소, 함수에서 로직이 끝나야 실행된다. 그래서 yield 사용\n",
    "# 중간에서 업무 멈추고 반환, Generate\n",
    "\n",
    "def return_func():\n",
    "    return\n",
    "\n",
    "result = return_func()\n",
    "print(result)"
   ]
  },
  {
   "cell_type": "code",
   "execution_count": 17,
   "metadata": {},
   "outputs": [
    {
     "data": {
      "text/plain": [
       "5"
      ]
     },
     "execution_count": 17,
     "metadata": {},
     "output_type": "execute_result"
    }
   ],
   "source": [
    "def return_func(x) :\n",
    "    return x\n",
    "    return \"hi\"\n",
    "\n",
    "return_func(5)"
   ]
  },
  {
   "cell_type": "code",
   "execution_count": 4,
   "metadata": {},
   "outputs": [
    {
     "data": {
      "text/plain": [
       "<generator object return_func2 at 0x00000153876F37C0>"
      ]
     },
     "execution_count": 4,
     "metadata": {},
     "output_type": "execute_result"
    }
   ],
   "source": [
    "def return_func2(x):\n",
    "    print(\"###1###\")\n",
    "    yield x\n",
    "    print(\"###2###\")\n",
    "    x = x+1\n",
    "    yield x\n",
    "    print(\"###3###\")\n",
    "    x = x+1\n",
    "    yield x   \n",
    "    \n",
    "return_func2(1)    # <generator object return_func2 at 0x00000153864DB580>\n",
    "\n"
   ]
  },
  {
   "cell_type": "code",
   "execution_count": 6,
   "metadata": {},
   "outputs": [
    {
     "name": "stdout",
     "output_type": "stream",
     "text": [
      "###1###\n",
      "1\n",
      "###2###\n",
      "2\n",
      "###3###\n",
      "3\n"
     ]
    }
   ],
   "source": [
    "for i in return_func2(1):\n",
    "    print(i)\n",
    "    \n",
    "# yield   (일)\n",
    "# generate(제)\n"
   ]
  },
  {
   "cell_type": "code",
   "execution_count": 11,
   "metadata": {},
   "outputs": [
    {
     "data": {
      "text/plain": [
       "[3, 8, 11]"
      ]
     },
     "execution_count": 11,
     "metadata": {},
     "output_type": "execute_result"
    }
   ],
   "source": [
    "# help(map)\n",
    "# class map(object)\n",
    "#  |  map(func, *iterables) --> map object\n",
    "# (1,2,3) + (2,6,8)\n",
    "\n",
    "list( map(lambda tu1, tu2 : tu1+tu2, (1,2,3), (2,6,8)))\n"
   ]
  },
  {
   "cell_type": "code",
   "execution_count": 21,
   "metadata": {},
   "outputs": [
    {
     "data": {
      "text/plain": [
       "[1, 2, 3]"
      ]
     },
     "execution_count": 21,
     "metadata": {},
     "output_type": "execute_result"
    }
   ],
   "source": [
    "list( map(lambda li1, li22 : li1+li22, [1,2,3], [2,6,8]))\n",
    "# bool 참, 거짓 [명제]\n",
    "# 술부 : predicate (전단계) <---- 명제\n",
    "\n",
    "# help(filter)\n",
    "# class filter(object)\n",
    "#  |  filter(function or None, iterable) --> filter object\n",
    "def f5():\n",
    "    return True \n",
    "f5()\n",
    "filter(lambda li : li > 0 , [-3,-2,-1,0,1,2,3])\n",
    "[i for i in [-3,-2,-1,0,1,2,3] if i > 0]\n",
    "\n",
    "\n"
   ]
  },
  {
   "cell_type": "code",
   "execution_count": 25,
   "metadata": {},
   "outputs": [
    {
     "data": {
      "text/plain": [
       "[(1, 4), (2, 5), (3, 6)]"
      ]
     },
     "execution_count": 25,
     "metadata": {},
     "output_type": "execute_result"
    }
   ],
   "source": [
    "# help(zip) # zip(*iterables, strict=False)\n",
    "# zip : 튜플로 묶는다.\n",
    "list( zip([1,2,3],[4,5,6]))"
   ]
  },
  {
   "cell_type": "code",
   "execution_count": 30,
   "metadata": {},
   "outputs": [
    {
     "data": {
      "text/plain": [
       "[('봄', '벚꽃'), ('여름', '장미')]"
      ]
     },
     "execution_count": 30,
     "metadata": {},
     "output_type": "execute_result"
    }
   ],
   "source": [
    "list( zip(['봄','여름','가을'],['벚꽃', '장미']))"
   ]
  },
  {
   "cell_type": "code",
   "execution_count": null,
   "metadata": {},
   "outputs": [],
   "source": [
    "for season, flower in zip(['봄','여름','가을'],['벚꽃', '장미']):\n",
    "    print(f\"{season}에는 {flower}이 핀다.\")"
   ]
  }
 ],
 "metadata": {
  "kernelspec": {
   "display_name": "base",
   "language": "python",
   "name": "python3"
  },
  "language_info": {
   "codemirror_mode": {
    "name": "ipython",
    "version": 3
   },
   "file_extension": ".py",
   "mimetype": "text/x-python",
   "name": "python",
   "nbconvert_exporter": "python",
   "pygments_lexer": "ipython3",
   "version": "3.12.4"
  }
 },
 "nbformat": 4,
 "nbformat_minor": 2
}
