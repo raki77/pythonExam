{
 "cells": [
  {
   "cell_type": "code",
   "execution_count": 1,
   "metadata": {},
   "outputs": [
    {
     "name": "stdout",
     "output_type": "stream",
     "text": [
      "\n",
      "빗변의 길이는 5.0 입니다.\n",
      "빗변의 길이는 5.0 입니다.\n",
      "빗변의 길이는 5.0 입니다.\n"
     ]
    }
   ],
   "source": [
    "# 선형대수 (linear type) : 직선과 관련된 학문, 대신하다(대), 수(Number)\n",
    "# 벡터 Vector\n",
    "# 방정식(미지수 구하기)\n",
    "\n",
    "import math\n",
    "\n",
    "\n",
    "print()\n",
    "num1 = float(input(\"밑 변의 길이를 입력해 주세요:\")) #3.0\n",
    "num2 = float(input(\"높이의 길이를 입력해 주세요:\")) #4.0\n",
    "result3 = (num1**2 + num2**2)**0.5\n",
    "print(\"빗변의 길이는 %.1f 입니다.\" %result3) \n",
    "# math.sqrt (squaretimes : 사각형)\n",
    "print(\"빗변의 길이는 {} 입니다.\".format(  math.sqrt(num1**2 + num2**2))  )\n",
    "print(f\"빗변의 길이는 {math.sqrt(num1**2 + num2**2)} 입니다.\")\n",
    "\n",
    "print(\"-\"*60)\n"
   ]
  }
 ],
 "metadata": {
  "kernelspec": {
   "display_name": "Python 3",
   "language": "python",
   "name": "python3"
  },
  "language_info": {
   "codemirror_mode": {
    "name": "ipython",
    "version": 3
   },
   "file_extension": ".py",
   "mimetype": "text/x-python",
   "name": "python",
   "nbconvert_exporter": "python",
   "pygments_lexer": "ipython3",
   "version": "3.11.5"
  }
 },
 "nbformat": 4,
 "nbformat_minor": 2
}
