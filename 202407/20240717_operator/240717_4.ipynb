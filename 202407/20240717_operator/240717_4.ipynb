{
 "cells": [
  {
   "cell_type": "code",
   "execution_count": 2,
   "metadata": {},
   "outputs": [
    {
     "name": "stdout",
     "output_type": "stream",
     "text": [
      "\n",
      "26.0 inch\n",
      "66.04 cm\n"
     ]
    }
   ],
   "source": [
    "# 자료형 (data type)\n",
    "# 자료 구조 data structure\n",
    "# 배열, 리스트\n",
    "# 알고리즘 [순서] : 문제를 해결하기 위한 순서 (해결 가능한 문제만 해당된다.)\n",
    "# swap 알고리즘 (easy)\n",
    "\n"
   ]
  }
 ],
 "metadata": {
  "kernelspec": {
   "display_name": "Python 3",
   "language": "python",
   "name": "python3"
  },
  "language_info": {
   "codemirror_mode": {
    "name": "ipython",
    "version": 3
   },
   "file_extension": ".py",
   "mimetype": "text/x-python",
   "name": "python",
   "nbconvert_exporter": "python",
   "pygments_lexer": "ipython3",
   "version": "3.11.5"
  }
 },
 "nbformat": 4,
 "nbformat_minor": 2
}
