{
 "cells": [
  {
   "cell_type": "code",
   "execution_count": 32,
   "metadata": {},
   "outputs": [
    {
     "data": {
      "text/plain": [
       "5"
      ]
     },
     "execution_count": 32,
     "metadata": {},
     "output_type": "execute_result"
    }
   ],
   "source": [
    "# 자료형 (data type)\n",
    "# 자료 구조 data structure\n",
    "# 배열, 리스트\n",
    "# 알고리즘 [순서] : 문제를 해결하기 위한 순서 (해결 가능한 문제만 해당된다.)\n",
    "# swap 알고리즘 (easy)\n",
    "\n",
    "# 문자 : 영어, 한글\n",
    "# format 형태\n",
    "\n",
    "# \"apple\".upper()\n",
    "# 매개변수 : \n",
    "# \"{}\".format(10) \n",
    "# \"{}{}\".format(10, 100) \n",
    "# \"{}*{}={}\".format(10, 10, 100) \n",
    "\n",
    "\n",
    "# 회사 system 별로 정의해 둔 것 (function) 이 있을 것이다.\n",
    "# help(format)\n",
    "# 인수 : 실제 값이라는 입장에서 보는것이다.\n",
    "# 매개변수 : 변수의 입장에서 보는 것이다. 함수 파라미터\n",
    "\n",
    "\n",
    "# \"{}*{}={}\".format(10, 10) \n",
    "# IndexError: Replacement index 2 out of range for positional args tuple\n",
    "# args : 인수\n",
    "\n",
    "# \"{}가 몇 개니? {}개 입니다.\".format(\"사과\",2)\n",
    "# \"{}가 몇 개니? {}개 입니다.\".format(2, \"사과\")\n",
    "# 서수 개념 인덱스 적용\n",
    "# \"{1}가 몇 개니? {0}개 입니다.\".format(2, \"사과\") \n",
    "\n",
    "# datatype\n",
    "# int[d]/float[f]/str[s]\n",
    "\n",
    "# \"{}\".format(3.141592)\n",
    "# 포멧팅 문자\n",
    "# \"{:f}\".format(3.141592)\n",
    "# \"{:15f}\".format(3.141592)\n",
    "\n",
    "# 빈값 0채우기, 15칸\n",
    "# \"{:015f}\".format(3.141592)\n",
    "\n",
    "# \"{:5f}\".format(3.141592)\n",
    "# 소수점 2째 짜리까지 표현\n",
    "# print(\"%.2f\" %3.141592)\n",
    "\n",
    "\n",
    "# 뭐뭐 이냐????? ~ 이다.\n",
    "# print(\"a\".isalpha())\n",
    "# print(\"5\".isalpha())\n",
    "# print(\"5\".isdigit())\n",
    "\n",
    "# isalpha or isdigit\n",
    "# print(\"a5\".isalnum())\n",
    "\n",
    "# 찾다(find), 찾으려면 순서 개념(index, 위치[어디에 있는가?])\n",
    "# \"안녕하세요\".find(\"안녕\")\n",
    "# \"안녕하세요안녕하세요\".find(\"안녕\") \n",
    "\n",
    "# \"안녕하세요안녕하세요\".find(\"가가\")\n",
    "# 없는 것은 -1 값을 리턴한다.\n",
    "\n",
    "# \"안녕하세요안녕하세요\".rfind(\"안녕\") \n",
    "# return 5\n",
    "\n",
    "\n"
   ]
  }
 ],
 "metadata": {
  "kernelspec": {
   "display_name": "Python 3",
   "language": "python",
   "name": "python3"
  },
  "language_info": {
   "codemirror_mode": {
    "name": "ipython",
    "version": 3
   },
   "file_extension": ".py",
   "mimetype": "text/x-python",
   "name": "python",
   "nbconvert_exporter": "python",
   "pygments_lexer": "ipython3",
   "version": "3.11.5"
  }
 },
 "nbformat": 4,
 "nbformat_minor": 2
}
