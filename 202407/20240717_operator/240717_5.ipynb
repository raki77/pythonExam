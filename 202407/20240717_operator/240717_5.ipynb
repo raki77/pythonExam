{
 "cells": [
  {
   "cell_type": "code",
   "execution_count": 28,
   "metadata": {},
   "outputs": [
    {
     "name": "stdout",
     "output_type": "stream",
     "text": [
      "\n",
      "A 지점: hello\n",
      "B 지점: HELLO\n",
      "2784449248560\n",
      "2784469895920\n"
     ]
    }
   ],
   "source": [
    "# SyntaxError: invalid syntax\n",
    "# in = 232\n",
    "\n",
    "# \"a\" in \"abcded\"\n",
    "# type([5, \"hi\", True]) \n",
    "# li1 = [5, \"hi\", True]\n",
    "# type(li1)\n",
    "# print(li1[0])\n",
    "# print(li1[1])\n",
    "# print(li1[2])\n",
    "\n",
    "# str : strip, split\n",
    "# \"I am a boy.\".split()\n",
    "\n",
    "# bigdata : 1초안에 tera급 자료를 처리한다.\n",
    "# AI + 빅데이타 모두를 잘 할 수 있다. 파이썬\n",
    "# result1 = \"I,am,a,boy.\".split(',')\n",
    "# result2 = \"I am a boy.\".split()\n",
    "# len(result1) \n",
    "# len(result2)\n",
    "\n",
    "# comma \n",
    "# seperated\n",
    "# value\n",
    "# -----------> .csv, .xlsx, .json\n",
    "# [전처리] 한다.\n",
    "\n",
    "# ---------------------------------------------------------------\n",
    "# 중괄호 안에는 표현식을 넣어준다.\n",
    "# f\"1+1={1+1}\"\n",
    "# f\"2*3={2*3}\"\n",
    "\n",
    "# f'''\n",
    "#     오늘 17일\n",
    "#     내일은 18일\n",
    "# ''' \n",
    "\n",
    "# f'''\n",
    "#     오늘 17일\n",
    "#     내일은 {17+1}일\n",
    "#     모레는 {17+2}일\n",
    "# '''\n",
    "\n",
    "# print(f''' \n",
    "#     내일 {17+1}      \n",
    "#     모레 {17+2}      \n",
    "# ''')\n",
    "\n",
    "# \"{}\".format(52, 273)\n",
    "\n",
    "print()\n",
    "string = \"hello\"\n",
    "string.upper()\n",
    "print(\"A 지점:\", string)\n",
    "print(\"B 지점:\", string.upper())\n",
    "# 답변 : hello, HELLO\n",
    "print(id(string))\n",
    "string = string.upper()\n",
    "print(id(string)) \n",
    "\n",
    "\n",
    "# 선형대수 (linear type) : 직선과 관련된 학문, 대신하다(대), 수(Number)\n",
    "# 벡터 Vector\n",
    "# 방정식(미지수 구하기)\n",
    "\n",
    "\n"
   ]
  }
 ],
 "metadata": {
  "kernelspec": {
   "display_name": "Python 3",
   "language": "python",
   "name": "python3"
  },
  "language_info": {
   "codemirror_mode": {
    "name": "ipython",
    "version": 3
   },
   "file_extension": ".py",
   "mimetype": "text/x-python",
   "name": "python",
   "nbconvert_exporter": "python",
   "pygments_lexer": "ipython3",
   "version": "3.11.5"
  }
 },
 "nbformat": 4,
 "nbformat_minor": 2
}
