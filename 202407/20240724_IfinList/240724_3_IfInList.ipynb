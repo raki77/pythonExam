{
 "cells": [
  {
   "cell_type": "code",
   "execution_count": 4,
   "id": "1c3ff335-89a7-4566-b2ed-89a7f5679913",
   "metadata": {},
   "outputs": [
    {
     "data": {
      "text/plain": [
       "1"
      ]
     },
     "execution_count": 4,
     "metadata": {},
     "output_type": "execute_result"
    }
   ],
   "source": [
    "min([50,1,100,300,2,7,55])"
   ]
  },
  {
   "cell_type": "code",
   "execution_count": 8,
   "id": "c3d71087-ca83-4c0c-94d6-47e87d07f7bc",
   "metadata": {},
   "outputs": [
    {
     "data": {
      "text/plain": [
       "300"
      ]
     },
     "execution_count": 8,
     "metadata": {},
     "output_type": "execute_result"
    }
   ],
   "source": [
    "max([50,1,100,300,2,7,55])"
   ]
  },
  {
   "cell_type": "code",
   "execution_count": 12,
   "id": "a43b2ce0-ee02-47f6-96c8-d7deb2bbc09a",
   "metadata": {},
   "outputs": [
    {
     "data": {
      "text/plain": [
       "14"
      ]
     },
     "execution_count": 12,
     "metadata": {},
     "output_type": "execute_result"
    }
   ],
   "source": [
    "sum([3,4,7])"
   ]
  },
  {
   "cell_type": "code",
   "execution_count": 16,
   "id": "3fdd5847-d871-4242-890b-75badd1e6efc",
   "metadata": {},
   "outputs": [
    {
     "data": {
      "text/plain": [
       "[1, 2, 7, 50, 55, 100, 300]"
      ]
     },
     "execution_count": 16,
     "metadata": {},
     "output_type": "execute_result"
    }
   ],
   "source": [
    "sorted([50,1,100,300,2,7,55])"
   ]
  },
  {
   "cell_type": "code",
   "execution_count": 20,
   "id": "f291df2f-c37e-4b3e-9c3b-f18d719e99f6",
   "metadata": {},
   "outputs": [],
   "source": [
    "li1=[50,1,100,300,2,7,55]"
   ]
  },
  {
   "cell_type": "code",
   "execution_count": 24,
   "id": "a0388838-8e91-4721-95ac-f00325f0cbac",
   "metadata": {},
   "outputs": [
    {
     "data": {
      "text/plain": [
       "list"
      ]
     },
     "execution_count": 24,
     "metadata": {},
     "output_type": "execute_result"
    }
   ],
   "source": [
    "type(li1)"
   ]
  },
  {
   "cell_type": "code",
   "execution_count": 28,
   "id": "eb6f94ef-78ea-4250-8c42-4a0e33c80e6f",
   "metadata": {},
   "outputs": [],
   "source": [
    "li1.sort()"
   ]
  },
  {
   "cell_type": "code",
   "execution_count": 32,
   "id": "4ce93854-8751-4084-a2a0-3539e057a59d",
   "metadata": {},
   "outputs": [
    {
     "data": {
      "text/plain": [
       "[1, 2, 7, 50, 55, 100, 300]"
      ]
     },
     "execution_count": 32,
     "metadata": {},
     "output_type": "execute_result"
    }
   ],
   "source": [
    "li1"
   ]
  },
  {
   "cell_type": "code",
   "execution_count": 36,
   "id": "ce563f84-3dee-4686-9672-e0f3c9fedbcc",
   "metadata": {},
   "outputs": [],
   "source": [
    "re1=[50,1,100,300,2,7,55]"
   ]
  },
  {
   "cell_type": "code",
   "execution_count": 40,
   "id": "df6d67c8-b8d5-40e9-9145-41dfc3a7e518",
   "metadata": {},
   "outputs": [
    {
     "data": {
      "text/plain": [
       "<list_reverseiterator at 0x153b2592ad0>"
      ]
     },
     "execution_count": 40,
     "metadata": {},
     "output_type": "execute_result"
    }
   ],
   "source": [
    "reversed(re1)"
   ]
  },
  {
   "cell_type": "code",
   "execution_count": 44,
   "id": "654126ec-066f-4231-92f5-f910c8d3a4a6",
   "metadata": {},
   "outputs": [
    {
     "name": "stdout",
     "output_type": "stream",
     "text": [
      "Help on class reversed in module builtins:\n",
      "\n",
      "class reversed(object)\n",
      " |  reversed(sequence, /)\n",
      " |\n",
      " |  Return a reverse iterator over the values of the given sequence.\n",
      " |\n",
      " |  Methods defined here:\n",
      " |\n",
      " |  __getattribute__(self, name, /)\n",
      " |      Return getattr(self, name).\n",
      " |\n",
      " |  __iter__(self, /)\n",
      " |      Implement iter(self).\n",
      " |\n",
      " |  __length_hint__(...)\n",
      " |      Private method returning an estimate of len(list(it)).\n",
      " |\n",
      " |  __next__(self, /)\n",
      " |      Implement next(self).\n",
      " |\n",
      " |  __reduce__(...)\n",
      " |      Return state information for pickling.\n",
      " |\n",
      " |  __setstate__(...)\n",
      " |      Set state information for unpickling.\n",
      " |\n",
      " |  ----------------------------------------------------------------------\n",
      " |  Static methods defined here:\n",
      " |\n",
      " |  __new__(*args, **kwargs)\n",
      " |      Create and return a new object.  See help(type) for accurate signature.\n",
      "\n"
     ]
    }
   ],
   "source": [
    "help(reversed)"
   ]
  },
  {
   "cell_type": "code",
   "execution_count": 48,
   "id": "a53bdde4-96e2-4623-b27c-163b6c8f7453",
   "metadata": {},
   "outputs": [
    {
     "name": "stdout",
     "output_type": "stream",
     "text": [
      "55\n",
      "7\n",
      "2\n",
      "300\n",
      "100\n",
      "1\n",
      "50\n"
     ]
    }
   ],
   "source": [
    "for i in reversed(re1):\n",
    "    print(i)"
   ]
  },
  {
   "cell_type": "code",
   "execution_count": 52,
   "id": "953689d1-4e63-4a0f-9e64-d3e79f95f058",
   "metadata": {},
   "outputs": [
    {
     "data": {
      "text/plain": [
       "<list_reverseiterator at 0x153b25936a0>"
      ]
     },
     "execution_count": 52,
     "metadata": {},
     "output_type": "execute_result"
    }
   ],
   "source": [
    "reversed([1,2,3,4,5])   # hexadecimal 0x153b25936a0 (address value)"
   ]
  },
  {
   "cell_type": "code",
   "execution_count": 56,
   "id": "1630efee-f451-4862-a0a0-6e163d2b9509",
   "metadata": {},
   "outputs": [
    {
     "data": {
      "text/plain": [
       "[5, 4, 3, 2, 1]"
      ]
     },
     "execution_count": 56,
     "metadata": {},
     "output_type": "execute_result"
    }
   ],
   "source": [
    "list(reversed([1,2,3,4,5]))"
   ]
  },
  {
   "cell_type": "code",
   "execution_count": 62,
   "id": "b6126e55-da81-4b3c-94eb-0bc52fec5615",
   "metadata": {},
   "outputs": [
    {
     "name": "stdout",
     "output_type": "stream",
     "text": [
      "5\n",
      "4\n",
      "3\n",
      "2\n",
      "1\n"
     ]
    }
   ],
   "source": [
    "li2 = list(reversed([1,2,3,4,5]))\n",
    "for i in li2:\n",
    "    print(i)"
   ]
  },
  {
   "cell_type": "code",
   "execution_count": 70,
   "id": "5276fa09-dd3d-48fd-86d5-5c940d76861f",
   "metadata": {},
   "outputs": [
    {
     "data": {
      "text/plain": [
       "enumerate"
      ]
     },
     "execution_count": 70,
     "metadata": {},
     "output_type": "execute_result"
    }
   ],
   "source": [
    "# enumerate : 열거하다. 열거하면 순서(인덱스) 개념이 생긴다.\n",
    "type(enumerate([\"apple\", \"banana\",\"candy\"]))\n"
   ]
  },
  {
   "cell_type": "code",
   "execution_count": 80,
   "id": "b1b45193-3af0-464b-bf9b-bc5ccf7974b5",
   "metadata": {},
   "outputs": [
    {
     "name": "stdout",
     "output_type": "stream",
     "text": [
      "0 apple\n",
      "1 banana\n",
      "2 candy\n"
     ]
    }
   ],
   "source": [
    "for i in enumerate([\"apple\", \"banana\",\"candy\"]):\n",
    "    print(i[0],i[1])"
   ]
  },
  {
   "cell_type": "code",
   "execution_count": 86,
   "id": "1b8e91b4-ea1b-4237-a775-c2f7fac06fe3",
   "metadata": {},
   "outputs": [
    {
     "name": "stdout",
     "output_type": "stream",
     "text": [
      "0번째 값이 apple(이)다.\n",
      "1번째 값이 banana(이)다.\n",
      "2번째 값이 candy(이)다.\n"
     ]
    }
   ],
   "source": [
    "for idx, value in enumerate([\"apple\", \"banana\",\"candy\"]):\n",
    "    print(f\"{idx}번째 값이 {value}(이)다.\")"
   ]
  },
  {
   "cell_type": "code",
   "execution_count": 88,
   "id": "64d5214d-a460-476a-884e-60cb3ee5b0a5",
   "metadata": {},
   "outputs": [],
   "source": [
    "# min(), max(), sum(), sorted(), reversed(), enumerate()"
   ]
  },
  {
   "cell_type": "code",
   "execution_count": 2,
   "id": "59af85e6-c411-4a6c-b5a0-d12b6ec62c8d",
   "metadata": {},
   "outputs": [
    {
     "name": "stdout",
     "output_type": "stream",
     "text": [
      "min: 1\n",
      "max: 78912\n",
      "sum: 86882\n",
      "sorted: [1, 2, 3, 4, 4, 5, 6, 7, 7, 8, 64, 84, 87, 89, 251, 345, 465, 6538, 78912]\n",
      "reversed: [7, 4, 6538, 8, 7, 84, 345, 78912, 64, 251, 89, 87, 465, 5, 6, 4, 2, 3, 1]\n",
      "index =  0 : value =     1\n",
      "index =  1 : value =     3\n",
      "index =  2 : value =     2\n",
      "index =  3 : value =     4\n",
      "index =  4 : value =     6\n",
      "index =  5 : value =     5\n",
      "index =  6 : value =   465\n",
      "index =  7 : value =    87\n",
      "index =  8 : value =    89\n",
      "index =  9 : value =   251\n",
      "index = 10 : value =    64\n",
      "index = 11 : value = 78912\n",
      "index = 12 : value =   345\n",
      "index = 13 : value =    84\n",
      "index = 14 : value =     7\n",
      "index = 15 : value =     8\n",
      "index = 16 : value =  6538\n",
      "index = 17 : value =     4\n",
      "index = 18 : value =     7\n"
     ]
    }
   ],
   "source": [
    "print(\"min:\", min([1,3,2,4,6,5,465,87,89,251,64,78912,345,84,7,8,6538,4,7]))\n",
    "print(\"max:\", max([1,3,2,4,6,5,465,87,89,251,64,78912,345,84,7,8,6538,4,7]))\n",
    "print(\"sum:\", sum([1,3,2,4,6,5,465,87,89,251,64,78912,345,84,7,8,6538,4,7]))\n",
    "print(\"sorted:\", sorted([1,3,2,4,6,5,465,87,89,251,64,78912,345,84,7,8,6538,4,7]))\n",
    "print(\"reversed:\", list(reversed([1,3,2,4,6,5,465,87,89,251,64,78912,345,84,7,8,6538,4,7])))\n",
    "for idx, val in enumerate([1,3,2,4,6,5,465,87,89,251,64,78912,345,84,7,8,6538,4,7]):\n",
    "    print(f\"index = {idx:2} : value = {val:5}\")\n"
   ]
  },
  {
   "cell_type": "code",
   "execution_count": 10,
   "id": "2d756019-3deb-418f-893c-d5b6d9c4a566",
   "metadata": {},
   "outputs": [
    {
     "data": {
      "text/plain": [
       "5"
      ]
     },
     "execution_count": 10,
     "metadata": {},
     "output_type": "execute_result"
    }
   ],
   "source": [
    "rev = reversed([1,2,3,4,5])\n",
    "next(rev)"
   ]
  },
  {
   "cell_type": "code",
   "execution_count": 14,
   "id": "919456da-6335-456e-9c61-70cd4d760af2",
   "metadata": {},
   "outputs": [
    {
     "name": "stdout",
     "output_type": "stream",
     "text": [
      "Help on built-in function next in module builtins:\n",
      "\n",
      "next(...)\n",
      "    Return the next item from the iterator.\n",
      "\n",
      "    If default is given and the iterator is exhausted,\n",
      "    it is returned instead of raising StopIteration.\n",
      "\n"
     ]
    }
   ],
   "source": [
    "help(next)"
   ]
  },
  {
   "cell_type": "code",
   "execution_count": 24,
   "id": "450557a5-e668-49a1-acd5-fcd23d61a9ff",
   "metadata": {},
   "outputs": [],
   "source": [
    "# 한 줄 밑에 노트 추가시 : ESC 누른 후 b [below] 누른다."
   ]
  },
  {
   "cell_type": "code",
   "execution_count": null,
   "id": "ed5365f9-d6dc-4def-815e-6acade6de82a",
   "metadata": {},
   "outputs": [],
   "source": [
    "# iterable : 문자열, 리스트, 딕셔너리, 반복하는 애들 전부 다.\n",
    "# [i 를 표현 형태 for i in iterable]"
   ]
  },
  {
   "cell_type": "code",
   "execution_count": 26,
   "id": "5969323a-4ffb-4dab-a5f0-6ee46d231300",
   "metadata": {},
   "outputs": [
    {
     "data": {
      "text/plain": [
       "[0.5, 1.0, 1.5]"
      ]
     },
     "execution_count": 26,
     "metadata": {},
     "output_type": "execute_result"
    }
   ],
   "source": [
    "# 리스트 내포 : 한 줄에 리스트로 표현해라.\n",
    "[i for i in [1,2,3]]\n",
    "[i*2 for i in [1,2,3]]\n",
    "li2=[i/2 for i in [1,2,3]]\n",
    "li2"
   ]
  },
  {
   "cell_type": "code",
   "execution_count": 40,
   "id": "ea4fa2ee-686b-43e6-9667-16d32190138a",
   "metadata": {
    "scrolled": true
   },
   "outputs": [
    {
     "data": {
      "text/plain": [
       "[4, 16, 36, 64, 100]"
      ]
     },
     "execution_count": 40,
     "metadata": {},
     "output_type": "execute_result"
    }
   ],
   "source": [
    "[i**2 for i in range(1, 10+1) if i%2 == 0]"
   ]
  },
  {
   "cell_type": "code",
   "execution_count": 2,
   "id": "7609dec6-c7e6-49c0-a048-cc8136879d32",
   "metadata": {},
   "outputs": [
    {
     "data": {
      "text/plain": [
       "[1, 9, 25, 49, 81]"
      ]
     },
     "execution_count": 2,
     "metadata": {},
     "output_type": "execute_result"
    }
   ],
   "source": [
    "[i**2 for i in range(1, 10+1) if i%2 != 0]"
   ]
  },
  {
   "cell_type": "code",
   "execution_count": 12,
   "id": "c193d421-d9c8-4ae4-b9d5-5c62cf39df38",
   "metadata": {},
   "outputs": [
    {
     "data": {
      "text/plain": [
       "'안녕 점심 맛있게 드셨습니까?'"
      ]
     },
     "execution_count": 12,
     "metadata": {},
     "output_type": "execute_result"
    }
   ],
   "source": [
    "he2 = (\n",
    "\"안녕\"\n",
    "\"점심\"\n",
    "\"맛있게\"\n",
    "\"드셨습니까?\"\n",
    ")\n",
    "he2"
   ]
  },
  {
   "cell_type": "code",
   "execution_count": null,
   "id": "43375382-9e27-4a0c-b83f-5a14b13604b2",
   "metadata": {},
   "outputs": [],
   "source": [
    "# 문자열 함수"
   ]
  },
  {
   "cell_type": "code",
   "execution_count": 16,
   "id": "baa5d50e-5546-4fb3-91f3-4214c2fb9b65",
   "metadata": {},
   "outputs": [
    {
     "data": {
      "text/plain": [
       "['안녕', '점심', '맛있게', '드셨습니까?']"
      ]
     },
     "execution_count": 16,
     "metadata": {},
     "output_type": "execute_result"
    }
   ],
   "source": [
    "\"안녕 점심 맛있게 드셨습니까?\".split()"
   ]
  },
  {
   "cell_type": "code",
   "execution_count": 20,
   "id": "8d3d5925-54df-4e21-a7aa-4c187473cedc",
   "metadata": {},
   "outputs": [
    {
     "name": "stdout",
     "output_type": "stream",
     "text": [
      "안녕\n",
      "점심\n",
      "맛있게\n",
      "드셨습니까?\n"
     ]
    }
   ],
   "source": [
    "for i in \"안녕 점심 맛있게 드셨습니까?\".split():\n",
    "    print(i)"
   ]
  },
  {
   "cell_type": "code",
   "execution_count": 24,
   "id": "147f7b66-c5f2-48d4-8afc-279d82a082f1",
   "metadata": {},
   "outputs": [
    {
     "name": "stdout",
     "output_type": "stream",
     "text": [
      "안녕\n",
      "점심\n",
      "맛있게\n",
      "드셨습니까?\n"
     ]
    }
   ],
   "source": [
    "for i in \"안녕,점심,맛있게,드셨습니까?\".split(','):\n",
    "    print(i)"
   ]
  },
  {
   "cell_type": "code",
   "execution_count": 28,
   "id": "4b7456df-cf8d-41b0-8793-d74a7cb0ec70",
   "metadata": {},
   "outputs": [
    {
     "name": "stdout",
     "output_type": "stream",
     "text": [
      "안녕\n",
      "점심\n",
      "맛있게\n",
      "드셨습니까?\n"
     ]
    }
   ],
   "source": [
    "for i in \"안녕/점심/맛있게/드셨습니까?\".split('/'):\n",
    "    print(i)"
   ]
  },
  {
   "cell_type": "code",
   "execution_count": 34,
   "id": "673ea95e-0d8d-4c2c-95db-fd8c1182166c",
   "metadata": {},
   "outputs": [
    {
     "data": {
      "text/plain": [
       "['안녕', '점심', '맛있게', '드셨습니까?']"
      ]
     },
     "execution_count": 34,
     "metadata": {},
     "output_type": "execute_result"
    }
   ],
   "source": [
    "[i for i in \"안녕,점심,맛있게,드셨습니까?\".split(',')]"
   ]
  },
  {
   "cell_type": "code",
   "execution_count": 44,
   "id": "e2fda2bc-34eb-43e1-b5ba-21479b816ff0",
   "metadata": {},
   "outputs": [],
   "source": [
    "li5 = [i for i in \"안녕/점심/맛있게/드셨습니까?\".split('/')]\n",
    "# \"안녕*점심*맛있게*드셨습니까?\""
   ]
  },
  {
   "cell_type": "code",
   "execution_count": 48,
   "id": "e0ffe5d2-d19c-4b12-83ec-12290c83de3b",
   "metadata": {},
   "outputs": [
    {
     "data": {
      "text/plain": [
       "'안녕 점심 맛있게 드셨습니까?'"
      ]
     },
     "execution_count": 48,
     "metadata": {},
     "output_type": "execute_result"
    }
   ],
   "source": [
    "# 공백으로 list를 연결(합쳐라)\n",
    "\" \".join(li5)\n",
    "# \" \".strip()\n",
    "# \" \".split()"
   ]
  },
  {
   "cell_type": "code",
   "execution_count": 54,
   "id": "24a86789-d760-4538-a1b9-0cca679b09c5",
   "metadata": {},
   "outputs": [
    {
     "name": "stdout",
     "output_type": "stream",
     "text": [
      "사과/자두/바나나/체리\n"
     ]
    }
   ],
   "source": [
    "array = [\"사과\",\"자두\",\"초콜릿\",\"바나나\",\"체리\"]\n",
    "output = [fruit for fruit in array if fruit != '초콜릿']\n",
    "print(\"/\".join(output))"
   ]
  },
  {
   "cell_type": "code",
   "execution_count": 58,
   "id": "d469615a-4b42-4e30-b79c-3f33faf1fe76",
   "metadata": {},
   "outputs": [
    {
     "name": "stdout",
     "output_type": "stream",
     "text": [
      "[0, 4, 16, 36, 64, 100, 144, 196, 256, 324]\n"
     ]
    }
   ],
   "source": [
    "# 반복문 사용하여 리스트 재조합하는 경우\n",
    "# 예시 – 반복문을 사용한 리스트 생성\n",
    "array=[]\n",
    "array = [i*i for i in range(0, 20, 2)]\n",
    "print(array)"
   ]
  },
  {
   "cell_type": "code",
   "execution_count": null,
   "id": "2e3a6b0f-d32b-4b7e-be9b-eb5a356de00a",
   "metadata": {},
   "outputs": [],
   "source": []
  }
 ],
 "metadata": {
  "kernelspec": {
   "display_name": "Python 3 (ipykernel)",
   "language": "python",
   "name": "python3"
  },
  "language_info": {
   "codemirror_mode": {
    "name": "ipython",
    "version": 3
   },
   "file_extension": ".py",
   "mimetype": "text/x-python",
   "name": "python",
   "nbconvert_exporter": "python",
   "pygments_lexer": "ipython3",
   "version": "3.12.4"
  }
 },
 "nbformat": 4,
 "nbformat_minor": 5
}
