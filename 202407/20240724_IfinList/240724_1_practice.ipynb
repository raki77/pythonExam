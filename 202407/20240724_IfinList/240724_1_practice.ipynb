{
 "cells": [
  {
   "cell_type": "code",
   "execution_count": 3,
   "id": "50ff0db5-3242-43e9-bc43-2a17fedb11ae",
   "metadata": {},
   "outputs": [
    {
     "name": "stdout",
     "output_type": "stream",
     "text": [
      "자짱면\n"
     ]
    }
   ],
   "source": [
    "if True:\n",
    "    print(\"자짱면\")\n",
    "elif False:\n",
    "    print(\"짬뽕\")\n",
    "else :\n",
    "    print(\"볶음밥\")"
   ]
  },
  {
   "cell_type": "code",
   "execution_count": 7,
   "id": "94b40444-85a1-4838-ac1c-f672f289a028",
   "metadata": {},
   "outputs": [
    {
     "name": "stdout",
     "output_type": "stream",
     "text": [
      "짬뽕\n"
     ]
    }
   ],
   "source": [
    "if False:\n",
    "    print(\"자짱면\")\n",
    "elif True:\n",
    "    print(\"짬뽕\")\n",
    "else:\n",
    "    print(\"볶음밥\")"
   ]
  },
  {
   "cell_type": "code",
   "execution_count": 11,
   "id": "9d4d5f6b-935c-45e9-95b0-8e0b8d5b03da",
   "metadata": {},
   "outputs": [
    {
     "name": "stdout",
     "output_type": "stream",
     "text": [
      "볶음밥\n"
     ]
    }
   ],
   "source": [
    "if False:\n",
    "    print(\"자짱면\")\n",
    "elif False:\n",
    "    print(\"짬뽕\")\n",
    "else :\n",
    "    print(\"볶음밥\")"
   ]
  },
  {
   "cell_type": "code",
   "execution_count": 15,
   "id": "a2f20de9-2cbc-4ae0-91b4-777ac4f3333c",
   "metadata": {},
   "outputs": [],
   "source": [
    "num = 1"
   ]
  },
  {
   "cell_type": "code",
   "execution_count": 23,
   "id": "8bf2dc05-da1f-435e-8053-cb35c17c7a9a",
   "metadata": {},
   "outputs": [
    {
     "name": "stdout",
     "output_type": "stream",
     "text": [
      "1\n",
      "<class 'int'>\n"
     ]
    }
   ],
   "source": [
    "print(num)\n",
    "type(num)\n",
    "print(type(num))"
   ]
  },
  {
   "cell_type": "code",
   "execution_count": 25,
   "id": "8b60243d-99c9-4091-8ad0-d947b3162680",
   "metadata": {},
   "outputs": [],
   "source": [
    "st1 = \"hi\""
   ]
  },
  {
   "cell_type": "code",
   "execution_count": 31,
   "id": "f1b2c69f-d504-4f1d-ba49-dda25ce44549",
   "metadata": {},
   "outputs": [
    {
     "name": "stdout",
     "output_type": "stream",
     "text": [
      "hi\n"
     ]
    },
    {
     "data": {
      "text/plain": [
       "140725789647800"
      ]
     },
     "execution_count": 31,
     "metadata": {},
     "output_type": "execute_result"
    }
   ],
   "source": [
    "print(st1)\n",
    "id(st1)"
   ]
  },
  {
   "cell_type": "code",
   "execution_count": 35,
   "id": "4824b760-dc0b-4f25-84e1-17a2ef3da128",
   "metadata": {},
   "outputs": [],
   "source": [
    "# comment\n",
    "if False:\n",
    "    print(\"hi\")"
   ]
  },
  {
   "cell_type": "code",
   "execution_count": 41,
   "id": "fb202150-00e1-4fdb-9ed7-dd00e487ac61",
   "metadata": {},
   "outputs": [
    {
     "name": "stdout",
     "output_type": "stream",
     "text": [
      "O\n"
     ]
    }
   ],
   "source": [
    "if True:\n",
    "    print(\"O\")\n",
    "else :\n",
    "    print(\"X\")"
   ]
  },
  {
   "cell_type": "code",
   "execution_count": null,
   "id": "fc8fb015-fc86-405a-94fa-dca7bf09344a",
   "metadata": {},
   "outputs": [],
   "source": [
    "if False:\n",
    "    print(\"O\")\n",
    "else :\n",
    "    print(\"X\")"
   ]
  }
 ],
 "metadata": {
  "kernelspec": {
   "display_name": "Python 3 (ipykernel)",
   "language": "python",
   "name": "python3"
  },
  "language_info": {
   "codemirror_mode": {
    "name": "ipython",
    "version": 3
   },
   "file_extension": ".py",
   "mimetype": "text/x-python",
   "name": "python",
   "nbconvert_exporter": "python",
   "pygments_lexer": "ipython3",
   "version": "3.12.4"
  }
 },
 "nbformat": 4,
 "nbformat_minor": 5
}
