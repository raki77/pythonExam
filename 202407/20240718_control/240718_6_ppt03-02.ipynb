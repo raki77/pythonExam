{
 "cells": [
  {
   "cell_type": "code",
   "execution_count": 12,
   "metadata": {},
   "outputs": [
    {
     "name": "stdout",
     "output_type": "stream",
     "text": [
      "성적: 1231 점\n",
      "(0~100점)범위에서 벗어났습니다.\n"
     ]
    }
   ],
   "source": [
    "# [요구사항]\n",
    "# 입력값 : 0~100\n",
    "# 90점 이상 : A (90,91,92...100)\n",
    "# 80점 이상 : B \n",
    "# 70점 이상 : C\n",
    "# 나머지 : F\n",
    "# 90초과: 91,92,93...\n",
    "# 90미만: 89,88,87...\n",
    "\n",
    "\n",
    "score1 = int( input(\"성적을 입력하시오(0-100점까지) :\"))\n",
    "print(\"성적:\", score1, \"점\")\n",
    "\n",
    "if 90 <= score1 < 101:\n",
    "    print(\"A\")\n",
    "elif 80 <= score1 < 90:\n",
    "    print(\"B\")\n",
    "elif 70 <= score1 < 80:\n",
    "    print(\"C\")\n",
    "elif 1 <= score1 < 70:\n",
    "    print(\"F\")\n",
    "else :\n",
    "    print(\"(0~100점)범위에서 벗어났습니다.\")\n",
    "    \n",
    " "
   ]
  },
  {
   "cell_type": "code",
   "execution_count": 15,
   "metadata": {},
   "outputs": [
    {
     "name": "stdout",
     "output_type": "stream",
     "text": [
      "TRUE\n"
     ]
    }
   ],
   "source": [
    "if 0:\n",
    "    print(\"FALSE\")\n",
    "    \n",
    "if 1:\n",
    "    print(\"TRUE\")\n",
    "    "
   ]
  },
  {
   "cell_type": "code",
   "execution_count": 18,
   "metadata": {},
   "outputs": [],
   "source": [
    "# 빈 컨테이너\n",
    "# if 조건문의 매개변수에 불 아닌 다른 값이 올 때 자동으로 불로 변환\n",
    "# 이 때 False로 변환되는 값: None, 0.0, 빈 문자열, 빈 바이트열, 빈 리스트\n",
    "# 예시 - False로 변환되는 값 \n",
    "\n",
    "\n",
    "# IndentationError\n",
    "#       if  조건문 사이에는 무조건 들여쓰기 4칸 넣고 코드 작성해야 함\n",
    "\n",
    "\n",
    "# pass 키워드 - 아무것도 작성하지 않고 임시적으로 비워 둠\n",
    "#       예시 - pass 키워드를 사용한 미구현 부분 입력\n",
    " \n",
    "# num = 5\n",
    "# if num > 0 :\n",
    "#     # print(\"hi\")\n",
    "#     pass\n",
    "# else :\n",
    "#     pass\n",
    "  \n"
   ]
  },
  {
   "cell_type": "code",
   "execution_count": null,
   "metadata": {},
   "outputs": [],
   "source": []
  }
 ],
 "metadata": {
  "kernelspec": {
   "display_name": "Python 3",
   "language": "python",
   "name": "python3"
  },
  "language_info": {
   "codemirror_mode": {
    "name": "ipython",
    "version": 3
   },
   "file_extension": ".py",
   "mimetype": "text/x-python",
   "name": "python",
   "nbconvert_exporter": "python",
   "pygments_lexer": "ipython3",
   "version": "3.11.5"
  }
 },
 "nbformat": 4,
 "nbformat_minor": 2
}
