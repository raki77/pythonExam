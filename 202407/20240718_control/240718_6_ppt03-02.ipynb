{
 "cells": [
  {
   "cell_type": "code",
   "execution_count": 10,
   "metadata": {},
   "outputs": [
    {
     "name": "stdout",
     "output_type": "stream",
     "text": [
      "성적: 80 점\n",
      "B\n"
     ]
    }
   ],
   "source": [
    "# [요구사항]\n",
    "# 입력값 : 0~100\n",
    "# 90점 이상 : A\n",
    "# 80점 이상 : B\n",
    "# 70점 이상 : C\n",
    "# 나머지 : F\n",
    "\n",
    "num1 = int( input(\"성적을 입력하시오(0-100점까지) :\"))\n",
    "print(\"성적:\", num1, \"점\")\n",
    "\n",
    "if 90 <= num1 < 101:\n",
    "    print(\"A\")\n",
    "elif 80 <= num1 < 90:\n",
    "    print(\"B\")\n",
    "elif 70 <= num1 < 80:\n",
    "    print(\"C\")\n",
    "elif 1 <= num1 < 70:\n",
    "    print(\"F\")\n",
    "else :\n",
    "    print(\"범위에서 벗어났습니다.\")\n",
    "    \n",
    "\n",
    "# 요령:\n",
    "#  "
   ]
  }
 ],
 "metadata": {
  "kernelspec": {
   "display_name": "Python 3",
   "language": "python",
   "name": "python3"
  },
  "language_info": {
   "codemirror_mode": {
    "name": "ipython",
    "version": 3
   },
   "file_extension": ".py",
   "mimetype": "text/x-python",
   "name": "python",
   "nbconvert_exporter": "python",
   "pygments_lexer": "ipython3",
   "version": "3.11.5"
  }
 },
 "nbformat": 4,
 "nbformat_minor": 2
}
