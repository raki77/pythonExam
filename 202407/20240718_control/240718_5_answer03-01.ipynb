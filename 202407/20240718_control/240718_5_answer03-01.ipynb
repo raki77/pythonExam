{
 "cells": [
  {
   "cell_type": "code",
   "execution_count": 2,
   "metadata": {},
   "outputs": [
    {
     "name": "stdout",
     "output_type": "stream",
     "text": [
      "\n",
      "두 번째로 입력했던 100가 10보다 더 큽니다.\n"
     ]
    }
   ],
   "source": [
    "# 03_01_마무리 확인문제\n",
    "\n",
    "# 비교 연산자를 사용한 조건식입니다. 결과가 참이면 True를, 거짓이면 False를 적어 보세요.\n",
    "# 1. False\n",
    "# 2. True\n",
    "# 3. False\n",
    "# 4. True\n",
    "# 5. True\n",
    "# 6. False\n",
    "\n",
    "# 다음 세 개의 예제 중 “참입니다”를 출력하는 것은 몇 번인가요?\n",
    "# 3번\n",
    "\n",
    "\n",
    "# 1. 치킨이나 햄버거가 먹고 싶어서, 음식 주문 애플리케이션에서 치킨과 햄버거를 선택했다.\n",
    "# ( and )\n",
    "# 2. H 브랜드가 출시한 10만원 이하의 가방을 구매하고 싶어서, \n",
    "#    H 브랜드와 10만원 이하를 조건으로 선택해서 검색했다.\n",
    "#    ( and )\n",
    "# 3. 고궁에 입장하는데, 65세 이상의 어르신과 5살 이하의 아동은 무료 입장이었다.\n",
    "# ( or )\n",
    "\n",
    "\n",
    "# 사용자로부터 숫자 두 개를 입력받고 첫 번째 입력받은 숫자가 큰지, \n",
    "# 두 번째 입력받은 숫자가 큰지를 구하는 프로그램을 다음 빈칸을 채워 완성해 보세요.\n",
    "\n",
    "a = int(input(\"> 1번째 숫자: \"))\n",
    "b = int(input(\"> 2번째 숫자: \"))\n",
    "print()\n",
    "\n",
    "if a > b :\n",
    "    print(\"처음 입력했던 {}가 {}보다 더 큽니다.\".format(a,b))\n",
    "if b > a :\n",
    "    print(\"두 번째로 입력했던 {}가 {}보다 더 큽니다.\".format(b,a)) \n",
    "    \n",
    "\n",
    "\n"
   ]
  }
 ],
 "metadata": {
  "kernelspec": {
   "display_name": "Python 3",
   "language": "python",
   "name": "python3"
  },
  "language_info": {
   "codemirror_mode": {
    "name": "ipython",
    "version": 3
   },
   "file_extension": ".py",
   "mimetype": "text/x-python",
   "name": "python",
   "nbconvert_exporter": "python",
   "pygments_lexer": "ipython3",
   "version": "3.11.5"
  }
 },
 "nbformat": 4,
 "nbformat_minor": 2
}
