{
 "cells": [
  {
   "cell_type": "code",
   "execution_count": 3,
   "metadata": {},
   "outputs": [],
   "source": [
    "# 동적 : 그때그때 달라요.\n",
    "# 제어 : control -> CPU (계산 : 산술, 논리, 제어)\n",
    "# 0 : False\n",
    "# 1 : True\n",
    "\n",
    "# 제어 : [조건] 과 [반복]\n",
    "# 반복 : for(~동안), 횟수가 정해져 있다. while (조건 만족시, 횟수 미정)\n",
    "# block(영역) : 어디서 부터 ~ 어디까지 (불러오기)\n",
    "\n",
    "# if True:\n",
    "# ... (아직 코딩이 끝나지 않았다.)\n",
    "# 스페이스 바 4번 치고, print(\"hi\")\n",
    "\n",
    "# >>> if True:\n",
    "# ...     print(\"hi\")\n",
    "# ... \n",
    "# hi\n",
    "# >>> if False:\n",
    "# ...     print(\"hi\")\n",
    "# ... \n",
    "# >>> \n",
    "\n",
    "# ! [느낌표] : 선언의 의미, 뒤집다, 같지 않다 의미\n",
    "# >>> 2 > 1\n",
    "# True\n",
    "# >>> 2 < 1\n",
    "# False\n",
    "# >>> 1 == 2\n",
    "# False\n",
    "# >>> 1 == 1\n",
    "# True\n",
    "# >>> 1 != 1\n",
    "# False \n",
    "# >>> 1 != 2\n",
    "# True\n",
    "\n",
    "# >>> \"a\" == \"a\"\n",
    "# True\n",
    "# >>> \"a\" == \"b\" \n",
    "# False\n",
    "# >>> \"3\" == \"3\"\n",
    "# True\n",
    "# >>> \"ㄱ\" == \"ㄱ\"\n",
    "# True\n",
    "# >>> \"가\" == \"가\"\n",
    "# True\n",
    "\n",
    "# >>> 'a' > 'b'\n",
    "# False\n",
    "# >>> 'a' < 'b'\n",
    "# True\n",
    "# >>> '가' > '나'\n",
    "# False\n",
    "# >>> '가' < '나'\n",
    "# True\n",
    "\n",
    "# 서수개념 ord\n",
    "# 문자를 asc코드값으로 출력\n",
    "\n",
    "# >>> help(ord)\n",
    "# Help on built-in function ord in module builtins:\n",
    "\n",
    "# ord(c, /)\n",
    "#     Return the Unicode code point for a one-character string.\n",
    "\n",
    "# >>> ord('a')\n",
    "# 97\n",
    "\n",
    "# 유니코드는 아스키 코드를 포함. 호환성 때문에\n",
    "# >>> ord('가')\n",
    "# 44032\n",
    "# >>> ord('나') \n",
    "# 45208\n",
    " "
   ]
  },
  {
   "cell_type": "code",
   "execution_count": 10,
   "metadata": {},
   "outputs": [
    {
     "name": "stdout",
     "output_type": "stream",
     "text": [
      "under_20 : True\n",
      "not under_20 : False\n",
      "hi1\n",
      "False\n"
     ]
    }
   ],
   "source": [
    "# >>> True and True\n",
    "# True\n",
    "# True\n",
    "# True\n",
    "# >>> False and False\n",
    "# False\n",
    "# >>> True and False\n",
    "# False\n",
    "# >>> False and True\n",
    "# False\n",
    "# >>> True or True\n",
    "# True\n",
    "# >>> False or True\n",
    "# True\n",
    "# >>> True or False\n",
    "# True\n",
    "# >>> False or False\n",
    "# False\n",
    "# >>>\n",
    "\n",
    "\n",
    "# >>> not True\n",
    "# False\n",
    "# >>> not False\n",
    "# True\n",
    "# >>> not not True\n",
    "# True\n",
    "\n",
    "\n",
    "# x = 10\n",
    "# under_20 = x < 20\n",
    "\n",
    "# print(\"under_20 :\", under_20) \n",
    "# print(\"not under_20 :\", not under_20)  \n",
    "# if x < 20 :\n",
    "#     print(\"hi1\")\n",
    "\n",
    "# bl1 = x > 20\n",
    "# print(bl1)\n",
    "\n",
    "# if bl1:\n",
    "#     print(\"hi2\")\n",
    " "
   ]
  },
  {
   "cell_type": "code",
   "execution_count": 1,
   "metadata": {},
   "outputs": [],
   "source": [
    "# if 문 2문장 이상 사용\n",
    "# >>> if True:\n",
    "# ...    print(\"hi1\")\n",
    "# ...    print(\"hi2\") \n",
    "# ... \n",
    "# hi1\n",
    "# hi2\n",
    " "
   ]
  },
  {
   "cell_type": "code",
   "execution_count": 2,
   "metadata": {},
   "outputs": [],
   "source": [
    "# module : 파이썬에서는 .py가 모듈이다. 부분, 부품\n",
    "# 문자열로 만들어졌으면, 메모장에서는 안깨진다.\n",
    "\n",
    "# 파이썬의 모든 data는 객체이다.\n",
    "# (객체=data)는 붕어빵틀에서 빠져나온 붕어빵이다.\n",
    "# class = 틀\n"
   ]
  },
  {
   "cell_type": "code",
   "execution_count": 30,
   "metadata": {},
   "outputs": [
    {
     "name": "stdout",
     "output_type": "stream",
     "text": [
      "남\n",
      "여\n",
      "남\n"
     ]
    }
   ],
   "source": [
    "if True:\n",
    "    print(\"남\")\n",
    "else :\n",
    "    print(\"여\")\n",
    "\n",
    "if False:\n",
    "    print(\"남\")\n",
    "else :\n",
    "    print(\"여\")\n",
    "    \n",
    "jumin = \"123456-1******\"\n",
    "print(\"남\" if jumin[7] == '1' or jumin[7] == '3' else \"여\")\n",
    "\n",
    " "
   ]
  },
  {
   "cell_type": "code",
   "execution_count": 32,
   "metadata": {},
   "outputs": [
    {
     "name": "stdout",
     "output_type": "stream",
     "text": [
      "True\n",
      "True\n",
      "True\n",
      "True\n",
      "False\n",
      "짜장\n"
     ]
    }
   ],
   "source": [
    "print(2 > 1)\n",
    "print(2 >= 1)\n",
    "print(2 >= 2)\n",
    "print(2 <= 2)\n",
    "print(2 <= 1)\n",
    "\n",
    "if True:\n",
    "    print(\"짜장\")\n",
    "elif True:\n",
    "    print(\"짬뽕\")\n",
    "else :\n",
    "    print(\"볶음밥\")  \n"
   ]
  },
  {
   "cell_type": "code",
   "execution_count": 39,
   "metadata": {},
   "outputs": [
    {
     "name": "stdout",
     "output_type": "stream",
     "text": [
      "짬\n"
     ]
    }
   ],
   "source": [
    "if False :\n",
    "    print(\"짜\")\n",
    "elif True:\n",
    "    print(\"짬\")\n",
    "else :\n",
    "    print(\"밥\")\n",
    "\n"
   ]
  },
  {
   "cell_type": "code",
   "execution_count": 45,
   "metadata": {},
   "outputs": [
    {
     "name": "stdout",
     "output_type": "stream",
     "text": [
      "밥\n"
     ]
    }
   ],
   "source": [
    "if False:\n",
    "    print(\"짜\")\n",
    "elif False:\n",
    "    print(\"짬\")\n",
    "else :\n",
    "    print(\"밥\")\n",
    "\n"
   ]
  },
  {
   "cell_type": "code",
   "execution_count": 65,
   "metadata": {},
   "outputs": [
    {
     "name": "stdout",
     "output_type": "stream",
     "text": [
      "C\n"
     ]
    }
   ],
   "source": [
    "# 요구사항 정의 \n",
    "# 조건의 수 : 1,2,3.~.10\n",
    "num = 7\n",
    "if 1 <= num < 4:\n",
    "    print(\"A\")\n",
    "elif 4 <= num < 7 :\n",
    "    print(\"B\")\n",
    "else :\n",
    "    print(\"C\")\n",
    "    \n",
    "\n"
   ]
  },
  {
   "cell_type": "code",
   "execution_count": 70,
   "metadata": {},
   "outputs": [
    {
     "name": "stdout",
     "output_type": "stream",
     "text": [
      "year: 2024\n",
      "month: 7\n",
      "day: 18\n",
      "------------------------------------------------------------\n",
      "2024년 7월 18일\n",
      "PM 12 hour 24 min 54 sec\n",
      "PM\n",
      "------------------------------------------------------------\n"
     ]
    }
   ],
   "source": [
    "\n",
    "# exam : output day/ time\n",
    "import datetime\n",
    " \n",
    "# datetime.py\n",
    "# @classmethod\n",
    "# def now(cls, tz=None):\n",
    "#     \"Construct a datetime from time.time() and optional time zone info.\"\n",
    "#     t = _time.time()\n",
    "#     return cls.fromtimestamp(t, tz)\n",
    "\n",
    "# print and get today/time\n",
    "now = datetime.datetime.now()  \n",
    "\n",
    "print(f\"year: {now.year}\")\n",
    "print(f\"month: {now.month}\")\n",
    "print(f\"day: {now.day}\")\n",
    "\n",
    "print(\"-\"*60)\n",
    "print(\"{}년 {}월 {}일\".format(now.year, now.month, now.day))\n",
    "print(\"{} {} hour {} min {} sec\".format(\"AM\" if now.hour < 12 else \"PM\", now.hour, datetime.datetime.now().minute, datetime.datetime.now().second))\n",
    "\n",
    "if now.hour < 12:\n",
    "    print(\"AM\")\n",
    "else :\n",
    "    print(\"PM\")\n",
    "print(\"-\"*60)\n",
    "\n"
   ]
  },
  {
   "cell_type": "code",
   "execution_count": 71,
   "metadata": {},
   "outputs": [
    {
     "name": "stdout",
     "output_type": "stream",
     "text": [
      "True and True:\n",
      "True\n",
      "\n",
      "True and False:\n",
      "False\n",
      "\n",
      "False and True:\n",
      "False\n",
      "\n",
      "False and False:\n",
      "False\n",
      "\n",
      "True or True:\n",
      "True\n",
      "\n",
      "True or False:\n",
      "True\n",
      "\n",
      "False or True:\n",
      "True\n",
      "\n",
      "False or False:\n",
      "False\n"
     ]
    }
   ],
   "source": [
    "# +-*/  : 산술 연산자\n",
    "# >, <, <=, >=, ==, != : 비교 연산자 [=관계 연산자]\n",
    "# and, or, not : 논리 연산자\n",
    "# 산과논으로 기억하라.\n",
    "\n",
    "num1 = 1\n",
    "num2 = 2\n",
    "num3 = 3\n",
    "num4 = 4\n",
    "\n",
    "# num1 >= num2\n",
    "# num1 >= num2 and num1 >= num3\n",
    "# num1 < num2 and num1 >= num3\n",
    "\n",
    "print(\"True and True:\")\n",
    "print(num1 < num2 and num1 < num4)\n",
    "print()\n",
    "print(\"True and False:\")\n",
    "print(num1 < num2 and num1 > num4)\n",
    "print()\n",
    "print(\"False and True:\")\n",
    "print(num1 > num3 and num1 < num4)\n",
    "print()\n",
    "print(\"False and False:\")\n",
    "print(num1 > num3 and num1 > num4)\n",
    "print()\n",
    "print(\"True or True:\")\n",
    "print(num1 < num2 or num1 < num4)\n",
    "print()\n",
    "print(\"True or False:\")\n",
    "print(num1 < num2 or num1 > num4)\n",
    "print()\n",
    "print(\"False or True:\")\n",
    "print(num1 > num3 or num1 < num4)\n",
    "print()\n",
    "print(\"False or False:\")\n",
    "print(num1 > num3 or num1 > num4)  \n",
    " "
   ]
  },
  {
   "cell_type": "code",
   "execution_count": 74,
   "metadata": {},
   "outputs": [
    {
     "name": "stdout",
     "output_type": "stream",
     "text": [
      "Season : Summer\n"
     ]
    }
   ],
   "source": [
    "# 봄 Spring : 3,4,5\n",
    "# 여름 Summer: 6,7,8\n",
    "# 가을 Autumn (Fall): 9,10,11\n",
    "# 겨울 Winter: 12,1,2\n",
    "import datetime\n",
    "\n",
    "now = datetime.datetime.now()  \n",
    "mon = now.month\n",
    "result = \"Season :\"\n",
    "if 3 <= mon < 6 :\n",
    "    print(result, \"Spring\")\n",
    "elif 6 <= mon < 9:\n",
    "    print(result, \"Summer\")\n",
    "elif 9 <= mon < 12:\n",
    "    print(result, \"Autumn (Fall)\")\n",
    "elif 1 <= mon < 3 or mon == 12:\n",
    "    print(result, \"Winter\")\n",
    "    "
   ]
  },
  {
   "cell_type": "code",
   "execution_count": 89,
   "metadata": {},
   "outputs": [
    {
     "name": "stdout",
     "output_type": "stream",
     "text": [
      "Season : Winter\n"
     ]
    }
   ],
   "source": [
    "\n",
    "mon = int(input(\"현재 몇 월인가?:\"))\n",
    "result = \"Season :\"\n",
    "if 3 <= mon < 6 :\n",
    "    print(result, \"Spring\")\n",
    "elif 6 <= mon < 9:\n",
    "    print(result, \"Summer\")\n",
    "elif 9 <= mon < 12:\n",
    "    print(result, \"Autumn (Fall)\")\n",
    "elif 1 <= mon < 3 or mon == 12:\n",
    "    print(result, \"Winter\")\n",
    "\n"
   ]
  },
  {
   "cell_type": "code",
   "execution_count": 91,
   "metadata": {},
   "outputs": [
    {
     "name": "stdout",
     "output_type": "stream",
     "text": [
      "입력값 2은 짝수(even) 입니다.\n"
     ]
    }
   ],
   "source": [
    "# 자연수 (1,2,3....)\n",
    "# 홀수 (1,3,5,7....)\n",
    "# 짝수 (2,4,6....)\n",
    "\n",
    "# 2로 나누어서 나머지가 0 이면 짝수\n",
    "# 2로 나누어서 나머지가 0 아니면 홀수\n",
    "\n",
    "num1 = round(float(input(\"숫자 값을 입력하시오 (소수점 라운드처리):\")))\n",
    "if num1 < 1 :\n",
    "    print(\"자연수를 입력하시오.\")\n",
    "else :    \n",
    "    result = \"짝수(even)\" if num1%2 == 0 else \"홀수(odd)\"\n",
    "    print(f\"입력값 {num1}은\", result, \"입니다.\")\n"
   ]
  }
 ],
 "metadata": {
  "kernelspec": {
   "display_name": "Python 3",
   "language": "python",
   "name": "python3"
  },
  "language_info": {
   "codemirror_mode": {
    "name": "ipython",
    "version": 3
   },
   "file_extension": ".py",
   "mimetype": "text/x-python",
   "name": "python",
   "nbconvert_exporter": "python",
   "pygments_lexer": "ipython3",
   "version": "3.11.5"
  }
 },
 "nbformat": 4,
 "nbformat_minor": 2
}
