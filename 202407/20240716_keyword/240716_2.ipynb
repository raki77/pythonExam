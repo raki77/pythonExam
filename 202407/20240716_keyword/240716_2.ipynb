{
 "cells": [
  {
   "cell_type": "code",
   "execution_count": 4,
   "metadata": {},
   "outputs": [
    {
     "name": "stdout",
     "output_type": "stream",
     "text": [
      "3.3333333333333335\n",
      "13\n",
      "0.25\n"
     ]
    }
   ],
   "source": [
    "# 정수형\n",
    "#     소수점이 없는 숫자\n",
    "#     0, 1, 273, -52\n",
    "#     정수 (integer)\n",
    "\n",
    "# 실수형\n",
    "#     소수점이 있는 숫자\n",
    "#     0.0, 52.273, -1.2\n",
    "#     실수 (floating point, 부동 소수점)\n",
    "\n",
    "print(10/3) \n",
    "# 3.3333333333333335\n",
    "\n",
    "print(1 + 3*4)\n",
    "print(1 - 3/4)\n",
    " \n",
    "\n",
    "# 수학 지수의 정의 : 가르킬 지, exponent\n",
    "# >>> math.e  \n",
    "# e : 자연상수 발견, 오일러의 이름에서 'e' 명명\n",
    "# 2.718281828459045\n",
    "# >>> 2.73*10**2\n",
    "# 273.0\n",
    "# >>> 2.73e2\n",
    "# 273.0\n",
    "\n",
    "\n",
    "# >>> type(2.73e2)\n",
    "# <class 'float'>\n",
    "# >>> type(1e1)\n",
    "# <class 'float'>\n",
    "\n"
   ]
  },
  {
   "cell_type": "code",
   "execution_count": 5,
   "metadata": {},
   "outputs": [],
   "source": [
    "# 마무리 확인 문제 (제출답안)\n",
    "\n",
    "# int\n",
    "# float\n",
    "# x+y\n",
    "# x-y\n",
    "# x*y\n",
    "# x/y\n",
    "# int(x/y)\n",
    "# x%2\n",
    "# x**2\n",
    "\n",
    "# # 기본적인 연산\n",
    "# 15 + 4 = 19\n",
    "# 15 - 4 = 11\n",
    "# 15 * 4 = 60\n",
    "# 15 / 4 = 3.75\n",
    "\n",
    "# 3462//17\n",
    "# 3462%17\n",
    "\n",
    "# print(2+2-2*2/2*2)  # / 나눗셈 들어가는 순간 결과는 float로 변경\n",
    "# 0.0 \n",
    "# print(2-2+2/2*2+2)\n",
    "# 4.0\n"
   ]
  }
 ],
 "metadata": {
  "kernelspec": {
   "display_name": "Python 3",
   "language": "python",
   "name": "python3"
  },
  "language_info": {
   "codemirror_mode": {
    "name": "ipython",
    "version": 3
   },
   "file_extension": ".py",
   "mimetype": "text/x-python",
   "name": "python",
   "nbconvert_exporter": "python",
   "pygments_lexer": "ipython3",
   "version": "3.11.5"
  }
 },
 "nbformat": 4,
 "nbformat_minor": 2
}
