{
 "cells": [
  {
   "cell_type": "code",
   "execution_count": 3,
   "id": "fab85d80-17e8-460e-bcb6-41c16198aa84",
   "metadata": {},
   "outputs": [],
   "source": [
    "secret_number = 37"
   ]
  },
  {
   "cell_type": "code",
   "execution_count": 22,
   "id": "389f1222-e947-4382-93ee-5e65ae038704",
   "metadata": {},
   "outputs": [
    {
     "name": "stdout",
     "output_type": "stream",
     "text": [
      "input num: 5\n"
     ]
    }
   ],
   "source": [
    "# guess_number = int(input(\"input num:\"))"
   ]
  },
  {
   "cell_type": "code",
   "execution_count": 10,
   "id": "f69a596a-2b8d-44ea-bddd-097fc002a5f0",
   "metadata": {},
   "outputs": [
    {
     "data": {
      "text/plain": [
       "2232"
      ]
     },
     "execution_count": 10,
     "metadata": {},
     "output_type": "execute_result"
    }
   ],
   "source": [
    "# guess_number"
   ]
  },
  {
   "cell_type": "code",
   "execution_count": 26,
   "id": "8fe6dba6-59e1-48b2-af2c-65678c2967e3",
   "metadata": {},
   "outputs": [
    {
     "name": "stdout",
     "output_type": "stream",
     "text": [
      "당신이 입력한 숫자는 비밀의 키보다 작습니다.\n"
     ]
    }
   ],
   "source": [
    "# if secret_number > guess_number:\n",
    "#     print(\"당신이 입력한 숫자는 비밀의 키보다 작습니다.\")\n",
    "# elif secret_number < guess_number:\n",
    "#     print(\"당신이 입력한 숫자는 비밀의 키보다 큽니다.\")\n",
    "# else:\n",
    "#     print(\"정답입니다.\")"
   ]
  },
  {
   "cell_type": "code",
   "execution_count": 5,
   "id": "0e3752ba-69fd-45d7-b09a-d18a6afbdf4f",
   "metadata": {},
   "outputs": [
    {
     "name": "stdout",
     "output_type": "stream",
     "text": [
      "input num (1-100): 3434\n"
     ]
    },
    {
     "name": "stdout",
     "output_type": "stream",
     "text": [
      "당신이 입력한 숫자는 비밀의 키보다 큽니다.\n"
     ]
    },
    {
     "name": "stdout",
     "output_type": "stream",
     "text": [
      "input num (1-100): 37\n"
     ]
    },
    {
     "name": "stdout",
     "output_type": "stream",
     "text": [
      "정답입니다.\n",
      "게임 끝\n"
     ]
    }
   ],
   "source": [
    "secret_number = 37\n",
    "i=1\n",
    "while i<=10:\n",
    "    guess_number = int(input(\"input num (1-100):\"))\n",
    "    if secret_number > guess_number:\n",
    "        print(\"당신이 입력한 숫자는 비밀의 키보다 작습니다.\")\n",
    "    elif secret_number < guess_number:\n",
    "        print(\"당신이 입력한 숫자는 비밀의 키보다 큽니다.\")\n",
    "    else:\n",
    "        print(\"정답입니다.\")\n",
    "        break\n",
    "    i+=1\n",
    "print(\"게임 끝\")"
   ]
  },
  {
   "cell_type": "code",
   "execution_count": 9,
   "id": "12d6973f-c87d-4ce9-8031-79527dabe89c",
   "metadata": {},
   "outputs": [],
   "source": [
    "import random"
   ]
  },
  {
   "cell_type": "code",
   "execution_count": 14,
   "id": "e6c9b448-fa7e-4998-ba6b-f05f67faa28b",
   "metadata": {},
   "outputs": [
    {
     "name": "stdout",
     "output_type": "stream",
     "text": [
      "input num (1-100): 4\n"
     ]
    },
    {
     "name": "stdout",
     "output_type": "stream",
     "text": [
      "당신이 입력한 숫자는 비밀의 키보다 작습니다.\n"
     ]
    },
    {
     "name": "stdout",
     "output_type": "stream",
     "text": [
      "input num (1-100): 212312\n"
     ]
    },
    {
     "name": "stdout",
     "output_type": "stream",
     "text": [
      "당신이 입력한 숫자는 비밀의 키보다 큽니다.\n"
     ]
    },
    {
     "name": "stdout",
     "output_type": "stream",
     "text": [
      "input num (1-100): 21\n"
     ]
    },
    {
     "name": "stdout",
     "output_type": "stream",
     "text": [
      "당신이 입력한 숫자는 비밀의 키보다 작습니다.\n"
     ]
    },
    {
     "name": "stdout",
     "output_type": "stream",
     "text": [
      "input num (1-100): 34\n"
     ]
    },
    {
     "name": "stdout",
     "output_type": "stream",
     "text": [
      "당신이 입력한 숫자는 비밀의 키보다 작습니다.\n"
     ]
    },
    {
     "name": "stdout",
     "output_type": "stream",
     "text": [
      "input num (1-100): 4\n"
     ]
    },
    {
     "name": "stdout",
     "output_type": "stream",
     "text": [
      "당신이 입력한 숫자는 비밀의 키보다 작습니다.\n"
     ]
    },
    {
     "name": "stdout",
     "output_type": "stream",
     "text": [
      "input num (1-100): 4\n"
     ]
    },
    {
     "name": "stdout",
     "output_type": "stream",
     "text": [
      "당신이 입력한 숫자는 비밀의 키보다 작습니다.\n"
     ]
    },
    {
     "name": "stdout",
     "output_type": "stream",
     "text": [
      "input num (1-100): 4\n"
     ]
    },
    {
     "name": "stdout",
     "output_type": "stream",
     "text": [
      "당신이 입력한 숫자는 비밀의 키보다 작습니다.\n"
     ]
    },
    {
     "name": "stdout",
     "output_type": "stream",
     "text": [
      "input num (1-100): 4\n"
     ]
    },
    {
     "name": "stdout",
     "output_type": "stream",
     "text": [
      "당신이 입력한 숫자는 비밀의 키보다 작습니다.\n"
     ]
    },
    {
     "name": "stdout",
     "output_type": "stream",
     "text": [
      "input num (1-100): 4\n"
     ]
    },
    {
     "name": "stdout",
     "output_type": "stream",
     "text": [
      "당신이 입력한 숫자는 비밀의 키보다 작습니다.\n"
     ]
    },
    {
     "name": "stdout",
     "output_type": "stream",
     "text": [
      "input num (1-100): 44\n"
     ]
    },
    {
     "name": "stdout",
     "output_type": "stream",
     "text": [
      "당신이 입력한 숫자는 비밀의 키보다 작습니다.\n",
      "게임 끝\n"
     ]
    }
   ],
   "source": [
    "secret_number = random.randint(1, 100)\n",
    "i=1\n",
    "while i<=10:\n",
    "    guess_number = int(input(\"input num (1-100):\"))\n",
    "    if secret_number > guess_number:\n",
    "        print(\"당신이 입력한 숫자는 비밀의 키보다 작습니다.\")\n",
    "    elif secret_number < guess_number:\n",
    "        print(\"당신이 입력한 숫자는 비밀의 키보다 큽니다.\")\n",
    "    else:\n",
    "        print(\"정답입니다.\")\n",
    "        break\n",
    "    i+=1\n",
    "print(\"게임 끝\")"
   ]
  },
  {
   "cell_type": "code",
   "execution_count": 18,
   "id": "d1b0ded6-861a-439b-a45f-6e5b0134d833",
   "metadata": {},
   "outputs": [],
   "source": [
    "li = [1,2,3,4,1,2,3,1,4,1,2,3]"
   ]
  },
  {
   "cell_type": "code",
   "execution_count": 20,
   "id": "c2f5d645-f4ad-409e-945a-90f927d56199",
   "metadata": {},
   "outputs": [],
   "source": [
    "#갯수 구하는 문제"
   ]
  },
  {
   "cell_type": "code",
   "execution_count": 34,
   "id": "6fd1a91a-0c3f-478a-b2d7-1f57746b5482",
   "metadata": {},
   "outputs": [],
   "source": [
    "cnt = {}"
   ]
  },
  {
   "cell_type": "code",
   "execution_count": 24,
   "id": "41bb1fb6-be32-4774-ac2c-944da89e5647",
   "metadata": {},
   "outputs": [],
   "source": [
    "# cnt[키] = cnt[키] +1 "
   ]
  },
  {
   "cell_type": "code",
   "execution_count": 26,
   "id": "f485ab4f-0e94-4491-8ae7-6167f52d85d0",
   "metadata": {},
   "outputs": [],
   "source": [
    "# 있냐,없냐라는 판단\n",
    "# 1 in li"
   ]
  },
  {
   "cell_type": "code",
   "execution_count": 30,
   "id": "3ae968ec-807c-4208-b4cf-d6146edbd7fa",
   "metadata": {},
   "outputs": [
    {
     "data": {
      "text/plain": [
       "True"
      ]
     },
     "execution_count": 30,
     "metadata": {},
     "output_type": "execute_result"
    }
   ],
   "source": [
    "1 in li"
   ]
  },
  {
   "cell_type": "code",
   "execution_count": 68,
   "id": "340116ae-c416-410e-b71d-2f83eaff9cf6",
   "metadata": {},
   "outputs": [
    {
     "data": {
      "text/plain": [
       "{1: 20, 2: 15, 3: 15, 4: 10}"
      ]
     },
     "execution_count": 68,
     "metadata": {},
     "output_type": "execute_result"
    }
   ],
   "source": [
    "for i in li:\n",
    "    if i in cnt:\n",
    "        cnt[i] = cnt[i]+1\n",
    "    else :\n",
    "        cnt[i] = 1\n",
    "cnt"
   ]
  },
  {
   "cell_type": "code",
   "execution_count": 70,
   "id": "dc723094-57df-45f3-97a6-c9bed5eac829",
   "metadata": {},
   "outputs": [
    {
     "data": {
      "text/plain": [
       "4"
      ]
     },
     "execution_count": 70,
     "metadata": {},
     "output_type": "execute_result"
    }
   ],
   "source": [
    "len(cnt)"
   ]
  },
  {
   "cell_type": "code",
   "execution_count": 52,
   "id": "2b269ea5-fbaf-43db-9445-4d83f72aa9e3",
   "metadata": {},
   "outputs": [
    {
     "data": {
      "text/plain": [
       "dict"
      ]
     },
     "execution_count": 52,
     "metadata": {},
     "output_type": "execute_result"
    }
   ],
   "source": [
    "type({})"
   ]
  },
  {
   "cell_type": "code",
   "execution_count": 56,
   "id": "9a9282cf-b3a6-4204-ae4d-b51cbe91333b",
   "metadata": {},
   "outputs": [],
   "source": [
    "di={'a': 'apple'}"
   ]
  },
  {
   "cell_type": "code",
   "execution_count": 60,
   "id": "d5232f64-01de-436d-b068-cbf52b36b7ab",
   "metadata": {},
   "outputs": [],
   "source": [
    "di['b'] = 'banana'"
   ]
  },
  {
   "cell_type": "code",
   "execution_count": 64,
   "id": "e9f03b12-1d3b-45f2-9fa6-d909beae6f51",
   "metadata": {},
   "outputs": [
    {
     "data": {
      "text/plain": [
       "{'a': 'apple', 'b': 'banana'}"
      ]
     },
     "execution_count": 64,
     "metadata": {},
     "output_type": "execute_result"
    }
   ],
   "source": [
    "di"
   ]
  },
  {
   "cell_type": "code",
   "execution_count": null,
   "id": "43be8088-6469-412a-a698-6be9e29d2991",
   "metadata": {},
   "outputs": [],
   "source": [
    "# 간결한 코드"
   ]
  },
  {
   "cell_type": "code",
   "execution_count": 72,
   "id": "28df7183-cd44-4937-8485-913b657f68d7",
   "metadata": {},
   "outputs": [
    {
     "data": {
      "text/plain": [
       "[1, 2, 3, 4, 1, 2, 3, 1, 4, 1, 2, 3]"
      ]
     },
     "execution_count": 72,
     "metadata": {},
     "output_type": "execute_result"
    }
   ],
   "source": [
    "li"
   ]
  },
  {
   "cell_type": "code",
   "execution_count": null,
   "id": "fbc92ae9-5dad-4abb-a698-9e38f4f15834",
   "metadata": {},
   "outputs": [],
   "source": [
    "# set : 집합이라는 뜻, 순서가 없다. 중복이 되지 않게 한다."
   ]
  },
  {
   "cell_type": "code",
   "execution_count": 76,
   "id": "0e584059-1bde-4dc9-b011-b630d1e98718",
   "metadata": {},
   "outputs": [
    {
     "name": "stdout",
     "output_type": "stream",
     "text": [
      "Help on class set in module builtins:\n",
      "\n",
      "class set(object)\n",
      " |  set() -> new empty set object\n",
      " |  set(iterable) -> new set object\n",
      " |\n",
      " |  Build an unordered collection of unique elements.\n",
      " |\n",
      " |  Methods defined here:\n",
      " |\n",
      " |  __and__(self, value, /)\n",
      " |      Return self&value.\n",
      " |\n",
      " |  __contains__(...)\n",
      " |      x.__contains__(y) <==> y in x.\n",
      " |\n",
      " |  __eq__(self, value, /)\n",
      " |      Return self==value.\n",
      " |\n",
      " |  __ge__(self, value, /)\n",
      " |      Return self>=value.\n",
      " |\n",
      " |  __getattribute__(self, name, /)\n",
      " |      Return getattr(self, name).\n",
      " |\n",
      " |  __gt__(self, value, /)\n",
      " |      Return self>value.\n",
      " |\n",
      " |  __iand__(self, value, /)\n",
      " |      Return self&=value.\n",
      " |\n",
      " |  __init__(self, /, *args, **kwargs)\n",
      " |      Initialize self.  See help(type(self)) for accurate signature.\n",
      " |\n",
      " |  __ior__(self, value, /)\n",
      " |      Return self|=value.\n",
      " |\n",
      " |  __isub__(self, value, /)\n",
      " |      Return self-=value.\n",
      " |\n",
      " |  __iter__(self, /)\n",
      " |      Implement iter(self).\n",
      " |\n",
      " |  __ixor__(self, value, /)\n",
      " |      Return self^=value.\n",
      " |\n",
      " |  __le__(self, value, /)\n",
      " |      Return self<=value.\n",
      " |\n",
      " |  __len__(self, /)\n",
      " |      Return len(self).\n",
      " |\n",
      " |  __lt__(self, value, /)\n",
      " |      Return self<value.\n",
      " |\n",
      " |  __ne__(self, value, /)\n",
      " |      Return self!=value.\n",
      " |\n",
      " |  __or__(self, value, /)\n",
      " |      Return self|value.\n",
      " |\n",
      " |  __rand__(self, value, /)\n",
      " |      Return value&self.\n",
      " |\n",
      " |  __reduce__(...)\n",
      " |      Return state information for pickling.\n",
      " |\n",
      " |  __repr__(self, /)\n",
      " |      Return repr(self).\n",
      " |\n",
      " |  __ror__(self, value, /)\n",
      " |      Return value|self.\n",
      " |\n",
      " |  __rsub__(self, value, /)\n",
      " |      Return value-self.\n",
      " |\n",
      " |  __rxor__(self, value, /)\n",
      " |      Return value^self.\n",
      " |\n",
      " |  __sizeof__(...)\n",
      " |      S.__sizeof__() -> size of S in memory, in bytes\n",
      " |\n",
      " |  __sub__(self, value, /)\n",
      " |      Return self-value.\n",
      " |\n",
      " |  __xor__(self, value, /)\n",
      " |      Return self^value.\n",
      " |\n",
      " |  add(...)\n",
      " |      Add an element to a set.\n",
      " |\n",
      " |      This has no effect if the element is already present.\n",
      " |\n",
      " |  clear(...)\n",
      " |      Remove all elements from this set.\n",
      " |\n",
      " |  copy(...)\n",
      " |      Return a shallow copy of a set.\n",
      " |\n",
      " |  difference(...)\n",
      " |      Return the difference of two or more sets as a new set.\n",
      " |\n",
      " |      (i.e. all elements that are in this set but not the others.)\n",
      " |\n",
      " |  difference_update(...)\n",
      " |      Remove all elements of another set from this set.\n",
      " |\n",
      " |  discard(...)\n",
      " |      Remove an element from a set if it is a member.\n",
      " |\n",
      " |      Unlike set.remove(), the discard() method does not raise\n",
      " |      an exception when an element is missing from the set.\n",
      " |\n",
      " |  intersection(...)\n",
      " |      Return the intersection of two sets as a new set.\n",
      " |\n",
      " |      (i.e. all elements that are in both sets.)\n",
      " |\n",
      " |  intersection_update(...)\n",
      " |      Update a set with the intersection of itself and another.\n",
      " |\n",
      " |  isdisjoint(...)\n",
      " |      Return True if two sets have a null intersection.\n",
      " |\n",
      " |  issubset(self, other, /)\n",
      " |      Test whether every element in the set is in other.\n",
      " |\n",
      " |  issuperset(self, other, /)\n",
      " |      Test whether every element in other is in the set.\n",
      " |\n",
      " |  pop(...)\n",
      " |      Remove and return an arbitrary set element.\n",
      " |      Raises KeyError if the set is empty.\n",
      " |\n",
      " |  remove(...)\n",
      " |      Remove an element from a set; it must be a member.\n",
      " |\n",
      " |      If the element is not a member, raise a KeyError.\n",
      " |\n",
      " |  symmetric_difference(...)\n",
      " |      Return the symmetric difference of two sets as a new set.\n",
      " |\n",
      " |      (i.e. all elements that are in exactly one of the sets.)\n",
      " |\n",
      " |  symmetric_difference_update(...)\n",
      " |      Update a set with the symmetric difference of itself and another.\n",
      " |\n",
      " |  union(...)\n",
      " |      Return the union of sets as a new set.\n",
      " |\n",
      " |      (i.e. all elements that are in either set.)\n",
      " |\n",
      " |  update(...)\n",
      " |      Update a set with the union of itself and others.\n",
      " |\n",
      " |  ----------------------------------------------------------------------\n",
      " |  Class methods defined here:\n",
      " |\n",
      " |  __class_getitem__(...)\n",
      " |      See PEP 585\n",
      " |\n",
      " |  ----------------------------------------------------------------------\n",
      " |  Static methods defined here:\n",
      " |\n",
      " |  __new__(*args, **kwargs)\n",
      " |      Create and return a new object.  See help(type) for accurate signature.\n",
      " |\n",
      " |  ----------------------------------------------------------------------\n",
      " |  Data and other attributes defined here:\n",
      " |\n",
      " |  __hash__ = None\n",
      "\n"
     ]
    }
   ],
   "source": [
    "help(set)"
   ]
  },
  {
   "cell_type": "code",
   "execution_count": 80,
   "id": "8e2d8eef-6ba0-4b3c-843b-65aba50a7ed0",
   "metadata": {},
   "outputs": [
    {
     "data": {
      "text/plain": [
       "{1, 2, 3, 4}"
      ]
     },
     "execution_count": 80,
     "metadata": {},
     "output_type": "execute_result"
    }
   ],
   "source": [
    "set(li)"
   ]
  },
  {
   "cell_type": "code",
   "execution_count": 84,
   "id": "5448d9a0-f39b-4abf-8b89-9367ffea54cb",
   "metadata": {},
   "outputs": [
    {
     "data": {
      "text/plain": [
       "{'apple', 'banana'}"
      ]
     },
     "execution_count": 84,
     "metadata": {},
     "output_type": "execute_result"
    }
   ],
   "source": [
    "set(['apple', 'apple', 'banana'])"
   ]
  },
  {
   "cell_type": "code",
   "execution_count": 88,
   "id": "f1abaf24-8cb1-4f37-934f-11213e0ef15c",
   "metadata": {},
   "outputs": [
    {
     "data": {
      "text/plain": [
       "4"
      ]
     },
     "execution_count": 88,
     "metadata": {},
     "output_type": "execute_result"
    }
   ],
   "source": [
    "len(set(li))"
   ]
  },
  {
   "cell_type": "code",
   "execution_count": 92,
   "id": "880f6ae8-d8e7-491f-9374-13e0e8a01da8",
   "metadata": {},
   "outputs": [
    {
     "name": "stdout",
     "output_type": "stream",
     "text": [
      "[1, 2, 3, 4, 1, 2, 3, 1, 4, 1, 2, 3]\n"
     ]
    }
   ],
   "source": [
    "print(li)"
   ]
  },
  {
   "cell_type": "code",
   "execution_count": 96,
   "id": "fe78cb42-dd25-4205-85f2-dc0a2ae99939",
   "metadata": {},
   "outputs": [
    {
     "name": "stdout",
     "output_type": "stream",
     "text": [
      "[1, 2, 3, 4, 1, 2, 3, 1, 4, 1, 2, 3]\n"
     ]
    }
   ],
   "source": [
    "print(f\"{li}\")"
   ]
  },
  {
   "cell_type": "code",
   "execution_count": 100,
   "id": "3de9fa34-3e49-4868-8d54-4c24013b29f7",
   "metadata": {},
   "outputs": [
    {
     "name": "stdout",
     "output_type": "stream",
     "text": [
      "[1, 2, 3, 4, 1, 2, 3, 1, 4, 1, 2, 3]에서 사용된 숫자의 종류는 4 개 입니다.\n"
     ]
    }
   ],
   "source": [
    "print(f\"{li}에서 사용된 숫자의 종류는 {len(set(li))} 개 입니다.\")"
   ]
  },
  {
   "cell_type": "code",
   "execution_count": 104,
   "id": "578b030b-3fa6-4304-a8e2-629822a61b7b",
   "metadata": {},
   "outputs": [],
   "source": [
    "li2 = ['apple', 'apple', 'banana']"
   ]
  },
  {
   "cell_type": "code",
   "execution_count": 108,
   "id": "67ce157f-8fbb-4842-9b12-97d828051250",
   "metadata": {},
   "outputs": [
    {
     "name": "stdout",
     "output_type": "stream",
     "text": [
      "['apple', 'apple', 'banana']에서 사용된 중복된 단어 제거 후 사용된 단어의 갯수는 4 개 입니다.\n"
     ]
    }
   ],
   "source": [
    "print(f\"{li2}에서 사용된 중복된 단어 제거 후 사용된 단어의 갯수는 {len(set(li))} 개 입니다.\")"
   ]
  },
  {
   "cell_type": "code",
   "execution_count": 118,
   "id": "3aae688f-d5d5-487c-bcba-b605bda7b25f",
   "metadata": {
    "scrolled": true
   },
   "outputs": [
    {
     "name": "stdout",
     "output_type": "stream",
     "text": [
      "염기 서열을 입력해주세요. ctacaatgtcagtatacccattgcattagccgg\n"
     ]
    }
   ],
   "source": [
    "#ctacaatgtcagtatacccattgcattagccgg\n",
    "st1 = input(\"염기 서열을 입력해주세요.\")\n",
    "cnt = {}\n",
    "for i in st1:  \n",
    "    if i in cnt:\n",
    "        cnt[i] += 1\n",
    "    else :\n",
    "        cnt[i] = 1"
   ]
  },
  {
   "cell_type": "code",
   "execution_count": 122,
   "id": "cbe3f27c-0b0e-44eb-bba7-b6e7d8f53b6a",
   "metadata": {},
   "outputs": [
    {
     "data": {
      "text/plain": [
       "{'c': 9, 't': 9, 'a': 9, 'g': 6}"
      ]
     },
     "execution_count": 122,
     "metadata": {},
     "output_type": "execute_result"
    }
   ],
   "source": [
    "cnt"
   ]
  },
  {
   "cell_type": "code",
   "execution_count": 124,
   "id": "47365e2d-56b4-4220-94eb-66f91333b7a9",
   "metadata": {},
   "outputs": [],
   "source": [
    "# 도전문제\n",
    "dna = \"ctacaatgtcagtatacccattgcattagccgg\""
   ]
  },
  {
   "cell_type": "code",
   "execution_count": 132,
   "id": "21d89586-f1e1-49de-9732-a10d941480e4",
   "metadata": {},
   "outputs": [
    {
     "name": "stdout",
     "output_type": "stream",
     "text": [
      "c t a c a a t g t c a g t a t a c c c a t t g c a t t a g c c g g "
     ]
    }
   ],
   "source": [
    "for i in range(0, len(dna)):\n",
    "    print(dna[i], end=' ')"
   ]
  },
  {
   "cell_type": "code",
   "execution_count": 134,
   "id": "f6504ced-9424-45aa-9302-fd8555f59091",
   "metadata": {},
   "outputs": [
    {
     "name": "stdout",
     "output_type": "stream",
     "text": [
      "염기 서열을 입력해 주세요: ctacaatgtcagtatacccattgcattagccgg\n"
     ]
    },
    {
     "name": "stdout",
     "output_type": "stream",
     "text": [
      "{'cta': 1, 'caa': 1, 'tgt': 1, 'cag': 1, 'tat': 1, 'acc': 1, 'cat': 1, 'tgc': 1, 'att': 1, 'agc': 1, 'cgg': 1}\n"
     ]
    }
   ],
   "source": [
    "dna=input(\"염기 서열을 입력해 주세요:\")\n",
    "cnt={}\n",
    "for i in range(0, len(dna), 3):\n",
    "    codon = dna[i:i+3]\n",
    "    if len(codon) == 3:\n",
    "        if codon in cnt:\n",
    "            cnt[codon] = cnt[codon]+1 \n",
    "        else :\n",
    "            cnt[codon] = 1        \n",
    "print(cnt)"
   ]
  },
  {
   "cell_type": "code",
   "execution_count": null,
   "id": "879c95d5-7aa2-49dc-85df-00f9d3687b69",
   "metadata": {},
   "outputs": [],
   "source": []
  }
 ],
 "metadata": {
  "kernelspec": {
   "display_name": "Python 3 (ipykernel)",
   "language": "python",
   "name": "python3"
  },
  "language_info": {
   "codemirror_mode": {
    "name": "ipython",
    "version": 3
   },
   "file_extension": ".py",
   "mimetype": "text/x-python",
   "name": "python",
   "nbconvert_exporter": "python",
   "pygments_lexer": "ipython3",
   "version": "3.12.4"
  }
 },
 "nbformat": 4,
 "nbformat_minor": 5
}
