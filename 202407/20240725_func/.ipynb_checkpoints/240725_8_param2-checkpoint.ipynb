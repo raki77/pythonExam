{
 "cells": [
  {
   "cell_type": "code",
   "execution_count": 16,
   "id": "c74f11c3-ad74-44d7-b7a3-8b1954a2d0a1",
   "metadata": {},
   "outputs": [],
   "source": [
    "def dinnerMenu(menu=\"밥\"):    \n",
    "    print(\"menu:\" , menu)"
   ]
  },
  {
   "cell_type": "code",
   "execution_count": 18,
   "id": "f55b7c5d-9bbb-4269-a1e4-c523ef72c98b",
   "metadata": {},
   "outputs": [
    {
     "name": "stdout",
     "output_type": "stream",
     "text": [
      "menu: 스파게티\n"
     ]
    }
   ],
   "source": [
    "dinnerMenu(\"스파게티\")"
   ]
  }
 ],
 "metadata": {
  "kernelspec": {
   "display_name": "Python 3 (ipykernel)",
   "language": "python",
   "name": "python3"
  },
  "language_info": {
   "codemirror_mode": {
    "name": "ipython",
    "version": 3
   },
   "file_extension": ".py",
   "mimetype": "text/x-python",
   "name": "python",
   "nbconvert_exporter": "python",
   "pygments_lexer": "ipython3",
   "version": "3.12.4"
  }
 },
 "nbformat": 4,
 "nbformat_minor": 5
}
