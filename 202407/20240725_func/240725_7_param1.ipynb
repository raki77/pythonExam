{
 "cells": [
  {
   "cell_type": "code",
   "execution_count": 4,
   "id": "dfa580bc-00e0-4eec-aefe-98f2c6dbdf50",
   "metadata": {},
   "outputs": [],
   "source": [
    "\n",
    "#누적합 (가변 파라미터)\n",
    "def fSum(*prm1):\n",
    "     tot = 0\n",
    "     for i in prm1:\n",
    "         tot += i\n",
    "     return tot\n"
   ]
  },
  {
   "cell_type": "code",
   "execution_count": 8,
   "id": "3b475cbe-c88f-4d7c-b279-26a90c41872b",
   "metadata": {},
   "outputs": [],
   "source": [
    "result = fSum(1, 2, 4, 5, 6)"
   ]
  },
  {
   "cell_type": "code",
   "execution_count": 14,
   "id": "9251ded2-b7b0-47b5-a2e8-49f50b0a5f0a",
   "metadata": {},
   "outputs": [
    {
     "name": "stdout",
     "output_type": "stream",
     "text": [
      "sum:  18\n"
     ]
    }
   ],
   "source": [
    "print(\"sum: \", result)"
   ]
  },
  {
   "cell_type": "code",
   "execution_count": 26,
   "id": "dfaf6676-302a-47bb-a87d-159b979f0e14",
   "metadata": {},
   "outputs": [
    {
     "name": "stdout",
     "output_type": "stream",
     "text": [
      "hi nice\n"
     ]
    }
   ],
   "source": [
    "print(\"hi\", \"nice\")"
   ]
  },
  {
   "cell_type": "code",
   "execution_count": 30,
   "id": "2e485e93-6c38-4f1a-9223-9fb96de2d9ba",
   "metadata": {},
   "outputs": [
    {
     "name": "stdout",
     "output_type": "stream",
     "text": [
      "Help on built-in function print in module builtins:\n",
      "\n",
      "print(*args, sep=' ', end='\\n', file=None, flush=False)\n",
      "    Prints the values to a stream, or to sys.stdout by default.\n",
      "\n",
      "    sep\n",
      "      string inserted between values, default a space.\n",
      "    end\n",
      "      string appended after the last value, default a newline.\n",
      "    file\n",
      "      a file-like object (stream); defaults to the current sys.stdout.\n",
      "    flush\n",
      "      whether to forcibly flush the stream.\n",
      "\n"
     ]
    }
   ],
   "source": [
    "help(print)"
   ]
  },
  {
   "cell_type": "code",
   "execution_count": 34,
   "id": "51ed4f56-ebe0-4d1d-8e92-6f6f972201a7",
   "metadata": {},
   "outputs": [
    {
     "name": "stdout",
     "output_type": "stream",
     "text": [
      "hi/nice\n"
     ]
    }
   ],
   "source": [
    "print(\"hi\", \"nice\", sep=\"/\")"
   ]
  },
  {
   "cell_type": "code",
   "execution_count": 36,
   "id": "cbfbd150-6ce2-4604-b3a1-fcd14f6edd71",
   "metadata": {},
   "outputs": [],
   "source": [
    "# 기본 매개변수(기본값이 있는 매개변수) 가 있는 함수 정의"
   ]
  },
  {
   "cell_type": "code",
   "execution_count": 40,
   "id": "d9b9d647-6838-4a1c-a01e-397a8ba76000",
   "metadata": {},
   "outputs": [],
   "source": [
    "def hi():\n",
    "        print(\"hello\")"
   ]
  },
  {
   "cell_type": "code",
   "execution_count": 44,
   "id": "49e5c8cc-c054-4427-ac4f-2589845a19dd",
   "metadata": {},
   "outputs": [
    {
     "name": "stdout",
     "output_type": "stream",
     "text": [
      "hello\n"
     ]
    }
   ],
   "source": [
    "hi()"
   ]
  },
  {
   "cell_type": "code",
   "execution_count": 52,
   "id": "3c4c30ee-910d-437e-ac90-751f5bf37495",
   "metadata": {},
   "outputs": [],
   "source": [
    "def hi(menu=\"밥\"):\n",
    "    print(menu)"
   ]
  },
  {
   "cell_type": "code",
   "execution_count": 58,
   "id": "a6063329-b494-44e1-ba80-47e1d2ac0fb2",
   "metadata": {},
   "outputs": [
    {
     "name": "stdout",
     "output_type": "stream",
     "text": [
      "밥\n"
     ]
    }
   ],
   "source": [
    "hi()"
   ]
  },
  {
   "cell_type": "code",
   "execution_count": 66,
   "id": "002eda42-90b1-4d5f-b333-db4dbdb80106",
   "metadata": {},
   "outputs": [
    {
     "name": "stdout",
     "output_type": "stream",
     "text": [
      "삼계탕\n",
      "냉면\n"
     ]
    }
   ],
   "source": [
    "hi(\"삼계탕\")\n",
    "hi(menu=\"냉면\")"
   ]
  }
 ],
 "metadata": {
  "kernelspec": {
   "display_name": "Python 3 (ipykernel)",
   "language": "python",
   "name": "python3"
  },
  "language_info": {
   "codemirror_mode": {
    "name": "ipython",
    "version": 3
   },
   "file_extension": ".py",
   "mimetype": "text/x-python",
   "name": "python",
   "nbconvert_exporter": "python",
   "pygments_lexer": "ipython3",
   "version": "3.12.4"
  }
 },
 "nbformat": 4,
 "nbformat_minor": 5
}
