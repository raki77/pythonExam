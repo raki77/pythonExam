{
 "cells": [
  {
   "cell_type": "code",
   "execution_count": 12,
   "metadata": {},
   "outputs": [
    {
     "name": "stdout",
     "output_type": "stream",
     "text": [
      "hi\n",
      "샤넬가방을 받았다.\n",
      "쵸콜릿\n",
      "마라탕을 받았다.\n",
      "탕후루\n"
     ]
    }
   ],
   "source": [
    "\n",
    "# 무조건 외우기\n",
    "\n",
    "# 함수 종류 : main, sub 함수\n",
    "# 어느 공간 안에 함수가 정의되어 있다.\n",
    "# >>> def f1():\n",
    "# ...     print(\"hi\")\n",
    "# ...\n",
    "# >>>\n",
    "# >>> f1\n",
    "# <function f1 at 0x00000245E7408A40>\n",
    "# >>> type(f1)\n",
    "# <class 'function'>\n",
    "# >>>\n",
    "# >>> f1()\n",
    "# hi\n",
    "# >>>\n",
    "# =======================================\n",
    "# 함수 형태 : \n",
    "# [1번째] = 입력 없다, 반환 없다.\n",
    "def f1():\n",
    "    print(\"hi\") \n",
    "id(f1) # 함수의 주소값 출력 \n",
    "type(f1)\n",
    "f1()\n",
    "\n",
    "\n",
    "# >>> def sunja1():\n",
    "# ...    print(\"안녕\")\n",
    "# ...\n",
    "# >>> sunja1()\n",
    "# 안녕\n",
    "# >>> sunja1\n",
    "# <function sunja1 at 0x00000245E7832520>\n",
    "# >>>\n",
    "# >>> type(sunja1)\n",
    "# <class 'function'>\n",
    "# =======================================\n",
    "# [2번째] = 입력 있다, 반환 없다.\n",
    "def sunja1():\n",
    "    print(\"안녕\")\n",
    "    \n",
    "def sunja2(gift):\n",
    "    print(gift+\"을 받았다.\") \n",
    "sunja2(\"샤넬가방\")\n",
    "\n",
    "\n",
    "# >>> sunja3()\n",
    "# '쵸콜릿'\n",
    "# =======================================\n",
    "# [3번째] = 입력 없다, 반환 있다.\n",
    "def sunja3():\n",
    "    return \"쵸콜릿\" \n",
    "sunja3()\n",
    "gift2=sunja3()\n",
    "print(gift2)\n",
    "\n",
    "\n",
    "# =======================================\n",
    "# [4번째] = 입력 있다, 반환 있다.\n",
    "def sunja4(gift):\n",
    "    print(gift + \"을 받았다.\")\n",
    "    return \"탕후루\"\n",
    "\n",
    "gift3 = sunja4(\"마라탕\")\n",
    "print(gift3)\n",
    "# =======================================\n",
    "\n",
    "    "
   ]
  }
 ],
 "metadata": {
  "kernelspec": {
   "display_name": "base",
   "language": "python",
   "name": "python3"
  },
  "language_info": {
   "codemirror_mode": {
    "name": "ipython",
    "version": 3
   },
   "file_extension": ".py",
   "mimetype": "text/x-python",
   "name": "python",
   "nbconvert_exporter": "python",
   "pygments_lexer": "ipython3",
   "version": "3.12.4"
  }
 },
 "nbformat": 4,
 "nbformat_minor": 2
}
