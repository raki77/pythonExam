{
 "cells": [
  {
   "cell_type": "code",
   "execution_count": 6,
   "id": "64dca2d1-0069-4494-b780-e3fcdb3e4d81",
   "metadata": {},
   "outputs": [
    {
     "name": "stdout",
     "output_type": "stream",
     "text": [
      "hi\n"
     ]
    }
   ],
   "source": [
    "# param : x, return x\n",
    "def f1():\n",
    "    print (\"hi\")\n",
    "f1() "
   ]
  },
  {
   "cell_type": "code",
   "execution_count": 18,
   "id": "6fd0afe5-9be4-444c-a5ec-5c8bc586fbd9",
   "metadata": {},
   "outputs": [
    {
     "name": "stdout",
     "output_type": "stream",
     "text": [
      "param: 사탕\n"
     ]
    }
   ],
   "source": [
    "# param : 0, return x\n",
    "def f2(gift):\n",
    "    print (\"param:\", gift)\n",
    "f2(\"사탕\")"
   ]
  },
  {
   "cell_type": "code",
   "execution_count": 20,
   "id": "bc2059eb-e911-42e9-840c-1c31acf4d959",
   "metadata": {},
   "outputs": [
    {
     "name": "stdout",
     "output_type": "stream",
     "text": [
      "과자\n"
     ]
    }
   ],
   "source": [
    "# param : x, return 0\n",
    "def f3():\n",
    "    return \"과자\"\n",
    "result = f3()\n",
    "print(result)"
   ]
  },
  {
   "cell_type": "code",
   "execution_count": 24,
   "id": "f98db21b-0e3a-4fd9-97c9-bd26c81c8465",
   "metadata": {},
   "outputs": [],
   "source": [
    "# param : 0, return 0\n",
    "def f4(gift):\n",
    "    print(gift+ \"받음\")\n",
    "    return \"딸기\"\n",
    "f4(\"새우깡\")"
   ]
  },
  {
   "cell_type": "code",
   "execution_count": 4,
   "id": "a8aefbec",
   "metadata": {},
   "outputs": [
    {
     "name": "stdout",
     "output_type": "stream",
     "text": [
      "()\n",
      "(1,)\n",
      "(1, 7)\n"
     ]
    }
   ],
   "source": [
    "# 함수의 다양한 매개변수 ( 가변형 )\n",
    "# 제약\n",
    "#   1. 가변 매개변수 뒤에는 일반 매개변수 올 수 없음\n",
    "#   2. 가변 매개변수는 하나만 사용할 수 있음\n",
    "\n",
    "def f5(*values):\n",
    "    print(values)\n",
    "    \n",
    "# 튜플형태라 가능하다.\n",
    "f5()\n",
    "f5(1)\n",
    "f5(1,7) "
   ]
  },
  {
   "cell_type": "code",
   "execution_count": 10,
   "id": "a2e21402",
   "metadata": {},
   "outputs": [
    {
     "name": "stdout",
     "output_type": "stream",
     "text": [
      "수박 ()\n",
      "수박 ()\n",
      "수박 (1,)\n",
      "수박 ('딸기',)\n",
      "수박 ('딸기', '사과')\n"
     ]
    }
   ],
   "source": [
    "def f6(gift, *values) :\n",
    "    print(gift, values)\n",
    "    \n",
    "f6(\"수박\")\n",
    "f6(\"수박\", )\n",
    "f6(\"수박\", 1)\n",
    "f6(\"수박\", \"딸기\")\n",
    "f6(\"수박\", \"딸기\", \"사과\")"
   ]
  },
  {
   "cell_type": "code",
   "execution_count": 32,
   "id": "29444a4f",
   "metadata": {},
   "outputs": [
    {
     "ename": "TypeError",
     "evalue": "f7() missing 1 required keyword-only argument: 'gift'",
     "output_type": "error",
     "traceback": [
      "\u001b[1;31m---------------------------------------------------------------------------\u001b[0m",
      "\u001b[1;31mTypeError\u001b[0m                                 Traceback (most recent call last)",
      "Cell \u001b[1;32mIn[32], line 4\u001b[0m\n\u001b[0;32m      1\u001b[0m \u001b[38;5;28;01mdef\u001b[39;00m \u001b[38;5;21mf7\u001b[39m(\u001b[38;5;241m*\u001b[39mvalues, gift) :\n\u001b[0;32m      2\u001b[0m     \u001b[38;5;66;03m#pass\u001b[39;00m\n\u001b[0;32m      3\u001b[0m     \u001b[38;5;28mprint\u001b[39m(values, gift)\n\u001b[1;32m----> 4\u001b[0m f7(\u001b[38;5;124m\"\u001b[39m\u001b[38;5;124m빵\u001b[39m\u001b[38;5;124m\"\u001b[39m)\n",
      "\u001b[1;31mTypeError\u001b[0m: f7() missing 1 required keyword-only argument: 'gift'"
     ]
    }
   ],
   "source": [
    "def f7(*values, gift) :\n",
    "    #pass\n",
    "    print(values, gift)\n",
    "f7(\"빵\") "
   ]
  },
  {
   "cell_type": "markdown",
   "id": "fb077fab-3411-4356-9002-ab95715ae313",
   "metadata": {},
   "source": [
    "# 12346644"
   ]
  },
  {
   "cell_type": "code",
   "execution_count": 40,
   "id": "acdbe160",
   "metadata": {},
   "outputs": [
    {
     "ename": "SyntaxError",
     "evalue": "* argument may appear only once (3710819883.py, line 1)",
     "output_type": "error",
     "traceback": [
      "\u001b[1;36m  Cell \u001b[1;32mIn[40], line 1\u001b[1;36m\u001b[0m\n\u001b[1;33m    def f8(*values1, *values2) :\u001b[0m\n\u001b[1;37m                     ^\u001b[0m\n\u001b[1;31mSyntaxError\u001b[0m\u001b[1;31m:\u001b[0m * argument may appear only once\n"
     ]
    }
   ],
   "source": [
    "# def f8(*values1, *values2) :     # ERROR\n",
    "#     print(values, value2)"
   ]
  },
  {
   "cell_type": "code",
   "execution_count": 39,
   "id": "04d3c51d-775c-476d-a67e-add37bb34c22",
   "metadata": {},
   "outputs": [
    {
     "name": "stdout",
     "output_type": "stream",
     "text": [
      "빵\n",
      "밥\n"
     ]
    }
   ],
   "source": [
    "# 기본 매개변수 (기본 값이 있는 매개변수, 해당되는 매개변수 자리에 실제값을 넣어도 에러가 안난다.)\n",
    "def f9(menu=\"빵\"):\n",
    "    print(menu)\n",
    "f9()\n",
    "f9(\"밥\")"
   ]
  },
  {
   "cell_type": "code",
   "execution_count": 22,
   "id": "6165eed4",
   "metadata": {},
   "outputs": [
    {
     "name": "stdout",
     "output_type": "stream",
     "text": [
      "비빔밥\n"
     ]
    }
   ],
   "source": [
    "f9(menu=\"비빔밥\")"
   ]
  },
  {
   "cell_type": "code",
   "execution_count": 142,
   "id": "18af5493",
   "metadata": {},
   "outputs": [
    {
     "ename": "TypeError",
     "evalue": "f9() takes from 0 to 1 positional arguments but 2 were given",
     "output_type": "error",
     "traceback": [
      "\u001b[1;31m---------------------------------------------------------------------------\u001b[0m",
      "\u001b[1;31mTypeError\u001b[0m                                 Traceback (most recent call last)",
      "Cell \u001b[1;32mIn[142], line 1\u001b[0m\n\u001b[1;32m----> 1\u001b[0m f9(\u001b[38;5;124m\"\u001b[39m\u001b[38;5;124m밥\u001b[39m\u001b[38;5;124m\"\u001b[39m, \u001b[38;5;124m\"\u001b[39m\u001b[38;5;124m두부\u001b[39m\u001b[38;5;124m\"\u001b[39m)\n",
      "\u001b[1;31mTypeError\u001b[0m: f9() takes from 0 to 1 positional arguments but 2 were given"
     ]
    }
   ],
   "source": [
    "f9(\"밥\", \"두부\")"
   ]
  },
  {
   "cell_type": "code",
   "execution_count": 38,
   "id": "0d0d5850",
   "metadata": {},
   "outputs": [
    {
     "name": "stdout",
     "output_type": "stream",
     "text": [
      "쵸콜릿 밥\n"
     ]
    }
   ],
   "source": [
    "def f10(gift, menu=\"밥\"):\n",
    "    print(gift, menu)\n",
    "f10(\"쵸콜릿\")"
   ]
  },
  {
   "cell_type": "code",
   "execution_count": 37,
   "id": "d0c85d2d",
   "metadata": {},
   "outputs": [
    {
     "ename": "SyntaxError",
     "evalue": "parameter without a default follows parameter with a default (1983940829.py, line 2)",
     "output_type": "error",
     "traceback": [
      "\u001b[1;36m  Cell \u001b[1;32mIn[37], line 2\u001b[1;36m\u001b[0m\n\u001b[1;33m    def f11(menu=\"밥\", gift):\u001b[0m\n\u001b[1;37m                      ^\u001b[0m\n\u001b[1;31mSyntaxError\u001b[0m\u001b[1;31m:\u001b[0m parameter without a default follows parameter with a default\n"
     ]
    }
   ],
   "source": [
    "# ERROR\n",
    "# def f11(menu=\"밥\", gift):\n",
    "#     print(menu,gift)\n"
   ]
  },
  {
   "cell_type": "code",
   "execution_count": 141,
   "id": "57f54f49",
   "metadata": {},
   "outputs": [
    {
     "name": "stdout",
     "output_type": "stream",
     "text": [
      "() 밥\n",
      "('삼겹살',) 밥\n"
     ]
    }
   ],
   "source": [
    "def f12(*values, menu=\"밥\"):\n",
    "    print(values, menu) \n",
    "f12()\n",
    "f12(\"삼겹살\")"
   ]
  },
  {
   "cell_type": "code",
   "execution_count": 42,
   "id": "bb9cec64",
   "metadata": {},
   "outputs": [],
   "source": [
    "def f13(*values, menu=\"밥\"):\n",
    "    print(menu, values) "
   ]
  },
  {
   "cell_type": "code",
   "execution_count": 50,
   "id": "47c6c696",
   "metadata": {},
   "outputs": [
    {
     "name": "stdout",
     "output_type": "stream",
     "text": [
      "밥 ()\n",
      "밥 ('삼겹살', '상추')\n",
      "삼합 ('삼겹살', '김치', '홍어')\n"
     ]
    }
   ],
   "source": [
    "f13()\n",
    "f13(\"삼겹살\",\"상추\")\n",
    "f13(\"삼겹살\",\"김치\",\"홍어\", menu=\"삼합\")"
   ]
  },
  {
   "cell_type": "code",
   "execution_count": 139,
   "id": "b66f7941",
   "metadata": {},
   "outputs": [
    {
     "name": "stdout",
     "output_type": "stream",
     "text": [
      "밥 ()\n",
      "삼겹살 ()\n",
      "삼겹살 ('냉면',)\n",
      "삼겹살 ('냉면', '1', '2', '3', '4', '5')\n"
     ]
    }
   ],
   "source": [
    "def f14(menu=\"밥\", *values):\n",
    "    print(menu, values) \n",
    "\n",
    "f14()\n",
    "f14(\"삼겹살\")\n",
    "f14(\"삼겹살\", \"냉면\")\n",
    "f14(\"삼겹살\", \"냉면\", '1','2','3','4','5')"
   ]
  },
  {
   "cell_type": "code",
   "execution_count": 140,
   "id": "0d59064c",
   "metadata": {},
   "outputs": [
    {
     "name": "stdout",
     "output_type": "stream",
     "text": [
      "{}\n",
      "{'a': '1'}\n",
      "{'a': '1', 'b': '2'}\n",
      "이름: 엘리스\n",
      "나이: 30\n",
      "사는곳: Seoul\n"
     ]
    }
   ],
   "source": [
    "# 매개변수 앞에 *는 튜플, **는 딕셔너리\n",
    "def f15(**values) :\n",
    "    if values.get('name') != None:\n",
    "        print(\"이름:\" , values.get('name'))\n",
    "        print(\"나이:\" , values.get('age'))\n",
    "        print(\"사는곳:\", values.get('city'))\n",
    "    else :\n",
    "        print(values)\n",
    "\n",
    "f15()\n",
    "f15(a='1')\n",
    "f15(a='1', b='2')\n",
    "f15(name=\"엘리스\", age=30, city=\"Seoul\")"
   ]
  },
  {
   "cell_type": "code",
   "execution_count": 66,
   "id": "c3ee8654",
   "metadata": {},
   "outputs": [
    {
     "name": "stdout",
     "output_type": "stream",
     "text": [
      "{}\n"
     ]
    },
    {
     "data": {
      "text/plain": [
       "set"
      ]
     },
     "execution_count": 66,
     "metadata": {},
     "output_type": "execute_result"
    }
   ],
   "source": [
    "# dictionary 나옴\n",
    "f15()\n",
    "type({})\n",
    "{1,2,3}\n",
    "\n",
    "# (집합 : set(), 집합은 순서 없고, 중복을 제거)\n",
    "type({1,2,3})"
   ]
  },
  {
   "cell_type": "code",
   "execution_count": 68,
   "id": "4b3caf7b",
   "metadata": {},
   "outputs": [
    {
     "ename": "TypeError",
     "evalue": "unhashable type: 'list'",
     "output_type": "error",
     "traceback": [
      "\u001b[1;31m---------------------------------------------------------------------------\u001b[0m",
      "\u001b[1;31mTypeError\u001b[0m                                 Traceback (most recent call last)",
      "Cell \u001b[1;32mIn[68], line 2\u001b[0m\n\u001b[0;32m      1\u001b[0m {\u001b[38;5;241m1\u001b[39m,\u001b[38;5;241m2\u001b[39m,\u001b[38;5;241m3\u001b[39m,\u001b[38;5;241m4\u001b[39m,\u001b[38;5;241m4\u001b[39m,\u001b[38;5;241m4\u001b[39m,\u001b[38;5;241m4\u001b[39m,\u001b[38;5;241m4\u001b[39m,\u001b[38;5;241m4\u001b[39m,\u001b[38;5;241m5\u001b[39m,\u001b[38;5;241m4\u001b[39m,\u001b[38;5;241m4\u001b[39m,\u001b[38;5;241m4\u001b[39m}\n\u001b[1;32m----> 2\u001b[0m {\u001b[38;5;241m1\u001b[39m,\u001b[38;5;241m2\u001b[39m,[\u001b[38;5;124m'\u001b[39m\u001b[38;5;124mhi\u001b[39m\u001b[38;5;124m'\u001b[39m,\u001b[38;5;241m5\u001b[39m]}\n",
      "\u001b[1;31mTypeError\u001b[0m: unhashable type: 'list'"
     ]
    }
   ],
   "source": [
    "{1,2,['hi',5]}"
   ]
  },
  {
   "cell_type": "code",
   "execution_count": 69,
   "id": "320afcea",
   "metadata": {},
   "outputs": [
    {
     "data": {
      "text/plain": [
       "{1, 2, 3, 4, 5}"
      ]
     },
     "execution_count": 69,
     "metadata": {},
     "output_type": "execute_result"
    }
   ],
   "source": [
    "{1,2,3,4,4,4,4,4,4,5,4,4,4}"
   ]
  },
  {
   "cell_type": "code",
   "execution_count": 70,
   "id": "9bfbbfa1",
   "metadata": {},
   "outputs": [
    {
     "ename": "TypeError",
     "evalue": "unhashable type: 'dict'",
     "output_type": "error",
     "traceback": [
      "\u001b[1;31m---------------------------------------------------------------------------\u001b[0m",
      "\u001b[1;31mTypeError\u001b[0m                                 Traceback (most recent call last)",
      "Cell \u001b[1;32mIn[70], line 1\u001b[0m\n\u001b[1;32m----> 1\u001b[0m {\u001b[38;5;241m1\u001b[39m,\u001b[38;5;241m2\u001b[39m,{}}\n",
      "\u001b[1;31mTypeError\u001b[0m: unhashable type: 'dict'"
     ]
    }
   ],
   "source": [
    "{1,2,{}}"
   ]
  },
  {
   "cell_type": "code",
   "execution_count": 71,
   "id": "e56b1aad",
   "metadata": {},
   "outputs": [
    {
     "ename": "TypeError",
     "evalue": "unhashable type: 'set'",
     "output_type": "error",
     "traceback": [
      "\u001b[1;31m---------------------------------------------------------------------------\u001b[0m",
      "\u001b[1;31mTypeError\u001b[0m                                 Traceback (most recent call last)",
      "Cell \u001b[1;32mIn[71], line 1\u001b[0m\n\u001b[1;32m----> 1\u001b[0m {\u001b[38;5;241m1\u001b[39m,\u001b[38;5;241m2\u001b[39m,{\u001b[38;5;124m'\u001b[39m\u001b[38;5;124m1\u001b[39m\u001b[38;5;124m'\u001b[39m,\u001b[38;5;124m'\u001b[39m\u001b[38;5;124mtetet\u001b[39m\u001b[38;5;124m'\u001b[39m}}\n",
      "\u001b[1;31mTypeError\u001b[0m: unhashable type: 'set'"
     ]
    }
   ],
   "source": [
    "{1,2,{'1','tetet'}}"
   ]
  },
  {
   "cell_type": "code",
   "execution_count": 72,
   "id": "1dbaed12",
   "metadata": {},
   "outputs": [
    {
     "name": "stdout",
     "output_type": "stream",
     "text": [
      "1\n",
      "2\n",
      "3\n",
      "4\n",
      "5\n"
     ]
    }
   ],
   "source": [
    "for i in {1,2,3,4,4,4,4,4,4,5,4,4,4}:\n",
    "    print (i)"
   ]
  },
  {
   "cell_type": "code",
   "execution_count": 73,
   "id": "32e336b2",
   "metadata": {},
   "outputs": [
    {
     "data": {
      "text/plain": [
       "set"
      ]
     },
     "execution_count": 73,
     "metadata": {},
     "output_type": "execute_result"
    }
   ],
   "source": [
    "type({1,2,3,1,2,3,1})"
   ]
  },
  {
   "cell_type": "code",
   "execution_count": 138,
   "id": "500a6258",
   "metadata": {},
   "outputs": [
    {
     "name": "stdout",
     "output_type": "stream",
     "text": [
      "12345 {}\n",
      "123456 {'sub': '789'}\n"
     ]
    }
   ],
   "source": [
    "# 매개변수 앞에 *는 튜플, **는 딕셔너리\n",
    "def f17(gift, **dic) : \n",
    "    print(gift, dic)    \n",
    "f17(\"12345\")\n",
    "f17(\"123456\", sub=\"789\")"
   ]
  },
  {
   "cell_type": "code",
   "execution_count": 123,
   "id": "46b13026",
   "metadata": {},
   "outputs": [
    {
     "name": "stdout",
     "output_type": "stream",
     "text": [
      "{'x': '메뉴'}\n"
     ]
    }
   ],
   "source": [
    "def f18(**dic) :\n",
    "    print(dic) \n",
    "f18(x='메뉴')\n",
    "# 매개변수 앞에 *는 튜플, **는 딕셔너리\n",
    "# *는 뒤로 보내야 한다. (무조건)\n",
    "# def f19(**dic, gift) :  # ERROR\n",
    "#     print(dic)"
   ]
  },
  {
   "cell_type": "code",
   "execution_count": 137,
   "id": "c636c096",
   "metadata": {},
   "outputs": [
    {
     "name": "stdout",
     "output_type": "stream",
     "text": [
      "밥 {}\n",
      "면 {}\n",
      "면 {'x': '탕수육'}\n"
     ]
    }
   ],
   "source": [
    "def f20(menu=\"밥\", **dic):\n",
    "    print(menu, dic)\n",
    "f20()\n",
    "f20(\"면\")\n",
    "# f20(\"면\", \"탕수육\")  # ERROR\n",
    "f20(\"면\", x=\"탕수육\")"
   ]
  },
  {
   "cell_type": "code",
   "execution_count": 130,
   "id": "a6888ece",
   "metadata": {},
   "outputs": [
    {
     "name": "stdout",
     "output_type": "stream",
     "text": [
      "파인애플 밥 {}\n",
      "파인애플 면 {}\n",
      "파인애플 면 {'plus': '짬'}\n"
     ]
    }
   ],
   "source": [
    "def f19(gift, menu=\"밥\", **dic):\n",
    "    print(gift, menu, dic)\n",
    "\n",
    "f19(\"파인애플\")\n",
    "f19(\"파인애플\", \"면\")\n",
    "# f19(\"파인애플\", \"면\", \"짬\") #ERROR\n",
    "f19(\"파인애플\", \"면\", plus=\"짬\") \n"
   ]
  },
  {
   "cell_type": "code",
   "execution_count": 136,
   "id": "8e4fdafc",
   "metadata": {},
   "outputs": [
    {
     "name": "stdout",
     "output_type": "stream",
     "text": [
      "꽃 밥 () {}\n",
      "꽃 면 () {}\n",
      "꽃 면 (1, 2, 3) {}\n",
      "꽃 면 (1, 2, 3) {'a': 'apple'}\n",
      "꽃 면 (1, 2, 3) {'a': 'apple', 'b': 'banana'}\n"
     ]
    }
   ],
   "source": [
    "def f21(gift, menu=\"밥\", *values, **dic):\n",
    "    print(gift, menu, values, dic)\n",
    "\n",
    "# f21() #ERROR\n",
    "f21(\"꽃\")\n",
    "f21(\"꽃\", \"면\")\n",
    "f21(\"꽃\", \"면\", 1,2,3)\n",
    "f21(\"꽃\", \"면\", 1,2,3, a=\"apple\")\n",
    "f21(\"꽃\", \"면\", 1,2,3, a=\"apple\", b=\"banana\")"
   ]
  }
 ],
 "metadata": {
  "kernelspec": {
   "display_name": "Python 3 (ipykernel)",
   "language": "python",
   "name": "python3"
  },
  "language_info": {
   "codemirror_mode": {
    "name": "ipython",
    "version": 3
   },
   "file_extension": ".py",
   "mimetype": "text/x-python",
   "name": "python",
   "nbconvert_exporter": "python",
   "pygments_lexer": "ipython3",
   "version": "3.12.4"
  }
 },
 "nbformat": 4,
 "nbformat_minor": 5
}
