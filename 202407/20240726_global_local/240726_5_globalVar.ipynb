{
 "cells": [
  {
   "cell_type": "code",
   "execution_count": 16,
   "id": "611729b7-b603-497b-b00d-e1080f4c26aa",
   "metadata": {},
   "outputs": [],
   "source": [
    "a=3\n",
    "def f1():\n",
    "    num1 = 8\n",
    "    print(num1)\n"
   ]
  },
  {
   "cell_type": "code",
   "execution_count": 12,
   "id": "d27e855d-c0a0-4ced-bb94-a80bc1235b0b",
   "metadata": {},
   "outputs": [
    {
     "data": {
      "text/plain": [
       "3"
      ]
     },
     "execution_count": 12,
     "metadata": {},
     "output_type": "execute_result"
    }
   ],
   "source": [
    "a"
   ]
  },
  {
   "cell_type": "code",
   "execution_count": 20,
   "id": "b1c99c2a-e186-4618-8a4a-ce0d1aceb17d",
   "metadata": {},
   "outputs": [
    {
     "name": "stdout",
     "output_type": "stream",
     "text": [
      "8\n"
     ]
    }
   ],
   "source": [
    "f1()"
   ]
  },
  {
   "cell_type": "code",
   "execution_count": 24,
   "id": "cb20e4e6-8014-4239-a257-6975819257cd",
   "metadata": {},
   "outputs": [
    {
     "name": "stdout",
     "output_type": "stream",
     "text": [
      "3\n"
     ]
    }
   ],
   "source": [
    "a=3\n",
    "def f1():\n",
    "    print(a)\n",
    "\n",
    "f1()"
   ]
  },
  {
   "cell_type": "code",
   "execution_count": null,
   "id": "9e528bb2-122d-4664-b691-755657c333ae",
   "metadata": {},
   "outputs": [],
   "source": [
    "# 전역변수 사용으로 주소값이 동일 하다.\n",
    "# >>> a=3\n",
    "# >>> def f1():\n",
    "# ...     print(a)\n",
    "# ...\n",
    "# >>> f1()\n",
    "# 3\n",
    "# >>> b=5\n",
    "# >>> def f2():\n",
    "# ...     print(id(b))\n",
    "# ...     print(b)\n",
    "# ...\n",
    "# >>> f2()\n",
    "# 140730083392056\n",
    "# 5\n",
    "# >>> id(b)\n",
    "# 1407300833\n",
    "\n",
    "\n",
    "# 전역변수와 지역변수 주소값 차이, 멤버변수는 클래스 안일때\n",
    "# >>> c=9\n",
    "# >>> def f3():\n",
    "# ...     c=10 \n",
    "# ...     print(id(c))\n",
    "# ...\n",
    "# >>> id(c)\n",
    "# 140730083392184\n",
    "# >>> f3()\n",
    "# 140730083392216"
   ]
  },
  {
   "cell_type": "code",
   "execution_count": 3,
   "id": "364d21d4-66f3-49cd-bb7b-298f5b4e38d2",
   "metadata": {},
   "outputs": [
    {
     "name": "stdout",
     "output_type": "stream",
     "text": [
      "2\n"
     ]
    }
   ],
   "source": [
    "# >>> def f4():     \n",
    "# ...     print(d)  \n",
    "# ...\n",
    "# >>>\n",
    "# >>>\n",
    "# >>>\n",
    "# >>>\n",
    "# >>> f4()\n",
    "# Traceback (most recent call last):\n",
    "#   File \"<stdin>\", line 1, in <module>\n",
    "#   File \"<stdin>\", line 2, in f4\n",
    "# NameError: name 'd' is not defined. Did you mean: 'id'?\n",
    "\n",
    "def f4():\n",
    "    d = 2\n",
    "    print(d)\n",
    "f4()"
   ]
  },
  {
   "cell_type": "code",
   "execution_count": 6,
   "id": "8813d976",
   "metadata": {},
   "outputs": [
    {
     "name": "stdout",
     "output_type": "stream",
     "text": [
      "140730083392312\n",
      "140730083392312\n",
      "13\n"
     ]
    }
   ],
   "source": [
    "k=13\n",
    "def f7():       # 선언부, 시그니쳐 영역, 매개변수도 지역변수 이다.\n",
    "    global k    # 실행부\n",
    "    print(id(k))\n",
    "    print(k)\n",
    "\n",
    "print(id(k))\n",
    "f7()"
   ]
  },
  {
   "cell_type": "code",
   "execution_count": 9,
   "id": "d770466d",
   "metadata": {},
   "outputs": [],
   "source": [
    "def f8(gift) :\n",
    "    print(\"hi\")\n"
   ]
  },
  {
   "cell_type": "code",
   "execution_count": 11,
   "id": "6e6adb2a",
   "metadata": {},
   "outputs": [
    {
     "name": "stdout",
     "output_type": "stream",
     "text": [
      "1943071364944\n"
     ]
    }
   ],
   "source": [
    "def f8(gift):\n",
    "    print(id(gift))\n",
    "f8(\"과장\")"
   ]
  },
  {
   "cell_type": "code",
   "execution_count": 13,
   "id": "11d2f0fa",
   "metadata": {},
   "outputs": [
    {
     "name": "stdout",
     "output_type": "stream",
     "text": [
      "Input is 100\n"
     ]
    }
   ],
   "source": [
    "def test(k):\n",
    "    print(\"Input is\", k)\n",
    "k = 100\n",
    "test(k)"
   ]
  },
  {
   "cell_type": "code",
   "execution_count": 18,
   "id": "86d83664",
   "metadata": {},
   "outputs": [],
   "source": [
    "def counter(*args):\n",
    "    count = len(args)\n",
    "    return count "
   ]
  },
  {
   "cell_type": "code",
   "execution_count": 22,
   "id": "de81f0bf",
   "metadata": {},
   "outputs": [
    {
     "name": "stdout",
     "output_type": "stream",
     "text": [
      "1\n"
     ]
    },
    {
     "data": {
      "text/plain": [
       "0"
      ]
     },
     "execution_count": 22,
     "metadata": {},
     "output_type": "execute_result"
    }
   ],
   "source": [
    "print(counter([\"test\", \"hello\", \"oooo\"]))\n",
    "counter()\n",
    "len(())"
   ]
  },
  {
   "cell_type": "code",
   "execution_count": 27,
   "id": "370e1915",
   "metadata": {},
   "outputs": [
    {
     "data": {
      "text/plain": [
       "2"
      ]
     },
     "execution_count": 27,
     "metadata": {},
     "output_type": "execute_result"
    }
   ],
   "source": [
    "result = counter(4,6)\n",
    "result"
   ]
  },
  {
   "cell_type": "code",
   "execution_count": 32,
   "id": "98a34679",
   "metadata": {},
   "outputs": [
    {
     "data": {
      "text/plain": [
       "0"
      ]
     },
     "execution_count": 32,
     "metadata": {},
     "output_type": "execute_result"
    }
   ],
   "source": [
    "# len(())\n",
    "# len([])\n",
    "len(([]))"
   ]
  },
  {
   "cell_type": "code",
   "execution_count": 33,
   "id": "fb0a52b6",
   "metadata": {},
   "outputs": [],
   "source": [
    "# 빈 리스트를 하나의 요소라고 판단해서 1나옴\n",
    "result= counter([]) "
   ]
  },
  {
   "cell_type": "code",
   "execution_count": 35,
   "id": "7c22ad5b",
   "metadata": {},
   "outputs": [
    {
     "data": {
      "text/plain": [
       "1"
      ]
     },
     "execution_count": 35,
     "metadata": {},
     "output_type": "execute_result"
    }
   ],
   "source": [
    "result"
   ]
  },
  {
   "cell_type": "code",
   "execution_count": 42,
   "id": "9b5981ea",
   "metadata": {},
   "outputs": [
    {
     "data": {
      "text/plain": [
       "1"
      ]
     },
     "execution_count": 42,
     "metadata": {},
     "output_type": "execute_result"
    }
   ],
   "source": [
    "result2= counter([5]) \n",
    "result2"
   ]
  },
  {
   "cell_type": "code",
   "execution_count": 43,
   "id": "0c7e248b",
   "metadata": {},
   "outputs": [
    {
     "data": {
      "text/plain": [
       "1"
      ]
     },
     "execution_count": 43,
     "metadata": {},
     "output_type": "execute_result"
    }
   ],
   "source": [
    "result3= counter([5,4]) \n",
    "result3"
   ]
  },
  {
   "cell_type": "code",
   "execution_count": 47,
   "id": "db6fc181",
   "metadata": {},
   "outputs": [
    {
     "data": {
      "text/plain": [
       "4"
      ]
     },
     "execution_count": 47,
     "metadata": {},
     "output_type": "execute_result"
    }
   ],
   "source": [
    "# result4= counter([5,4], 9) \n",
    "result4= counter([5,4], [10,11], [15], 20) \n",
    "result4"
   ]
  },
  {
   "cell_type": "code",
   "execution_count": 49,
   "id": "c1bda066",
   "metadata": {},
   "outputs": [
    {
     "name": "stdout",
     "output_type": "stream",
     "text": [
      "21\n",
      "4\n"
     ]
    }
   ],
   "source": [
    "def f(x):\n",
    "    y = x\n",
    "    x = 7\n",
    "    return y*x\n",
    "x=4\n",
    "print(f(3))\n",
    "print(x)"
   ]
  },
  {
   "cell_type": "code",
   "execution_count": null,
   "id": "dcfa581a",
   "metadata": {},
   "outputs": [],
   "source": [
    "# 가변인수:\n",
    "# 파이썬에서 인수를 사용하는 방법 중 함수 기본 인터페이스에 지정된 변수이외의 추가변수를 \n",
    "# 입력할 수 있게 하는 인수의 이름은???\n",
    "# 코딩 : 인터페이스 (상위걔념) - 클래스, 클래스 중간에서 설계(정의), 중계\n",
    "\n",
    "\n",
    "# def hi(**dic) \n",
    "# **kwargs : 키워드 인수\n"
   ]
  }
 ],
 "metadata": {
  "kernelspec": {
   "display_name": "Python 3 (ipykernel)",
   "language": "python",
   "name": "python3"
  },
  "language_info": {
   "codemirror_mode": {
    "name": "ipython",
    "version": 3
   },
   "file_extension": ".py",
   "mimetype": "text/x-python",
   "name": "python",
   "nbconvert_exporter": "python",
   "pygments_lexer": "ipython3",
   "version": "3.12.4"
  }
 },
 "nbformat": 4,
 "nbformat_minor": 5
}
