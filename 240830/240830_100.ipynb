{
 "cells": [
  {
   "cell_type": "code",
   "execution_count": 3,
   "metadata": {},
   "outputs": [
    {
     "name": "stdout",
     "output_type": "stream",
     "text": [
      "1/1 [==============================] - 1s 1s/step\n",
      "예측 결과: [('n02325366', 'wood_rabbit', 0.74275357), ('n02326432', 'hare', 0.240237), ('n02328150', 'Angora', 0.008815741), ('n01877812', 'wallaby', 0.0026892466), ('n02356798', 'fox_squirrel', 0.0012279311)]\n"
     ]
    }
   ],
   "source": [
    "import cv2 as cv \n",
    "import numpy as np\n",
    "from tensorflow.keras.applications.resnet50 import ResNet50,preprocess_input,decode_predictions\n",
    "\n",
    "model=ResNet50(weights='imagenet')\n",
    "\n",
    "img=cv.imread('./rabbit.jpg') \n",
    "x=np.reshape(cv.resize(img,(224,224)),(1,224,224,3))   \n",
    "x=preprocess_input(x)\n",
    "\n",
    "preds=model.predict(x)\n",
    "top5=decode_predictions(preds,top=5)[0]\n",
    "print('예측 결과:',top5)\n",
    "\n",
    "for i in range(5):\n",
    "    cv.putText(img,top5[i][1]+':'+str(top5[i][2]),(10,20+i*20),cv.FONT_HERSHEY_SIMPLEX,0.5,(0,0,255),1)\n",
    "\n",
    "cv.imshow('Recognition result',img)\n",
    "\n",
    "cv.waitKey()\n",
    "cv.destroyAllWindows()"
   ]
  },
  {
   "cell_type": "code",
   "execution_count": 4,
   "metadata": {},
   "outputs": [
    {
     "name": "stderr",
     "output_type": "stream",
     "text": [
      "파일을 찾을 수 없습니다.\n"
     ]
    },
    {
     "ename": "",
     "evalue": "",
     "output_type": "error",
     "traceback": [
      "\u001b[1;31mThe Kernel crashed while executing code in the current cell or a previous cell. \n",
      "\u001b[1;31mPlease review the code in the cell(s) to identify a possible cause of the failure. \n",
      "\u001b[1;31mClick <a href='https://aka.ms/vscodeJupyterKernelCrash'>here</a> for more info. \n",
      "\u001b[1;31mView Jupyter <a href='command:jupyter.viewOutput'>log</a> for further details."
     ]
    }
   ],
   "source": [
    "import cv2 as cv \n",
    "import numpy as np\n",
    "import tensorflow as tf\n",
    "import winsound       \n",
    "import pickle\n",
    "import sys\n",
    "from PyQt5.QtWidgets import *\n",
    "\n",
    "cnn=tf.keras.models.load_model('./cnn_for_stanford_dogs.h5')\t# 모델 읽기\n",
    "dog_species=pickle.load(open('./dog_species_names.txt','rb'))\t# 견종 이름\n",
    "         \n",
    "class DogSpeciesRecognition(QMainWindow):\n",
    "    def __init__(self) :\n",
    "        super().__init__()\n",
    "        self.setWindowTitle('견종 인식')\n",
    "        self.setGeometry(200,200,700,100)\n",
    "       \n",
    "        fileButton=QPushButton('강아지 사진 열기',self) \n",
    "        recognitionButton=QPushButton('품종 인식',self)\n",
    "        quitButton=QPushButton('나가기',self) \n",
    "        \n",
    "        fileButton.setGeometry(10,10,100,30)\n",
    "        recognitionButton.setGeometry(110,10,100,30)\n",
    "        quitButton.setGeometry(510,10,100,30)\n",
    "        \n",
    "        fileButton.clicked.connect(self.pictureOpenFunction)\n",
    "        recognitionButton.clicked.connect(self.recognitionFunction)                         \n",
    "        quitButton.clicked.connect(self.quitFunction)\n",
    "        \n",
    "    def pictureOpenFunction(self):\n",
    "        fname=QFileDialog.getOpenFileName(self,'강아지 사진 읽기','./')           \n",
    "        self.img=cv.imread(fname[0])\n",
    "        if self.img is None: sys.exit('파일을 찾을 수 없습니다.')  \n",
    "        \n",
    "        cv.imshow('Dog image',self.img)          \n",
    "        \n",
    "    def recognitionFunction(self):\n",
    "        x=np.reshape(cv.resize(self.img,(224,224)),(1,224,224,3))    \n",
    "        res=cnn.predict(x)[0]\t\t# 예측\n",
    "        top5=np.argsort(-res)[:5]\n",
    "        top5_dog_species_names=[dog_species[i] for i in top5]\n",
    "        for i in range(5):\n",
    "            prob='('+str(res[top5[i]])+')'\n",
    "            name=str(top5_dog_species_names[i]).split('-')[1]\n",
    "            cv.putText(self.img,prob+name,(10,100+i*30),cv.FONT_HERSHEY_SIMPLEX,0.7,(255,255,255),2)\n",
    "        cv.imshow('Dog image',self.img)   \n",
    "        winsound.Beep(1000,500)\n",
    "                \n",
    "    def quitFunction(self):\n",
    "        cv.destroyAllWindows()        \n",
    "        self.close()\n",
    "              \n",
    "app=QApplication(sys.argv) \n",
    "win=DogSpeciesRecognition() \n",
    "win.show()\n",
    "app.exec_()"
   ]
  }
 ],
 "metadata": {
  "kernelspec": {
   "display_name": "cv2",
   "language": "python",
   "name": "python3"
  },
  "language_info": {
   "codemirror_mode": {
    "name": "ipython",
    "version": 3
   },
   "file_extension": ".py",
   "mimetype": "text/x-python",
   "name": "python",
   "nbconvert_exporter": "python",
   "pygments_lexer": "ipython3",
   "version": "3.7.16"
  }
 },
 "nbformat": 4,
 "nbformat_minor": 2
}
