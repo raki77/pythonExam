{
 "cells": [
  {
   "cell_type": "code",
   "execution_count": 2,
   "metadata": {},
   "outputs": [],
   "source": [
    "import numpy as np"
   ]
  },
  {
   "cell_type": "markdown",
   "metadata": {},
   "source": [
    "\n",
    "\n",
    "(myenv1) C:\\anaconda3\\envs>python\n",
    "\n",
    ">>> import tensorflow as tf\n",
    ">>> tf.__version__\n",
    "'2.10.0'\n",
    ">>>\n",
    "\n",
    "\n",
    "번역방법:\n",
    "\t1. 컴파일러 - 자바, c 전체를 먼저 해석해서 obejct(.class)파일을 만든다.\n",
    "\t\t\t문법적인 오류가 발생하면 에러를 모두 잡아야 실행이 가능하다.\n",
    "\t\t\tsematic error - 문법적 오류를 말한다. 있으면 실행불가\n",
    "\t\t\tsyntax error - 논리적 오류, 문법적 오류는 없으나 잘못 짜서 결과가 안나온다. 훨씬 심각함.\n",
    "\t\t\t특징 - 사용할 변수와 함수를 모두 미리 정의를 해야 한다.\n",
    "\t2. 인터프리터 - 파이썬, javascript \n",
    "\t\t\t한줄 읽고 해석해서 실행한다.\n",
    "\t\t\t변수나 함수가 미리 신언될 필요가 없다.\n",
    "\t\t\t필요하면 그때 그때 만들어서 사용한다. 코드가 길어지면 디버깅이 어렵다.\n",
    "\n",
    "\n",
    "데이터 처리 - \n",
    "\tSQL : sql기반 \n",
    "\t\t관계형 데이터베이스\n",
    "\t\t데이터를 테이블 구조로 저장한다.\n",
    "\t\t데이터 무결성, 일관성\t\t\n",
    "\t\n",
    "\n",
    "\tNOSQL : json 객체로 저장한다. \n",
    "\t\t\tobject base -> javascript가 객체를 저장하는 방식\n",
    "\t\t\tmongodb\n",
    "\t\t\t비정형데이터\n",
    "\t\t\t빠르고, 검색 빠름.\n",
    "\t\t\t데이터 무결성 지원하지 않는다.\n",
    "\t\t\t보관해야할 중요 데이터 저장 못한다."
   ]
  },
  {
   "cell_type": "code",
   "execution_count": null,
   "metadata": {},
   "outputs": [],
   "source": [
    "# C:\\ProgramData\\anaconda3\n",
    "# C:\\ProgramData\\anaconda3/Libary\n",
    "# C:\\ProgramData\\anaconda3/Scripts\n",
    "\n",
    "conda create --name myenv1\n",
    "conda activate myenv1\n",
    "conda install tensorflow\n",
    "\n",
    "python\n",
    "import tensorflow as tf\n",
    "tf.__version__\n",
    "\n",
    "\n",
    "conda install matplotlib\n",
    "conda install seaborn\n",
    "\n",
    "\n"
   ]
  },
  {
   "cell_type": "code",
   "execution_count": 5,
   "metadata": {},
   "outputs": [],
   "source": [
    "import numpy as np"
   ]
  },
  {
   "cell_type": "code",
   "execution_count": 6,
   "metadata": {},
   "outputs": [
    {
     "data": {
      "text/plain": [
       "[0, 1, 2, 3, 4, 5, 6, 7, 8, 9]"
      ]
     },
     "execution_count": 6,
     "metadata": {},
     "output_type": "execute_result"
    }
   ],
   "source": [
    "[i for i in range(10)]"
   ]
  },
  {
   "cell_type": "code",
   "execution_count": 7,
   "metadata": {},
   "outputs": [
    {
     "data": {
      "text/plain": [
       "[0, 1, 2, 3, 4, 5, 6, 7, 8, 9]"
      ]
     },
     "execution_count": 7,
     "metadata": {},
     "output_type": "execute_result"
    }
   ],
   "source": [
    "[i for i in np.arange(10)]"
   ]
  },
  {
   "cell_type": "code",
   "execution_count": 9,
   "metadata": {},
   "outputs": [
    {
     "data": {
      "text/plain": [
       "array([1, 2, 3, 4, 5, 6, 7, 8, 9])"
      ]
     },
     "execution_count": 9,
     "metadata": {},
     "output_type": "execute_result"
    }
   ],
   "source": [
    "np.arange(1, 10)"
   ]
  },
  {
   "cell_type": "code",
   "execution_count": 11,
   "metadata": {},
   "outputs": [
    {
     "data": {
      "text/plain": [
       "array([1, 3, 5, 7, 9])"
      ]
     },
     "execution_count": 11,
     "metadata": {},
     "output_type": "execute_result"
    }
   ],
   "source": [
    "np.arange(1, 10, 2)"
   ]
  },
  {
   "cell_type": "code",
   "execution_count": 13,
   "metadata": {},
   "outputs": [],
   "source": [
    "len10 = np.arange(10)"
   ]
  },
  {
   "cell_type": "code",
   "execution_count": 15,
   "metadata": {},
   "outputs": [
    {
     "data": {
      "text/plain": [
       "10"
      ]
     },
     "execution_count": 15,
     "metadata": {},
     "output_type": "execute_result"
    }
   ],
   "source": [
    "len(len10)"
   ]
  },
  {
   "cell_type": "code",
   "execution_count": 17,
   "metadata": {},
   "outputs": [
    {
     "data": {
      "text/plain": [
       "10"
      ]
     },
     "execution_count": 17,
     "metadata": {},
     "output_type": "execute_result"
    }
   ],
   "source": [
    "len10.size"
   ]
  },
  {
   "cell_type": "code",
   "execution_count": 19,
   "metadata": {},
   "outputs": [
    {
     "data": {
      "text/plain": [
       "array([111. ,   2.3,   1. ])"
      ]
     },
     "execution_count": 19,
     "metadata": {},
     "output_type": "execute_result"
    }
   ],
   "source": [
    "np.array([111, 2.3, True])"
   ]
  },
  {
   "cell_type": "code",
   "execution_count": 22,
   "metadata": {},
   "outputs": [
    {
     "data": {
      "text/plain": [
       "array(['111', '2.3', 'hi'], dtype='<U32')"
      ]
     },
     "execution_count": 22,
     "metadata": {},
     "output_type": "execute_result"
    }
   ],
   "source": [
    "arr6 = np.array([111, 2.3, 'hi'])\n",
    "arr6"
   ]
  },
  {
   "cell_type": "code",
   "execution_count": 23,
   "metadata": {},
   "outputs": [
    {
     "data": {
      "text/plain": [
       "256"
      ]
     },
     "execution_count": 23,
     "metadata": {},
     "output_type": "execute_result"
    }
   ],
   "source": [
    "2**8"
   ]
  },
  {
   "cell_type": "code",
   "execution_count": 25,
   "metadata": {},
   "outputs": [
    {
     "data": {
      "text/plain": [
       "array(['apple', 'banana', 'strawberry'], dtype='<U10')"
      ]
     },
     "execution_count": 25,
     "metadata": {},
     "output_type": "execute_result"
    }
   ],
   "source": [
    "arr7 = np.array(['apple', 'banana', 'strawberry'])\n",
    "arr7"
   ]
  },
  {
   "cell_type": "code",
   "execution_count": 27,
   "metadata": {},
   "outputs": [
    {
     "data": {
      "text/plain": [
       "array([ 1.  ,  3.25,  5.5 ,  7.75, 10.  ])"
      ]
     },
     "execution_count": 27,
     "metadata": {},
     "output_type": "execute_result"
    }
   ],
   "source": [
    "np.linspace(1, 10, 5)"
   ]
  },
  {
   "cell_type": "code",
   "execution_count": 29,
   "metadata": {},
   "outputs": [
    {
     "data": {
      "text/plain": [
       "array([-10.        ,  -8.94736842,  -7.89473684,  -6.84210526,\n",
       "        -5.78947368,  -4.73684211,  -3.68421053,  -2.63157895,\n",
       "        -1.57894737,  -0.52631579,   0.52631579,   1.57894737,\n",
       "         2.63157895,   3.68421053,   4.73684211,   5.78947368,\n",
       "         6.84210526,   7.89473684,   8.94736842,  10.        ])"
      ]
     },
     "execution_count": 29,
     "metadata": {},
     "output_type": "execute_result"
    }
   ],
   "source": [
    "np.linspace(-10, 10, 20)"
   ]
  },
  {
   "cell_type": "code",
   "execution_count": 30,
   "metadata": {},
   "outputs": [
    {
     "data": {
      "text/plain": [
       "array([0., 0., 0., 0., 0.])"
      ]
     },
     "execution_count": 30,
     "metadata": {},
     "output_type": "execute_result"
    }
   ],
   "source": [
    "np.zeros(5)"
   ]
  },
  {
   "cell_type": "code",
   "execution_count": 31,
   "metadata": {},
   "outputs": [
    {
     "data": {
      "text/plain": [
       "array([1., 1., 1., 1., 1.])"
      ]
     },
     "execution_count": 31,
     "metadata": {},
     "output_type": "execute_result"
    }
   ],
   "source": [
    "np.ones(5)"
   ]
  },
  {
   "cell_type": "code",
   "execution_count": 33,
   "metadata": {},
   "outputs": [
    {
     "data": {
      "text/plain": [
       "1"
      ]
     },
     "execution_count": 33,
     "metadata": {},
     "output_type": "execute_result"
    }
   ],
   "source": [
    "li1 = [[1,2,3],[4,5,6],[7,8,9]]\n",
    "li1[0][0]"
   ]
  },
  {
   "cell_type": "code",
   "execution_count": 34,
   "metadata": {},
   "outputs": [
    {
     "data": {
      "text/plain": [
       "array([[1, 2, 3],\n",
       "       [4, 5, 6],\n",
       "       [7, 8, 9]])"
      ]
     },
     "execution_count": 34,
     "metadata": {},
     "output_type": "execute_result"
    }
   ],
   "source": [
    "np.array(li1)"
   ]
  },
  {
   "cell_type": "code",
   "execution_count": 35,
   "metadata": {},
   "outputs": [
    {
     "data": {
      "text/plain": [
       "array([[1, 2, 3],\n",
       "       [4, 5, 6],\n",
       "       [7, 8, 9]])"
      ]
     },
     "execution_count": 35,
     "metadata": {},
     "output_type": "execute_result"
    }
   ],
   "source": [
    "arr2d = np.array(li1)\n",
    "arr2d"
   ]
  },
  {
   "cell_type": "code",
   "execution_count": 36,
   "metadata": {},
   "outputs": [
    {
     "data": {
      "text/plain": [
       "2"
      ]
     },
     "execution_count": 36,
     "metadata": {},
     "output_type": "execute_result"
    }
   ],
   "source": [
    "arr2d.ndim"
   ]
  },
  {
   "cell_type": "code",
   "execution_count": 37,
   "metadata": {},
   "outputs": [
    {
     "data": {
      "text/plain": [
       "array([1, 3, 5, 7, 9])"
      ]
     },
     "execution_count": 37,
     "metadata": {},
     "output_type": "execute_result"
    }
   ],
   "source": [
    "arr1d = np.array([1,3,5,7,9])\n",
    "arr1d"
   ]
  },
  {
   "cell_type": "code",
   "execution_count": 38,
   "metadata": {},
   "outputs": [
    {
     "data": {
      "text/plain": [
       "1"
      ]
     },
     "execution_count": 38,
     "metadata": {},
     "output_type": "execute_result"
    }
   ],
   "source": [
    "arr1d.ndim"
   ]
  },
  {
   "cell_type": "code",
   "execution_count": 41,
   "metadata": {},
   "outputs": [],
   "source": [
    "arr3d = np.array([[[1,2], [3,4]], [[5,6] , [7,8]]])"
   ]
  },
  {
   "cell_type": "code",
   "execution_count": 42,
   "metadata": {},
   "outputs": [
    {
     "data": {
      "text/plain": [
       "1"
      ]
     },
     "execution_count": 42,
     "metadata": {},
     "output_type": "execute_result"
    }
   ],
   "source": [
    "arr3d[0][0][0]"
   ]
  },
  {
   "cell_type": "code",
   "execution_count": 43,
   "metadata": {},
   "outputs": [
    {
     "data": {
      "text/plain": [
       "array([[0., 0., 0.],\n",
       "       [0., 0., 0.]])"
      ]
     },
     "execution_count": 43,
     "metadata": {},
     "output_type": "execute_result"
    }
   ],
   "source": [
    "np.zeros((2,3))"
   ]
  },
  {
   "cell_type": "code",
   "execution_count": 44,
   "metadata": {},
   "outputs": [],
   "source": [
    "arr2dZero = np.zeros((2,3))"
   ]
  },
  {
   "cell_type": "code",
   "execution_count": 45,
   "metadata": {},
   "outputs": [
    {
     "data": {
      "text/plain": [
       "array([[0., 0., 0.],\n",
       "       [0., 0., 0.]])"
      ]
     },
     "execution_count": 45,
     "metadata": {},
     "output_type": "execute_result"
    }
   ],
   "source": [
    "arr2dZero"
   ]
  },
  {
   "cell_type": "code",
   "execution_count": 46,
   "metadata": {},
   "outputs": [
    {
     "data": {
      "text/plain": [
       "array([[0, 0, 0],\n",
       "       [0, 0, 0]], dtype=int64)"
      ]
     },
     "execution_count": 46,
     "metadata": {},
     "output_type": "execute_result"
    }
   ],
   "source": [
    "arr2dZero2 = np.zeros((2,3), dtype='int64')\n",
    "arr2dZero2"
   ]
  },
  {
   "cell_type": "code",
   "execution_count": 47,
   "metadata": {},
   "outputs": [
    {
     "data": {
      "text/plain": [
       "numpy.ndarray"
      ]
     },
     "execution_count": 47,
     "metadata": {},
     "output_type": "execute_result"
    }
   ],
   "source": [
    "type(arr2dZero2)"
   ]
  },
  {
   "cell_type": "code",
   "execution_count": 50,
   "metadata": {},
   "outputs": [
    {
     "name": "stdout",
     "output_type": "stream",
     "text": [
      "[1, 2, 3, 4, 5, 6]\n"
     ]
    }
   ],
   "source": [
    "a = [1,2,3]\n",
    "b = [4,5,6]\n",
    "c = a + b\n",
    "print(c)"
   ]
  },
  {
   "cell_type": "code",
   "execution_count": 51,
   "metadata": {},
   "outputs": [
    {
     "name": "stdout",
     "output_type": "stream",
     "text": [
      "[5 7 9]\n"
     ]
    }
   ],
   "source": [
    "a1 = np.array([1,2,3])\n",
    "b1 = np.array([4,5,6])\n",
    "c1 = a1 + b1\n",
    "print(c1)"
   ]
  },
  {
   "cell_type": "code",
   "execution_count": 56,
   "metadata": {},
   "outputs": [
    {
     "name": "stdout",
     "output_type": "stream",
     "text": [
      "[5 7 9]\n",
      "[ 4 10 18]\n",
      "<class 'numpy.ndarray'>\n",
      "5\n",
      "7\n",
      "9\n"
     ]
    }
   ],
   "source": [
    "a1 = np.array([1,2,3])\n",
    "b1 = np.array([4,5,6])\n",
    "c1 = a1 + b1\n",
    "c2 = a1 * b1\n",
    "\n",
    "print(c1)\n",
    "print(c2)\n",
    "print(type(a1))\n",
    "print(c1[0])\n",
    "print(c1[1])\n",
    "print(c1[2])"
   ]
  },
  {
   "cell_type": "code",
   "execution_count": 61,
   "metadata": {},
   "outputs": [
    {
     "name": "stdout",
     "output_type": "stream",
     "text": [
      "[[ 6  8]\n",
      " [10 12]]\n",
      "(2, 2)\n",
      "int32\n",
      "1\n",
      "2\n",
      "3\n",
      "4\n",
      "1 ,2 ,\n",
      "3 ,4 ,\n"
     ]
    }
   ],
   "source": [
    "# 2차원 만들기\n",
    "m1 = np.array([[1,2], [3,4]])\n",
    "m2 = np.array([[5,6], [7,8]])\n",
    "m3 = m1 + m2\n",
    "print(m3)\n",
    "\n",
    "print(m1.shape) # 행렬의 열과 행의 개수 정보\n",
    "print(m1.dtype) # 저장된 데이터 타입\n",
    "\n",
    "print(m1[0, 0])\n",
    "print(m1[0, 1])\n",
    "print(m1[1, 0])\n",
    "print(m1[1, 1])\n",
    "\n",
    "for i in range(0, 2):\n",
    "    for j in range(0, 2):\n",
    "        print(m1[i,j], ',', end='')\n",
    "    print()"
   ]
  },
  {
   "cell_type": "code",
   "execution_count": 68,
   "metadata": {},
   "outputs": [
    {
     "data": {
      "text/plain": [
       "(array([1, 3, 5, 7, 9]), array([ 2,  4,  6,  8, 10]))"
      ]
     },
     "execution_count": 68,
     "metadata": {},
     "output_type": "execute_result"
    }
   ],
   "source": [
    "np.arange(0, 9)\n",
    "# 요소의 값이 1씩 증가하는 배열을 만든다.\n",
    "# 마지막 값은 빼고 생성 0부터 8까지\n",
    "\n",
    "np.arange(1, 11, 2), np.arange(2, 11, 2)"
   ]
  },
  {
   "cell_type": "code",
   "execution_count": 5,
   "metadata": {},
   "outputs": [
    {
     "name": "stdout",
     "output_type": "stream",
     "text": [
      "[ 1 10  3] [ 1 10  3]\n",
      "[ 1 10  3] [1 3 3]\n"
     ]
    }
   ],
   "source": [
    "a = np.array([1,2,3])\n",
    "b = a # 얕은 복사를 한다.\n",
    "\n",
    "a[1] = 10\n",
    "print(a, b)\n",
    "# 둘의 내용이 같다.\n",
    "\n",
    "b = a.copy() # 하드 카피 상황\n",
    "b[1] = 3\n",
    "print(a, b) # 둘의 내용이 다르다.\n"
   ]
  },
  {
   "cell_type": "code",
   "execution_count": 10,
   "metadata": {},
   "outputs": [
    {
     "name": "stdout",
     "output_type": "stream",
     "text": [
      "2\n",
      "3\n",
      "[[10  2  3]\n",
      " [ 4  5  6]]\n"
     ]
    }
   ],
   "source": [
    "# 2 by 3 행렬\n",
    "x = np.array([[1,2,3],[4,5,6]]) \n",
    "\n",
    "# 튜플 형식\n",
    "w, h = x.shape\n",
    "\n",
    "print(w) # 행\n",
    "print(h) # 열\n",
    "\n",
    "x[0,0] = 10\n",
    "print(x)"
   ]
  },
  {
   "cell_type": "code",
   "execution_count": 16,
   "metadata": {},
   "outputs": [
    {
     "name": "stdout",
     "output_type": "stream",
     "text": [
      "[0. 0. 0. 0. 0. 0. 0. 0. 0. 0.]\n",
      "[[0. 0. 0. 0. 0. 0. 0. 0. 0. 0.]\n",
      " [0. 0. 0. 0. 0. 0. 0. 0. 0. 0.]]\n",
      "[[1. 1. 1. 1. 1. 1. 1. 1. 1. 1.]\n",
      " [1. 1. 1. 1. 1. 1. 1. 1. 1. 1.]\n",
      " [1. 1. 1. 1. 1. 1. 1. 1. 1. 1.]]\n"
     ]
    }
   ],
   "source": [
    "print(np.zeros(10))\n",
    "# 꼭 괄호를 2개 해야 한다. tuple로 전달, 2 by 10개의 방\n",
    "print(np.zeros((2,10)))\n",
    "\n",
    "print(np.ones((3, 10)))\n"
   ]
  },
  {
   "cell_type": "code",
   "execution_count": 20,
   "metadata": {},
   "outputs": [
    {
     "data": {
      "text/plain": [
       "array([[[0.01906039, 0.45526346, 0.72674881, 0.79127589],\n",
       "        [0.09180314, 0.53571092, 0.1274345 , 0.26921449],\n",
       "        [0.94061636, 0.89555732, 0.70851779, 0.01627782]],\n",
       "\n",
       "       [[0.50773568, 0.59896393, 0.70733339, 0.04412863],\n",
       "        [0.35642896, 0.0315734 , 0.59980238, 0.46503467],\n",
       "        [0.37591372, 0.88946599, 0.61487743, 0.84748992]]])"
      ]
     },
     "execution_count": 20,
     "metadata": {},
     "output_type": "execute_result"
    }
   ],
   "source": [
    "np.random.rand(5)\n",
    "np.random.rand(2, 3)\n",
    "np.random.rand(2, 3, 4)"
   ]
  },
  {
   "cell_type": "code",
   "execution_count": 28,
   "metadata": {},
   "outputs": [
    {
     "name": "stdout",
     "output_type": "stream",
     "text": [
      "[0 1 2 3 4 5 6 7 8 9]\n",
      "[0 1 2 3 4 5 6 7 8 9]\n",
      "[[0 1 2 3 4]\n",
      " [5 6 7 8 9]]\n"
     ]
    }
   ],
   "source": [
    "a = np.arange(10)\n",
    "print(a)\n",
    "a.reshape(2,5)\n",
    "print(a)\n",
    "b = a.reshape(2,5)\n",
    "print(b)"
   ]
  },
  {
   "cell_type": "code",
   "execution_count": 33,
   "metadata": {},
   "outputs": [
    {
     "name": "stdout",
     "output_type": "stream",
     "text": [
      "[[ 5  5  5]\n",
      " [10 10 10]]\n",
      "[[3 3 3]\n",
      " [6 6 6]]\n",
      "[[ 4  4  4]\n",
      " [16 16 16]]\n",
      "[[40 40 40]\n",
      " [80 80 80]]\n"
     ]
    }
   ],
   "source": [
    "x = np.array([[4,4,4],[8,8,8]])\n",
    "y = np.array([[1,1,1],[2,2,2]])\n",
    "\n",
    "print(x + y)\n",
    "print(x - y)\n",
    "print(x * y)\n",
    "print(10*x)"
   ]
  },
  {
   "cell_type": "code",
   "execution_count": 36,
   "metadata": {},
   "outputs": [
    {
     "data": {
      "text/plain": [
       "4"
      ]
     },
     "execution_count": 36,
     "metadata": {},
     "output_type": "execute_result"
    }
   ],
   "source": [
    "# 산술함수\n",
    "# np.sqrt(x)\n",
    "np.exp(x)\n",
    "np.log(x)\n",
    "# np.round(x, 자릿수) >>> x:리스트, x의 반올림\n",
    "np.round(x, 3)\n",
    "np.mean(x)\n",
    "np.std(x)\n",
    "np.max(x)\n",
    "np.min(x)"
   ]
  },
  {
   "cell_type": "code",
   "execution_count": 41,
   "metadata": {},
   "outputs": [
    {
     "name": "stdout",
     "output_type": "stream",
     "text": [
      "[5.98741417e+04 3.58491285e+09 2.14643580e+14]\n",
      "[2.39789527 3.09104245 3.49650756]\n",
      "[11 22 33]\n",
      "22.0\n",
      "8.981462390204987\n",
      "33\n",
      "11\n"
     ]
    }
   ],
   "source": [
    "x = np.array([11,22,33])\n",
    "print(np.exp(x))\n",
    "print(np.log(x))\n",
    "print(np.round(x, 3))\n",
    "print(np.mean(x))\n",
    "print(np.std(x))\n",
    "print(np.max(x))\n",
    "print(np.min(x))"
   ]
  },
  {
   "cell_type": "code",
   "execution_count": 49,
   "metadata": {},
   "outputs": [
    {
     "name": "stdout",
     "output_type": "stream",
     "text": [
      "[ 0  1  2  3  4  5  6  7  8  9 10 11 12 13 14 15 16 17 18 19]\n",
      "[0 1 2 3 4 5 6 7 8 9]\n",
      "[10 11 12 13 14 15 16 17 18 19]\n",
      "[19 18 17 16 15 14 13 12 11 10  9  8  7  6  5  4  3  2  1  0]\n",
      "[10  9  8  7  6  5  4  3]\n",
      "[10  8  6  4  2]\n",
      "[1 2]\n",
      "[1 2 3 4]\n"
     ]
    }
   ],
   "source": [
    "# 슬라이싱 예제\n",
    "x = np.arange(20)\n",
    "print(x)\n",
    "print(x[:10])\n",
    "print(x[10:])\n",
    "\n",
    "print(x[::-1])  #역순으로\n",
    "print(x[10:2:-1]) #[10  9  8  7  6  5  4  3]\n",
    "print(x[10:0:-2]) #[10  8  6  4  2]\n",
    "\n",
    "print(x[1:3])\n",
    "print(x[1:5])"
   ]
  },
  {
   "cell_type": "code",
   "execution_count": 58,
   "metadata": {},
   "outputs": [
    {
     "name": "stdout",
     "output_type": "stream",
     "text": [
      "[[ 1  2  3  4  5]\n",
      " [ 6  7  8  9 10]\n",
      " [11 12 13 14 15]\n",
      " [16 17 18 19 20]\n",
      " [21 22 23 24 25]]\n",
      "[[1 2 3 4 5]]\n",
      "[[ 1  2  3  4  5]\n",
      " [ 6  7  8  9 10]]\n",
      "[[ 1  2  3  4  5]\n",
      " [ 6  7  8  9 10]\n",
      " [11 12 13 14 15]]\n",
      "[[ 1  2  3  4  5]\n",
      " [11 12 13 14 15]\n",
      " [21 22 23 24 25]]\n",
      "[[ 1  2  3  4  5]\n",
      " [16 17 18 19 20]]\n",
      "[[1 2]\n",
      " [6 7]]\n",
      "[[14 15]\n",
      " [19 20]]\n"
     ]
    }
   ],
   "source": [
    "k = [[1,2,3,4,5],\n",
    "     [6,7,8,9,10],\n",
    "     [11,12,13,14,15],\n",
    "     [16,17,18,19,20],\n",
    "     [21,22,23,24,25],]\n",
    "\n",
    "a= np.array(k)\n",
    "print(a[:])\n",
    "print(a[:1]) # 1행까지만\n",
    "print(a[:2]) # 2행까지\n",
    "print(a[:3]) # 3행까지\n",
    "\n",
    "print(a[::2]) # 1, 3, 5행 [시작:종료:step]\n",
    "print(a[::3])\n",
    "\n",
    "print(a[:2, :2])\n",
    "print(a[2:4, 3:5])"
   ]
  },
  {
   "cell_type": "code",
   "execution_count": 63,
   "metadata": {},
   "outputs": [
    {
     "name": "stdout",
     "output_type": "stream",
     "text": [
      "[False False False False  True  True  True  True]\n",
      "[ 5  8 13 17]\n",
      "[  1   1   2   3 999 999 999 999]\n"
     ]
    }
   ],
   "source": [
    "x = np.array([1,1,2,3,5,8,13,17])\n",
    "print(x>3)\n",
    "\n",
    "y = x[x>3]\n",
    "print(y)\n",
    "\n",
    "x[x>3] = 999 # 3보다 큰 요소들의 값을 999로 변경한다.\n",
    "print(x)"
   ]
  },
  {
   "cell_type": "code",
   "execution_count": 73,
   "metadata": {},
   "outputs": [
    {
     "name": "stdout",
     "output_type": "stream",
     "text": [
      "행렬의 곱 : v.dot(w)\n",
      "219\n",
      "219\n",
      "[[19 22]\n",
      " [43 50]]\n",
      "[[19 22]\n",
      " [43 50]]\n",
      "10\n",
      "[4 6]\n",
      "[3 7]\n",
      "[[1 2]\n",
      " [3 4]]\n"
     ]
    }
   ],
   "source": [
    "x = np.array([[1,2], [3,4]])\n",
    "y = np.array([[5,6], [7,8]])\n",
    "v = np.array([9, 10])\n",
    "w = np.array([11,12])\n",
    "\n",
    "print(\"행렬의 곱 : v.dot(w)\")\n",
    "print(v.dot(w)) # 행렬의 곱\n",
    "print(np.dot(v, w))\n",
    "\n",
    "print(x.dot(y))\n",
    "print(np.dot(x, y))\n",
    "\n",
    "# 모든 요소에 대한 sum을 계산한다. \"10\"이 표시됨.\n",
    "print(np.sum(x))\n",
    "# axis = 0은 각 칼럼[열] 에 대한 합계를 계산한다. '[4 6]'\n",
    "print(np.sum(x, axis=0))\n",
    "\n",
    "# axis = 1는 각 행에 대한 합계를 계산한다. \"[3 7]\"\n",
    "print(np.sum(x, axis=1))\n",
    "\n",
    "print(x)\n",
    "\n"
   ]
  },
  {
   "cell_type": "code",
   "execution_count": 75,
   "metadata": {},
   "outputs": [
    {
     "name": "stdout",
     "output_type": "stream",
     "text": [
      "[0.89410877 0.34445469 0.98611845 0.06130582 0.94016404]\n",
      "[]\n",
      "[0.89410877 0.34445469 0.98611845 0.06130582 0.94016404]\n"
     ]
    }
   ],
   "source": [
    "data = np.random.rand(5)\n",
    "print(data)\n",
    "np.save('datafile.npy', data)\n",
    "data = []\n",
    "print(data)\n",
    "data = np.load('datafile.npy')\n",
    "print(data)\n"
   ]
  },
  {
   "cell_type": "code",
   "execution_count": null,
   "metadata": {},
   "outputs": [],
   "source": [
    "# cd /var\n",
    "# sudo du -h --max-depth=1 | sort -hr | head -n 10\n"
   ]
  },
  {
   "cell_type": "code",
   "execution_count": 79,
   "metadata": {},
   "outputs": [
    {
     "data": {
      "text/plain": [
       "RangeIndex(start=0, stop=5, step=1)"
      ]
     },
     "execution_count": 79,
     "metadata": {},
     "output_type": "execute_result"
    }
   ],
   "source": [
    "import pandas as pd\n",
    "\n",
    "series1 = pd.Series([1,2,3,4,5])\n",
    "series1\n",
    "\n",
    "series2 = pd.Series([6,7,8,9,10])\n",
    "series2\n",
    "\n",
    "series1.values\n",
    "series1.index"
   ]
  },
  {
   "cell_type": "code",
   "execution_count": 87,
   "metadata": {},
   "outputs": [
    {
     "name": "stdout",
     "output_type": "stream",
     "text": [
      "a    1\n",
      "b    2\n",
      "c    3\n",
      "d    4\n",
      "dtype: int64\n",
      "1 1\n",
      "1\n",
      "1\n"
     ]
    },
    {
     "name": "stderr",
     "output_type": "stream",
     "text": [
      "C:\\Users\\shjung\\AppData\\Local\\Temp\\ipykernel_17668\\1923173594.py:6: FutureWarning: Series.__getitem__ treating keys as positions is deprecated. In a future version, integer keys will always be treated as labels (consistent with DataFrame behavior). To access a value by position, use `ser.iloc[pos]`\n",
      "  print(series3[0])\n"
     ]
    },
    {
     "data": {
      "text/plain": [
       "a    1\n",
       "b    2\n",
       "c    3\n",
       "dtype: int64"
      ]
     },
     "execution_count": 87,
     "metadata": {},
     "output_type": "execute_result"
    }
   ],
   "source": [
    "series3 = pd.Series([1,2,3,4], index=['a','b','c','d'])\n",
    "print(series3)\n",
    "\n",
    "print(series3['a'], series1[0])\n",
    "\n",
    "print(series3[0])\n",
    "print(series3['a'])\n",
    "\n",
    "series3[0:2]\n",
    "series3['a':'c']"
   ]
  },
  {
   "cell_type": "code",
   "execution_count": 91,
   "metadata": {},
   "outputs": [
    {
     "name": "stdout",
     "output_type": "stream",
     "text": [
      "apple      12\n",
      "banana    300\n",
      "tomato    120\n",
      "peach      40\n",
      "dtype: int64\n",
      "apple      12\n",
      "banana    300\n",
      "tomato    120\n",
      "peach      40\n",
      "dtype: int64\n",
      "12\n",
      "300\n",
      "120\n",
      "40\n"
     ]
    }
   ],
   "source": [
    "sdata = {'apple':12, 'banana':300, 'tomato':120, 'peach':40}\n",
    "series4 = pd.Series(sdata)\n",
    "print(series4)\n",
    "\n",
    "series4['apple':'tomato']\n",
    "print(series4[0:4])\n",
    "\n",
    "for item in series4:\n",
    "    print(item)"
   ]
  },
  {
   "cell_type": "code",
   "execution_count": 94,
   "metadata": {},
   "outputs": [
    {
     "name": "stdout",
     "output_type": "stream",
     "text": [
      "fruits\n",
      "사과      12\n",
      "바나나    300\n",
      "토마토    120\n",
      "복숭아     40\n",
      "Name: fruits_count, dtype: int64\n",
      "사과      12\n",
      "바나나    300\n",
      "토마토    120\n",
      "복숭아     40\n",
      "Name: fruits_count, dtype: int64\n"
     ]
    }
   ],
   "source": [
    "# 시리즈 타입과 인덱스에 이름을 부여할 수 있다.\n",
    "series4.name = 'fruits_count'\n",
    "series4.index.name = 'fruits'\n",
    "print(series4)\n",
    "\n",
    "# 인덱스 바꾸기\n",
    "series4.index = ['사과','바나나','토마토','복숭아']\n",
    "print(series4)\n"
   ]
  },
  {
   "cell_type": "code",
   "execution_count": 98,
   "metadata": {},
   "outputs": [
    {
     "name": "stdout",
     "output_type": "stream",
     "text": [
      "      name  year  points\n",
      "0  Beomwoo  2013     1.5\n",
      "1  Beomwoo  2014     1.7\n",
      "2  Beomwoo  2015     3.6\n",
      "3      Kim  2016     2.4\n",
      "4     Park  2015     2.9\n",
      "RangeIndex(start=0, stop=5, step=1)\n",
      "Index(['name', 'year', 'points'], dtype='object')\n",
      "[['Beomwoo' 2013 1.5]\n",
      " ['Beomwoo' 2014 1.7]\n",
      " ['Beomwoo' 2015 3.6]\n",
      " ['Kim' 2016 2.4]\n",
      " ['Park' 2015 2.9]]\n"
     ]
    }
   ],
   "source": [
    "# python의 dictionary 를 판다스의 DataFrame으로 전환하기\n",
    "# 구조가 빈 데이터 프레임을 만든다.\n",
    "data = pd.DataFrame() \n",
    "\n",
    "# 파이선의 dict type 를 dataframe구조로 만든다.\n",
    "data = {\n",
    "    'name': ['Beomwoo', 'Beomwoo', 'Beomwoo', 'Kim', 'Park'],\n",
    "    'year': [2013, 2014, 2015, 2016, 2015],\n",
    "    'points': [1.5, 1.7, 3.6, 2.4, 2.9]\n",
    "}\n",
    "\n",
    "df = pd.DataFrame(data)\n",
    "print(df)\n",
    "print(df.index)\n",
    "print(df.columns)\n",
    "print(df.values)"
   ]
  },
  {
   "cell_type": "code",
   "execution_count": 107,
   "metadata": {},
   "outputs": [
    {
     "name": "stdout",
     "output_type": "stream",
     "text": [
      "  name  kor  eng  mat\n",
      "0  김영희   90   80   40\n",
      "1  박철수   80   70   50\n",
      "2  이정인   70   60   30\n",
      "3  김다솜   60   50   20\n",
      "4  윤정훈   50   40   30\n",
      "0    김영희\n",
      "1    박철수\n",
      "2    이정인\n",
      "3    김다솜\n",
      "4    윤정훈\n",
      "Name: name, dtype: object\n",
      "0    90\n",
      "1    80\n",
      "2    70\n",
      "3    60\n",
      "4    50\n",
      "Name: kor, dtype: int64\n",
      "0    김영희\n",
      "1    박철수\n",
      "2    이정인\n",
      "3    김다솜\n",
      "4    윤정훈\n",
      "Name: name, dtype: object\n",
      "0    90\n",
      "1    80\n",
      "2    70\n",
      "3    60\n",
      "4    50\n",
      "Name: kor, dtype: int64\n",
      "  name  kor\n",
      "0  김영희   90\n",
      "1  박철수   80\n",
      "2  이정인   70\n",
      "3  김다솜   60\n",
      "4  윤정훈   50\n",
      "  name  eng\n",
      "0  김영희   80\n",
      "1  박철수   70\n",
      "2  이정인   60\n",
      "3  김다솜   50\n",
      "4  윤정훈   40\n",
      "  name  kor  eng\n",
      "0  김영희   90   80\n",
      "1  박철수   80   70\n",
      "2  이정인   70   60\n",
      "3  김다솜   60   50\n",
      "4  윤정훈   50   40\n",
      "  name  mat\n",
      "0  김영희   40\n",
      "1  박철수   50\n",
      "2  이정인   30\n",
      "3  김다솜   20\n",
      "4  윤정훈   30\n"
     ]
    }
   ],
   "source": [
    "df = pd.DataFrame({\n",
    "    'name': ['김영희', '박철수', '이정인', '김다솜', '윤정훈'],\n",
    "    'kor' : [90,80,70,60,50],\n",
    "    'eng' : [80,70,60,50,40],\n",
    "    'mat' : [40,50,30,20,30]\n",
    "})\n",
    "\n",
    "print(df)\n",
    "\n",
    "print(df.name)\n",
    "print(df.kor)\n",
    "print(df['name'])\n",
    "print(df['kor'])\n",
    "\n",
    "print(df[['name','kor']])\n",
    "print(df[['name','eng']])\n",
    "\n",
    "print(df[['name', 'kor', 'eng']])\n",
    "print(df[['name', 'mat']])\n",
    "\n"
   ]
  },
  {
   "cell_type": "code",
   "execution_count": 113,
   "metadata": {},
   "outputs": [
    {
     "name": "stdout",
     "output_type": "stream",
     "text": [
      "  name  kor  eng  mat  total        avg\n",
      "0  김영희   90   80   40      0  70.000000\n",
      "1  박철수   80   70   50      0  66.666667\n",
      "2  이정인   70   60   30      0  53.333333\n",
      "3  김다솜   60   50   20      0  43.333333\n",
      "4  윤정훈   50   40   30      0  40.000000\n",
      "  name  kor  eng  mat  total        avg\n",
      "0  김영희   90   80   40    210  70.000000\n",
      "1  박철수   80   70   50    200  66.666667\n",
      "2  이정인   70   60   30    160  53.333333\n",
      "3  김다솜   60   50   20    130  43.333333\n",
      "4  윤정훈   50   40   30    120  40.000000\n",
      "  name  kor  eng  mat  total   avg\n",
      "0  김영희   90   80   40    210  70.0\n",
      "  name  kor  eng  mat  total        avg\n",
      "1  박철수   80   70   50    200  66.666667\n"
     ]
    }
   ],
   "source": [
    "# 열 추가하기\n",
    "# 총점 추가\n",
    "df['total'] = 0\n",
    "print(df)\n",
    "\n",
    "# 총점 구하기\n",
    "df['total'] = df['kor'] + df['eng'] + df['mat']\n",
    "df\n",
    "\n",
    "# 평균 구하기\n",
    "df['avg'] = df['total'] / 3\n",
    "print(df)\n",
    "\n",
    "# 행\n",
    "print(df[0:1]) # 마지막 행은 뺀다\n",
    "print(df[1:2])\n",
    "# df[0] #이렇게는 안된다."
   ]
  },
  {
   "cell_type": "code",
   "execution_count": 117,
   "metadata": {},
   "outputs": [
    {
     "name": "stdout",
     "output_type": "stream",
     "text": [
      "             kor        eng        mat       total        avg\n",
      "count   5.000000   5.000000   5.000000    5.000000   5.000000\n",
      "mean   70.000000  60.000000  34.000000  164.000000  54.666667\n",
      "std    15.811388  15.811388  11.401754   40.373258  13.457753\n",
      "min    50.000000  40.000000  20.000000  120.000000  40.000000\n",
      "25%    60.000000  50.000000  30.000000  130.000000  43.333333\n",
      "50%    70.000000  60.000000  30.000000  160.000000  53.333333\n",
      "75%    80.000000  70.000000  40.000000  200.000000  66.666667\n",
      "max    90.000000  80.000000  50.000000  210.000000  70.000000\n",
      "  name  kor  eng  mat  total        avg\n",
      "0  김영희   90   80   40    210  70.000000\n",
      "1  박철수   80   70   50    200  66.666667\n",
      "2  이정인   70   60   30    160  53.333333\n",
      "3  김다솜   60   50   20    130  43.333333\n",
      "4  윤정훈   50   40   30    120  40.000000\n",
      "  name  kor  eng  mat  total        avg\n",
      "0  김영희   90   80   40    210  70.000000\n",
      "1  박철수   80   70   50    200  66.666667\n",
      "2  이정인   70   60   30    160  53.333333\n",
      "3  김다솜   60   50   20    130  43.333333\n",
      "4  윤정훈   50   40   30    120  40.000000\n"
     ]
    }
   ],
   "source": [
    "print(df.describe())\n",
    "print(df.head())\n",
    "print(df.tail())"
   ]
  },
  {
   "cell_type": "code",
   "execution_count": 120,
   "metadata": {},
   "outputs": [
    {
     "name": "stdout",
     "output_type": "stream",
     "text": [
      "<class 'pandas.core.series.Series'>\n",
      "-- iloc --\n",
      "김영희 90 80 40\n",
      "박철수 80 70 50\n",
      "이정인 70 60 30\n",
      "김다솜 60 50 20\n",
      "윤정훈 50 40 30\n",
      "-- loc ---\n",
      "김영희 90 80 40\n",
      "박철수 80 70 50\n",
      "이정인 70 60 30\n",
      "김다솜 60 50 20\n",
      "윤정훈 50 40 30\n"
     ]
    }
   ],
   "source": [
    "print(type(df.iloc[0]))\n",
    "# iloc(인덱스를 이용해 접근한다.)\n",
    "\n",
    "print(\"-- iloc --\")\n",
    "for i in range(0, len(df.index)):\n",
    "    print(df.iloc[i, 0], df.iloc[i, 1], df.iloc[i, 2], df.iloc[i, 3])\n",
    "    \n",
    "    \n",
    "print(\"-- loc ---\")\n",
    "for i in range(0, len(df.index)) :\n",
    "    print(df.loc[i, 'name'], df.loc[i, 'kor'], df.loc[i, 'eng'], df.loc[i, 'mat'])"
   ]
  },
  {
   "cell_type": "code",
   "execution_count": 127,
   "metadata": {},
   "outputs": [
    {
     "name": "stdout",
     "output_type": "stream",
     "text": [
      "  name  kor  eng  mat\n",
      "0  홍길동   85   80   75\n",
      "1  이순신   95   85   90\n",
      "2  임꺽정   90   90   70\n"
     ]
    }
   ],
   "source": [
    "# 기존 데이터프레임 생성\n",
    "df1 = pd.DataFrame({\n",
    "    'name': ['홍길동', '이순신'],\n",
    "    'kor': [85, 95],\n",
    "    'eng': [80, 85],\n",
    "    'mat': [75, 90]\n",
    "})\n",
    "\n",
    "# 추가할 데이터 (DataFrame 형태로 변환)\n",
    "new_row = pd.DataFrame([{\n",
    "    'name': '임꺽정',\n",
    "    'kor': 90,\n",
    "    'eng': 90,\n",
    "    'mat': 70\n",
    "}])\n",
    "\n",
    "# pd.concat() 사용\n",
    "df2 = pd.concat([df1, new_row], ignore_index=True)\n",
    "\n",
    "print(df2)# 기존 데이터프레임 생성\n",
    " "
   ]
  },
  {
   "cell_type": "code",
   "execution_count": 129,
   "metadata": {},
   "outputs": [
    {
     "data": {
      "image/png": "[encoded data removed]",
      "text/plain": [
       "<Figure size 640x480 with 1 Axes>"
      ]
     },
     "metadata": {},
     "output_type": "display_data"
    }
   ],
   "source": [
    "import numpy as np \n",
    "import matplotlib.pyplot as plt \n",
    "#%matplotlib inline #jupiter에서 \n",
    "np.random.seed(1) \n",
    "#랜덤 seed 고정 그래야 계속 동일한 값을 가져온다 \n",
    "x = np.arange(10)\n",
    "y = np.random.rand(10)\n",
    "#그래프 그리기\n",
    "plt.plot(x, y)\n",
    "plt.show()\n"
   ]
  },
  {
   "cell_type": "code",
   "execution_count": 138,
   "metadata": {},
   "outputs": [
    {
     "name": "stderr",
     "output_type": "stream",
     "text": [
      "c:\\anaconda3\\envs\\myenv1\\lib\\site-packages\\IPython\\core\\pylabtools.py:170: UserWarning: Glyph 52629 (\\N{HANGUL SYLLABLE CUG}) missing from font(s) Arial.\n",
      "  fig.canvas.print_figure(bytes_io, **kw)\n",
      "c:\\anaconda3\\envs\\myenv1\\lib\\site-packages\\IPython\\core\\pylabtools.py:170: UserWarning: Glyph 51228 (\\N{HANGUL SYLLABLE JE}) missing from font(s) Arial.\n",
      "  fig.canvas.print_figure(bytes_io, **kw)\n",
      "c:\\anaconda3\\envs\\myenv1\\lib\\site-packages\\IPython\\core\\pylabtools.py:170: UserWarning: Glyph 47785 (\\N{HANGUL SYLLABLE MOG}) missing from font(s) Arial.\n",
      "  fig.canvas.print_figure(bytes_io, **kw)\n"
     ]
    },
    {
     "data": {
      "image/png": "[encoded data removed]",
      "text/plain": [
       "<Figure size 640x480 with 1 Axes>"
      ]
     },
     "metadata": {},
     "output_type": "display_data"
    }
   ],
   "source": [
    "# 차트에 한글 지원\n",
    "import matplotlib.pyplot as plt\n",
    "\n",
    "# 차트가 한글 지원을 하지 않아서 한글 지원하게\n",
    "import matplotlib \n",
    "import matplotlib.font_manager as fm\n",
    "\n",
    "font_path = \"C:/Windows/Fonts/Arial.TTF\"\n",
    "font_name = fm.FontProperties(fname=font_path).get_name()\n",
    "\n",
    "# -안나오는 문제 처리\n",
    "matplotlib.rcParams['axes.unicode_minus'] = False\n",
    "matplotlib.rc('font', family=font_name)\n",
    "\n",
    "# %matplotlib inline #jupyter 에서\n",
    "np.random.seed(1)\n",
    "\n",
    "# 랜덤 seed 고정 그래야 계속 동일한 값을 가져온다.\n",
    "x = np.arange(10)\n",
    "y = np.random.rand(10)\n",
    "\n",
    "# 그래프 그리기\n",
    "plt.plot(x, y)\n",
    "\n",
    "plt.title(\"제목\")\n",
    "plt.xlabel(\"x축제목\")\n",
    "plt.ylabel(\"y축제목\")\n",
    "plt.show()\n"
   ]
  },
  {
   "cell_type": "code",
   "execution_count": 139,
   "metadata": {},
   "outputs": [
    {
     "data": {
      "image/png": "[encoded data removed]",
      "text/plain": [
       "<Figure size 640x480 with 1 Axes>"
      ]
     },
     "metadata": {},
     "output_type": "display_data"
    }
   ],
   "source": [
    "np.random.seed(1) # 랜덤 seed 고정, 그래야 계속 동일한 값을 가져온다.as_integer_ratio\n",
    "x = np.arange(10)\n",
    "y = 2*x + 3\n",
    "\n",
    "# 그래프 그리기\n",
    "plt.plot(x, y)\n",
    "plt.show()"
   ]
  },
  {
   "cell_type": "code",
   "execution_count": 140,
   "metadata": {},
   "outputs": [
    {
     "data": {
      "image/png": "[encoded data removed]",
      "text/plain": [
       "<Figure size 640x480 with 1 Axes>"
      ]
     },
     "metadata": {},
     "output_type": "display_data"
    }
   ],
   "source": [
    "np.random.seed(1) # 랜덤 seed 고정, 그래야 계속 동일한 값을 가져온다.\n",
    "\n",
    "\n",
    "x = np.arange(10)\n",
    "y = 2*x*x + 3*x + 4\n",
    "\n",
    "# 그래프 그리기\n",
    "plt.plot(x, y)\n",
    "plt.show()"
   ]
  },
  {
   "cell_type": "code",
   "execution_count": null,
   "metadata": {},
   "outputs": [],
   "source": []
  }
 ],
 "metadata": {
  "kernelspec": {
   "display_name": "myenv1",
   "language": "python",
   "name": "python3"
  },
  "language_info": {
   "codemirror_mode": {
    "name": "ipython",
    "version": 3
   },
   "file_extension": ".py",
   "mimetype": "text/x-python",
   "name": "python",
   "nbconvert_exporter": "python",
   "pygments_lexer": "ipython3",
   "version": "3.10.13"
  }
 },
 "nbformat": 4,
 "nbformat_minor": 2
}
