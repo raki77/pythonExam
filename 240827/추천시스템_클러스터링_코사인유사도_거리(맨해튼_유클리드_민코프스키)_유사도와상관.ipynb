{
  "nbformat": 4,
  "nbformat_minor": 0,
  "metadata": {
    "colab": {
      "provenance": []
    },
    "kernelspec": {
      "name": "python3",
      "display_name": "Python 3"
    },
    "language_info": {
      "name": "python"
    }
  },
  "cells": [
    {
      "cell_type": "code",
      "execution_count": null,
      "metadata": {
        "colab": {
          "base_uri": "https://localhost:8080/"
        },
        "id": "0kVu0r2RjFlj",
        "outputId": "122453c4-3257-472c-e8ba-8619a360ded3"
      },
      "outputs": [
        {
          "output_type": "stream",
          "name": "stdout",
          "text": [
            "Cosine Similarity: 0.9746318461970762\n"
          ]
        }
      ],
      "source": [
        "import numpy as np\n",
        "\n",
        "def cosine_similarity(vec1, vec2):\n",
        "    dot_product = np.dot(vec1, vec2)\n",
        "    norm_vec1 = np.linalg.norm(vec1)\n",
        "    norm_vec2 = np.linalg.norm(vec2)\n",
        "    return dot_product / (norm_vec1 * norm_vec2)\n",
        "\n",
        "# 예제 벡터\n",
        "vec1 = np.array([1, 2, 3])\n",
        "vec2 = np.array([4, 5, 6])\n",
        "\n",
        "# 코사인 유사도 계산\n",
        "similarity = cosine_similarity(vec1, vec2)\n",
        "print(f\"Cosine Similarity: {similarity}\")\n"
      ]
    },
    {
      "cell_type": "markdown",
      "source": [
        "Scikit-learn을 사용한 코사인 유사도 계산"
      ],
      "metadata": {
        "id": "Kif7Ia44jUrG"
      }
    },
    {
      "cell_type": "code",
      "source": [
        "from sklearn.metrics.pairwise import cosine_similarity\n",
        "\n",
        "# 예제 벡터\n",
        "vec1 = np.array([[1, 2, 3]])\n",
        "vec2 = np.array([[4, 5, 6]])\n",
        "\n",
        "# 코사인 유사도 계산\n",
        "similarity = cosine_similarity(vec1, vec2)\n",
        "print(f\"Cosine Similarity: {similarity[0][0]}\")\n"
      ],
      "metadata": {
        "colab": {
          "base_uri": "https://localhost:8080/"
        },
        "id": "rDzZ1HAujXqG",
        "outputId": "5a464602-cee9-46aa-cae6-39ef3963a6a1"
      },
      "execution_count": null,
      "outputs": [
        {
          "output_type": "stream",
          "name": "stdout",
          "text": [
            "Cosine Similarity: 0.9746318461970762\n"
          ]
        }
      ]
    },
    {
      "cell_type": "markdown",
      "source": [
        "유클리드 거리 (Euclidean Distance)"
      ],
      "metadata": {
        "id": "vlPs_B4wkLeu"
      }
    },
    {
      "cell_type": "code",
      "source": [
        "import numpy as np\n",
        "\n",
        "def euclidean_distance(point1, point2):\n",
        "    return np.linalg.norm(np.array(point1) - np.array(point2))\n",
        "\n",
        "point1 = [1, 2]\n",
        "point2 = [4, 6]\n",
        "distance = euclidean_distance(point1, point2)\n",
        "print(f\"Euclidean Distance: {distance}\")\n"
      ],
      "metadata": {
        "colab": {
          "base_uri": "https://localhost:8080/"
        },
        "id": "1qPDmZQUkMCu",
        "outputId": "a751e221-2ad9-4c0a-a1ca-1ed6647ec9db"
      },
      "execution_count": null,
      "outputs": [
        {
          "output_type": "stream",
          "name": "stdout",
          "text": [
            "Euclidean Distance: 5.0\n"
          ]
        }
      ]
    },
    {
      "cell_type": "markdown",
      "source": [
        "맨해튼 거리 (Manhattan Distance)"
      ],
      "metadata": {
        "id": "pt2cnc69kTh-"
      }
    },
    {
      "cell_type": "code",
      "source": [
        "def manhattan_distance(point1, point2):\n",
        "    return np.sum(np.abs(np.array(point1) - np.array(point2)))\n",
        "\n",
        "point1 = [1, 2]\n",
        "point2 = [4, 6]\n",
        "distance = manhattan_distance(point1, point2)\n",
        "print(f\"Manhattan Distance: {distance}\")\n"
      ],
      "metadata": {
        "colab": {
          "base_uri": "https://localhost:8080/"
        },
        "id": "n1OH-96OkUj3",
        "outputId": "936a42ec-3460-4499-d1b2-8cf4544ffe7f"
      },
      "execution_count": null,
      "outputs": [
        {
          "output_type": "stream",
          "name": "stdout",
          "text": [
            "Manhattan Distance: 7\n"
          ]
        }
      ]
    },
    {
      "cell_type": "markdown",
      "source": [
        "민코프스키 거리 (Minkowski Distance)"
      ],
      "metadata": {
        "id": "AkyhUYqJkaZ1"
      }
    },
    {
      "cell_type": "markdown",
      "source": [
        "민코프스키 거리는 유클리드 거리와 맨해튼 거리의 일반화된 형태입니다. 예를 들어, 점 A(1, 2)와 점 B(4, 6)의 민코프스키 거리를 p=3으로 구합니다."
      ],
      "metadata": {
        "id": "c3MTx3snkdWP"
      }
    },
    {
      "cell_type": "code",
      "source": [
        "def minkowski_distance(point1, point2, p):\n",
        "    return np.sum(np.abs(np.array(point1) - np.array(point2))**p)**(1/p)\n",
        "\n",
        "point1 = [1, 2]\n",
        "point2 = [4, 6]\n",
        "distance = minkowski_distance(point1, point2, p=3)\n",
        "print(f\"Minkowski Distance (p=3): {distance}\")\n"
      ],
      "metadata": {
        "colab": {
          "base_uri": "https://localhost:8080/"
        },
        "id": "wUcCnzPjklK2",
        "outputId": "76fc9a60-8795-4804-a254-89981169f8db"
      },
      "execution_count": null,
      "outputs": [
        {
          "output_type": "stream",
          "name": "stdout",
          "text": [
            "Minkowski Distance (p=3): 4.497941445275415\n"
          ]
        }
      ]
    },
    {
      "cell_type": "markdown",
      "source": [
        "클러스터링 예제 (k-means)\n",
        "예제 설명\n",
        "k-means 클러스터링은 데이터 포인트를 k개의 클러스터로 나눕니다. 예를 들어, 2차원 데이터 포인트들을 2개의 클러스터로 나눕니다."
      ],
      "metadata": {
        "id": "pnMtkpm6loAu"
      }
    },
    {
      "cell_type": "code",
      "source": [
        "from sklearn.cluster import KMeans\n",
        "import matplotlib.pyplot as plt\n",
        "\n",
        "# 예제 데이터\n",
        "data = np.array([[1, 2], [2, 3], [3, 4], [8, 9], [9, 10], [10, 11]])\n",
        "\n",
        "# k-means 클러스터링\n",
        "kmeans = KMeans(n_clusters=2, random_state=0).fit(data)\n",
        "labels = kmeans.labels_\n",
        "\n",
        "# 클러스터링 결과 시각화\n",
        "plt.scatter(data[:, 0], data[:, 1], c=labels, cmap='viridis')\n",
        "plt.scatter(kmeans.cluster_centers_[:, 0], kmeans.cluster_centers_[:, 1], s=100, c='red')\n",
        "plt.title('k-means Clustering')\n",
        "plt.xlabel('X')\n",
        "plt.ylabel('Y')\n",
        "plt.show()\n"
      ],
      "metadata": {
        "colab": {
          "base_uri": "https://localhost:8080/",
          "height": 528
        },
        "id": "bkdvNJVqlqne",
        "outputId": "be704640-3f10-4d2e-c3f8-04ba8e06267f"
      },
      "execution_count": null,
      "outputs": [
        {
          "output_type": "stream",
          "name": "stderr",
          "text": [
            "/usr/local/lib/python3.10/dist-packages/sklearn/cluster/_kmeans.py:870: FutureWarning: The default value of `n_init` will change from 10 to 'auto' in 1.4. Set the value of `n_init` explicitly to suppress the warning\n",
            "  warnings.warn(\n"
          ]
        },
        {
          "output_type": "display_data",
          "data": {
            "text/plain": [
              "<Figure size 640x480 with 1 Axes>"
            ],
            "image/png": "[encoded data removed]"
          },
          "metadata": {}
        }
      ]
    },
    {
      "cell_type": "markdown",
      "source": [
        " 추천 시스템 예제\n",
        "예제 설명\n",
        "추천 시스템은 유사도 점수를 사용하여 사용자에게 유사한 항목을 추천합니다. 예를 들어, 유사한 영화 점수를 기반으로 영화를 추천합니다."
      ],
      "metadata": {
        "id": "tvkwmuo8l4B-"
      }
    },
    {
      "cell_type": "code",
      "source": [
        "from sklearn.metrics.pairwise import cosine_similarity\n",
        "\n",
        "# 영화 평점 데이터 (사용자(행) X 영화(열))\n",
        "ratings = np.array([\n",
        "    [5, 4, 1, 0],\n",
        "    [4, 5, 1, 0],\n",
        "    [1, 1, 5, 4],\n",
        "    [0, 0, 4, 5]\n",
        "])\n",
        "\n",
        "# 코사인 유사도 계산\n",
        "similarity = cosine_similarity(ratings)\n",
        "\n",
        "# 첫 번째 사용자의 유사도\n",
        "print(f\"User 1 Similarity: {similarity[0]}\")\n"
      ],
      "metadata": {
        "colab": {
          "base_uri": "https://localhost:8080/"
        },
        "id": "PAK2Ulxylmmu",
        "outputId": "599b2b77-4544-4bca-81c9-d3a71062a5ee"
      },
      "execution_count": null,
      "outputs": [
        {
          "output_type": "stream",
          "name": "stdout",
          "text": [
            "User 1 Similarity: [1.         0.97619048 0.32943456 0.09639254]\n"
          ]
        }
      ]
    },
    {
      "cell_type": "code",
      "source": [
        "print(f\"User 2 Similarity: {similarity[1]}\")\n",
        "print(f\"User 2 Similarity: {similarity[2]}\")\n",
        "print(f\"User 2 Similarity: {similarity[3]}\")"
      ],
      "metadata": {
        "colab": {
          "base_uri": "https://localhost:8080/"
        },
        "id": "7qCVUsi1mSPO",
        "outputId": "ce702e99-7df0-4501-e978-ea7b524e769c"
      },
      "execution_count": null,
      "outputs": [
        {
          "output_type": "stream",
          "name": "stdout",
          "text": [
            "User 2 Similarity: [0.97619048 1.         0.32943456 0.09639254]\n",
            "User 2 Similarity: [0.32943456 0.32943456 1.         0.95265102]\n",
            "User 2 Similarity: [0.09639254 0.09639254 0.95265102 1.        ]\n"
          ]
        }
      ]
    },
    {
      "cell_type": "markdown",
      "source": [
        "유사도(Similarity)와 상관(Correlation)"
      ],
      "metadata": {
        "id": "yFXi6qCemR5W"
      }
    },
    {
      "cell_type": "markdown",
      "source": [
        "데이터 포인트 간의 관계를 이해하는 데 중요한 개념입니다. 이 둘은 종종 혼동되지만, 서로 다른 의미와 목적을 가집니다. 이를 명확하게 이해하고 파이썬 코드를 통해 설명하겠습니다."
      ],
      "metadata": {
        "id": "752lVmfUnEU3"
      }
    },
    {
      "cell_type": "markdown",
      "source": [
        "유사도(Similarity)  \n",
        "유사도는 두 데이터 포인트 간의 비슷한 정도를 나타냅니다. 유사도는 보통 벡터 간의 관계를 측정하며, 값이 클수록 두 벡터는 더 유사합니다.\n",
        "\n",
        "**코사인 유사도(Cosine Similarity)**는 두 벡터 간의 코사인 각도를 이용하여 유사도를 측정합니다.\n",
        "공통점: 유사도는 벡터의 방향성을 비교합니다."
      ],
      "metadata": {
        "id": "DfGOSYvwnHtm"
      }
    },
    {
      "cell_type": "markdown",
      "source": [
        "상관(Correlation)  \n",
        "상관은 두 변수 간의 선형 관계를 나타냅니다. 값은 -1에서 1 사이를 가지며, 1에 가까울수록 강한 양의 상관관계, -1에 가까울수록 강한 음의 상관관계를 의미합니다.\n",
        "\n",
        "**피어슨 상관계수(Pearson Correlation Coefficient)**는 두 변수 간의 선형 관계를 측정합니다.\n",
        "공통점: 상관은 값이 높을수록 두 변수 간의 관계가 강합니다.\n",
        "차이점: 상관은 데이터 포인트의 크기와 방향 모두를 비교하며, 주로 통계적 분석에서 사용됩니다."
      ],
      "metadata": {
        "id": "5y-XO0kbnSKH"
      }
    },
    {
      "cell_type": "code",
      "source": [
        "from scipy.stats import pearsonr\n",
        "\n",
        "# 예제 데이터\n",
        "x = np.array([1, 2, 3, 4, 5])\n",
        "y = np.array([2, 3, 4, 5, 6])\n",
        "\n",
        "correlation, _ = pearsonr(x, y)\n",
        "print(f\"Pearson Correlation: {correlation}\")\n"
      ],
      "metadata": {
        "colab": {
          "base_uri": "https://localhost:8080/"
        },
        "id": "qh52lHMQnB8g",
        "outputId": "fb313c75-c5e6-4a9d-a8f5-f6ec9c9c1b6e"
      },
      "execution_count": null,
      "outputs": [
        {
          "output_type": "stream",
          "name": "stdout",
          "text": [
            "Pearson Correlation: 1.0\n"
          ]
        }
      ]
    },
    {
      "cell_type": "markdown",
      "source": [
        "유사도와 상관의 공통점과 차이점  \n",
        "공통점  \n",
        "둘 다 두 데이터 간의 관계를 측정합니다.\n",
        "값이 높을수록 두 데이터 간의 관계가 강합니다.\n",
        "차이점  \n",
        "유사도는 주로 벡터 간의 방향성을 비교합니다. 크기와 상관없이 방향만을 고려합니다.\n",
        "상관은 두 변수 간의 선형 관계를 측정합니다. 데이터 포인트의 크기와 방향 모두를 고려합니다.\n",
        "유사도는 머신러닝과 딥러닝에서 벡터 간의 유사성 측정에 많이 사용되며, 상관은 통계적 분석에서 변수 간의 관계를 분석하는 데 많이 사용됩니다.\n",
        "\n",
        "예제 시나리오  \n",
        "유사도\n",
        "두 사용자의 영화 평점 벡터가 얼마나 유사한지 측정합니다.\n",
        "\n",
        "상관  \n",
        "두 시험 점수 간의 관계를 분석하여 높은 점수를 받은 학생이 다른 시험에서도 높은 점수를 받았는지 측정합니다."
      ],
      "metadata": {
        "id": "XAovfZOnnYqX"
      }
    },
    {
      "cell_type": "code",
      "source": [
        "import numpy as np\n",
        "from scipy.stats import pearsonr\n",
        "\n",
        "# 예제 벡터 및 데이터\n",
        "vec1 = np.array([1, 2, 3])\n",
        "vec2 = np.array([4, 5, 6])\n",
        "x = np.array([1, 2, 3, 4, 5])\n",
        "y = np.array([2, 3, 4, 5, 6])\n",
        "\n",
        "# 코사인 유사도 계산\n",
        "def cosine_similarity(vec1, vec2):\n",
        "    dot_product = np.dot(vec1, vec2)\n",
        "    norm_vec1 = np.linalg.norm(vec1)\n",
        "    norm_vec2 = np.linalg.norm(vec2)\n",
        "    return dot_product / (norm_vec1 * norm_vec2)\n",
        "\n",
        "similarity = cosine_similarity(vec1, vec2)\n",
        "print(f\"Cosine Similarity: {similarity}\")\n",
        "\n",
        "# 피어슨 상관계수 계산\n",
        "correlation, _ = pearsonr(x, y)\n",
        "print(f\"Pearson Correlation: {correlation}\")\n"
      ],
      "metadata": {
        "colab": {
          "base_uri": "https://localhost:8080/"
        },
        "id": "-DaFQdbmng-K",
        "outputId": "c981e515-1ca6-4085-912f-5b2aebd99cc1"
      },
      "execution_count": null,
      "outputs": [
        {
          "output_type": "stream",
          "name": "stdout",
          "text": [
            "Cosine Similarity: 0.9746318461970762\n",
            "Pearson Correlation: 1.0\n"
          ]
        }
      ]
    },
    {
      "cell_type": "markdown",
      "source": [
        "사인 유사도와 피어슨 상관계수를 계산하여 각 개념을 명확히 비교할 수 있습니다. 유사도는 벡터 간의 유사성을, 상관은 변수 간의 선형 관계를 나타냅니다."
      ],
      "metadata": {
        "id": "RGQFblJxnp1P"
      }
    },
    {
      "cell_type": "markdown",
      "source": [
        "Levenshtein Distance는 두 문자열 간의 최소 편집 거리를 의미합니다. 여기서 편집 작업은 삽입, 삭제, 대체 세 가지가 있으며, 각 작업은 비용이 1로 계산됩니다. Levenshtein Distance를 계산하기 위해 동적 계획법(Dynamic Programming)을 사용할 수 있습니다.\n",
        "\n",
        "아래는 Levenshtein Distance를 계산하는 파이썬 코드입니다:"
      ],
      "metadata": {
        "id": "n-P7rBUbpQyX"
      }
    },
    {
      "cell_type": "code",
      "source": [
        "def levenshtein_distance(s1, s2):\n",
        "    # s1과 s2의 길이를 구합니다.\n",
        "    len_s1, len_s2 = len(s1), len(s2)\n",
        "\n",
        "    # (len_s1 + 1) x (len_s2 + 1) 크기의 2차원 배열을 생성합니다.\n",
        "    dp = [[0 for _ in range(len_s2 + 1)] for _ in range(len_s1 + 1)]\n",
        "\n",
        "    # 첫 번째 문자열의 각 문자에 대해 편집 거리를 초기화합니다.\n",
        "    for i in range(len_s1 + 1):\n",
        "        dp[i][0] = i\n",
        "\n",
        "    # 두 번째 문자열의 각 문자에 대해 편집 거리를 초기화합니다.\n",
        "    for j in range(len_s2 + 1):\n",
        "        dp[0][j] = j\n",
        "\n",
        "    # 동적 계획법을 사용하여 편집 거리를 계산합니다.\n",
        "    for i in range(1, len_s1 + 1):\n",
        "        for j in range(1, len_s2 + 1):\n",
        "            # 두 문자가 같으면 대체 비용은 0, 다르면 1입니다.\n",
        "            cost = 0 if s1[i - 1] == s2[j - 1] else 1\n",
        "\n",
        "            # 삽입, 삭제, 대체 중 최소 비용을 선택합니다.\n",
        "            dp[i][j] = min(dp[i - 1][j] + 1,   # 삭제\n",
        "                           dp[i][j - 1] + 1,   # 삽입\n",
        "                           dp[i - 1][j - 1] + cost)  # 대체\n",
        "\n",
        "    # 최종 편집 거리를 반환합니다.\n",
        "    return dp[len_s1][len_s2]\n",
        "\n",
        "# 예제\n",
        "s1 = \"kitten\"\n",
        "s2 = \"sitting\"\n",
        "distance = levenshtein_distance(s1, s2)\n",
        "print(f\"Levenshtein Distance between '{s1}' and '{s2}' is {distance}\")\n"
      ],
      "metadata": {
        "id": "-3M2Yp_ppPm3",
        "outputId": "d2a162c9-ccb0-47fd-86e6-67c42700fcbd",
        "colab": {
          "base_uri": "https://localhost:8080/"
        }
      },
      "execution_count": null,
      "outputs": [
        {
          "output_type": "stream",
          "name": "stdout",
          "text": [
            "Levenshtein Distance between 'kitten' and 'sitting' is 3\n"
          ]
        }
      ]
    }
  ]
}