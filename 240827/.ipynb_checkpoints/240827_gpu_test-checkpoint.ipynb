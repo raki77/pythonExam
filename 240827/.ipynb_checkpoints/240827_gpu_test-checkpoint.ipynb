{
 "cells": [
  {
   "cell_type": "code",
   "metadata": {
    "ExecuteTime": {
     "end_time": "2024-08-27T09:01:45.898437Z",
     "start_time": "2024-08-27T09:01:45.494512Z"
    }
   },
   "source": [
    "import tensorflow as tf\n",
    "import time\n",
    "\n",
    "# 간단한 모델 정의 함수\n",
    "def build_model():\n",
    "    model = tf.keras.Sequential([\n",
    "        tf.keras.layers.Dense(512, activation='relu', input_shape=(784,)),\n",
    "        tf.keras.layers.Dense(512, activation='relu'),\n",
    "        tf.keras.layers.Dense(10, activation='softmax')\n",
    "    ])\n",
    "    model.compile(optimizer='adam',\n",
    "                  loss='sparse_categorical_crossentropy',\n",
    "                  metrics=['accuracy'])\n",
    "    return model\n",
    "\n",
    "# MNIST 데이터셋 로드\n",
    "def load_data():\n",
    "    (x_train, y_train), (x_test, y_test) = tf.keras.datasets.mnist.load_data()\n",
    "    x_train = x_train.reshape(-1, 784).astype('float32') / 255.0\n",
    "    x_test = x_test.reshape(-1, 784).astype('float32') / 255.0\n",
    "    return x_train, y_train, x_test, y_test\n",
    "\n",
    "# 속도 테스트 함수\n",
    "def test_device(device_name):\n",
    "    print(f\"Testing on {device_name}\")\n",
    "    \n",
    "    # 장치 할당\n",
    "    with tf.device(device_name):\n",
    "        # 데이터 로드\n",
    "        x_train, y_train, x_test, y_test = load_data()\n",
    "\n",
    "        # 모델 빌드\n",
    "        model = build_model()\n",
    "\n",
    "        # 훈련 시간 측정\n",
    "        start_time = time.time()\n",
    "        model.fit(x_train, y_train, epochs=5, batch_size=128, verbose=2)\n",
    "        end_time = time.time()\n",
    "\n",
    "        # 훈련 시간 출력\n",
    "        print(f\"{device_name} training time: {end_time - start_time:.2f} seconds\")\n",
    "\n",
    "# CPU와 GPU에서 속도 테스트\n",
    "if __name__ == \"__main__\":\n",
    "    # CPU 속도 테스트\n",
    "    test_device(\"/CPU:0\")\n",
    "    \n",
    "    # GPU 속도 테스트 (만약 GPU가 없다면 자동으로 CPU로 돌아갑니다)\n",
    "    if tf.config.list_physical_devices('GPU'):\n",
    "        test_device(\"/GPU:0\")\n",
    "    else:\n",
    "        print(\"No GPU found, skipping GPU test.\")\n"
   ],
   "outputs": [
    {
     "ename": "ModuleNotFoundError",
     "evalue": "No module named 'tensorflow'",
     "output_type": "error",
     "traceback": [
      "\u001B[1;31m---------------------------------------------------------------------------\u001B[0m",
      "\u001B[1;31mModuleNotFoundError\u001B[0m                       Traceback (most recent call last)",
      "Cell \u001B[1;32mIn[1], line 1\u001B[0m\n\u001B[1;32m----> 1\u001B[0m \u001B[38;5;28;01mimport\u001B[39;00m \u001B[38;5;21;01mtensorflow\u001B[39;00m \u001B[38;5;28;01mas\u001B[39;00m \u001B[38;5;21;01mtf\u001B[39;00m\n\u001B[0;32m      2\u001B[0m \u001B[38;5;28;01mimport\u001B[39;00m \u001B[38;5;21;01mtime\u001B[39;00m\n\u001B[0;32m      4\u001B[0m \u001B[38;5;66;03m# 간단한 모델 정의 함수\u001B[39;00m\n",
      "\u001B[1;31mModuleNotFoundError\u001B[0m: No module named 'tensorflow'"
     ]
    }
   ],
   "execution_count": 1
  },
  {
   "metadata": {
    "jupyter": {
     "is_executing": true
    }
   },
   "cell_type": "code",
   "source": "",
   "outputs": [],
   "execution_count": null
  },
  {
   "metadata": {},
   "cell_type": "code",
   "outputs": [],
   "execution_count": null,
   "source": ""
  }
 ],
 "metadata": {
  "kernelspec": {
   "display_name": "nlpdl",
   "language": "python",
   "name": "python3"
  },
  "language_info": {
   "name": "python",
   "version": "3.11.9"
  }
 },
 "nbformat": 4,
 "nbformat_minor": 2
}
