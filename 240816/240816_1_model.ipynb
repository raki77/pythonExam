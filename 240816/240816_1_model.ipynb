{
 "cells": [
  {
   "cell_type": "code",
   "execution_count": 1,
   "metadata": {},
   "outputs": [],
   "source": [
    "import tensorflow as tf"
   ]
  },
  {
   "cell_type": "code",
   "execution_count": 2,
   "metadata": {},
   "outputs": [
    {
     "data": {
      "text/plain": [
       "'2.13.0'"
      ]
     },
     "execution_count": 2,
     "metadata": {},
     "output_type": "execute_result"
    }
   ],
   "source": [
    "tf.__version__"
   ]
  },
  {
   "cell_type": "code",
   "execution_count": 3,
   "metadata": {},
   "outputs": [],
   "source": [
    "from tensorflow.keras.models import Sequential\n",
    "from tensorflow.keras.layers import Dense"
   ]
  },
  {
   "cell_type": "code",
   "execution_count": 4,
   "metadata": {},
   "outputs": [],
   "source": [
    "import pandas as pd"
   ]
  },
  {
   "cell_type": "code",
   "execution_count": 5,
   "metadata": {},
   "outputs": [
    {
     "name": "stderr",
     "output_type": "stream",
     "text": [
      "fatal: destination path 'data' already exists and is not an empty directory.\n"
     ]
    }
   ],
   "source": [
    "!git clone https://github.com/taehojo/data.git"
   ]
  },
  {
   "cell_type": "code",
   "execution_count": 6,
   "metadata": {},
   "outputs": [],
   "source": [
    "Data_set = pd.read_csv('./data/ThoraricSurgery3 copy.csv', header=None)"
   ]
  },
  {
   "cell_type": "code",
   "execution_count": 7,
   "metadata": {},
   "outputs": [],
   "source": [
    "X = Data_set.values[:,:16]\n",
    "y = Data_set.values[:, 16]"
   ]
  },
  {
   "cell_type": "code",
   "execution_count": 8,
   "metadata": {},
   "outputs": [
    {
     "data": {
      "text/plain": [
       "(470, 16)"
      ]
     },
     "execution_count": 8,
     "metadata": {},
     "output_type": "execute_result"
    }
   ],
   "source": [
    "X.shape"
   ]
  },
  {
   "cell_type": "code",
   "execution_count": 9,
   "metadata": {},
   "outputs": [
    {
     "name": "stdout",
     "output_type": "stream",
     "text": [
      "Epoch 1/5\n",
      "15/15 [==============================] - 0s 1ms/step - loss: 14.5022 - accuracy: 0.1489\n",
      "Epoch 2/5\n",
      "15/15 [==============================] - 0s 1ms/step - loss: 7.9198 - accuracy: 0.1596\n",
      "Epoch 3/5\n",
      "15/15 [==============================] - 0s 1ms/step - loss: 2.0827 - accuracy: 0.3277\n",
      "Epoch 4/5\n",
      "15/15 [==============================] - 0s 1ms/step - loss: 0.5876 - accuracy: 0.8511\n",
      "Epoch 5/5\n",
      "15/15 [==============================] - 0s 929us/step - loss: 0.6097 - accuracy: 0.8511\n"
     ]
    },
    {
     "data": {
      "text/plain": [
       "<keras.src.callbacks.History at 0x1b92fb63a00>"
      ]
     },
     "execution_count": 9,
     "metadata": {},
     "output_type": "execute_result"
    }
   ],
   "source": [
    "# 신경망 모델 설계\n",
    "model = Sequential()\n",
    "model.add(Dense(30,\n",
    "            input_dim = 16,\n",
    "            activation='relu'\n",
    "        ))\n",
    "model.add(Dense(1, activation='sigmoid'))\n",
    "model.compile(\n",
    "    loss='binary_crossentropy',\n",
    "    optimizer ='adam',\n",
    "    metrics=['accuracy']    \n",
    ")\n",
    "model.fit(X, y, epochs=5, batch_size=32)"
   ]
  },
  {
   "cell_type": "code",
   "execution_count": 10,
   "metadata": {},
   "outputs": [
    {
     "name": "stdout",
     "output_type": "stream",
     "text": [
      "Model: \"sequential\"\n",
      "_________________________________________________________________\n",
      " Layer (type)                Output Shape              Param #   \n",
      "=================================================================\n",
      " dense (Dense)               (None, 30)                510       \n",
      "                                                                 \n",
      " dense_1 (Dense)             (None, 1)                 31        \n",
      "                                                                 \n",
      "=================================================================\n",
      "Total params: 541 (2.11 KB)\n",
      "Trainable params: 541 (2.11 KB)\n",
      "Non-trainable params: 0 (0.00 Byte)\n",
      "_________________________________________________________________\n"
     ]
    }
   ],
   "source": [
    "model.summary()"
   ]
  },
  {
   "cell_type": "code",
   "execution_count": 11,
   "metadata": {},
   "outputs": [
    {
     "name": "stdout",
     "output_type": "stream",
     "text": [
      "Help on method summary in module keras.src.engine.training:\n",
      "\n",
      "summary(line_length=None, positions=None, print_fn=None, expand_nested=False, show_trainable=False, layer_range=None) method of keras.src.engine.sequential.Sequential instance\n",
      "    Prints a string summary of the network.\n",
      "    \n",
      "    Args:\n",
      "        line_length: Total length of printed lines\n",
      "            (e.g. set this to adapt the display to different\n",
      "            terminal window sizes).\n",
      "        positions: Relative or absolute positions of log elements\n",
      "            in each line. If not provided, becomes\n",
      "            `[0.3, 0.6, 0.70, 1.]`. Defaults to `None`.\n",
      "        print_fn: Print function to use. By default, prints to `stdout`.\n",
      "            If `stdout` doesn't work in your environment, change to `print`.\n",
      "            It will be called on each line of the summary.\n",
      "            You can set it to a custom function\n",
      "            in order to capture the string summary.\n",
      "        expand_nested: Whether to expand the nested models.\n",
      "            Defaults to `False`.\n",
      "        show_trainable: Whether to show if a layer is trainable.\n",
      "            Defaults to `False`.\n",
      "        layer_range: a list or tuple of 2 strings,\n",
      "            which is the starting layer name and ending layer name\n",
      "            (both inclusive) indicating the range of layers to be printed\n",
      "            in summary. It also accepts regex patterns instead of exact\n",
      "            name. In such case, start predicate will be the first element\n",
      "            it matches to `layer_range[0]` and the end predicate will be\n",
      "            the last element it matches to `layer_range[1]`.\n",
      "            By default `None` which considers all layers of model.\n",
      "    \n",
      "    Raises:\n",
      "        ValueError: if `summary()` is called before the model is built.\n",
      "\n"
     ]
    }
   ],
   "source": [
    "help(model.summary)"
   ]
  },
  {
   "cell_type": "code",
   "execution_count": null,
   "metadata": {},
   "outputs": [],
   "source": []
  },
  {
   "cell_type": "code",
   "execution_count": null,
   "metadata": {},
   "outputs": [],
   "source": []
  }
 ],
 "metadata": {
  "kernelspec": {
   "display_name": "cv",
   "language": "python",
   "name": "python3"
  },
  "language_info": {
   "codemirror_mode": {
    "name": "ipython",
    "version": 3
   },
   "file_extension": ".py",
   "mimetype": "text/x-python",
   "name": "python",
   "nbconvert_exporter": "python",
   "pygments_lexer": "ipython3",
   "version": "3.8.19"
  }
 },
 "nbformat": 4,
 "nbformat_minor": 2
}
